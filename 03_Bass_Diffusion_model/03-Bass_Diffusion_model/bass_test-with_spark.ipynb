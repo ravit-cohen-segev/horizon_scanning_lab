{
 "cells": [
  {
   "cell_type": "code",
   "execution_count": 1,
   "id": "59d52c08",
   "metadata": {},
   "outputs": [],
   "source": [
    "import warnings\n",
    "from tqdm import tqdm\n",
    "warnings.filterwarnings('ignore')"
   ]
  },
  {
   "cell_type": "code",
   "execution_count": 2,
   "id": "4d8239a1",
   "metadata": {},
   "outputs": [],
   "source": [
    "from scipy.optimize import leastsq\n",
    "from scipy.optimize import least_squares\n",
    "from scipy.optimize import curve_fit\n",
    "import matplotlib.pyplot as plt\n",
    "import numpy as np\n",
    "import pandas as pd\n",
    "from sklearn.preprocessing import MinMaxScaler\n",
    "from pathlib import Path\n",
    "import itertools\n",
    "import sys\n",
    "from sklearn.preprocessing import MinMaxScaler\n",
    "import statistics\n",
    "from IPython.display import clear_output\n",
    "import time\n",
    "import pickle\n",
    "from scipy import spatial\n",
    "from scipy.signal import find_peaks, peak_prominences"
   ]
  },
  {
   "cell_type": "code",
   "execution_count": 3,
   "id": "cc9f45f7",
   "metadata": {},
   "outputs": [],
   "source": [
    "top_n=10 #top subsets to recalculate weights for\n",
    "top_s=10\n",
    "factor=10 #bass precision factor\n",
    "N=60 # months to smooth"
   ]
  },
  {
   "cell_type": "code",
   "execution_count": 4,
   "id": "41a8f094",
   "metadata": {},
   "outputs": [],
   "source": [
    "#open weighted features\n",
    "cost_frame={}\n",
    "with open('weighted_features_10t.pickle', 'rb') as handle:\n",
    "    cost_frame = pickle.load(handle)"
   ]
  },
  {
   "cell_type": "code",
   "execution_count": 6,
   "id": "a91c8ba5",
   "metadata": {},
   "outputs": [],
   "source": [
    "#load igor clusters file\n",
    "clustered_techs_dict={}\n",
    "with open('clustered_techs_dict.pickle', 'rb') as handle:\n",
    "    clustered_techs_dict = pickle.load(handle)"
   ]
  },
  {
   "cell_type": "code",
   "execution_count": 7,
   "id": "2e716f68",
   "metadata": {},
   "outputs": [],
   "source": [
    "#create a reverse dict, for each tech list possible anchors\n",
    "techs_dict={}\n",
    "for key,val in clustered_techs_dict.items():\n",
    "    for tech in val:\n",
    "        if tech not in techs_dict:\n",
    "            techs_dict[tech]={}\n",
    "        for anchor in key[0]:\n",
    "            if anchor not in techs_dict[tech]:\n",
    "                techs_dict[tech][anchor]=0\n",
    "            techs_dict[tech][anchor]=techs_dict[tech][anchor]+key[1]\n",
    "        techs_dict[tech]=techs_dict[tech]"
   ]
  },
  {
   "cell_type": "code",
   "execution_count": 8,
   "id": "db1ad025",
   "metadata": {},
   "outputs": [],
   "source": [
    "filepath=\"./features/\"\n",
    "scaler = MinMaxScaler()"
   ]
  },
  {
   "cell_type": "code",
   "execution_count": 9,
   "id": "bd23df33",
   "metadata": {},
   "outputs": [],
   "source": [
    "tech_list=list(techs_dict.keys())\n",
    "\n",
    "anchors=['Lithium ion battery',\n",
    " 'Cryptocurrency',\n",
    " '5g',\n",
    " 'Open source model',\n",
    " 'Facial recognition',\n",
    " 'Cloud computing',\n",
    " 'Streaming television',\n",
    " 'e-Reader',\n",
    " 'Capsule endoscopy',\n",
    " 'Quadcopter',\n",
    " 'Electronic cigarette',\n",
    " 'Miniaturized satellite',\n",
    " 'Electric vehicle']\n",
    "anchors = [x.lower() for x in anchors]"
   ]
  },
  {
   "cell_type": "code",
   "execution_count": 10,
   "id": "f5aa974c",
   "metadata": {},
   "outputs": [],
   "source": [
    "for item in ['streaming television', 'miniaturized satellite']:\n",
    "    anchors.remove(item)"
   ]
  },
  {
   "cell_type": "code",
   "execution_count": 11,
   "id": "a6f97d1a",
   "metadata": {},
   "outputs": [
    {
     "name": "stdout",
     "output_type": "stream",
     "text": [
      "wiki_edits_monthly_count (419, 142)\n",
      "wiki_edits_monthly_max_size (419, 142)\n",
      "news_R&D (226, 142)\n",
      "scientific_emergence (185, 142)\n",
      "news_China (231, 142)\n",
      "news_India (204, 142)\n",
      "news_Israel (110, 142)\n",
      "All_14112021210257. (430, 142)\n",
      "Business & Industrial_14112021210433. (428, 142)\n",
      "Finance_14112021210413. (411, 142)\n",
      "Law & Government_14112021210335. (422, 142)\n",
      "News_14112021210354. (415, 142)\n",
      "No_publications_26102021212111. (440, 142)\n",
      "Science_14112021210316. (428, 142)\n",
      "wiki_views. (351, 142)\n",
      "word_freq_techs_table. (430, 142)\n"
     ]
    }
   ],
   "source": [
    "#features smoothing loops\n",
    "#for each remporal feature set the X axis as montly date from 1.1.10 to 1.11.21\n",
    "\n",
    "f_lst={}\n",
    "idx = pd.date_range('01-01-2010', '11-1-2021', freq='M')+ pd.DateOffset(1)\n",
    "files = Path(filepath).rglob(\"*.csv\")\n",
    "for file in list(files)[:]:\n",
    "    df=pd.read_csv(file,index_col=0,header=0).T\n",
    "    df.iloc[:,:]=scaler.fit_transform(df.iloc[:,:])\n",
    "    df.index = pd.DatetimeIndex(df.index)\n",
    "    df = df.reindex(idx, fill_value=0)\n",
    "    df=df.T\n",
    "    df.index=df.index.str.lower()\n",
    "    anc_len=len(list(set(anchors)-set(list(df.index))))\n",
    "    if anc_len<1:\n",
    "        print(file.name[:-4],df.shape)\n",
    "        f_lst[file.name[:-4]]=df.copy()\n",
    "    else:\n",
    "        pass\n",
    "#         print(\"csv error:\",anc_len,file.name[:-4],df.shape,)\n",
    "\n",
    "\n",
    "files = Path(filepath).rglob(\"*.xlsx\")    \n",
    "for file in list(files)[:]:\n",
    "    \n",
    "    df=pd.read_excel(file,index_col=0).T\n",
    "    \n",
    "    df.iloc[:,:]=scaler.fit_transform(df.iloc[:,:])\n",
    "    df.index = pd.DatetimeIndex(df.index)\n",
    "    df = df.reindex(idx, fill_value=0)\n",
    "    df=df.T\n",
    "    df.index=df.index.str.lower()\n",
    "    anc_len=len(list(set(anchors)-set(list(df.index))))\n",
    "    if anc_len<1:\n",
    "        print(file.name[:-4],df.shape)\n",
    "        f_lst[file.name[:-4]]=df.copy()\n",
    "    else:\n",
    "        print(\"excel error:\",anc_len,file.name[:-4],df.shape,)\n"
   ]
  },
  {
   "cell_type": "raw",
   "id": "b166e6cc-5e67-449a-8987-a97c33616ff8",
   "metadata": {},
   "source": [
    "input:\n",
    "sales - raw data of sales or in our case social network chatter\n",
    "t - the time period the sales parameter represent\n",
    "plot - if true it will plot every selected bass\n",
    "overfit - reduce bass parameters creating an overfit to compare the overfit result to the normal result\n",
    "graph - if true return the resulted bass, else return only the least squares fit error\n",
    "\n",
    "output:\n",
    "sales_pdf - the resulted bass graph\n",
    "res.x - the resulted P\n",
    "res.cost - squares fit error"
   ]
  },
  {
   "cell_type": "code",
   "execution_count": 12,
   "id": "4e3297bb",
   "metadata": {},
   "outputs": [],
   "source": [
    "def plot_bass(sales,t,name,plot=True,overfit=False,graph=False):\n",
    "    c_sales=np.cumsum(sales)\n",
    "    # initial variables(M, P & Q)\n",
    "    m=sales.sum()\n",
    "    vars = [0.003,0.038,m]\n",
    "\n",
    "    # residual (error) function\n",
    "    \n",
    "    def residual(vars,m, t, sales):\n",
    "        \n",
    "        M=m\n",
    "        if overfit:\n",
    "            M = vars[2]\n",
    "        P = vars[0]\n",
    "        Q = vars[1]\n",
    "        Bass = M * (((P+Q)**2/P)*np.exp(-(P+Q)*t))/(1+(Q/P)*np.exp(-(P+Q)*t))**2 \n",
    "        return (Bass - (sales))\n",
    "\n",
    "    # non linear least square fitting\n",
    "    #varfinal,success\n",
    "    if overfit:\n",
    "        res= least_squares(residual, vars,\n",
    "#                            bounds=([0.001, 0.01,0], [0.01,0.1,np.inf]), \n",
    "                           args=(m,t, sales))\n",
    "    else:\n",
    "        res= least_squares(residual, vars,\n",
    "                           bounds=([0.001, 0.01,0], [0.01,0.1,np.inf]), \n",
    "                           args=(m,t, sales))\n",
    "    \n",
    "\n",
    "    # estimated coefficients\n",
    "    \n",
    "    p = res.x[0]\n",
    "    q = res.x[1]\n",
    "    \n",
    "    m=m\n",
    "    if overfit:\n",
    "        m = res.x[2]\n",
    "    \n",
    "    if plot:\n",
    "        print(residual([p,q,m],m, t, sales).mean())\n",
    "        print(f\"m:{m} \\np:{p} \\nq:{q} \\n\")\n",
    "    \n",
    "#     print(res)\n",
    "#     sys.exit()\n",
    "    \n",
    "    \n",
    "    #sales plot (pdf)\n",
    "    #time interpolation\n",
    "    tp=(np.linspace(1.0, sales.shape[0]*factor, num=sales.shape[0]*factor))/factor\n",
    "    cofactor= np.exp(-(p+q) * tp)\n",
    "    sales_pdf= m* (((p+q)**2/p)*cofactor)/(1+(q/p)*cofactor)**2\n",
    "    sales_cdf= m*(1-cofactor)/(1+(q/p)*cofactor)\n",
    "    if plot:\n",
    "        plt.subplot(1, 2, 1)\n",
    "        \n",
    "        plt.plot(tp, sales_pdf,t,sales)\n",
    "        plt.title(f'{name} pdf')\n",
    "        plt.legend(['Fit', 'True'])\n",
    "\n",
    "\n",
    "        # Cumulative sales (cdf)\n",
    "        plt.subplot(1, 2, 2)\n",
    "        \n",
    "        plt.plot(tp, sales_cdf,t,c_sales)\n",
    "        plt.title('Sales cdf')\n",
    "        plt.legend(['Fit', 'True'])\n",
    "\n",
    "        plt.show()\n",
    "    if graph:\n",
    "        return sales_pdf,res.x,res.cost\n",
    "    else:\n",
    "        return res.cost"
   ]
  },
  {
   "cell_type": "raw",
   "id": "377184ed-4fd1-4f44-a920-be96dc530bde",
   "metadata": {},
   "source": [
    "input:\n",
    "anchors_list- anchor subset\n",
    "weight - weight for each feature\n",
    "subset - selected feature subset\n",
    "\n",
    "output:\n",
    "g_anchor_bass - idle bass graph for selected anchors and features"
   ]
  },
  {
   "cell_type": "code",
   "execution_count": null,
   "id": "5afebef2",
   "metadata": {},
   "outputs": [],
   "source": [
    "def get_best_anchor_bass(anchors_list,weight,subset):\n",
    "    errors=[]\n",
    "    # subsets=\n",
    "    cost_weighted_list=[]\n",
    "    #     try:\n",
    "    \n",
    "    cost=[]\n",
    "    of_cost=[]\n",
    "    final_bass=0\n",
    "    pqm=[]\n",
    "    err=100\n",
    "    for name in anchors_list:\n",
    "        sales=[]\n",
    "        j=0\n",
    "        for w,s in zip(weight,subset):\n",
    "            df=f_lst[s]\n",
    "            if (df.loc[df.index.str.lower()==name.lower(),:].shape[0]>0):\n",
    "                sales.append(df.loc[df.index.str.lower()==name.lower(),:].values[0]*w)\n",
    "            j+=1\n",
    "    #             sales.append(df.loc[df.index.str.lower()==name.lower(),:].values[0])\n",
    "        sales=np.add.reduce(sales)\n",
    "        if sales.sum()>0:\n",
    "            sales=np.trim_zeros(sales, 'f').astype(float)\n",
    "            sales=np.convolve(sales, np.ones(N)/N, mode='valid')\n",
    "            t= np.linspace(1.0, sales.shape[0], num=sales.shape[0])\n",
    "            temp_final_bass,temp_pqm,temp_err=plot_bass(sales,t,name,plot=False,graph=True)\n",
    "            peaks, _ = find_peaks(temp_final_bass, height=0)\n",
    "            if peaks:\n",
    "                if temp_err<err:\n",
    "                    final_bass=temp_final_bass\n",
    "                    err=temp_err\n",
    "\n",
    "        else:\n",
    "            errors.append(f\"subset:{subset} name:{name}\")\n",
    "    g_anchor_bass=scaler.fit_transform(final_bass.reshape(-1, 1))\n",
    "    g_anchor_bass=(g_anchor_bass-g_anchor_bass[1][0])/(1-g_anchor_bass[1][0])\n",
    "    return g_anchor_bass"
   ]
  },
  {
   "cell_type": "raw",
   "id": "a2fdf544-aa41-4001-b602-29d88c955b2a",
   "metadata": {},
   "source": [
    "input:\n",
    "g_anchor_bass - idle bass graph\n",
    "g_tech - tech graph\n",
    "plot - if true then the function plot the result\n",
    "method=\"lstsqr\" - fit method\n",
    "start=0.3 - minimum Y axis fit value\n",
    "\n",
    "output:\n",
    "res - resulted graph\n",
    "aa - partial resulted graph\n",
    "fit_x - value on X axis\n",
    "fit_y - Value on Y axis"
   ]
  },
  {
   "cell_type": "code",
   "execution_count": 15,
   "id": "1d5eadd5",
   "metadata": {},
   "outputs": [],
   "source": [
    "\n",
    "def fit_tech_to_bass(g_anchor_bass,g_tech,plot=False,method=\"lstsqr\",start=0.3):\n",
    "    fit_x=0\n",
    "    fit_y=0\n",
    "    diff=0.05\n",
    "#     steps=np.arange(0.1,1+diff,diff)\n",
    "    sim=1\n",
    "    aa=0\n",
    "\n",
    "#     for i in tqdm(range(12,len(g_anchor_bass)-len(g_tech))):\n",
    "    while 1:        \n",
    "        for i in range(1,len(g_anchor_bass)-len(g_tech)):\n",
    "            steps=np.arange(start,1+diff,diff)\n",
    "            for step in steps:\n",
    "                a=g_tech.copy()\n",
    "                a=np.interp(np.arange(0, len(a), len(a)/(len(a)+i)), np.arange(0, len(a)), a)\n",
    "                \n",
    "                a=a*step\n",
    "                if method==\"Cosine\":\n",
    "                    result = spatial.distance.cosine(a ,g_anchor_bass[:len(a),0])\n",
    "                elif method==\"lstsqr\":\n",
    "                    result = np.mean(np.square(a - g_anchor_bass[:len(a),0]))\n",
    "                if sim>result:\n",
    "                    fit_x=i\n",
    "                    fit_y=step\n",
    "                    sim=result\n",
    "    #                 print(sim)\n",
    "                    aa=a.copy()\n",
    "        if fit_y>(start+diff*2):\n",
    "            break\n",
    "        else:\n",
    "            start=start+diff\n",
    "        if start>1:\n",
    "            break \n",
    "        \n",
    "    res=1 - spatial.distance.cosine(a , g_anchor_bass[:len(a)])\n",
    "#     plt.plot(g_anchor_bass)\n",
    "#     plt.plot(aa)\n",
    "#     plt.show()\n",
    "\n",
    "    \n",
    "    return res,aa,fit_x,fit_y"
   ]
  },
  {
   "cell_type": "raw",
   "id": "d244c78b-69f8-47fa-8450-e52c363c2677",
   "metadata": {},
   "source": [
    "input:\n",
    "tech_name - tech name\n",
    "length=1 - length threshold for featire set selection\n",
    "plot=False - if true plot graphs\n",
    "\n",
    "output:\n",
    "d - dictionary of collected tech bass data"
   ]
  },
  {
   "cell_type": "code",
   "execution_count": 16,
   "id": "23032fd7",
   "metadata": {},
   "outputs": [],
   "source": [
    "\n",
    "def Diffusion_tech_fit(tech_name,length=1,plot=False):\n",
    "#     print(tech_name)\n",
    "    \n",
    "    anchors_list=list(techs_dict[tech_name].keys())\n",
    "\n",
    "#     print(anchors_list)\n",
    "\n",
    "    df_w_metric=cost_frame.copy()\n",
    "    while (1):\n",
    "        df_w_metric=df_w_metric[df_w_metric[\"anchor_list\"].astype(str)==str(anchors_list)]\n",
    "#         print(df_w_metric.shape)\n",
    "        if df_w_metric.shape[0]>0:\n",
    "            break\n",
    "        else:\n",
    "            anchors_list=anchors_list[:-1]\n",
    "        if len(anchors_list)==0:\n",
    "            sys.exit()\n",
    "            \n",
    "# #     display(df_w_metric)\n",
    "#     subset_dict={}\n",
    "#     for subsets in df_w_metric[\"subset\"]:\n",
    "#         temp_sum=0\n",
    "# #         print(subsets)\n",
    "#         for subset in subsets:\n",
    "#             df_test=f_lst[subset].copy()\n",
    "#             if df_test[df_test.index==tech_name].shape[0]>0:\n",
    "#                 temp_sum+=1\n",
    "#         if temp_sum==len(subset):\n",
    "#             print(subset)\n",
    "#             sys.exit()\n",
    "                \n",
    "                \n",
    "            \n",
    "#             break\n",
    "#         temp_sum\n",
    "   \n",
    "    threshold=0.5\n",
    "    g_tech=0\n",
    "\n",
    "    if threshold<min(df_w_metric[\"ratio\"].values):\n",
    "        min_threshold_reached=True\n",
    "    conds=(df_w_metric[\"ratio\"]>threshold) & (df_w_metric[\"length\"]>length)\n",
    "    while df_w_metric[conds].shape[0]==0:\n",
    "        threshold*=0.9\n",
    "        conds=(df_w_metric[\"ratio\"]>threshold) & (df_w_metric[\"length\"]>length)\n",
    "\n",
    "    df_w_metric[conds].reset_index()\n",
    "\n",
    "    ii=0\n",
    "\n",
    "    subset=0\n",
    "    for row in df_w_metric.iterrows():\n",
    "        subset=row[1][\"subset\"]\n",
    "        weight=row[1][\"weights\"]\n",
    "        \n",
    "        g_tech=get_tech_graph(tech_name,weight,subset)\n",
    "        ii+=1\n",
    "        if not isinstance(g_tech,int):\n",
    "            if g_tech.shape[0]>0:\n",
    "                break\n",
    "    ii=0\n",
    "    if isinstance(g_tech,int):\n",
    "        for row in df_w_metric.iterrows():\n",
    "            subset=row[1][\"subset\"]\n",
    "            weight=row[1][\"weights\"]\n",
    "            g_tech=get_tech_graph(tech_name,weight,subset,diff_test=False)\n",
    "            ii+=1\n",
    "            if not isinstance(g_tech,int):\n",
    "                if g_tech.shape[0]>0:\n",
    "                    break\n",
    "\n",
    "    ##find minima\n",
    "#     print(g_tech)\n",
    "    g_tech=g_tech[:,0]*-1\n",
    "    peaks, properties = find_peaks(g_tech, prominence=(0.2,20))\n",
    "    ##find maxima\n",
    "    g_tech=g_tech*-1\n",
    "    peaks_max, properties = find_peaks(g_tech, prominence=(0.2,20))\n",
    "    \n",
    "    \n",
    "    \n",
    "   \n",
    "\n",
    "\n",
    "\n",
    "    if plot:\n",
    "        plt.subplot(2, 2, 1)\n",
    "        plt.plot(g_tech)\n",
    "        plt.plot(peaks, g_tech[peaks], \"x\")\n",
    "        plt.plot(peaks_max, g_tech[peaks_max], \"o\")\n",
    "#         axs[0].show()\n",
    "    slice_point=peaks[g_tech[peaks]<0.1]\n",
    "    if slice_point.shape[0]>0:\n",
    "        slice_point=slice_point[-1]\n",
    "        g_tech=g_tech[slice_point:]\n",
    "        if plot:\n",
    "            plt.subplot(2, 2, 2)\n",
    "            plt.plot(g_tech[slice_point:])\n",
    "#             axs[1].show()\n",
    "\n",
    "#     print(g_tech)\n",
    "    tech_len=g_tech.shape[0]\n",
    "    g_anchor_bass=get_best_anchor_bass(anchors_list,weight,subset)\n",
    "    peaks, _ = find_peaks(g_anchor_bass[:,0], height=0.5)\n",
    "    \n",
    "    peaks_max, properties = find_peaks(g_tech, prominence=(0.2,20))\n",
    "    \n",
    "    start=0.3\n",
    "    method=\"lstsqr\"\n",
    "    if peaks_max.shape[0]>0:\n",
    "        if max(g_tech[peaks_max])==max(g_tech):\n",
    "            method=\"Cosine\"\n",
    "            start=0.7\n",
    "\n",
    "    res,a,fit_x,fit_y=fit_tech_to_bass(g_anchor_bass,g_tech,plot=plot,method=method,start=start)\n",
    "#     print(len(g_tech),peaks[0],fit_x+len(g_tech))\n",
    "    diffusion_precent=(len(g_tech)+fit_x)/peaks[0]\n",
    "    years=peaks[0]*diffusion_precent/12\n",
    "#     a=g_tech.copy()*fit_y\n",
    "#     a=np.interp(np.arange(0, len(a), len(a)/(len(a)+fit_x)), np.arange(0, len(a)), a)\n",
    "    if plot:\n",
    "        plt.subplot(2, 2, 3)\n",
    "#         print(f\"Tech: {tech_name} ,Diffusion:{diffusion_precent} Cosine similarity: {res}\")\n",
    "#         print(fit_x,fit_y)\n",
    "        \n",
    "        \n",
    "        plt.plot(g_anchor_bass[g_anchor_bass>=0])\n",
    "        plt.plot(a)\n",
    "#         axs[2].show()\n",
    "        plt.show()\n",
    "    return {\"name\":tech_name,\"subset\":subset,\"weights\":weight,\"years\":years,\n",
    "            \"score\":res,\"diffusion\":diffusion_precent,\n",
    "            \"fit x\":fit_x,\"fit y\":fit_y,\"tech_len\":tech_len,\n",
    "           \"tech_graph\":a,\"tech_bass\":g_anchor_bass,\"peaks\":peaks_max}"
   ]
  },
  {
   "cell_type": "raw",
   "id": "139796c7-ad46-4d50-8b75-fd6305f59d83",
   "metadata": {},
   "source": [
    "input:\n",
    "tech_name - tech name\n",
    "weight - weight for each feature\n",
    "subset - selected feature subset\n",
    "diff test - internal check to see if the data is not a horizontal line\n",
    "\n",
    "output:\n",
    "g_tech - tech graph recived from weighted features"
   ]
  },
  {
   "cell_type": "code",
   "execution_count": 17,
   "id": "92c75e50",
   "metadata": {},
   "outputs": [],
   "source": [
    "def get_tech_graph(tech_name,weight,subset,diff_test=True):\n",
    "    g_tech=[]\n",
    "    for w,s in zip(weight,subset):\n",
    "            df=f_lst[s].copy()\n",
    "            if df.loc[df.index.str.lower()==tech_name.lower(),:].values.shape[0]>0:\n",
    "                g_tech.append(df.loc[df.index.str.lower()==tech_name.lower(),:].values[0]*w)\n",
    "    \n",
    "    g_tech=np.add.reduce(g_tech)\n",
    "#     print(\"$$$$$\",np.diff(g_tech))\n",
    "#     plt.plot(g_tech)\n",
    "#     plt.show()\n",
    "    if diff_test:\n",
    "        if np.diff(g_tech).sum()==0:\n",
    "            return 0\n",
    "    \n",
    "    if(g_tech-min(g_tech)).sum()==0:\n",
    "        return 0\n",
    "    g_tech=np.trim_zeros(g_tech, 'f').astype(float)\n",
    "    g_tech=np.convolve(g_tech, np.ones(N)/N, mode='valid')\n",
    "    t= np.linspace(1.0, g_tech.shape[0], num=g_tech.shape[0])\n",
    "    \n",
    "    g_tech=scaler.fit_transform(g_tech.reshape(-1, 1))\n",
    "#     print(\"$$$$$\",g_tech.shape)\n",
    "    return g_tech"
   ]
  },
  {
   "cell_type": "code",
   "execution_count": 18,
   "id": "87ff32a9",
   "metadata": {},
   "outputs": [],
   "source": [
    "score_lst={}"
   ]
  },
  {
   "cell_type": "code",
   "execution_count": 19,
   "id": "45043d84",
   "metadata": {},
   "outputs": [
    {
     "name": "stderr",
     "output_type": "stream",
     "text": [
      " 12%|█████████▍                                                                       | 44/376 [01:10<07:36,  1.37s/it]"
     ]
    },
    {
     "name": "stdout",
     "output_type": "stream",
     "text": [
      "stem-cell therapy\n",
      "'int' object is not subscriptable\n",
      "\n",
      "\n",
      "\n",
      "\n"
     ]
    },
    {
     "name": "stderr",
     "output_type": "stream",
     "text": [
      " 24%|███████████████████▌                                                             | 91/376 [02:22<07:24,  1.56s/it]"
     ]
    },
    {
     "name": "stdout",
     "output_type": "stream",
     "text": [
      "ai arbitration\n",
      "diff requires input that is at least one dimensional\n",
      "\n",
      "\n",
      "\n",
      "\n",
      "anti-degenerative medicine\n",
      "diff requires input that is at least one dimensional\n",
      "\n",
      "\n",
      "\n",
      "\n"
     ]
    },
    {
     "name": "stderr",
     "output_type": "stream",
     "text": [
      " 25%|████████████████████▎                                                            | 94/376 [02:23<03:25,  1.37it/s]"
     ]
    },
    {
     "name": "stdout",
     "output_type": "stream",
     "text": [
      "deep trench capacitor\n",
      "diff requires input that is at least one dimensional\n",
      "\n",
      "\n",
      "\n",
      "\n",
      "dna-templated organic synthesis\n",
      "diff requires input that is at least one dimensional\n",
      "\n",
      "\n",
      "\n",
      "\n"
     ]
    },
    {
     "name": "stderr",
     "output_type": "stream",
     "text": [
      " 26%|████████████████████▉                                                            | 97/376 [02:25<03:20,  1.39it/s]"
     ]
    },
    {
     "name": "stdout",
     "output_type": "stream",
     "text": [
      "haptic feedback systems\n",
      "diff requires input that is at least one dimensional\n",
      "\n",
      "\n",
      "\n",
      "\n",
      "holograms for solar\n",
      "diff requires input that is at least one dimensional\n",
      "\n",
      "\n",
      "\n",
      "\n"
     ]
    },
    {
     "name": "stderr",
     "output_type": "stream",
     "text": [
      " 27%|█████████████████████▋                                                          | 102/376 [02:30<04:40,  1.03s/it]"
     ]
    },
    {
     "name": "stdout",
     "output_type": "stream",
     "text": [
      "nanocharging solar\n",
      "diff requires input that is at least one dimensional\n",
      "\n",
      "\n",
      "\n",
      "\n"
     ]
    },
    {
     "name": "stderr",
     "output_type": "stream",
     "text": [
      " 28%|██████████████████████▏                                                         | 104/376 [02:31<03:50,  1.18it/s]"
     ]
    },
    {
     "name": "stdout",
     "output_type": "stream",
     "text": [
      "neuron control\n",
      "diff requires input that is at least one dimensional\n",
      "\n",
      "\n",
      "\n",
      "\n",
      "next gen web search\n",
      "diff requires input that is at least one dimensional\n",
      "\n",
      "\n",
      "\n",
      "\n",
      "photonic laser thruster\n",
      "diff requires input that is at least one dimensional\n",
      "\n",
      "\n",
      "\n",
      "\n"
     ]
    },
    {
     "name": "stderr",
     "output_type": "stream",
     "text": [
      " 29%|███████████████████████▍                                                        | 110/376 [02:37<05:05,  1.15s/it]"
     ]
    },
    {
     "name": "stdout",
     "output_type": "stream",
     "text": [
      "ultradense molecular memory\n",
      "diff requires input that is at least one dimensional\n",
      "\n",
      "\n",
      "\n",
      "\n"
     ]
    },
    {
     "name": "stderr",
     "output_type": "stream",
     "text": [
      " 30%|███████████████████████▊                                                        | 112/376 [02:39<04:55,  1.12s/it]"
     ]
    },
    {
     "name": "stdout",
     "output_type": "stream",
     "text": [
      "vortex ring gun\n",
      "diff requires input that is at least one dimensional\n",
      "\n",
      "\n",
      "\n",
      "\n"
     ]
    },
    {
     "name": "stderr",
     "output_type": "stream",
     "text": [
      " 40%|████████████████████████████████▏                                               | 151/376 [03:38<04:04,  1.09s/it]"
     ]
    },
    {
     "name": "stdout",
     "output_type": "stream",
     "text": [
      "companion robot\n",
      "'int' object is not subscriptable\n",
      "\n",
      "\n",
      "\n",
      "\n",
      "extreme life extension"
     ]
    },
    {
     "name": "stderr",
     "output_type": "stream",
     "text": [
      " 40%|████████████████████████████████▎                                               | 152/376 [03:38<03:03,  1.22it/s]"
     ]
    },
    {
     "name": "stdout",
     "output_type": "stream",
     "text": [
      "\n",
      "'int' object is not subscriptable\n",
      "\n",
      "\n",
      "\n",
      "\n"
     ]
    },
    {
     "name": "stderr",
     "output_type": "stream",
     "text": [
      " 45%|███████████████████████████████████▉                                            | 169/376 [04:07<04:18,  1.25s/it]"
     ]
    },
    {
     "name": "stdout",
     "output_type": "stream",
     "text": [
      "delay-line oscillator\n",
      "'int' object is not subscriptable\n",
      "\n",
      "\n",
      "\n",
      "\n"
     ]
    },
    {
     "name": "stderr",
     "output_type": "stream",
     "text": [
      " 53%|██████████████████████████████████████████▏                                     | 198/376 [04:53<03:53,  1.31s/it]"
     ]
    },
    {
     "name": "stdout",
     "output_type": "stream",
     "text": [
      "genome prime editing\n",
      "'int' object is not subscriptable\n",
      "\n",
      "\n",
      "\n",
      "\n"
     ]
    },
    {
     "name": "stderr",
     "output_type": "stream",
     "text": [
      " 55%|███████████████████████████████████████████▊                                    | 206/376 [05:09<04:22,  1.55s/it]"
     ]
    },
    {
     "name": "stdout",
     "output_type": "stream",
     "text": [
      "structurally nanoengineered antimicrobial polypeptide polymers\n",
      "'int' object is not subscriptable\n",
      "\n",
      "\n",
      "\n",
      "\n"
     ]
    },
    {
     "name": "stderr",
     "output_type": "stream",
     "text": [
      " 59%|███████████████████████████████████████████████                                 | 221/376 [05:28<03:43,  1.44s/it]"
     ]
    },
    {
     "name": "stdout",
     "output_type": "stream",
     "text": [
      "reusable rocket technology for orbital rockets\n",
      "'int' object is not subscriptable\n",
      "\n",
      "\n",
      "\n",
      "\n"
     ]
    },
    {
     "name": "stderr",
     "output_type": "stream",
     "text": [
      " 83%|██████████████████████████████████████████████████████████████████▏             | 311/376 [08:10<01:28,  1.36s/it]"
     ]
    },
    {
     "name": "stdout",
     "output_type": "stream",
     "text": [
      "in-memory processing\n",
      "'int' object is not subscriptable\n",
      "\n",
      "\n",
      "\n",
      "\n"
     ]
    },
    {
     "name": "stderr",
     "output_type": "stream",
     "text": [
      " 85%|████████████████████████████████████████████████████████████████████            | 320/376 [08:24<01:03,  1.14s/it]"
     ]
    },
    {
     "name": "stdout",
     "output_type": "stream",
     "text": [
      "wi-fi 6\n",
      "'int' object is not subscriptable\n",
      "\n",
      "\n",
      "\n",
      "\n"
     ]
    },
    {
     "name": "stderr",
     "output_type": "stream",
     "text": [
      " 87%|█████████████████████████████████████████████████████████████████████▊          | 328/376 [08:39<01:07,  1.40s/it]"
     ]
    },
    {
     "name": "stdout",
     "output_type": "stream",
     "text": [
      "nanoradio\n",
      "'int' object is not subscriptable\n",
      "\n",
      "\n",
      "\n",
      "\n"
     ]
    },
    {
     "name": "stderr",
     "output_type": "stream",
     "text": [
      " 90%|███████████████████████████████████████████████████████████████████████▉        | 338/376 [08:49<00:31,  1.20it/s]"
     ]
    },
    {
     "name": "stdout",
     "output_type": "stream",
     "text": [
      "supercritical water reactor\n",
      "'int' object is not subscriptable\n",
      "\n",
      "\n",
      "\n",
      "\n"
     ]
    },
    {
     "name": "stderr",
     "output_type": "stream",
     "text": [
      " 94%|███████████████████████████████████████████████████████████████████████████▎    | 354/376 [09:10<00:29,  1.34s/it]"
     ]
    },
    {
     "name": "stdout",
     "output_type": "stream",
     "text": [
      "organic solar cell\n",
      "'int' object is not subscriptable\n",
      "\n",
      "\n",
      "\n",
      "\n"
     ]
    },
    {
     "name": "stderr",
     "output_type": "stream",
     "text": [
      " 95%|███████████████████████████████████████████████████████████████████████████▉    | 357/376 [09:12<00:16,  1.16it/s]"
     ]
    },
    {
     "name": "stdout",
     "output_type": "stream",
     "text": [
      "generation iv reactor\n",
      "'int' object is not subscriptable\n",
      "\n",
      "\n",
      "\n",
      "\n"
     ]
    },
    {
     "name": "stderr",
     "output_type": "stream",
     "text": [
      " 95%|████████████████████████████████████████████████████████████████████████████▏   | 358/376 [09:12<00:12,  1.43it/s]"
     ]
    },
    {
     "name": "stdout",
     "output_type": "stream",
     "text": [
      "liquid crystal elastomers\n",
      "'int' object is not subscriptable\n",
      "\n",
      "\n",
      "\n",
      "\n"
     ]
    },
    {
     "name": "stderr",
     "output_type": "stream",
     "text": [
      " 99%|███████████████████████████████████████████████████████████████████████████████▎| 373/376 [09:34<00:04,  1.52s/it]"
     ]
    },
    {
     "name": "stdout",
     "output_type": "stream",
     "text": [
      "biobattery\n",
      "'int' object is not subscriptable\n",
      "\n",
      "\n",
      "\n",
      "\n"
     ]
    },
    {
     "name": "stderr",
     "output_type": "stream",
     "text": [
      " 99%|███████████████████████████████████████████████████████████████████████████████▌| 374/376 [09:34<00:02,  1.16s/it]"
     ]
    },
    {
     "name": "stdout",
     "output_type": "stream",
     "text": [
      "cortical implant\n",
      "'int' object is not subscriptable\n",
      "\n",
      "\n",
      "\n",
      "\n"
     ]
    },
    {
     "name": "stderr",
     "output_type": "stream",
     "text": [
      "100%|████████████████████████████████████████████████████████████████████████████████| 376/376 [09:37<00:00,  1.54s/it]\n"
     ]
    }
   ],
   "source": [
    "errors=[]\n",
    "for tech_name in tqdm(list(techs_dict.keys())):\n",
    "    try:\n",
    "        if tech_name not in score_lst:\n",
    "            score_lst[tech_name]=Diffusion_tech_fit(tech_name)\n",
    "    except Exception as e:\n",
    "        errors.append(tech_name)\n",
    "        print(tech_name)\n",
    "        print(e)\n",
    "        print(\"\\n\\n\\n\")\n"
   ]
  },
  {
   "cell_type": "code",
   "execution_count": 224,
   "id": "c1e98e83",
   "metadata": {},
   "outputs": [],
   "source": [
    "#save to pickle\n",
    "with open('\"C:\\Users\\nehor\\Google Drive\\Neura machine\\tech_scraper\\diffusion.pickle\"', 'wb') as handle:\n",
    "        pickle.dump(score_lst, handle, protocol=pickle.HIGHEST_PROTOCOL)"
   ]
  },
  {
   "cell_type": "code",
   "execution_count": 23,
   "id": "dabd1494",
   "metadata": {},
   "outputs": [],
   "source": [
    "def get_last_derrative(x):\n",
    "    per_len=round(x.shape[0]*0.1)\n",
    "    score=(x[-1]-x[-1*per_len])/per_len\n",
    "    return score\n",
    "\n",
    "def trim_negative(x):\n",
    "    return x[x>0]"
   ]
  },
  {
   "cell_type": "code",
   "execution_count": 24,
   "id": "6143585b",
   "metadata": {},
   "outputs": [],
   "source": [
    "#clean unwanted techs with filters\n",
    "dff=pd.DataFrame.from_records(score_lst).T\n",
    "\n",
    "dff[\"tech_bass\"]=dff.loc[dff[\"tech_bass\"].notnull(),\"tech_bass\"].apply(trim_negative)\n",
    "conds=(dff[\"diffusion\"]<1 & (dff[\"diffusion\"]>0))\n",
    "dff.loc[conds,\"years\"]=(dff.loc[conds,\"tech_len\"]/dff.loc[conds,\"diffusion\"])/12-dff.loc[conds,\"tech_len\"]/12\n",
    "conds=dff[\"diffusion\"]>=1\n",
    "dff.loc[conds,\"years\"]=(dff.loc[conds,\"tech_len\"]/dff.loc[conds,\"diffusion\"])/12-dff.loc[conds,\"tech_len\"]/12"
   ]
  },
  {
   "cell_type": "code",
   "execution_count": 27,
   "id": "27b4cf80",
   "metadata": {},
   "outputs": [
    {
     "data": {
      "text/plain": [
       "<AxesSubplot:>"
      ]
     },
     "execution_count": 27,
     "metadata": {},
     "output_type": "execute_result"
    },
    {
     "data": {
      "image/png": "[encoded data removed]",
      "text/plain": [
       "<Figure size 432x288 with 1 Axes>"
      ]
     },
     "metadata": {
      "needs_background": "light"
     },
     "output_type": "display_data"
    }
   ],
   "source": [
    "dff.loc[(dff[\"years\"]<30) & (dff[\"years\"]>0),\"years\"].hist()"
   ]
  },
  {
   "cell_type": "code",
   "execution_count": null,
   "id": "67b8935d",
   "metadata": {},
   "outputs": [],
   "source": []
  },
  {
   "cell_type": "code",
   "execution_count": null,
   "id": "66a594d4",
   "metadata": {},
   "outputs": [],
   "source": [
    "\n"
   ]
  }
 ],
 "metadata": {
  "kernelspec": {
   "display_name": "Python 3 (ipykernel)",
   "language": "python",
   "name": "python3"
  },
  "language_info": {
   "codemirror_mode": {
    "name": "ipython",
    "version": 3
   },
   "file_extension": ".py",
   "mimetype": "text/x-python",
   "name": "python",
   "nbconvert_exporter": "python",
   "pygments_lexer": "ipython3",
   "version": "3.9.1"
  }
 },
 "nbformat": 4,
 "nbformat_minor": 5
}
