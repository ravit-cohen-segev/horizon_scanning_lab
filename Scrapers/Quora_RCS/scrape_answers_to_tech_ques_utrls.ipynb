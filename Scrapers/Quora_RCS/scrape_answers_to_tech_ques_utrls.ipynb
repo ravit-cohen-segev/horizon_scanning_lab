{
 "cells": [
  {
   "cell_type": "code",
   "execution_count": 1,
   "metadata": {},
   "outputs": [],
   "source": [
    "from bs4 import BeautifulSoup\n",
    "import pandas as pd\n",
    "import numpy as np\n",
    "import requests\n",
    "import html2text\n",
    "import os\n"
   ]
  },
  {
   "cell_type": "code",
   "execution_count": 18,
   "metadata": {},
   "outputs": [],
   "source": [
    "#helper function get first number in string\n",
    "\n",
    "def str_first_num(s):\n",
    "    first_num = ''\n",
    "    flag_digit=False\n",
    "    for el in s: \n",
    "        if el.isdigit():\n",
    "            first_num += el\n",
    "            flag_digit = True\n",
    "        else:\n",
    "            if flag_digit:\n",
    "                break\n",
    "    return first_num\n",
    "    "
   ]
  },
  {
   "cell_type": "code",
   "execution_count": 3,
   "metadata": {},
   "outputs": [],
   "source": [
    "#read question urls from csv file\n",
    "src_path = r\"C:\\Users\\Ravit\\Documents\\horizon_scanning_lab\\Scrapers\\Quora_RCS\\answers_and_info\\quet_indexes.csv\"\n",
    "df = pd.read_csv(src_path)"
   ]
  },
  {
   "cell_type": "code",
   "execution_count": 4,
   "metadata": {},
   "outputs": [],
   "source": [
    "#get list of urls\n",
    "url_list = list(df['url'].values)"
   ]
  },
  {
   "cell_type": "code",
   "execution_count": 5,
   "metadata": {},
   "outputs": [
    {
     "data": {
      "text/plain": [
       "['https://www.quora.com/What-will-the-worlds-technology-be-like-in-50-years',\n",
       " 'https://www.quora.com/How-long-could-the-brain-survive-theoretically-if-we-had-the-technology-to-replace-all-other-body-parts-as-you-aged-with-functioning-organs-that-are-grown-in-a-lab-using-your-DNA',\n",
       " 'https://www.quora.com/What-are-the-top-10-emerging-technologies-in-the-next-5-10-years-2020%E2%80%932025',\n",
       " 'https://www.quora.com/What-are-the-upcoming-emerging-technologies-in-software-industry',\n",
       " 'https://www.quora.com/What-will-the-worlds-technology-be-like-in-50-years',\n",
       " 'https://www.quora.com/What-are-the-most-advanced-technologies-that-people-dont-know-about-yet',\n",
       " 'https://www.quora.com/When-will-Fusion-reactors-become-a-reality',\n",
       " 'https://www.quora.com/In-future-IOT-Internet-of-things-is-trending-technology-or-not',\n",
       " 'https://www.quora.com/What-will-the-worlds-technology-be-like-in-50-years',\n",
       " 'https://www.quora.com/What-are-the-solutions-to-emerging-issues-in-communication']"
      ]
     },
     "execution_count": 5,
     "metadata": {},
     "output_type": "execute_result"
    }
   ],
   "source": [
    "url_list"
   ]
  },
  {
   "cell_type": "code",
   "execution_count": 6,
   "metadata": {},
   "outputs": [],
   "source": [
    "#request url html\n",
    "page = requests.get(url_list[0])\n",
    "\n",
    "#create soup object with htmal parser\n",
    "soup = BeautifulSoup(page.content, 'html.parser')\n"
   ]
  },
  {
   "cell_type": "code",
   "execution_count": 7,
   "metadata": {},
   "outputs": [],
   "source": [
    "answers = soup.find_all('script', {\"type\": \"application/ld+json\"})[0]\n",
    "#convert soup object to string\n",
    "answers = [str(a) for a in answers][0]\n",
    "#split answers with text separator\n",
    "answers_list = answers.split('\"text\":')"
   ]
  },
  {
   "cell_type": "code",
   "execution_count": 8,
   "metadata": {},
   "outputs": [],
   "source": [
    "columns = [\"Answer\", \"name\", \"knowsAbout\",  \"hasCredential\", \"upvoteCount\", \"affiliation\", \"answerCount\", \"followerCount\"]\n",
    "\n",
    "#create df with nans to fill it later with values\n",
    "x_shape = (len(answers_list)-1, len(columns))\n",
    "x = np.tile(np.nan, x_shape)\n",
    "answers_df = pd.DataFrame(x, columns = columns)"
   ]
  },
  {
   "cell_type": "code",
   "execution_count": 9,
   "metadata": {},
   "outputs": [
    {
     "name": "stderr",
     "output_type": "stream",
     "text": [
      "C:\\Users\\Ravit\\AppData\\Local\\Temp\\ipykernel_5296\\864728059.py:11: SettingWithCopyWarning: \n",
      "A value is trying to be set on a copy of a slice from a DataFrame\n",
      "\n",
      "See the caveats in the documentation: https://pandas.pydata.org/pandas-docs/stable/user_guide/indexing.html#returning-a-view-versus-a-copy\n",
      "  answers_df[\"upvoteCount\"].iloc[0] = float(upvote)\n",
      "C:\\Users\\Ravit\\AppData\\Local\\Temp\\ipykernel_5296\\864728059.py:18: SettingWithCopyWarning: \n",
      "A value is trying to be set on a copy of a slice from a DataFrame\n",
      "\n",
      "See the caveats in the documentation: https://pandas.pydata.org/pandas-docs/stable/user_guide/indexing.html#returning-a-view-versus-a-copy\n",
      "  answers_df[\"affiliation\"].iloc[0] = split_post[0]\n",
      "C:\\Users\\Ravit\\AppData\\Local\\Temp\\ipykernel_5296\\864728059.py:23: SettingWithCopyWarning: \n",
      "A value is trying to be set on a copy of a slice from a DataFrame\n",
      "\n",
      "See the caveats in the documentation: https://pandas.pydata.org/pandas-docs/stable/user_guide/indexing.html#returning-a-view-versus-a-copy\n",
      "  answers_df[\"answerCount\"].iloc[0] = str_first_num(split_post)\n",
      "C:\\Users\\Ravit\\AppData\\Local\\Temp\\ipykernel_5296\\864728059.py:27: SettingWithCopyWarning: \n",
      "A value is trying to be set on a copy of a slice from a DataFrame\n",
      "\n",
      "See the caveats in the documentation: https://pandas.pydata.org/pandas-docs/stable/user_guide/indexing.html#returning-a-view-versus-a-copy\n",
      "  answers_df['followerCount'] .iloc[0]= str_first_num(split_post[1])\n",
      "C:\\Users\\Ravit\\AppData\\Local\\Temp\\ipykernel_5296\\864728059.py:36: SettingWithCopyWarning: \n",
      "A value is trying to be set on a copy of a slice from a DataFrame\n",
      "\n",
      "See the caveats in the documentation: https://pandas.pydata.org/pandas-docs/stable/user_guide/indexing.html#returning-a-view-versus-a-copy\n",
      "  answers_df['hasCredential'].iloc[0] = split_post[0].split(\"image\")[0]\n",
      "C:\\Users\\Ravit\\AppData\\Local\\Temp\\ipykernel_5296\\864728059.py:41: SettingWithCopyWarning: \n",
      "A value is trying to be set on a copy of a slice from a DataFrame\n",
      "\n",
      "See the caveats in the documentation: https://pandas.pydata.org/pandas-docs/stable/user_guide/indexing.html#returning-a-view-versus-a-copy\n",
      "  answers_df['knowsAbout'].iloc[0] = split_post[0].split(\"image\")[0]\n",
      "C:\\Users\\Ravit\\AppData\\Local\\Temp\\ipykernel_5296\\864728059.py:43: SettingWithCopyWarning: \n",
      "A value is trying to be set on a copy of a slice from a DataFrame\n",
      "\n",
      "See the caveats in the documentation: https://pandas.pydata.org/pandas-docs/stable/user_guide/indexing.html#returning-a-view-versus-a-copy\n",
      "  answers_df['name'].iloc[0] = split_post[1]\n"
     ]
    }
   ],
   "source": [
    "#get answer value\n",
    "split_post = answers_list[1].split(\"upvoteCount\")\n",
    "answers_df[\"Answer\"].iloc[0] = split_post[0]\n",
    "\n",
    "#remove answer\n",
    "split_post = split_post[1]\n",
    "\n",
    "#get upvote value\n",
    "upvote = str_first_num(split_post)\n",
    "\n",
    "answers_df[\"upvoteCount\"].iloc[0] = float(upvote)\n",
    "\n",
    "#get affiliation which is right before answercount\n",
    "split_post = split_post.split(\"affiliation\")\n",
    "split_post = split_post[1]\n",
    "split_post = split_post.split(\"answerCount\")\n",
    "\n",
    "answers_df[\"affiliation\"].iloc[0] = split_post[0]\n",
    "\n",
    "split_post = split_post[1]\n",
    "\n",
    "#get answer count\n",
    "answers_df[\"answerCount\"].iloc[0] = str_first_num(split_post)\n",
    "\n",
    "#get followercount\n",
    "split_post = split_post.split(\"followerCount\")\n",
    "answers_df['followerCount'] .iloc[0]= str_first_num(split_post[1])\n",
    "\n",
    "split_post = split_post[1]\n",
    "\n",
    "#get person credentials (between hascredentials and knowsabout)\n",
    "split_post = split_post.split(\"hasCredential\")[1]\n",
    "split_post = split_post.split(\"knowsAbout\")\n",
    "\n",
    "#remove url from credential part\n",
    "answers_df['hasCredential'].iloc[0] = split_post[0].split(\"image\")[0]\n",
    "split_post = split_post[1]\n",
    "\n",
    "#Finally, get knowsabout and name. Remove url image from knowsabout too\n",
    "split_post = split_post.split(\"name\")\n",
    "answers_df['knowsAbout'].iloc[0] = split_post[0].split(\"image\")[0]\n",
    "\n",
    "answers_df['name'].iloc[0] = split_post[1]\n",
    "\n",
    "\n",
    " "
   ]
  },
  {
   "cell_type": "code",
   "execution_count": 10,
   "metadata": {},
   "outputs": [
    {
     "data": {
      "text/plain": [
       "' \"50 years is a very long time. The way I make such predictions is by looking at technology that works in the lab today plus dreams that are achievable with a few scientific breakthroughs. Here are some ideas.\\\\n\\\\nLong distance travel will be by hyperloop or aircraft/rocket. Hyperloop is very efficient and fast, but limited to fixed routes. Earth- and space-bound craft will use similar propulsion (see below), and the main differences will be details like whether things are designed for low gravity.\\\\n\\\\nWe\\'ll have autonomous personal multirotor aircraft (drones). We have the technology today but the energy costs are extreme.\\\\n\\\\nCheap clean energy changes everything and simply will happen. There are too many routes to it and everyone wants it (except the Saudis of course). Solar, thorium reactors, improved uranium reactors, and of course fusion could all play a role, especially in the next 30 years. But more likely some new technology will be invented. We know of plenty of ways to produce clean energy at planetary scale. We only need to figure out how to make them cheap.\\\\n\\\\nTravel to space will be somewhat routine thanks to a space elevator and/or nuclear rockets. Both technologies need one scientific breakthrough and then a bunch of engineering. The main problem will be that there isn\\'t actually all that much reason for most people to go to space: science, tourism, satellite maintenance, perhaps a bit of asteroid mining. Humanity will launch the first interstellar probes and generally begin considering interstellar travel.\\\\n\\\\nThere will be a small colony on Mars similar to today\\'s on Antarctica, mostly for research, and to satisfy the human desire to explore. You\\'ll be able to visit, but the price will be incredible and few people will do so.\\\\n\\\\nAI will be roughly as smart as humans, and robots will do most of the jobs humans do today. Most things will be very cheap, but only high end engineers and artists will be able to find work. A basic income policy will have been introduced long before, and it will support most of the population. By 50 years from now this will seem perfectly normal. The few people who work will get benefits like waterfront homes and private resorts, along with extreme prestige. (This is the utopian version. I also have a dystopian version, but I\\'m in a good mood today.)\\\\n\\\\nEntertainment will be fully immersive. You won\\'t be able to tell it\\'s not real. You might even be able to erase the memory that you\\'re in a program, so that you think you\\'re really there. Maybe you\\'re in a program right now and don\\'t even know it. Say hi to the robots for me when you wake up.\", \"upvoteCount\": 348, \"url\": \"https://www.quora.com/What-will-the-worlds-technology-be-like-in-50-years?top_ans=143061584\"}, {\"@type\": \"Answer\", \"author\": {\"@type\": \"Person\", \"affiliation\": {\"@type\": \"CollegeOrUniversity\", \"name\": \"UNM/UCLA\"}, \"answerCount\": 11177, \"description\": \"USMC 1967-72 then study  Theater Arts & Film & Architecture and Philosophy, UNM/UCLA\", \"followerCount\": 815, \"hasCredential\": {\"@type\": \"EducationalOccupationalCredential\", \"credentialCategory\": \"degree\", \"educationLevel\": \"USMC 1967-72 then study \"}, \"image\": \"https://qph.cf2.quoracdn.net/main-thumb-310085432-100-hbafzrzwwqikuauhksedorffmybihhzw.jpeg\", \"knowsAbout\": [\"Theater Arts & Film\", \"Architecture and Philosophy\"], \"name\": \"T. Stephen Cornelius\", \"url\": \"https://www.quora.com/profile/T-Stephen-Cornelius\"}, '"
      ]
     },
     "execution_count": 10,
     "metadata": {},
     "output_type": "execute_result"
    }
   ],
   "source": [
    "answers_list[1]"
   ]
  },
  {
   "cell_type": "code",
   "execution_count": 19,
   "metadata": {},
   "outputs": [],
   "source": [
    "def answers_into_df(url):\n",
    "    '''input: url for scrapping answers to a particular question.\n",
    "        out: df with answers for each url/question'''\n",
    "    \n",
    "    #request url html\n",
    "    page = requests.get(url)\n",
    "   \n",
    "    #create soup object with htmal parser\n",
    "    soup = BeautifulSoup(page.content, 'html.parser')\n",
    "\n",
    "    answers = soup.find_all('script', {\"type\": \"application/ld+json\"})[0]\n",
    "    #convert soup object to string\n",
    "    answers = [str(a) for a in answers][0]\n",
    "    #split answers with text separator\n",
    "    answers_list = answers.split('\"text\":')\n",
    "    #first element is just the header of a page. remove it\n",
    "    answers_list = answers_list[1:]\n",
    "    \n",
    "    #create df with nans to fill it later with values\n",
    "    columns = [\"Answer\", \"name\", \"knowsAbout\",  \"hasCredential\", \"upvoteCount\", \"affiliation\", \"answerCount\", \"followerCount\"]\n",
    "    x_shape = (len(answers_list)-1, len(columns))\n",
    "    x = np.tile(np.nan, x_shape)\n",
    "    answers_df = pd.DataFrame(x, columns = columns)\n",
    "\n",
    "    for i, ans in enumerate(answers_list):    \n",
    "        #get answer value\n",
    "        split_post = ans.split(\"upvoteCount\")\n",
    "        answers_df[\"Answer\"].iloc[i] = split_post[0]\n",
    "\n",
    "        #remove answer\n",
    "        split_post = split_post[1]\n",
    "\n",
    "        #get upvote value\n",
    "        upvote = str_first_num(split_post)\n",
    "\n",
    "        answers_df[\"upvoteCount\"].iloc[i] = float(upvote)\n",
    "\n",
    "        #get affiliation which is right before answercount\n",
    "        if 'affiliation' in ans:    \n",
    "            split_post = split_post.split(\"affiliation\")\n",
    "            split_post = split_post[1]\n",
    "            split_post = split_post.split(\"answerCount\")\n",
    "\n",
    "        answers_df[\"affiliation\"].iloc[i] = split_post[0]\n",
    "\n",
    "        split_post = split_post[1]\n",
    "\n",
    "        #get answer count\n",
    "        answers_df[\"answerCount\"].iloc[i] = str_first_num(split_post)\n",
    "\n",
    "        #get followercount\n",
    "        split_post = split_post.split(\"followerCount\")\n",
    "        answers_df['followerCount'] .iloc[i]= str_first_num(split_post[1])\n",
    "\n",
    "        split_post = split_post[1]\n",
    "\n",
    "        #get person credentials (between hascredentials and knowsabout)\n",
    "        split_post = split_post.split(\"hasCredential\")[1]\n",
    "        split_post = split_post.split(\"knowsAbout\")\n",
    "\n",
    "        #remove url from credential part\n",
    "        answers_df['hasCredential'].iloc[i] = split_post[0].split(\"image\")[0]\n",
    "        split_post = split_post[1]\n",
    "\n",
    "        #Finally, get knowsabout and name. Remove url image from knowsabout too\n",
    "        split_post = split_post.split(\"name\")\n",
    "        answers_df['knowsAbout'].iloc[i] = split_post[0].split(\"image\")[0]\n",
    "\n",
    "        answers_df['name'].iloc[i] = split_post[1]\n",
    "\n",
    "    return answers_df   \n",
    "    "
   ]
  },
  {
   "cell_type": "code",
   "execution_count": 20,
   "metadata": {},
   "outputs": [
    {
     "name": "stderr",
     "output_type": "stream",
     "text": [
      "C:\\Users\\Ravit\\AppData\\Local\\Temp\\ipykernel_5296\\4121122546.py:36: SettingWithCopyWarning: \n",
      "A value is trying to be set on a copy of a slice from a DataFrame\n",
      "\n",
      "See the caveats in the documentation: https://pandas.pydata.org/pandas-docs/stable/user_guide/indexing.html#returning-a-view-versus-a-copy\n",
      "  answers_df[\"upvoteCount\"].iloc[i] = float(upvote)\n",
      "C:\\Users\\Ravit\\AppData\\Local\\Temp\\ipykernel_5296\\4121122546.py:44: SettingWithCopyWarning: \n",
      "A value is trying to be set on a copy of a slice from a DataFrame\n",
      "\n",
      "See the caveats in the documentation: https://pandas.pydata.org/pandas-docs/stable/user_guide/indexing.html#returning-a-view-versus-a-copy\n",
      "  answers_df[\"affiliation\"].iloc[i] = split_post[0]\n",
      "C:\\Users\\Ravit\\AppData\\Local\\Temp\\ipykernel_5296\\4121122546.py:49: SettingWithCopyWarning: \n",
      "A value is trying to be set on a copy of a slice from a DataFrame\n",
      "\n",
      "See the caveats in the documentation: https://pandas.pydata.org/pandas-docs/stable/user_guide/indexing.html#returning-a-view-versus-a-copy\n",
      "  answers_df[\"answerCount\"].iloc[i] = str_first_num(split_post)\n",
      "C:\\Users\\Ravit\\AppData\\Local\\Temp\\ipykernel_5296\\4121122546.py:53: SettingWithCopyWarning: \n",
      "A value is trying to be set on a copy of a slice from a DataFrame\n",
      "\n",
      "See the caveats in the documentation: https://pandas.pydata.org/pandas-docs/stable/user_guide/indexing.html#returning-a-view-versus-a-copy\n",
      "  answers_df['followerCount'] .iloc[i]= str_first_num(split_post[1])\n",
      "C:\\Users\\Ravit\\AppData\\Local\\Temp\\ipykernel_5296\\4121122546.py:62: SettingWithCopyWarning: \n",
      "A value is trying to be set on a copy of a slice from a DataFrame\n",
      "\n",
      "See the caveats in the documentation: https://pandas.pydata.org/pandas-docs/stable/user_guide/indexing.html#returning-a-view-versus-a-copy\n",
      "  answers_df['hasCredential'].iloc[i] = split_post[0].split(\"image\")[0]\n",
      "C:\\Users\\Ravit\\AppData\\Local\\Temp\\ipykernel_5296\\4121122546.py:67: SettingWithCopyWarning: \n",
      "A value is trying to be set on a copy of a slice from a DataFrame\n",
      "\n",
      "See the caveats in the documentation: https://pandas.pydata.org/pandas-docs/stable/user_guide/indexing.html#returning-a-view-versus-a-copy\n",
      "  answers_df['knowsAbout'].iloc[i] = split_post[0].split(\"image\")[0]\n",
      "C:\\Users\\Ravit\\AppData\\Local\\Temp\\ipykernel_5296\\4121122546.py:69: SettingWithCopyWarning: \n",
      "A value is trying to be set on a copy of a slice from a DataFrame\n",
      "\n",
      "See the caveats in the documentation: https://pandas.pydata.org/pandas-docs/stable/user_guide/indexing.html#returning-a-view-versus-a-copy\n",
      "  answers_df['name'].iloc[i] = split_post[1]\n"
     ]
    },
    {
     "ename": "IndexError",
     "evalue": "list index out of range",
     "output_type": "error",
     "traceback": [
      "\u001b[1;31m---------------------------------------------------------------------------\u001b[0m",
      "\u001b[1;31mIndexError\u001b[0m                                Traceback (most recent call last)",
      "\u001b[1;32mc:\\Users\\Ravit\\Documents\\horizon_scanning_lab\\Scrapers\\Quora_RCS\\scrape_answers_to_tech_ques_utrls.ipynb Cell 12\u001b[0m in \u001b[0;36m<cell line: 1>\u001b[1;34m()\u001b[0m\n\u001b[1;32m----> <a href='vscode-notebook-cell:/c%3A/Users/Ravit/Documents/horizon_scanning_lab/Scrapers/Quora_RCS/scrape_answers_to_tech_ques_utrls.ipynb#X31sZmlsZQ%3D%3D?line=0'>1</a>\u001b[0m answers_into_df(url_list[\u001b[39m0\u001b[39;49m])\n",
      "\u001b[1;32mc:\\Users\\Ravit\\Documents\\horizon_scanning_lab\\Scrapers\\Quora_RCS\\scrape_answers_to_tech_ques_utrls.ipynb Cell 12\u001b[0m in \u001b[0;36manswers_into_df\u001b[1;34m(url)\u001b[0m\n\u001b[0;32m     <a href='vscode-notebook-cell:/c%3A/Users/Ravit/Documents/horizon_scanning_lab/Scrapers/Quora_RCS/scrape_answers_to_tech_ques_utrls.ipynb#X31sZmlsZQ%3D%3D?line=50'>51</a>\u001b[0m \u001b[39m#get followercount\u001b[39;00m\n\u001b[0;32m     <a href='vscode-notebook-cell:/c%3A/Users/Ravit/Documents/horizon_scanning_lab/Scrapers/Quora_RCS/scrape_answers_to_tech_ques_utrls.ipynb#X31sZmlsZQ%3D%3D?line=51'>52</a>\u001b[0m split_post \u001b[39m=\u001b[39m split_post\u001b[39m.\u001b[39msplit(\u001b[39m\"\u001b[39m\u001b[39mfollowerCount\u001b[39m\u001b[39m\"\u001b[39m)\n\u001b[1;32m---> <a href='vscode-notebook-cell:/c%3A/Users/Ravit/Documents/horizon_scanning_lab/Scrapers/Quora_RCS/scrape_answers_to_tech_ques_utrls.ipynb#X31sZmlsZQ%3D%3D?line=52'>53</a>\u001b[0m answers_df[\u001b[39m'\u001b[39m\u001b[39mfollowerCount\u001b[39m\u001b[39m'\u001b[39m] \u001b[39m.\u001b[39miloc[i]\u001b[39m=\u001b[39m str_first_num(split_post[\u001b[39m1\u001b[39;49m])\n\u001b[0;32m     <a href='vscode-notebook-cell:/c%3A/Users/Ravit/Documents/horizon_scanning_lab/Scrapers/Quora_RCS/scrape_answers_to_tech_ques_utrls.ipynb#X31sZmlsZQ%3D%3D?line=54'>55</a>\u001b[0m split_post \u001b[39m=\u001b[39m split_post[\u001b[39m1\u001b[39m]\n\u001b[0;32m     <a href='vscode-notebook-cell:/c%3A/Users/Ravit/Documents/horizon_scanning_lab/Scrapers/Quora_RCS/scrape_answers_to_tech_ques_utrls.ipynb#X31sZmlsZQ%3D%3D?line=56'>57</a>\u001b[0m \u001b[39m#get person credentials (between hascredentials and knowsabout)\u001b[39;00m\n",
      "\u001b[1;31mIndexError\u001b[0m: list index out of range"
     ]
    }
   ],
   "source": [
    "\n",
    "answers_into_df(url_list[0])"
   ]
  },
  {
   "cell_type": "code",
   "execution_count": null,
   "metadata": {},
   "outputs": [],
   "source": []
  }
 ],
 "metadata": {
  "kernelspec": {
   "display_name": "Python 3.9.12 ('base')",
   "language": "python",
   "name": "python3"
  },
  "language_info": {
   "codemirror_mode": {
    "name": "ipython",
    "version": 3
   },
   "file_extension": ".py",
   "mimetype": "text/x-python",
   "name": "python",
   "nbconvert_exporter": "python",
   "pygments_lexer": "ipython3",
   "version": "3.9.12"
  },
  "orig_nbformat": 4,
  "vscode": {
   "interpreter": {
    "hash": "ad2bdc8ecc057115af97d19610ffacc2b4e99fae6737bb82f5d7fb13d2f2c186"
   }
  }
 },
 "nbformat": 4,
 "nbformat_minor": 2
}
