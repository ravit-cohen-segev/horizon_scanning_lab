{
 "cells": [
  {
   "cell_type": "code",
   "execution_count": 25,
   "metadata": {},
   "outputs": [],
   "source": [
    "from bs4 import BeautifulSoup\n",
    "import pandas as pd\n",
    "import numpy as np\n",
    "import requests\n",
    "import html2text\n",
    "import os\n"
   ]
  },
  {
   "cell_type": "code",
   "execution_count": 106,
   "metadata": {},
   "outputs": [],
   "source": [
    "#helper function get first number in string\n",
    "\n",
    "def str_first_num(s):\n",
    "    first_num = ''\n",
    "    flag_digit=False\n",
    "    for el in s: \n",
    "        if el.isdigit():\n",
    "            first_num += el\n",
    "            flag_digit = True\n",
    "        else:\n",
    "            if flag_digit:\n",
    "                break\n",
    "    return float(first_num)\n",
    "    "
   ]
  },
  {
   "cell_type": "code",
   "execution_count": 3,
   "metadata": {},
   "outputs": [],
   "source": [
    "#read question urls from csv file\n",
    "src_path = r\"C:\\Users\\Ravit\\Documents\\horizon_scanning_lab\\Scrapers\\Quora_RCS\\answers_and_info\\quet_indexes.csv\"\n",
    "df = pd.read_csv(src_path)"
   ]
  },
  {
   "cell_type": "code",
   "execution_count": 4,
   "metadata": {},
   "outputs": [],
   "source": [
    "#get list of urls\n",
    "url_list = list(df['url'].values)"
   ]
  },
  {
   "cell_type": "code",
   "execution_count": 5,
   "metadata": {},
   "outputs": [
    {
     "data": {
      "text/plain": [
       "['https://www.quora.com/What-will-the-worlds-technology-be-like-in-50-years',\n",
       " 'https://www.quora.com/How-long-could-the-brain-survive-theoretically-if-we-had-the-technology-to-replace-all-other-body-parts-as-you-aged-with-functioning-organs-that-are-grown-in-a-lab-using-your-DNA',\n",
       " 'https://www.quora.com/What-are-the-top-10-emerging-technologies-in-the-next-5-10-years-2020%E2%80%932025',\n",
       " 'https://www.quora.com/What-are-the-upcoming-emerging-technologies-in-software-industry',\n",
       " 'https://www.quora.com/What-will-the-worlds-technology-be-like-in-50-years',\n",
       " 'https://www.quora.com/What-are-the-most-advanced-technologies-that-people-dont-know-about-yet',\n",
       " 'https://www.quora.com/When-will-Fusion-reactors-become-a-reality',\n",
       " 'https://www.quora.com/In-future-IOT-Internet-of-things-is-trending-technology-or-not',\n",
       " 'https://www.quora.com/What-will-the-worlds-technology-be-like-in-50-years',\n",
       " 'https://www.quora.com/What-are-the-solutions-to-emerging-issues-in-communication']"
      ]
     },
     "execution_count": 5,
     "metadata": {},
     "output_type": "execute_result"
    }
   ],
   "source": [
    "url_list"
   ]
  },
  {
   "cell_type": "code",
   "execution_count": 6,
   "metadata": {},
   "outputs": [],
   "source": [
    "#request url html\n",
    "page = requests.get(url_list[0])"
   ]
  },
  {
   "cell_type": "code",
   "execution_count": 7,
   "metadata": {},
   "outputs": [],
   "source": [
    "soup = BeautifulSoup(page.content, 'html.parser')"
   ]
  },
  {
   "cell_type": "code",
   "execution_count": 8,
   "metadata": {},
   "outputs": [],
   "source": [
    "html_str = soup.prettify()"
   ]
  },
  {
   "cell_type": "code",
   "execution_count": 11,
   "metadata": {},
   "outputs": [],
   "source": [
    "ques_df = pd.DataFrame({'question': [], 'answers':[]})"
   ]
  },
  {
   "cell_type": "code",
   "execution_count": 12,
   "metadata": {},
   "outputs": [],
   "source": [
    "answers = soup.find_all('script', {\"type\": \"application/ld+json\"})[0]"
   ]
  },
  {
   "cell_type": "code",
   "execution_count": 13,
   "metadata": {},
   "outputs": [],
   "source": [
    "answers = [str(a) for a in answers][0]"
   ]
  },
  {
   "cell_type": "code",
   "execution_count": 22,
   "metadata": {},
   "outputs": [],
   "source": [
    "answers_list = answers.split('\"text\":')"
   ]
  },
  {
   "cell_type": "code",
   "execution_count": 18,
   "metadata": {},
   "outputs": [
    {
     "data": {
      "text/plain": [
       "' \"50 years is a very long time. The way I make such predictions is by looking at technology that works in the lab today plus dreams that are achievable with a few scientific breakthroughs. Here are some ideas.\\\\n\\\\nLong distance travel will be by hyperloop or aircraft/rocket. Hyperloop is very efficient and fast, but limited to fixed routes. Earth- and space-bound craft will use similar propulsion (see below), and the main differences will be details like whether things are designed for low gravity.\\\\n\\\\nWe\\'ll have autonomous personal multirotor aircraft (drones). We have the technology today but the energy costs are extreme.\\\\n\\\\nCheap clean energy changes everything and simply will happen. There are too many routes to it and everyone wants it (except the Saudis of course). Solar, thorium reactors, improved uranium reactors, and of course fusion could all play a role, especially in the next 30 years. But more likely some new technology will be invented. We know of plenty of ways to produce clean energy at planetary scale. We only need to figure out how to make them cheap.\\\\n\\\\nTravel to space will be somewhat routine thanks to a space elevator and/or nuclear rockets. Both technologies need one scientific breakthrough and then a bunch of engineering. The main problem will be that there isn\\'t actually all that much reason for most people to go to space: science, tourism, satellite maintenance, perhaps a bit of asteroid mining. Humanity will launch the first interstellar probes and generally begin considering interstellar travel.\\\\n\\\\nThere will be a small colony on Mars similar to today\\'s on Antarctica, mostly for research, and to satisfy the human desire to explore. You\\'ll be able to visit, but the price will be incredible and few people will do so.\\\\n\\\\nAI will be roughly as smart as humans, and robots will do most of the jobs humans do today. Most things will be very cheap, but only high end engineers and artists will be able to find work. A basic income policy will have been introduced long before, and it will support most of the population. By 50 years from now this will seem perfectly normal. The few people who work will get benefits like waterfront homes and private resorts, along with extreme prestige. (This is the utopian version. I also have a dystopian version, but I\\'m in a good mood today.)\\\\n\\\\nEntertainment will be fully immersive. You won\\'t be able to tell it\\'s not real. You might even be able to erase the memory that you\\'re in a program, so that you think you\\'re really there. Maybe you\\'re in a program right now and don\\'t even know it. Say hi to the robots for me when you wake up.\", \"upvoteCount\": 348, \"url\": \"https://www.quora.com/What-will-the-worlds-technology-be-like-in-50-years?top_ans=143061584\"}, {\"@type\": \"Answer\", \"author\": {\"@type\": \"Person\", \"affiliation\": {\"@type\": \"CollegeOrUniversity\", \"name\": \"UNM/UCLA\"}, \"answerCount\": 11177, \"description\": \"USMC 1967-72 then study  Theater Arts & Film & Architecture and Philosophy, UNM/UCLA\", \"followerCount\": 815, \"hasCredential\": {\"@type\": \"EducationalOccupationalCredential\", \"credentialCategory\": \"degree\", \"educationLevel\": \"USMC 1967-72 then study \"}, \"image\": \"https://qph.cf2.quoracdn.net/main-thumb-310085432-100-hbafzrzwwqikuauhksedorffmybihhzw.jpeg\", \"knowsAbout\": [\"Theater Arts & Film\", \"Architecture and Philosophy\"], \"name\": \"T. Stephen Cornelius\", \"url\": \"https://www.quora.com/profile/T-Stephen-Cornelius\"}, '"
      ]
     },
     "execution_count": 18,
     "metadata": {},
     "output_type": "execute_result"
    }
   ],
   "source": [
    "answers_list[1]"
   ]
  },
  {
   "cell_type": "code",
   "execution_count": 136,
   "metadata": {},
   "outputs": [],
   "source": [
    "columns = [\"Answer\", \"name\", \"knowsAbout\",  \"hasCredential\", \"upvoteCount\", \"affiliation\", \"answerCount\", \"followerCount\"]\n",
    "\n",
    "#create df with nans to fill it later with values\n",
    "x_shape = (len(answers_list)-1, len(columns))\n",
    "x = np.tile(np.nan, x_shape)\n",
    "answers_df = pd.DataFrame(x, columns = columns)"
   ]
  },
  {
   "cell_type": "code",
   "execution_count": 151,
   "metadata": {},
   "outputs": [
    {
     "name": "stderr",
     "output_type": "stream",
     "text": [
      "C:\\Users\\Ravit\\AppData\\Local\\Temp\\ipykernel_21572\\2687305762.py:17: SettingWithCopyWarning: \n",
      "A value is trying to be set on a copy of a slice from a DataFrame\n",
      "\n",
      "See the caveats in the documentation: https://pandas.pydata.org/pandas-docs/stable/user_guide/indexing.html#returning-a-view-versus-a-copy\n",
      "  answers_df[\"upvoteCount\"].iloc[0] = float(upvote)\n",
      "C:\\Users\\Ravit\\AppData\\Local\\Temp\\ipykernel_21572\\2687305762.py:29: SettingWithCopyWarning: \n",
      "A value is trying to be set on a copy of a slice from a DataFrame\n",
      "\n",
      "See the caveats in the documentation: https://pandas.pydata.org/pandas-docs/stable/user_guide/indexing.html#returning-a-view-versus-a-copy\n",
      "  answers_df[\"answerCount\"].iloc[0] = str_first_num(split_post)\n",
      "C:\\Users\\Ravit\\AppData\\Local\\Temp\\ipykernel_21572\\2687305762.py:33: SettingWithCopyWarning: \n",
      "A value is trying to be set on a copy of a slice from a DataFrame\n",
      "\n",
      "See the caveats in the documentation: https://pandas.pydata.org/pandas-docs/stable/user_guide/indexing.html#returning-a-view-versus-a-copy\n",
      "  answers_df['followerCount'] .iloc[0]= str_first_num(split_post[1])\n",
      "C:\\Users\\Ravit\\AppData\\Local\\Temp\\ipykernel_21572\\2687305762.py:47: SettingWithCopyWarning: \n",
      "A value is trying to be set on a copy of a slice from a DataFrame\n",
      "\n",
      "See the caveats in the documentation: https://pandas.pydata.org/pandas-docs/stable/user_guide/indexing.html#returning-a-view-versus-a-copy\n",
      "  answers_df['knowsAbout'].iloc[0] = split_post[0].split(\"image\")[0]\n"
     ]
    }
   ],
   "source": [
    "#fill values in df from text. This is an example only. After everything works -> \n",
    "# TODO. Apply to all answers (function or a loop)\n",
    "\n",
    "#get answer value\n",
    "from webbrowser import get\n",
    "\n",
    "\n",
    "split_post = answers_list[1].split(\"upvoteCount\")\n",
    "answers_df[\"Answer\"].iloc[0] = split_post[0]\n",
    "\n",
    "#remove answer\n",
    "split_post = split_post[1]\n",
    "\n",
    "#get upvote value\n",
    "upvote = str_first_num(split_post)\n",
    "\n",
    "answers_df[\"upvoteCount\"].iloc[0] = float(upvote)\n",
    "\n",
    "#get affiliation which is right before answercount\n",
    "split_post = split_post.split(\"affiliation\")\n",
    "split_post = split_post[1]\n",
    "split_post = split_post.split(\"answerCount\")\n",
    "\n",
    "answers_df[\"affiliation\"].iloc[0] = split_post[0]\n",
    "\n",
    "split_post = split_post[1]\n",
    "\n",
    "#get answer count\n",
    "answers_df[\"answerCount\"].iloc[0] = str_first_num(split_post)\n",
    "\n",
    "#get followercount\n",
    "split_post = split_post.split(\"followerCount\")\n",
    "answers_df['followerCount'] .iloc[0]= str_first_num(split_post[1])\n",
    "\n",
    "split_post = split_post[1]\n",
    "\n",
    "#get person credentials (between hascredentials and knowsabout)\n",
    "split_post = split_post.split(\"hasCredential\")[1]\n",
    "split_post = split_post.split(\"knowsAbout\")\n",
    "\n",
    "#remove url from credential part\n",
    "answers_df['hasCredential'].iloc[0] = split_post[0].split(\"image\")[0]\n",
    "split_post = split_post[1]\n",
    "\n",
    "#Finally, get knowsabout and name. Remove url image from knowsabout too\n",
    "split_post = split_post.split(\"name\")\n",
    "answers_df['knowsAbout'].iloc[0] = split_post[0].split(\"image\")[0]\n",
    "\n",
    "answers_df['name'].iloc[0] = split_post[1]\n",
    "\n",
    "\n",
    " "
   ]
  },
  {
   "cell_type": "code",
   "execution_count": 152,
   "metadata": {},
   "outputs": [
    {
     "data": {
      "text/plain": [
       "'\": \"T. Stephen Cornelius\", \"url\": \"https://www.quora.com/profile/T-Stephen-Cornelius\"}, '"
      ]
     },
     "execution_count": 152,
     "metadata": {},
     "output_type": "execute_result"
    }
   ],
   "source": [
    "split_post[1]\n"
   ]
  },
  {
   "cell_type": "code",
   "execution_count": 153,
   "metadata": {},
   "outputs": [
    {
     "data": {
      "text/html": [
       "<div>\n",
       "<style scoped>\n",
       "    .dataframe tbody tr th:only-of-type {\n",
       "        vertical-align: middle;\n",
       "    }\n",
       "\n",
       "    .dataframe tbody tr th {\n",
       "        vertical-align: top;\n",
       "    }\n",
       "\n",
       "    .dataframe thead th {\n",
       "        text-align: right;\n",
       "    }\n",
       "</style>\n",
       "<table border=\"1\" class=\"dataframe\">\n",
       "  <thead>\n",
       "    <tr style=\"text-align: right;\">\n",
       "      <th></th>\n",
       "      <th>Answer</th>\n",
       "      <th>name</th>\n",
       "      <th>knowsAbout</th>\n",
       "      <th>hasCredential</th>\n",
       "      <th>upvoteCount</th>\n",
       "      <th>affiliation</th>\n",
       "      <th>answerCount</th>\n",
       "      <th>followerCount</th>\n",
       "    </tr>\n",
       "  </thead>\n",
       "  <tbody>\n",
       "    <tr>\n",
       "      <th>0</th>\n",
       "      <td>\"50 years is a very long time. The way I make...</td>\n",
       "      <td>\": \"T. Stephen Cornelius\", \"url\": \"https://www...</td>\n",
       "      <td>\": [\"Theater Arts &amp; Film\", \"Architecture and P...</td>\n",
       "      <td>\": {\"@type\": \"EducationalOccupationalCredentia...</td>\n",
       "      <td>348.0</td>\n",
       "      <td>\": {\"@type\": \"CollegeOrUniversity\", \"name\": \"U...</td>\n",
       "      <td>11177.0</td>\n",
       "      <td>815.0</td>\n",
       "    </tr>\n",
       "    <tr>\n",
       "      <th>1</th>\n",
       "      <td>NaN</td>\n",
       "      <td>NaN</td>\n",
       "      <td>NaN</td>\n",
       "      <td>NaN</td>\n",
       "      <td>NaN</td>\n",
       "      <td>NaN</td>\n",
       "      <td>NaN</td>\n",
       "      <td>NaN</td>\n",
       "    </tr>\n",
       "    <tr>\n",
       "      <th>2</th>\n",
       "      <td>NaN</td>\n",
       "      <td>NaN</td>\n",
       "      <td>NaN</td>\n",
       "      <td>NaN</td>\n",
       "      <td>NaN</td>\n",
       "      <td>NaN</td>\n",
       "      <td>NaN</td>\n",
       "      <td>NaN</td>\n",
       "    </tr>\n",
       "    <tr>\n",
       "      <th>3</th>\n",
       "      <td>NaN</td>\n",
       "      <td>NaN</td>\n",
       "      <td>NaN</td>\n",
       "      <td>NaN</td>\n",
       "      <td>NaN</td>\n",
       "      <td>NaN</td>\n",
       "      <td>NaN</td>\n",
       "      <td>NaN</td>\n",
       "    </tr>\n",
       "    <tr>\n",
       "      <th>4</th>\n",
       "      <td>NaN</td>\n",
       "      <td>NaN</td>\n",
       "      <td>NaN</td>\n",
       "      <td>NaN</td>\n",
       "      <td>NaN</td>\n",
       "      <td>NaN</td>\n",
       "      <td>NaN</td>\n",
       "      <td>NaN</td>\n",
       "    </tr>\n",
       "    <tr>\n",
       "      <th>5</th>\n",
       "      <td>NaN</td>\n",
       "      <td>NaN</td>\n",
       "      <td>NaN</td>\n",
       "      <td>NaN</td>\n",
       "      <td>NaN</td>\n",
       "      <td>NaN</td>\n",
       "      <td>NaN</td>\n",
       "      <td>NaN</td>\n",
       "    </tr>\n",
       "    <tr>\n",
       "      <th>6</th>\n",
       "      <td>NaN</td>\n",
       "      <td>NaN</td>\n",
       "      <td>NaN</td>\n",
       "      <td>NaN</td>\n",
       "      <td>NaN</td>\n",
       "      <td>NaN</td>\n",
       "      <td>NaN</td>\n",
       "      <td>NaN</td>\n",
       "    </tr>\n",
       "    <tr>\n",
       "      <th>7</th>\n",
       "      <td>NaN</td>\n",
       "      <td>NaN</td>\n",
       "      <td>NaN</td>\n",
       "      <td>NaN</td>\n",
       "      <td>NaN</td>\n",
       "      <td>NaN</td>\n",
       "      <td>NaN</td>\n",
       "      <td>NaN</td>\n",
       "    </tr>\n",
       "    <tr>\n",
       "      <th>8</th>\n",
       "      <td>NaN</td>\n",
       "      <td>NaN</td>\n",
       "      <td>NaN</td>\n",
       "      <td>NaN</td>\n",
       "      <td>NaN</td>\n",
       "      <td>NaN</td>\n",
       "      <td>NaN</td>\n",
       "      <td>NaN</td>\n",
       "    </tr>\n",
       "    <tr>\n",
       "      <th>9</th>\n",
       "      <td>NaN</td>\n",
       "      <td>NaN</td>\n",
       "      <td>NaN</td>\n",
       "      <td>NaN</td>\n",
       "      <td>NaN</td>\n",
       "      <td>NaN</td>\n",
       "      <td>NaN</td>\n",
       "      <td>NaN</td>\n",
       "    </tr>\n",
       "    <tr>\n",
       "      <th>10</th>\n",
       "      <td>NaN</td>\n",
       "      <td>NaN</td>\n",
       "      <td>NaN</td>\n",
       "      <td>NaN</td>\n",
       "      <td>NaN</td>\n",
       "      <td>NaN</td>\n",
       "      <td>NaN</td>\n",
       "      <td>NaN</td>\n",
       "    </tr>\n",
       "  </tbody>\n",
       "</table>\n",
       "</div>"
      ],
      "text/plain": [
       "                                               Answer  \\\n",
       "0    \"50 years is a very long time. The way I make...   \n",
       "1                                                 NaN   \n",
       "2                                                 NaN   \n",
       "3                                                 NaN   \n",
       "4                                                 NaN   \n",
       "5                                                 NaN   \n",
       "6                                                 NaN   \n",
       "7                                                 NaN   \n",
       "8                                                 NaN   \n",
       "9                                                 NaN   \n",
       "10                                                NaN   \n",
       "\n",
       "                                                 name  \\\n",
       "0   \": \"T. Stephen Cornelius\", \"url\": \"https://www...   \n",
       "1                                                 NaN   \n",
       "2                                                 NaN   \n",
       "3                                                 NaN   \n",
       "4                                                 NaN   \n",
       "5                                                 NaN   \n",
       "6                                                 NaN   \n",
       "7                                                 NaN   \n",
       "8                                                 NaN   \n",
       "9                                                 NaN   \n",
       "10                                                NaN   \n",
       "\n",
       "                                           knowsAbout  \\\n",
       "0   \": [\"Theater Arts & Film\", \"Architecture and P...   \n",
       "1                                                 NaN   \n",
       "2                                                 NaN   \n",
       "3                                                 NaN   \n",
       "4                                                 NaN   \n",
       "5                                                 NaN   \n",
       "6                                                 NaN   \n",
       "7                                                 NaN   \n",
       "8                                                 NaN   \n",
       "9                                                 NaN   \n",
       "10                                                NaN   \n",
       "\n",
       "                                        hasCredential  upvoteCount  \\\n",
       "0   \": {\"@type\": \"EducationalOccupationalCredentia...        348.0   \n",
       "1                                                 NaN          NaN   \n",
       "2                                                 NaN          NaN   \n",
       "3                                                 NaN          NaN   \n",
       "4                                                 NaN          NaN   \n",
       "5                                                 NaN          NaN   \n",
       "6                                                 NaN          NaN   \n",
       "7                                                 NaN          NaN   \n",
       "8                                                 NaN          NaN   \n",
       "9                                                 NaN          NaN   \n",
       "10                                                NaN          NaN   \n",
       "\n",
       "                                          affiliation  answerCount  \\\n",
       "0   \": {\"@type\": \"CollegeOrUniversity\", \"name\": \"U...      11177.0   \n",
       "1                                                 NaN          NaN   \n",
       "2                                                 NaN          NaN   \n",
       "3                                                 NaN          NaN   \n",
       "4                                                 NaN          NaN   \n",
       "5                                                 NaN          NaN   \n",
       "6                                                 NaN          NaN   \n",
       "7                                                 NaN          NaN   \n",
       "8                                                 NaN          NaN   \n",
       "9                                                 NaN          NaN   \n",
       "10                                                NaN          NaN   \n",
       "\n",
       "    followerCount  \n",
       "0           815.0  \n",
       "1             NaN  \n",
       "2             NaN  \n",
       "3             NaN  \n",
       "4             NaN  \n",
       "5             NaN  \n",
       "6             NaN  \n",
       "7             NaN  \n",
       "8             NaN  \n",
       "9             NaN  \n",
       "10            NaN  "
      ]
     },
     "execution_count": 153,
     "metadata": {},
     "output_type": "execute_result"
    }
   ],
   "source": [
    "answers_df"
   ]
  },
  {
   "cell_type": "code",
   "execution_count": 113,
   "metadata": {},
   "outputs": [
    {
     "data": {
      "text/plain": [
       "' \"50 years is a very long time. The way I make such predictions is by looking at technology that works in the lab today plus dreams that are achievable with a few scientific breakthroughs. Here are some ideas.\\\\n\\\\nLong distance travel will be by hyperloop or aircraft/rocket. Hyperloop is very efficient and fast, but limited to fixed routes. Earth- and space-bound craft will use similar propulsion (see below), and the main differences will be details like whether things are designed for low gravity.\\\\n\\\\nWe\\'ll have autonomous personal multirotor aircraft (drones). We have the technology today but the energy costs are extreme.\\\\n\\\\nCheap clean energy changes everything and simply will happen. There are too many routes to it and everyone wants it (except the Saudis of course). Solar, thorium reactors, improved uranium reactors, and of course fusion could all play a role, especially in the next 30 years. But more likely some new technology will be invented. We know of plenty of ways to produce clean energy at planetary scale. We only need to figure out how to make them cheap.\\\\n\\\\nTravel to space will be somewhat routine thanks to a space elevator and/or nuclear rockets. Both technologies need one scientific breakthrough and then a bunch of engineering. The main problem will be that there isn\\'t actually all that much reason for most people to go to space: science, tourism, satellite maintenance, perhaps a bit of asteroid mining. Humanity will launch the first interstellar probes and generally begin considering interstellar travel.\\\\n\\\\nThere will be a small colony on Mars similar to today\\'s on Antarctica, mostly for research, and to satisfy the human desire to explore. You\\'ll be able to visit, but the price will be incredible and few people will do so.\\\\n\\\\nAI will be roughly as smart as humans, and robots will do most of the jobs humans do today. Most things will be very cheap, but only high end engineers and artists will be able to find work. A basic income policy will have been introduced long before, and it will support most of the population. By 50 years from now this will seem perfectly normal. The few people who work will get benefits like waterfront homes and private resorts, along with extreme prestige. (This is the utopian version. I also have a dystopian version, but I\\'m in a good mood today.)\\\\n\\\\nEntertainment will be fully immersive. You won\\'t be able to tell it\\'s not real. You might even be able to erase the memory that you\\'re in a program, so that you think you\\'re really there. Maybe you\\'re in a program right now and don\\'t even know it. Say hi to the robots for me when you wake up.\", \"upvoteCount\": 348, \"url\": \"https://www.quora.com/What-will-the-worlds-technology-be-like-in-50-years?top_ans=143061584\"}, {\"@type\": \"Answer\", \"author\": {\"@type\": \"Person\", \"affiliation\": {\"@type\": \"CollegeOrUniversity\", \"name\": \"UNM/UCLA\"}, \"answerCount\": 11177, \"description\": \"USMC 1967-72 then study  Theater Arts & Film & Architecture and Philosophy, UNM/UCLA\", \"followerCount\": 815, \"hasCredential\": {\"@type\": \"EducationalOccupationalCredential\", \"credentialCategory\": \"degree\", \"educationLevel\": \"USMC 1967-72 then study \"}, \"image\": \"https://qph.cf2.quoracdn.net/main-thumb-310085432-100-hbafzrzwwqikuauhksedorffmybihhzw.jpeg\", \"knowsAbout\": [\"Theater Arts & Film\", \"Architecture and Philosophy\"], \"name\": \"T. Stephen Cornelius\", \"url\": \"https://www.quora.com/profile/T-Stephen-Cornelius\"}, '"
      ]
     },
     "execution_count": 113,
     "metadata": {},
     "output_type": "execute_result"
    }
   ],
   "source": [
    "answers_list[1]"
   ]
  },
  {
   "cell_type": "code",
   "execution_count": 86,
   "metadata": {},
   "outputs": [
    {
     "data": {
      "text/plain": [
       "'111'"
      ]
     },
     "execution_count": 86,
     "metadata": {},
     "output_type": "execute_result"
    }
   ],
   "source": []
  },
  {
   "cell_type": "code",
   "execution_count": null,
   "metadata": {},
   "outputs": [],
   "source": [
    "\n"
   ]
  }
 ],
 "metadata": {
  "kernelspec": {
   "display_name": "Python 3.9.12 ('base')",
   "language": "python",
   "name": "python3"
  },
  "language_info": {
   "codemirror_mode": {
    "name": "ipython",
    "version": 3
   },
   "file_extension": ".py",
   "mimetype": "text/x-python",
   "name": "python",
   "nbconvert_exporter": "python",
   "pygments_lexer": "ipython3",
   "version": "3.9.12"
  },
  "orig_nbformat": 4,
  "vscode": {
   "interpreter": {
    "hash": "ad2bdc8ecc057115af97d19610ffacc2b4e99fae6737bb82f5d7fb13d2f2c186"
   }
  }
 },
 "nbformat": 4,
 "nbformat_minor": 2
}
