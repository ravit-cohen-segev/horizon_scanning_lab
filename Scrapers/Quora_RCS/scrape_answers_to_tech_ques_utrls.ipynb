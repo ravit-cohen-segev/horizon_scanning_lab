{
 "cells": [
  {
   "cell_type": "code",
   "execution_count": null,
   "metadata": {},
   "outputs": [],
   "source": [
    "from bs4 import BeautifulSoup\n",
    "import pandas as pd\n",
    "import numpy as np\n",
    "import requests\n",
    "import time\n",
    "import ssl\n",
    "import os\n"
   ]
  },
  {
   "cell_type": "code",
   "execution_count": null,
   "metadata": {},
   "outputs": [],
   "source": [
    "#For ignoring SSL ceritficate errors\n",
    "ctx = ssl.create_default_context()\n",
    "ctx.check_hostname = False\n",
    "ctx.verify_mode = ssl.CERT_NONE"
   ]
  },
  {
   "cell_type": "code",
   "execution_count": null,
   "metadata": {},
   "outputs": [],
   "source": [
    "#helper function get first number in string\n",
    "\n",
    "def str_first_num(s):\n",
    "    first_num = ''\n",
    "    flag_digit=False\n",
    "    for el in s: \n",
    "        if el.isdigit():\n",
    "            first_num += el\n",
    "            flag_digit = True\n",
    "        else:\n",
    "            if flag_digit:\n",
    "                break\n",
    "    return first_num\n",
    "    "
   ]
  },
  {
   "cell_type": "code",
   "execution_count": null,
   "metadata": {},
   "outputs": [],
   "source": [
    "#read question urls from csv file\n",
    "src_path = r\"C:\\Users\\Ravit\\Documents\\horizon_scanning_lab\\Scrapers\\Quora_RCS\\answers_and_info\\quet_indexes.csv\"\n",
    "df = pd.read_csv(src_path)"
   ]
  },
  {
   "cell_type": "code",
   "execution_count": null,
   "metadata": {},
   "outputs": [],
   "source": [
    "#get list of urls\n",
    "url_list = list(df['url'].values)"
   ]
  },
  {
   "cell_type": "code",
   "execution_count": null,
   "metadata": {},
   "outputs": [],
   "source": [
    "url_list"
   ]
  },
  {
   "cell_type": "code",
   "execution_count": null,
   "metadata": {},
   "outputs": [],
   "source": [
    "#request url html\n",
    "page = requests.get(url_list[0])\n",
    "\n",
    "#create soup object with htmal parser\n",
    "soup = BeautifulSoup(page.content, 'html.parser')\n"
   ]
  },
  {
   "cell_type": "code",
   "execution_count": null,
   "metadata": {},
   "outputs": [],
   "source": [
    "answers = soup.find_all('script', {\"type\": \"application/ld+json\"})[0]\n",
    "#convert soup object to string\n",
    "answers = [str(a) for a in answers][0]\n",
    "#split answers with text separator\n",
    "answers_list = answers.split('\"text\":')"
   ]
  },
  {
   "cell_type": "code",
   "execution_count": null,
   "metadata": {},
   "outputs": [],
   "source": [
    "columns = [\"Answer\", \"name\", \"knowsAbout\",  \"hasCredential\", \"upvoteCount\", \"affiliation\", \"answerCount\", \"followerCount\"]\n",
    "\n",
    "#create df with nans to fill it later with values\n",
    "x_shape = (len(answers_list)-1, len(columns))\n",
    "x = np.tile(np.nan, x_shape)\n",
    "answers_df = pd.DataFrame(x, columns = columns)"
   ]
  },
  {
   "cell_type": "code",
   "execution_count": null,
   "metadata": {},
   "outputs": [],
   "source": [
    "#get answer value\n",
    "split_post = answers_list[1].split(\"upvoteCount\")\n",
    "answers_df[\"Answer\"].iloc[0] = split_post[0]\n",
    "\n",
    "#remove answer\n",
    "split_post = split_post[1]\n",
    "\n",
    "#get upvote value\n",
    "upvote = str_first_num(split_post)\n",
    "\n",
    "answers_df[\"upvoteCount\"].iloc[0] = float(upvote)\n",
    "\n",
    "#get affiliation which is right before answercount\n",
    "split_post = split_post.split(\"affiliation\")\n",
    "split_post = split_post[1]\n",
    "split_post = split_post.split(\"answerCount\")\n",
    "\n",
    "answers_df[\"affiliation\"].iloc[0] = split_post[0]\n",
    "\n",
    "split_post = split_post[1]\n",
    "\n",
    "#get answer count\n",
    "answers_df[\"answerCount\"].iloc[0] = str_first_num(split_post)\n",
    "\n",
    "#get followercount\n",
    "split_post = split_post.split(\"followerCount\")\n",
    "answers_df['followerCount'] .iloc[0]= str_first_num(split_post[1])\n",
    "\n",
    "split_post = split_post[1]\n",
    "\n",
    "#get person credentials (between hascredentials and knowsabout)\n",
    "split_post = split_post.split(\"hasCredential\")[1]\n",
    "split_post = split_post.split(\"knowsAbout\")\n",
    "\n",
    "#remove url from credential part\n",
    "answers_df['hasCredential'].iloc[0] = split_post[0].split(\"image\")[0]\n",
    "split_post = split_post[1]\n",
    "\n",
    "#Finally, get knowsabout and name. Remove url image from knowsabout too\n",
    "split_post = split_post.split(\"name\")\n",
    "answers_df['knowsAbout'].iloc[0] = split_post[0].split(\"image\")[0]\n",
    "\n",
    "answers_df['name'].iloc[0] = split_post[1]\n",
    "\n",
    "\n",
    " "
   ]
  },
  {
   "cell_type": "code",
   "execution_count": null,
   "metadata": {},
   "outputs": [],
   "source": [
    "answers_list[1]"
   ]
  },
  {
   "cell_type": "code",
   "execution_count": null,
   "metadata": {},
   "outputs": [],
   "source": [
    "def answers_into_df(url):\n",
    "    '''input: url for scrapping answers to a particular question.\n",
    "        out: df with answers for each url/question'''\n",
    "    \n",
    "    #request url html\n",
    "    page = requests.get(url)\n",
    "   \n",
    "    #create soup object with htmal parser\n",
    "    soup = BeautifulSoup(page.content, 'html.parser')\n",
    "\n",
    "    answers = soup.find_all('script', {\"type\": \"application/ld+json\"})[0]\n",
    "    #convert soup object to string\n",
    "    answers = [str(a) for a in answers][0]\n",
    "    #split answers with text separator\n",
    "    answers_list = answers.split('\"text\":')\n",
    "    #first element is just the header of a page. remove it\n",
    "    answers_list = answers_list[1:]\n",
    "    \n",
    "    #create df with nans to fill it later with values\n",
    "    columns = [\"Answer\", \"upvoteCount\", \"affiliation\", \"answerCount\", \"followerCount\", \"hasCredential\",  \"knowsAbout\", \"name\"]\n",
    "     \n",
    "    x_shape = (len(answers_list), len(columns))\n",
    "    x = np.tile(np.nan, x_shape)\n",
    "    answers_df = pd.DataFrame(x, columns = columns)\n",
    "\n",
    "    for i, ans in enumerate(answers_list):    \n",
    "        #get answer value\n",
    "        split_post = ans.split(\"upvoteCount\")\n",
    "        answers_df[\"Answer\"].iloc[i] = split_post[0]\n",
    "\n",
    "        #remove answer\n",
    "        split_post = split_post[1]\n",
    "\n",
    "        #get upvote value\n",
    "        upvote = str_first_num(split_post)\n",
    "\n",
    "        answers_df[\"upvoteCount\"].iloc[i] = float(upvote)\n",
    "\n",
    "        #get list of categories that exist in answer post\n",
    "        existing_columns = [col for col in columns if col in ans]\n",
    "                \n",
    "        #get values to columns that exist in post\n",
    "        \n",
    "        for c in existing_columns:          \n",
    "            if len(split_post)>1:\n",
    "                split_post = split_post[1]\n",
    "            try:\n",
    "                split_post = split_post.split(c)\n",
    "            except:\n",
    "                pass\n",
    "            #if category is numeric get number\n",
    "            if \"Count\" in c:\n",
    "                answers_df[c].iloc[i] = str_first_num(split_post) \n",
    "            #remove first element of split\n",
    "            if len(split_post)>1:\n",
    "                split_post = split_post[1]\n",
    "    return answers_df \n",
    "        \n",
    "        \n",
    "        \n",
    "        \n",
    "\n",
    "            "
   ]
  },
  {
   "cell_type": "code",
   "execution_count": 104,
   "metadata": {},
   "outputs": [],
   "source": [
    "\n",
    "answers_into_df(url_list[0])"
   ]
  },
  {
   "cell_type": "code",
   "execution_count": null,
   "metadata": {},
   "outputs": [],
   "source": [
    "    '''   \n",
    "                split_post = split_post.split(\"affiliation\")\n",
    "                split_post = split_post[1]\n",
    "                split_post = split_post.split(\"answerCount\")\n",
    "\n",
    "                answers_df[\"affiliation\"].iloc[i] = split_post[0]\n",
    "\n",
    "                split_post = split_post[1]\n",
    "\n",
    "                #get answer count\n",
    "                answers_df[\"answerCount\"].iloc[i] = str_first_num(split_post)\n",
    "\n",
    "                #get followercount\n",
    "                split_post = split_post.split(\"followerCount\")\n",
    "                answers_df['followerCount'] .iloc[i]= str_first_num(split_post[1])\n",
    "\n",
    "                split_post = split_post[1]\n",
    "\n",
    "                #get person credentials (between hascredentials and knowsabout)\n",
    "                split_post = split_post.split(\"hasCredential\")[1]\n",
    "                split_post = split_post.split(\"knowsAbout\")\n",
    "\n",
    "                #remove url from credential part\n",
    "                answers_df['hasCredential'].iloc[i] = split_post[0].split(\"image\")[0]\n",
    "                split_post = split_post[1]\n",
    "\n",
    "                #Finally, get knowsabout and name. Remove url image from knowsabout too\n",
    "                split_post = split_post.split(\"name\")\n",
    "                answers_df['knowsAbout'].iloc[i] = split_post[0].split(\"image\")[0]\n",
    "\n",
    "                answers_df['name'].iloc[i] = split_post[1]\n",
    "\n",
    "        return answers_df   \n",
    "        '''  "
   ]
  },
  {
   "cell_type": "code",
   "execution_count": null,
   "metadata": {},
   "outputs": [],
   "source": [
    "columns"
   ]
  },
  {
   "cell_type": "code",
   "execution_count": null,
   "metadata": {},
   "outputs": [],
   "source": [
    "ex_it = iter(columns)"
   ]
  },
  {
   "cell_type": "code",
   "execution_count": null,
   "metadata": {},
   "outputs": [],
   "source": [
    "next(ex_it)"
   ]
  },
  {
   "cell_type": "code",
   "execution_count": null,
   "metadata": {},
   "outputs": [],
   "source": []
  }
 ],
 "metadata": {
  "kernelspec": {
   "display_name": "Python 3.9.12 ('base')",
   "language": "python",
   "name": "python3"
  },
  "language_info": {
   "codemirror_mode": {
    "name": "ipython",
    "version": 3
   },
   "file_extension": ".py",
   "mimetype": "text/x-python",
   "name": "python",
   "nbconvert_exporter": "python",
   "pygments_lexer": "ipython3",
   "version": "3.9.12"
  },
  "orig_nbformat": 4,
  "vscode": {
   "interpreter": {
    "hash": "ad2bdc8ecc057115af97d19610ffacc2b4e99fae6737bb82f5d7fb13d2f2c186"
   }
  }
 },
 "nbformat": 4,
 "nbformat_minor": 2
}
