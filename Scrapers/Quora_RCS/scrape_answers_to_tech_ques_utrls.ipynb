{
 "cells": [
  {
   "cell_type": "code",
   "execution_count": 26,
   "metadata": {},
   "outputs": [],
   "source": [
    "from bs4 import BeautifulSoup\n",
    "import pandas as pd\n",
    "import requests\n",
    "import html2text\n",
    "import os\n"
   ]
  },
  {
   "cell_type": "code",
   "execution_count": 6,
   "metadata": {},
   "outputs": [],
   "source": [
    "#read question urls from csv file\n",
    "src_path = r\"C:\\Users\\Ravit\\Documents\\horizon_scanning_lab\\Scrapers\\Quora_RCS\\answers_and_info\\quet_indexes.csv\"\n",
    "df = pd.read_csv(src_path)"
   ]
  },
  {
   "cell_type": "code",
   "execution_count": 11,
   "metadata": {},
   "outputs": [],
   "source": [
    "#get list of urls\n",
    "url_list = list(df['url'].values)"
   ]
  },
  {
   "cell_type": "code",
   "execution_count": 16,
   "metadata": {},
   "outputs": [
    {
     "data": {
      "text/plain": [
       "['https://www.quora.com/What-will-the-worlds-technology-be-like-in-50-years',\n",
       " 'https://www.quora.com/How-long-could-the-brain-survive-theoretically-if-we-had-the-technology-to-replace-all-other-body-parts-as-you-aged-with-functioning-organs-that-are-grown-in-a-lab-using-your-DNA',\n",
       " 'https://www.quora.com/What-are-the-top-10-emerging-technologies-in-the-next-5-10-years-2020%E2%80%932025',\n",
       " 'https://www.quora.com/What-are-the-upcoming-emerging-technologies-in-software-industry',\n",
       " 'https://www.quora.com/What-will-the-worlds-technology-be-like-in-50-years',\n",
       " 'https://www.quora.com/What-are-the-most-advanced-technologies-that-people-dont-know-about-yet',\n",
       " 'https://www.quora.com/When-will-Fusion-reactors-become-a-reality',\n",
       " 'https://www.quora.com/In-future-IOT-Internet-of-things-is-trending-technology-or-not',\n",
       " 'https://www.quora.com/What-will-the-worlds-technology-be-like-in-50-years',\n",
       " 'https://www.quora.com/What-are-the-solutions-to-emerging-issues-in-communication']"
      ]
     },
     "execution_count": 16,
     "metadata": {},
     "output_type": "execute_result"
    }
   ],
   "source": [
    "url_list"
   ]
  },
  {
   "cell_type": "code",
   "execution_count": 19,
   "metadata": {},
   "outputs": [],
   "source": [
    "#request url html\n",
    "page = requests.get(url_list[0])"
   ]
  },
  {
   "cell_type": "code",
   "execution_count": 50,
   "metadata": {},
   "outputs": [],
   "source": [
    "soup = BeautifulSoup(page.content, 'html.parser')"
   ]
  },
  {
   "cell_type": "code",
   "execution_count": 73,
   "metadata": {},
   "outputs": [],
   "source": [
    "html_str = soup.prettify()"
   ]
  },
  {
   "cell_type": "code",
   "execution_count": 74,
   "metadata": {},
   "outputs": [],
   "source": [
    "texts = html_str.split('{\\\\\\\\\\\\\"spans\\\\\\\\\\\\\": [{\\\\\\\\\\\\\"text\\\\\\\\\\\\\": \\\\\\\\\\\\')"
   ]
  },
  {
   "cell_type": "code",
   "execution_count": 77,
   "metadata": {},
   "outputs": [
    {
     "data": {
      "text/plain": [
       "669"
      ]
     },
     "execution_count": 77,
     "metadata": {},
     "output_type": "execute_result"
    }
   ],
   "source": [
    "len(texts)"
   ]
  },
  {
   "cell_type": "code",
   "execution_count": null,
   "metadata": {},
   "outputs": [],
   "source": []
  }
 ],
 "metadata": {
  "kernelspec": {
   "display_name": "Python 3.9.12 ('base')",
   "language": "python",
   "name": "python3"
  },
  "language_info": {
   "codemirror_mode": {
    "name": "ipython",
    "version": 3
   },
   "file_extension": ".py",
   "mimetype": "text/x-python",
   "name": "python",
   "nbconvert_exporter": "python",
   "pygments_lexer": "ipython3",
   "version": "3.9.12"
  },
  "orig_nbformat": 4,
  "vscode": {
   "interpreter": {
    "hash": "ad2bdc8ecc057115af97d19610ffacc2b4e99fae6737bb82f5d7fb13d2f2c186"
   }
  }
 },
 "nbformat": 4,
 "nbformat_minor": 2
}
