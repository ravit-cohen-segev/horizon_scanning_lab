{
 "cells": [
  {
   "cell_type": "code",
   "execution_count": 1,
   "metadata": {},
   "outputs": [],
   "source": [
    "from bs4 import BeautifulSoup\n",
    "import pandas as pd\n",
    "import numpy as np\n",
    "import time\n",
    "import ssl\n",
    "import os\n",
    "import re\n",
    "\n",
    "from selenium import webdriver\n",
    "from selenium.webdriver.support.ui import WebDriverWait\n",
    "from selenium.webdriver.common.by import By\n",
    "from selenium.webdriver.support.ui import Select\n",
    "\n"
   ]
  },
  {
   "cell_type": "code",
   "execution_count": 2,
   "metadata": {},
   "outputs": [],
   "source": [
    "#For ignoring SSL ceritficate errors\n",
    "ctx = ssl.create_default_context()\n",
    "ctx.check_hostname = False\n",
    "ctx.verify_mode = ssl.CERT_NONE"
   ]
  },
  {
   "cell_type": "code",
   "execution_count": 3,
   "metadata": {},
   "outputs": [],
   "source": [
    "class infine_scroll(object): \n",
    "  def __init__(self, last):\n",
    "    self.last = last\n",
    "\n",
    "  def __call__(self, driver):\n",
    "    new = driver.execute_script('return document.body.scrollHeight')  \n",
    "    if new > self.last:\n",
    "        return new\n",
    "    else:\n",
    "        return False"
   ]
  },
  {
   "cell_type": "code",
   "execution_count": 4,
   "metadata": {},
   "outputs": [],
   "source": [
    "def get_html_from_url(url):\n",
    "  browser = webdriver.Chrome('C:\\Program Files\\chromedriver_win32 (1)\\chromedriver') \n",
    "  browser.set_page_load_timeout(30) \n",
    "  browser.get(url)\n",
    "   \n",
    "  last_height = browser.execute_script('return document.body.scrollHeight')\n",
    "\n",
    "  flag=1\n",
    "\n",
    "  while flag==1:\n",
    "    \n",
    "    try:\n",
    "       browser.execute_script('window.scrollTo(0,document.body.scrollHeight)')\n",
    "       wait = WebDriverWait(browser, 10)\n",
    "\n",
    "       new_height = wait.until(infine_scroll(last_height))\n",
    "       last_height = new_height\n",
    "\n",
    "    except:\n",
    "        print(\"End of page reached\")\n",
    "        flag = 0\n",
    "  html = browser.page_source\n",
    "  return html"
   ]
  },
  {
   "cell_type": "code",
   "execution_count": 5,
   "metadata": {},
   "outputs": [],
   "source": [
    "table_tech = r\"C:\\Users\\Ravit\\Documents\\horizon_scanning_lab\\Scrapers\\Emerging_Tech_data_2020\\Emerging_tech_master_table_20210929_Emerge_Tech_.csv\"\n",
    "table_tech = pd.read_csv(table_tech)"
   ]
  },
  {
   "cell_type": "code",
   "execution_count": 6,
   "metadata": {},
   "outputs": [],
   "source": [
    "fields_list = list(set(table_tech['NewSection'].values))"
   ]
  },
  {
   "cell_type": "code",
   "execution_count": 7,
   "metadata": {},
   "outputs": [],
   "source": [
    "#perform search in Quora and return relevant urls with more than ~100 folloewrs"
   ]
  },
  {
   "cell_type": "code",
   "execution_count": 8,
   "metadata": {},
   "outputs": [],
   "source": [
    "search_link = 'https://www.quora.com/search?q='\n",
    "\n",
    "#create search links\n",
    "all_search_links = []\n",
    "for field in fields_list:\n",
    "    field = field.replace(' & ','%20')\n",
    "    field = field.replace(' ','%20')\n",
    "    all_search_links.append(search_link+field)\n"
   ]
  },
  {
   "cell_type": "code",
   "execution_count": 9,
   "metadata": {},
   "outputs": [
    {
     "data": {
      "text/plain": [
       "['https://www.quora.com/search?q=Medicine',\n",
       " 'https://www.quora.com/search?q=Architecture',\n",
       " 'https://www.quora.com/search?q=IT%20Communication',\n",
       " 'https://www.quora.com/search?q=Art',\n",
       " 'https://www.quora.com/search?q=Energy',\n",
       " 'https://www.quora.com/search?q=Finance',\n",
       " 'https://www.quora.com/search?q=Construction%20Production',\n",
       " 'https://www.quora.com/search?q=Military',\n",
       " 'https://www.quora.com/search?q=Mining',\n",
       " 'https://www.quora.com/search?q=Legal',\n",
       " 'https://www.quora.com/search?q=Electronics',\n",
       " 'https://www.quora.com/search?q=Education',\n",
       " 'https://www.quora.com/search?q=Space',\n",
       " 'https://www.quora.com/search?q=Transport',\n",
       " 'https://www.quora.com/search?q=Human%20Behavior%20Psychology',\n",
       " 'https://www.quora.com/search?q=Media',\n",
       " 'https://www.quora.com/search?q=Materials',\n",
       " 'https://www.quora.com/search?q=Pharma',\n",
       " 'https://www.quora.com/search?q=Entertainment',\n",
       " 'https://www.quora.com/search?q=Climate%20Geo',\n",
       " 'https://www.quora.com/search?q=Agriculture']"
      ]
     },
     "execution_count": 9,
     "metadata": {},
     "output_type": "execute_result"
    }
   ],
   "source": [
    "all_search_links"
   ]
  },
  {
   "cell_type": "code",
   "execution_count": 21,
   "metadata": {},
   "outputs": [],
   "source": [
    "class Extract_href_urls():\n",
    "    def __init__(self, link):\n",
    "        self.get_group_links(link)\n",
    "        self.get_topic_urls()\n",
    "        self.all_hrefs = []\n",
    "        self.get_hrefs()\n",
    "          \n",
    "    def get_group_links(self, link):\n",
    "        url_html = get_html_from_url(link)\n",
    "        self.soup = BeautifulSoup(url_html)\n",
    "        #find all boxes of groups\n",
    "        all_group_boxes = self.soup.find_all('div', {'class':\"q-box qu-pl--medium qu-pr--medium qu-borderBottom qu-tapHighlight--none qu-display--flex qu-alignItems--center\"})\n",
    "        self.groups_names = [box.find_all('span', {'class':\"q-text qu-wordBreak--break-word\"}) for box in all_group_boxes]\n",
    "        #keep only text\n",
    "        self.groups_names = [group[0].find_next(text=True).strip() for group in self.groups_names if group != []]\n",
    "        self.groups_names = list(set(self.groups_names))\n",
    "\n",
    "    \n",
    "    def get_topic_urls(self):\n",
    "        beg_top_url = 'https://www.quora.com/topic/'\n",
    "        self.topic_urls = []\n",
    "\n",
    "        for name in self.groups_names:\n",
    "            if ' ' in name:\n",
    "                continue\n",
    "            topic_url = beg_top_url+name\n",
    "            #get html to see if there are any stories. If not discard the url\n",
    "            \n",
    "            topic_html = get_html_from_url(topic_url)\n",
    "            soup_topic = BeautifulSoup(topic_html)\n",
    "            \n",
    "            stories = soup_topic.find_all('div', {'class':'q-box'})                   \n",
    "                    \n",
    "            if stories != []:\n",
    "                self.topic_urls.append(topic_url)\n",
    "            \n",
    "\n",
    "    @staticmethod\n",
    "    def get_url_tag(box):\n",
    "        #By find_element not working in selenium using string parsing instead\n",
    "        url=None\n",
    "        box = str(box)\n",
    "        split_box = box.split()\n",
    "        for word in split_box:\n",
    "            if 'href' in word:\n",
    "                url = word.strip('href=').strip('\"')\n",
    "                break\n",
    "        return url\n",
    "    \n",
    "    def get_hrefs(self): \n",
    "        for top in self.topic_urls:\n",
    "            top_html = get_html_from_url(top)\n",
    "            top_soup = BeautifulSoup(top_html)\n",
    "       \n",
    "            all_quests = top_soup.find_all('a', {'class':'q-box qu-display--block qu-cursor--pointer qu-hover--textDecoration--underline Link___StyledBox-t2xg9c-0 dxHfBI'})\n",
    "            \n",
    "            for quest in all_quests:\n",
    "                link_hrefs = self.get_url_tag(quest)\n",
    "                self.all_hrefs.append(link_hrefs)\n",
    "\n",
    "             \n",
    "        \n",
    "            \n",
    "        \n",
    "        \n",
    "\n",
    "        \n",
    "\n"
   ]
  },
  {
   "cell_type": "code",
   "execution_count": 22,
   "metadata": {},
   "outputs": [
    {
     "name": "stderr",
     "output_type": "stream",
     "text": [
      "C:\\Users\\Ravit\\AppData\\Local\\Temp\\ipykernel_53912\\3323844770.py:2: DeprecationWarning: executable_path has been deprecated, please pass in a Service object\n",
      "  browser = webdriver.Chrome('C:\\Program Files\\chromedriver_win32 (1)\\chromedriver')\n"
     ]
    },
    {
     "name": "stdout",
     "output_type": "stream",
     "text": [
      "End of page reached\n",
      "End of page reached\n",
      "End of page reached\n",
      "End of page reached\n",
      "End of page reached\n",
      "End of page reached\n",
      "End of page reached\n",
      "End of page reached\n",
      "End of page reached\n"
     ]
    }
   ],
   "source": [
    "res = Extract_href_urls(all_search_links[0])"
   ]
  },
  {
   "cell_type": "code",
   "execution_count": 26,
   "metadata": {},
   "outputs": [
    {
     "data": {
      "text/plain": [
       "81"
      ]
     },
     "execution_count": 26,
     "metadata": {},
     "output_type": "execute_result"
    }
   ],
   "source": [
    "len(list(set(res.all_hrefs)))\n",
    "\n"
   ]
  },
  {
   "cell_type": "code",
   "execution_count": null,
   "metadata": {},
   "outputs": [],
   "source": []
  },
  {
   "cell_type": "code",
   "execution_count": null,
   "metadata": {},
   "outputs": [],
   "source": []
  },
  {
   "cell_type": "code",
   "execution_count": 38,
   "metadata": {},
   "outputs": [],
   "source": [
    "ex_link = all_search_links[-1]\n"
   ]
  },
  {
   "cell_type": "code",
   "execution_count": 39,
   "metadata": {},
   "outputs": [
    {
     "data": {
      "text/plain": [
       "'https://www.quora.com/search?q=Education'"
      ]
     },
     "execution_count": 39,
     "metadata": {},
     "output_type": "execute_result"
    }
   ],
   "source": [
    "ex_link"
   ]
  },
  {
   "cell_type": "code",
   "execution_count": 40,
   "metadata": {},
   "outputs": [
    {
     "name": "stderr",
     "output_type": "stream",
     "text": [
      "C:\\Users\\Ravit\\AppData\\Local\\Temp\\ipykernel_48996\\4126610301.py:2: DeprecationWarning: executable_path has been deprecated, please pass in a Service object\n",
      "  browser = webdriver.Chrome('C:\\Program Files\\chromedriver_win32 (1)\\chromedriver')\n"
     ]
    },
    {
     "name": "stdout",
     "output_type": "stream",
     "text": [
      "End of page reached\n"
     ]
    }
   ],
   "source": [
    "url_html = get_html_from_url(ex_link)"
   ]
  },
  {
   "cell_type": "code",
   "execution_count": 41,
   "metadata": {},
   "outputs": [],
   "source": [
    "soup = BeautifulSoup(url_html)"
   ]
  },
  {
   "cell_type": "code",
   "execution_count": 42,
   "metadata": {},
   "outputs": [],
   "source": [
    "#find all boxes of groups\n",
    "all_group_boxes = soup.find_all('div', {'class':\"q-box qu-pl--medium qu-pr--medium qu-borderBottom qu-tapHighlight--none qu-display--flex qu-alignItems--center\"})"
   ]
  },
  {
   "cell_type": "code",
   "execution_count": 77,
   "metadata": {},
   "outputs": [],
   "source": [
    "all_groups_names = [box.find_all('span', {'class':\"q-text qu-wordBreak--break-word\"}) for box in all_group_boxes]\n",
    "#keep only text\n",
    "all_groups_names = [group[0].find_next(text=True).strip() for group in all_groups_names if group != []]"
   ]
  },
  {
   "cell_type": "code",
   "execution_count": 83,
   "metadata": {},
   "outputs": [],
   "source": [
    "all_groups_names = list(set(all_groups_names))"
   ]
  },
  {
   "cell_type": "code",
   "execution_count": 84,
   "metadata": {},
   "outputs": [
    {
     "data": {
      "text/plain": [
       "['Educative',\n",
       " 'Educate!',\n",
       " 'Quality Skill Consultancy',\n",
       " 'Educator (company)',\n",
       " 'Parwarish Cares Foundation',\n",
       " 'Educative (company)',\n",
       " 'Pinecrest High School',\n",
       " 'Shri M.B. Vamdot High School',\n",
       " 'Educated (book)',\n",
       " 'Bangladesh Army International University of Science and Technology',\n",
       " 'EDUCATION',\n",
       " 'IJLB Publishing',\n",
       " 'SaiBaba InfoTech',\n",
       " 'US History',\n",
       " 'Nehru College of Aeronautics and Applied Sciences',\n",
       " 'Educators (Indian company)',\n",
       " 'Educating',\n",
       " 'Education',\n",
       " 'Notestore']"
      ]
     },
     "execution_count": 84,
     "metadata": {},
     "output_type": "execute_result"
    }
   ],
   "source": [
    "all_groups_names\n"
   ]
  },
  {
   "cell_type": "code",
   "execution_count": null,
   "metadata": {},
   "outputs": [],
   "source": []
  },
  {
   "cell_type": "code",
   "execution_count": 91,
   "metadata": {},
   "outputs": [],
   "source": [
    "beg_top_url = 'https://www.quora.com/topic/'\n",
    "topic_urls = []\n",
    "\n",
    "for name in all_groups_names:\n",
    "    if ' ' in name:\n",
    "        continue\n",
    "    topic_url = beg_top_url+name\n",
    "    topic_urls.append(topic_url)\n",
    "    "
   ]
  },
  {
   "cell_type": "code",
   "execution_count": 92,
   "metadata": {},
   "outputs": [
    {
     "data": {
      "text/plain": [
       "['https://www.quora.com/topic/Educative',\n",
       " 'https://www.quora.com/topic/Educate!',\n",
       " 'https://www.quora.com/topic/EDUCATION',\n",
       " 'https://www.quora.com/topic/Educating',\n",
       " 'https://www.quora.com/topic/Education',\n",
       " 'https://www.quora.com/topic/Notestore']"
      ]
     },
     "execution_count": 92,
     "metadata": {},
     "output_type": "execute_result"
    }
   ],
   "source": [
    "topic_urls"
   ]
  },
  {
   "cell_type": "code",
   "execution_count": 93,
   "metadata": {},
   "outputs": [],
   "source": [
    "\n",
    "all_a_classes = soup.find_all('a', {'class':\"q-box qu-display--block qu-cursor--pointer qu-hover--textDecoration--none Link___StyledBox-t2xg9c-0 dxHfBI\"})"
   ]
  },
  {
   "cell_type": "code",
   "execution_count": 177,
   "metadata": {},
   "outputs": [
    {
     "data": {
      "text/plain": [
       "<a class=\"q-box qu-display--block qu-cursor--pointer qu-hover--textDecoration--none Link___StyledBox-t2xg9c-0 dxHfBI\" href=\"https://education1.quora.com/\" style=\"box-sizing: border-box; border-radius: inherit;\" target=\"_blank\"><div class=\"q-box qu-pl--medium qu-pr--medium qu-borderBottom qu-hover--bg--darken qu-tapHighlight--none qu-display--flex qu-alignItems--center\" style=\"box-sizing: border-box; position: relative;\"><div class=\"q-flex qu-alignItems--center qu-py--small qu-flex--auto qu-overflow--hidden\" style=\"box-sizing: border-box; display: flex;\"><div class=\"q-box qu-flex--none qu-display--inline-flex qu-mr--small qu-alignSelf--flex-start\" style=\"box-sizing: border-box;\"><div class=\"q-inlineFlex\" style=\"box-sizing: border-box; display: inline-flex;\"><div class=\"q-box qu-display--inline-flex\" style=\"box-sizing: border-box; z-index: 0;\"><div class=\"q-box qu-display--inline-flex\" style=\"box-sizing: border-box;\"><div class=\"q-relative qu-display--inline-flex puppeteer_popper_reference\" style=\"box-sizing: border-box; position: relative;\"><div aria-expanded=\"false\" aria-haspopup=\"dialog\" class=\"q-click-wrapper qu-display--inline-flex qu-tapHighlight--white qu-cursor--pointer ClickWrapper___StyledClickWrapperBox-zoqi4f-0 iyYUZT\" style=\"box-sizing: border-box; font: inherit; padding: 0px; color: inherit; text-align: inherit;\" tabindex=\"0\"><div class=\"q-inlineFlex qu-flex--none\" style=\"box-sizing: border-box; display: inline-flex; position: relative;\"><div class=\"q-inlineFlex\" style=\"box-sizing: border-box; display: inline-flex; position: relative;\"><div class=\"q-inlineFlex qu-overflow--hidden qu-borderRadius--squircle\" style=\"box-sizing: border-box; display: inline-flex; position: relative;\"><div class=\"q-box qu-bg--white__ignore_dark_mode qu-borderRadius--squircle\" style=\"box-sizing: border-box; position: absolute; inset: 1px;\"></div><img alt=\"Icon for Education\" class=\"q-image qu-display--block qu-size--40 qu-minWidth--40\" size=\"40\" src=\"https://qsf.cf2.quoracdn.net/-4-ans_frontend_assets.images.tribes.defaults.space_icon_pink.png-26-b775bb30fc463837.png\" style=\"box-sizing: border-box; max-width: 100%; position: relative;\"/><div class=\"q-box qu-borderRadius--squircle qu-borderAll qu-borderColor--darken Photo___StyledBox-sc-1x7c6d3-0\" style=\"box-sizing: border-box; position: absolute; inset: 0px;\"></div><div class=\"q-absolute qu-fullX qu-fullY qu-borderAll qu-borderColor--darken qu-borderRadius--squircle BadgeWrapper___StyledAbsolute-kazm88-0 bhmOme\" style=\"box-sizing: border-box; position: absolute; z-index: 1;\"></div></div></div></div></div></div></div></div></div></div><div class=\"q-box qu-flex--auto qu-overflow--hidden\" style=\"box-sizing: border-box;\"><div class=\"q-text qu-color--gray_dark\" style=\"box-sizing: border-box;\"><div class=\"q-flex\" style=\"box-sizing: border-box; display: flex;\"><div class=\"q-box qu-mr--small\" style=\"box-sizing: border-box; flex-grow: 1;\"><div class=\"q-text qu-medium qu-wordBreak--break-word\" style=\"box-sizing: border-box;\"><span class=\"q-text\" style=\"box-sizing: border-box;\"><span class=\"q-text puppeteer_test_tribe_name\" style=\"box-sizing: border-box;\"><span><span style=\"background: rgba(46, 105, 255, 0.2);\">Education</span><span></span></span></span></span></div><div class=\"q-text qu-dynamicFontSize--small qu-color--gray_light qu-truncateLines--1 qu-passColorToLinks\" style=\"box-sizing: border-box;\">586 followers</div></div><div class=\"q-flex qu-alignItems--center\" style=\"box-sizing: border-box; display: flex;\"></div></div></div><div class=\"q-box qu-flex--auto\" style=\"box-sizing: border-box;\"><div class=\"q-text qu-dynamicFontSize--small qu-color--gray_light qu-passColorToLinks\" style=\"box-sizing: border-box;\"><div class=\"q-text qu-dynamicFontSize--small qu-truncateLines--2 qu-color--gray_dark qu-wordBreak--break-word\" style=\"box-sizing: border-box;\"><div class=\"q-text qu-dynamicFontSize--small qu-display--inline\" style=\"box-sizing: border-box;\">You will find useful information about Education.</div></div></div></div></div></div></div></a>"
      ]
     },
     "execution_count": 177,
     "metadata": {},
     "output_type": "execute_result"
    }
   ],
   "source": [
    "all_a_classes[1]"
   ]
  },
  {
   "cell_type": "code",
   "execution_count": 182,
   "metadata": {},
   "outputs": [],
   "source": [
    "def get_url_tag(box):\n",
    "    #By find_element not working in selenium using string parsing instead\n",
    "    url=None\n",
    "    box = str(box)\n",
    "    split_box = box.split()\n",
    "    for word in split_box:\n",
    "        if 'href' in word:\n",
    "            url = word.strip('href=').strip('\"')\n",
    "            break\n",
    "    return url"
   ]
  },
  {
   "cell_type": "code",
   "execution_count": 183,
   "metadata": {},
   "outputs": [
    {
     "name": "stdout",
     "output_type": "stream",
     "text": [
      "https://education1.quora.com/\n"
     ]
    }
   ],
   "source": [
    "print(get_url_tag(all_a_classes[1]))"
   ]
  },
  {
   "cell_type": "code",
   "execution_count": 175,
   "metadata": {},
   "outputs": [
    {
     "name": "stdout",
     "output_type": "stream",
     "text": [
      "https://educations.quora.com/\n"
     ]
    }
   ],
   "source": [
    "print(get_url_tag(all_a_classes[10]))"
   ]
  },
  {
   "cell_type": "code",
   "execution_count": null,
   "metadata": {},
   "outputs": [],
   "source": []
  }
 ],
 "metadata": {
  "kernelspec": {
   "display_name": "Python 3.9.12 ('base')",
   "language": "python",
   "name": "python3"
  },
  "language_info": {
   "codemirror_mode": {
    "name": "ipython",
    "version": 3
   },
   "file_extension": ".py",
   "mimetype": "text/x-python",
   "name": "python",
   "nbconvert_exporter": "python",
   "pygments_lexer": "ipython3",
   "version": "3.9.12"
  },
  "orig_nbformat": 4,
  "vscode": {
   "interpreter": {
    "hash": "ad2bdc8ecc057115af97d19610ffacc2b4e99fae6737bb82f5d7fb13d2f2c186"
   }
  }
 },
 "nbformat": 4,
 "nbformat_minor": 2
}
