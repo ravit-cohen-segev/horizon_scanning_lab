{
 "cells": [
  {
   "cell_type": "code",
   "execution_count": 3,
   "metadata": {},
   "outputs": [],
   "source": [
    "import pandas as pd\n",
    "import numpy as np\n",
    "import os"
   ]
  },
  {
   "cell_type": "code",
   "execution_count": 4,
   "metadata": {},
   "outputs": [],
   "source": [
    "load_path =r\"C:\\Users\\Ravit\\Documents\\rnd\\horizon_scanning_lab\\Scrapers\\Quora_RCS\\answers_and_info\\bert_outcome_analysis\\second_iteration\\posts_after_cleaning\""
   ]
  },
  {
   "cell_type": "code",
   "execution_count": 5,
   "metadata": {},
   "outputs": [],
   "source": [
    "file_names = os.listdir(load_path)"
   ]
  },
  {
   "cell_type": "code",
   "execution_count": 6,
   "metadata": {},
   "outputs": [],
   "source": [
    "df = pd.DataFrame([], columns = [\"Answer\", \"followerCount\", \"name\", \"upvoteCount\", \"answerCount\", \"answerViews\"])\n",
    "\n",
    "for file in file_names:\n",
    "    file_path = os.path.join(load_path, file)\n",
    "    temp_df = pd.read_csv(file_path)\n",
    "    df = pd.concat([df, temp_df])"
   ]
  },
  {
   "cell_type": "code",
   "execution_count": 12,
   "metadata": {},
   "outputs": [],
   "source": [
    "all_questions = set(df['question'])"
   ]
  },
  {
   "cell_type": "code",
   "execution_count": 1,
   "metadata": {},
   "outputs": [],
   "source": [
    "to_remove = ['https://www.quora.com/What-is-it-about-women-that-confuses-men-so-much', 'https://www.quora.com/Can-you-describe-your-most-impressive-speedup-of-programming-code-you-did-in-a-project-that-was-already-essentially-done', \n",
    " 'https://www.quora.com/Should-I-stop-playing-video-games-with-my-child', 'https://www.quora.com/Why-are-other-developed-countries-not-creating-artificial-suns-like-China',\n",
    "  'https://www.quora.com/unanswered/If-I-have-money-and-space-then-can-I-buy-super-computers','https://www.quora.com/Why-dont-our-giant-IT-companies-build-an-operating-system-Can-we-build-an-operating-system-called-IndianOS',\n",
    "   'https://www.quora.com/What-s-a-super-power-that-normal-humans-have-which-we-all-regularly-take-for-granted', \n",
    " 'https://www.quora.com/What-are-the-benefits-of-studying-C-programming-language-as-a-first-language','https://www.quora.com/Is-it-okay-to-keep-a-router-on-all-the-time',\n",
    " 'https://www.quora.com/Before-its-fall-what-economic-and-scientific-plans-did-the-Soviet-Union-have-for-the-21st-century', 'https://www.quora.com/Is-Google-the-most-powerful-company-in-the-world',\n",
    " 'https://www.quora.com/Are-we-living-in-a-universe-which-is-just-a-computer-simulation', 'https://www.quora.com/You-get-to-make-the-Minecraft-1-16-update-What-is-the-name-of-the-update-and-what-do-you-add-1',\n",
    "  'https://www.quora.com/I-just-got-out-of-prison-2-weeks-ago-and-I-am-living-with-a-friend-for-free-I-have-620-000-and-no-chance-of-getting-a-job-How-can-I-live-off-this-money', 'https://www.quora.com/Is-it-true-that-the-computers-they-use-at-NASA-are-30-40-years-ahead-of-consumer-computers-that-the-public-uses',\n",
    "   'https://www.quora.com/Is-it-true-that-China-has-created-an-artificial-sun',  'https://www.quora.com/Is-the-life-like-Silicon-Valley-TV-series-in-Silicon-Valley', 'https://www.quora.com/Are-there-instances-where-reverse-engineering-actually-helped-the-Chinese-build-better-products', 'https://www.quora.com/Why-is-Russia-skeptical-about-participating-in-the-lunar-gateway', \n",
    " 'https://www.quora.com/Being-a-structural-engineer-what-is-the-toughest-project-Gopalkrishna-Vishwanath-ever-designed',  'https://www.quora.com/Do-you-support-China-or-the-USA-in-the-trade-war', \n",
    " 'https://www.quora.com/What-made-you-cut-your-dad-out-of-your-life','https://www.quora.com/Is-it-possible-that-humans-are-a-super-computer-that-downloads-information-outside-the-human-visual-range-from-outer-space-and-uploads-information-to-outer-space-as-well', 'https://www.quora.com/Whats-a-good-book-to-read-on-crypto-currencies',  'https://www.quora.com/Who-would-win-a-single-Celestial-or-all-of-Star-Wars',\n",
    " 'https://www.quora.com/Where-are-some-practical-uses-of-data-structures-such-as-stack-queue-linked-list-tree-s-etc',  'https://www.quora.com/What-are-the-advantages-and-disadvantages-of-social-media-1', 'https://www.quora.com/Do-you-think-the-USA-will-sanction-Amit-Shah-and-some-ministers-of-India-if-the-Citizenship-Amendment-Bill-is-passed-by-the-Rajya-Sabha', 'https://www.quora.com/What-does-it-mean-by-world-and-world-coordinate-in-computer-graphics', 'https://www.quora.com/Why-is-Elon-Musk-the-person-of-the-year', 'https://www.quora.com/Was-the-top-secret-German-weapon-to-end-World-War-2-Wunderwaffe-known-as-Die-Glocke-ever-actually-produced',\n",
    " \n",
    " 'https://www.quora.com/Do-you-think-the-Indian-IT-industry-will-remain-a-choice-for-cheap-labour-as-people-are-frequently-switching-and-reaching-30-40-LPA-with-5-7-years-of-experience', 'https://www.quora.com/What-is-a-book-recommendation-on-Internet-of-Things-security', 'https://www.quora.com/Should-I-attend-McGill-or-Waterloo-for-mechanical-engineering', 'https://www.quora.com/What-are-some-facts-about-India-that-Indians-are-generally-unaware-of-1',  'https://www.quora.com/If-the-theory-of-peak-oil-is-true-what-is-the-proper-way-to-handle-this-predicament', 'https://www.quora.com/In-Emirates-Airbus-A380-what-is-the-space-under-the-stairs-used-for-kindly-see-comments-for-details',  'https://www.quora.com/Will-Chinas-artificial-sun-be-a-double-edged-sword', 'https://www.quora.com/How-do-long-range-space-probes-change-trajectory', 'https://www.quora.com/What-are-clich%C3%A9s-and-tropes-in-movies-that-you-are-tired-of-seeing',\n",
    "   \n",
    " 'https://www.quora.com/Is-game-programming-tough',  'https://www.quora.com/Does-China-have-AI-expertise', 'https://www.quora.com/What-are-the-key-highlights-of-the-Union-Budget-2022' ]"
   ]
  },
  {
   "cell_type": "code",
   "execution_count": 17,
   "metadata": {},
   "outputs": [],
   "source": [
    "keep_questions = list(all_questions - set(to_remove))"
   ]
  },
  {
   "cell_type": "code",
   "execution_count": 15,
   "metadata": {},
   "outputs": [
    {
     "data": {
      "text/plain": [
       "226"
      ]
     },
     "execution_count": 15,
     "metadata": {},
     "output_type": "execute_result"
    }
   ],
   "source": [
    "len(keep_questions)\n"
   ]
  },
  {
   "cell_type": "code",
   "execution_count": 16,
   "metadata": {},
   "outputs": [
    {
     "data": {
      "text/plain": [
       "43"
      ]
     },
     "execution_count": 16,
     "metadata": {},
     "output_type": "execute_result"
    }
   ],
   "source": [
    "len(to_remove)"
   ]
  },
  {
   "cell_type": "code",
   "execution_count": null,
   "metadata": {},
   "outputs": [],
   "source": []
  }
 ],
 "metadata": {
  "kernelspec": {
   "display_name": "Python 3.9.12 ('base')",
   "language": "python",
   "name": "python3"
  },
  "language_info": {
   "codemirror_mode": {
    "name": "ipython",
    "version": 3
   },
   "file_extension": ".py",
   "mimetype": "text/x-python",
   "name": "python",
   "nbconvert_exporter": "python",
   "pygments_lexer": "ipython3",
   "version": "3.9.12"
  },
  "orig_nbformat": 4,
  "vscode": {
   "interpreter": {
    "hash": "ad2bdc8ecc057115af97d19610ffacc2b4e99fae6737bb82f5d7fb13d2f2c186"
   }
  }
 },
 "nbformat": 4,
 "nbformat_minor": 2
}
