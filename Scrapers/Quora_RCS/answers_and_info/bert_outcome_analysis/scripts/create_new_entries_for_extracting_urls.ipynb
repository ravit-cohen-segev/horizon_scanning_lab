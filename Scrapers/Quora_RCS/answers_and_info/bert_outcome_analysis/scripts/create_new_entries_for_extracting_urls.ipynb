{
 "cells": [
  {
   "cell_type": "code",
   "execution_count": 36,
   "metadata": {},
   "outputs": [],
   "source": [
    "import pandas as pd\n",
    "import json\n",
    "import numpy as np\n",
    "import os"
   ]
  },
  {
   "cell_type": "code",
   "execution_count": 37,
   "metadata": {},
   "outputs": [],
   "source": [
    "#load json files with emerging buzz words\n",
    "dict_path = r\"C:\\Users\\Ravit\\Documents\\rnd\\horizon_scanning_lab\\Scrapers\\Quora_RCS\\answers_and_info\\bert_outcome_analysis\\dictionaries\\tech_dict.json\"\n",
    "f = open(dict_path) \n",
    "tech_dict = json.load(f)"
   ]
  },
  {
   "cell_type": "code",
   "execution_count": 38,
   "metadata": {},
   "outputs": [
    {
     "data": {
      "text/plain": [
       "{'JJ': ['top',\n",
       "  'next',\n",
       "  'upcoming',\n",
       "  'advanced',\n",
       "  'future',\n",
       "  'peak',\n",
       "  'revolutionary',\n",
       "  'engaging'],\n",
       " 'JJS': [],\n",
       " 'MD': ['will', 'could'],\n",
       " 'RBR': [],\n",
       " 'RBS': ['most'],\n",
       " 'VB': ['be',\n",
       "  'replace',\n",
       "  'emerge',\n",
       "  'emerging',\n",
       "  'evolve',\n",
       "  'develop',\n",
       "  'evolves',\n",
       "  'develops']}"
      ]
     },
     "execution_count": 38,
     "metadata": {},
     "output_type": "execute_result"
    }
   ],
   "source": [
    "tech_dict"
   ]
  },
  {
   "cell_type": "code",
   "execution_count": 39,
   "metadata": {},
   "outputs": [],
   "source": [
    "#create combination of phrases\n",
    "tech_phrases = []\n",
    "for word in tech_dict['JJ']:\n",
    "    tech_phrases.append(word + ' technology')"
   ]
  },
  {
   "cell_type": "code",
   "execution_count": 40,
   "metadata": {},
   "outputs": [
    {
     "data": {
      "text/plain": [
       "['top technology',\n",
       " 'next technology',\n",
       " 'upcoming technology',\n",
       " 'advanced technology',\n",
       " 'future technology',\n",
       " 'peak technology',\n",
       " 'revolutionary technology',\n",
       " 'engaging technology']"
      ]
     },
     "execution_count": 40,
     "metadata": {},
     "output_type": "execute_result"
    }
   ],
   "source": [
    "tech_phrases"
   ]
  },
  {
   "cell_type": "code",
   "execution_count": 41,
   "metadata": {},
   "outputs": [],
   "source": [
    "pos_verbs = ['replace', 'emerge','evolve', 'develop']\n",
    "\n",
    "for verb in pos_verbs:\n",
    "    tech_phrases.append('technology will ' + verb)"
   ]
  },
  {
   "cell_type": "code",
   "execution_count": 42,
   "metadata": {},
   "outputs": [
    {
     "data": {
      "text/plain": [
       "['top technology',\n",
       " 'next technology',\n",
       " 'upcoming technology',\n",
       " 'advanced technology',\n",
       " 'future technology',\n",
       " 'peak technology',\n",
       " 'revolutionary technology',\n",
       " 'engaging technology',\n",
       " 'technology will replace',\n",
       " 'technology will emerge',\n",
       " 'technology will evolve',\n",
       " 'technology will develop']"
      ]
     },
     "execution_count": 42,
     "metadata": {},
     "output_type": "execute_result"
    }
   ],
   "source": [
    "tech_phrases"
   ]
  },
  {
   "cell_type": "code",
   "execution_count": 43,
   "metadata": {},
   "outputs": [],
   "source": [
    "#read from clusters files from all previous iterations\n",
    "clusters_path = r\"C:\\Users\\Ravit\\Documents\\rnd\\horizon_scanning_lab\\Scrapers\\Quora_RCS\\answers_and_info\\bert_outcome_analysis\\clusters_all_iterations\\key_words_clusters_all_iterations.xlsx\"\n",
    "df = pd.read_excel(clusters_path, sheet_name=\"key_words\")"
   ]
  },
  {
   "cell_type": "code",
   "execution_count": 44,
   "metadata": {},
   "outputs": [
    {
     "data": {
      "text/html": [
       "<div>\n",
       "<style scoped>\n",
       "    .dataframe tbody tr th:only-of-type {\n",
       "        vertical-align: middle;\n",
       "    }\n",
       "\n",
       "    .dataframe tbody tr th {\n",
       "        vertical-align: top;\n",
       "    }\n",
       "\n",
       "    .dataframe thead th {\n",
       "        text-align: right;\n",
       "    }\n",
       "</style>\n",
       "<table border=\"1\" class=\"dataframe\">\n",
       "  <thead>\n",
       "    <tr style=\"text-align: right;\">\n",
       "      <th></th>\n",
       "      <th>FIELD</th>\n",
       "      <th>first iteration</th>\n",
       "      <th>second iteration</th>\n",
       "      <th>Unnamed: 3</th>\n",
       "      <th>Unnamed: 4</th>\n",
       "      <th>additional_words</th>\n",
       "    </tr>\n",
       "  </thead>\n",
       "  <tbody>\n",
       "    <tr>\n",
       "      <th>0</th>\n",
       "      <td>Cryptocurrency</td>\n",
       "      <td>solar cryptocurrency</td>\n",
       "      <td>cryptocurrency crypto money market bitcoin cur...</td>\n",
       "      <td>mining bitcoin miners hardware miner block cry...</td>\n",
       "      <td>green cryptocurrencies</td>\n",
       "      <td>dogecoin</td>\n",
       "    </tr>\n",
       "    <tr>\n",
       "      <th>1</th>\n",
       "      <td>nuclear power</td>\n",
       "      <td>fusion nuclear plasma power reactors reactor f...</td>\n",
       "      <td>fusion energy nuclear power reactor fission re...</td>\n",
       "      <td>fusion energy confinement magnetic center ions...</td>\n",
       "      <td>sun interior massive gravitational power makin...</td>\n",
       "      <td>NaN</td>\n",
       "    </tr>\n",
       "    <tr>\n",
       "      <th>2</th>\n",
       "      <td>brain sciences</td>\n",
       "      <td>brain lobe body cells function parts driver</td>\n",
       "      <td>NaN</td>\n",
       "      <td>NaN</td>\n",
       "      <td>NaN</td>\n",
       "      <td>lobe</td>\n",
       "    </tr>\n",
       "    <tr>\n",
       "      <th>3</th>\n",
       "      <td>space</td>\n",
       "      <td>super space computing</td>\n",
       "      <td>moon car computer</td>\n",
       "      <td>rocket engines engine speed fuel spacecraft sp...</td>\n",
       "      <td>mars earth speed travel data minutes latency y...</td>\n",
       "      <td>NaN</td>\n",
       "    </tr>\n",
       "    <tr>\n",
       "      <th>4</th>\n",
       "      <td>3d printing</td>\n",
       "      <td>3d printers printing reality ai</td>\n",
       "      <td>NaN</td>\n",
       "      <td>NaN</td>\n",
       "      <td>NaN</td>\n",
       "      <td>NaN</td>\n",
       "    </tr>\n",
       "    <tr>\n",
       "      <th>5</th>\n",
       "      <td>iot</td>\n",
       "      <td>iot internet-of-things devices connected smart...</td>\n",
       "      <td>iot internet devices things smart security dat...</td>\n",
       "      <td>NaN</td>\n",
       "      <td>NaN</td>\n",
       "      <td>NaN</td>\n",
       "    </tr>\n",
       "    <tr>\n",
       "      <th>6</th>\n",
       "      <td>cars</td>\n",
       "      <td>cars electric futurists prototype self-flying</td>\n",
       "      <td>NaN</td>\n",
       "      <td>NaN</td>\n",
       "      <td>NaN</td>\n",
       "      <td>NaN</td>\n",
       "    </tr>\n",
       "    <tr>\n",
       "      <th>7</th>\n",
       "      <td>communication</td>\n",
       "      <td>communication issue</td>\n",
       "      <td>NaN</td>\n",
       "      <td>NaN</td>\n",
       "      <td>NaN</td>\n",
       "      <td>NaN</td>\n",
       "    </tr>\n",
       "    <tr>\n",
       "      <th>8</th>\n",
       "      <td>Cyber security</td>\n",
       "      <td>kaspersky future predict machines answer quest...</td>\n",
       "      <td>NaN</td>\n",
       "      <td>NaN</td>\n",
       "      <td>NaN</td>\n",
       "      <td>NaN</td>\n",
       "    </tr>\n",
       "    <tr>\n",
       "      <th>9</th>\n",
       "      <td>data</td>\n",
       "      <td>data home google mobile analytics pc business ...</td>\n",
       "      <td>NaN</td>\n",
       "      <td>NaN</td>\n",
       "      <td>NaN</td>\n",
       "      <td>NaN</td>\n",
       "    </tr>\n",
       "    <tr>\n",
       "      <th>10</th>\n",
       "      <td>health</td>\n",
       "      <td>evolution editing usher bypass profits heart e...</td>\n",
       "      <td>NaN</td>\n",
       "      <td>NaN</td>\n",
       "      <td>NaN</td>\n",
       "      <td>NaN</td>\n",
       "    </tr>\n",
       "    <tr>\n",
       "      <th>11</th>\n",
       "      <td>biology</td>\n",
       "      <td>biological-capabilities human computer</td>\n",
       "      <td>NaN</td>\n",
       "      <td>NaN</td>\n",
       "      <td>NaN</td>\n",
       "      <td>NaN</td>\n",
       "    </tr>\n",
       "    <tr>\n",
       "      <th>12</th>\n",
       "      <td>computers</td>\n",
       "      <td>NaN</td>\n",
       "      <td>computers memory supercomputer quantum superco...</td>\n",
       "      <td>NaN</td>\n",
       "      <td>NaN</td>\n",
       "      <td>NaN</td>\n",
       "    </tr>\n",
       "    <tr>\n",
       "      <th>13</th>\n",
       "      <td>trade</td>\n",
       "      <td>NaN</td>\n",
       "      <td>trade countries tariffs</td>\n",
       "      <td>NaN</td>\n",
       "      <td>NaN</td>\n",
       "      <td>NaN</td>\n",
       "    </tr>\n",
       "    <tr>\n",
       "      <th>14</th>\n",
       "      <td>economy</td>\n",
       "      <td>NaN</td>\n",
       "      <td>budget tax quality development years</td>\n",
       "      <td>NaN</td>\n",
       "      <td>NaN</td>\n",
       "      <td>NaN</td>\n",
       "    </tr>\n",
       "    <tr>\n",
       "      <th>15</th>\n",
       "      <td>metaverse</td>\n",
       "      <td>NaN</td>\n",
       "      <td>invention reality virtual new technology thing...</td>\n",
       "      <td>NaN</td>\n",
       "      <td>NaN</td>\n",
       "      <td>NaN</td>\n",
       "    </tr>\n",
       "  </tbody>\n",
       "</table>\n",
       "</div>"
      ],
      "text/plain": [
       "             FIELD                                    first iteration  \\\n",
       "0   Cryptocurrency                              solar cryptocurrency    \n",
       "1    nuclear power  fusion nuclear plasma power reactors reactor f...   \n",
       "2   brain sciences       brain lobe body cells function parts driver    \n",
       "3            space                              super space computing   \n",
       "4      3d printing                    3d printers printing reality ai   \n",
       "5              iot  iot internet-of-things devices connected smart...   \n",
       "6             cars     cars electric futurists prototype self-flying    \n",
       "7    communication                                communication issue   \n",
       "8   Cyber security  kaspersky future predict machines answer quest...   \n",
       "9             data  data home google mobile analytics pc business ...   \n",
       "10          health  evolution editing usher bypass profits heart e...   \n",
       "11         biology            biological-capabilities human computer    \n",
       "12       computers                                                NaN   \n",
       "13           trade                                                NaN   \n",
       "14         economy                                                NaN   \n",
       "15       metaverse                                                NaN   \n",
       "\n",
       "                                     second iteration  \\\n",
       "0   cryptocurrency crypto money market bitcoin cur...   \n",
       "1   fusion energy nuclear power reactor fission re...   \n",
       "2                                                 NaN   \n",
       "3                                   moon car computer   \n",
       "4                                                 NaN   \n",
       "5   iot internet devices things smart security dat...   \n",
       "6                                                 NaN   \n",
       "7                                                 NaN   \n",
       "8                                                 NaN   \n",
       "9                                                 NaN   \n",
       "10                                                NaN   \n",
       "11                                                NaN   \n",
       "12  computers memory supercomputer quantum superco...   \n",
       "13                            trade countries tariffs   \n",
       "14               budget tax quality development years   \n",
       "15  invention reality virtual new technology thing...   \n",
       "\n",
       "                                           Unnamed: 3  \\\n",
       "0   mining bitcoin miners hardware miner block cry...   \n",
       "1   fusion energy confinement magnetic center ions...   \n",
       "2                                                 NaN   \n",
       "3   rocket engines engine speed fuel spacecraft sp...   \n",
       "4                                                 NaN   \n",
       "5                                                 NaN   \n",
       "6                                                 NaN   \n",
       "7                                                 NaN   \n",
       "8                                                 NaN   \n",
       "9                                                 NaN   \n",
       "10                                                NaN   \n",
       "11                                                NaN   \n",
       "12                                                NaN   \n",
       "13                                                NaN   \n",
       "14                                                NaN   \n",
       "15                                                NaN   \n",
       "\n",
       "                                           Unnamed: 4 additional_words  \n",
       "0                              green cryptocurrencies         dogecoin  \n",
       "1   sun interior massive gravitational power makin...              NaN  \n",
       "2                                                 NaN             lobe  \n",
       "3   mars earth speed travel data minutes latency y...              NaN  \n",
       "4                                                 NaN              NaN  \n",
       "5                                                 NaN              NaN  \n",
       "6                                                 NaN              NaN  \n",
       "7                                                 NaN              NaN  \n",
       "8                                                 NaN              NaN  \n",
       "9                                                 NaN              NaN  \n",
       "10                                                NaN              NaN  \n",
       "11                                                NaN              NaN  \n",
       "12                                                NaN              NaN  \n",
       "13                                                NaN              NaN  \n",
       "14                                                NaN              NaN  \n",
       "15                                                NaN              NaN  "
      ]
     },
     "execution_count": 44,
     "metadata": {},
     "output_type": "execute_result"
    }
   ],
   "source": [
    "df"
   ]
  },
  {
   "cell_type": "code",
   "execution_count": 45,
   "metadata": {},
   "outputs": [],
   "source": [
    "df = df.drop(['FIELD', 'additional_words'], axis=1)\n",
    "for i, row in df.iterrows():\n",
    "    tech_phrases.extend(row.dropna().to_list())      "
   ]
  },
  {
   "cell_type": "code",
   "execution_count": 46,
   "metadata": {},
   "outputs": [
    {
     "data": {
      "text/plain": [
       "['top technology',\n",
       " 'next technology',\n",
       " 'upcoming technology',\n",
       " 'advanced technology',\n",
       " 'future technology',\n",
       " 'peak technology',\n",
       " 'revolutionary technology',\n",
       " 'engaging technology',\n",
       " 'technology will replace',\n",
       " 'technology will emerge',\n",
       " 'technology will evolve',\n",
       " 'technology will develop',\n",
       " 'solar cryptocurrency ',\n",
       " 'cryptocurrency crypto money market bitcoin currency  cryptocurrencies',\n",
       " 'mining bitcoin miners hardware miner block cryptocurrency coins bitcoins reward',\n",
       " 'green cryptocurrencies',\n",
       " 'fusion nuclear plasma power reactors reactor fission fuel',\n",
       " 'fusion energy nuclear power reactor fission reactors fuel plasma reaction',\n",
       " 'fusion energy confinement magnetic center ions tritium codes practical field',\n",
       " 'sun interior massive gravitational power making fusion sustained',\n",
       " 'brain lobe body cells function parts driver ',\n",
       " 'super space computing',\n",
       " 'moon car computer',\n",
       " 'rocket engines engine speed fuel spacecraft space chemical thrust rockets',\n",
       " 'mars earth speed travel data minutes latency years',\n",
       " '3d printers printing reality ai',\n",
       " 'iot internet-of-things devices connected smart-home network embedded',\n",
       " 'iot internet devices things smart security data device embedded connected',\n",
       " 'cars electric futurists prototype self-flying ',\n",
       " 'communication issue',\n",
       " 'kaspersky future predict machines answer question emerging homes',\n",
       " 'data home google mobile analytics pc business microsoft work companies',\n",
       " 'evolution editing usher bypass profits heart eliminates regardless laws',\n",
       " 'biological-capabilities human computer ',\n",
       " 'computers memory supercomputer quantum supercomputers computer data cpu compute processing',\n",
       " 'trade countries tariffs',\n",
       " 'budget tax quality development years',\n",
       " 'invention reality virtual new technology things technological vr']"
      ]
     },
     "execution_count": 46,
     "metadata": {},
     "output_type": "execute_result"
    }
   ],
   "source": [
    "tech_phrases"
   ]
  },
  {
   "cell_type": "code",
   "execution_count": null,
   "metadata": {},
   "outputs": [],
   "source": []
  }
 ],
 "metadata": {
  "kernelspec": {
   "display_name": "Python 3.9.12 ('base')",
   "language": "python",
   "name": "python3"
  },
  "language_info": {
   "codemirror_mode": {
    "name": "ipython",
    "version": 3
   },
   "file_extension": ".py",
   "mimetype": "text/x-python",
   "name": "python",
   "nbconvert_exporter": "python",
   "pygments_lexer": "ipython3",
   "version": "3.9.12"
  },
  "orig_nbformat": 4,
  "vscode": {
   "interpreter": {
    "hash": "ad2bdc8ecc057115af97d19610ffacc2b4e99fae6737bb82f5d7fb13d2f2c186"
   }
  }
 },
 "nbformat": 4,
 "nbformat_minor": 2
}
