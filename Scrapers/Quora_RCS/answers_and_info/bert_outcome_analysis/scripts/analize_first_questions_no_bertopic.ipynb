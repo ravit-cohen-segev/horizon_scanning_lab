{
 "cells": [
  {
   "cell_type": "code",
   "execution_count": 45,
   "metadata": {},
   "outputs": [],
   "source": [
    "import pandas as pd\n",
    "import numpy as np\n",
    "from collections import Counter\n",
    "from nltk.corpus import wordnet\n",
    "import json\n",
    "import os"
   ]
  },
  {
   "cell_type": "code",
   "execution_count": 6,
   "metadata": {},
   "outputs": [],
   "source": [
    "load_path = r\"C:\\Users\\Ravit\\Documents\\rnd\\horizon_scanning_lab\\Scrapers\\Quora_RCS\\answers_and_info\\bert_outcome_analysis\\first_iteration\\quet_indexes.csv\"\n",
    "df = pd.read_csv(load_path)"
   ]
  },
  {
   "cell_type": "code",
   "execution_count": 7,
   "metadata": {},
   "outputs": [],
   "source": [
    "questions_list = df['url'].to_list()"
   ]
  },
  {
   "cell_type": "code",
   "execution_count": 8,
   "metadata": {},
   "outputs": [],
   "source": [
    "def drop_numbers_from_sentence(sentence):\n",
    "  \n",
    "    full_list = sentence.split()\n",
    "    for word in full_list:\n",
    "        for w in word:\n",
    "            if w.isdigit():\n",
    "                sentence = sentence.replace(word,'')\n",
    "               \n",
    "    return sentence"
   ]
  },
  {
   "cell_type": "code",
   "execution_count": 9,
   "metadata": {},
   "outputs": [],
   "source": [
    "all_questions = []\n",
    "for q in questions_list:\n",
    "    q = q.replace('https://www.quora.com/', '')\n",
    "    q = q.replace('-', ' ')\n",
    "  \n",
    "    all_questions.append(drop_numbers_from_sentence(q))"
   ]
  },
  {
   "cell_type": "code",
   "execution_count": 10,
   "metadata": {},
   "outputs": [
    {
     "data": {
      "text/plain": [
       "['What will the worlds technology be like in  years',\n",
       " 'How long could the brain survive theoretically if we had the technology to replace all other body parts as you aged with functioning organs that are grown in a lab using your DNA',\n",
       " 'What are the top  emerging technologies in the next   years 2020%E2%80%93202',\n",
       " 'What are the upcoming emerging technologies in software industry',\n",
       " 'What will the worlds technology be like in  years',\n",
       " 'What are the most advanced technologies that people dont know about yet',\n",
       " 'When will Fusion reactors become a reality',\n",
       " 'In future IOT Internet of things is trending technology or not',\n",
       " 'What will the worlds technology be like in  years',\n",
       " 'What are the solutions to emerging issues in communication']"
      ]
     },
     "execution_count": 10,
     "metadata": {},
     "output_type": "execute_result"
    }
   ],
   "source": [
    "all_questions"
   ]
  },
  {
   "cell_type": "code",
   "execution_count": 11,
   "metadata": {},
   "outputs": [
    {
     "data": {
      "text/plain": [
       "'What are the top  emerging technologies in the next   years 2020%E2%80%93202'"
      ]
     },
     "execution_count": 11,
     "metadata": {},
     "output_type": "execute_result"
    }
   ],
   "source": [
    "all_questions[2]"
   ]
  },
  {
   "cell_type": "code",
   "execution_count": 12,
   "metadata": {},
   "outputs": [],
   "source": [
    "all_questions[2] = all_questions[2].replace(' 2020%E2%80%93202', '')"
   ]
  },
  {
   "cell_type": "code",
   "execution_count": 13,
   "metadata": {},
   "outputs": [
    {
     "data": {
      "text/plain": [
       "'What are the top  emerging technologies in the next   years'"
      ]
     },
     "execution_count": 13,
     "metadata": {},
     "output_type": "execute_result"
    }
   ],
   "source": [
    "all_questions[2]"
   ]
  },
  {
   "cell_type": "code",
   "execution_count": 14,
   "metadata": {},
   "outputs": [],
   "source": [
    "combined_questions = ''\n",
    "\n",
    "for q in all_questions:\n",
    "    combined_questions+=q"
   ]
  },
  {
   "cell_type": "code",
   "execution_count": 15,
   "metadata": {},
   "outputs": [],
   "source": [
    "count_words = Counter(combined_questions.split()).most_common()"
   ]
  },
  {
   "cell_type": "code",
   "execution_count": 16,
   "metadata": {},
   "outputs": [
    {
     "data": {
      "text/plain": [
       "[('the', 10),\n",
       " ('in', 7),\n",
       " ('technology', 5),\n",
       " ('are', 5),\n",
       " ('will', 4),\n",
       " ('worlds', 3),\n",
       " ('be', 3),\n",
       " ('like', 3),\n",
       " ('emerging', 3),\n",
       " ('technologies', 3),\n",
       " ('yearsWhat', 3),\n",
       " ('to', 2),\n",
       " ('that', 2),\n",
       " ('a', 2),\n",
       " ('What', 1),\n",
       " ('yearsHow', 1),\n",
       " ('long', 1),\n",
       " ('could', 1),\n",
       " ('brain', 1),\n",
       " ('survive', 1),\n",
       " ('theoretically', 1),\n",
       " ('if', 1),\n",
       " ('we', 1),\n",
       " ('had', 1),\n",
       " ('replace', 1),\n",
       " ('all', 1),\n",
       " ('other', 1),\n",
       " ('body', 1),\n",
       " ('parts', 1),\n",
       " ('as', 1),\n",
       " ('you', 1),\n",
       " ('aged', 1),\n",
       " ('with', 1),\n",
       " ('functioning', 1),\n",
       " ('organs', 1),\n",
       " ('grown', 1),\n",
       " ('lab', 1),\n",
       " ('using', 1),\n",
       " ('your', 1),\n",
       " ('DNAWhat', 1),\n",
       " ('top', 1),\n",
       " ('next', 1),\n",
       " ('upcoming', 1),\n",
       " ('software', 1),\n",
       " ('industryWhat', 1),\n",
       " ('most', 1),\n",
       " ('advanced', 1),\n",
       " ('people', 1),\n",
       " ('dont', 1),\n",
       " ('know', 1),\n",
       " ('about', 1),\n",
       " ('yetWhen', 1),\n",
       " ('Fusion', 1),\n",
       " ('reactors', 1),\n",
       " ('become', 1),\n",
       " ('realityIn', 1),\n",
       " ('future', 1),\n",
       " ('IOT', 1),\n",
       " ('Internet', 1),\n",
       " ('of', 1),\n",
       " ('things', 1),\n",
       " ('is', 1),\n",
       " ('trending', 1),\n",
       " ('or', 1),\n",
       " ('notWhat', 1),\n",
       " ('solutions', 1),\n",
       " ('issues', 1),\n",
       " ('communication', 1)]"
      ]
     },
     "execution_count": 16,
     "metadata": {},
     "output_type": "execute_result"
    }
   ],
   "source": [
    "count_words"
   ]
  },
  {
   "cell_type": "code",
   "execution_count": 17,
   "metadata": {},
   "outputs": [],
   "source": [
    "save_path = r\"C:\\Users\\Ravit\\Documents\\rnd\\horizon_scanning_lab\\Scrapers\\Quora_RCS\\answers_and_info\\bert_outcome_analysis\\first_iteration\"\n",
    "with open('question_analysis_first_iteration.txt', 'w') as f:\n",
    "    f.write(json.dumps((count_words)))"
   ]
  },
  {
   "cell_type": "code",
   "execution_count": 18,
   "metadata": {},
   "outputs": [],
   "source": [
    "import nltk"
   ]
  },
  {
   "cell_type": "code",
   "execution_count": 20,
   "metadata": {},
   "outputs": [
    {
     "name": "stderr",
     "output_type": "stream",
     "text": [
      "[nltk_data] Downloading package averaged_perceptron_tagger to\n",
      "[nltk_data]     C:\\Users\\Ravit\\AppData\\Roaming\\nltk_data...\n",
      "[nltk_data]   Unzipping taggers\\averaged_perceptron_tagger.zip.\n"
     ]
    },
    {
     "data": {
      "text/plain": [
       "True"
      ]
     },
     "execution_count": 20,
     "metadata": {},
     "output_type": "execute_result"
    }
   ],
   "source": [
    "nltk.download('averaged_perceptron_tagger')"
   ]
  },
  {
   "cell_type": "code",
   "execution_count": null,
   "metadata": {},
   "outputs": [],
   "source": []
  },
  {
   "cell_type": "code",
   "execution_count": 40,
   "metadata": {},
   "outputs": [],
   "source": [
    "wanted_tags = ['JJ', 'JJS', 'MD', 'RBR', 'RBS', 'VB']\n",
    "evolve_dict = {'JJ':[], 'JJS':[], 'MD':[], 'RBR':[], 'RBS':[], 'VB':[] }\n",
    "\n",
    "\n",
    "for question in all_questions:\n",
    "    tagged_sentence = nltk.tag.pos_tag(question.split())\n",
    "    for tag in wanted_tags:\n",
    "        for word, tag in tagged_sentence:\n",
    "            if tag not in wanted_tags:\n",
    "               continue\n",
    "            if word not in evolve_dict[tag]:\n",
    "                evolve_dict[tag].append(word)\n",
    "    "
   ]
  },
  {
   "cell_type": "code",
   "execution_count": 41,
   "metadata": {},
   "outputs": [
    {
     "data": {
      "text/plain": [
       "{'JJ': ['survive', 'other', 'top', 'next', 'upcoming', 'advanced', 'future'],\n",
       " 'JJS': [],\n",
       " 'MD': ['will', 'could'],\n",
       " 'RBR': [],\n",
       " 'RBS': ['most'],\n",
       " 'VB': ['be', 'replace']}"
      ]
     },
     "execution_count": 41,
     "metadata": {},
     "output_type": "execute_result"
    }
   ],
   "source": [
    "evolve_dict"
   ]
  },
  {
   "cell_type": "code",
   "execution_count": 42,
   "metadata": {},
   "outputs": [],
   "source": [
    "#remove the word 'other' and 'survive' from 'JJ'\n",
    "evolve_dict['JJ'].remove('survive')\n",
    "evolve_dict['JJ'].remove('other')"
   ]
  },
  {
   "cell_type": "code",
   "execution_count": 44,
   "metadata": {},
   "outputs": [
    {
     "data": {
      "text/plain": [
       "{'JJ': ['top', 'next', 'upcoming', 'advanced', 'future'],\n",
       " 'JJS': [],\n",
       " 'MD': ['will', 'could'],\n",
       " 'RBR': [],\n",
       " 'RBS': ['most'],\n",
       " 'VB': ['be', 'replace']}"
      ]
     },
     "execution_count": 44,
     "metadata": {},
     "output_type": "execute_result"
    }
   ],
   "source": [
    "evolve_dict"
   ]
  },
  {
   "cell_type": "code",
   "execution_count": 46,
   "metadata": {},
   "outputs": [],
   "source": [
    "#add synonyms \n",
    "syns = wordnet.synsets(\"top\")\n"
   ]
  },
  {
   "cell_type": "code",
   "execution_count": 47,
   "metadata": {},
   "outputs": [
    {
     "data": {
      "text/plain": [
       "[Synset('top.n.01'),\n",
       " Synset('top.n.02'),\n",
       " Synset('peak.n.04'),\n",
       " Synset('top.n.04'),\n",
       " Synset('acme.n.01'),\n",
       " Synset('top.n.06'),\n",
       " Synset('top.n.07'),\n",
       " Synset('top.n.08'),\n",
       " Synset('top.n.09'),\n",
       " Synset('top.n.10'),\n",
       " Synset('circus_tent.n.01'),\n",
       " Synset('exceed.v.02'),\n",
       " Synset('clear.v.09'),\n",
       " Synset('top.v.03'),\n",
       " Synset('lead.v.08'),\n",
       " Synset('top.v.05'),\n",
       " Synset('top.v.06'),\n",
       " Synset('top.v.07'),\n",
       " Synset('top.v.08'),\n",
       " Synset('crown.v.02'),\n",
       " Synset('top.v.10'),\n",
       " Synset('top.a.01')]"
      ]
     },
     "execution_count": 47,
     "metadata": {},
     "output_type": "execute_result"
    }
   ],
   "source": [
    "syns"
   ]
  },
  {
   "cell_type": "code",
   "execution_count": 48,
   "metadata": {},
   "outputs": [],
   "source": [
    "evolve_dict['JJ'].append('peak')"
   ]
  },
  {
   "cell_type": "code",
   "execution_count": 49,
   "metadata": {},
   "outputs": [],
   "source": [
    "syns = wordnet.synsets(\"next\")"
   ]
  },
  {
   "cell_type": "code",
   "execution_count": 50,
   "metadata": {},
   "outputs": [
    {
     "data": {
      "text/plain": [
       "[Synset('following.s.02'),\n",
       " Synset('adjacent.s.01'),\n",
       " Synset('future.s.03'),\n",
       " Synset('next.r.01')]"
      ]
     },
     "execution_count": 50,
     "metadata": {},
     "output_type": "execute_result"
    }
   ],
   "source": [
    "syns"
   ]
  },
  {
   "cell_type": "code",
   "execution_count": 51,
   "metadata": {},
   "outputs": [],
   "source": [
    "syns = wordnet.synsets(\"upcoming\")"
   ]
  },
  {
   "cell_type": "code",
   "execution_count": 52,
   "metadata": {},
   "outputs": [
    {
     "data": {
      "text/plain": [
       "[Synset('approaching.s.01')]"
      ]
     },
     "execution_count": 52,
     "metadata": {},
     "output_type": "execute_result"
    }
   ],
   "source": [
    "syns"
   ]
  },
  {
   "cell_type": "code",
   "execution_count": 53,
   "metadata": {},
   "outputs": [],
   "source": [
    "syns = wordnet.synsets(\"advanced\")"
   ]
  },
  {
   "cell_type": "code",
   "execution_count": 54,
   "metadata": {},
   "outputs": [
    {
     "data": {
      "text/plain": [
       "[Synset('advance.v.01'),\n",
       " Synset('advance.v.02'),\n",
       " Synset('boost.v.04'),\n",
       " Synset('promote.v.01'),\n",
       " Synset('advance.v.05'),\n",
       " Synset('gain.v.05'),\n",
       " Synset('progress.v.01'),\n",
       " Synset('advance.v.08'),\n",
       " Synset('promote.v.02'),\n",
       " Synset('advance.v.10'),\n",
       " Synset('advance.v.11'),\n",
       " Synset('advance.v.12'),\n",
       " Synset('advanced.s.01'),\n",
       " Synset('advanced.s.02'),\n",
       " Synset('advanced.s.03'),\n",
       " Synset('advanced.s.04'),\n",
       " Synset('advanced.s.05'),\n",
       " Synset('advanced.s.06'),\n",
       " Synset('advanced.s.07'),\n",
       " Synset('advance.s.02')]"
      ]
     },
     "execution_count": 54,
     "metadata": {},
     "output_type": "execute_result"
    }
   ],
   "source": [
    "syns"
   ]
  },
  {
   "cell_type": "code",
   "execution_count": 55,
   "metadata": {},
   "outputs": [],
   "source": [
    "syns = wordnet.synsets(\"future\")"
   ]
  },
  {
   "cell_type": "code",
   "execution_count": 56,
   "metadata": {},
   "outputs": [
    {
     "data": {
      "text/plain": [
       "[Synset('future.n.01'),\n",
       " Synset('future.n.02'),\n",
       " Synset('future.n.03'),\n",
       " Synset('future.a.01'),\n",
       " Synset('future.s.02'),\n",
       " Synset('future.s.03'),\n",
       " Synset('future.a.04')]"
      ]
     },
     "execution_count": 56,
     "metadata": {},
     "output_type": "execute_result"
    }
   ],
   "source": [
    "syns"
   ]
  },
  {
   "cell_type": "code",
   "execution_count": 57,
   "metadata": {},
   "outputs": [],
   "source": [
    "syns = wordnet.synsets(\"most\")"
   ]
  },
  {
   "cell_type": "code",
   "execution_count": 58,
   "metadata": {},
   "outputs": [
    {
     "data": {
      "text/plain": [
       "[Synset('most.a.01'),\n",
       " Synset('most.a.02'),\n",
       " Synset('most.r.01'),\n",
       " Synset('most.r.02'),\n",
       " Synset('about.r.07')]"
      ]
     },
     "execution_count": 58,
     "metadata": {},
     "output_type": "execute_result"
    }
   ],
   "source": [
    "syns"
   ]
  },
  {
   "cell_type": "code",
   "execution_count": 60,
   "metadata": {},
   "outputs": [],
   "source": [
    "evolve_dict['VB'].append('emerge')"
   ]
  },
  {
   "cell_type": "code",
   "execution_count": 61,
   "metadata": {},
   "outputs": [],
   "source": [
    "syns = wordnet.synsets(\"emerge\")"
   ]
  },
  {
   "cell_type": "code",
   "execution_count": 62,
   "metadata": {},
   "outputs": [
    {
     "data": {
      "text/plain": [
       "[Synset('emerge.v.01'),\n",
       " Synset('issue.v.04'),\n",
       " Synset('emerge.v.03'),\n",
       " Synset('emerge.v.04'),\n",
       " Synset('come_forth.v.02')]"
      ]
     },
     "execution_count": 62,
     "metadata": {},
     "output_type": "execute_result"
    }
   ],
   "source": [
    "syns"
   ]
  },
  {
   "cell_type": "code",
   "execution_count": 64,
   "metadata": {},
   "outputs": [],
   "source": [
    "syns = wordnet.synsets(\"emerging\")"
   ]
  },
  {
   "cell_type": "code",
   "execution_count": 65,
   "metadata": {},
   "outputs": [
    {
     "data": {
      "text/plain": [
       "[Synset('emerge.v.01'),\n",
       " Synset('issue.v.04'),\n",
       " Synset('emerge.v.03'),\n",
       " Synset('emerge.v.04'),\n",
       " Synset('come_forth.v.02'),\n",
       " Synset('emerging.s.01'),\n",
       " Synset('emergent.s.02')]"
      ]
     },
     "execution_count": 65,
     "metadata": {},
     "output_type": "execute_result"
    }
   ],
   "source": [
    "syns"
   ]
  },
  {
   "cell_type": "code",
   "execution_count": 66,
   "metadata": {},
   "outputs": [],
   "source": [
    "evolve_dict['VB'].append('emerging')"
   ]
  },
  {
   "cell_type": "code",
   "execution_count": 67,
   "metadata": {},
   "outputs": [
    {
     "data": {
      "text/plain": [
       "{'JJ': ['top', 'next', 'upcoming', 'advanced', 'future', 'peak'],\n",
       " 'JJS': [],\n",
       " 'MD': ['will', 'could'],\n",
       " 'RBR': [],\n",
       " 'RBS': ['most'],\n",
       " 'VB': ['be', 'replace', 'emerge', 'emerging']}"
      ]
     },
     "execution_count": 67,
     "metadata": {},
     "output_type": "execute_result"
    }
   ],
   "source": [
    "evolve_dict"
   ]
  },
  {
   "cell_type": "code",
   "execution_count": 68,
   "metadata": {},
   "outputs": [
    {
     "data": {
      "text/plain": [
       "[Synset('evolve.v.01'), Synset('evolve.v.02'), Synset('develop.v.03')]"
      ]
     },
     "execution_count": 68,
     "metadata": {},
     "output_type": "execute_result"
    }
   ],
   "source": [
    "syns = wordnet.synsets('evolve')\n",
    "syns"
   ]
  },
  {
   "cell_type": "code",
   "execution_count": 69,
   "metadata": {},
   "outputs": [],
   "source": [
    "evolve_dict['VB'].extend(['evolve', 'develop'])\n"
   ]
  },
  {
   "cell_type": "code",
   "execution_count": 71,
   "metadata": {},
   "outputs": [],
   "source": [
    "evolve_dict['VB'].extend(['evolves', 'develops'])\n"
   ]
  },
  {
   "cell_type": "code",
   "execution_count": 73,
   "metadata": {},
   "outputs": [],
   "source": [
    "evolve_dict['JJ'].extend(['revolutionary', 'engaging'])\n"
   ]
  },
  {
   "cell_type": "code",
   "execution_count": 76,
   "metadata": {},
   "outputs": [
    {
     "data": {
      "text/plain": [
       "{'JJ': ['top',\n",
       "  'next',\n",
       "  'upcoming',\n",
       "  'advanced',\n",
       "  'future',\n",
       "  'peak',\n",
       "  'revolutionary',\n",
       "  'engaging'],\n",
       " 'JJS': [],\n",
       " 'MD': ['will', 'could'],\n",
       " 'RBR': [],\n",
       " 'RBS': ['most'],\n",
       " 'VB': ['be',\n",
       "  'replace',\n",
       "  'emerge',\n",
       "  'emerging',\n",
       "  'evolve',\n",
       "  'develop',\n",
       "  'evolves',\n",
       "  'develops']}"
      ]
     },
     "execution_count": 76,
     "metadata": {},
     "output_type": "execute_result"
    }
   ],
   "source": [
    "evolve_dict"
   ]
  },
  {
   "cell_type": "code",
   "execution_count": 78,
   "metadata": {},
   "outputs": [],
   "source": [
    "#save dict to file\n",
    "path = r\"C:\\Users\\Ravit\\Documents\\rnd\\horizon_scanning_lab\\Scrapers\\Quora_RCS\\answers_and_info\\bert_outcome_analysis\\dictionaries\"\n",
    "full_path = os.path.join(path, \"tech_dict.json\")\n",
    "\n",
    "with open(full_path, 'w') as f:\n",
    "    json.dump(evolve_dict, f)"
   ]
  },
  {
   "cell_type": "code",
   "execution_count": null,
   "metadata": {},
   "outputs": [],
   "source": []
  }
 ],
 "metadata": {
  "kernelspec": {
   "display_name": "Python 3.9.12 ('base')",
   "language": "python",
   "name": "python3"
  },
  "language_info": {
   "codemirror_mode": {
    "name": "ipython",
    "version": 3
   },
   "file_extension": ".py",
   "mimetype": "text/x-python",
   "name": "python",
   "nbconvert_exporter": "python",
   "pygments_lexer": "ipython3",
   "version": "3.9.12"
  },
  "orig_nbformat": 4,
  "vscode": {
   "interpreter": {
    "hash": "ad2bdc8ecc057115af97d19610ffacc2b4e99fae6737bb82f5d7fb13d2f2c186"
   }
  }
 },
 "nbformat": 4,
 "nbformat_minor": 2
}
