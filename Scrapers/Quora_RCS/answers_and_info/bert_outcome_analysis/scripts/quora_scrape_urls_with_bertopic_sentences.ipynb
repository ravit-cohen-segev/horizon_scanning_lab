{
 "cells": [
  {
   "cell_type": "code",
   "execution_count": 16,
   "metadata": {},
   "outputs": [],
   "source": [
    "from bs4 import BeautifulSoup\n",
    "import pandas as pd\n",
    "import numpy as np\n",
    "from itertools import combinations, product\n",
    "import time\n",
    "import ssl\n",
    "import os\n",
    "import re\n",
    "from tqdm.notebook import tqdm\n",
    "import random\n",
    "\n",
    "from selenium import webdriver\n",
    "from selenium.webdriver.support.ui import WebDriverWait\n",
    "from selenium.webdriver.common.by import By\n",
    "from selenium.webdriver.support.ui import Select\n",
    "from selenium.webdriver.chrome.options import Options"
   ]
  },
  {
   "cell_type": "markdown",
   "metadata": {},
   "source": []
  },
  {
   "cell_type": "code",
   "execution_count": 2,
   "metadata": {},
   "outputs": [],
   "source": [
    "#For ignoring SSL ceritficate errors\n",
    "ctx = ssl.create_default_context()\n",
    "ctx.check_hostname = False\n",
    "ctx.verify_mode = ssl.CERT_NONE"
   ]
  },
  {
   "cell_type": "code",
   "execution_count": 3,
   "metadata": {},
   "outputs": [],
   "source": [
    "class infine_scroll(object): \n",
    "  def __init__(self, last):\n",
    "    self.last = last\n",
    "\n",
    "  def __call__(self, driver):\n",
    "    new = driver.execute_script('return document.body.scrollHeight')  \n",
    "    if new > self.last:\n",
    "        return new\n",
    "    else:\n",
    "        return False"
   ]
  },
  {
   "cell_type": "code",
   "execution_count": 17,
   "metadata": {},
   "outputs": [],
   "source": [
    "def get_html_from_url(url):\n",
    "  chrome_options = Options()\n",
    "  chrome_options.add_argument(\"--headless\")\n",
    "\n",
    "  browser = webdriver.Chrome('C:\\Program Files\\chromedriver_win32 (1)\\chromedriver', options=chrome_options) \n",
    "  browser.set_page_load_timeout(30) \n",
    "  browser.get(url)\n",
    "   \n",
    "  last_height = browser.execute_script('return document.body.scrollHeight')\n",
    "\n",
    "  flag=1\n",
    "\n",
    "  while flag==1:\n",
    "    \n",
    "    try:\n",
    "       browser.execute_script('window.scrollTo(0,document.body.scrollHeight)')\n",
    "       wait = WebDriverWait(browser, 10)\n",
    "\n",
    "       new_height = wait.until(infine_scroll(last_height))\n",
    "       last_height = new_height\n",
    "\n",
    "    except:\n",
    "        print(\"End of page reached\")\n",
    "        flag = 0\n",
    "  try:\n",
    "    html = browser.page_source\n",
    "  except:\n",
    "    print('something wrong with ' + url)\n",
    "    html = None\n",
    "  return html"
   ]
  },
  {
   "cell_type": "code",
   "execution_count": 18,
   "metadata": {},
   "outputs": [],
   "source": [
    "df_path = r\"C:\\Users\\Ravit\\Documents\\rnd\\horizon_scanning_lab\\Scrapers\\Quora_RCS\\answers_and_info\\bert_outcome_analysis\\third_iteration\\new_entries_for_extracting_3d_iter_questions.csv\"\n",
    "df_sentences = pd.read_csv(df_path)"
   ]
  },
  {
   "cell_type": "code",
   "execution_count": 19,
   "metadata": {},
   "outputs": [
    {
     "data": {
      "text/html": [
       "<div>\n",
       "<style scoped>\n",
       "    .dataframe tbody tr th:only-of-type {\n",
       "        vertical-align: middle;\n",
       "    }\n",
       "\n",
       "    .dataframe tbody tr th {\n",
       "        vertical-align: top;\n",
       "    }\n",
       "\n",
       "    .dataframe thead th {\n",
       "        text-align: right;\n",
       "    }\n",
       "</style>\n",
       "<table border=\"1\" class=\"dataframe\">\n",
       "  <thead>\n",
       "    <tr style=\"text-align: right;\">\n",
       "      <th></th>\n",
       "      <th>Unnamed: 0</th>\n",
       "      <th>0</th>\n",
       "    </tr>\n",
       "  </thead>\n",
       "  <tbody>\n",
       "    <tr>\n",
       "      <th>0</th>\n",
       "      <td>0</td>\n",
       "      <td>top technology</td>\n",
       "    </tr>\n",
       "    <tr>\n",
       "      <th>1</th>\n",
       "      <td>1</td>\n",
       "      <td>next technology</td>\n",
       "    </tr>\n",
       "    <tr>\n",
       "      <th>2</th>\n",
       "      <td>2</td>\n",
       "      <td>upcoming technology</td>\n",
       "    </tr>\n",
       "    <tr>\n",
       "      <th>3</th>\n",
       "      <td>3</td>\n",
       "      <td>advanced technology</td>\n",
       "    </tr>\n",
       "    <tr>\n",
       "      <th>4</th>\n",
       "      <td>4</td>\n",
       "      <td>future technology</td>\n",
       "    </tr>\n",
       "    <tr>\n",
       "      <th>5</th>\n",
       "      <td>5</td>\n",
       "      <td>peak technology</td>\n",
       "    </tr>\n",
       "    <tr>\n",
       "      <th>6</th>\n",
       "      <td>6</td>\n",
       "      <td>revolutionary technology</td>\n",
       "    </tr>\n",
       "    <tr>\n",
       "      <th>7</th>\n",
       "      <td>7</td>\n",
       "      <td>engaging technology</td>\n",
       "    </tr>\n",
       "    <tr>\n",
       "      <th>8</th>\n",
       "      <td>8</td>\n",
       "      <td>technology will replace</td>\n",
       "    </tr>\n",
       "    <tr>\n",
       "      <th>9</th>\n",
       "      <td>9</td>\n",
       "      <td>technology will emerge</td>\n",
       "    </tr>\n",
       "    <tr>\n",
       "      <th>10</th>\n",
       "      <td>10</td>\n",
       "      <td>technology will evolve</td>\n",
       "    </tr>\n",
       "    <tr>\n",
       "      <th>11</th>\n",
       "      <td>11</td>\n",
       "      <td>technology will develop</td>\n",
       "    </tr>\n",
       "    <tr>\n",
       "      <th>12</th>\n",
       "      <td>12</td>\n",
       "      <td>solar cryptocurrency</td>\n",
       "    </tr>\n",
       "    <tr>\n",
       "      <th>13</th>\n",
       "      <td>13</td>\n",
       "      <td>cryptocurrency crypto money market bitcoin cur...</td>\n",
       "    </tr>\n",
       "    <tr>\n",
       "      <th>14</th>\n",
       "      <td>14</td>\n",
       "      <td>mining bitcoin miners hardware miner block cry...</td>\n",
       "    </tr>\n",
       "    <tr>\n",
       "      <th>15</th>\n",
       "      <td>15</td>\n",
       "      <td>green cryptocurrencies</td>\n",
       "    </tr>\n",
       "    <tr>\n",
       "      <th>16</th>\n",
       "      <td>16</td>\n",
       "      <td>fusion nuclear plasma power reactors reactor f...</td>\n",
       "    </tr>\n",
       "    <tr>\n",
       "      <th>17</th>\n",
       "      <td>17</td>\n",
       "      <td>fusion energy nuclear power reactor fission re...</td>\n",
       "    </tr>\n",
       "    <tr>\n",
       "      <th>18</th>\n",
       "      <td>18</td>\n",
       "      <td>fusion energy confinement magnetic center ions...</td>\n",
       "    </tr>\n",
       "    <tr>\n",
       "      <th>19</th>\n",
       "      <td>19</td>\n",
       "      <td>sun interior massive gravitational power makin...</td>\n",
       "    </tr>\n",
       "    <tr>\n",
       "      <th>20</th>\n",
       "      <td>20</td>\n",
       "      <td>brain lobe body cells function parts driver</td>\n",
       "    </tr>\n",
       "    <tr>\n",
       "      <th>21</th>\n",
       "      <td>21</td>\n",
       "      <td>super space computing</td>\n",
       "    </tr>\n",
       "    <tr>\n",
       "      <th>22</th>\n",
       "      <td>22</td>\n",
       "      <td>moon car computer</td>\n",
       "    </tr>\n",
       "    <tr>\n",
       "      <th>23</th>\n",
       "      <td>23</td>\n",
       "      <td>rocket engines engine speed fuel spacecraft sp...</td>\n",
       "    </tr>\n",
       "    <tr>\n",
       "      <th>24</th>\n",
       "      <td>24</td>\n",
       "      <td>mars earth speed travel data minutes latency y...</td>\n",
       "    </tr>\n",
       "    <tr>\n",
       "      <th>25</th>\n",
       "      <td>25</td>\n",
       "      <td>3d printers printing reality ai</td>\n",
       "    </tr>\n",
       "    <tr>\n",
       "      <th>26</th>\n",
       "      <td>26</td>\n",
       "      <td>iot internet-of-things devices connected smart...</td>\n",
       "    </tr>\n",
       "    <tr>\n",
       "      <th>27</th>\n",
       "      <td>27</td>\n",
       "      <td>iot internet devices things smart security dat...</td>\n",
       "    </tr>\n",
       "    <tr>\n",
       "      <th>28</th>\n",
       "      <td>28</td>\n",
       "      <td>cars electric futurists prototype self-flying</td>\n",
       "    </tr>\n",
       "    <tr>\n",
       "      <th>29</th>\n",
       "      <td>29</td>\n",
       "      <td>communication issue</td>\n",
       "    </tr>\n",
       "    <tr>\n",
       "      <th>30</th>\n",
       "      <td>30</td>\n",
       "      <td>kaspersky future predict machines answer quest...</td>\n",
       "    </tr>\n",
       "    <tr>\n",
       "      <th>31</th>\n",
       "      <td>31</td>\n",
       "      <td>data home google mobile analytics pc business ...</td>\n",
       "    </tr>\n",
       "    <tr>\n",
       "      <th>32</th>\n",
       "      <td>32</td>\n",
       "      <td>evolution editing usher bypass profits heart e...</td>\n",
       "    </tr>\n",
       "    <tr>\n",
       "      <th>33</th>\n",
       "      <td>33</td>\n",
       "      <td>biological-capabilities human computer</td>\n",
       "    </tr>\n",
       "    <tr>\n",
       "      <th>34</th>\n",
       "      <td>34</td>\n",
       "      <td>computers memory supercomputer quantum superco...</td>\n",
       "    </tr>\n",
       "    <tr>\n",
       "      <th>35</th>\n",
       "      <td>35</td>\n",
       "      <td>trade countries tariffs</td>\n",
       "    </tr>\n",
       "    <tr>\n",
       "      <th>36</th>\n",
       "      <td>36</td>\n",
       "      <td>budget tax quality development years</td>\n",
       "    </tr>\n",
       "    <tr>\n",
       "      <th>37</th>\n",
       "      <td>37</td>\n",
       "      <td>invention reality virtual new technology thing...</td>\n",
       "    </tr>\n",
       "  </tbody>\n",
       "</table>\n",
       "</div>"
      ],
      "text/plain": [
       "    Unnamed: 0                                                  0\n",
       "0            0                                     top technology\n",
       "1            1                                    next technology\n",
       "2            2                                upcoming technology\n",
       "3            3                                advanced technology\n",
       "4            4                                  future technology\n",
       "5            5                                    peak technology\n",
       "6            6                           revolutionary technology\n",
       "7            7                                engaging technology\n",
       "8            8                            technology will replace\n",
       "9            9                             technology will emerge\n",
       "10          10                             technology will evolve\n",
       "11          11                            technology will develop\n",
       "12          12                              solar cryptocurrency \n",
       "13          13  cryptocurrency crypto money market bitcoin cur...\n",
       "14          14  mining bitcoin miners hardware miner block cry...\n",
       "15          15                             green cryptocurrencies\n",
       "16          16  fusion nuclear plasma power reactors reactor f...\n",
       "17          17  fusion energy nuclear power reactor fission re...\n",
       "18          18  fusion energy confinement magnetic center ions...\n",
       "19          19  sun interior massive gravitational power makin...\n",
       "20          20       brain lobe body cells function parts driver \n",
       "21          21                              super space computing\n",
       "22          22                                  moon car computer\n",
       "23          23  rocket engines engine speed fuel spacecraft sp...\n",
       "24          24  mars earth speed travel data minutes latency y...\n",
       "25          25                    3d printers printing reality ai\n",
       "26          26  iot internet-of-things devices connected smart...\n",
       "27          27  iot internet devices things smart security dat...\n",
       "28          28     cars electric futurists prototype self-flying \n",
       "29          29                                communication issue\n",
       "30          30  kaspersky future predict machines answer quest...\n",
       "31          31  data home google mobile analytics pc business ...\n",
       "32          32  evolution editing usher bypass profits heart e...\n",
       "33          33            biological-capabilities human computer \n",
       "34          34  computers memory supercomputer quantum superco...\n",
       "35          35                            trade countries tariffs\n",
       "36          36               budget tax quality development years\n",
       "37          37  invention reality virtual new technology thing..."
      ]
     },
     "execution_count": 19,
     "metadata": {},
     "output_type": "execute_result"
    }
   ],
   "source": [
    "df_sentences"
   ]
  },
  {
   "cell_type": "code",
   "execution_count": 20,
   "metadata": {},
   "outputs": [],
   "source": [
    "df_sentences.set_index(['Unnamed: 0'], inplace=True)"
   ]
  },
  {
   "cell_type": "code",
   "execution_count": 21,
   "metadata": {},
   "outputs": [],
   "source": [
    "#df_sentences"
   ]
  },
  {
   "cell_type": "code",
   "execution_count": 22,
   "metadata": {},
   "outputs": [],
   "source": [
    "#from first run --ignore\n",
    "#df_sentences = df_sentences['new_list'].to_frame()\n",
    "#df_sentences.dropna(axis=0, inplace=True)"
   ]
  },
  {
   "cell_type": "code",
   "execution_count": 23,
   "metadata": {},
   "outputs": [
    {
     "data": {
      "application/vnd.jupyter.widget-view+json": {
       "model_id": "51e828cf7dce4af18076479833f838c6",
       "version_major": 2,
       "version_minor": 0
      },
      "text/plain": [
       "0it [00:00, ?it/s]"
      ]
     },
     "metadata": {},
     "output_type": "display_data"
    }
   ],
   "source": [
    "search_link = 'https://www.quora.com/search?q='\n",
    "\n",
    "#create search links\n",
    "all_search_links = []\n",
    "for i, row in tqdm(df_sentences.iterrows()):\n",
    "    sentence_words = row.iloc[0].split()\n",
    "    for i, word in enumerate(sentence_words):\n",
    "        if '_' in word:\n",
    "            word = word.replace('_', ' ')\n",
    "            sentence_words[i] = word\n",
    "    \n",
    "    all_search_links.append(search_link+'%20'.join(sentence_words))\n"
   ]
  },
  {
   "cell_type": "code",
   "execution_count": 24,
   "metadata": {},
   "outputs": [
    {
     "data": {
      "text/plain": [
       "['https://www.quora.com/search?q=top%20technology',\n",
       " 'https://www.quora.com/search?q=next%20technology',\n",
       " 'https://www.quora.com/search?q=upcoming%20technology',\n",
       " 'https://www.quora.com/search?q=advanced%20technology',\n",
       " 'https://www.quora.com/search?q=future%20technology',\n",
       " 'https://www.quora.com/search?q=peak%20technology',\n",
       " 'https://www.quora.com/search?q=revolutionary%20technology',\n",
       " 'https://www.quora.com/search?q=engaging%20technology',\n",
       " 'https://www.quora.com/search?q=technology%20will%20replace',\n",
       " 'https://www.quora.com/search?q=technology%20will%20emerge',\n",
       " 'https://www.quora.com/search?q=technology%20will%20evolve',\n",
       " 'https://www.quora.com/search?q=technology%20will%20develop',\n",
       " 'https://www.quora.com/search?q=solar%20cryptocurrency',\n",
       " 'https://www.quora.com/search?q=cryptocurrency%20crypto%20money%20market%20bitcoin%20currency%20cryptocurrencies',\n",
       " 'https://www.quora.com/search?q=mining%20bitcoin%20miners%20hardware%20miner%20block%20cryptocurrency%20coins%20bitcoins%20reward',\n",
       " 'https://www.quora.com/search?q=green%20cryptocurrencies',\n",
       " 'https://www.quora.com/search?q=fusion%20nuclear%20plasma%20power%20reactors%20reactor%20fission%20fuel',\n",
       " 'https://www.quora.com/search?q=fusion%20energy%20nuclear%20power%20reactor%20fission%20reactors%20fuel%20plasma%20reaction',\n",
       " 'https://www.quora.com/search?q=fusion%20energy%20confinement%20magnetic%20center%20ions%20tritium%20codes%20practical%20field',\n",
       " 'https://www.quora.com/search?q=sun%20interior%20massive%20gravitational%20power%20making%20fusion%20sustained',\n",
       " 'https://www.quora.com/search?q=brain%20lobe%20body%20cells%20function%20parts%20driver',\n",
       " 'https://www.quora.com/search?q=super%20space%20computing',\n",
       " 'https://www.quora.com/search?q=moon%20car%20computer',\n",
       " 'https://www.quora.com/search?q=rocket%20engines%20engine%20speed%20fuel%20spacecraft%20space%20chemical%20thrust%20rockets',\n",
       " 'https://www.quora.com/search?q=mars%20earth%20speed%20travel%20data%20minutes%20latency%20years',\n",
       " 'https://www.quora.com/search?q=3d%20printers%20printing%20reality%20ai',\n",
       " 'https://www.quora.com/search?q=iot%20internet-of-things%20devices%20connected%20smart-home%20network%20embedded',\n",
       " 'https://www.quora.com/search?q=iot%20internet%20devices%20things%20smart%20security%20data%20device%20embedded%20connected',\n",
       " 'https://www.quora.com/search?q=cars%20electric%20futurists%20prototype%20self-flying',\n",
       " 'https://www.quora.com/search?q=communication%20issue',\n",
       " 'https://www.quora.com/search?q=kaspersky%20future%20predict%20machines%20answer%20question%20emerging%20homes',\n",
       " 'https://www.quora.com/search?q=data%20home%20google%20mobile%20analytics%20pc%20business%20microsoft%20work%20companies',\n",
       " 'https://www.quora.com/search?q=evolution%20editing%20usher%20bypass%20profits%20heart%20eliminates%20regardless%20laws',\n",
       " 'https://www.quora.com/search?q=biological-capabilities%20human%20computer',\n",
       " 'https://www.quora.com/search?q=computers%20memory%20supercomputer%20quantum%20supercomputers%20computer%20data%20cpu%20compute%20processing',\n",
       " 'https://www.quora.com/search?q=trade%20countries%20tariffs',\n",
       " 'https://www.quora.com/search?q=budget%20tax%20quality%20development%20years',\n",
       " 'https://www.quora.com/search?q=invention%20reality%20virtual%20new%20technology%20things%20technological%20vr']"
      ]
     },
     "execution_count": 24,
     "metadata": {},
     "output_type": "execute_result"
    }
   ],
   "source": [
    "all_search_links"
   ]
  },
  {
   "cell_type": "code",
   "execution_count": 25,
   "metadata": {},
   "outputs": [
    {
     "data": {
      "text/plain": [
       "38"
      ]
     },
     "execution_count": 25,
     "metadata": {},
     "output_type": "execute_result"
    }
   ],
   "source": [
    "len(all_search_links)"
   ]
  },
  {
   "cell_type": "code",
   "execution_count": 26,
   "metadata": {},
   "outputs": [],
   "source": [
    "class Extract_href_urls():\n",
    "    def __init__(self, links):\n",
    "        self.links = links\n",
    "        self.all_box_links = []\n",
    "        self.all_indexes = []\n",
    "        self.get_question_links()\n",
    "        self.all_hrefs = []        \n",
    "        self.get_hrefs()\n",
    "          \n",
    "    def get_question_links(self):    \n",
    "        for j, link in enumerate(self.links):\n",
    "            url_html = get_html_from_url(link)\n",
    "            if url_html is None:\n",
    "                continue\n",
    "            soup = BeautifulSoup(url_html)\n",
    "            #find all boxes of groups\n",
    "            self.all_box_l = soup.find_all('a', {'class':\"q-box qu-display--block qu-cursor--pointer qu-hover--textDecoration--underline Link___StyledBox-t2xg9c-0 dxHfBI\"})\n",
    "            try:\n",
    "                self.all_indexes.extend([df_sentences.index[j]]*len(self.all_box_l))\n",
    "                self.all_box_links.extend(self.all_box_l)\n",
    "            except:\n",
    "                pass\n",
    "            \n",
    "\n",
    "    @staticmethod\n",
    "    def get_url_tag(box):\n",
    "        #By find_element not working in selenium using string parsing instead\n",
    "        url=None\n",
    "        box = str(box)\n",
    "        split_box = box.split()\n",
    "        for word in split_box:\n",
    "            if 'href' in word:\n",
    "                url = word.strip('href=').strip('\"')\n",
    "                break\n",
    "        return url\n",
    "    \n",
    "    def get_hrefs(self): \n",
    "        for box in self.all_box_links:\n",
    "            link_hrefs = self.get_url_tag(box)\n",
    "            self.all_hrefs.append(link_hrefs)"
   ]
  },
  {
   "cell_type": "code",
   "execution_count": 27,
   "metadata": {},
   "outputs": [
    {
     "name": "stderr",
     "output_type": "stream",
     "text": [
      "C:\\Users\\Ravit\\AppData\\Local\\Temp\\ipykernel_11412\\264970267.py:5: DeprecationWarning: executable_path has been deprecated, please pass in a Service object\n",
      "  browser = webdriver.Chrome('C:\\Program Files\\chromedriver_win32 (1)\\chromedriver', options=chrome_options)\n"
     ]
    }
   ],
   "source": [
    "res1 = Extract_href_urls(all_search_links)"
   ]
  },
  {
   "cell_type": "code",
   "execution_count": 71,
   "metadata": {},
   "outputs": [],
   "source": [
    "df_res = pd.DataFrame(res1.all_hrefs)"
   ]
  },
  {
   "cell_type": "code",
   "execution_count": 74,
   "metadata": {},
   "outputs": [],
   "source": [
    "df_res['cluster_index'] = res1.all_indexes"
   ]
  },
  {
   "cell_type": "code",
   "execution_count": 76,
   "metadata": {},
   "outputs": [
    {
     "data": {
      "text/plain": [
       "2467"
      ]
     },
     "execution_count": 76,
     "metadata": {},
     "output_type": "execute_result"
    }
   ],
   "source": [
    "len(df_res)"
   ]
  },
  {
   "cell_type": "code",
   "execution_count": 79,
   "metadata": {},
   "outputs": [
    {
     "data": {
      "text/html": [
       "<div>\n",
       "<style scoped>\n",
       "    .dataframe tbody tr th:only-of-type {\n",
       "        vertical-align: middle;\n",
       "    }\n",
       "\n",
       "    .dataframe tbody tr th {\n",
       "        vertical-align: top;\n",
       "    }\n",
       "\n",
       "    .dataframe thead th {\n",
       "        text-align: right;\n",
       "    }\n",
       "</style>\n",
       "<table border=\"1\" class=\"dataframe\">\n",
       "  <thead>\n",
       "    <tr style=\"text-align: right;\">\n",
       "      <th></th>\n",
       "      <th>0</th>\n",
       "      <th>cluster_index</th>\n",
       "    </tr>\n",
       "  </thead>\n",
       "  <tbody>\n",
       "    <tr>\n",
       "      <th>0</th>\n",
       "      <td>https://www.quora.com/What-would-happen-to-cry...</td>\n",
       "      <td>-1</td>\n",
       "    </tr>\n",
       "    <tr>\n",
       "      <th>1</th>\n",
       "      <td>https://www.quora.com/What-solar-panels-would-...</td>\n",
       "      <td>-1</td>\n",
       "    </tr>\n",
       "    <tr>\n",
       "      <th>2</th>\n",
       "      <td>https://www.quora.com/Is-Cryptocurrency-not-ge...</td>\n",
       "      <td>-1</td>\n",
       "    </tr>\n",
       "    <tr>\n",
       "      <th>3</th>\n",
       "      <td>https://www.quora.com/Would-mining-cryptocurre...</td>\n",
       "      <td>-1</td>\n",
       "    </tr>\n",
       "    <tr>\n",
       "      <th>4</th>\n",
       "      <td>https://www.quora.com/If-I-have-free-electrici...</td>\n",
       "      <td>-1</td>\n",
       "    </tr>\n",
       "    <tr>\n",
       "      <th>...</th>\n",
       "      <td>...</td>\n",
       "      <td>...</td>\n",
       "    </tr>\n",
       "    <tr>\n",
       "      <th>2462</th>\n",
       "      <td>https://www.quora.com/How-can-a-politics-stude...</td>\n",
       "      <td>17</td>\n",
       "    </tr>\n",
       "    <tr>\n",
       "      <th>2463</th>\n",
       "      <td>https://www.quora.com/How-should-I-prepare-for...</td>\n",
       "      <td>17</td>\n",
       "    </tr>\n",
       "    <tr>\n",
       "      <th>2464</th>\n",
       "      <td>https://www.quora.com/If-Donald-Trump-is-not-r...</td>\n",
       "      <td>17</td>\n",
       "    </tr>\n",
       "    <tr>\n",
       "      <th>2465</th>\n",
       "      <td>https://www.quora.com/How-can-you-improve-your...</td>\n",
       "      <td>17</td>\n",
       "    </tr>\n",
       "    <tr>\n",
       "      <th>2466</th>\n",
       "      <td>https://www.quora.com/What-is-dependability-in...</td>\n",
       "      <td>17</td>\n",
       "    </tr>\n",
       "  </tbody>\n",
       "</table>\n",
       "<p>2467 rows × 2 columns</p>\n",
       "</div>"
      ],
      "text/plain": [
       "                                                      0  cluster_index\n",
       "0     https://www.quora.com/What-would-happen-to-cry...             -1\n",
       "1     https://www.quora.com/What-solar-panels-would-...             -1\n",
       "2     https://www.quora.com/Is-Cryptocurrency-not-ge...             -1\n",
       "3     https://www.quora.com/Would-mining-cryptocurre...             -1\n",
       "4     https://www.quora.com/If-I-have-free-electrici...             -1\n",
       "...                                                 ...            ...\n",
       "2462  https://www.quora.com/How-can-a-politics-stude...             17\n",
       "2463  https://www.quora.com/How-should-I-prepare-for...             17\n",
       "2464  https://www.quora.com/If-Donald-Trump-is-not-r...             17\n",
       "2465  https://www.quora.com/How-can-you-improve-your...             17\n",
       "2466  https://www.quora.com/What-is-dependability-in...             17\n",
       "\n",
       "[2467 rows x 2 columns]"
      ]
     },
     "execution_count": 79,
     "metadata": {},
     "output_type": "execute_result"
    }
   ],
   "source": [
    "df_res.drop_duplicates()"
   ]
  },
  {
   "cell_type": "code",
   "execution_count": 80,
   "metadata": {},
   "outputs": [],
   "source": [
    "save_path = r'C:\\Users\\Ravit\\Documents\\rnd\\horizon_scanning_lab\\Scrapers\\Quora_RCS\\answers_and_info\\bert_outcome_analysis\\second_iteration\\links_for_second_quora_scrap.csv'\n",
    "df_res.to_csv(save_path, index=False)"
   ]
  },
  {
   "cell_type": "code",
   "execution_count": 81,
   "metadata": {},
   "outputs": [
    {
     "data": {
      "text/plain": [
       "{-1, 0, 1, 2, 3, 4, 6, 7, 8, 10, 11, 12, 16, 17}"
      ]
     },
     "execution_count": 81,
     "metadata": {},
     "output_type": "execute_result"
    }
   ],
   "source": [
    "set(df_res['cluster_index'])"
   ]
  },
  {
   "cell_type": "code",
   "execution_count": 82,
   "metadata": {},
   "outputs": [
    {
     "data": {
      "text/plain": [
       "{13, 15}"
      ]
     },
     "execution_count": 82,
     "metadata": {},
     "output_type": "execute_result"
    }
   ],
   "source": [
    "set(df_sentences.index) - set(df_res['cluster_index'])"
   ]
  },
  {
   "cell_type": "markdown",
   "metadata": {},
   "source": []
  }
 ],
 "metadata": {
  "kernelspec": {
   "display_name": "Python 3.9.12 ('base')",
   "language": "python",
   "name": "python3"
  },
  "language_info": {
   "codemirror_mode": {
    "name": "ipython",
    "version": 3
   },
   "file_extension": ".py",
   "mimetype": "text/x-python",
   "name": "python",
   "nbconvert_exporter": "python",
   "pygments_lexer": "ipython3",
   "version": "3.9.12"
  },
  "orig_nbformat": 4,
  "vscode": {
   "interpreter": {
    "hash": "ad2bdc8ecc057115af97d19610ffacc2b4e99fae6737bb82f5d7fb13d2f2c186"
   }
  }
 },
 "nbformat": 4,
 "nbformat_minor": 2
}
