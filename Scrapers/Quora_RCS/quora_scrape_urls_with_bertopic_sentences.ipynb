{
 "cells": [
  {
   "cell_type": "code",
   "execution_count": 22,
   "metadata": {},
   "outputs": [],
   "source": [
    "from bs4 import BeautifulSoup\n",
    "import pandas as pd\n",
    "import numpy as np\n",
    "import time\n",
    "import ssl\n",
    "import os\n",
    "import re\n",
    "\n",
    "from selenium import webdriver\n",
    "from selenium.webdriver.support.ui import WebDriverWait\n",
    "from selenium.webdriver.common.by import By\n",
    "from selenium.webdriver.support.ui import Select\n",
    "\n"
   ]
  },
  {
   "cell_type": "code",
   "execution_count": 23,
   "metadata": {},
   "outputs": [],
   "source": [
    "#For ignoring SSL ceritficate errors\n",
    "ctx = ssl.create_default_context()\n",
    "ctx.check_hostname = False\n",
    "ctx.verify_mode = ssl.CERT_NONE"
   ]
  },
  {
   "cell_type": "code",
   "execution_count": 24,
   "metadata": {},
   "outputs": [],
   "source": [
    "class infine_scroll(object): \n",
    "  def __init__(self, last):\n",
    "    self.last = last\n",
    "\n",
    "  def __call__(self, driver):\n",
    "    new = driver.execute_script('return document.body.scrollHeight')  \n",
    "    if new > self.last:\n",
    "        return new\n",
    "    else:\n",
    "        return False"
   ]
  },
  {
   "cell_type": "code",
   "execution_count": 25,
   "metadata": {},
   "outputs": [],
   "source": [
    "def get_html_from_url(url):\n",
    "  browser = webdriver.Chrome('C:\\Program Files\\chromedriver_win32 (1)\\chromedriver') \n",
    "  browser.set_page_load_timeout(30) \n",
    "  browser.get(url)\n",
    "   \n",
    "  last_height = browser.execute_script('return document.body.scrollHeight')\n",
    "\n",
    "  flag=1\n",
    "\n",
    "  while flag==1:\n",
    "    \n",
    "    try:\n",
    "       browser.execute_script('window.scrollTo(0,document.body.scrollHeight)')\n",
    "       wait = WebDriverWait(browser, 10)\n",
    "\n",
    "       new_height = wait.until(infine_scroll(last_height))\n",
    "       last_height = new_height\n",
    "\n",
    "    except:\n",
    "        print(\"End of page reached\")\n",
    "        flag = 0\n",
    "  html = browser.page_source\n",
    "  return html"
   ]
  },
  {
   "cell_type": "code",
   "execution_count": 26,
   "metadata": {},
   "outputs": [],
   "source": [
    "df_path = r\"C:\\Users\\Ravit\\Documents\\rnd\\horizon_scanning_lab\\Scrapers\\Quora_RCS\\answers_and_info\\bert_outcome_analysis\\words_in_clusters_after_preliminary_cleaning.csv\"\n",
    "df_sentences = pd.read_csv(df_path)"
   ]
  },
  {
   "cell_type": "code",
   "execution_count": 27,
   "metadata": {},
   "outputs": [],
   "source": [
    "df_sentences.drop(['Unnamed: 0'], axis=1, inplace=True)"
   ]
  },
  {
   "cell_type": "code",
   "execution_count": 28,
   "metadata": {},
   "outputs": [
    {
     "data": {
      "text/html": [
       "<div>\n",
       "<style scoped>\n",
       "    .dataframe tbody tr th:only-of-type {\n",
       "        vertical-align: middle;\n",
       "    }\n",
       "\n",
       "    .dataframe tbody tr th {\n",
       "        vertical-align: top;\n",
       "    }\n",
       "\n",
       "    .dataframe thead th {\n",
       "        text-align: right;\n",
       "    }\n",
       "</style>\n",
       "<table border=\"1\" class=\"dataframe\">\n",
       "  <thead>\n",
       "    <tr style=\"text-align: right;\">\n",
       "      <th></th>\n",
       "      <th>0</th>\n",
       "    </tr>\n",
       "  </thead>\n",
       "  <tbody>\n",
       "    <tr>\n",
       "      <th>0</th>\n",
       "      <td>company solar cryptocurrency</td>\n",
       "    </tr>\n",
       "    <tr>\n",
       "      <th>1</th>\n",
       "      <td>fusion nuclear plasma power reactors reactor f...</td>\n",
       "    </tr>\n",
       "    <tr>\n",
       "      <th>2</th>\n",
       "      <td>brain lobe body jess cells function parts driv...</td>\n",
       "    </tr>\n",
       "    <tr>\n",
       "      <th>3</th>\n",
       "      <td>50 super space computing</td>\n",
       "    </tr>\n",
       "    <tr>\n",
       "      <th>4</th>\n",
       "      <td>3d emerging printers printing list 10 reality ...</td>\n",
       "    </tr>\n",
       "    <tr>\n",
       "      <th>5</th>\n",
       "      <td>iot internet things devices connected billion ...</td>\n",
       "    </tr>\n",
       "    <tr>\n",
       "      <th>6</th>\n",
       "      <td>following reasonable 2031 2068 vaguely thingsa...</td>\n",
       "    </tr>\n",
       "    <tr>\n",
       "      <th>7</th>\n",
       "      <td>predictions cars electric cp group futurists t...</td>\n",
       "    </tr>\n",
       "    <tr>\n",
       "      <th>8</th>\n",
       "      <td>students communication issue letter cover busi...</td>\n",
       "    </tr>\n",
       "    <tr>\n",
       "      <th>9</th>\n",
       "      <td>computers thisor desktops road 1969 20 wrist k...</td>\n",
       "    </tr>\n",
       "    <tr>\n",
       "      <th>10</th>\n",
       "      <td>union economy china soviet economic high count...</td>\n",
       "    </tr>\n",
       "    <tr>\n",
       "      <th>11</th>\n",
       "      <td>ai programming cars selfflying artificial mach...</td>\n",
       "    </tr>\n",
       "    <tr>\n",
       "      <th>12</th>\n",
       "      <td>kaspersky future predict machines answer quest...</td>\n",
       "    </tr>\n",
       "    <tr>\n",
       "      <th>13</th>\n",
       "      <td>start remember popular write culled okay europ...</td>\n",
       "    </tr>\n",
       "    <tr>\n",
       "      <th>14</th>\n",
       "      <td>data home google mobile analytics pc business ...</td>\n",
       "    </tr>\n",
       "    <tr>\n",
       "      <th>15</th>\n",
       "      <td>civil door open humanity recover war dark fail...</td>\n",
       "    </tr>\n",
       "    <tr>\n",
       "      <th>16</th>\n",
       "      <td>evolution editing usher bypass profits heart e...</td>\n",
       "    </tr>\n",
       "    <tr>\n",
       "      <th>17</th>\n",
       "      <td>finding jobs longterm development stream remot...</td>\n",
       "    </tr>\n",
       "    <tr>\n",
       "      <th>18</th>\n",
       "      <td>biological capabilities human grow increase co...</td>\n",
       "    </tr>\n",
       "  </tbody>\n",
       "</table>\n",
       "</div>"
      ],
      "text/plain": [
       "                                                    0\n",
       "0                        company solar cryptocurrency\n",
       "1   fusion nuclear plasma power reactors reactor f...\n",
       "2   brain lobe body jess cells function parts driv...\n",
       "3                            50 super space computing\n",
       "4   3d emerging printers printing list 10 reality ...\n",
       "5   iot internet things devices connected billion ...\n",
       "6   following reasonable 2031 2068 vaguely thingsa...\n",
       "7   predictions cars electric cp group futurists t...\n",
       "8   students communication issue letter cover busi...\n",
       "9   computers thisor desktops road 1969 20 wrist k...\n",
       "10  union economy china soviet economic high count...\n",
       "11  ai programming cars selfflying artificial mach...\n",
       "12  kaspersky future predict machines answer quest...\n",
       "13  start remember popular write culled okay europ...\n",
       "14  data home google mobile analytics pc business ...\n",
       "15  civil door open humanity recover war dark fail...\n",
       "16  evolution editing usher bypass profits heart e...\n",
       "17  finding jobs longterm development stream remot...\n",
       "18  biological capabilities human grow increase co..."
      ]
     },
     "execution_count": 28,
     "metadata": {},
     "output_type": "execute_result"
    }
   ],
   "source": [
    "df_sentences"
   ]
  },
  {
   "cell_type": "code",
   "execution_count": 29,
   "metadata": {},
   "outputs": [],
   "source": [
    "#perform search in Quora and return relevant urls with more than ~100 folloewrs"
   ]
  },
  {
   "cell_type": "code",
   "execution_count": 30,
   "metadata": {},
   "outputs": [],
   "source": [
    "search_link = 'https://www.quora.com/search?q='\n",
    "\n",
    "#create search links\n",
    "all_search_links = []\n",
    "for i, row in df_sentences.iterrows():\n",
    "   \n",
    "    sentence = row.iloc[0].replace(' ','%20')\n",
    "    all_search_links.append(search_link+sentence)\n"
   ]
  },
  {
   "cell_type": "code",
   "execution_count": 31,
   "metadata": {},
   "outputs": [
    {
     "data": {
      "text/plain": [
       "['https://www.quora.com/search?q=company%20solar%20cryptocurrency',\n",
       " 'https://www.quora.com/search?q=fusion%20nuclear%20plasma%20power%20reactors%20reactor%20fission%20fuel',\n",
       " 'https://www.quora.com/search?q=brain%20lobe%20body%20jess%20cells%20function%20parts%20driver%20dont',\n",
       " 'https://www.quora.com/search?q=50%20super%20space%20computing',\n",
       " 'https://www.quora.com/search?q=3d%20emerging%20printers%20printing%20list%2010%20reality%20ai%20trends',\n",
       " 'https://www.quora.com/search?q=iot%20internet%20things%20devices%20connected%20billion%20smart%20network%20home%20embedded',\n",
       " 'https://www.quora.com/search?q=following%20reasonable%202031%202068%20vaguely%20thingsall%20bloga%20watching%20compare%20forecasting',\n",
       " 'https://www.quora.com/search?q=predictions%20cars%20electric%20cp%20group%20futurists%20true%20prototype',\n",
       " 'https://www.quora.com/search?q=students%20communication%20issue%20letter%20cover%20business%20information',\n",
       " 'https://www.quora.com/search?q=computers%20thisor%20desktops%20road%201969%2020%20wrist%20keyboard',\n",
       " 'https://www.quora.com/search?q=union%20economy%20china%20soviet%20economic%20high%20countries%20act',\n",
       " 'https://www.quora.com/search?q=ai%20programming%20cars%20selfflying%20artificial%20machine%20time%20robots%20learning',\n",
       " 'https://www.quora.com/search?q=kaspersky%20future%20predict%20machines%20answer%20question%20emerging%20homes',\n",
       " 'https://www.quora.com/search?q=start%20remember%20popular%20write%20culled%20okay%20europe%20december%20beginning%20think',\n",
       " 'https://www.quora.com/search?q=data%20home%20google%20mobile%20analytics%20pc%20business%20microsoft%20work%20companies',\n",
       " 'https://www.quora.com/search?q=civil%20door%20open%20humanity%20recover%20war%20dark%20failure%20house',\n",
       " 'https://www.quora.com/search?q=evolution%20editing%20usher%20bypass%20profits%20heart%20eliminates%20regardless%20laws',\n",
       " 'https://www.quora.com/search?q=finding%20jobs%20longterm%20development%20stream%20remote%20option%20best%20great%20client',\n",
       " 'https://www.quora.com/search?q=biological%20capabilities%20human%20grow%20increase%20computer%20answeredby%20selfcoding%20chipsdisks%20racememory']"
      ]
     },
     "execution_count": 31,
     "metadata": {},
     "output_type": "execute_result"
    }
   ],
   "source": [
    "all_search_links"
   ]
  },
  {
   "cell_type": "code",
   "execution_count": 60,
   "metadata": {},
   "outputs": [],
   "source": [
    "class Extract_href_urls():\n",
    "    def __init__(self, links):\n",
    "        self.links = links\n",
    "        self.all_box_links = []\n",
    "        self.get_question_links()\n",
    "        self.all_hrefs = []\n",
    "        \n",
    "     #   self.flag = False\n",
    "        \n",
    "        self.get_hrefs()\n",
    "          \n",
    "    def get_question_links(self):\n",
    "        for link in self.links:\n",
    "            url_html = get_html_from_url(link)\n",
    "            soup = BeautifulSoup(url_html)\n",
    "            #find all boxes of groups\n",
    "            self.all_box_l = soup.find_all('a', {'class':\"q-box qu-display--block qu-cursor--pointer qu-hover--textDecoration--underline Link___StyledBox-t2xg9c-0 dxHfBI\"})\n",
    "            self.all_box_links.extend(self.all_box_l)\n",
    "\n",
    "    @staticmethod\n",
    "    def get_url_tag(box):\n",
    "        #By find_element not working in selenium using string parsing instead\n",
    "        url=None\n",
    "        box = str(box)\n",
    "        split_box = box.split()\n",
    "        for word in split_box:\n",
    "            if 'href' in word:\n",
    "                url = word.strip('href=').strip('\"')\n",
    "                break\n",
    "        return url\n",
    "    \n",
    "    def get_hrefs(self): \n",
    "        for box in self.all_box_links:\n",
    "            link_hrefs = self.get_url_tag(box)\n",
    "            self.all_hrefs.append(link_hrefs)\n",
    "            \n",
    "       #     if self.flag == False:\n",
    "        #        self.flag = True\n",
    "         #   if self.all_hrefs == [] and self.flag:\n",
    "          #      print('what happened??')\n",
    "\n"
   ]
  },
  {
   "cell_type": "code",
   "execution_count": 59,
   "metadata": {},
   "outputs": [
    {
     "name": "stderr",
     "output_type": "stream",
     "text": [
      "C:\\Users\\Ravit\\AppData\\Local\\Temp\\ipykernel_19872\\3323844770.py:2: DeprecationWarning: executable_path has been deprecated, please pass in a Service object\n",
      "  browser = webdriver.Chrome('C:\\Program Files\\chromedriver_win32 (1)\\chromedriver')\n"
     ]
    },
    {
     "name": "stdout",
     "output_type": "stream",
     "text": [
      "End of page reached\n",
      "End of page reached\n"
     ]
    },
    {
     "ename": "TimeoutException",
     "evalue": "Message: timeout: Timed out receiving message from renderer: -0.010\n  (Session info: chrome=106.0.5249.103)\nStacktrace:\nBacktrace:\n\tOrdinal0 [0x0044DF13+2219795]\n\tOrdinal0 [0x003E2841+1779777]\n\tOrdinal0 [0x002F423D+803389]\n\tOrdinal0 [0x002E7163+749923]\n\tOrdinal0 [0x002E5F94+745364]\n\tOrdinal0 [0x002E6528+746792]\n\tOrdinal0 [0x002EF42F+783407]\n\tOrdinal0 [0x002FA695+829077]\n\tOrdinal0 [0x002FDA60+842336]\n\tOrdinal0 [0x002E67F6+747510]\n\tOrdinal0 [0x002FA4A9+828585]\n\tOrdinal0 [0x0034F0BA+1175738]\n\tOrdinal0 [0x0033E616+1107478]\n\tOrdinal0 [0x00317F89+950153]\n\tOrdinal0 [0x00318F56+954198]\n\tGetHandleVerifier [0x00742CB2+3040210]\n\tGetHandleVerifier [0x00732BB4+2974420]\n\tGetHandleVerifier [0x004E6A0A+565546]\n\tGetHandleVerifier [0x004E5680+560544]\n\tOrdinal0 [0x003E9A5C+1808988]\n\tOrdinal0 [0x003EE3A8+1827752]\n\tOrdinal0 [0x003EE495+1827989]\n\tOrdinal0 [0x003F80A4+1867940]\n\tBaseThreadInitThunk [0x75E2FA29+25]\n\tRtlGetAppContainerNamedObjectPath [0x77567BBE+286]\n\tRtlGetAppContainerNamedObjectPath [0x77567B8E+238]\n",
     "output_type": "error",
     "traceback": [
      "\u001b[1;31m---------------------------------------------------------------------------\u001b[0m",
      "\u001b[1;31mTimeoutException\u001b[0m                          Traceback (most recent call last)",
      "\u001b[1;32mc:\\Users\\Ravit\\Documents\\rnd\\horizon_scanning_lab\\Scrapers\\Quora_RCS\\answers_and_info\\bert_outcome_analysis\\quora_scrape_urls_with_bertopic_sentences.ipynb Cell 12\u001b[0m in \u001b[0;36m<cell line: 1>\u001b[1;34m()\u001b[0m\n\u001b[1;32m----> <a href='vscode-notebook-cell:/c%3A/Users/Ravit/Documents/rnd/horizon_scanning_lab/Scrapers/Quora_RCS/answers_and_info/bert_outcome_analysis/quora_scrape_urls_with_bertopic_sentences.ipynb#X13sZmlsZQ%3D%3D?line=0'>1</a>\u001b[0m res1 \u001b[39m=\u001b[39m Extract_href_urls(all_search_links[:\u001b[39m7\u001b[39;49m])\n",
      "\u001b[1;32mc:\\Users\\Ravit\\Documents\\rnd\\horizon_scanning_lab\\Scrapers\\Quora_RCS\\answers_and_info\\bert_outcome_analysis\\quora_scrape_urls_with_bertopic_sentences.ipynb Cell 12\u001b[0m in \u001b[0;36mExtract_href_urls.__init__\u001b[1;34m(self, links)\u001b[0m\n\u001b[0;32m      <a href='vscode-notebook-cell:/c%3A/Users/Ravit/Documents/rnd/horizon_scanning_lab/Scrapers/Quora_RCS/answers_and_info/bert_outcome_analysis/quora_scrape_urls_with_bertopic_sentences.ipynb#X13sZmlsZQ%3D%3D?line=1'>2</a>\u001b[0m \u001b[39mdef\u001b[39;00m \u001b[39m__init__\u001b[39m(\u001b[39mself\u001b[39m, links):\n\u001b[0;32m      <a href='vscode-notebook-cell:/c%3A/Users/Ravit/Documents/rnd/horizon_scanning_lab/Scrapers/Quora_RCS/answers_and_info/bert_outcome_analysis/quora_scrape_urls_with_bertopic_sentences.ipynb#X13sZmlsZQ%3D%3D?line=2'>3</a>\u001b[0m     \u001b[39mself\u001b[39m\u001b[39m.\u001b[39mlinks \u001b[39m=\u001b[39m links\n\u001b[1;32m----> <a href='vscode-notebook-cell:/c%3A/Users/Ravit/Documents/rnd/horizon_scanning_lab/Scrapers/Quora_RCS/answers_and_info/bert_outcome_analysis/quora_scrape_urls_with_bertopic_sentences.ipynb#X13sZmlsZQ%3D%3D?line=3'>4</a>\u001b[0m     \u001b[39mself\u001b[39;49m\u001b[39m.\u001b[39;49mget_question_links()\n\u001b[0;32m      <a href='vscode-notebook-cell:/c%3A/Users/Ravit/Documents/rnd/horizon_scanning_lab/Scrapers/Quora_RCS/answers_and_info/bert_outcome_analysis/quora_scrape_urls_with_bertopic_sentences.ipynb#X13sZmlsZQ%3D%3D?line=4'>5</a>\u001b[0m     \u001b[39mself\u001b[39m\u001b[39m.\u001b[39mall_hrefs \u001b[39m=\u001b[39m []\n\u001b[0;32m      <a href='vscode-notebook-cell:/c%3A/Users/Ravit/Documents/rnd/horizon_scanning_lab/Scrapers/Quora_RCS/answers_and_info/bert_outcome_analysis/quora_scrape_urls_with_bertopic_sentences.ipynb#X13sZmlsZQ%3D%3D?line=6'>7</a>\u001b[0m     \u001b[39mself\u001b[39m\u001b[39m.\u001b[39mflag \u001b[39m=\u001b[39m \u001b[39mFalse\u001b[39;00m\n",
      "\u001b[1;32mc:\\Users\\Ravit\\Documents\\rnd\\horizon_scanning_lab\\Scrapers\\Quora_RCS\\answers_and_info\\bert_outcome_analysis\\quora_scrape_urls_with_bertopic_sentences.ipynb Cell 12\u001b[0m in \u001b[0;36mExtract_href_urls.get_question_links\u001b[1;34m(self)\u001b[0m\n\u001b[0;32m     <a href='vscode-notebook-cell:/c%3A/Users/Ravit/Documents/rnd/horizon_scanning_lab/Scrapers/Quora_RCS/answers_and_info/bert_outcome_analysis/quora_scrape_urls_with_bertopic_sentences.ipynb#X13sZmlsZQ%3D%3D?line=11'>12</a>\u001b[0m \u001b[39mself\u001b[39m\u001b[39m.\u001b[39mall_box_links \u001b[39m=\u001b[39m []\n\u001b[0;32m     <a href='vscode-notebook-cell:/c%3A/Users/Ravit/Documents/rnd/horizon_scanning_lab/Scrapers/Quora_RCS/answers_and_info/bert_outcome_analysis/quora_scrape_urls_with_bertopic_sentences.ipynb#X13sZmlsZQ%3D%3D?line=12'>13</a>\u001b[0m \u001b[39mfor\u001b[39;00m link \u001b[39min\u001b[39;00m \u001b[39mself\u001b[39m\u001b[39m.\u001b[39mlinks:\n\u001b[1;32m---> <a href='vscode-notebook-cell:/c%3A/Users/Ravit/Documents/rnd/horizon_scanning_lab/Scrapers/Quora_RCS/answers_and_info/bert_outcome_analysis/quora_scrape_urls_with_bertopic_sentences.ipynb#X13sZmlsZQ%3D%3D?line=13'>14</a>\u001b[0m     url_html \u001b[39m=\u001b[39m get_html_from_url(link)\n\u001b[0;32m     <a href='vscode-notebook-cell:/c%3A/Users/Ravit/Documents/rnd/horizon_scanning_lab/Scrapers/Quora_RCS/answers_and_info/bert_outcome_analysis/quora_scrape_urls_with_bertopic_sentences.ipynb#X13sZmlsZQ%3D%3D?line=14'>15</a>\u001b[0m     \u001b[39mself\u001b[39m\u001b[39m.\u001b[39msoup \u001b[39m=\u001b[39m BeautifulSoup(url_html)\n\u001b[0;32m     <a href='vscode-notebook-cell:/c%3A/Users/Ravit/Documents/rnd/horizon_scanning_lab/Scrapers/Quora_RCS/answers_and_info/bert_outcome_analysis/quora_scrape_urls_with_bertopic_sentences.ipynb#X13sZmlsZQ%3D%3D?line=15'>16</a>\u001b[0m     \u001b[39m#find all boxes of groups\u001b[39;00m\n",
      "\u001b[1;32mc:\\Users\\Ravit\\Documents\\rnd\\horizon_scanning_lab\\Scrapers\\Quora_RCS\\answers_and_info\\bert_outcome_analysis\\quora_scrape_urls_with_bertopic_sentences.ipynb Cell 12\u001b[0m in \u001b[0;36mget_html_from_url\u001b[1;34m(url)\u001b[0m\n\u001b[0;32m      <a href='vscode-notebook-cell:/c%3A/Users/Ravit/Documents/rnd/horizon_scanning_lab/Scrapers/Quora_RCS/answers_and_info/bert_outcome_analysis/quora_scrape_urls_with_bertopic_sentences.ipynb#X13sZmlsZQ%3D%3D?line=1'>2</a>\u001b[0m browser \u001b[39m=\u001b[39m webdriver\u001b[39m.\u001b[39mChrome(\u001b[39m'\u001b[39m\u001b[39mC:\u001b[39m\u001b[39m\\\u001b[39m\u001b[39mProgram Files\u001b[39m\u001b[39m\\\u001b[39m\u001b[39mchromedriver_win32 (1)\u001b[39m\u001b[39m\\\u001b[39m\u001b[39mchromedriver\u001b[39m\u001b[39m'\u001b[39m) \n\u001b[0;32m      <a href='vscode-notebook-cell:/c%3A/Users/Ravit/Documents/rnd/horizon_scanning_lab/Scrapers/Quora_RCS/answers_and_info/bert_outcome_analysis/quora_scrape_urls_with_bertopic_sentences.ipynb#X13sZmlsZQ%3D%3D?line=2'>3</a>\u001b[0m browser\u001b[39m.\u001b[39mset_page_load_timeout(\u001b[39m30\u001b[39m) \n\u001b[1;32m----> <a href='vscode-notebook-cell:/c%3A/Users/Ravit/Documents/rnd/horizon_scanning_lab/Scrapers/Quora_RCS/answers_and_info/bert_outcome_analysis/quora_scrape_urls_with_bertopic_sentences.ipynb#X13sZmlsZQ%3D%3D?line=3'>4</a>\u001b[0m browser\u001b[39m.\u001b[39;49mget(url)\n\u001b[0;32m      <a href='vscode-notebook-cell:/c%3A/Users/Ravit/Documents/rnd/horizon_scanning_lab/Scrapers/Quora_RCS/answers_and_info/bert_outcome_analysis/quora_scrape_urls_with_bertopic_sentences.ipynb#X13sZmlsZQ%3D%3D?line=5'>6</a>\u001b[0m last_height \u001b[39m=\u001b[39m browser\u001b[39m.\u001b[39mexecute_script(\u001b[39m'\u001b[39m\u001b[39mreturn document.body.scrollHeight\u001b[39m\u001b[39m'\u001b[39m)\n\u001b[0;32m      <a href='vscode-notebook-cell:/c%3A/Users/Ravit/Documents/rnd/horizon_scanning_lab/Scrapers/Quora_RCS/answers_and_info/bert_outcome_analysis/quora_scrape_urls_with_bertopic_sentences.ipynb#X13sZmlsZQ%3D%3D?line=7'>8</a>\u001b[0m flag\u001b[39m=\u001b[39m\u001b[39m1\u001b[39m\n",
      "File \u001b[1;32mc:\\ProgramData\\Anaconda3\\lib\\site-packages\\selenium\\webdriver\\remote\\webdriver.py:440\u001b[0m, in \u001b[0;36mWebDriver.get\u001b[1;34m(self, url)\u001b[0m\n\u001b[0;32m    436\u001b[0m \u001b[39mdef\u001b[39;00m \u001b[39mget\u001b[39m(\u001b[39mself\u001b[39m, url: \u001b[39mstr\u001b[39m) \u001b[39m-\u001b[39m\u001b[39m>\u001b[39m \u001b[39mNone\u001b[39;00m:\n\u001b[0;32m    437\u001b[0m     \u001b[39m\"\"\"\u001b[39;00m\n\u001b[0;32m    438\u001b[0m \u001b[39m    Loads a web page in the current browser session.\u001b[39;00m\n\u001b[0;32m    439\u001b[0m \u001b[39m    \"\"\"\u001b[39;00m\n\u001b[1;32m--> 440\u001b[0m     \u001b[39mself\u001b[39;49m\u001b[39m.\u001b[39;49mexecute(Command\u001b[39m.\u001b[39;49mGET, {\u001b[39m'\u001b[39;49m\u001b[39murl\u001b[39;49m\u001b[39m'\u001b[39;49m: url})\n",
      "File \u001b[1;32mc:\\ProgramData\\Anaconda3\\lib\\site-packages\\selenium\\webdriver\\remote\\webdriver.py:428\u001b[0m, in \u001b[0;36mWebDriver.execute\u001b[1;34m(self, driver_command, params)\u001b[0m\n\u001b[0;32m    426\u001b[0m response \u001b[39m=\u001b[39m \u001b[39mself\u001b[39m\u001b[39m.\u001b[39mcommand_executor\u001b[39m.\u001b[39mexecute(driver_command, params)\n\u001b[0;32m    427\u001b[0m \u001b[39mif\u001b[39;00m response:\n\u001b[1;32m--> 428\u001b[0m     \u001b[39mself\u001b[39;49m\u001b[39m.\u001b[39;49merror_handler\u001b[39m.\u001b[39;49mcheck_response(response)\n\u001b[0;32m    429\u001b[0m     response[\u001b[39m'\u001b[39m\u001b[39mvalue\u001b[39m\u001b[39m'\u001b[39m] \u001b[39m=\u001b[39m \u001b[39mself\u001b[39m\u001b[39m.\u001b[39m_unwrap_value(\n\u001b[0;32m    430\u001b[0m         response\u001b[39m.\u001b[39mget(\u001b[39m'\u001b[39m\u001b[39mvalue\u001b[39m\u001b[39m'\u001b[39m, \u001b[39mNone\u001b[39;00m))\n\u001b[0;32m    431\u001b[0m     \u001b[39mreturn\u001b[39;00m response\n",
      "File \u001b[1;32mc:\\ProgramData\\Anaconda3\\lib\\site-packages\\selenium\\webdriver\\remote\\errorhandler.py:243\u001b[0m, in \u001b[0;36mErrorHandler.check_response\u001b[1;34m(self, response)\u001b[0m\n\u001b[0;32m    241\u001b[0m         alert_text \u001b[39m=\u001b[39m value[\u001b[39m'\u001b[39m\u001b[39malert\u001b[39m\u001b[39m'\u001b[39m]\u001b[39m.\u001b[39mget(\u001b[39m'\u001b[39m\u001b[39mtext\u001b[39m\u001b[39m'\u001b[39m)\n\u001b[0;32m    242\u001b[0m     \u001b[39mraise\u001b[39;00m exception_class(message, screen, stacktrace, alert_text)  \u001b[39m# type: ignore[call-arg]  # mypy is not smart enough here\u001b[39;00m\n\u001b[1;32m--> 243\u001b[0m \u001b[39mraise\u001b[39;00m exception_class(message, screen, stacktrace)\n",
      "\u001b[1;31mTimeoutException\u001b[0m: Message: timeout: Timed out receiving message from renderer: -0.010\n  (Session info: chrome=106.0.5249.103)\nStacktrace:\nBacktrace:\n\tOrdinal0 [0x0044DF13+2219795]\n\tOrdinal0 [0x003E2841+1779777]\n\tOrdinal0 [0x002F423D+803389]\n\tOrdinal0 [0x002E7163+749923]\n\tOrdinal0 [0x002E5F94+745364]\n\tOrdinal0 [0x002E6528+746792]\n\tOrdinal0 [0x002EF42F+783407]\n\tOrdinal0 [0x002FA695+829077]\n\tOrdinal0 [0x002FDA60+842336]\n\tOrdinal0 [0x002E67F6+747510]\n\tOrdinal0 [0x002FA4A9+828585]\n\tOrdinal0 [0x0034F0BA+1175738]\n\tOrdinal0 [0x0033E616+1107478]\n\tOrdinal0 [0x00317F89+950153]\n\tOrdinal0 [0x00318F56+954198]\n\tGetHandleVerifier [0x00742CB2+3040210]\n\tGetHandleVerifier [0x00732BB4+2974420]\n\tGetHandleVerifier [0x004E6A0A+565546]\n\tGetHandleVerifier [0x004E5680+560544]\n\tOrdinal0 [0x003E9A5C+1808988]\n\tOrdinal0 [0x003EE3A8+1827752]\n\tOrdinal0 [0x003EE495+1827989]\n\tOrdinal0 [0x003F80A4+1867940]\n\tBaseThreadInitThunk [0x75E2FA29+25]\n\tRtlGetAppContainerNamedObjectPath [0x77567BBE+286]\n\tRtlGetAppContainerNamedObjectPath [0x77567B8E+238]\n"
     ]
    }
   ],
   "source": [
    "res1 = Extract_href_urls(all_search_links[:7])"
   ]
  },
  {
   "cell_type": "code",
   "execution_count": 54,
   "metadata": {},
   "outputs": [
    {
     "data": {
      "text/plain": [
       "[]"
      ]
     },
     "execution_count": 54,
     "metadata": {},
     "output_type": "execute_result"
    }
   ],
   "source": [
    "res1.all_hrefs"
   ]
  },
  {
   "cell_type": "code",
   "execution_count": 53,
   "metadata": {},
   "outputs": [
    {
     "ename": "ValueError",
     "evalue": "DataFrame constructor not properly called!",
     "output_type": "error",
     "traceback": [
      "\u001b[1;31m---------------------------------------------------------------------------\u001b[0m",
      "\u001b[1;31mValueError\u001b[0m                                Traceback (most recent call last)",
      "\u001b[1;32mc:\\Users\\Ravit\\Documents\\rnd\\horizon_scanning_lab\\Scrapers\\Quora_RCS\\answers_and_info\\bert_outcome_analysis\\quora_scrape_urls_with_bertopic_sentences.ipynb Cell 15\u001b[0m in \u001b[0;36m<cell line: 1>\u001b[1;34m()\u001b[0m\n\u001b[1;32m----> <a href='vscode-notebook-cell:/c%3A/Users/Ravit/Documents/rnd/horizon_scanning_lab/Scrapers/Quora_RCS/answers_and_info/bert_outcome_analysis/quora_scrape_urls_with_bertopic_sentences.ipynb#X51sZmlsZQ%3D%3D?line=0'>1</a>\u001b[0m df_res1 \u001b[39m=\u001b[39m pd\u001b[39m.\u001b[39;49mDataFrame(res1)\n\u001b[0;32m      <a href='vscode-notebook-cell:/c%3A/Users/Ravit/Documents/rnd/horizon_scanning_lab/Scrapers/Quora_RCS/answers_and_info/bert_outcome_analysis/quora_scrape_urls_with_bertopic_sentences.ipynb#X51sZmlsZQ%3D%3D?line=1'>2</a>\u001b[0m df_res1\u001b[39m.\u001b[39mto_csv(\u001b[39m'\u001b[39m\u001b[39murls_extracted_with_bertopic_words_part1.csv\u001b[39m\u001b[39m'\u001b[39m, index\u001b[39m=\u001b[39m\u001b[39mFalse\u001b[39;00m)\n",
      "File \u001b[1;32mc:\\ProgramData\\Anaconda3\\lib\\site-packages\\pandas\\core\\frame.py:756\u001b[0m, in \u001b[0;36mDataFrame.__init__\u001b[1;34m(self, data, index, columns, dtype, copy)\u001b[0m\n\u001b[0;32m    753\u001b[0m \u001b[39m# For data is scalar\u001b[39;00m\n\u001b[0;32m    754\u001b[0m \u001b[39melse\u001b[39;00m:\n\u001b[0;32m    755\u001b[0m     \u001b[39mif\u001b[39;00m index \u001b[39mis\u001b[39;00m \u001b[39mNone\u001b[39;00m \u001b[39mor\u001b[39;00m columns \u001b[39mis\u001b[39;00m \u001b[39mNone\u001b[39;00m:\n\u001b[1;32m--> 756\u001b[0m         \u001b[39mraise\u001b[39;00m \u001b[39mValueError\u001b[39;00m(\u001b[39m\"\u001b[39m\u001b[39mDataFrame constructor not properly called!\u001b[39m\u001b[39m\"\u001b[39m)\n\u001b[0;32m    758\u001b[0m     \u001b[39m# Argument 1 to \"ensure_index\" has incompatible type \"Collection[Any]\";\u001b[39;00m\n\u001b[0;32m    759\u001b[0m     \u001b[39m# expected \"Union[Union[Union[ExtensionArray, ndarray],\u001b[39;00m\n\u001b[0;32m    760\u001b[0m     \u001b[39m# Index, Series], Sequence[Any]]\"\u001b[39;00m\n\u001b[0;32m    761\u001b[0m     index \u001b[39m=\u001b[39m ensure_index(index)  \u001b[39m# type: ignore[arg-type]\u001b[39;00m\n",
      "\u001b[1;31mValueError\u001b[0m: DataFrame constructor not properly called!"
     ]
    }
   ],
   "source": [
    "df_res1 = pd.DataFrame(res1)\n",
    "df_res1.to_csv('urls_extracted_with_bertopic_words_part1.csv', index=False)"
   ]
  },
  {
   "cell_type": "markdown",
   "metadata": {},
   "source": []
  },
  {
   "cell_type": "code",
   "execution_count": null,
   "metadata": {},
   "outputs": [],
   "source": [
    "res2 = Extract_href_urls(all_search_links[7:15])\n"
   ]
  },
  {
   "cell_type": "code",
   "execution_count": null,
   "metadata": {},
   "outputs": [],
   "source": [
    "df_res2 = pd.DataFrame(res2)\n",
    "df_res2.to_csv('urls_extracted_with_bertopic_words_part2.csv', index=False)"
   ]
  },
  {
   "cell_type": "code",
   "execution_count": null,
   "metadata": {},
   "outputs": [],
   "source": [
    "res3 = Extract_href_urls(all_search_links[15:])"
   ]
  },
  {
   "cell_type": "code",
   "execution_count": null,
   "metadata": {},
   "outputs": [],
   "source": [
    "df_res3 = pd.DataFrame(res3)\n",
    "df_res3.to_csv('urls_extracted_with_bertopic_words_part3.csv', index=False)"
   ]
  },
  {
   "cell_type": "markdown",
   "metadata": {},
   "source": []
  }
 ],
 "metadata": {
  "kernelspec": {
   "display_name": "Python 3.9.12 ('base')",
   "language": "python",
   "name": "python3"
  },
  "language_info": {
   "codemirror_mode": {
    "name": "ipython",
    "version": 3
   },
   "file_extension": ".py",
   "mimetype": "text/x-python",
   "name": "python",
   "nbconvert_exporter": "python",
   "pygments_lexer": "ipython3",
   "version": "3.9.12"
  },
  "orig_nbformat": 4,
  "vscode": {
   "interpreter": {
    "hash": "ad2bdc8ecc057115af97d19610ffacc2b4e99fae6737bb82f5d7fb13d2f2c186"
   }
  }
 },
 "nbformat": 4,
 "nbformat_minor": 2
}
