{
 "cells": [
  {
   "cell_type": "code",
   "execution_count": 25,
   "metadata": {},
   "outputs": [],
   "source": [
    "#read questions and urls related to EMERGING TECHNOLOGIES topic from Quora. The scrapping was done with parsehub program\n",
    "import json\n",
    "\n",
    "# Opening JSON file\n",
    "f = open(r'C:\\Users\\Ravit\\Documents\\horizon_scanning_lab\\Scrapers\\Quora_RCS\\ET_RCS_11DEP22_quora_emerging_tech_ques_url_parsehub.json')\n",
    "  \n",
    "# returns JSON object as \n",
    "# a dictionary\n",
    "data = json.load(f)\n",
    "    \n",
    "# Closing file\n",
    "f.close()"
   ]
  },
  {
   "cell_type": "code",
   "execution_count": 29,
   "metadata": {},
   "outputs": [
    {
     "data": {
      "text/plain": [
       "10"
      ]
     },
     "execution_count": 29,
     "metadata": {},
     "output_type": "execute_result"
    }
   ],
   "source": [
    "len(data['questions'])"
   ]
  },
  {
   "cell_type": "code",
   "execution_count": 32,
   "metadata": {},
   "outputs": [],
   "source": [
    "#create index file of urls complemetary to the files in answers and info dir\n",
    "\n",
    "import os \n",
    "import pandas as pd\n",
    "\n",
    "save_path = r\"C:\\Users\\Ravit\\Documents\\horizon_scanning_lab\\Scrapers\\Quora_RCS\\answers_and_info\"\n",
    "save_path = os.path.join(save_path, \"quet_indexes.csv\")\n",
    "\n",
    "df  = pd.DataFrame(data['questions'])\n",
    "\n",
    "df.to_csv(save_path)\n"
   ]
  },
  {
   "cell_type": "code",
   "execution_count": null,
   "metadata": {},
   "outputs": [],
   "source": []
  }
 ],
 "metadata": {
  "kernelspec": {
   "display_name": "Python 3.9.12 ('base')",
   "language": "python",
   "name": "python3"
  },
  "language_info": {
   "codemirror_mode": {
    "name": "ipython",
    "version": 3
   },
   "file_extension": ".py",
   "mimetype": "text/x-python",
   "name": "python",
   "nbconvert_exporter": "python",
   "pygments_lexer": "ipython3",
   "version": "3.9.12"
  },
  "orig_nbformat": 4,
  "vscode": {
   "interpreter": {
    "hash": "ad2bdc8ecc057115af97d19610ffacc2b4e99fae6737bb82f5d7fb13d2f2c186"
   }
  }
 },
 "nbformat": 4,
 "nbformat_minor": 2
}
