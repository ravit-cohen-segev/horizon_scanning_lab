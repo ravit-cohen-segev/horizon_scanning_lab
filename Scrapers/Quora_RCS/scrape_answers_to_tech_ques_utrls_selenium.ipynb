{
 "cells": [
  {
   "cell_type": "code",
   "execution_count": 1,
   "metadata": {},
   "outputs": [],
   "source": [
    "from bs4 import BeautifulSoup\n",
    "import pandas as pd\n",
    "import numpy as np\n",
    "import time\n",
    "import ssl\n",
    "import os\n",
    "import re\n",
    "\n",
    "from selenium import webdriver\n",
    "from selenium.webdriver.support.ui import WebDriverWait\n",
    "from selenium.webdriver.common.by import By\n",
    "from selenium.webdriver.support.ui import Select"
   ]
  },
  {
   "cell_type": "code",
   "execution_count": 2,
   "metadata": {},
   "outputs": [],
   "source": [
    "#For ignoring SSL ceritficate errors\n",
    "ctx = ssl.create_default_context()\n",
    "ctx.check_hostname = False\n",
    "ctx.verify_mode = ssl.CERT_NONE"
   ]
  },
  {
   "cell_type": "code",
   "execution_count": 3,
   "metadata": {},
   "outputs": [],
   "source": [
    "class infine_scroll(object): \n",
    "  def __init__(self, last):\n",
    "    self.last = last\n",
    "\n",
    "  def __call__(self, driver):\n",
    "    new = driver.execute_script('return document.body.scrollHeight')  \n",
    "    if new > self.last:\n",
    "        return new\n",
    "    else:\n",
    "        return False"
   ]
  },
  {
   "cell_type": "code",
   "execution_count": 4,
   "metadata": {},
   "outputs": [],
   "source": [
    "\n",
    "\n",
    "def get_html_from_url(url):\n",
    "  browser = webdriver.Chrome('C:\\Program Files\\chromedriver_win32 (1)\\chromedriver') \n",
    "  browser.set_page_load_timeout(30) \n",
    "  browser.get(url)\n",
    "   \n",
    "  last_height = browser.execute_script('return document.body.scrollHeight')\n",
    "\n",
    "  flag=1\n",
    "\n",
    "  while flag==1:\n",
    "    \n",
    "    try:\n",
    "       browser.execute_script('window.scrollTo(0,document.body.scrollHeight)')\n",
    "       wait = WebDriverWait(browser, 10)\n",
    "\n",
    "       new_height = wait.until(infine_scroll(last_height))\n",
    "       last_height = new_height\n",
    "\n",
    "    except:\n",
    "        print(\"End of page reached\")\n",
    "        flag = 0\n",
    "  html = browser.page_source\n",
    "  return html"
   ]
  },
  {
   "cell_type": "code",
   "execution_count": 5,
   "metadata": {},
   "outputs": [],
   "source": [
    "#helper function get first number in string\n",
    "\n",
    "def str_first_num(s):\n",
    "    first_num = ''\n",
    "    flag_digit=False\n",
    "    for el in s: \n",
    "        if el.isdigit():\n",
    "            first_num += el\n",
    "            flag_digit = True\n",
    "        else:\n",
    "            if flag_digit:\n",
    "                break\n",
    "    #If there are no upvotes replace '' with 0\n",
    "    if first_num == '':\n",
    "        first_num = 0\n",
    "    return first_num\n",
    "    "
   ]
  },
  {
   "cell_type": "code",
   "execution_count": 6,
   "metadata": {},
   "outputs": [],
   "source": [
    "def unpack_list(li):\n",
    "    unpacked_list = []\n",
    "    for el in li:\n",
    "        if isinstance(el, list):\n",
    "            unpacked_list.extend([*el])\n",
    "        elif isinstance(el, str):\n",
    "            unpacked_list.extend([el])\n",
    "    return unpacked_list\n"
   ]
  },
  {
   "cell_type": "code",
   "execution_count": 7,
   "metadata": {},
   "outputs": [],
   "source": [
    "# a helper function that removes unwanted words/sections like url links\n",
    "def strip_rgx_words(inp, regex_ = ['image','url']):\n",
    "    #remove urls or images\n",
    "    rgx_word = None\n",
    "    for rgx in regex_:\n",
    "      if rgx in inp:\n",
    "          rgx_word = rgx\n",
    "          break\n",
    "    if rgx_word is not None:\n",
    "      out = inp.split(rgx_word)[0]\n",
    "    else:\n",
    "      out =inp\n",
    "    return out"
   ]
  },
  {
   "cell_type": "code",
   "execution_count": 8,
   "metadata": {},
   "outputs": [],
   "source": [
    "#read question urls from csv file\n",
    "src_path = r\"C:\\Users\\Ravit\\Documents\\rnd\\horizon_scanning_lab\\Scrapers\\Quora_RCS\\answers_and_info\\bert_outcome_analysis\\second_iteration\\links_for_second_quora_scrap.csv\"\n",
    "df = pd.read_csv(src_path)"
   ]
  },
  {
   "cell_type": "code",
   "execution_count": 9,
   "metadata": {},
   "outputs": [],
   "source": [
    "#get list of urls\n",
    "url_list = list(df['0'].values)"
   ]
  },
  {
   "cell_type": "code",
   "execution_count": 10,
   "metadata": {},
   "outputs": [
    {
     "data": {
      "text/plain": [
       "2467"
      ]
     },
     "execution_count": 10,
     "metadata": {},
     "output_type": "execute_result"
    }
   ],
   "source": [
    "len(url_list)\n"
   ]
  },
  {
   "cell_type": "code",
   "execution_count": 11,
   "metadata": {},
   "outputs": [],
   "source": [
    "#remove duplicate url\n",
    "new_url_list = []\n",
    "for url in url_list:\n",
    "    if url not in new_url_list:\n",
    "        new_url_list.append(url)"
   ]
  },
  {
   "cell_type": "code",
   "execution_count": 12,
   "metadata": {},
   "outputs": [
    {
     "data": {
      "text/plain": [
       "1582"
      ]
     },
     "execution_count": 12,
     "metadata": {},
     "output_type": "execute_result"
    }
   ],
   "source": [
    "len(new_url_list)"
   ]
  },
  {
   "cell_type": "code",
   "execution_count": 13,
   "metadata": {},
   "outputs": [],
   "source": [
    "url_list = new_url_list"
   ]
  },
  {
   "cell_type": "code",
   "execution_count": 14,
   "metadata": {},
   "outputs": [],
   "source": [
    "#for removing rows with low upvotes\n",
    "def row_index_with_low_upvotes(l):\n",
    "    to_remove = []\n",
    "    for i,element in enumerate(l):\n",
    "        if 'K' in element or 'M' in element:\n",
    "            continue\n",
    "        else:\n",
    "            if int(element)<500:\n",
    "                to_remove.append(i)\n",
    "    return to_remove\n",
    "\n",
    "#get followers count based on names\n",
    "def get_person_followers_count(names):\n",
    "    followers_count = []\n",
    "    for name in names:\n",
    "        name = name.replace(' ', '-')\n",
    "        url_name = 'https://www.quora.com/profile/' + name\n",
    "        browser = webdriver.Chrome('C:\\Program Files\\chromedriver_win32 (1)\\chromedriver') \n",
    "        browser.set_page_load_timeout(30) \n",
    "        browser.get(url_name)\n",
    "        name_html = browser.page_source\n",
    "        name_soup = BeautifulSoup(name_html)\n",
    "        name_followers = name_soup.find('div', {'class':\"q-text qu-dynamicFontSize--small qu-color--gray\"})\n",
    "        try:\n",
    "            name_followers = name_followers.find_next(text=True).strip()\n",
    "        except:\n",
    "            name_followers = 'UNKNOWN'\n",
    "        followers_count.append(name_followers)\n",
    "    return followers_count\n",
    "    \n",
    "def fill_list_counts(all_inf):\n",
    "    answers_upvotes = []\n",
    "    for j in all_inf:\n",
    "        if j != []:\n",
    "            upvote = j[0].find('span', {'class':'q-text qu-whiteSpace--nowrap qu-display--inline-flex qu-alignItems--center qu-justifyContent--center'}).find_next(text=True).strip()\n",
    "        else:\n",
    "            upvote = '0'\n",
    "        answers_upvotes.append(upvote)\n",
    "    return answers_upvotes\n",
    "                \n",
    "\n",
    "def fill_list_str(inf):\n",
    "    answers_upvotes = []\n",
    "    for ans_inf in inf:\n",
    "        if ans_inf[0] == []:\n",
    "           val = 'UNKNOWN'\n",
    "        else:\n",
    "            val = ans_inf[0].find_next(text=True).strip()\n",
    "        answers_upvotes.append(val)\n",
    "    return answers_upvotes\n",
    "\n",
    "\n",
    "def answers_into_df(url):\n",
    "    '''input: url for scrapping answers to a particular question.\n",
    "        out: df with answers for each url/question'''\n",
    "    #request url html\n",
    "    \n",
    "    #create soup object with htmal parser\n",
    "    page_html = get_html_from_url(url)\n",
    "    soup = BeautifulSoup(page_html)\n",
    "\n",
    "    boxes = soup.find_all('div', {'class':\"q-box qu-hover--bg--darken\"})\n",
    "  \n",
    "    answers = [box.find_all('p', {'class':\"q-text qu-display--block qu-wordBreak--break-word qu-textAlign--start\"}) for box in boxes]\n",
    "    answers_text = []\n",
    "    for ans in answers:\n",
    "        #if there are more than one element in list unpack all into one list         \n",
    "        if len(ans) > 1:\n",
    "            ans_text_list = [a.find_next(text=True).strip() for a in ans] \n",
    "            ans_text_whole = ''.join(ans_text_list)\n",
    "        elif isinstance(ans, list):\n",
    "            if ans == []:\n",
    "                ans_text_whole = 'UNKNOWN'\n",
    "                continue\n",
    "            try:\n",
    "                ans_text_whole = ans[0].find_next(text=True).strip()\n",
    "            except:\n",
    "                ans_text_whole = ans[0]\n",
    "        else:\n",
    "            ans_text_whole = ans\n",
    "        answers_text.append(ans_text_whole)\n",
    " \n",
    "    #get a list of answer author upvotes and shares\n",
    "    #answers_info = [box.find_all('button', {'role':'button'}) for box in boxes]\n",
    "    answers_upvotes_info = [box.find_all('div', {\n",
    "        'class':'q-text qu-overflow--hidden qu-display--inline-flex qu-ml--tiny qu-minHeight--20 qu-color--gray qu-minWidth--20'\n",
    "        }) for box in boxes]\n",
    "     \n",
    "    #answers upvotes:\n",
    "    answers_upvotes = fill_list_counts(answers_upvotes_info)\n",
    "    \n",
    "    #keep only boxes with high upvotes \n",
    "    idx_low_upvotes = row_index_with_low_upvotes(answers_upvotes)\n",
    "    boxes = [box for i,box in enumerate(boxes) if i not in idx_low_upvotes]\n",
    "    if boxes == []:\n",
    "        return None\n",
    "\n",
    "    answers_upvotes = [upvote for i,upvote in enumerate(answers_upvotes) if i not in idx_low_upvotes]\n",
    "\n",
    "    names_info = [box.find_all('div', {'class':'q-inlineFlex qu-alignItems--center qu-wordBreak--break-word'}) for box in boxes]\n",
    "    answers_name = fill_list_str(names_info)\n",
    "    \n",
    "    names_follower_counts = get_person_followers_count(answers_name)\n",
    "      \n",
    "    author_counts = [box.find_all('span', {'class':\"q-text qu-bold\"}) for box in boxes]\n",
    "\n",
    "    author_answers_count = []\n",
    "    answer_views = []\n",
    "        \n",
    "    for i, aut_co in enumerate(author_counts):\n",
    "        try:\n",
    "            ans_co = aut_co[0].find_next(text=True).strip()\n",
    "            ans_view = aut_co[1].find_next(text=True).strip()\n",
    "        except:\n",
    "            ans_co = 0\n",
    "            ans_view = 0\n",
    "        author_answers_count.append(ans_co)\n",
    "        answer_views.append(ans_view)\n",
    "    #if no answers than continue\n",
    "    columns = [\"Answer\",  \"name\", \"followerCount\", \"upvoteCount\", \"answerCount\", \"answerViews\"]\n",
    "\n",
    "    #create df with nans to fill it later with values\n",
    "    \n",
    "    x_shape = (len(boxes), len(columns))\n",
    "    x = np.tile(np.nan, x_shape)\n",
    "\n",
    "   \n",
    "    answers_df = pd.DataFrame(x, columns = columns)\n",
    "    if answers_text == []:\n",
    "        return None\n",
    "    answers_df['Answer'] = pd.DataFrame(answers_text)   \n",
    "    answers_df['name'] = pd.DataFrame(answers_name)\n",
    "    answers_df['followerCount'] = pd.DataFrame(names_follower_counts)\n",
    "    answers_df['upvoteCount'] = pd.DataFrame(answers_upvotes)\n",
    "    answers_df['answerCount'] = pd.DataFrame(author_answers_count)\n",
    "    answers_df['answerViews'] = pd.DataFrame(answer_views)\n",
    "\n",
    "    return answers_df "
   ]
  },
  {
   "cell_type": "code",
   "execution_count": 15,
   "metadata": {},
   "outputs": [],
   "source": [
    "#show one example\n",
    "#answers_into_df(new_url_list[3])"
   ]
  },
  {
   "cell_type": "code",
   "execution_count": 16,
   "metadata": {},
   "outputs": [],
   "source": [
    "save_path = r\"C:\\Users\\Ravit\\Documents\\rnd\\horizon_scanning_lab\\Scrapers\\Quora_RCS\\answers_and_info\\bert_outcome_analysis\\second_iteration\"\n",
    "\n",
    "def save_df(df, q, i):\n",
    "    questions = unpack_list(q)\n",
    "    df['question'] = pd.DataFrame(questions)\n",
    "    df.reset_index(inplace=True)\n",
    "    df.set_index('index')\n",
    "    df.drop('index', axis=1, inplace=True)\n",
    "    \n",
    "    final_path = os.path.join(save_path, \"ET_RCS_20OCT22_quora_answers_emerging_2nd_iteration_iter\"+str(i)+\".csv\")\n",
    "    df.to_csv(final_path)"
   ]
  },
  {
   "cell_type": "code",
   "execution_count": 17,
   "metadata": {},
   "outputs": [
    {
     "name": "stdout",
     "output_type": "stream",
     "text": [
      "753\n"
     ]
    },
    {
     "name": "stderr",
     "output_type": "stream",
     "text": [
      "C:\\Users\\Ravit\\AppData\\Local\\Temp\\ipykernel_17924\\4126610301.py:2: DeprecationWarning: executable_path has been deprecated, please pass in a Service object\n",
      "  browser = webdriver.Chrome('C:\\Program Files\\chromedriver_win32 (1)\\chromedriver')\n"
     ]
    },
    {
     "name": "stdout",
     "output_type": "stream",
     "text": [
      "End of page reached\n"
     ]
    },
    {
     "name": "stderr",
     "output_type": "stream",
     "text": [
      "C:\\Users\\Ravit\\AppData\\Local\\Temp\\ipykernel_17924\\133922634.py:18: DeprecationWarning: executable_path has been deprecated, please pass in a Service object\n",
      "  browser = webdriver.Chrome('C:\\Program Files\\chromedriver_win32 (1)\\chromedriver')\n",
      "C:\\Users\\Ravit\\AppData\\Local\\Temp\\ipykernel_17924\\1575332992.py:13: FutureWarning: The frame.append method is deprecated and will be removed from pandas in a future version. Use pandas.concat instead.\n",
      "  df = df.append(temp_df)\n",
      "C:\\Users\\Ravit\\AppData\\Local\\Temp\\ipykernel_17924\\4126610301.py:2: DeprecationWarning: executable_path has been deprecated, please pass in a Service object\n",
      "  browser = webdriver.Chrome('C:\\Program Files\\chromedriver_win32 (1)\\chromedriver')\n"
     ]
    },
    {
     "name": "stdout",
     "output_type": "stream",
     "text": [
      "754\n",
      "End of page reached\n"
     ]
    },
    {
     "name": "stderr",
     "output_type": "stream",
     "text": [
      "C:\\Users\\Ravit\\AppData\\Local\\Temp\\ipykernel_17924\\133922634.py:18: DeprecationWarning: executable_path has been deprecated, please pass in a Service object\n",
      "  browser = webdriver.Chrome('C:\\Program Files\\chromedriver_win32 (1)\\chromedriver')\n",
      "C:\\Users\\Ravit\\AppData\\Local\\Temp\\ipykernel_17924\\1575332992.py:13: FutureWarning: The frame.append method is deprecated and will be removed from pandas in a future version. Use pandas.concat instead.\n",
      "  df = df.append(temp_df)\n",
      "C:\\Users\\Ravit\\AppData\\Local\\Temp\\ipykernel_17924\\4126610301.py:2: DeprecationWarning: executable_path has been deprecated, please pass in a Service object\n",
      "  browser = webdriver.Chrome('C:\\Program Files\\chromedriver_win32 (1)\\chromedriver')\n"
     ]
    },
    {
     "name": "stdout",
     "output_type": "stream",
     "text": [
      "755\n",
      "End of page reached\n"
     ]
    },
    {
     "name": "stderr",
     "output_type": "stream",
     "text": [
      "C:\\Users\\Ravit\\AppData\\Local\\Temp\\ipykernel_17924\\133922634.py:18: DeprecationWarning: executable_path has been deprecated, please pass in a Service object\n",
      "  browser = webdriver.Chrome('C:\\Program Files\\chromedriver_win32 (1)\\chromedriver')\n",
      "C:\\Users\\Ravit\\AppData\\Local\\Temp\\ipykernel_17924\\1575332992.py:13: FutureWarning: The frame.append method is deprecated and will be removed from pandas in a future version. Use pandas.concat instead.\n",
      "  df = df.append(temp_df)\n",
      "C:\\Users\\Ravit\\AppData\\Local\\Temp\\ipykernel_17924\\4126610301.py:2: DeprecationWarning: executable_path has been deprecated, please pass in a Service object\n",
      "  browser = webdriver.Chrome('C:\\Program Files\\chromedriver_win32 (1)\\chromedriver')\n"
     ]
    },
    {
     "name": "stdout",
     "output_type": "stream",
     "text": [
      "756\n",
      "End of page reached\n"
     ]
    },
    {
     "name": "stderr",
     "output_type": "stream",
     "text": [
      "C:\\Users\\Ravit\\AppData\\Local\\Temp\\ipykernel_17924\\133922634.py:18: DeprecationWarning: executable_path has been deprecated, please pass in a Service object\n",
      "  browser = webdriver.Chrome('C:\\Program Files\\chromedriver_win32 (1)\\chromedriver')\n",
      "C:\\Users\\Ravit\\AppData\\Local\\Temp\\ipykernel_17924\\1575332992.py:13: FutureWarning: The frame.append method is deprecated and will be removed from pandas in a future version. Use pandas.concat instead.\n",
      "  df = df.append(temp_df)\n",
      "C:\\Users\\Ravit\\AppData\\Local\\Temp\\ipykernel_17924\\4126610301.py:2: DeprecationWarning: executable_path has been deprecated, please pass in a Service object\n",
      "  browser = webdriver.Chrome('C:\\Program Files\\chromedriver_win32 (1)\\chromedriver')\n"
     ]
    },
    {
     "name": "stdout",
     "output_type": "stream",
     "text": [
      "757\n",
      "End of page reached\n"
     ]
    },
    {
     "name": "stderr",
     "output_type": "stream",
     "text": [
      "C:\\Users\\Ravit\\AppData\\Local\\Temp\\ipykernel_17924\\1575332992.py:13: FutureWarning: The frame.append method is deprecated and will be removed from pandas in a future version. Use pandas.concat instead.\n",
      "  df = df.append(temp_df)\n",
      "C:\\Users\\Ravit\\AppData\\Local\\Temp\\ipykernel_17924\\4126610301.py:2: DeprecationWarning: executable_path has been deprecated, please pass in a Service object\n",
      "  browser = webdriver.Chrome('C:\\Program Files\\chromedriver_win32 (1)\\chromedriver')\n"
     ]
    },
    {
     "name": "stdout",
     "output_type": "stream",
     "text": [
      "758\n",
      "End of page reached\n"
     ]
    },
    {
     "name": "stderr",
     "output_type": "stream",
     "text": [
      "C:\\Users\\Ravit\\AppData\\Local\\Temp\\ipykernel_17924\\133922634.py:18: DeprecationWarning: executable_path has been deprecated, please pass in a Service object\n",
      "  browser = webdriver.Chrome('C:\\Program Files\\chromedriver_win32 (1)\\chromedriver')\n",
      "C:\\Users\\Ravit\\AppData\\Local\\Temp\\ipykernel_17924\\1575332992.py:13: FutureWarning: The frame.append method is deprecated and will be removed from pandas in a future version. Use pandas.concat instead.\n",
      "  df = df.append(temp_df)\n",
      "C:\\Users\\Ravit\\AppData\\Local\\Temp\\ipykernel_17924\\4126610301.py:2: DeprecationWarning: executable_path has been deprecated, please pass in a Service object\n",
      "  browser = webdriver.Chrome('C:\\Program Files\\chromedriver_win32 (1)\\chromedriver')\n"
     ]
    },
    {
     "name": "stdout",
     "output_type": "stream",
     "text": [
      "759\n",
      "End of page reached\n"
     ]
    },
    {
     "name": "stderr",
     "output_type": "stream",
     "text": [
      "C:\\Users\\Ravit\\AppData\\Local\\Temp\\ipykernel_17924\\133922634.py:18: DeprecationWarning: executable_path has been deprecated, please pass in a Service object\n",
      "  browser = webdriver.Chrome('C:\\Program Files\\chromedriver_win32 (1)\\chromedriver')\n",
      "C:\\Users\\Ravit\\AppData\\Local\\Temp\\ipykernel_17924\\1575332992.py:13: FutureWarning: The frame.append method is deprecated and will be removed from pandas in a future version. Use pandas.concat instead.\n",
      "  df = df.append(temp_df)\n",
      "C:\\Users\\Ravit\\AppData\\Local\\Temp\\ipykernel_17924\\4126610301.py:2: DeprecationWarning: executable_path has been deprecated, please pass in a Service object\n",
      "  browser = webdriver.Chrome('C:\\Program Files\\chromedriver_win32 (1)\\chromedriver')\n"
     ]
    },
    {
     "name": "stdout",
     "output_type": "stream",
     "text": [
      "760\n",
      "End of page reached\n"
     ]
    },
    {
     "name": "stderr",
     "output_type": "stream",
     "text": [
      "C:\\Users\\Ravit\\AppData\\Local\\Temp\\ipykernel_17924\\133922634.py:18: DeprecationWarning: executable_path has been deprecated, please pass in a Service object\n",
      "  browser = webdriver.Chrome('C:\\Program Files\\chromedriver_win32 (1)\\chromedriver')\n",
      "C:\\Users\\Ravit\\AppData\\Local\\Temp\\ipykernel_17924\\1575332992.py:13: FutureWarning: The frame.append method is deprecated and will be removed from pandas in a future version. Use pandas.concat instead.\n",
      "  df = df.append(temp_df)\n",
      "C:\\Users\\Ravit\\AppData\\Local\\Temp\\ipykernel_17924\\4126610301.py:2: DeprecationWarning: executable_path has been deprecated, please pass in a Service object\n",
      "  browser = webdriver.Chrome('C:\\Program Files\\chromedriver_win32 (1)\\chromedriver')\n"
     ]
    },
    {
     "name": "stdout",
     "output_type": "stream",
     "text": [
      "761\n"
     ]
    }
   ],
   "source": [
    "#columns = [\"Answer\", \"upvoteCount\", \"answerCount\", \"followerCount\", \"name\"]\n",
    "columns = [\"Answer\", \"followerCount\", \"name\", \"upvoteCount\", \"answerCount\", \"answerViews\"]\n",
    "df = pd.DataFrame(data = [], columns = columns)\n",
    "questions = []\n",
    "j = 761\n",
    "for i, url in enumerate(url_list[j:]):\n",
    "    print(j)\n",
    "    temp_df = answers_into_df(url)\n",
    "    if temp_df is None:\n",
    "       temp_df = pd.DataFrame([], columns=columns)\n",
    "    questions.append([url]*len(temp_df))\n",
    "    \n",
    "    df = df.append(temp_df)\n",
    "    if j%5 == 0 or j==761:\n",
    "        save_df(df, questions, j)\n",
    "        df = pd.DataFrame(data = [], columns = columns)\n",
    "        questions = []\n",
    "    j+=1\n",
    "#save last questions\n",
    "save_df(df, questions, i)\n",
    "df = pd.DataFrame(data = [], columns = columns)"
   ]
  },
  {
   "cell_type": "code",
   "execution_count": null,
   "metadata": {},
   "outputs": [
    {
     "ename": "NameError",
     "evalue": "name 'df' is not defined",
     "output_type": "error",
     "traceback": [
      "\u001b[1;31m---------------------------------------------------------------------------\u001b[0m",
      "\u001b[1;31mNameError\u001b[0m                                 Traceback (most recent call last)",
      "\u001b[1;32mc:\\Users\\Ravit\\Documents\\rnd\\horizon_scanning_lab\\Scrapers\\Quora_RCS\\scrape_answers_to_tech_ques_utrls_selenium.ipynb Cell 18\u001b[0m in \u001b[0;36m<cell line: 1>\u001b[1;34m()\u001b[0m\n\u001b[1;32m----> <a href='vscode-notebook-cell:/c%3A/Users/Ravit/Documents/rnd/horizon_scanning_lab/Scrapers/Quora_RCS/scrape_answers_to_tech_ques_utrls_selenium.ipynb#X20sZmlsZQ%3D%3D?line=0'>1</a>\u001b[0m df\n",
      "\u001b[1;31mNameError\u001b[0m: name 'df' is not defined"
     ]
    }
   ],
   "source": [
    "\n",
    "\n",
    "\n",
    "         "
   ]
  },
  {
   "cell_type": "code",
   "execution_count": null,
   "metadata": {},
   "outputs": [],
   "source": []
  },
  {
   "cell_type": "code",
   "execution_count": null,
   "metadata": {},
   "outputs": [],
   "source": []
  }
 ],
 "metadata": {
  "kernelspec": {
   "display_name": "Python 3.9.12 ('base')",
   "language": "python",
   "name": "python3"
  },
  "language_info": {
   "codemirror_mode": {
    "name": "ipython",
    "version": 3
   },
   "file_extension": ".py",
   "mimetype": "text/x-python",
   "name": "python",
   "nbconvert_exporter": "python",
   "pygments_lexer": "ipython3",
   "version": "3.9.12"
  },
  "orig_nbformat": 4,
  "vscode": {
   "interpreter": {
    "hash": "ad2bdc8ecc057115af97d19610ffacc2b4e99fae6737bb82f5d7fb13d2f2c186"
   }
  }
 },
 "nbformat": 4,
 "nbformat_minor": 2
}
