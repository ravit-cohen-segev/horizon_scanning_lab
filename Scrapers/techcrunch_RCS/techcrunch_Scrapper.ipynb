{
 "cells": [
  {
   "cell_type": "code",
   "execution_count": 1,
   "metadata": {},
   "outputs": [],
   "source": [
    "import bs4\n",
    "import pandas as pd\n",
    "import requests\n",
    "import xlsxwriter"
   ]
  },
  {
   "cell_type": "code",
   "execution_count": 2,
   "metadata": {},
   "outputs": [],
   "source": [
    "url = \"https://search.techcrunch.com/search;_ylc=X3IDMgRncHJpZANLVy4uOUxhZFNmV1VqSXZCcXpzVmJBBG5fc3VnZwM3BHBvcwMyBHBxc3RyA3RlY2ggdHJlbmRzBHBxc3RybAMxMQRxc3RybAMyMARxdWVyeQNlbWVyZ2luZyUyMHRlY2glMjB0cmVuZHMEdF9zdG1wAzE2NjczODEwNTMEdXNlX2Nhc2UD?p=emerging+tech+trends&fr=techcrunch-s\"\n",
    "response = requests.get(url)\n",
    "\n",
    "soup = bs4.BeautifulSoup(response.text, \"html.parser\")"
   ]
  },
  {
   "cell_type": "code",
   "execution_count": 3,
   "metadata": {},
   "outputs": [],
   "source": [
    "main_block = soup.find('div', {\"class\":\"dd sys_news_auto\"})"
   ]
  },
  {
   "cell_type": "code",
   "execution_count": 4,
   "metadata": {},
   "outputs": [],
   "source": [
    "blocks = main_block.find_all('li')"
   ]
  },
  {
   "cell_type": "code",
   "execution_count": 5,
   "metadata": {},
   "outputs": [],
   "source": [
    "article_titles, article_contents, article_hrefs = [], [], []"
   ]
  },
  {
   "cell_type": "code",
   "execution_count": 6,
   "metadata": {},
   "outputs": [
    {
     "data": {
      "text/plain": [
       "'The tide is shifting on tech’s layoff wave. Kind of.'"
      ]
     },
     "execution_count": 6,
     "metadata": {},
     "output_type": "execute_result"
    }
   ],
   "source": [
    "blocks[1].find('a', {\"class\":\"fz-20 lh-22 fw-b\"}).get_text()\n"
   ]
  },
  {
   "cell_type": "code",
   "execution_count": 7,
   "metadata": {},
   "outputs": [],
   "source": [
    "\n",
    "\n",
    "for i, block in enumerate(blocks):\n",
    "     \n",
    "    tag_header = block.find('h4')\n",
    "    tag_content = block.find('a', {\"class\":\"fz-20 lh-22 fw-b\"})\n",
    "      \n",
    "    article_title = tag_header.find('a').get_text() \n",
    "    article_href = tag_header.find('a')[\"href\"]\n",
    "    article_content = tag_content.get_text()\n",
    "\n",
    "    article_titles.append(article_title)\n",
    "    article_contents.append(article_content)\n",
    "    article_hrefs.append(article_href)"
   ]
  },
  {
   "cell_type": "code",
   "execution_count": 8,
   "metadata": {},
   "outputs": [
    {
     "data": {
      "text/plain": [
       "(10, 3)"
      ]
     },
     "execution_count": 8,
     "metadata": {},
     "output_type": "execute_result"
    }
   ],
   "source": [
    "df = pd.DataFrame({\"title\": article_titles, \"content\": article_contents, \"href\": article_hrefs})\n",
    "df.shape"
   ]
  },
  {
   "cell_type": "code",
   "execution_count": 9,
   "metadata": {},
   "outputs": [
    {
     "data": {
      "text/html": [
       "<div>\n",
       "<style scoped>\n",
       "    .dataframe tbody tr th:only-of-type {\n",
       "        vertical-align: middle;\n",
       "    }\n",
       "\n",
       "    .dataframe tbody tr th {\n",
       "        vertical-align: top;\n",
       "    }\n",
       "\n",
       "    .dataframe thead th {\n",
       "        text-align: right;\n",
       "    }\n",
       "</style>\n",
       "<table border=\"1\" class=\"dataframe\">\n",
       "  <thead>\n",
       "    <tr style=\"text-align: right;\">\n",
       "      <th></th>\n",
       "      <th>title</th>\n",
       "      <th>content</th>\n",
       "      <th>href</th>\n",
       "    </tr>\n",
       "  </thead>\n",
       "  <tbody>\n",
       "    <tr>\n",
       "      <th>0</th>\n",
       "      <td>TC editors weigh in: Tech, trends and controve...</td>\n",
       "      <td>TC editors weigh in: Tech, trends and controve...</td>\n",
       "      <td>https://techcrunch.com/2022/09/18/tc-editors-w...</td>\n",
       "    </tr>\n",
       "    <tr>\n",
       "      <th>1</th>\n",
       "      <td>The tide is shifting on tech’s layoff wave. Ki...</td>\n",
       "      <td>The tide is shifting on tech’s layoff wave. Ki...</td>\n",
       "      <td>https://techcrunch.com/2022/10/26/the-tide-is-...</td>\n",
       "    </tr>\n",
       "    <tr>\n",
       "      <th>2</th>\n",
       "      <td>How emerging tech can solve ad desensitization</td>\n",
       "      <td>How emerging tech can solve ad desensitization</td>\n",
       "      <td>https://techcrunch.com/2016/03/13/how-emerging...</td>\n",
       "    </tr>\n",
       "    <tr>\n",
       "      <th>3</th>\n",
       "      <td>Tech is divergent</td>\n",
       "      <td>Tech is divergent</td>\n",
       "      <td>https://techcrunch.com/2017/03/07/tech-is-dive...</td>\n",
       "    </tr>\n",
       "    <tr>\n",
       "      <th>4</th>\n",
       "      <td>Watching Technology Trends Emerge In Africa</td>\n",
       "      <td>Watching Technology Trends Emerge In Africa</td>\n",
       "      <td>https://techcrunch.com/2016/02/03/watching-tec...</td>\n",
       "    </tr>\n",
       "    <tr>\n",
       "      <th>5</th>\n",
       "      <td>Despite Unrest, The Israeli Tech Ecosystem Is ...</td>\n",
       "      <td>Despite Unrest, The Israeli Tech Ecosystem Is ...</td>\n",
       "      <td>https://techcrunch.com/2015/12/24/despite-unre...</td>\n",
       "    </tr>\n",
       "    <tr>\n",
       "      <th>6</th>\n",
       "      <td>Spotify acquires content moderation tech compa...</td>\n",
       "      <td>Spotify acquires content moderation tech compa...</td>\n",
       "      <td>https://techcrunch.com/2022/10/05/spotify-acqu...</td>\n",
       "    </tr>\n",
       "    <tr>\n",
       "      <th>7</th>\n",
       "      <td>Major trends in agtech for 2018</td>\n",
       "      <td>Major trends in agtech for 2018</td>\n",
       "      <td>https://techcrunch.com/2018/03/08/major-trends...</td>\n",
       "    </tr>\n",
       "    <tr>\n",
       "      <th>8</th>\n",
       "      <td>What do Big Tech earnings tell us about the he...</td>\n",
       "      <td>What do Big Tech earnings tell us about the he...</td>\n",
       "      <td>https://techcrunch.com/2022/07/29/what-do-big-...</td>\n",
       "    </tr>\n",
       "    <tr>\n",
       "      <th>9</th>\n",
       "      <td>The answers to real estate's climate tech ques...</td>\n",
       "      <td>The answers to real estate's climate tech ques...</td>\n",
       "      <td>https://techcrunch.com/2022/04/08/the-answers-...</td>\n",
       "    </tr>\n",
       "  </tbody>\n",
       "</table>\n",
       "</div>"
      ],
      "text/plain": [
       "                                               title  \\\n",
       "0  TC editors weigh in: Tech, trends and controve...   \n",
       "1  The tide is shifting on tech’s layoff wave. Ki...   \n",
       "2     How emerging tech can solve ad desensitization   \n",
       "3                                  Tech is divergent   \n",
       "4        Watching Technology Trends Emerge In Africa   \n",
       "5  Despite Unrest, The Israeli Tech Ecosystem Is ...   \n",
       "6  Spotify acquires content moderation tech compa...   \n",
       "7                    Major trends in agtech for 2018   \n",
       "8  What do Big Tech earnings tell us about the he...   \n",
       "9  The answers to real estate's climate tech ques...   \n",
       "\n",
       "                                             content  \\\n",
       "0  TC editors weigh in: Tech, trends and controve...   \n",
       "1  The tide is shifting on tech’s layoff wave. Ki...   \n",
       "2     How emerging tech can solve ad desensitization   \n",
       "3                                  Tech is divergent   \n",
       "4        Watching Technology Trends Emerge In Africa   \n",
       "5  Despite Unrest, The Israeli Tech Ecosystem Is ...   \n",
       "6  Spotify acquires content moderation tech compa...   \n",
       "7                    Major trends in agtech for 2018   \n",
       "8  What do Big Tech earnings tell us about the he...   \n",
       "9  The answers to real estate's climate tech ques...   \n",
       "\n",
       "                                                href  \n",
       "0  https://techcrunch.com/2022/09/18/tc-editors-w...  \n",
       "1  https://techcrunch.com/2022/10/26/the-tide-is-...  \n",
       "2  https://techcrunch.com/2016/03/13/how-emerging...  \n",
       "3  https://techcrunch.com/2017/03/07/tech-is-dive...  \n",
       "4  https://techcrunch.com/2016/02/03/watching-tec...  \n",
       "5  https://techcrunch.com/2015/12/24/despite-unre...  \n",
       "6  https://techcrunch.com/2022/10/05/spotify-acqu...  \n",
       "7  https://techcrunch.com/2018/03/08/major-trends...  \n",
       "8  https://techcrunch.com/2022/07/29/what-do-big-...  \n",
       "9  https://techcrunch.com/2022/04/08/the-answers-...  "
      ]
     },
     "execution_count": 9,
     "metadata": {},
     "output_type": "execute_result"
    }
   ],
   "source": [
    "df"
   ]
  },
  {
   "cell_type": "code",
   "execution_count": null,
   "metadata": {},
   "outputs": [],
   "source": []
  },
  {
   "cell_type": "code",
   "execution_count": null,
   "metadata": {},
   "outputs": [],
   "source": []
  },
  {
   "cell_type": "code",
   "execution_count": 10,
   "metadata": {},
   "outputs": [
    {
     "data": {
      "text/plain": [
       "(10, 3)"
      ]
     },
     "execution_count": 10,
     "metadata": {},
     "output_type": "execute_result"
    }
   ],
   "source": [
    "df = pd.DataFrame({\"title\": article_titles, \"content\": article_contents, \"href\": article_hrefs})\n",
    "df.shape"
   ]
  },
  {
   "cell_type": "code",
   "execution_count": 11,
   "metadata": {},
   "outputs": [
    {
     "data": {
      "text/html": [
       "<div>\n",
       "<style scoped>\n",
       "    .dataframe tbody tr th:only-of-type {\n",
       "        vertical-align: middle;\n",
       "    }\n",
       "\n",
       "    .dataframe tbody tr th {\n",
       "        vertical-align: top;\n",
       "    }\n",
       "\n",
       "    .dataframe thead th {\n",
       "        text-align: right;\n",
       "    }\n",
       "</style>\n",
       "<table border=\"1\" class=\"dataframe\">\n",
       "  <thead>\n",
       "    <tr style=\"text-align: right;\">\n",
       "      <th></th>\n",
       "      <th>title</th>\n",
       "      <th>content</th>\n",
       "      <th>href</th>\n",
       "    </tr>\n",
       "  </thead>\n",
       "  <tbody>\n",
       "    <tr>\n",
       "      <th>0</th>\n",
       "      <td>TC editors weigh in: Tech, trends and controve...</td>\n",
       "      <td>TC editors weigh in: Tech, trends and controve...</td>\n",
       "      <td>https://techcrunch.com/2022/09/18/tc-editors-w...</td>\n",
       "    </tr>\n",
       "    <tr>\n",
       "      <th>1</th>\n",
       "      <td>The tide is shifting on tech’s layoff wave. Ki...</td>\n",
       "      <td>The tide is shifting on tech’s layoff wave. Ki...</td>\n",
       "      <td>https://techcrunch.com/2022/10/26/the-tide-is-...</td>\n",
       "    </tr>\n",
       "    <tr>\n",
       "      <th>2</th>\n",
       "      <td>How emerging tech can solve ad desensitization</td>\n",
       "      <td>How emerging tech can solve ad desensitization</td>\n",
       "      <td>https://techcrunch.com/2016/03/13/how-emerging...</td>\n",
       "    </tr>\n",
       "    <tr>\n",
       "      <th>3</th>\n",
       "      <td>Tech is divergent</td>\n",
       "      <td>Tech is divergent</td>\n",
       "      <td>https://techcrunch.com/2017/03/07/tech-is-dive...</td>\n",
       "    </tr>\n",
       "    <tr>\n",
       "      <th>4</th>\n",
       "      <td>Watching Technology Trends Emerge In Africa</td>\n",
       "      <td>Watching Technology Trends Emerge In Africa</td>\n",
       "      <td>https://techcrunch.com/2016/02/03/watching-tec...</td>\n",
       "    </tr>\n",
       "    <tr>\n",
       "      <th>5</th>\n",
       "      <td>Despite Unrest, The Israeli Tech Ecosystem Is ...</td>\n",
       "      <td>Despite Unrest, The Israeli Tech Ecosystem Is ...</td>\n",
       "      <td>https://techcrunch.com/2015/12/24/despite-unre...</td>\n",
       "    </tr>\n",
       "    <tr>\n",
       "      <th>6</th>\n",
       "      <td>Spotify acquires content moderation tech compa...</td>\n",
       "      <td>Spotify acquires content moderation tech compa...</td>\n",
       "      <td>https://techcrunch.com/2022/10/05/spotify-acqu...</td>\n",
       "    </tr>\n",
       "    <tr>\n",
       "      <th>7</th>\n",
       "      <td>Major trends in agtech for 2018</td>\n",
       "      <td>Major trends in agtech for 2018</td>\n",
       "      <td>https://techcrunch.com/2018/03/08/major-trends...</td>\n",
       "    </tr>\n",
       "    <tr>\n",
       "      <th>8</th>\n",
       "      <td>What do Big Tech earnings tell us about the he...</td>\n",
       "      <td>What do Big Tech earnings tell us about the he...</td>\n",
       "      <td>https://techcrunch.com/2022/07/29/what-do-big-...</td>\n",
       "    </tr>\n",
       "    <tr>\n",
       "      <th>9</th>\n",
       "      <td>The answers to real estate's climate tech ques...</td>\n",
       "      <td>The answers to real estate's climate tech ques...</td>\n",
       "      <td>https://techcrunch.com/2022/04/08/the-answers-...</td>\n",
       "    </tr>\n",
       "  </tbody>\n",
       "</table>\n",
       "</div>"
      ],
      "text/plain": [
       "                                               title  \\\n",
       "0  TC editors weigh in: Tech, trends and controve...   \n",
       "1  The tide is shifting on tech’s layoff wave. Ki...   \n",
       "2     How emerging tech can solve ad desensitization   \n",
       "3                                  Tech is divergent   \n",
       "4        Watching Technology Trends Emerge In Africa   \n",
       "5  Despite Unrest, The Israeli Tech Ecosystem Is ...   \n",
       "6  Spotify acquires content moderation tech compa...   \n",
       "7                    Major trends in agtech for 2018   \n",
       "8  What do Big Tech earnings tell us about the he...   \n",
       "9  The answers to real estate's climate tech ques...   \n",
       "\n",
       "                                             content  \\\n",
       "0  TC editors weigh in: Tech, trends and controve...   \n",
       "1  The tide is shifting on tech’s layoff wave. Ki...   \n",
       "2     How emerging tech can solve ad desensitization   \n",
       "3                                  Tech is divergent   \n",
       "4        Watching Technology Trends Emerge In Africa   \n",
       "5  Despite Unrest, The Israeli Tech Ecosystem Is ...   \n",
       "6  Spotify acquires content moderation tech compa...   \n",
       "7                    Major trends in agtech for 2018   \n",
       "8  What do Big Tech earnings tell us about the he...   \n",
       "9  The answers to real estate's climate tech ques...   \n",
       "\n",
       "                                                href  \n",
       "0  https://techcrunch.com/2022/09/18/tc-editors-w...  \n",
       "1  https://techcrunch.com/2022/10/26/the-tide-is-...  \n",
       "2  https://techcrunch.com/2016/03/13/how-emerging...  \n",
       "3  https://techcrunch.com/2017/03/07/tech-is-dive...  \n",
       "4  https://techcrunch.com/2016/02/03/watching-tec...  \n",
       "5  https://techcrunch.com/2015/12/24/despite-unre...  \n",
       "6  https://techcrunch.com/2022/10/05/spotify-acqu...  \n",
       "7  https://techcrunch.com/2018/03/08/major-trends...  \n",
       "8  https://techcrunch.com/2022/07/29/what-do-big-...  \n",
       "9  https://techcrunch.com/2022/04/08/the-answers-...  "
      ]
     },
     "execution_count": 11,
     "metadata": {},
     "output_type": "execute_result"
    }
   ],
   "source": [
    "df"
   ]
  },
  {
   "cell_type": "code",
   "execution_count": 12,
   "metadata": {},
   "outputs": [
    {
     "ename": "FileNotFoundError",
     "evalue": "[Errno 2] No such file or directory: ''",
     "output_type": "error",
     "traceback": [
      "\u001b[1;31m---------------------------------------------------------------------------\u001b[0m",
      "\u001b[1;31mFileNotFoundError\u001b[0m                         Traceback (most recent call last)",
      "\u001b[1;32mc:\\Users\\Ravit\\Documents\\rnd\\horizon_scanning_lab\\Scrapers\\techcrunch_RCS\\techcrunch_Scrapper.ipynb Cell 14\u001b[0m in \u001b[0;36m<cell line: 2>\u001b[1;34m()\u001b[0m\n\u001b[0;32m      <a href='vscode-notebook-cell:/c%3A/Users/Ravit/Documents/rnd/horizon_scanning_lab/Scrapers/techcrunch_RCS/techcrunch_Scrapper.ipynb#X20sZmlsZQ%3D%3D?line=0'>1</a>\u001b[0m save_path\u001b[39m=\u001b[39m\u001b[39mr\u001b[39m\u001b[39m\"\u001b[39m\u001b[39m\"\u001b[39m\n\u001b[1;32m----> <a href='vscode-notebook-cell:/c%3A/Users/Ravit/Documents/rnd/horizon_scanning_lab/Scrapers/techcrunch_RCS/techcrunch_Scrapper.ipynb#X20sZmlsZQ%3D%3D?line=1'>2</a>\u001b[0m df\u001b[39m.\u001b[39;49mto_csv(save_path)\n",
      "File \u001b[1;32mc:\\ProgramData\\Anaconda3\\lib\\site-packages\\pandas\\core\\generic.py:3551\u001b[0m, in \u001b[0;36mNDFrame.to_csv\u001b[1;34m(self, path_or_buf, sep, na_rep, float_format, columns, header, index, index_label, mode, encoding, compression, quoting, quotechar, line_terminator, chunksize, date_format, doublequote, escapechar, decimal, errors, storage_options)\u001b[0m\n\u001b[0;32m   3540\u001b[0m df \u001b[39m=\u001b[39m \u001b[39mself\u001b[39m \u001b[39mif\u001b[39;00m \u001b[39misinstance\u001b[39m(\u001b[39mself\u001b[39m, ABCDataFrame) \u001b[39melse\u001b[39;00m \u001b[39mself\u001b[39m\u001b[39m.\u001b[39mto_frame()\n\u001b[0;32m   3542\u001b[0m formatter \u001b[39m=\u001b[39m DataFrameFormatter(\n\u001b[0;32m   3543\u001b[0m     frame\u001b[39m=\u001b[39mdf,\n\u001b[0;32m   3544\u001b[0m     header\u001b[39m=\u001b[39mheader,\n\u001b[1;32m   (...)\u001b[0m\n\u001b[0;32m   3548\u001b[0m     decimal\u001b[39m=\u001b[39mdecimal,\n\u001b[0;32m   3549\u001b[0m )\n\u001b[1;32m-> 3551\u001b[0m \u001b[39mreturn\u001b[39;00m DataFrameRenderer(formatter)\u001b[39m.\u001b[39;49mto_csv(\n\u001b[0;32m   3552\u001b[0m     path_or_buf,\n\u001b[0;32m   3553\u001b[0m     line_terminator\u001b[39m=\u001b[39;49mline_terminator,\n\u001b[0;32m   3554\u001b[0m     sep\u001b[39m=\u001b[39;49msep,\n\u001b[0;32m   3555\u001b[0m     encoding\u001b[39m=\u001b[39;49mencoding,\n\u001b[0;32m   3556\u001b[0m     errors\u001b[39m=\u001b[39;49merrors,\n\u001b[0;32m   3557\u001b[0m     compression\u001b[39m=\u001b[39;49mcompression,\n\u001b[0;32m   3558\u001b[0m     quoting\u001b[39m=\u001b[39;49mquoting,\n\u001b[0;32m   3559\u001b[0m     columns\u001b[39m=\u001b[39;49mcolumns,\n\u001b[0;32m   3560\u001b[0m     index_label\u001b[39m=\u001b[39;49mindex_label,\n\u001b[0;32m   3561\u001b[0m     mode\u001b[39m=\u001b[39;49mmode,\n\u001b[0;32m   3562\u001b[0m     chunksize\u001b[39m=\u001b[39;49mchunksize,\n\u001b[0;32m   3563\u001b[0m     quotechar\u001b[39m=\u001b[39;49mquotechar,\n\u001b[0;32m   3564\u001b[0m     date_format\u001b[39m=\u001b[39;49mdate_format,\n\u001b[0;32m   3565\u001b[0m     doublequote\u001b[39m=\u001b[39;49mdoublequote,\n\u001b[0;32m   3566\u001b[0m     escapechar\u001b[39m=\u001b[39;49mescapechar,\n\u001b[0;32m   3567\u001b[0m     storage_options\u001b[39m=\u001b[39;49mstorage_options,\n\u001b[0;32m   3568\u001b[0m )\n",
      "File \u001b[1;32mc:\\ProgramData\\Anaconda3\\lib\\site-packages\\pandas\\io\\formats\\format.py:1180\u001b[0m, in \u001b[0;36mDataFrameRenderer.to_csv\u001b[1;34m(self, path_or_buf, encoding, sep, columns, index_label, mode, compression, quoting, quotechar, line_terminator, chunksize, date_format, doublequote, escapechar, errors, storage_options)\u001b[0m\n\u001b[0;32m   1159\u001b[0m     created_buffer \u001b[39m=\u001b[39m \u001b[39mFalse\u001b[39;00m\n\u001b[0;32m   1161\u001b[0m csv_formatter \u001b[39m=\u001b[39m CSVFormatter(\n\u001b[0;32m   1162\u001b[0m     path_or_buf\u001b[39m=\u001b[39mpath_or_buf,\n\u001b[0;32m   1163\u001b[0m     line_terminator\u001b[39m=\u001b[39mline_terminator,\n\u001b[1;32m   (...)\u001b[0m\n\u001b[0;32m   1178\u001b[0m     formatter\u001b[39m=\u001b[39m\u001b[39mself\u001b[39m\u001b[39m.\u001b[39mfmt,\n\u001b[0;32m   1179\u001b[0m )\n\u001b[1;32m-> 1180\u001b[0m csv_formatter\u001b[39m.\u001b[39;49msave()\n\u001b[0;32m   1182\u001b[0m \u001b[39mif\u001b[39;00m created_buffer:\n\u001b[0;32m   1183\u001b[0m     \u001b[39massert\u001b[39;00m \u001b[39misinstance\u001b[39m(path_or_buf, StringIO)\n",
      "File \u001b[1;32mc:\\ProgramData\\Anaconda3\\lib\\site-packages\\pandas\\io\\formats\\csvs.py:241\u001b[0m, in \u001b[0;36mCSVFormatter.save\u001b[1;34m(self)\u001b[0m\n\u001b[0;32m    237\u001b[0m \u001b[39m\"\"\"\u001b[39;00m\n\u001b[0;32m    238\u001b[0m \u001b[39mCreate the writer & save.\u001b[39;00m\n\u001b[0;32m    239\u001b[0m \u001b[39m\"\"\"\u001b[39;00m\n\u001b[0;32m    240\u001b[0m \u001b[39m# apply compression and byte/text conversion\u001b[39;00m\n\u001b[1;32m--> 241\u001b[0m \u001b[39mwith\u001b[39;00m get_handle(\n\u001b[0;32m    242\u001b[0m     \u001b[39mself\u001b[39;49m\u001b[39m.\u001b[39;49mfilepath_or_buffer,\n\u001b[0;32m    243\u001b[0m     \u001b[39mself\u001b[39;49m\u001b[39m.\u001b[39;49mmode,\n\u001b[0;32m    244\u001b[0m     encoding\u001b[39m=\u001b[39;49m\u001b[39mself\u001b[39;49m\u001b[39m.\u001b[39;49mencoding,\n\u001b[0;32m    245\u001b[0m     errors\u001b[39m=\u001b[39;49m\u001b[39mself\u001b[39;49m\u001b[39m.\u001b[39;49merrors,\n\u001b[0;32m    246\u001b[0m     compression\u001b[39m=\u001b[39;49m\u001b[39mself\u001b[39;49m\u001b[39m.\u001b[39;49mcompression,\n\u001b[0;32m    247\u001b[0m     storage_options\u001b[39m=\u001b[39;49m\u001b[39mself\u001b[39;49m\u001b[39m.\u001b[39;49mstorage_options,\n\u001b[0;32m    248\u001b[0m ) \u001b[39mas\u001b[39;00m handles:\n\u001b[0;32m    249\u001b[0m \n\u001b[0;32m    250\u001b[0m     \u001b[39m# Note: self.encoding is irrelevant here\u001b[39;00m\n\u001b[0;32m    251\u001b[0m     \u001b[39mself\u001b[39m\u001b[39m.\u001b[39mwriter \u001b[39m=\u001b[39m csvlib\u001b[39m.\u001b[39mwriter(\n\u001b[0;32m    252\u001b[0m         handles\u001b[39m.\u001b[39mhandle,\n\u001b[0;32m    253\u001b[0m         lineterminator\u001b[39m=\u001b[39m\u001b[39mself\u001b[39m\u001b[39m.\u001b[39mline_terminator,\n\u001b[1;32m   (...)\u001b[0m\n\u001b[0;32m    258\u001b[0m         quotechar\u001b[39m=\u001b[39m\u001b[39mself\u001b[39m\u001b[39m.\u001b[39mquotechar,\n\u001b[0;32m    259\u001b[0m     )\n\u001b[0;32m    261\u001b[0m     \u001b[39mself\u001b[39m\u001b[39m.\u001b[39m_save()\n",
      "File \u001b[1;32mc:\\ProgramData\\Anaconda3\\lib\\site-packages\\pandas\\io\\common.py:789\u001b[0m, in \u001b[0;36mget_handle\u001b[1;34m(path_or_buf, mode, encoding, compression, memory_map, is_text, errors, storage_options)\u001b[0m\n\u001b[0;32m    784\u001b[0m \u001b[39melif\u001b[39;00m \u001b[39misinstance\u001b[39m(handle, \u001b[39mstr\u001b[39m):\n\u001b[0;32m    785\u001b[0m     \u001b[39m# Check whether the filename is to be opened in binary mode.\u001b[39;00m\n\u001b[0;32m    786\u001b[0m     \u001b[39m# Binary mode does not support 'encoding' and 'newline'.\u001b[39;00m\n\u001b[0;32m    787\u001b[0m     \u001b[39mif\u001b[39;00m ioargs\u001b[39m.\u001b[39mencoding \u001b[39mand\u001b[39;00m \u001b[39m\"\u001b[39m\u001b[39mb\u001b[39m\u001b[39m\"\u001b[39m \u001b[39mnot\u001b[39;00m \u001b[39min\u001b[39;00m ioargs\u001b[39m.\u001b[39mmode:\n\u001b[0;32m    788\u001b[0m         \u001b[39m# Encoding\u001b[39;00m\n\u001b[1;32m--> 789\u001b[0m         handle \u001b[39m=\u001b[39m \u001b[39mopen\u001b[39;49m(\n\u001b[0;32m    790\u001b[0m             handle,\n\u001b[0;32m    791\u001b[0m             ioargs\u001b[39m.\u001b[39;49mmode,\n\u001b[0;32m    792\u001b[0m             encoding\u001b[39m=\u001b[39;49mioargs\u001b[39m.\u001b[39;49mencoding,\n\u001b[0;32m    793\u001b[0m             errors\u001b[39m=\u001b[39;49merrors,\n\u001b[0;32m    794\u001b[0m             newline\u001b[39m=\u001b[39;49m\u001b[39m\"\u001b[39;49m\u001b[39m\"\u001b[39;49m,\n\u001b[0;32m    795\u001b[0m         )\n\u001b[0;32m    796\u001b[0m     \u001b[39melse\u001b[39;00m:\n\u001b[0;32m    797\u001b[0m         \u001b[39m# Binary mode\u001b[39;00m\n\u001b[0;32m    798\u001b[0m         handle \u001b[39m=\u001b[39m \u001b[39mopen\u001b[39m(handle, ioargs\u001b[39m.\u001b[39mmode)\n",
      "\u001b[1;31mFileNotFoundError\u001b[0m: [Errno 2] No such file or directory: ''"
     ]
    }
   ],
   "source": [
    "save_path=r\"\"\n",
    "df.to_csv(save_path)"
   ]
  }
 ],
 "metadata": {
  "kernelspec": {
   "display_name": "Python 3.9.12 ('base')",
   "language": "python",
   "name": "python3"
  },
  "language_info": {
   "codemirror_mode": {
    "name": "ipython",
    "version": 3
   },
   "file_extension": ".py",
   "mimetype": "text/x-python",
   "name": "python",
   "nbconvert_exporter": "python",
   "pygments_lexer": "ipython3",
   "version": "3.9.12"
  },
  "orig_nbformat": 4,
  "vscode": {
   "interpreter": {
    "hash": "ad2bdc8ecc057115af97d19610ffacc2b4e99fae6737bb82f5d7fb13d2f2c186"
   }
  }
 },
 "nbformat": 4,
 "nbformat_minor": 2
}
