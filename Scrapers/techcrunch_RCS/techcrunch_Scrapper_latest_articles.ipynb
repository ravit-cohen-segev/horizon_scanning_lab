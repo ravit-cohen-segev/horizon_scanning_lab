{
 "cells": [
  {
   "cell_type": "code",
   "execution_count": 7,
   "metadata": {},
   "outputs": [],
   "source": [
    "import requests\n",
    "from bs4 import BeautifulSoup\n",
    "from datetime import datetime, timezone\n",
    "from dateutil import parser, tz"
   ]
  },
  {
   "cell_type": "code",
   "execution_count": 8,
   "metadata": {},
   "outputs": [],
   "source": [
    "#dictionary to store the final get_data\n",
    "scraped_dict={}"
   ]
  },
  {
   "cell_type": "code",
   "execution_count": 11,
   "metadata": {},
   "outputs": [],
   "source": [
    "def get_data():\n",
    "    res = requests.get(\"https://www.techcrunch.com\")\n",
    "    try:\n",
    "        soup=BeautifulSoup(res.content, \"html.parser\")\n",
    "\n",
    "        #latest section data\n",
    "        latest=soup.find(class_='river--homepage')\n",
    "\n",
    "        #number of articles\n",
    "        no_of_articles=0\n",
    "        articles=latest.find_all('div',class_='post-block')\n",
    "        for article in articles:\n",
    "            no_of_articles+=1\n",
    "\n",
    "\n",
    "        #article timestamp\n",
    "        article_time_stamp=latest.find_all('time', class_=\"river-byline__time\")\n",
    "\n",
    "        #article title\n",
    "        article_title=latest.find_all('h2', class_='post-block__title')\n",
    "\n",
    "        #article image url\n",
    "        article_image_url=latest.find_all('footer',class_=\"post-block__footer\")\n",
    "\n",
    "        #article authors\n",
    "        article_authors=latest.find_all('span', class_=\"river-byline__authors\")\n",
    "\n",
    "\n",
    "        for article in range(no_of_articles):\n",
    "            #list of content for each article\n",
    "            each_article=[]\n",
    "\n",
    "            #inserting article title\n",
    "            each_article.append(article_title[article].find('a').get_text().strip())\n",
    "            scraped_dict[article]=each_article\n",
    "\n",
    "            #inserting article timestamp\n",
    "            raw_datetime=article_time_stamp[article]['datetime']\n",
    "            raw_datetime=datetime.strptime(raw_datetime, '%Y-%m-%dT%H:%M:%S%z').astimezone()\n",
    "            final_datetime=raw_datetime.strftime('%I:%M %p %Z %B %d, %Y')\n",
    "            scraped_dict[article].append(final_datetime)\n",
    "            #raw_datetime=parser.parse(raw_datetime).replace(tzinfo=timezone.utc).astimezone(tz=None)\n",
    "            #raw_datetime=parser.parse(raw_datetime).replace(tzinfo=timezone.utc).astimezone(tz=None)\n",
    "            \n",
    "\n",
    "\n",
    "            #inserting article image url\n",
    "            scraped_dict[article].append(article_image_url[article].findChildren('img')[0]['src'])\n",
    "\n",
    "            #inserting article authors\n",
    "            authors_list=[]\n",
    "            for author in article_authors[article].find_all('a'):\n",
    "                authors_list.append(author.get_text().strip())\n",
    "            scraped_dict[article].append(\", \".join(authors_list))\n",
    "\n",
    "        return scraped_dict\n",
    "    except Exception as exc:\n",
    "        print(\"There was a problem: %s\" %(exc))"
   ]
  },
  {
   "cell_type": "code",
   "execution_count": 12,
   "metadata": {},
   "outputs": [
    {
     "data": {
      "text/plain": [
       "{0: ['A list of features Elon Musk has promised to bring to Twitter',\n",
       "  '02:30 PM Jerusalem Standard Time November 08, 2022',\n",
       "  'https://techcrunch.com/wp-content/uploads/2022/11/elon-musk-twitter-dollar-signs.jpg?w=300&h=160&crop=1',\n",
       "  'Ivan Mehta'],\n",
       " 1: ['Teamraderie, a B2B Masterclass-style platform for team building, raises $7M',\n",
       "  '01:58 PM Jerusalem Standard Time November 08, 2022',\n",
       "  'https://techcrunch.com/wp-content/uploads/2022/11/web_NASCAR-Lifestyle.jpg?w=300&h=160&crop=1',\n",
       "  'Ingrid Lunden'],\n",
       " 2: ['Quona Capital sinking $332M into startups focused on financial inclusion',\n",
       "  '01:30 PM Jerusalem Standard Time November 08, 2022',\n",
       "  'https://techcrunch.com/wp-content/uploads/2022/11/Quona-367-ALT-Edited.jpg?w=300&h=160&crop=1',\n",
       "  'Christine Hall'],\n",
       " 3: ['Line launches NFT marketplace on its platform DOSI',\n",
       "  '01:07 PM Jerusalem Standard Time November 08, 2022',\n",
       "  'https://techcrunch.com/wp-content/uploads/2022/11/image002-1.png?w=300&h=160&crop=1',\n",
       "  'Kate Park'],\n",
       " 4: ['Netflix launches a new interactive trivia experience, ‘Triviaverse’',\n",
       "  '01:00 PM Jerusalem Standard Time November 08, 2022',\n",
       "  'https://techcrunch.com/wp-content/uploads/2022/11/Triviaverse-Asset.jpeg?w=300&h=160&crop=1',\n",
       "  'Lauren Forristal'],\n",
       " 5: ['Southeast Asia health tech platform Speedoc raises $28M',\n",
       "  '12:55 PM Jerusalem Standard Time November 08, 2022',\n",
       "  'https://techcrunch.com/wp-content/uploads/2022/11/Speedoc-empowers-patients-and-caregivers-by-providing-them-with-an-alternative-to-recover-at-home.jpg?w=300&h=160&crop=1',\n",
       "  'Catherine Shu'],\n",
       " 6: ['Doola nurses new capital for its ‘business in a box’ tool targeting global founders',\n",
       "  '12:00 PM Jerusalem Standard Time November 08, 2022',\n",
       "  'https://techcrunch.com/wp-content/uploads/2022/11/doola-founders-manhattan-rooftop-waist-up.jpg?w=300&h=160&crop=1',\n",
       "  'Christine Hall'],\n",
       " 7: ['Grab online bank leader Reuben Lai to step down',\n",
       "  '10:55 AM Jerusalem Standard Time November 08, 2022',\n",
       "  'https://techcrunch.com/wp-content/uploads/2021/01/GettyImages-929538906.jpg?w=300&h=160&crop=1',\n",
       "  'Catherine Shu'],\n",
       " 8: ['Amazon quietly opens its logistics network to third-party merchants in India',\n",
       "  '09:50 AM Jerusalem Standard Time November 08, 2022',\n",
       "  'https://techcrunch.com/wp-content/uploads/2020/05/GettyImages-683975638.jpg?w=300&h=160&crop=1',\n",
       "  'Manish Singh'],\n",
       " 9: ['Former Tink employees launch Atlar, a payment automation startup',\n",
       "  '09:00 AM Jerusalem Standard Time November 08, 2022',\n",
       "  'https://techcrunch.com/wp-content/uploads/2022/11/Atlar_003.jpg?w=300&h=160&crop=1',\n",
       "  'Romain Dillet'],\n",
       " 10: ['Nvidia touts a slower chip for China to avoid US ban',\n",
       "  '06:02 AM Jerusalem Standard Time November 08, 2022',\n",
       "  'https://techcrunch.com/wp-content/uploads/2019/05/GettyImages-902417454.jpg?w=300&h=160&crop=1',\n",
       "  'Rita Liao'],\n",
       " 11: ['Musk’s $56 billion Tesla pay deal goes to trial amid Twitter overhaul',\n",
       "  '03:50 AM Jerusalem Standard Time November 08, 2022',\n",
       "  'https://techcrunch.com/wp-content/uploads/2022/11/elon-musk-twitter-dollar-signs.jpg?w=300&h=160&crop=1',\n",
       "  'Rebecca Bellan'],\n",
       " 12: ['Outgoing YC President Geoff Ralston: The market is changing; YC’s terms are not',\n",
       "  '03:05 AM Jerusalem Standard Time November 08, 2022',\n",
       "  'https://techcrunch.com/wp-content/uploads/2022/11/Screen-Shot-2022-11-07-at-3.08.57-PM.png?w=300&h=160&crop=1',\n",
       "  'Connie Loizos'],\n",
       " 13: ['Lyft takes $135.7 million hit on Argo AI shutdown',\n",
       "  '02:20 AM Jerusalem Standard Time November 08, 2022',\n",
       "  'https://techcrunch.com/wp-content/uploads/2021/07/Lyft-Argo-Ford_AV-Escape-Hybrid_02.jpg?w=300&h=160&crop=1',\n",
       "  'Rebecca Bellan'],\n",
       " 14: ['Foxconn invests another $170M into EV SPAC Lordstown Motors',\n",
       "  '01:45 AM Jerusalem Standard Time November 08, 2022',\n",
       "  'https://techcrunch.com/wp-content/uploads/2022/11/Lordstown_Endruance_Photo008.jpg?w=300&h=160&crop=1',\n",
       "  'Kirsten Korosec'],\n",
       " 15: ['Harmonic helps investors query the startup searches of their wildest dreams',\n",
       "  '01:06 AM Jerusalem Standard Time November 08, 2022',\n",
       "  'https://techcrunch.com/wp-content/uploads/2022/05/google-search-results-remove.jpg?w=300&h=160&crop=1',\n",
       "  'Natasha Mascarenhas'],\n",
       " 16: ['Elon Musk’s Twitter faces US midterm elections, his first high-stakes test',\n",
       "  '01:06 AM Jerusalem Standard Time November 08, 2022',\n",
       "  'https://techcrunch.com/wp-content/uploads/2022/10/twitter-bird-in-cage-3.jpg?w=300&h=160&crop=1',\n",
       "  'Taylor Hatmaker'],\n",
       " 17: ['Daily Crunch: Say ‘fromage’! French startup PhotoRoom captures $19M Series A',\n",
       "  '01:05 AM Jerusalem Standard Time November 08, 2022',\n",
       "  'https://techcrunch.com/wp-content/uploads/2022/11/PhotoRoom-founders.jpeg?w=300&h=160&crop=1',\n",
       "  'Christine Hall, Haje Jan Kamps'],\n",
       " 18: ['Max Q: Ocean splashdown',\n",
       "  '01:00 AM Jerusalem Standard Time November 08, 2022',\n",
       "  'https://techcrunch.com/wp-content/uploads/2019/12/tc-space-hero.gif?w=300&h=160&crop=1',\n",
       "  'Aria Alamalhodaei'],\n",
       " 19: ['Perceptron: AI that sees with sound, learns to walk and predicts seismic physics',\n",
       "  '12:47 AM Jerusalem Standard Time November 08, 2022',\n",
       "  'https://techcrunch.com/wp-content/uploads/2022/11/esmfold-header.jpg?w=300&h=160&crop=1',\n",
       "  'Kyle Wiggers, Devin Coldewey']}"
      ]
     },
     "execution_count": 12,
     "metadata": {},
     "output_type": "execute_result"
    }
   ],
   "source": [
    "get_data()"
   ]
  },
  {
   "cell_type": "code",
   "execution_count": 14,
   "metadata": {},
   "outputs": [
    {
     "data": {
      "text/plain": [
       "20"
      ]
     },
     "execution_count": 14,
     "metadata": {},
     "output_type": "execute_result"
    }
   ],
   "source": [
    "len(scraped_dict)"
   ]
  },
  {
   "cell_type": "code",
   "execution_count": null,
   "metadata": {},
   "outputs": [],
   "source": []
  }
 ],
 "metadata": {
  "kernelspec": {
   "display_name": "Python 3.9.12 ('base')",
   "language": "python",
   "name": "python3"
  },
  "language_info": {
   "codemirror_mode": {
    "name": "ipython",
    "version": 3
   },
   "file_extension": ".py",
   "mimetype": "text/x-python",
   "name": "python",
   "nbconvert_exporter": "python",
   "pygments_lexer": "ipython3",
   "version": "3.9.12"
  },
  "orig_nbformat": 4,
  "vscode": {
   "interpreter": {
    "hash": "ad2bdc8ecc057115af97d19610ffacc2b4e99fae6737bb82f5d7fb13d2f2c186"
   }
  }
 },
 "nbformat": 4,
 "nbformat_minor": 2
}
