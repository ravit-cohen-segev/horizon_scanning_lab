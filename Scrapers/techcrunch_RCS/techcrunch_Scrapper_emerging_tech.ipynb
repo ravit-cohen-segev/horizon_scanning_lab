{
 "cells": [
  {
   "cell_type": "code",
   "execution_count": 1,
   "metadata": {},
   "outputs": [],
   "source": [
    "import bs4\n",
    "import pandas as pd\n",
    "import requests\n",
    "import xlsxwriter"
   ]
  },
  {
   "cell_type": "code",
   "execution_count": 47,
   "metadata": {},
   "outputs": [],
   "source": [
    "#tehcrunch url tags for scrapping\n",
    "path_urls = r\"C:\\Users\\Ravit\\Documents\\rnd\\horizon_scanning_lab\\Scrapers\\techcrunch_RCS\\url_tags_for_scrapping.csv\""
   ]
  },
  {
   "cell_type": "code",
   "execution_count": 49,
   "metadata": {},
   "outputs": [],
   "source": [
    "url_df = pd.read_csv(path_urls)"
   ]
  },
  {
   "cell_type": "code",
   "execution_count": 50,
   "metadata": {},
   "outputs": [
    {
     "data": {
      "text/html": [
       "<div>\n",
       "<style scoped>\n",
       "    .dataframe tbody tr th:only-of-type {\n",
       "        vertical-align: middle;\n",
       "    }\n",
       "\n",
       "    .dataframe tbody tr th {\n",
       "        vertical-align: top;\n",
       "    }\n",
       "\n",
       "    .dataframe thead th {\n",
       "        text-align: right;\n",
       "    }\n",
       "</style>\n",
       "<table border=\"1\" class=\"dataframe\">\n",
       "  <thead>\n",
       "    <tr style=\"text-align: right;\">\n",
       "      <th></th>\n",
       "      <th>domain</th>\n",
       "      <th>url</th>\n",
       "    </tr>\n",
       "  </thead>\n",
       "  <tbody>\n",
       "    <tr>\n",
       "      <th>0</th>\n",
       "      <td>Agriculture</td>\n",
       "      <td>https://techcrunch.com/tag/agriculture-tech/</td>\n",
       "    </tr>\n",
       "    <tr>\n",
       "      <th>1</th>\n",
       "      <td>Agriculture</td>\n",
       "      <td>https://techcrunch.com/tag/agtech/</td>\n",
       "    </tr>\n",
       "    <tr>\n",
       "      <th>2</th>\n",
       "      <td>Finance</td>\n",
       "      <td>https://techcrunch.com/tag/financial-technology/</td>\n",
       "    </tr>\n",
       "    <tr>\n",
       "      <th>3</th>\n",
       "      <td>Energy</td>\n",
       "      <td>https://techcrunch.com/tag/energy-tech/</td>\n",
       "    </tr>\n",
       "    <tr>\n",
       "      <th>4</th>\n",
       "      <td>Energy</td>\n",
       "      <td>https://techcrunch.com/tag/renewable-energy/</td>\n",
       "    </tr>\n",
       "    <tr>\n",
       "      <th>5</th>\n",
       "      <td>Climate &amp; Geo</td>\n",
       "      <td>https://techcrunch.com/tag/climate-tech/</td>\n",
       "    </tr>\n",
       "    <tr>\n",
       "      <th>6</th>\n",
       "      <td>Military</td>\n",
       "      <td>https://techcrunch.com/tag/military-tech/</td>\n",
       "    </tr>\n",
       "    <tr>\n",
       "      <th>7</th>\n",
       "      <td>Space</td>\n",
       "      <td>https://techcrunch.com/tag/space-technology/</td>\n",
       "    </tr>\n",
       "    <tr>\n",
       "      <th>8</th>\n",
       "      <td>Medicine</td>\n",
       "      <td>https://techcrunch.com/tag/medtech/</td>\n",
       "    </tr>\n",
       "    <tr>\n",
       "      <th>9</th>\n",
       "      <td>Medicine</td>\n",
       "      <td>https://techcrunch.com/tag/medical-technology/</td>\n",
       "    </tr>\n",
       "    <tr>\n",
       "      <th>10</th>\n",
       "      <td>Materials</td>\n",
       "      <td>https://techcrunch.com/tag/materials/</td>\n",
       "    </tr>\n",
       "    <tr>\n",
       "      <th>11</th>\n",
       "      <td>Legal</td>\n",
       "      <td>https://techcrunch.com/tag/legal-tech/</td>\n",
       "    </tr>\n",
       "    <tr>\n",
       "      <th>12</th>\n",
       "      <td>Legal</td>\n",
       "      <td>https://techcrunch.com/tag/legal-technology/</td>\n",
       "    </tr>\n",
       "  </tbody>\n",
       "</table>\n",
       "</div>"
      ],
      "text/plain": [
       "           domain                                               url\n",
       "0     Agriculture      https://techcrunch.com/tag/agriculture-tech/\n",
       "1     Agriculture                https://techcrunch.com/tag/agtech/\n",
       "2         Finance  https://techcrunch.com/tag/financial-technology/\n",
       "3          Energy           https://techcrunch.com/tag/energy-tech/\n",
       "4          Energy      https://techcrunch.com/tag/renewable-energy/\n",
       "5   Climate & Geo          https://techcrunch.com/tag/climate-tech/\n",
       "6        Military         https://techcrunch.com/tag/military-tech/\n",
       "7           Space      https://techcrunch.com/tag/space-technology/\n",
       "8        Medicine               https://techcrunch.com/tag/medtech/\n",
       "9        Medicine    https://techcrunch.com/tag/medical-technology/\n",
       "10      Materials             https://techcrunch.com/tag/materials/\n",
       "11          Legal            https://techcrunch.com/tag/legal-tech/\n",
       "12          Legal      https://techcrunch.com/tag/legal-technology/"
      ]
     },
     "execution_count": 50,
     "metadata": {},
     "output_type": "execute_result"
    }
   ],
   "source": [
    "url_df"
   ]
  },
  {
   "cell_type": "code",
   "execution_count": 52,
   "metadata": {},
   "outputs": [],
   "source": [
    "response = requests.get(url_df[\"url\"].iloc[0])\n",
    "\n",
    "soup = bs4.BeautifulSoup(response.text, \"html.parser\")  "
   ]
  },
  {
   "cell_type": "code",
   "execution_count": 59,
   "metadata": {},
   "outputs": [
    {
     "data": {
      "text/plain": [
       "'If it’s agtech, it’s climate change: How the crisis is shaping investors’ strategies'"
      ]
     },
     "execution_count": 59,
     "metadata": {},
     "output_type": "execute_result"
    }
   ],
   "source": [
    "soup.find_all(\"a\", {\"class\":\"post-block__title__link\"})[0].find_next(text=True).strip()\n"
   ]
  },
  {
   "cell_type": "code",
   "execution_count": 60,
   "metadata": {},
   "outputs": [],
   "source": [
    "def get_articles_and_hrefs(link):\n",
    "    \n",
    "    response = requests.get(link)\n",
    "    soup = bs4.BeautifulSoup(response.text, \"html.parser\")  \n",
    "    \n",
    "    hrefs_list = []\n",
    "    title_list = []\n",
    "    \n",
    "    link_elements = soup.find_all(\"a\", {\"class\":\"post-block__title__link\"})\n",
    "\n",
    "    for link_el in link_elements:\n",
    "        hrefs_list.append(link_el['href'])\n",
    "        title_list.append(link_el.find_next(text=True).strip())\n",
    "\n",
    "    return hrefs_list, title_list"
   ]
  },
  {
   "cell_type": "code",
   "execution_count": 64,
   "metadata": {},
   "outputs": [],
   "source": [
    "cols = [\"domain\", \"link\", \"title\"]\n",
    "out_df = pd.DataFrame([], columns = cols)\n",
    "\n",
    "for i, row in url_df.iterrows():\n",
    "    temp_df = pd.DataFrame([], columns = cols)\n",
    "    temp_df['link'], temp_df['title'] = get_articles_and_hrefs(row['url'])\n",
    "    temp_df['domain'] = [row[\"domain\"]]*len(temp_df)\n",
    "    out_df = pd.concat([out_df, temp_df])\n",
    "    "
   ]
  },
  {
   "cell_type": "code",
   "execution_count": 65,
   "metadata": {},
   "outputs": [
    {
     "data": {
      "text/html": [
       "<div>\n",
       "<style scoped>\n",
       "    .dataframe tbody tr th:only-of-type {\n",
       "        vertical-align: middle;\n",
       "    }\n",
       "\n",
       "    .dataframe tbody tr th {\n",
       "        vertical-align: top;\n",
       "    }\n",
       "\n",
       "    .dataframe thead th {\n",
       "        text-align: right;\n",
       "    }\n",
       "</style>\n",
       "<table border=\"1\" class=\"dataframe\">\n",
       "  <thead>\n",
       "    <tr style=\"text-align: right;\">\n",
       "      <th></th>\n",
       "      <th>domain</th>\n",
       "      <th>link</th>\n",
       "      <th>title</th>\n",
       "    </tr>\n",
       "  </thead>\n",
       "  <tbody>\n",
       "    <tr>\n",
       "      <th>0</th>\n",
       "      <td>Agriculture</td>\n",
       "      <td>https://techcrunch.com/2022/10/07/if-its-agtec...</td>\n",
       "      <td>If it’s agtech, it’s climate change: How the c...</td>\n",
       "    </tr>\n",
       "    <tr>\n",
       "      <th>1</th>\n",
       "      <td>Agriculture</td>\n",
       "      <td>https://techcrunch.com/2022/10/05/7-investors-...</td>\n",
       "      <td>7 investors discuss how agtech can solve agric...</td>\n",
       "    </tr>\n",
       "    <tr>\n",
       "      <th>2</th>\n",
       "      <td>Agriculture</td>\n",
       "      <td>https://techcrunch.com/2021/12/16/phytoform-cl...</td>\n",
       "      <td>Phytoform plants $5.7M into climate-resistant ...</td>\n",
       "    </tr>\n",
       "    <tr>\n",
       "      <th>3</th>\n",
       "      <td>Agriculture</td>\n",
       "      <td>https://techcrunch.com/2021/09/14/agbiome-land...</td>\n",
       "      <td>AgBiome lands $116M for safer crop protection ...</td>\n",
       "    </tr>\n",
       "    <tr>\n",
       "      <th>4</th>\n",
       "      <td>Agriculture</td>\n",
       "      <td>https://techcrunch.com/2019/03/07/vcs-have-gro...</td>\n",
       "      <td>VCs have growing appetite for ‘AgriFood’</td>\n",
       "    </tr>\n",
       "    <tr>\n",
       "      <th>...</th>\n",
       "      <td>...</td>\n",
       "      <td>...</td>\n",
       "      <td>...</td>\n",
       "    </tr>\n",
       "    <tr>\n",
       "      <th>3</th>\n",
       "      <td>Legal</td>\n",
       "      <td>https://techcrunch.com/2020/10/28/priori-serie...</td>\n",
       "      <td>Priori raises $6.3M to help large companies hi...</td>\n",
       "    </tr>\n",
       "    <tr>\n",
       "      <th>4</th>\n",
       "      <td>Legal</td>\n",
       "      <td>https://techcrunch.com/2018/08/17/klarity-uses...</td>\n",
       "      <td>Klarity uses AI to strip drudgery from contrac...</td>\n",
       "    </tr>\n",
       "    <tr>\n",
       "      <th>5</th>\n",
       "      <td>Legal</td>\n",
       "      <td>https://techcrunch.com/2018/04/12/helpself-use...</td>\n",
       "      <td>HelpSelf uses simple AI to help those in legal...</td>\n",
       "    </tr>\n",
       "    <tr>\n",
       "      <th>6</th>\n",
       "      <td>Legal</td>\n",
       "      <td>https://techcrunch.com/2016/08/23/logikcull-ra...</td>\n",
       "      <td>Logikcull raises $10M to let lawyers analyze d...</td>\n",
       "    </tr>\n",
       "    <tr>\n",
       "      <th>7</th>\n",
       "      <td>Legal</td>\n",
       "      <td>https://techcrunch.com/2016/07/19/legalist-is-...</td>\n",
       "      <td>Legalist is making it easier for lawyers to fi...</td>\n",
       "    </tr>\n",
       "  </tbody>\n",
       "</table>\n",
       "<p>206 rows × 3 columns</p>\n",
       "</div>"
      ],
      "text/plain": [
       "         domain                                               link  \\\n",
       "0   Agriculture  https://techcrunch.com/2022/10/07/if-its-agtec...   \n",
       "1   Agriculture  https://techcrunch.com/2022/10/05/7-investors-...   \n",
       "2   Agriculture  https://techcrunch.com/2021/12/16/phytoform-cl...   \n",
       "3   Agriculture  https://techcrunch.com/2021/09/14/agbiome-land...   \n",
       "4   Agriculture  https://techcrunch.com/2019/03/07/vcs-have-gro...   \n",
       "..          ...                                                ...   \n",
       "3         Legal  https://techcrunch.com/2020/10/28/priori-serie...   \n",
       "4         Legal  https://techcrunch.com/2018/08/17/klarity-uses...   \n",
       "5         Legal  https://techcrunch.com/2018/04/12/helpself-use...   \n",
       "6         Legal  https://techcrunch.com/2016/08/23/logikcull-ra...   \n",
       "7         Legal  https://techcrunch.com/2016/07/19/legalist-is-...   \n",
       "\n",
       "                                                title  \n",
       "0   If it’s agtech, it’s climate change: How the c...  \n",
       "1   7 investors discuss how agtech can solve agric...  \n",
       "2   Phytoform plants $5.7M into climate-resistant ...  \n",
       "3   AgBiome lands $116M for safer crop protection ...  \n",
       "4            VCs have growing appetite for ‘AgriFood’  \n",
       "..                                                ...  \n",
       "3   Priori raises $6.3M to help large companies hi...  \n",
       "4   Klarity uses AI to strip drudgery from contrac...  \n",
       "5   HelpSelf uses simple AI to help those in legal...  \n",
       "6   Logikcull raises $10M to let lawyers analyze d...  \n",
       "7   Legalist is making it easier for lawyers to fi...  \n",
       "\n",
       "[206 rows x 3 columns]"
      ]
     },
     "execution_count": 65,
     "metadata": {},
     "output_type": "execute_result"
    }
   ],
   "source": [
    "out_df"
   ]
  },
  {
   "cell_type": "code",
   "execution_count": 66,
   "metadata": {},
   "outputs": [],
   "source": [
    "out_df.to_csv(r\"C:\\Users\\Ravit\\Documents\\rnd\\horizon_scanning_lab\\Scrapers\\techcrunch_RCS\\scrapped_titles\\techcrunch_scrapped_article_titles.csv\")"
   ]
  },
  {
   "cell_type": "code",
   "execution_count": null,
   "metadata": {},
   "outputs": [],
   "source": []
  }
 ],
 "metadata": {
  "kernelspec": {
   "display_name": "Python 3.9.12 ('base')",
   "language": "python",
   "name": "python3"
  },
  "language_info": {
   "codemirror_mode": {
    "name": "ipython",
    "version": 3
   },
   "file_extension": ".py",
   "mimetype": "text/x-python",
   "name": "python",
   "nbconvert_exporter": "python",
   "pygments_lexer": "ipython3",
   "version": "3.9.12"
  },
  "orig_nbformat": 4,
  "vscode": {
   "interpreter": {
    "hash": "ad2bdc8ecc057115af97d19610ffacc2b4e99fae6737bb82f5d7fb13d2f2c186"
   }
  }
 },
 "nbformat": 4,
 "nbformat_minor": 2
}
