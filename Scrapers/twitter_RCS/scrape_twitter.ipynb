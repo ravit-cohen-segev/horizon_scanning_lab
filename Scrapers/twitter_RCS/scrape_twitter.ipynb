{
 "cells": [
  {
   "cell_type": "code",
   "execution_count": 97,
   "metadata": {},
   "outputs": [],
   "source": [
    "\n",
    "import os\n",
    "import tweepy\n",
    "import pandas as pd\n",
    "import json\n",
    "from dotenv import load_dotenv\n",
    "\n",
    "load_dotenv('.env')\n",
    "consumer_key = os.environ[\"API_KEY\"]\n",
    "consumer_secret = os.environ[\"API_KEY_SECRET\"]\n",
    "access_token = os.environ[\"ACCESS_TOKEN\"]\n",
    "access_token_secret = os.environ[\"ACCESS_TOKEN_SECRET\"]\n",
    "\n",
    "auth = tweepy.OAuth1UserHandler(consumer_key, \n",
    "  consumer_secret\n",
    ")\n",
    "\n",
    "api = tweepy.API(auth)"
   ]
  },
  {
   "cell_type": "code",
   "execution_count": 148,
   "metadata": {},
   "outputs": [],
   "source": [
    "tweets = api.search_30_day(query=\"patents\", label=\"tech30\")"
   ]
  },
  {
   "cell_type": "code",
   "execution_count": 149,
   "metadata": {},
   "outputs": [
    {
     "data": {
      "text/plain": [
       "'RT @TonyDUrso: Listen in: Shaping The Future with Byron Reese &amp; Tony DUrso https://t.co/YCLx8Zjovg Byron is an entrepreneur with a quarter-…'"
      ]
     },
     "execution_count": 149,
     "metadata": {},
     "output_type": "execute_result"
    }
   ],
   "source": [
    "tweets[20]._json['text']"
   ]
  },
  {
   "cell_type": "code",
   "execution_count": 120,
   "metadata": {},
   "outputs": [],
   "source": [
    "#contains dict and cannot be parsed into df. keep it in a separate df\n",
    "user_columns = tweets[0]._json['user'].keys()\n",
    "df_user = pd.DataFrame([], columns=user_columns)\n",
    "\n",
    "\n",
    "tweet_columns = list(tweets[0]._json.keys())\n",
    "tweet_columns.pop(11)\n",
    "df_tweets = pd.DataFrame([],columns=tweet_columns)"
   ]
  },
  {
   "cell_type": "code",
   "execution_count": 122,
   "metadata": {},
   "outputs": [
    {
     "data": {
      "text/plain": [
       "['created_at',\n",
       " 'id',\n",
       " 'id_str',\n",
       " 'text',\n",
       " 'source',\n",
       " 'truncated',\n",
       " 'in_reply_to_status_id',\n",
       " 'in_reply_to_status_id_str',\n",
       " 'in_reply_to_user_id',\n",
       " 'in_reply_to_user_id_str',\n",
       " 'in_reply_to_screen_name',\n",
       " 'geo',\n",
       " 'coordinates',\n",
       " 'place',\n",
       " 'contributors',\n",
       " 'retweeted_status',\n",
       " 'is_quote_status',\n",
       " 'quote_count',\n",
       " 'reply_count',\n",
       " 'retweet_count',\n",
       " 'favorite_count',\n",
       " 'entities',\n",
       " 'favorited',\n",
       " 'retweeted',\n",
       " 'edit_history',\n",
       " 'edit_controls',\n",
       " 'editable',\n",
       " 'filter_level',\n",
       " 'lang',\n",
       " 'matching_rules']"
      ]
     },
     "execution_count": 122,
     "metadata": {},
     "output_type": "execute_result"
    }
   ],
   "source": [
    "tweet_columns"
   ]
  },
  {
   "cell_type": "code",
   "execution_count": 123,
   "metadata": {},
   "outputs": [
    {
     "data": {
      "text/html": [
       "<div>\n",
       "<style scoped>\n",
       "    .dataframe tbody tr th:only-of-type {\n",
       "        vertical-align: middle;\n",
       "    }\n",
       "\n",
       "    .dataframe tbody tr th {\n",
       "        vertical-align: top;\n",
       "    }\n",
       "\n",
       "    .dataframe thead th {\n",
       "        text-align: right;\n",
       "    }\n",
       "</style>\n",
       "<table border=\"1\" class=\"dataframe\">\n",
       "  <thead>\n",
       "    <tr style=\"text-align: right;\">\n",
       "      <th></th>\n",
       "      <th>created_at</th>\n",
       "      <th>id</th>\n",
       "      <th>id_str</th>\n",
       "      <th>text</th>\n",
       "      <th>source</th>\n",
       "      <th>truncated</th>\n",
       "      <th>in_reply_to_status_id</th>\n",
       "      <th>in_reply_to_status_id_str</th>\n",
       "      <th>in_reply_to_user_id</th>\n",
       "      <th>in_reply_to_user_id_str</th>\n",
       "      <th>...</th>\n",
       "      <th>favorite_count</th>\n",
       "      <th>entities</th>\n",
       "      <th>favorited</th>\n",
       "      <th>retweeted</th>\n",
       "      <th>edit_history</th>\n",
       "      <th>edit_controls</th>\n",
       "      <th>editable</th>\n",
       "      <th>filter_level</th>\n",
       "      <th>lang</th>\n",
       "      <th>matching_rules</th>\n",
       "    </tr>\n",
       "  </thead>\n",
       "  <tbody>\n",
       "  </tbody>\n",
       "</table>\n",
       "<p>0 rows × 30 columns</p>\n",
       "</div>"
      ],
      "text/plain": [
       "Empty DataFrame\n",
       "Columns: [created_at, id, id_str, text, source, truncated, in_reply_to_status_id, in_reply_to_status_id_str, in_reply_to_user_id, in_reply_to_user_id_str, in_reply_to_screen_name, geo, coordinates, place, contributors, retweeted_status, is_quote_status, quote_count, reply_count, retweet_count, favorite_count, entities, favorited, retweeted, edit_history, edit_controls, editable, filter_level, lang, matching_rules]\n",
       "Index: []\n",
       "\n",
       "[0 rows x 30 columns]"
      ]
     },
     "execution_count": 123,
     "metadata": {},
     "output_type": "execute_result"
    }
   ],
   "source": [
    "df_tweets"
   ]
  },
  {
   "cell_type": "code",
   "execution_count": 124,
   "metadata": {},
   "outputs": [
    {
     "data": {
      "text/html": [
       "<div>\n",
       "<style scoped>\n",
       "    .dataframe tbody tr th:only-of-type {\n",
       "        vertical-align: middle;\n",
       "    }\n",
       "\n",
       "    .dataframe tbody tr th {\n",
       "        vertical-align: top;\n",
       "    }\n",
       "\n",
       "    .dataframe thead th {\n",
       "        text-align: right;\n",
       "    }\n",
       "</style>\n",
       "<table border=\"1\" class=\"dataframe\">\n",
       "  <thead>\n",
       "    <tr style=\"text-align: right;\">\n",
       "      <th></th>\n",
       "      <th>id</th>\n",
       "      <th>id_str</th>\n",
       "      <th>name</th>\n",
       "      <th>screen_name</th>\n",
       "      <th>location</th>\n",
       "      <th>url</th>\n",
       "      <th>description</th>\n",
       "      <th>translator_type</th>\n",
       "      <th>protected</th>\n",
       "      <th>verified</th>\n",
       "      <th>...</th>\n",
       "      <th>profile_text_color</th>\n",
       "      <th>profile_use_background_image</th>\n",
       "      <th>profile_image_url</th>\n",
       "      <th>profile_image_url_https</th>\n",
       "      <th>default_profile</th>\n",
       "      <th>default_profile_image</th>\n",
       "      <th>following</th>\n",
       "      <th>follow_request_sent</th>\n",
       "      <th>notifications</th>\n",
       "      <th>withheld_in_countries</th>\n",
       "    </tr>\n",
       "  </thead>\n",
       "  <tbody>\n",
       "  </tbody>\n",
       "</table>\n",
       "<p>0 rows × 39 columns</p>\n",
       "</div>"
      ],
      "text/plain": [
       "Empty DataFrame\n",
       "Columns: [id, id_str, name, screen_name, location, url, description, translator_type, protected, verified, followers_count, friends_count, listed_count, favourites_count, statuses_count, created_at, utc_offset, time_zone, geo_enabled, lang, contributors_enabled, is_translator, profile_background_color, profile_background_image_url, profile_background_image_url_https, profile_background_tile, profile_link_color, profile_sidebar_border_color, profile_sidebar_fill_color, profile_text_color, profile_use_background_image, profile_image_url, profile_image_url_https, default_profile, default_profile_image, following, follow_request_sent, notifications, withheld_in_countries]\n",
       "Index: []\n",
       "\n",
       "[0 rows x 39 columns]"
      ]
     },
     "execution_count": 124,
     "metadata": {},
     "output_type": "execute_result"
    }
   ],
   "source": [
    "pd.DataFrame.from_dict(tweets[0]._json['user'])"
   ]
  },
  {
   "cell_type": "code",
   "execution_count": 129,
   "metadata": {},
   "outputs": [
    {
     "ename": "KeyError",
     "evalue": "'user'",
     "output_type": "error",
     "traceback": [
      "\u001b[1;31m---------------------------------------------------------------------------\u001b[0m",
      "\u001b[1;31mKeyError\u001b[0m                                  Traceback (most recent call last)",
      "\u001b[1;32mc:\\Users\\Ravit\\Documents\\rnd\\horizon_scanning_lab\\Scrapers\\twitter_RCS\\scrape_twitter.ipynb Cell 8\u001b[0m in \u001b[0;36m<cell line: 1>\u001b[1;34m()\u001b[0m\n\u001b[0;32m      <a href='vscode-notebook-cell:/c%3A/Users/Ravit/Documents/rnd/horizon_scanning_lab/Scrapers/twitter_RCS/scrape_twitter.ipynb#X10sZmlsZQ%3D%3D?line=0'>1</a>\u001b[0m \u001b[39mfor\u001b[39;00m tweet \u001b[39min\u001b[39;00m tweets:\n\u001b[0;32m      <a href='vscode-notebook-cell:/c%3A/Users/Ravit/Documents/rnd/horizon_scanning_lab/Scrapers/twitter_RCS/scrape_twitter.ipynb#X10sZmlsZQ%3D%3D?line=1'>2</a>\u001b[0m     tweet \u001b[39m=\u001b[39m tweet\u001b[39m.\u001b[39m_json\n\u001b[1;32m----> <a href='vscode-notebook-cell:/c%3A/Users/Ravit/Documents/rnd/horizon_scanning_lab/Scrapers/twitter_RCS/scrape_twitter.ipynb#X10sZmlsZQ%3D%3D?line=3'>4</a>\u001b[0m     df_user \u001b[39m=\u001b[39m pd\u001b[39m.\u001b[39mconcat(df_user, pd\u001b[39m.\u001b[39mDataFrame\u001b[39m.\u001b[39mfrom_dict(tweet[\u001b[39m\"\u001b[39;49m\u001b[39muser\u001b[39;49m\u001b[39m\"\u001b[39;49m]))\n\u001b[0;32m      <a href='vscode-notebook-cell:/c%3A/Users/Ravit/Documents/rnd/horizon_scanning_lab/Scrapers/twitter_RCS/scrape_twitter.ipynb#X10sZmlsZQ%3D%3D?line=4'>5</a>\u001b[0m     tweet\u001b[39m.\u001b[39mpop(\u001b[39m'\u001b[39m\u001b[39mkey\u001b[39m\u001b[39m'\u001b[39m, \u001b[39mNone\u001b[39;00m)\n\u001b[0;32m      <a href='vscode-notebook-cell:/c%3A/Users/Ravit/Documents/rnd/horizon_scanning_lab/Scrapers/twitter_RCS/scrape_twitter.ipynb#X10sZmlsZQ%3D%3D?line=5'>6</a>\u001b[0m     df_tweets \u001b[39m=\u001b[39m pd\u001b[39m.\u001b[39mconcat(df_tweets, pd\u001b[39m.\u001b[39mDataFrame\u001b[39m.\u001b[39mfrom_dict(tweet))\n",
      "\u001b[1;31mKeyError\u001b[0m: 'user'"
     ]
    }
   ],
   "source": [
    "for tweet in tweets:\n",
    "    tweet = tweet._json\n",
    "    \n",
    "    df_user = pd.concat(df_user, pd.DataFrame.from_dict(tweet[\"user\"]))\n",
    "    tweet.pop('key', None)\n",
    "    df_tweets = pd.concat(df_tweets, pd.DataFrame.from_dict(tweet))\n",
    "    \n"
   ]
  },
  {
   "cell_type": "code",
   "execution_count": null,
   "metadata": {},
   "outputs": [],
   "source": []
  }
 ],
 "metadata": {
  "kernelspec": {
   "display_name": "Python 3.9.12 ('base')",
   "language": "python",
   "name": "python3"
  },
  "language_info": {
   "codemirror_mode": {
    "name": "ipython",
    "version": 3
   },
   "file_extension": ".py",
   "mimetype": "text/x-python",
   "name": "python",
   "nbconvert_exporter": "python",
   "pygments_lexer": "ipython3",
   "version": "3.9.12"
  },
  "orig_nbformat": 4,
  "vscode": {
   "interpreter": {
    "hash": "ad2bdc8ecc057115af97d19610ffacc2b4e99fae6737bb82f5d7fb13d2f2c186"
   }
  }
 },
 "nbformat": 4,
 "nbformat_minor": 2
}
