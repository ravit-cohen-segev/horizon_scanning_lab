{
 "cells": [
  {
   "cell_type": "code",
   "execution_count": 8,
   "id": "16992974",
   "metadata": {},
   "outputs": [],
   "source": [
    "import pandas as pd\n",
    "from nltk.corpus import stopwords\n",
    "from nltk.tokenize import word_tokenize\n",
    "\n",
    "import spacy\n",
    "import wikipedia\n",
    "\n",
    "import pandas as pd\n",
    "import glob\n",
    "import os\n",
    "from tqdm import tqdm\n",
    "\n",
    "from collections import Counter\n",
    "\n",
    "import itertools\n",
    "\n",
    "import string\n"
   ]
  },
  {
   "cell_type": "code",
   "execution_count": 9,
   "id": "f93a8ffc-9fac-452c-bf12-ede18e6d3757",
   "metadata": {},
   "outputs": [
    {
     "name": "stdout",
     "output_type": "stream",
     "text": [
      "False\n"
     ]
    }
   ],
   "source": [
    "allowed = set(string.ascii_lowercase + string.ascii_uppercase+ string.digits + \"'\")\n",
    "\n",
    "import re\n",
    "\n",
    "s=\"elon musk\"\n",
    "\n",
    "print(bool(re.match('^[a-zA-Z0-9]+$', s)))"
   ]
  },
  {
   "cell_type": "code",
   "execution_count": 10,
   "id": "6765831f",
   "metadata": {},
   "outputs": [],
   "source": [
    "stop_words = set(stopwords.words('english'))"
   ]
  },
  {
   "cell_type": "code",
   "execution_count": 11,
   "id": "5e35e1b5",
   "metadata": {},
   "outputs": [],
   "source": [
    "nlp = spacy.load('en_core_web_lg')\n"
   ]
  },
  {
   "cell_type": "code",
   "execution_count": 12,
   "id": "b02466f7",
   "metadata": {},
   "outputs": [
    {
     "data": {
      "text/html": [
       "<div>\n",
       "<style scoped>\n",
       "    .dataframe tbody tr th:only-of-type {\n",
       "        vertical-align: middle;\n",
       "    }\n",
       "\n",
       "    .dataframe tbody tr th {\n",
       "        vertical-align: top;\n",
       "    }\n",
       "\n",
       "    .dataframe thead th {\n",
       "        text-align: right;\n",
       "    }\n",
       "</style>\n",
       "<table border=\"1\" class=\"dataframe\">\n",
       "  <thead>\n",
       "    <tr style=\"text-align: right;\">\n",
       "      <th></th>\n",
       "      <th>prior</th>\n",
       "      <th>title</th>\n",
       "      <th>text</th>\n",
       "      <th>article_link</th>\n",
       "    </tr>\n",
       "  </thead>\n",
       "  <tbody>\n",
       "    <tr>\n",
       "      <th>0</th>\n",
       "      <td>Education%20System</td>\n",
       "      <td>21st Century Ergonomic Education, From Little ...</td>\n",
       "      <td>Despite intense efforts, contemporary educatio...</td>\n",
       "      <td>http://arxiv.org/abs/1403.0281v1</td>\n",
       "    </tr>\n",
       "    <tr>\n",
       "      <th>1</th>\n",
       "      <td>Education%20System</td>\n",
       "      <td>Methodical Aspects of Informatization of Physi...</td>\n",
       "      <td>The article considers the methodical aspects o...</td>\n",
       "      <td>http://arxiv.org/abs/1504.02837v1</td>\n",
       "    </tr>\n",
       "    <tr>\n",
       "      <th>2</th>\n",
       "      <td>Education%20System</td>\n",
       "      <td>Interconnectedness in Education Systems</td>\n",
       "      <td>Underlying complex systems, there is a rich we...</td>\n",
       "      <td>http://arxiv.org/abs/2203.05624v2</td>\n",
       "    </tr>\n",
       "    <tr>\n",
       "      <th>3</th>\n",
       "      <td>Education%20System</td>\n",
       "      <td>How to Teach a Teacher: Challenges and Opportu...</td>\n",
       "      <td>Preparing future physics teachers for the dema...</td>\n",
       "      <td>http://arxiv.org/abs/2201.08682v1</td>\n",
       "    </tr>\n",
       "    <tr>\n",
       "      <th>4</th>\n",
       "      <td>Education%20System</td>\n",
       "      <td>he International Monetary Funds intervention i...</td>\n",
       "      <td>Enabling children to acquire an education is o...</td>\n",
       "      <td>http://arxiv.org/abs/2201.00013v1</td>\n",
       "    </tr>\n",
       "    <tr>\n",
       "      <th>...</th>\n",
       "      <td>...</td>\n",
       "      <td>...</td>\n",
       "      <td>...</td>\n",
       "      <td>...</td>\n",
       "    </tr>\n",
       "    <tr>\n",
       "      <th>5</th>\n",
       "      <td>Situated%20Learning%20Theory%20</td>\n",
       "      <td>Statistical Mechanics of Dictionary Learning</td>\n",
       "      <td>Finding a basis matrix (dictionary) by which o...</td>\n",
       "      <td>http://arxiv.org/abs/1203.6178v3</td>\n",
       "    </tr>\n",
       "    <tr>\n",
       "      <th>6</th>\n",
       "      <td>Situated%20Learning%20Theory%20</td>\n",
       "      <td>owards Explaining Subjective Ground of Individ...</td>\n",
       "      <td>Large-scale language models have been reducing...</td>\n",
       "      <td>http://arxiv.org/abs/2211.09953v1</td>\n",
       "    </tr>\n",
       "    <tr>\n",
       "      <th>7</th>\n",
       "      <td>Situated%20Learning%20Theory%20</td>\n",
       "      <td>Stable variation in multidimensional competition</td>\n",
       "      <td>The Fundamental Theorem of Language Change (Ya...</td>\n",
       "      <td>http://arxiv.org/abs/2003.06265v1</td>\n",
       "    </tr>\n",
       "    <tr>\n",
       "      <th>8</th>\n",
       "      <td>Situated%20Learning%20Theory%20</td>\n",
       "      <td>hresholding in Learning Theory</td>\n",
       "      <td>In this paper we investigate the problem of le...</td>\n",
       "      <td>http://arxiv.org/abs/math/0510271v1</td>\n",
       "    </tr>\n",
       "    <tr>\n",
       "      <th>9</th>\n",
       "      <td>Situated%20Learning%20Theory%20</td>\n",
       "      <td>A New Look at an Old Problem: A Universal Lear...</td>\n",
       "      <td>Linear regression is a classical paradigm in s...</td>\n",
       "      <td>http://arxiv.org/abs/1905.04708v1</td>\n",
       "    </tr>\n",
       "  </tbody>\n",
       "</table>\n",
       "<p>1054 rows × 4 columns</p>\n",
       "</div>"
      ],
      "text/plain": [
       "                              prior  \\\n",
       "0                Education%20System   \n",
       "1                Education%20System   \n",
       "2                Education%20System   \n",
       "3                Education%20System   \n",
       "4                Education%20System   \n",
       "..                              ...   \n",
       "5   Situated%20Learning%20Theory%20   \n",
       "6   Situated%20Learning%20Theory%20   \n",
       "7   Situated%20Learning%20Theory%20   \n",
       "8   Situated%20Learning%20Theory%20   \n",
       "9   Situated%20Learning%20Theory%20   \n",
       "\n",
       "                                                title  \\\n",
       "0   21st Century Ergonomic Education, From Little ...   \n",
       "1   Methodical Aspects of Informatization of Physi...   \n",
       "2             Interconnectedness in Education Systems   \n",
       "3   How to Teach a Teacher: Challenges and Opportu...   \n",
       "4   he International Monetary Funds intervention i...   \n",
       "..                                                ...   \n",
       "5        Statistical Mechanics of Dictionary Learning   \n",
       "6   owards Explaining Subjective Ground of Individ...   \n",
       "7    Stable variation in multidimensional competition   \n",
       "8                      hresholding in Learning Theory   \n",
       "9   A New Look at an Old Problem: A Universal Lear...   \n",
       "\n",
       "                                                 text  \\\n",
       "0   Despite intense efforts, contemporary educatio...   \n",
       "1   The article considers the methodical aspects o...   \n",
       "2   Underlying complex systems, there is a rich we...   \n",
       "3   Preparing future physics teachers for the dema...   \n",
       "4   Enabling children to acquire an education is o...   \n",
       "..                                                ...   \n",
       "5   Finding a basis matrix (dictionary) by which o...   \n",
       "6   Large-scale language models have been reducing...   \n",
       "7   The Fundamental Theorem of Language Change (Ya...   \n",
       "8   In this paper we investigate the problem of le...   \n",
       "9   Linear regression is a classical paradigm in s...   \n",
       "\n",
       "                           article_link  \n",
       "0      http://arxiv.org/abs/1403.0281v1  \n",
       "1     http://arxiv.org/abs/1504.02837v1  \n",
       "2     http://arxiv.org/abs/2203.05624v2  \n",
       "3     http://arxiv.org/abs/2201.08682v1  \n",
       "4     http://arxiv.org/abs/2201.00013v1  \n",
       "..                                  ...  \n",
       "5      http://arxiv.org/abs/1203.6178v3  \n",
       "6     http://arxiv.org/abs/2211.09953v1  \n",
       "7     http://arxiv.org/abs/2003.06265v1  \n",
       "8   http://arxiv.org/abs/math/0510271v1  \n",
       "9     http://arxiv.org/abs/1905.04708v1  \n",
       "\n",
       "[1054 rows x 4 columns]"
      ]
     },
     "execution_count": 12,
     "metadata": {},
     "output_type": "execute_result"
    }
   ],
   "source": [
    "df=pd.read_excel(r\"H:\\NM\\05_22\\edu11112022\\arxiv_education.xlsx\",index_col=0)\n",
    "df"
   ]
  },
  {
   "cell_type": "code",
   "execution_count": 13,
   "id": "d4ef7f78",
   "metadata": {},
   "outputs": [
    {
     "data": {
      "text/plain": [
       "[{'word': 'elon musk',\n",
       "  'entity': 'PERSON',\n",
       "  'dependency': 'nsubj',\n",
       "  'original_word': 'Elon Musk'},\n",
       " {'word': 'me', 'entity': '', 'dependency': 'dative', 'original_word': 'me'},\n",
       " {'word': '5000 dollars',\n",
       "  'entity': 'MONEY',\n",
       "  'dependency': 'dobj',\n",
       "  'original_word': '5000 dollars'}]"
      ]
     },
     "execution_count": 13,
     "metadata": {},
     "output_type": "execute_result"
    }
   ],
   "source": [
    "BAD_DEP=[\"poss\",\"det\"]\n",
    "def filter_sentence(sent):\n",
    "    doc = nlp(sent)\n",
    "    filtered_sentence=[]\n",
    "    for noun_chunk in doc.noun_chunks:\n",
    "        original_chunk=noun_chunk\n",
    "        if noun_chunk[0].dep_ in BAD_DEP:\n",
    "            noun_chunk=noun_chunk[1:]\n",
    "        \n",
    "        w=noun_chunk.text.lower()\n",
    "        ent=noun_chunk.root.ent_type_\n",
    "        w=noun_chunk.text.lower()\n",
    "#         if w not in stop_words:\n",
    "        # if check(w):\n",
    "        #     print(w)\n",
    "        filtered_sentence.append({\"word\":w,\n",
    "                                      \"entity\":noun_chunk.root.ent_type_,\n",
    "                                      \"dependency\":noun_chunk.root.dep_,\n",
    "                                     \"original_word\":original_chunk.text})\n",
    "            \n",
    "\n",
    "    return filtered_sentence\n",
    "filter_sentence(\"'s Elon Musk owes me 5000 dollars\")"
   ]
  },
  {
   "cell_type": "code",
   "execution_count": 16,
   "id": "0cb043df",
   "metadata": {},
   "outputs": [],
   "source": [
    "words_abs=[]\n",
    "words_title=[]\n",
    "abs_cluster_list=[-1,0,1,2,8]\n",
    "for row in df.iterrows():\n",
    "    # if row[1][\"abstract_topics\"] in abs_cluster_list:\n",
    "        abstract=row[1][\"text\"]\n",
    "        title=row[1][\"title\"]\n",
    "        words_abs=words_abs+filter_sentence(abstract)\n",
    "        words_title=words_title+filter_sentence(title)"
   ]
  },
  {
   "cell_type": "code",
   "execution_count": 17,
   "id": "bd3414f5-60ab-47f3-952e-bbb06c59c07d",
   "metadata": {},
   "outputs": [],
   "source": [
    "df_abs=pd.DataFrame(words_abs)\n",
    "df_abs[\"count\"] = 1\n",
    "df_abs = df_abs.groupby([\"word\", \"entity\", \"dependency\",\"original_word\"])[\"count\"].count().reset_index()\n",
    "df_abs[\"len\"]=df_abs[\"word\"].str.count(' ') + 1\n",
    "df_abs.to_excel(\"abs_word_arxiv.xlsx\")"
   ]
  },
  {
   "cell_type": "code",
   "execution_count": 18,
   "id": "a9c53512-3638-4308-98c4-109554899fcb",
   "metadata": {},
   "outputs": [
    {
     "data": {
      "text/plain": [
       "               24518\n",
       "ORG             1104\n",
       "PERSON           339\n",
       "GPE              164\n",
       "DATE              97\n",
       "PRODUCT           74\n",
       "WORK_OF_ART       68\n",
       "PERCENT           47\n",
       "NORP              46\n",
       "CARDINAL          30\n",
       "LOC               23\n",
       "EVENT             21\n",
       "FAC               20\n",
       "MONEY             18\n",
       "LAW               16\n",
       "TIME               4\n",
       "LANGUAGE           3\n",
       "QUANTITY           3\n",
       "Name: entity, dtype: int64"
      ]
     },
     "execution_count": 18,
     "metadata": {},
     "output_type": "execute_result"
    }
   ],
   "source": [
    "df_abs[\"entity\"].value_counts()"
   ]
  }
 ],
 "metadata": {
  "kernelspec": {
   "display_name": "Python 3",
   "language": "python",
   "name": "python3"
  },
  "language_info": {
   "codemirror_mode": {
    "name": "ipython",
    "version": 3
   },
   "file_extension": ".py",
   "mimetype": "text/x-python",
   "name": "python",
   "nbconvert_exporter": "python",
   "pygments_lexer": "ipython3",
   "version": "3.9.1"
  }
 },
 "nbformat": 4,
 "nbformat_minor": 5
}
