{
 "cells": [
  {
   "cell_type": "markdown",
   "id": "8ef5951e-e150-4cdd-a071-e9d7c440ff45",
   "metadata": {},
   "source": [
    "Collect and extract features from socrates excel file collection"
   ]
  },
  {
   "cell_type": "code",
   "execution_count": null,
   "id": "d05844d5",
   "metadata": {},
   "outputs": [],
   "source": [
    "from pathlib import Path\n",
    "from datetime import datetime\n",
    "import time,sys\n",
    "from pathlib import Path\n",
    "import pickle\n",
    "import pandas as pd\n",
    "\n"
   ]
  },
  {
   "cell_type": "markdown",
   "id": "6c127d71",
   "metadata": {},
   "source": [
    "# Dictionaries"
   ]
  },
  {
   "cell_type": "code",
   "execution_count": null,
   "id": "563b6222",
   "metadata": {},
   "outputs": [],
   "source": [
    "#socrtas dictionary for emerging terms\n",
    "emerging_dict=pd.read_csv(\"dictionaries - Emerging.csv\")"
   ]
  },
  {
   "cell_type": "code",
   "execution_count": null,
   "id": "8e07b1eb",
   "metadata": {},
   "outputs": [],
   "source": [
    "emerging_dict"
   ]
  },
  {
   "cell_type": "raw",
   "id": "890d10b1-6e42-4083-bf8f-044b138bc849",
   "metadata": {},
   "source": [
    "input: text\n",
    "output: number of words from text in emerging dict normlized to dict size"
   ]
  },
  {
   "cell_type": "code",
   "execution_count": null,
   "id": "0cf91962",
   "metadata": {},
   "outputs": [],
   "source": [
    "def get_emerging_score(text):\n",
    "    score=0\n",
    "    for word in emerging_dict[\"Emergent\"]:\n",
    "        if word in str(text):\n",
    "            score+=1\n",
    "    return score/emerging_dict.shape[0]"
   ]
  },
  {
   "cell_type": "raw",
   "id": "7450534f-3c63-466b-aac3-9646ecb08f0a",
   "metadata": {},
   "source": [
    "input: text\n",
    "output: number of words from text in emerging dict normlized to dict size"
   ]
  },
  {
   "cell_type": "code",
   "execution_count": null,
   "id": "ec237838",
   "metadata": {},
   "outputs": [],
   "source": [
    "#list of countries to calcultae EU region features (unused, may be ised in the future)\n",
    "eu_list=['Ukraine',\n",
    "'France',\n",
    "'Spain',\n",
    "'Sweden',\n",
    "'Germany',\n",
    "'Finland',\n",
    "'Norway',\n",
    "'Poland',\n",
    "'Italy',\n",
    "'United Kingdom',\n",
    "'Romania',\n",
    "'Belarus',\n",
    "'Greece',\n",
    "'Bulgaria',\n",
    "'Iceland',\n",
    "'Portugal',\n",
    "'Denmark',\n",
    "'Hungary',\n",
    "'Serbia',\n",
    "'Austria',\n",
    "'Ireland',\n",
    "'Lithuania',\n",
    "'Latvia',\n",
    "'Croatia',\n",
    "'Bosnia & Herzegovina',\n",
    "'Slovakia',\n",
    "'Estonia',\n",
    "'Netherlands',\n",
    "'Switzerland',\n",
    "'Moldova',\n",
    "'Belgium',\n",
    "'Albania',\n",
    "'North Macedonia',\n",
    "'Slovenia',\n",
    "'Montenegro',\n",
    "'Cyprus',\n",
    "'Luxembourg',\n",
    "'Faroe Islands',\n",
    "'Andorra',\n",
    "'Malta',\n",
    "'Liechtenstein',\n",
    "'Guernsey',\n",
    "'San Marino',\n",
    "'Gibraltar',\n",
    "'Monaco',\n",
    "'Vatican City',\n",
    "'United Kingdom'\n",
    "]"
   ]
  },
  {
   "cell_type": "code",
   "execution_count": null,
   "id": "58878a52",
   "metadata": {},
   "outputs": [],
   "source": [
    "filepath=\"./Socrates/\"\n",
    "files = Path(filepath).rglob(\"*.xlsx\")\n",
    "socrates_feature_df={}\n",
    "\n",
    "i=0\n",
    "for file in list(files):\n",
    "    name=str(file.parts[1])[22:-4]\n",
    "    print(i+start,name)\n",
    "    i+=1\n",
    "    if True:\n",
    "        if name not in socrates_feature_df:\n",
    "            socrates_df={}\n",
    "\n",
    "            df=pd.read_excel(file,\"All Documents\")\n",
    "            socrates_df['socrates_N _of_publications']=df.shape[0]\n",
    "            socrates_df['socrates_N _of_rel_authors']=pd.read_excel(file,\"Top Authors\").shape[0]\n",
    "            socrates_df['socrates_N _of_rel_locations']=pd.read_excel(file,\"Top Affiliation Geographies\").shape[0]\n",
    "            socrates_df['socrates_N_ mentions+emergenc_dic']=pd.read_excel(file,\"Emerging Terms in Text\").sum(axis=0)[2]\n",
    "            socrates_df['socrates_N_ mentions+r&d_dic']=pd.read_excel(file,\"R&D Terms in Text\").sum(axis=0)[2]\n",
    "            socrates_df['socrates_N_ mentions+commercial_dic']=pd.read_excel(file,\"Commercialization Terms in Text\").sum(axis=0)[2]\n",
    "\n",
    "\n",
    "\n",
    "\n",
    "            socrates_feature_df[name]=socrates_df\n",
    "#     voyager_feature_df[name]=get_voyager_stats(voyager_tech_df)"
   ]
  },
  {
   "cell_type": "code",
   "execution_count": null,
   "id": "b325a9c6",
   "metadata": {},
   "outputs": [],
   "source": [
    "df=pd.DataFrame.from_dict(socrates_feature_df).T\n",
    "df.to_excel(\"scorates\")"
   ]
  },
  {
   "cell_type": "code",
   "execution_count": null,
   "id": "42eca975",
   "metadata": {},
   "outputs": [],
   "source": [
    "for name in df.columns:\n",
    "    data_path=f\"features/socrates/{name}/\"\n",
    "    Path(data_path).mkdir(parents=True, exist_ok=True)\n",
    "    print(name,data_path)\n",
    "    df[name].to_frame().to_excel(f\"{data_path}{name}_{datetime.now().strftime('%d%m%Y%H%M%S')}.xlsx\")"
   ]
  },
  {
   "cell_type": "code",
   "execution_count": null,
   "id": "09e39ae9",
   "metadata": {},
   "outputs": [],
   "source": []
  }
 ],
 "metadata": {
  "kernelspec": {
   "display_name": "Python 3 (ipykernel)",
   "language": "python",
   "name": "python3"
  },
  "language_info": {
   "codemirror_mode": {
    "name": "ipython",
    "version": 3
   },
   "file_extension": ".py",
   "mimetype": "text/x-python",
   "name": "python",
   "nbconvert_exporter": "python",
   "pygments_lexer": "ipython3",
   "version": "3.9.12"
  }
 },
 "nbformat": 4,
 "nbformat_minor": 5
}
