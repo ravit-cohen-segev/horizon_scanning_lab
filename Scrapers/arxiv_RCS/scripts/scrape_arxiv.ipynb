{
 "cells": [
  {
   "cell_type": "code",
   "execution_count": 39,
   "metadata": {},
   "outputs": [],
   "source": [
    "import arxiv\n",
    "import pandas as pd"
   ]
  },
  {
   "cell_type": "code",
   "execution_count": 42,
   "metadata": {},
   "outputs": [],
   "source": [
    "search = arxiv.Search(\n",
    "  query = \"emerging\",\n",
    "  max_results = 10,\n",
    "  sort_by = arxiv.SortCriterion.SubmittedDate,\n",
    "  sort_order = arxiv.SortOrder.Descending\n",
    ")\n"
   ]
  },
  {
   "cell_type": "code",
   "execution_count": 43,
   "metadata": {},
   "outputs": [
    {
     "name": "stdout",
     "output_type": "stream",
     "text": [
      "Single-atom anchored novel two-dimensional MoSi2N4 monolayers for efficient electroreduction of CO2 to formic acid and methane\n",
      "Extended Dynamical Mean Field Theory for Correlated Electron Models\n",
      "A proposal for 3d quantum gravity and its bulk factorization\n",
      "CrisisLTLSum: A Benchmark for Local Crisis Event Timeline Extraction and Summarization\n",
      "Emergent macroscopic bistability induced by a single superconducting qubit\n",
      "Periodic solutions of coupled Boussinesq equations and Ostrovsky-type models free from zero-mass contradiction\n",
      "Clustering of Threat Information to Mitigate Information Overload for Computer Emergency Response Teams\n",
      "Policy-Guided Lazy Search with Feedback for Task and Motion Planning\n",
      "The Curious Case of Benign Memorization\n",
      "Three innovations of next-generation antibiotics: evolvability, specificity, and non-immunogenicity\n"
     ]
    }
   ],
   "source": [
    "for result in search.results():\n",
    "  print(result.title)"
   ]
  },
  {
   "cell_type": "code",
   "execution_count": 27,
   "metadata": {},
   "outputs": [
    {
     "data": {
      "text/plain": [
       "'./downloaded-paper.tar.gz'"
      ]
     },
     "execution_count": 27,
     "metadata": {},
     "output_type": "execute_result"
    }
   ],
   "source": [
    "paper = next(search.results())\n",
    "paper.download_source(filename=\"downloaded-paper.tar.gz\")"
   ]
  },
  {
   "cell_type": "code",
   "execution_count": null,
   "metadata": {},
   "outputs": [],
   "source": []
  }
 ],
 "metadata": {
  "kernelspec": {
   "display_name": "Python 3.9.12 ('base')",
   "language": "python",
   "name": "python3"
  },
  "language_info": {
   "codemirror_mode": {
    "name": "ipython",
    "version": 3
   },
   "file_extension": ".py",
   "mimetype": "text/x-python",
   "name": "python",
   "nbconvert_exporter": "python",
   "pygments_lexer": "ipython3",
   "version": "3.9.12"
  },
  "orig_nbformat": 4,
  "vscode": {
   "interpreter": {
    "hash": "ad2bdc8ecc057115af97d19610ffacc2b4e99fae6737bb82f5d7fb13d2f2c186"
   }
  }
 },
 "nbformat": 4,
 "nbformat_minor": 2
}
