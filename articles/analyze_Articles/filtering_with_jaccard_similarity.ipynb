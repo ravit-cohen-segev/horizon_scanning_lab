{
 "cells": [
  {
   "cell_type": "code",
   "execution_count": 66,
   "metadata": {},
   "outputs": [],
   "source": [
    "import numpy as np\n",
    "import pandas as pd\n"
   ]
  },
  {
   "cell_type": "markdown",
   "metadata": {},
   "source": [
    " 1. load techcrunch and reddit posts titles\n"
   ]
  },
  {
   "cell_type": "code",
   "execution_count": 67,
   "metadata": {},
   "outputs": [],
   "source": [
    "crunch_titles_path = r\"C:\\Users\\Ravit\\Documents\\rnd\\horizon_scanning_lab\\Scrapers\\techcrunch_RCS\\scrapped_titles\\techcrunch_scrapped_article_titles.csv\"\n",
    "reddit_titles_path = r\"C:\\Users\\Ravit\\Documents\\rnd\\horizon_scanning_lab\\Scrapers\\reddit_RCS\\first_iteration\\final_results\\after_cleaning\\posts_after_filtering_with_titles.csv\""
   ]
  },
  {
   "cell_type": "code",
   "execution_count": 68,
   "metadata": {},
   "outputs": [],
   "source": [
    "crunch_df = pd.read_csv(crunch_titles_path)"
   ]
  },
  {
   "cell_type": "code",
   "execution_count": 69,
   "metadata": {},
   "outputs": [],
   "source": [
    "reddit_df = pd.read_csv(reddit_titles_path)"
   ]
  },
  {
   "cell_type": "code",
   "execution_count": 70,
   "metadata": {},
   "outputs": [
    {
     "data": {
      "text/html": [
       "<div>\n",
       "<style scoped>\n",
       "    .dataframe tbody tr th:only-of-type {\n",
       "        vertical-align: middle;\n",
       "    }\n",
       "\n",
       "    .dataframe tbody tr th {\n",
       "        vertical-align: top;\n",
       "    }\n",
       "\n",
       "    .dataframe thead th {\n",
       "        text-align: right;\n",
       "    }\n",
       "</style>\n",
       "<table border=\"1\" class=\"dataframe\">\n",
       "  <thead>\n",
       "    <tr style=\"text-align: right;\">\n",
       "      <th></th>\n",
       "      <th>Unnamed: 0.2</th>\n",
       "      <th>Unnamed: 0.1</th>\n",
       "      <th>Unnamed: 0</th>\n",
       "      <th>domains</th>\n",
       "      <th>posts</th>\n",
       "      <th>upvotes</th>\n",
       "      <th>last_updated</th>\n",
       "      <th>discussion_links</th>\n",
       "      <th>titles</th>\n",
       "    </tr>\n",
       "  </thead>\n",
       "  <tbody>\n",
       "    <tr>\n",
       "      <th>0</th>\n",
       "      <td>0</td>\n",
       "      <td>484</td>\n",
       "      <td>491</td>\n",
       "      <td>3DPrint</td>\n",
       "      <td>Scientists can now build structures with swarm...</td>\n",
       "      <td>755</td>\n",
       "      <td>1 month ago</td>\n",
       "      <td>https://www.globalconstructionreview.com/scien...</td>\n",
       "      <td>Scientists can now build structures with swarm...</td>\n",
       "    </tr>\n",
       "    <tr>\n",
       "      <th>1</th>\n",
       "      <td>1</td>\n",
       "      <td>143</td>\n",
       "      <td>22</td>\n",
       "      <td>3DPrint</td>\n",
       "      <td>Micro 4D printing builds on programmable matte...</td>\n",
       "      <td>1.8k</td>\n",
       "      <td>6 days ago</td>\n",
       "      <td>https://spectrum.ieee.org/4d-printing-microscale</td>\n",
       "      <td>Micro 4D Printing Builds on Programmable Matter</td>\n",
       "    </tr>\n",
       "    <tr>\n",
       "      <th>2</th>\n",
       "      <td>2</td>\n",
       "      <td>252</td>\n",
       "      <td>413</td>\n",
       "      <td>3DPrint</td>\n",
       "      <td>This startup 3D prints tiny homes from recycla...</td>\n",
       "      <td>3.9k</td>\n",
       "      <td>2 months ago</td>\n",
       "      <td>https://interestingengineering.com/innovation/...</td>\n",
       "      <td>This startup 3D prints tiny homes from recycla...</td>\n",
       "    </tr>\n",
       "    <tr>\n",
       "      <th>3</th>\n",
       "      <td>3</td>\n",
       "      <td>259</td>\n",
       "      <td>436</td>\n",
       "      <td>3DPrint</td>\n",
       "      <td>3D-printed OLEDs could soon lead to DIY screens</td>\n",
       "      <td>2.1k</td>\n",
       "      <td>10 months ago</td>\n",
       "      <td>https://arstechnica.com/gadgets/2022/01/3d-pri...</td>\n",
       "      <td>3D-printed OLEDs could soon lead to DIY screens</td>\n",
       "    </tr>\n",
       "    <tr>\n",
       "      <th>4</th>\n",
       "      <td>4</td>\n",
       "      <td>187</td>\n",
       "      <td>153</td>\n",
       "      <td>agriculture</td>\n",
       "      <td>‘A growing machine’: Scotland looks to vertica...</td>\n",
       "      <td>5.3k</td>\n",
       "      <td>1 month ago</td>\n",
       "      <td>https://www.theguardian.com/environment/2022/o...</td>\n",
       "      <td>‘A growing machine’: Scotland looks to vertica...</td>\n",
       "    </tr>\n",
       "    <tr>\n",
       "      <th>...</th>\n",
       "      <td>...</td>\n",
       "      <td>...</td>\n",
       "      <td>...</td>\n",
       "      <td>...</td>\n",
       "      <td>...</td>\n",
       "      <td>...</td>\n",
       "      <td>...</td>\n",
       "      <td>...</td>\n",
       "      <td>...</td>\n",
       "    </tr>\n",
       "    <tr>\n",
       "      <th>703</th>\n",
       "      <td>703</td>\n",
       "      <td>171</td>\n",
       "      <td>115</td>\n",
       "      <td>transportation</td>\n",
       "      <td>Electric vehicles could be charged within 5 mi...</td>\n",
       "      <td>3.8k</td>\n",
       "      <td>23 days ago</td>\n",
       "      <td>https://www.businessinsider.com/evs-nasa-charg...</td>\n",
       "      <td>Electric vehicles could be charged within 5 mi...</td>\n",
       "    </tr>\n",
       "    <tr>\n",
       "      <th>704</th>\n",
       "      <td>704</td>\n",
       "      <td>213</td>\n",
       "      <td>250</td>\n",
       "      <td>transportation</td>\n",
       "      <td>China is testing a magnet-powered floating car...</td>\n",
       "      <td>1.1k</td>\n",
       "      <td>2 months ago</td>\n",
       "      <td>https://www.cnbc.com/2022/09/17/china-testing-...</td>\n",
       "      <td>China is testing a magnet-powered floating car...</td>\n",
       "    </tr>\n",
       "    <tr>\n",
       "      <th>705</th>\n",
       "      <td>705</td>\n",
       "      <td>225</td>\n",
       "      <td>302</td>\n",
       "      <td>transportation</td>\n",
       "      <td>Cheaper electric vehicles coming despite high ...</td>\n",
       "      <td>2.2k</td>\n",
       "      <td>2 months ago</td>\n",
       "      <td>https://apnews.com/article/technology-electric...</td>\n",
       "      <td>Cheaper electric vehicles coming despite high ...</td>\n",
       "    </tr>\n",
       "    <tr>\n",
       "      <th>706</th>\n",
       "      <td>706</td>\n",
       "      <td>527</td>\n",
       "      <td>159</td>\n",
       "      <td>Video Review</td>\n",
       "      <td>[GN] Pure Incompetence: $5,000 Pre-Built PC Fi...</td>\n",
       "      <td>653</td>\n",
       "      <td>12 days ago</td>\n",
       "      <td>https://www.youtube.com/watch?v=ICMKUSff_6I</td>\n",
       "      <td>Please update your browser</td>\n",
       "    </tr>\n",
       "    <tr>\n",
       "      <th>707</th>\n",
       "      <td>707</td>\n",
       "      <td>528</td>\n",
       "      <td>161</td>\n",
       "      <td>Video Review</td>\n",
       "      <td>\"AMD Needs To Cut Prices - Intel Core i5-13600...</td>\n",
       "      <td>615</td>\n",
       "      <td>12 days ago</td>\n",
       "      <td>https://www.youtube.com/watch?v=I7-2ArdYvfA</td>\n",
       "      <td>Please update your browser</td>\n",
       "    </tr>\n",
       "  </tbody>\n",
       "</table>\n",
       "<p>708 rows × 9 columns</p>\n",
       "</div>"
      ],
      "text/plain": [
       "     Unnamed: 0.2  Unnamed: 0.1  Unnamed: 0         domains  \\\n",
       "0               0           484         491         3DPrint   \n",
       "1               1           143          22         3DPrint   \n",
       "2               2           252         413         3DPrint   \n",
       "3               3           259         436         3DPrint   \n",
       "4               4           187         153     agriculture   \n",
       "..            ...           ...         ...             ...   \n",
       "703           703           171         115  transportation   \n",
       "704           704           213         250  transportation   \n",
       "705           705           225         302  transportation   \n",
       "706           706           527         159    Video Review   \n",
       "707           707           528         161    Video Review   \n",
       "\n",
       "                                                 posts upvotes   last_updated  \\\n",
       "0    Scientists can now build structures with swarm...     755    1 month ago   \n",
       "1    Micro 4D printing builds on programmable matte...    1.8k     6 days ago   \n",
       "2    This startup 3D prints tiny homes from recycla...    3.9k   2 months ago   \n",
       "3      3D-printed OLEDs could soon lead to DIY screens    2.1k  10 months ago   \n",
       "4    ‘A growing machine’: Scotland looks to vertica...    5.3k    1 month ago   \n",
       "..                                                 ...     ...            ...   \n",
       "703  Electric vehicles could be charged within 5 mi...    3.8k    23 days ago   \n",
       "704  China is testing a magnet-powered floating car...    1.1k   2 months ago   \n",
       "705  Cheaper electric vehicles coming despite high ...    2.2k   2 months ago   \n",
       "706  [GN] Pure Incompetence: $5,000 Pre-Built PC Fi...     653    12 days ago   \n",
       "707  \"AMD Needs To Cut Prices - Intel Core i5-13600...     615    12 days ago   \n",
       "\n",
       "                                      discussion_links  \\\n",
       "0    https://www.globalconstructionreview.com/scien...   \n",
       "1     https://spectrum.ieee.org/4d-printing-microscale   \n",
       "2    https://interestingengineering.com/innovation/...   \n",
       "3    https://arstechnica.com/gadgets/2022/01/3d-pri...   \n",
       "4    https://www.theguardian.com/environment/2022/o...   \n",
       "..                                                 ...   \n",
       "703  https://www.businessinsider.com/evs-nasa-charg...   \n",
       "704  https://www.cnbc.com/2022/09/17/china-testing-...   \n",
       "705  https://apnews.com/article/technology-electric...   \n",
       "706        https://www.youtube.com/watch?v=ICMKUSff_6I   \n",
       "707        https://www.youtube.com/watch?v=I7-2ArdYvfA   \n",
       "\n",
       "                                                titles  \n",
       "0    Scientists can now build structures with swarm...  \n",
       "1      Micro 4D Printing Builds on Programmable Matter  \n",
       "2    This startup 3D prints tiny homes from recycla...  \n",
       "3      3D-printed OLEDs could soon lead to DIY screens  \n",
       "4    ‘A growing machine’: Scotland looks to vertica...  \n",
       "..                                                 ...  \n",
       "703  Electric vehicles could be charged within 5 mi...  \n",
       "704  China is testing a magnet-powered floating car...  \n",
       "705  Cheaper electric vehicles coming despite high ...  \n",
       "706                         Please update your browser  \n",
       "707                         Please update your browser  \n",
       "\n",
       "[708 rows x 9 columns]"
      ]
     },
     "execution_count": 70,
     "metadata": {},
     "output_type": "execute_result"
    }
   ],
   "source": [
    "reddit_df"
   ]
  },
  {
   "cell_type": "code",
   "execution_count": 71,
   "metadata": {},
   "outputs": [],
   "source": [
    "\n",
    "reddit_df.columns = ['Unnamed: 0.2', 'Unnamed: 0.1', 'Unnamed: 0', 'domains', 'posts',\n",
    "       'upvotes', 'last_updated', 'link', 'title']"
   ]
  },
  {
   "cell_type": "code",
   "execution_count": 72,
   "metadata": {},
   "outputs": [
    {
     "data": {
      "text/html": [
       "<div>\n",
       "<style scoped>\n",
       "    .dataframe tbody tr th:only-of-type {\n",
       "        vertical-align: middle;\n",
       "    }\n",
       "\n",
       "    .dataframe tbody tr th {\n",
       "        vertical-align: top;\n",
       "    }\n",
       "\n",
       "    .dataframe thead th {\n",
       "        text-align: right;\n",
       "    }\n",
       "</style>\n",
       "<table border=\"1\" class=\"dataframe\">\n",
       "  <thead>\n",
       "    <tr style=\"text-align: right;\">\n",
       "      <th></th>\n",
       "      <th>Unnamed: 0</th>\n",
       "      <th>domain</th>\n",
       "      <th>link</th>\n",
       "      <th>title</th>\n",
       "    </tr>\n",
       "  </thead>\n",
       "  <tbody>\n",
       "    <tr>\n",
       "      <th>0</th>\n",
       "      <td>0</td>\n",
       "      <td>Agriculture</td>\n",
       "      <td>https://techcrunch.com/2022/10/07/if-its-agtec...</td>\n",
       "      <td>If it’s agtech, it’s climate change: How the c...</td>\n",
       "    </tr>\n",
       "    <tr>\n",
       "      <th>1</th>\n",
       "      <td>1</td>\n",
       "      <td>Agriculture</td>\n",
       "      <td>https://techcrunch.com/2022/10/05/7-investors-...</td>\n",
       "      <td>7 investors discuss how agtech can solve agric...</td>\n",
       "    </tr>\n",
       "    <tr>\n",
       "      <th>2</th>\n",
       "      <td>2</td>\n",
       "      <td>Agriculture</td>\n",
       "      <td>https://techcrunch.com/2021/12/16/phytoform-cl...</td>\n",
       "      <td>Phytoform plants $5.7M into climate-resistant ...</td>\n",
       "    </tr>\n",
       "    <tr>\n",
       "      <th>3</th>\n",
       "      <td>3</td>\n",
       "      <td>Agriculture</td>\n",
       "      <td>https://techcrunch.com/2021/09/14/agbiome-land...</td>\n",
       "      <td>AgBiome lands $116M for safer crop protection ...</td>\n",
       "    </tr>\n",
       "    <tr>\n",
       "      <th>4</th>\n",
       "      <td>4</td>\n",
       "      <td>Agriculture</td>\n",
       "      <td>https://techcrunch.com/2019/03/07/vcs-have-gro...</td>\n",
       "      <td>VCs have growing appetite for ‘AgriFood’</td>\n",
       "    </tr>\n",
       "    <tr>\n",
       "      <th>...</th>\n",
       "      <td>...</td>\n",
       "      <td>...</td>\n",
       "      <td>...</td>\n",
       "      <td>...</td>\n",
       "    </tr>\n",
       "    <tr>\n",
       "      <th>201</th>\n",
       "      <td>3</td>\n",
       "      <td>Legal</td>\n",
       "      <td>https://techcrunch.com/2020/10/28/priori-serie...</td>\n",
       "      <td>Priori raises $6.3M to help large companies hi...</td>\n",
       "    </tr>\n",
       "    <tr>\n",
       "      <th>202</th>\n",
       "      <td>4</td>\n",
       "      <td>Legal</td>\n",
       "      <td>https://techcrunch.com/2018/08/17/klarity-uses...</td>\n",
       "      <td>Klarity uses AI to strip drudgery from contrac...</td>\n",
       "    </tr>\n",
       "    <tr>\n",
       "      <th>203</th>\n",
       "      <td>5</td>\n",
       "      <td>Legal</td>\n",
       "      <td>https://techcrunch.com/2018/04/12/helpself-use...</td>\n",
       "      <td>HelpSelf uses simple AI to help those in legal...</td>\n",
       "    </tr>\n",
       "    <tr>\n",
       "      <th>204</th>\n",
       "      <td>6</td>\n",
       "      <td>Legal</td>\n",
       "      <td>https://techcrunch.com/2016/08/23/logikcull-ra...</td>\n",
       "      <td>Logikcull raises $10M to let lawyers analyze d...</td>\n",
       "    </tr>\n",
       "    <tr>\n",
       "      <th>205</th>\n",
       "      <td>7</td>\n",
       "      <td>Legal</td>\n",
       "      <td>https://techcrunch.com/2016/07/19/legalist-is-...</td>\n",
       "      <td>Legalist is making it easier for lawyers to fi...</td>\n",
       "    </tr>\n",
       "  </tbody>\n",
       "</table>\n",
       "<p>206 rows × 4 columns</p>\n",
       "</div>"
      ],
      "text/plain": [
       "     Unnamed: 0       domain  \\\n",
       "0             0  Agriculture   \n",
       "1             1  Agriculture   \n",
       "2             2  Agriculture   \n",
       "3             3  Agriculture   \n",
       "4             4  Agriculture   \n",
       "..          ...          ...   \n",
       "201           3        Legal   \n",
       "202           4        Legal   \n",
       "203           5        Legal   \n",
       "204           6        Legal   \n",
       "205           7        Legal   \n",
       "\n",
       "                                                  link  \\\n",
       "0    https://techcrunch.com/2022/10/07/if-its-agtec...   \n",
       "1    https://techcrunch.com/2022/10/05/7-investors-...   \n",
       "2    https://techcrunch.com/2021/12/16/phytoform-cl...   \n",
       "3    https://techcrunch.com/2021/09/14/agbiome-land...   \n",
       "4    https://techcrunch.com/2019/03/07/vcs-have-gro...   \n",
       "..                                                 ...   \n",
       "201  https://techcrunch.com/2020/10/28/priori-serie...   \n",
       "202  https://techcrunch.com/2018/08/17/klarity-uses...   \n",
       "203  https://techcrunch.com/2018/04/12/helpself-use...   \n",
       "204  https://techcrunch.com/2016/08/23/logikcull-ra...   \n",
       "205  https://techcrunch.com/2016/07/19/legalist-is-...   \n",
       "\n",
       "                                                 title  \n",
       "0    If it’s agtech, it’s climate change: How the c...  \n",
       "1    7 investors discuss how agtech can solve agric...  \n",
       "2    Phytoform plants $5.7M into climate-resistant ...  \n",
       "3    AgBiome lands $116M for safer crop protection ...  \n",
       "4             VCs have growing appetite for ‘AgriFood’  \n",
       "..                                                 ...  \n",
       "201  Priori raises $6.3M to help large companies hi...  \n",
       "202  Klarity uses AI to strip drudgery from contrac...  \n",
       "203  HelpSelf uses simple AI to help those in legal...  \n",
       "204  Logikcull raises $10M to let lawyers analyze d...  \n",
       "205  Legalist is making it easier for lawyers to fi...  \n",
       "\n",
       "[206 rows x 4 columns]"
      ]
     },
     "execution_count": 72,
     "metadata": {},
     "output_type": "execute_result"
    }
   ],
   "source": [
    "crunch_df"
   ]
  },
  {
   "cell_type": "code",
   "execution_count": 23,
   "metadata": {},
   "outputs": [],
   "source": [
    "titles_df = pd.concat([reddit_df[['link', 'title']], crunch_df[['link', 'title']]], axis=0)"
   ]
  },
  {
   "cell_type": "code",
   "execution_count": 27,
   "metadata": {},
   "outputs": [],
   "source": [
    "titles_df.drop_duplicates(inplace=True)"
   ]
  },
  {
   "cell_type": "code",
   "execution_count": 58,
   "metadata": {},
   "outputs": [],
   "source": [
    "titles_df.dropna(axis=0, inplace=True)"
   ]
  },
  {
   "cell_type": "markdown",
   "metadata": {},
   "source": [
    "2. jaccard similarity"
   ]
  },
  {
   "cell_type": "code",
   "execution_count": 60,
   "metadata": {},
   "outputs": [],
   "source": [
    "def jaccard_similarity(x,y):\n",
    "  \"\"\" returns the jaccard similarity between two lists \"\"\"\n",
    "  try:\n",
    "    intersection_cardinality = len(set.intersection(*[set(x), set(y)]))\n",
    "  except:\n",
    "    print('problem')\n",
    "  union_cardinality = len(set.union(*[set(x), set(y)]))\n",
    "  return intersection_cardinality/float(union_cardinality)"
   ]
  },
  {
   "cell_type": "code",
   "execution_count": 61,
   "metadata": {},
   "outputs": [],
   "source": [
    "jaccard_matrix = np.empty((len(titles_df), len(titles_df)))\n",
    "jaccard_matrix[:] = np.nan\n",
    "np.fill_diagonal(jaccard_matrix,1.0)"
   ]
  },
  {
   "cell_type": "code",
   "execution_count": 62,
   "metadata": {},
   "outputs": [
    {
     "data": {
      "text/plain": [
       "array([[ 1., nan, nan, ..., nan, nan, nan],\n",
       "       [nan,  1., nan, ..., nan, nan, nan],\n",
       "       [nan, nan,  1., ..., nan, nan, nan],\n",
       "       ...,\n",
       "       [nan, nan, nan, ...,  1., nan, nan],\n",
       "       [nan, nan, nan, ..., nan,  1., nan],\n",
       "       [nan, nan, nan, ..., nan, nan,  1.]])"
      ]
     },
     "execution_count": 62,
     "metadata": {},
     "output_type": "execute_result"
    }
   ],
   "source": []
  },
  {
   "cell_type": "code",
   "execution_count": null,
   "metadata": {},
   "outputs": [],
   "source": []
  },
  {
   "cell_type": "code",
   "execution_count": 63,
   "metadata": {},
   "outputs": [],
   "source": [
    "all_titles = titles_df['title'].to_list()\n",
    "\n",
    "for i in range(0, len(titles_df)):\n",
    "    for  j in range(0, i):\n",
    "        \n",
    "        jaccard_matrix[int(i),int(j)] = jaccard_similarity(all_titles[int(i)], all_titles[int(j)])\n",
    "        jaccard_matrix[int(j),int(i)] = jaccard_similarity(all_titles[int(i)], all_titles[int(j)])\n",
    "    "
   ]
  },
  {
   "cell_type": "code",
   "execution_count": 64,
   "metadata": {},
   "outputs": [
    {
     "data": {
      "text/plain": [
       "1.0"
      ]
     },
     "execution_count": 64,
     "metadata": {},
     "output_type": "execute_result"
    }
   ],
   "source": [
    "all_titles = titles_df['title'].to_list()\n",
    "jaccard_similarity(all_titles[0], all_titles[0])"
   ]
  },
  {
   "cell_type": "code",
   "execution_count": 65,
   "metadata": {},
   "outputs": [
    {
     "data": {
      "text/plain": [
       "array([[1.        , 0.61538462, 0.68      , ..., 0.57142857, 0.69230769,\n",
       "        0.68      ],\n",
       "       [0.61538462, 1.        , 0.55555556, ..., 0.62962963, 0.51724138,\n",
       "        0.5       ],\n",
       "       [0.68      , 0.55555556, 1.        , ..., 0.57142857, 0.57142857,\n",
       "        0.61538462],\n",
       "       ...,\n",
       "       [0.57142857, 0.62962963, 0.57142857, ..., 1.        , 0.53333333,\n",
       "        0.51724138],\n",
       "       [0.69230769, 0.51724138, 0.57142857, ..., 0.53333333, 1.        ,\n",
       "        0.62962963],\n",
       "       [0.68      , 0.5       , 0.61538462, ..., 0.51724138, 0.62962963,\n",
       "        1.        ]])"
      ]
     },
     "execution_count": 65,
     "metadata": {},
     "output_type": "execute_result"
    }
   ],
   "source": [
    "jaccard_matrix\n",
    "    "
   ]
  },
  {
   "cell_type": "code",
   "execution_count": null,
   "metadata": {},
   "outputs": [],
   "source": []
  }
 ],
 "metadata": {
  "kernelspec": {
   "display_name": "Python 3.9.13 ('base')",
   "language": "python",
   "name": "python3"
  },
  "language_info": {
   "codemirror_mode": {
    "name": "ipython",
    "version": 3
   },
   "file_extension": ".py",
   "mimetype": "text/x-python",
   "name": "python",
   "nbconvert_exporter": "python",
   "pygments_lexer": "ipython3",
   "version": "3.9.13"
  },
  "orig_nbformat": 4,
  "vscode": {
   "interpreter": {
    "hash": "ad2bdc8ecc057115af97d19610ffacc2b4e99fae6737bb82f5d7fb13d2f2c186"
   }
  }
 },
 "nbformat": 4,
 "nbformat_minor": 2
}
