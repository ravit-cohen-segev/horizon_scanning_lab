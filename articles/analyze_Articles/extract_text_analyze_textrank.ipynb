{
 "cells": [
  {
   "cell_type": "code",
   "execution_count": 1,
   "metadata": {},
   "outputs": [],
   "source": [
    "import pandas as pd\n",
    "from newspaper import Article\n",
    "import spacy\n",
    "import plotly.express as px\n",
    "import numpy as np\n",
    "import pytextrank"
   ]
  },
  {
   "cell_type": "code",
   "execution_count": 2,
   "metadata": {},
   "outputs": [
    {
     "data": {
      "text/plain": [
       "<pytextrank.base.BaseTextRankFactory at 0x25ef5f209a0>"
      ]
     },
     "execution_count": 2,
     "metadata": {},
     "output_type": "execute_result"
    }
   ],
   "source": [
    "# load a spaCy model, depending on language, scale, etc.\n",
    "nlp = spacy.load(\"en_core_web_sm\")\n",
    "\n",
    "# add PyTextRank to the spaCy pipeline\n",
    "nlp.add_pipe(\"textrank\")\n"
   ]
  },
  {
   "cell_type": "code",
   "execution_count": 3,
   "metadata": {},
   "outputs": [],
   "source": [
    "url = \"https://www.tomshardware.com/news/lithograhy-tool-russia-7nm-2028\"\n"
   ]
  },
  {
   "cell_type": "code",
   "execution_count": 4,
   "metadata": {},
   "outputs": [],
   "source": [
    "def get_article_text_and_title(url):\n",
    "    article = Article(url)\n",
    "    article.download()\n",
    "    article.parse()\n",
    "    text = article.text\n",
    "    title = article.title\n",
    "    return text, title"
   ]
  },
  {
   "cell_type": "code",
   "execution_count": 5,
   "metadata": {},
   "outputs": [],
   "source": [
    "def analyze_text_textrank(doc, rank_threshold=0.0):\n",
    "    # examine the top-ranked phrases in the document\n",
    "    rank_d = {\"text\":[], \"rank\":[], \"count\":[]}\n",
    "\n",
    "    for phrase in doc._.phrases:\n",
    "        if phrase.rank >= rank_threshold:\n",
    "            rank_d['text'].append(phrase.text)\n",
    "            rank_d['rank'].append(phrase.rank)\n",
    "            rank_d['count'].append(phrase.count)\n",
    "    \n",
    "    return rank_d "
   ]
  },
  {
   "cell_type": "markdown",
   "metadata": {},
   "source": [
    "1. Run an Example"
   ]
  },
  {
   "cell_type": "code",
   "execution_count": 6,
   "metadata": {},
   "outputs": [],
   "source": [
    "def plot_ranks(d):\n",
    "    y_rank = d['rank']\n",
    "    x_index = list(np.arange(len(y_rank)))\n",
    "    fig = px.line(x=x_index, y=y_rank)\n",
    "    fig.show()\n",
    "    "
   ]
  },
  {
   "cell_type": "code",
   "execution_count": 7,
   "metadata": {},
   "outputs": [],
   "source": [
    "text, title = get_article_text_and_title(url)"
   ]
  },
  {
   "cell_type": "code",
   "execution_count": 8,
   "metadata": {},
   "outputs": [],
   "source": [
    "rank_dict = analyze_text_textrank(doc = nlp(text))"
   ]
  },
  {
   "cell_type": "markdown",
   "metadata": {},
   "source": [
    "Elbow plot for rank scores"
   ]
  },
  {
   "cell_type": "code",
   "execution_count": 9,
   "metadata": {},
   "outputs": [
    {
     "data": {
      "application/vnd.plotly.v1+json": {
       "config": {
        "plotlyServerURL": "https://plot.ly"
       },
       "data": [
        {
         "hovertemplate": "x=%{x}<br>y=%{y}<extra></extra>",
         "legendgroup": "",
         "line": {
          "color": "#636efa",
          "dash": "solid"
         },
         "marker": {
          "symbol": "circle"
         },
         "mode": "lines",
         "name": "",
         "orientation": "v",
         "showlegend": false,
         "type": "scatter",
         "x": [
          0,
          1,
          2,
          3,
          4,
          5,
          6,
          7,
          8,
          9,
          10,
          11,
          12,
          13,
          14,
          15,
          16,
          17,
          18,
          19,
          20,
          21,
          22,
          23,
          24,
          25,
          26,
          27,
          28,
          29,
          30,
          31,
          32,
          33,
          34,
          35,
          36,
          37,
          38,
          39,
          40,
          41,
          42,
          43,
          44,
          45,
          46,
          47,
          48,
          49,
          50,
          51,
          52,
          53,
          54,
          55,
          56,
          57,
          58,
          59,
          60,
          61,
          62,
          63,
          64,
          65,
          66,
          67,
          68,
          69,
          70,
          71,
          72,
          73,
          74,
          75,
          76,
          77,
          78,
          79,
          80,
          81,
          82,
          83,
          84,
          85,
          86,
          87,
          88,
          89,
          90,
          91,
          92,
          93,
          94,
          95,
          96,
          97,
          98,
          99,
          100,
          101,
          102,
          103,
          104,
          105,
          106,
          107,
          108,
          109,
          110,
          111,
          112,
          113,
          114,
          115,
          116,
          117,
          118,
          119,
          120,
          121,
          122,
          123,
          124,
          125,
          126,
          127,
          128,
          129,
          130,
          131,
          132,
          133,
          134,
          135,
          136,
          137,
          138,
          139,
          140,
          141,
          142,
          143,
          144,
          145,
          146,
          147,
          148,
          149,
          150,
          151,
          152,
          153,
          154,
          155,
          156,
          157,
          158,
          159,
          160,
          161,
          162,
          163,
          164,
          165,
          166,
          167,
          168,
          169,
          170,
          171,
          172,
          173,
          174,
          175,
          176,
          177,
          178,
          179,
          180,
          181,
          182,
          183,
          184,
          185,
          186,
          187,
          188,
          189,
          190,
          191,
          192,
          193,
          194,
          195,
          196,
          197,
          198,
          199,
          200,
          201,
          202,
          203,
          204,
          205,
          206,
          207,
          208,
          209,
          210,
          211,
          212,
          213,
          214,
          215,
          216,
          217,
          218,
          219,
          220,
          221,
          222,
          223,
          224,
          225,
          226,
          227,
          228,
          229,
          230,
          231,
          232,
          233,
          234,
          235,
          236,
          237,
          238,
          239,
          240,
          241,
          242,
          243
         ],
         "xaxis": "x",
         "y": [
          0.08309074500459526,
          0.07808364890123663,
          0.07804928556415329,
          0.07594291531780394,
          0.07514775305306369,
          0.073823440507069,
          0.07166331460058879,
          0.06665208977144711,
          0.06503272055517095,
          0.06483392175950799,
          0.06439210504823384,
          0.06402985005618084,
          0.061413481609807696,
          0.061413481609807696,
          0.06035834082439505,
          0.059967670852793996,
          0.052315441853877626,
          0.05139745602130305,
          0.04985030700089966,
          0.04977862701029081,
          0.04960990222020404,
          0.048972066968600125,
          0.04869708268604233,
          0.04856421860893712,
          0.04791874085039434,
          0.04742661577206709,
          0.04670694930700382,
          0.046686354154771355,
          0.04580691987511362,
          0.0457113461861359,
          0.04571070880018027,
          0.045437738371171404,
          0.045231517800354615,
          0.044124440550231396,
          0.04375946651218174,
          0.042575055682850554,
          0.041522467757238835,
          0.04130811220263335,
          0.04107892938650226,
          0.04104707761981327,
          0.04103116427337203,
          0.040944338183316505,
          0.04086593529902886,
          0.03966606049601994,
          0.03935359362340889,
          0.039322994657232796,
          0.03912496697079235,
          0.039116011209958564,
          0.03895517952762566,
          0.0389394353834634,
          0.03851649948688306,
          0.038256511553665135,
          0.03792165252963274,
          0.03780613154052294,
          0.037433352035897385,
          0.0372642481067027,
          0.03724861370850839,
          0.037174045763890565,
          0.03715284967776228,
          0.03704831723359209,
          0.03694965398152069,
          0.03683663159503699,
          0.036779460394111244,
          0.03664947513266531,
          0.03606529256994976,
          0.03606529256994976,
          0.03592802771649067,
          0.03549874423187833,
          0.03543652683601075,
          0.03487000985836141,
          0.034701746567522784,
          0.03408669500791945,
          0.03404354706171483,
          0.033728959584582725,
          0.03361968186197264,
          0.033386742203636605,
          0.03336824220169292,
          0.033358553321146824,
          0.03322465621843872,
          0.03312717719619609,
          0.03305686327581745,
          0.03275494410842661,
          0.03259190023377253,
          0.032547608874525825,
          0.032280249751258906,
          0.03216984179962777,
          0.03184318325645849,
          0.030970475241154906,
          0.030880276150507684,
          0.03058963096319579,
          0.03054610866231474,
          0.03024498929482094,
          0.029894741533872688,
          0.029777632877885717,
          0.029741439346627575,
          0.029567939244225416,
          0.02909688317554361,
          0.028987642332607772,
          0.028851417405445903,
          0.028773843767121467,
          0.028558000937891584,
          0.028558000937891584,
          0.028558000937891584,
          0.028453814465472918,
          0.02841359778673261,
          0.028226719233918757,
          0.028090823837302884,
          0.028074682014389344,
          0.027879321889409905,
          0.027743170552422602,
          0.027527399058613216,
          0.027498041341608832,
          0.02726552343265295,
          0.027040133691899046,
          0.02675575432069438,
          0.026190052031158782,
          0.025900482592858674,
          0.02561505994032394,
          0.02561505994032394,
          0.025587307012955973,
          0.025254473044772435,
          0.025184357345803706,
          0.025054553628765273,
          0.02499343905762283,
          0.024827287810060758,
          0.024441283354533473,
          0.024428288631306173,
          0.023936912056543195,
          0.023829409233873083,
          0.02363806009286307,
          0.023522350433387667,
          0.023147797145419424,
          0.02306374502854489,
          0.022836086757733895,
          0.022775305560331496,
          0.022706831312429846,
          0.022522708381703872,
          0.02251851558282585,
          0.021924774124009994,
          0.021702093170643696,
          0.021682542015267224,
          0.021676401523686856,
          0.021674389948545553,
          0.02113886724100773,
          0.020781357841353054,
          0.020410841154276462,
          0.02031256081207016,
          0.02009399908956153,
          0.020069650383948395,
          0.020056874353842704,
          0.019830178833928947,
          0.01917840634964752,
          0.018254512921837253,
          0.018098140044775658,
          0.018098140044775658,
          0.018098140044775658,
          0.017790009077595214,
          0.017745755402511408,
          0.017459356407851945,
          0.01729437018390038,
          0.017281283893247262,
          0.017204397721238163,
          0.01708291024856868,
          0.017080386277861882,
          0.01706791346622943,
          0.01702703385729865,
          0.01680956865854944,
          0.01680956865854944,
          0.01680956865854944,
          0.01680956865854944,
          0.01680956865854944,
          0.016461092833446853,
          0.016138832869464655,
          0.01594750300479389,
          0.015756055017503805,
          0.015586575872030863,
          0.01556359837274891,
          0.015462234099263828,
          0.015412157264106607,
          0.015412157264106607,
          0.015379310530622232,
          0.015379310530622232,
          0.015292338416800591,
          0.015268311128686289,
          0.015268311128686289,
          0.015160191406745347,
          0.014858613458242215,
          0.014556801774708628,
          0.013906395327468157,
          0.013785136353048963,
          0.013604955561554674,
          0.013604955561554674,
          0.013604955561554674,
          0.013604955561554674,
          0.013604955561554674,
          0.013604955561554674,
          0.013332568101444384,
          0.013037363158434385,
          0.012714361005264475,
          0.012355130622816549,
          0.011601132160905714,
          0.011554107313379315,
          0.011467233040309515,
          0.011241130257492028,
          0.011223017898587925,
          0.01105598609553089,
          0.010278976205895112,
          0.010278976205895112,
          0.008789678017793054,
          0.008713227176922989,
          0.008547651907701218,
          0.00839877919814476,
          0.00839877919814476,
          0.00806413129756075,
          0.007118570516179837,
          0.006502590413178168,
          0.006502590413178168,
          0.006283859804621189,
          0.006283859804621189,
          0.006283859804621189,
          0,
          0,
          0,
          0,
          0,
          0,
          0,
          0,
          0,
          0,
          0,
          0,
          0,
          0,
          0,
          0,
          0,
          0,
          0,
          0,
          0,
          0,
          0,
          0
         ],
         "yaxis": "y"
        }
       ],
       "layout": {
        "legend": {
         "tracegroupgap": 0
        },
        "margin": {
         "t": 60
        },
        "template": {
         "data": {
          "bar": [
           {
            "error_x": {
             "color": "#2a3f5f"
            },
            "error_y": {
             "color": "#2a3f5f"
            },
            "marker": {
             "line": {
              "color": "#E5ECF6",
              "width": 0.5
             },
             "pattern": {
              "fillmode": "overlay",
              "size": 10,
              "solidity": 0.2
             }
            },
            "type": "bar"
           }
          ],
          "barpolar": [
           {
            "marker": {
             "line": {
              "color": "#E5ECF6",
              "width": 0.5
             },
             "pattern": {
              "fillmode": "overlay",
              "size": 10,
              "solidity": 0.2
             }
            },
            "type": "barpolar"
           }
          ],
          "carpet": [
           {
            "aaxis": {
             "endlinecolor": "#2a3f5f",
             "gridcolor": "white",
             "linecolor": "white",
             "minorgridcolor": "white",
             "startlinecolor": "#2a3f5f"
            },
            "baxis": {
             "endlinecolor": "#2a3f5f",
             "gridcolor": "white",
             "linecolor": "white",
             "minorgridcolor": "white",
             "startlinecolor": "#2a3f5f"
            },
            "type": "carpet"
           }
          ],
          "choropleth": [
           {
            "colorbar": {
             "outlinewidth": 0,
             "ticks": ""
            },
            "type": "choropleth"
           }
          ],
          "contour": [
           {
            "colorbar": {
             "outlinewidth": 0,
             "ticks": ""
            },
            "colorscale": [
             [
              0,
              "#0d0887"
             ],
             [
              0.1111111111111111,
              "#46039f"
             ],
             [
              0.2222222222222222,
              "#7201a8"
             ],
             [
              0.3333333333333333,
              "#9c179e"
             ],
             [
              0.4444444444444444,
              "#bd3786"
             ],
             [
              0.5555555555555556,
              "#d8576b"
             ],
             [
              0.6666666666666666,
              "#ed7953"
             ],
             [
              0.7777777777777778,
              "#fb9f3a"
             ],
             [
              0.8888888888888888,
              "#fdca26"
             ],
             [
              1,
              "#f0f921"
             ]
            ],
            "type": "contour"
           }
          ],
          "contourcarpet": [
           {
            "colorbar": {
             "outlinewidth": 0,
             "ticks": ""
            },
            "type": "contourcarpet"
           }
          ],
          "heatmap": [
           {
            "colorbar": {
             "outlinewidth": 0,
             "ticks": ""
            },
            "colorscale": [
             [
              0,
              "#0d0887"
             ],
             [
              0.1111111111111111,
              "#46039f"
             ],
             [
              0.2222222222222222,
              "#7201a8"
             ],
             [
              0.3333333333333333,
              "#9c179e"
             ],
             [
              0.4444444444444444,
              "#bd3786"
             ],
             [
              0.5555555555555556,
              "#d8576b"
             ],
             [
              0.6666666666666666,
              "#ed7953"
             ],
             [
              0.7777777777777778,
              "#fb9f3a"
             ],
             [
              0.8888888888888888,
              "#fdca26"
             ],
             [
              1,
              "#f0f921"
             ]
            ],
            "type": "heatmap"
           }
          ],
          "heatmapgl": [
           {
            "colorbar": {
             "outlinewidth": 0,
             "ticks": ""
            },
            "colorscale": [
             [
              0,
              "#0d0887"
             ],
             [
              0.1111111111111111,
              "#46039f"
             ],
             [
              0.2222222222222222,
              "#7201a8"
             ],
             [
              0.3333333333333333,
              "#9c179e"
             ],
             [
              0.4444444444444444,
              "#bd3786"
             ],
             [
              0.5555555555555556,
              "#d8576b"
             ],
             [
              0.6666666666666666,
              "#ed7953"
             ],
             [
              0.7777777777777778,
              "#fb9f3a"
             ],
             [
              0.8888888888888888,
              "#fdca26"
             ],
             [
              1,
              "#f0f921"
             ]
            ],
            "type": "heatmapgl"
           }
          ],
          "histogram": [
           {
            "marker": {
             "pattern": {
              "fillmode": "overlay",
              "size": 10,
              "solidity": 0.2
             }
            },
            "type": "histogram"
           }
          ],
          "histogram2d": [
           {
            "colorbar": {
             "outlinewidth": 0,
             "ticks": ""
            },
            "colorscale": [
             [
              0,
              "#0d0887"
             ],
             [
              0.1111111111111111,
              "#46039f"
             ],
             [
              0.2222222222222222,
              "#7201a8"
             ],
             [
              0.3333333333333333,
              "#9c179e"
             ],
             [
              0.4444444444444444,
              "#bd3786"
             ],
             [
              0.5555555555555556,
              "#d8576b"
             ],
             [
              0.6666666666666666,
              "#ed7953"
             ],
             [
              0.7777777777777778,
              "#fb9f3a"
             ],
             [
              0.8888888888888888,
              "#fdca26"
             ],
             [
              1,
              "#f0f921"
             ]
            ],
            "type": "histogram2d"
           }
          ],
          "histogram2dcontour": [
           {
            "colorbar": {
             "outlinewidth": 0,
             "ticks": ""
            },
            "colorscale": [
             [
              0,
              "#0d0887"
             ],
             [
              0.1111111111111111,
              "#46039f"
             ],
             [
              0.2222222222222222,
              "#7201a8"
             ],
             [
              0.3333333333333333,
              "#9c179e"
             ],
             [
              0.4444444444444444,
              "#bd3786"
             ],
             [
              0.5555555555555556,
              "#d8576b"
             ],
             [
              0.6666666666666666,
              "#ed7953"
             ],
             [
              0.7777777777777778,
              "#fb9f3a"
             ],
             [
              0.8888888888888888,
              "#fdca26"
             ],
             [
              1,
              "#f0f921"
             ]
            ],
            "type": "histogram2dcontour"
           }
          ],
          "mesh3d": [
           {
            "colorbar": {
             "outlinewidth": 0,
             "ticks": ""
            },
            "type": "mesh3d"
           }
          ],
          "parcoords": [
           {
            "line": {
             "colorbar": {
              "outlinewidth": 0,
              "ticks": ""
             }
            },
            "type": "parcoords"
           }
          ],
          "pie": [
           {
            "automargin": true,
            "type": "pie"
           }
          ],
          "scatter": [
           {
            "fillpattern": {
             "fillmode": "overlay",
             "size": 10,
             "solidity": 0.2
            },
            "type": "scatter"
           }
          ],
          "scatter3d": [
           {
            "line": {
             "colorbar": {
              "outlinewidth": 0,
              "ticks": ""
             }
            },
            "marker": {
             "colorbar": {
              "outlinewidth": 0,
              "ticks": ""
             }
            },
            "type": "scatter3d"
           }
          ],
          "scattercarpet": [
           {
            "marker": {
             "colorbar": {
              "outlinewidth": 0,
              "ticks": ""
             }
            },
            "type": "scattercarpet"
           }
          ],
          "scattergeo": [
           {
            "marker": {
             "colorbar": {
              "outlinewidth": 0,
              "ticks": ""
             }
            },
            "type": "scattergeo"
           }
          ],
          "scattergl": [
           {
            "marker": {
             "colorbar": {
              "outlinewidth": 0,
              "ticks": ""
             }
            },
            "type": "scattergl"
           }
          ],
          "scattermapbox": [
           {
            "marker": {
             "colorbar": {
              "outlinewidth": 0,
              "ticks": ""
             }
            },
            "type": "scattermapbox"
           }
          ],
          "scatterpolar": [
           {
            "marker": {
             "colorbar": {
              "outlinewidth": 0,
              "ticks": ""
             }
            },
            "type": "scatterpolar"
           }
          ],
          "scatterpolargl": [
           {
            "marker": {
             "colorbar": {
              "outlinewidth": 0,
              "ticks": ""
             }
            },
            "type": "scatterpolargl"
           }
          ],
          "scatterternary": [
           {
            "marker": {
             "colorbar": {
              "outlinewidth": 0,
              "ticks": ""
             }
            },
            "type": "scatterternary"
           }
          ],
          "surface": [
           {
            "colorbar": {
             "outlinewidth": 0,
             "ticks": ""
            },
            "colorscale": [
             [
              0,
              "#0d0887"
             ],
             [
              0.1111111111111111,
              "#46039f"
             ],
             [
              0.2222222222222222,
              "#7201a8"
             ],
             [
              0.3333333333333333,
              "#9c179e"
             ],
             [
              0.4444444444444444,
              "#bd3786"
             ],
             [
              0.5555555555555556,
              "#d8576b"
             ],
             [
              0.6666666666666666,
              "#ed7953"
             ],
             [
              0.7777777777777778,
              "#fb9f3a"
             ],
             [
              0.8888888888888888,
              "#fdca26"
             ],
             [
              1,
              "#f0f921"
             ]
            ],
            "type": "surface"
           }
          ],
          "table": [
           {
            "cells": {
             "fill": {
              "color": "#EBF0F8"
             },
             "line": {
              "color": "white"
             }
            },
            "header": {
             "fill": {
              "color": "#C8D4E3"
             },
             "line": {
              "color": "white"
             }
            },
            "type": "table"
           }
          ]
         },
         "layout": {
          "annotationdefaults": {
           "arrowcolor": "#2a3f5f",
           "arrowhead": 0,
           "arrowwidth": 1
          },
          "autotypenumbers": "strict",
          "coloraxis": {
           "colorbar": {
            "outlinewidth": 0,
            "ticks": ""
           }
          },
          "colorscale": {
           "diverging": [
            [
             0,
             "#8e0152"
            ],
            [
             0.1,
             "#c51b7d"
            ],
            [
             0.2,
             "#de77ae"
            ],
            [
             0.3,
             "#f1b6da"
            ],
            [
             0.4,
             "#fde0ef"
            ],
            [
             0.5,
             "#f7f7f7"
            ],
            [
             0.6,
             "#e6f5d0"
            ],
            [
             0.7,
             "#b8e186"
            ],
            [
             0.8,
             "#7fbc41"
            ],
            [
             0.9,
             "#4d9221"
            ],
            [
             1,
             "#276419"
            ]
           ],
           "sequential": [
            [
             0,
             "#0d0887"
            ],
            [
             0.1111111111111111,
             "#46039f"
            ],
            [
             0.2222222222222222,
             "#7201a8"
            ],
            [
             0.3333333333333333,
             "#9c179e"
            ],
            [
             0.4444444444444444,
             "#bd3786"
            ],
            [
             0.5555555555555556,
             "#d8576b"
            ],
            [
             0.6666666666666666,
             "#ed7953"
            ],
            [
             0.7777777777777778,
             "#fb9f3a"
            ],
            [
             0.8888888888888888,
             "#fdca26"
            ],
            [
             1,
             "#f0f921"
            ]
           ],
           "sequentialminus": [
            [
             0,
             "#0d0887"
            ],
            [
             0.1111111111111111,
             "#46039f"
            ],
            [
             0.2222222222222222,
             "#7201a8"
            ],
            [
             0.3333333333333333,
             "#9c179e"
            ],
            [
             0.4444444444444444,
             "#bd3786"
            ],
            [
             0.5555555555555556,
             "#d8576b"
            ],
            [
             0.6666666666666666,
             "#ed7953"
            ],
            [
             0.7777777777777778,
             "#fb9f3a"
            ],
            [
             0.8888888888888888,
             "#fdca26"
            ],
            [
             1,
             "#f0f921"
            ]
           ]
          },
          "colorway": [
           "#636efa",
           "#EF553B",
           "#00cc96",
           "#ab63fa",
           "#FFA15A",
           "#19d3f3",
           "#FF6692",
           "#B6E880",
           "#FF97FF",
           "#FECB52"
          ],
          "font": {
           "color": "#2a3f5f"
          },
          "geo": {
           "bgcolor": "white",
           "lakecolor": "white",
           "landcolor": "#E5ECF6",
           "showlakes": true,
           "showland": true,
           "subunitcolor": "white"
          },
          "hoverlabel": {
           "align": "left"
          },
          "hovermode": "closest",
          "mapbox": {
           "style": "light"
          },
          "paper_bgcolor": "white",
          "plot_bgcolor": "#E5ECF6",
          "polar": {
           "angularaxis": {
            "gridcolor": "white",
            "linecolor": "white",
            "ticks": ""
           },
           "bgcolor": "#E5ECF6",
           "radialaxis": {
            "gridcolor": "white",
            "linecolor": "white",
            "ticks": ""
           }
          },
          "scene": {
           "xaxis": {
            "backgroundcolor": "#E5ECF6",
            "gridcolor": "white",
            "gridwidth": 2,
            "linecolor": "white",
            "showbackground": true,
            "ticks": "",
            "zerolinecolor": "white"
           },
           "yaxis": {
            "backgroundcolor": "#E5ECF6",
            "gridcolor": "white",
            "gridwidth": 2,
            "linecolor": "white",
            "showbackground": true,
            "ticks": "",
            "zerolinecolor": "white"
           },
           "zaxis": {
            "backgroundcolor": "#E5ECF6",
            "gridcolor": "white",
            "gridwidth": 2,
            "linecolor": "white",
            "showbackground": true,
            "ticks": "",
            "zerolinecolor": "white"
           }
          },
          "shapedefaults": {
           "line": {
            "color": "#2a3f5f"
           }
          },
          "ternary": {
           "aaxis": {
            "gridcolor": "white",
            "linecolor": "white",
            "ticks": ""
           },
           "baxis": {
            "gridcolor": "white",
            "linecolor": "white",
            "ticks": ""
           },
           "bgcolor": "#E5ECF6",
           "caxis": {
            "gridcolor": "white",
            "linecolor": "white",
            "ticks": ""
           }
          },
          "title": {
           "x": 0.05
          },
          "xaxis": {
           "automargin": true,
           "gridcolor": "white",
           "linecolor": "white",
           "ticks": "",
           "title": {
            "standoff": 15
           },
           "zerolinecolor": "white",
           "zerolinewidth": 2
          },
          "yaxis": {
           "automargin": true,
           "gridcolor": "white",
           "linecolor": "white",
           "ticks": "",
           "title": {
            "standoff": 15
           },
           "zerolinecolor": "white",
           "zerolinewidth": 2
          }
         }
        },
        "xaxis": {
         "anchor": "y",
         "domain": [
          0,
          1
         ],
         "title": {
          "text": "x"
         }
        },
        "yaxis": {
         "anchor": "x",
         "domain": [
          0,
          1
         ],
         "title": {
          "text": "y"
         }
        }
       }
      }
     },
     "metadata": {},
     "output_type": "display_data"
    }
   ],
   "source": [
    "plot_ranks(rank_dict)"
   ]
  },
  {
   "cell_type": "code",
   "execution_count": 10,
   "metadata": {},
   "outputs": [],
   "source": [
    "threshold_rank = 0.05"
   ]
  },
  {
   "cell_type": "code",
   "execution_count": 11,
   "metadata": {},
   "outputs": [],
   "source": [
    "path_reddit = r\"C:\\Users\\Ravit\\Documents\\rnd\\horizon_scanning_lab\\Scrapers\\reddit_RCS\\first_iteration\\final_results\\after_cleaning\\posts_after_filtering_with_titles.csv\"\n",
    "path_techcrunch = r\"C:\\Users\\Ravit\\Documents\\rnd\\horizon_scanning_lab\\Scrapers\\techcrunch_RCS\\scrapped_titles\\techcrunch_scrapped_article_titles.csv\"\n",
    "\n",
    "df_reddit = pd.read_csv(path_reddit)\n",
    "df_techcrunch = pd.read_csv(path_techcrunch)"
   ]
  },
  {
   "cell_type": "code",
   "execution_count": 12,
   "metadata": {},
   "outputs": [],
   "source": [
    "reddit_urls = df_reddit['discussion_links'].to_list()\n",
    "crunch_urls = df_techcrunch['link'].to_list()"
   ]
  },
  {
   "cell_type": "code",
   "execution_count": 30,
   "metadata": {},
   "outputs": [],
   "source": [
    "cols_title_df = ['article_keywords', 'title_keywords', 'count']\n",
    "title_df = pd.DataFrame([], columns=cols_title_df)\n",
    "\n",
    "cols_text_df = ['sentence', 'sentence_rank', 'count']\n",
    "text_df = pd.DataFrame([], columns=cols_text_df)\n",
    "\n",
    "df_reddit_ranktext_res = pd.DataFrame()\n",
    "for url in reddit_urls:\n",
    "     text, title = get_article_text_and_title(url)\n",
    "     text_doc = nlp(text)\n",
    "     title_doc = nlp(title)\n",
    "     text_dict = analyze_text_textrank(text_doc, threshold_rank)\n",
    "     title_dict = analyze_text_textrank(title_doc, threshold_rank)\n",
    "\n",
    "     temp_text_df = pd.DataFrame.from_dict(text_dict)\n",
    "     temp_text_df.columns = cols_text_df\n",
    "     temp_text_df['article_link'] = [url]*len(temp_text_df)\n",
    "     text_df = pd.concat([text_df, temp_text_df])\n",
    " \n",
    "     temp_title_df = pd.DataFrame.from_dict(title_dict)\n",
    "     temp_title_df.columns = cols_title_df\n",
    "     temp_title_df['article_link'] = [url]*len(temp_title_df)\n",
    "     title_df = pd.concat([title_df, temp_title_df])"
   ]
  },
  {
   "cell_type": "code",
   "execution_count": 32,
   "metadata": {},
   "outputs": [
    {
     "data": {
      "text/html": [
       "<div>\n",
       "<style scoped>\n",
       "    .dataframe tbody tr th:only-of-type {\n",
       "        vertical-align: middle;\n",
       "    }\n",
       "\n",
       "    .dataframe tbody tr th {\n",
       "        vertical-align: top;\n",
       "    }\n",
       "\n",
       "    .dataframe thead th {\n",
       "        text-align: right;\n",
       "    }\n",
       "</style>\n",
       "<table border=\"1\" class=\"dataframe\">\n",
       "  <thead>\n",
       "    <tr style=\"text-align: right;\">\n",
       "      <th></th>\n",
       "      <th>sentence</th>\n",
       "      <th>sentence_rank</th>\n",
       "      <th>count</th>\n",
       "      <th>article_link</th>\n",
       "    </tr>\n",
       "  </thead>\n",
       "  <tbody>\n",
       "    <tr>\n",
       "      <th>0</th>\n",
       "      <td>outlook dot com</td>\n",
       "      <td>0.170044</td>\n",
       "      <td>1</td>\n",
       "      <td>https://spectrum.ieee.org/4d-printing-microscale</td>\n",
       "    </tr>\n",
       "    <tr>\n",
       "      <th>1</th>\n",
       "      <td>3E69 C4A7 EC91 611B 5C12</td>\n",
       "      <td>0.151674</td>\n",
       "      <td>1</td>\n",
       "      <td>https://spectrum.ieee.org/4d-printing-microscale</td>\n",
       "    </tr>\n",
       "    <tr>\n",
       "      <th>2</th>\n",
       "      <td>edd dot gent</td>\n",
       "      <td>0.150040</td>\n",
       "      <td>1</td>\n",
       "      <td>https://spectrum.ieee.org/4d-printing-microscale</td>\n",
       "    </tr>\n",
       "    <tr>\n",
       "      <th>3</th>\n",
       "      <td>611B 5C12</td>\n",
       "      <td>0.143464</td>\n",
       "      <td>1</td>\n",
       "      <td>https://spectrum.ieee.org/4d-printing-microscale</td>\n",
       "    </tr>\n",
       "    <tr>\n",
       "      <th>4</th>\n",
       "      <td>India</td>\n",
       "      <td>0.120940</td>\n",
       "      <td>2</td>\n",
       "      <td>https://spectrum.ieee.org/4d-printing-microscale</td>\n",
       "    </tr>\n",
       "    <tr>\n",
       "      <th>5</th>\n",
       "      <td>bioscience</td>\n",
       "      <td>0.118011</td>\n",
       "      <td>1</td>\n",
       "      <td>https://spectrum.ieee.org/4d-printing-microscale</td>\n",
       "    </tr>\n",
       "    <tr>\n",
       "      <th>6</th>\n",
       "      <td>emerging technologies</td>\n",
       "      <td>0.107429</td>\n",
       "      <td>1</td>\n",
       "      <td>https://spectrum.ieee.org/4d-printing-microscale</td>\n",
       "    </tr>\n",
       "    <tr>\n",
       "      <th>7</th>\n",
       "      <td>Signal info</td>\n",
       "      <td>0.095036</td>\n",
       "      <td>1</td>\n",
       "      <td>https://spectrum.ieee.org/4d-printing-microscale</td>\n",
       "    </tr>\n",
       "    <tr>\n",
       "      <th>8</th>\n",
       "      <td>Bangalore</td>\n",
       "      <td>0.092654</td>\n",
       "      <td>2</td>\n",
       "      <td>https://spectrum.ieee.org/4d-printing-microscale</td>\n",
       "    </tr>\n",
       "    <tr>\n",
       "      <th>9</th>\n",
       "      <td>energy</td>\n",
       "      <td>0.090589</td>\n",
       "      <td>1</td>\n",
       "      <td>https://spectrum.ieee.org/4d-printing-microscale</td>\n",
       "    </tr>\n",
       "    <tr>\n",
       "      <th>10</th>\n",
       "      <td>engineering</td>\n",
       "      <td>0.081106</td>\n",
       "      <td>1</td>\n",
       "      <td>https://spectrum.ieee.org/4d-printing-microscale</td>\n",
       "    </tr>\n",
       "    <tr>\n",
       "      <th>11</th>\n",
       "      <td>computing</td>\n",
       "      <td>0.076385</td>\n",
       "      <td>1</td>\n",
       "      <td>https://spectrum.ieee.org/4d-printing-microscale</td>\n",
       "    </tr>\n",
       "    <tr>\n",
       "      <th>12</th>\n",
       "      <td>Edd Gent</td>\n",
       "      <td>0.071260</td>\n",
       "      <td>2</td>\n",
       "      <td>https://spectrum.ieee.org/4d-printing-microscale</td>\n",
       "    </tr>\n",
       "    <tr>\n",
       "      <th>13</th>\n",
       "      <td>ABB8</td>\n",
       "      <td>0.064191</td>\n",
       "      <td>1</td>\n",
       "      <td>https://spectrum.ieee.org/4d-printing-microscale</td>\n",
       "    </tr>\n",
       "    <tr>\n",
       "      <th>14</th>\n",
       "      <td>email</td>\n",
       "      <td>0.064191</td>\n",
       "      <td>1</td>\n",
       "      <td>https://spectrum.ieee.org/4d-printing-microscale</td>\n",
       "    </tr>\n",
       "    <tr>\n",
       "      <th>15</th>\n",
       "      <td>a freelance science and technology writer</td>\n",
       "      <td>0.060610</td>\n",
       "      <td>1</td>\n",
       "      <td>https://spectrum.ieee.org/4d-printing-microscale</td>\n",
       "    </tr>\n",
       "    <tr>\n",
       "      <th>16</th>\n",
       "      <td>Signal</td>\n",
       "      <td>0.059709</td>\n",
       "      <td>1</td>\n",
       "      <td>https://spectrum.ieee.org/4d-printing-microscale</td>\n",
       "    </tr>\n",
       "    <tr>\n",
       "      <th>17</th>\n",
       "      <td>His public key</td>\n",
       "      <td>0.057095</td>\n",
       "      <td>1</td>\n",
       "      <td>https://spectrum.ieee.org/4d-printing-microscale</td>\n",
       "    </tr>\n",
       "    <tr>\n",
       "      <th>18</th>\n",
       "      <td>@EddytheGent</td>\n",
       "      <td>0.056664</td>\n",
       "      <td>2</td>\n",
       "      <td>https://spectrum.ieee.org/4d-printing-microscale</td>\n",
       "    </tr>\n",
       "    <tr>\n",
       "      <th>19</th>\n",
       "      <td>193D</td>\n",
       "      <td>0.050019</td>\n",
       "      <td>1</td>\n",
       "      <td>https://spectrum.ieee.org/4d-printing-microscale</td>\n",
       "    </tr>\n",
       "    <tr>\n",
       "      <th>20</th>\n",
       "      <td>DM</td>\n",
       "      <td>0.050019</td>\n",
       "      <td>1</td>\n",
       "      <td>https://spectrum.ieee.org/4d-printing-microscale</td>\n",
       "    </tr>\n",
       "    <tr>\n",
       "      <th>21</th>\n",
       "      <td>PGP</td>\n",
       "      <td>0.050019</td>\n",
       "      <td>1</td>\n",
       "      <td>https://spectrum.ieee.org/4d-printing-microscale</td>\n",
       "    </tr>\n",
       "    <tr>\n",
       "      <th>22</th>\n",
       "      <td>Twitter</td>\n",
       "      <td>0.050019</td>\n",
       "      <td>2</td>\n",
       "      <td>https://spectrum.ieee.org/4d-printing-microscale</td>\n",
       "    </tr>\n",
       "  </tbody>\n",
       "</table>\n",
       "</div>"
      ],
      "text/plain": [
       "                                     sentence  sentence_rank  count  \\\n",
       "0                             outlook dot com       0.170044      1   \n",
       "1                    3E69 C4A7 EC91 611B 5C12       0.151674      1   \n",
       "2                                edd dot gent       0.150040      1   \n",
       "3                                   611B 5C12       0.143464      1   \n",
       "4                                       India       0.120940      2   \n",
       "5                                  bioscience       0.118011      1   \n",
       "6                       emerging technologies       0.107429      1   \n",
       "7                                 Signal info       0.095036      1   \n",
       "8                                   Bangalore       0.092654      2   \n",
       "9                                      energy       0.090589      1   \n",
       "10                                engineering       0.081106      1   \n",
       "11                                  computing       0.076385      1   \n",
       "12                                   Edd Gent       0.071260      2   \n",
       "13                                       ABB8       0.064191      1   \n",
       "14                                      email       0.064191      1   \n",
       "15  a freelance science and technology writer       0.060610      1   \n",
       "16                                     Signal       0.059709      1   \n",
       "17                             His public key       0.057095      1   \n",
       "18                               @EddytheGent       0.056664      2   \n",
       "19                                       193D       0.050019      1   \n",
       "20                                         DM       0.050019      1   \n",
       "21                                        PGP       0.050019      1   \n",
       "22                                    Twitter       0.050019      2   \n",
       "\n",
       "                                        article_link  \n",
       "0   https://spectrum.ieee.org/4d-printing-microscale  \n",
       "1   https://spectrum.ieee.org/4d-printing-microscale  \n",
       "2   https://spectrum.ieee.org/4d-printing-microscale  \n",
       "3   https://spectrum.ieee.org/4d-printing-microscale  \n",
       "4   https://spectrum.ieee.org/4d-printing-microscale  \n",
       "5   https://spectrum.ieee.org/4d-printing-microscale  \n",
       "6   https://spectrum.ieee.org/4d-printing-microscale  \n",
       "7   https://spectrum.ieee.org/4d-printing-microscale  \n",
       "8   https://spectrum.ieee.org/4d-printing-microscale  \n",
       "9   https://spectrum.ieee.org/4d-printing-microscale  \n",
       "10  https://spectrum.ieee.org/4d-printing-microscale  \n",
       "11  https://spectrum.ieee.org/4d-printing-microscale  \n",
       "12  https://spectrum.ieee.org/4d-printing-microscale  \n",
       "13  https://spectrum.ieee.org/4d-printing-microscale  \n",
       "14  https://spectrum.ieee.org/4d-printing-microscale  \n",
       "15  https://spectrum.ieee.org/4d-printing-microscale  \n",
       "16  https://spectrum.ieee.org/4d-printing-microscale  \n",
       "17  https://spectrum.ieee.org/4d-printing-microscale  \n",
       "18  https://spectrum.ieee.org/4d-printing-microscale  \n",
       "19  https://spectrum.ieee.org/4d-printing-microscale  \n",
       "20  https://spectrum.ieee.org/4d-printing-microscale  \n",
       "21  https://spectrum.ieee.org/4d-printing-microscale  \n",
       "22  https://spectrum.ieee.org/4d-printing-microscale  "
      ]
     },
     "execution_count": 32,
     "metadata": {},
     "output_type": "execute_result"
    }
   ],
   "source": [
    "temp_text_df\n"
   ]
  },
  {
   "cell_type": "code",
   "execution_count": null,
   "metadata": {},
   "outputs": [],
   "source": []
  }
 ],
 "metadata": {
  "kernelspec": {
   "display_name": "Python 3.9.12 ('base')",
   "language": "python",
   "name": "python3"
  },
  "language_info": {
   "codemirror_mode": {
    "name": "ipython",
    "version": 3
   },
   "file_extension": ".py",
   "mimetype": "text/x-python",
   "name": "python",
   "nbconvert_exporter": "python",
   "pygments_lexer": "ipython3",
   "version": "3.9.12"
  },
  "orig_nbformat": 4,
  "vscode": {
   "interpreter": {
    "hash": "ad2bdc8ecc057115af97d19610ffacc2b4e99fae6737bb82f5d7fb13d2f2c186"
   }
  }
 },
 "nbformat": 4,
 "nbformat_minor": 2
}
