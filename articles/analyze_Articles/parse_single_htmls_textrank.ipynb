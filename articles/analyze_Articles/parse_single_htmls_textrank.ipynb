{
 "cells": [
  {
   "cell_type": "code",
   "execution_count": 98,
   "metadata": {},
   "outputs": [],
   "source": [
    "import pandas as pd\n",
    "import codecs\n",
    "import os\n",
    "import numpy as np\n",
    "import pytextrank\n",
    "import spacy\n",
    "from bs4 import BeautifulSoup\n"
   ]
  },
  {
   "cell_type": "code",
   "execution_count": 99,
   "metadata": {},
   "outputs": [
    {
     "data": {
      "text/plain": [
       "<pytextrank.base.BaseTextRankFactory at 0x270f8410d90>"
      ]
     },
     "execution_count": 99,
     "metadata": {},
     "output_type": "execute_result"
    }
   ],
   "source": [
    "# load a spaCy model, depending on language, scale, etc.\n",
    "nlp = spacy.load(\"en_core_web_sm\")\n",
    "\n",
    "# add PyTextRank to the spaCy pipeline\n",
    "nlp.add_pipe(\"textrank\")\n"
   ]
  },
  {
   "cell_type": "code",
   "execution_count": 101,
   "metadata": {},
   "outputs": [],
   "source": [
    "def get_html_return_soup(html_path):\n",
    "    f=codecs.open(html_path, 'r', encoding=\"utf8\")  \n",
    "    html = f.read()\n",
    "    return BeautifulSoup(html)"
   ]
  },
  {
   "cell_type": "code",
   "execution_count": 102,
   "metadata": {},
   "outputs": [],
   "source": [
    "def analyze_text_textrank(doc, rank_threshold=0.0):\n",
    "    # examine the top-ranked phrases in the document\n",
    "    rank_d = {\"text\":[], \"rank\":[], \"count\":[]}\n",
    "\n",
    "    for phrase in doc._.phrases:\n",
    "        if phrase.rank >= rank_threshold:\n",
    "            rank_d['text'].append(phrase.text)\n",
    "            rank_d['rank'].append(phrase.rank)\n",
    "            rank_d['count'].append(phrase.count)\n",
    "    \n",
    "    return rank_d "
   ]
  },
  {
   "cell_type": "code",
   "execution_count": 115,
   "metadata": {},
   "outputs": [],
   "source": [
    "path = r\"C:\\Users\\Ravit\\Documents\\rnd\\horizon_scanning_lab\\articles\\analyze_Articles\\reddit_articles_analysis\"\n",
    "html1_path = os.path.join(path, \"Harvard Engineers Invent a Solid-State Battery That Never Dies, It's a Game Changer.html\")\n",
    "html2_path = os.path.join(path, \"In situ resource utilization of lunar soil for highly efficient extraterrestrial fuel and oxygen supply _ National Science Review _ Oxford Academic.html\")\n",
    "html3_path = os.path.join(path, \"3.htm\")"
   ]
  },
  {
   "cell_type": "code",
   "execution_count": 116,
   "metadata": {},
   "outputs": [],
   "source": [
    "soup1 = get_html_return_soup(html1_path)\n",
    "soup2 = get_html_return_soup(html2_path)\n",
    "soup3 = get_html_return_soup(html3_path)"
   ]
  },
  {
   "cell_type": "code",
   "execution_count": 117,
   "metadata": {},
   "outputs": [],
   "source": [
    "title1 = soup1.find(\"h1\").text\n",
    "body1 = soup1.find(\"div\", {\"itemprop\":\"articleBody\"})\n",
    "text1 = \"\".join([el.text.strip('\\n').strip('\\t') for el in body1 ]) "
   ]
  },
  {
   "cell_type": "code",
   "execution_count": 118,
   "metadata": {},
   "outputs": [],
   "source": [
    "title2 = soup2.find(\"h1\").text.strip('\\r\\n ').strip('\\n')\n",
    "body2 = soup2.find(\"section\", {\"class\":\"abstract\"})\n",
    "text2 = \"\".join([el.text for el in body2 ]) "
   ]
  },
  {
   "cell_type": "code",
   "execution_count": 119,
   "metadata": {},
   "outputs": [],
   "source": [
    "title3 = soup3.find_all(\"meta\")[15]['content']"
   ]
  },
  {
   "cell_type": "code",
   "execution_count": 126,
   "metadata": {},
   "outputs": [],
   "source": [
    "text3 = soup3.find_all(\"meta\")[16]['content']"
   ]
  },
  {
   "cell_type": "code",
   "execution_count": 11,
   "metadata": {},
   "outputs": [],
   "source": [
    "threshold_rank = 0.05"
   ]
  },
  {
   "cell_type": "code",
   "execution_count": 135,
   "metadata": {},
   "outputs": [],
   "source": [
    "all_titles = [title1, title2, title3]\n",
    "all_texts = [text1, text2, text3]\n",
    "all_urls = [\"https://www.autoevolution.com/news/harvard-engineers-invent-a-solid-state-battery-that-never-dies-it-s-a-game-changer-198518.html\"\n",
    ",\"https://academic.oup.com/nsr/advance-article/doi/10.1093/nsr/nwac200/6712344?login=false\"\n",
    ",\"https://www.fiercebiotech.com/research/ut-austin-scientists-design-safer-cas9-improved-crispr-gene-editing-accuracy\"\n",
    "]"
   ]
  },
  {
   "cell_type": "code",
   "execution_count": 137,
   "metadata": {},
   "outputs": [],
   "source": [
    "threshold_rank = 0.05\n",
    "\n",
    "cols_title_df = ['article_keywords', 'title_keywords', 'count']\n",
    "title_df = pd.DataFrame([], columns=cols_title_df)\n",
    "\n",
    "cols_text_df = ['sentence', 'sentence_rank', 'count']\n",
    "text_df = pd.DataFrame([], columns=cols_text_df)\n",
    "\n",
    "\n",
    "for url, title, text in zip(all_urls, all_titles, all_texts):\n",
    "     text_doc = nlp(text)\n",
    "     title_doc = nlp(title)\n",
    "     text_dict = analyze_text_textrank(text_doc, threshold_rank)\n",
    "     title_dict = analyze_text_textrank(title_doc, threshold_rank)\n",
    "\n",
    "     temp_text_df = pd.DataFrame.from_dict(text_dict)\n",
    "     temp_text_df.columns = cols_text_df\n",
    "     temp_text_df['article_link'] = [url]*len(temp_text_df)\n",
    "     text_df = pd.concat([text_df, temp_text_df])\n",
    " \n",
    "     temp_title_df = pd.DataFrame.from_dict(title_dict)\n",
    "     temp_title_df.columns = cols_title_df\n",
    "     temp_title_df['article_link'] = [url]*len(temp_title_df)\n",
    "     title_df = pd.concat([title_df, temp_title_df])"
   ]
  },
  {
   "cell_type": "code",
   "execution_count": 139,
   "metadata": {},
   "outputs": [],
   "source": [
    "title_df.to_csv(r\"C:\\Users\\Ravit\\Documents\\rnd\\horizon_scanning_lab\\articles\\analyze_Articles\\reddit_articles_analysis\\resolved_prob_urls\\titles2.csv\")\n",
    "text_df.to_csv(r\"C:\\Users\\Ravit\\Documents\\rnd\\horizon_scanning_lab\\articles\\analyze_Articles\\reddit_articles_analysis\\resolved_prob_urls\\texts2.csv\")\n"
   ]
  },
  {
   "cell_type": "code",
   "execution_count": null,
   "metadata": {},
   "outputs": [],
   "source": []
  }
 ],
 "metadata": {
  "kernelspec": {
   "display_name": "Python 3.9.12 ('base')",
   "language": "python",
   "name": "python3"
  },
  "language_info": {
   "codemirror_mode": {
    "name": "ipython",
    "version": 3
   },
   "file_extension": ".py",
   "mimetype": "text/x-python",
   "name": "python",
   "nbconvert_exporter": "python",
   "pygments_lexer": "ipython3",
   "version": "3.9.13"
  },
  "orig_nbformat": 4,
  "vscode": {
   "interpreter": {
    "hash": "ad2bdc8ecc057115af97d19610ffacc2b4e99fae6737bb82f5d7fb13d2f2c186"
   }
  }
 },
 "nbformat": 4,
 "nbformat_minor": 2
}
