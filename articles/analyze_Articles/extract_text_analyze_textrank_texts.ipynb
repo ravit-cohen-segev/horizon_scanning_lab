{
 "cells": [
  {
   "cell_type": "code",
   "execution_count": 42,
   "metadata": {},
   "outputs": [],
   "source": [
    "import pandas as pd\n",
    "from newspaper import Article\n",
    "import spacy\n",
    "import plotly.express as px\n",
    "import numpy as np\n",
    "import pytextrank"
   ]
  },
  {
   "cell_type": "code",
   "execution_count": 43,
   "metadata": {},
   "outputs": [
    {
     "data": {
      "text/plain": [
       "<pytextrank.base.BaseTextRankFactory at 0x13a290e0dc0>"
      ]
     },
     "execution_count": 43,
     "metadata": {},
     "output_type": "execute_result"
    }
   ],
   "source": [
    "# load a spaCy model, depending on language, scale, etc.\n",
    "nlp = spacy.load(\"en_core_web_sm\")\n",
    "\n",
    "# add PyTextRank to the spaCy pipeline\n",
    "nlp.add_pipe(\"textrank\")\n"
   ]
  },
  {
   "cell_type": "code",
   "execution_count": 44,
   "metadata": {},
   "outputs": [],
   "source": [
    "def get_article_abstract(url):\n",
    "    article = Article(url)\n",
    "    article.download()\n",
    "    article.parse()\n",
    "    text = article.text\n",
    "    title = article.title\n",
    "    return text"
   ]
  },
  {
   "cell_type": "code",
   "execution_count": 45,
   "metadata": {},
   "outputs": [],
   "source": [
    "def analyze_text_textrank(doc, rank_threshold=0.0):\n",
    "    # examine the top-ranked phrases in the document\n",
    "    rank_d = {\"text\":[], \"rank\":[], \"count\":[]}\n",
    "\n",
    "    for phrase in doc._.phrases:\n",
    "        if phrase.rank >= rank_threshold:\n",
    "            rank_d['text'].append(phrase.text)\n",
    "            rank_d['rank'].append(phrase.rank)\n",
    "            rank_d['count'].append(phrase.count)\n",
    "    \n",
    "    return rank_d "
   ]
  },
  {
   "cell_type": "code",
   "execution_count": 46,
   "metadata": {},
   "outputs": [],
   "source": [
    "def create_df_with_bag_of_words_per_link(ex_df):\n",
    "    \"takes a df with 2 columns, 'article_link' and a text column either called 'article_keywords\"\n",
    "    \"and returns a df with bag of words for each link\"\n",
    "    text_col = 'article_keywords'\n",
    "    return ex_df.groupby('article_link')[text_col].unique().str.join(' ')"
   ]
  },
  {
   "cell_type": "markdown",
   "metadata": {},
   "source": [
    "1. Run an Example"
   ]
  },
  {
   "cell_type": "code",
   "execution_count": 47,
   "metadata": {},
   "outputs": [],
   "source": [
    "#read links from titles that were filtered with jaccard and textrank \n",
    "path = r\"C:\\Users\\Ravit\\Documents\\rnd\\horizon_scanning_lab\\articles\\analyze_Articles\\final_results\\titles_textrank_before_final_filtering.csv\""
   ]
  },
  {
   "cell_type": "code",
   "execution_count": 48,
   "metadata": {},
   "outputs": [],
   "source": [
    "df  = pd.read_csv(path,encoding='cp1252')"
   ]
  },
  {
   "cell_type": "code",
   "execution_count": 49,
   "metadata": {},
   "outputs": [
    {
     "data": {
      "text/html": [
       "<div>\n",
       "<style scoped>\n",
       "    .dataframe tbody tr th:only-of-type {\n",
       "        vertical-align: middle;\n",
       "    }\n",
       "\n",
       "    .dataframe tbody tr th {\n",
       "        vertical-align: top;\n",
       "    }\n",
       "\n",
       "    .dataframe thead th {\n",
       "        text-align: right;\n",
       "    }\n",
       "</style>\n",
       "<table border=\"1\" class=\"dataframe\">\n",
       "  <thead>\n",
       "    <tr style=\"text-align: right;\">\n",
       "      <th></th>\n",
       "      <th>article_link</th>\n",
       "      <th>article_keywords</th>\n",
       "    </tr>\n",
       "  </thead>\n",
       "  <tbody>\n",
       "    <tr>\n",
       "      <th>0</th>\n",
       "      <td>http://jhr.uwpress.org/content/early/2022/10/0...</td>\n",
       "      <td>Cumulative Lead Exposure Reduces Academic Achi...</td>\n",
       "    </tr>\n",
       "    <tr>\n",
       "      <th>1</th>\n",
       "      <td>http://www.exeter.ac.uk/news/research/title_93...</td>\n",
       "      <td>better adult blue spaces Positive childhood ex...</td>\n",
       "    </tr>\n",
       "    <tr>\n",
       "      <th>2</th>\n",
       "      <td>https://9to5mac.com/2022/10/25/apple-watch-blo...</td>\n",
       "      <td>Apple Watch blood oxygen sensor Apple Watch â€...</td>\n",
       "    </tr>\n",
       "    <tr>\n",
       "      <th>3</th>\n",
       "      <td>https://9to5mac.com/2022/10/27/apple-cant-make...</td>\n",
       "      <td>demand enough iPhone 14 Pros Apple Tim Cook iP...</td>\n",
       "    </tr>\n",
       "    <tr>\n",
       "      <th>4</th>\n",
       "      <td>https://aacrjournals.org/clincancerres/article...</td>\n",
       "      <td>Clinical Oncology Cancer Research Electronic N...</td>\n",
       "    </tr>\n",
       "    <tr>\n",
       "      <th>...</th>\n",
       "      <td>...</td>\n",
       "      <td>...</td>\n",
       "    </tr>\n",
       "    <tr>\n",
       "      <th>637</th>\n",
       "      <td>https://www.youtube.com/watch?v=mQ1ln7zxpA4</td>\n",
       "      <td>your browser</td>\n",
       "    </tr>\n",
       "    <tr>\n",
       "      <th>638</th>\n",
       "      <td>https://www.zdnet.com/article/criminals-are-us...</td>\n",
       "      <td>drones trucks GPS jammers them</td>\n",
       "    </tr>\n",
       "    <tr>\n",
       "      <th>639</th>\n",
       "      <td>https://www.zdnet.com/article/nasa-develops-a-...</td>\n",
       "      <td>water the Moon NASA NASAs new tiny, high-power...</td>\n",
       "    </tr>\n",
       "    <tr>\n",
       "      <th>640</th>\n",
       "      <td>https://www.zdnet.com/article/this-nasa-space-...</td>\n",
       "      <td>EV This NASA space tech NASA</td>\n",
       "    </tr>\n",
       "    <tr>\n",
       "      <th>641</th>\n",
       "      <td>https://youtube.com/watch?v=mGARjRBJRX8&amp;featur...</td>\n",
       "      <td>your browser</td>\n",
       "    </tr>\n",
       "  </tbody>\n",
       "</table>\n",
       "<p>642 rows × 2 columns</p>\n",
       "</div>"
      ],
      "text/plain": [
       "                                          article_link  \\\n",
       "0    http://jhr.uwpress.org/content/early/2022/10/0...   \n",
       "1    http://www.exeter.ac.uk/news/research/title_93...   \n",
       "2    https://9to5mac.com/2022/10/25/apple-watch-blo...   \n",
       "3    https://9to5mac.com/2022/10/27/apple-cant-make...   \n",
       "4    https://aacrjournals.org/clincancerres/article...   \n",
       "..                                                 ...   \n",
       "637        https://www.youtube.com/watch?v=mQ1ln7zxpA4   \n",
       "638  https://www.zdnet.com/article/criminals-are-us...   \n",
       "639  https://www.zdnet.com/article/nasa-develops-a-...   \n",
       "640  https://www.zdnet.com/article/this-nasa-space-...   \n",
       "641  https://youtube.com/watch?v=mGARjRBJRX8&featur...   \n",
       "\n",
       "                                      article_keywords  \n",
       "0    Cumulative Lead Exposure Reduces Academic Achi...  \n",
       "1    better adult blue spaces Positive childhood ex...  \n",
       "2    Apple Watch blood oxygen sensor Apple Watch â€...  \n",
       "3    demand enough iPhone 14 Pros Apple Tim Cook iP...  \n",
       "4    Clinical Oncology Cancer Research Electronic N...  \n",
       "..                                                 ...  \n",
       "637                                       your browser  \n",
       "638                     drones trucks GPS jammers them  \n",
       "639  water the Moon NASA NASAs new tiny, high-power...  \n",
       "640                       EV This NASA space tech NASA  \n",
       "641                                       your browser  \n",
       "\n",
       "[642 rows x 2 columns]"
      ]
     },
     "execution_count": 49,
     "metadata": {},
     "output_type": "execute_result"
    }
   ],
   "source": [
    "df"
   ]
  },
  {
   "cell_type": "code",
   "execution_count": 50,
   "metadata": {},
   "outputs": [],
   "source": [
    "urls = df['article_link'].to_list()\n"
   ]
  },
  {
   "cell_type": "code",
   "execution_count": 51,
   "metadata": {},
   "outputs": [
    {
     "data": {
      "text/plain": [
       "'http://jhr.uwpress.org/content/early/2022/10/03/jhr.0222-12169R2.abstract'"
      ]
     },
     "execution_count": 51,
     "metadata": {},
     "output_type": "execute_result"
    }
   ],
   "source": [
    "urls[0]"
   ]
  },
  {
   "cell_type": "code",
   "execution_count": 52,
   "metadata": {},
   "outputs": [
    {
     "data": {
      "text/plain": [
       "'Abstract\\n\\nWe study how ambient lead exposure impacts learning in elementary school by leveraging a natural experiment where a large national automotive racing organization switched from leaded to unleaded fuel. We find increased levels and duration of exposure to lead negatively affect academic performance, shift the entire academic performance distribution, and negatively impact both younger and older children. The average treated student in our setting has an expected income reduction of $5,200 in present value terms. Avoiding said treatment has an effect size similar to improving teacher value added by one-fourth of a standard deviation, reducing class size by 3 students, or increasing school spending per pupil by $750. The marginal impacts of lead are larger in impoverished, non-white counties, and among students with greater duration of exposure, even after controlling for the total quantity of exposure.'"
      ]
     },
     "execution_count": 52,
     "metadata": {},
     "output_type": "execute_result"
    }
   ],
   "source": [
    "get_article_abstract(urls[0])"
   ]
  },
  {
   "cell_type": "code",
   "execution_count": 53,
   "metadata": {},
   "outputs": [],
   "source": [
    "#In case there's a website that's not accessible. Try to scrape from it another way\n",
    "prob_websites = []\n",
    "\n",
    "abstracts = {}\n",
    "for i, url in enumerate(urls):\n",
    "    try:\n",
    "        abstracts[str(i)] = get_article_abstract(url)\n",
    "    except:\n",
    "        prob_websites.append(url)\n",
    "        abstracts[str(i)] = []"
   ]
  },
  {
   "cell_type": "code",
   "execution_count": 54,
   "metadata": {},
   "outputs": [],
   "source": [
    "prob_websites = list(set(prob_websites))"
   ]
  },
  {
   "cell_type": "code",
   "execution_count": 55,
   "metadata": {},
   "outputs": [
    {
     "data": {
      "text/plain": [
       "['https://www.sciencedirect.com/science/article/abs/pii/S009265662200126X',\n",
       " 'https://thehill.com/policy/energy-environment/3685583-nasa-suggests-new-space-cooling-technology-could-charge-electric-cars-in-5-minutes/',\n",
       " 'https://newsroom.unsw.edu.au/news/science-tech/engineers-light-way-toward-bionics-future?utm_source=reddit&utm_medium=social',\n",
       " 'https://techcrunch.com/2022/03/21/to-raise-a-fund-this-agtech-outfit-built-a-content-company-first-now-it-has-60-million-to-put-to-work/',\n",
       " 'https://www.newsweek.com/baby-alpaca-learns-walk-again-prosthetic-leg-adorable-clip-1749410?',\n",
       " 'https://www.sciencedirect.com/science/article/abs/pii/S0025326X22007627?via%3Dihub',\n",
       " 'https://www.sciencedirect.com/science/article/abs/pii/S0925492722001172',\n",
       " 'https://techcrunch.com/2022/03/01/zero-systems-gets-12m-series-a-to-bring-automation-to-professional-services/',\n",
       " 'https://thehill.com/policy/energy-environment/3669504-supreme-court-to-hear-case-that-could-have-massive-impact-on-us-water-quality/',\n",
       " 'https://www.sciencedirect.com/science/article/pii/S0091743522003140',\n",
       " 'https://apnews.com/article/elon-musk-technology-business-artificial-intelligence-tesla-inc-217a2a3320bb0f2e78224994f15ffb11?utm_source=homepage&utm_medium=TopNews&utm_campaign=position_09',\n",
       " 'https://apnews.com/article/technology-european-union-commission-f981003838097a36ff90fc66afeb2d63',\n",
       " 'https://www.cnbc.com/2022/10/09/space-mining-business-still-highly-speculative.html',\n",
       " 'https://www.sciencedirect.com/science/article/pii/S1877050922012777',\n",
       " 'https://www.lightreading.com/security/the-cloud-and-5g-security-apocalypse-is-only-matter-of-time/d/d-id/781259',\n",
       " 'https://www.wsj.com/articles/chinas-factories-accelerate-robotics-push-as-workforce-shrinks-11663493405',\n",
       " 'https://techcrunch.com/2022/05/17/legl-series-b/',\n",
       " 'https://www.abc.net.au/news/science/2022-10-26/extreme-miyake-radiation-events-tree-rings-solar-storms/101563738',\n",
       " 'https://eandt.theiet.org/content/articles/2022/10/climate-change-closing-daily-temperature-gap-clouds-may-be-to-blame/',\n",
       " 'https://techcrunch.com/2022/03/14/supplant-series-b/',\n",
       " 'https://onlinelibrary.wiley.com/doi/full/10.1002/smj.3459',\n",
       " 'https://thehill.com/opinion/technology/3647216-china-has-returned-helium-3-from-the-moon-opening-door-to-future-technology/',\n",
       " 'https://www.uq.edu.au/news/article/2022/09/research-shows-water-fluoridation-safe-children',\n",
       " 'https://cosmosmagazine.com/technology/flow-battery-china/',\n",
       " 'https://www.techdirt.com/2022/10/19/yes-buyout-of-parler-looks-very-much-like-a-failed-company-taking-advantage-of-troubled-rich-guy/',\n",
       " 'https://jamanetwork.com/journals/jamanetworkopen/fullarticle/2798002',\n",
       " 'https://www.sciencedirect.com/science/article/pii/S0306460322002908',\n",
       " 'https://academic.oup.com/eurheartj/advance-article/doi/10.1093/eurheartj/ehac613/6770665?login=false',\n",
       " 'https://techcrunch.com/2022/05/10/robotics-guru-rodney-brooks-and-veos-clara-vu-discuss-human-robot-interaction-at-tc-sessions-robotics-2022/',\n",
       " 'https://academic.oup.com/zoolinnean/advance-article-abstract/doi/10.1093/zoolinnean/zlac089/6768673',\n",
       " 'https://www.techpowerup.com/300395/intel-looking-to-lay-off-meaningful-numbers-of-staff-can-some-products-after-profit-slump',\n",
       " 'https://jamanetwork.com/journals/jama/fullarticle/2797418',\n",
       " 'https://techcrunch.com/2022/03/16/cooks-venture-found-podcast-vc-backed-chicken/',\n",
       " 'https://onlinelibrary.wiley.com/doi/epdf/10.1111/add.15911?%2F%3Futm_source=google&utm_medium=cpc&utm_campaign=Campaign_Sciad_R3MR425_Hybrid_NursingDentistry',\n",
       " 'https://jamanetwork.com/journals/jamanetworkopen/fullarticle/2797204',\n",
       " 'https://agupubs.onlinelibrary.wiley.com/doi/abs/10.1029/2022JD036761',\n",
       " 'https://edition.cnn.com/2022/09/21/tech/florida-supreme-court-social-media/index.html',\n",
       " 'https://www.smithsonianmag.com/smart-news/california-has-legalized-human-composting-180980809/',\n",
       " 'https://www.sciencedirect.com/science/article/pii/S0091743522003115',\n",
       " 'https://edition.cnn.com/2022/10/29/world/emperor-penguins-threatened-species-climate-scn/index.html',\n",
       " 'https://www.techdirt.com/2022/10/26/signal-says-it-will-exit-india-rather-than-compromise-its-encryption/',\n",
       " 'https://techcrunch.com/2022/06/22/zap-energy-nets-160m-series-c-to-advance-its-lightning-in-a-bottle-fusion-tech/',\n",
       " 'https://cleantechnica.com/2022/10/29/researchers-discover-substitutes-for-rare-earth-materials-in-magnets/',\n",
       " 'https://techcrunch.com/2022/05/10/sencrop-predicts-weather-conditions-at-a-microclimate-level-for-farmers/',\n",
       " 'https://www.wsj.com/articles/solar-rollout-rouses-resistance-in-europes-countryside-11665234001',\n",
       " 'https://www.technologynetworks.com/preview/908ada72a5bf446ca2b9f2df6ec95e94',\n",
       " 'https://techcrunch.com/2022/06/09/shield-ai-raises-165m-at-a-2-3b-valuation-to-fuel-development-of-its-military-autonomous-flying-systems/',\n",
       " 'https://www.msn.com/en-us/news/technology/facebook-probably-has-your-phone-number-even-if-you-never-shared-it-now-it-has-a-secret-tool-to-let-you-delete-it/ar-AA13zHAr',\n",
       " 'https://fortune.com/2022/09/02/quantum-computing-cryptography-companies-arms-race/',\n",
       " 'https://journals.sagepub.com/doi/10.1177/09567976221112936',\n",
       " 'https://techcrunch.com/2022/06/10/meet-felix-williams-a-vc-who-started-his-own-firm-at-the-age-of-19/',\n",
       " 'https://journals.sagepub.com/doi/10.1177/00197939221129261',\n",
       " 'https://decrypt.co/113240/gamestop-adds-web3-gaming-nfts-to-marketplace-with-immutable-x',\n",
       " 'https://www.eurekalert.org/news-releases/969839',\n",
       " 'https://www.foodbusinessnews.net/articles/22279-insect-protein-maker-raises-250-million-in-funding-round',\n",
       " 'https://www.science.org/doi/10.1126/sciadv.abq0135',\n",
       " 'https://jamanetwork.com/journals/jamanetworkopen/fullarticle/2797552',\n",
       " 'https://journals.sagepub.com/doi/10.1177/09567976221118541',\n",
       " 'https://eand.co/our-civilization-is-hitting-a-dead-end-because-this-is-the-age-of-extinction-3b960760cf37',\n",
       " 'https://techcrunch.com/2022/04/25/ghanaian-agtech-farmerline-to-use-new-funding-to-strengthen-its-infrastructure-help-farmers-create-wealth/',\n",
       " 'https://www.science.org/doi/10.1126/sciadv.add3726',\n",
       " 'https://techcrunch.com/2022/03/16/legal-tech-startups-bringing-law-order-to-fragmented-industry/',\n",
       " 'https://www.science.org/doi/10.1126/sciadv.abq6974',\n",
       " 'https://arstechnica.com/tech-policy/2022/10/company-that-makes-rent-setting-software-for-landlords-sued-for-collusion/',\n",
       " 'https://www.sciencedirect.com/science/article/pii/S0269749122011022?via%3Dihub']"
      ]
     },
     "execution_count": 55,
     "metadata": {},
     "output_type": "execute_result"
    }
   ],
   "source": [
    "prob_websites"
   ]
  },
  {
   "cell_type": "code",
   "execution_count": 56,
   "metadata": {},
   "outputs": [
    {
     "data": {
      "text/plain": [
       "'www.sciencedirect.com'"
      ]
     },
     "execution_count": 56,
     "metadata": {},
     "output_type": "execute_result"
    }
   ],
   "source": [
    "prob_websites[0].split('/')[2]"
   ]
  },
  {
   "cell_type": "code",
   "execution_count": 57,
   "metadata": {},
   "outputs": [],
   "source": [
    "prob_sources = [url.split('/')[2] for url in prob_websites]"
   ]
  },
  {
   "cell_type": "code",
   "execution_count": 58,
   "metadata": {},
   "outputs": [
    {
     "data": {
      "text/plain": [
       "['www.sciencedirect.com',\n",
       " 'thehill.com',\n",
       " 'newsroom.unsw.edu.au',\n",
       " 'techcrunch.com',\n",
       " 'www.newsweek.com',\n",
       " 'www.sciencedirect.com',\n",
       " 'www.sciencedirect.com',\n",
       " 'techcrunch.com',\n",
       " 'thehill.com',\n",
       " 'www.sciencedirect.com',\n",
       " 'apnews.com',\n",
       " 'apnews.com',\n",
       " 'www.cnbc.com',\n",
       " 'www.sciencedirect.com',\n",
       " 'www.lightreading.com',\n",
       " 'www.wsj.com',\n",
       " 'techcrunch.com',\n",
       " 'www.abc.net.au',\n",
       " 'eandt.theiet.org',\n",
       " 'techcrunch.com',\n",
       " 'onlinelibrary.wiley.com',\n",
       " 'thehill.com',\n",
       " 'www.uq.edu.au',\n",
       " 'cosmosmagazine.com',\n",
       " 'www.techdirt.com',\n",
       " 'jamanetwork.com',\n",
       " 'www.sciencedirect.com',\n",
       " 'academic.oup.com',\n",
       " 'techcrunch.com',\n",
       " 'academic.oup.com',\n",
       " 'www.techpowerup.com',\n",
       " 'jamanetwork.com',\n",
       " 'techcrunch.com',\n",
       " 'onlinelibrary.wiley.com',\n",
       " 'jamanetwork.com',\n",
       " 'agupubs.onlinelibrary.wiley.com',\n",
       " 'edition.cnn.com',\n",
       " 'www.smithsonianmag.com',\n",
       " 'www.sciencedirect.com',\n",
       " 'edition.cnn.com',\n",
       " 'www.techdirt.com',\n",
       " 'techcrunch.com',\n",
       " 'cleantechnica.com',\n",
       " 'techcrunch.com',\n",
       " 'www.wsj.com',\n",
       " 'www.technologynetworks.com',\n",
       " 'techcrunch.com',\n",
       " 'www.msn.com',\n",
       " 'fortune.com',\n",
       " 'journals.sagepub.com',\n",
       " 'techcrunch.com',\n",
       " 'journals.sagepub.com',\n",
       " 'decrypt.co',\n",
       " 'www.eurekalert.org',\n",
       " 'www.foodbusinessnews.net',\n",
       " 'www.science.org',\n",
       " 'jamanetwork.com',\n",
       " 'journals.sagepub.com',\n",
       " 'eand.co',\n",
       " 'techcrunch.com',\n",
       " 'www.science.org',\n",
       " 'techcrunch.com',\n",
       " 'www.science.org',\n",
       " 'arstechnica.com',\n",
       " 'www.sciencedirect.com']"
      ]
     },
     "execution_count": 58,
     "metadata": {},
     "output_type": "execute_result"
    }
   ],
   "source": [
    "prob_sources"
   ]
  },
  {
   "cell_type": "code",
   "execution_count": 78,
   "metadata": {},
   "outputs": [],
   "source": [
    "\n",
    "abstracts = [abs.replace('\\n','') for abs in abstracts]\n",
    "abstracts = [abs.replace('\\t','') for abs in abstracts]"
   ]
  },
  {
   "cell_type": "code",
   "execution_count": 101,
   "metadata": {},
   "outputs": [],
   "source": [
    "abstracts_ = []\n",
    "\n",
    "for abs in abstracts.values():\n",
    "    if abs == []:\n",
    "        abstracts_.append([])\n",
    "    else:\n",
    "        abs = abs.replace('\\n','')\n",
    "        abs = abs.replace('\\t','')\n",
    "        abs = abs.replace('Abstract','')\n",
    "        abstracts_.append(abs)"
   ]
  },
  {
   "cell_type": "code",
   "execution_count": 102,
   "metadata": {},
   "outputs": [],
   "source": [
    "#save prob urls to csv\n",
    "prob_path = r\"C:\\Users\\Ravit\\Documents\\rnd\\horizon_scanning_lab\\articles\\analyze_Articles\\final_results\\tough_urls\\prob_urls.csv\"\n",
    "pd.DataFrame(prob_websites, columns=['links']).to_csv(prob_path)\n",
    "\n",
    "abs_path = r\"C:\\Users\\Ravit\\Documents\\rnd\\horizon_scanning_lab\\articles\\analyze_Articles\\final_results\\abstracts_full.csv\"\n",
    "abstracts_df = pd.DataFrame([], columns=['link', 'abstract'])\n",
    "abstracts_df['link'] = urls\n",
    "abstracts_df['abstract'] = list(abstracts_)\n",
    "abstracts_df.to_csv(abs_path)"
   ]
  },
  {
   "cell_type": "code",
   "execution_count": 103,
   "metadata": {},
   "outputs": [
    {
     "data": {
      "text/html": [
       "<div>\n",
       "<style scoped>\n",
       "    .dataframe tbody tr th:only-of-type {\n",
       "        vertical-align: middle;\n",
       "    }\n",
       "\n",
       "    .dataframe tbody tr th {\n",
       "        vertical-align: top;\n",
       "    }\n",
       "\n",
       "    .dataframe thead th {\n",
       "        text-align: right;\n",
       "    }\n",
       "</style>\n",
       "<table border=\"1\" class=\"dataframe\">\n",
       "  <thead>\n",
       "    <tr style=\"text-align: right;\">\n",
       "      <th></th>\n",
       "      <th>link</th>\n",
       "      <th>abstract</th>\n",
       "    </tr>\n",
       "  </thead>\n",
       "  <tbody>\n",
       "    <tr>\n",
       "      <th>0</th>\n",
       "      <td>http://jhr.uwpress.org/content/early/2022/10/0...</td>\n",
       "      <td>We study how ambient lead exposure impacts lea...</td>\n",
       "    </tr>\n",
       "    <tr>\n",
       "      <th>1</th>\n",
       "      <td>http://www.exeter.ac.uk/news/research/title_93...</td>\n",
       "      <td>Positive childhood experiences of blue spaces ...</td>\n",
       "    </tr>\n",
       "    <tr>\n",
       "      <th>2</th>\n",
       "      <td>https://9to5mac.com/2022/10/25/apple-watch-blo...</td>\n",
       "      <td>A new validation study published this month pu...</td>\n",
       "    </tr>\n",
       "    <tr>\n",
       "      <th>3</th>\n",
       "      <td>https://9to5mac.com/2022/10/27/apple-cant-make...</td>\n",
       "      <td>Apple’s fiscal Q4 earnings are out and while t...</td>\n",
       "    </tr>\n",
       "    <tr>\n",
       "      <th>4</th>\n",
       "      <td>https://aacrjournals.org/clincancerres/article...</td>\n",
       "      <td>Combustible tobacco use has reached historic l...</td>\n",
       "    </tr>\n",
       "    <tr>\n",
       "      <th>...</th>\n",
       "      <td>...</td>\n",
       "      <td>...</td>\n",
       "    </tr>\n",
       "    <tr>\n",
       "      <th>637</th>\n",
       "      <td>https://www.youtube.com/watch?v=mQ1ln7zxpA4</td>\n",
       "      <td></td>\n",
       "    </tr>\n",
       "    <tr>\n",
       "      <th>638</th>\n",
       "      <td>https://www.zdnet.com/article/criminals-are-us...</td>\n",
       "      <td>By PopTika -- ShutterstockSatellite navigation...</td>\n",
       "    </tr>\n",
       "    <tr>\n",
       "      <th>639</th>\n",
       "      <td>https://www.zdnet.com/article/nasa-develops-a-...</td>\n",
       "      <td>Image: NASA/Michael GiuntoPrevious technologie...</td>\n",
       "    </tr>\n",
       "    <tr>\n",
       "      <th>640</th>\n",
       "      <td>https://www.zdnet.com/article/this-nasa-space-...</td>\n",
       "      <td>Image: Getty Images/Jung GettyFully charging a...</td>\n",
       "    </tr>\n",
       "    <tr>\n",
       "      <th>641</th>\n",
       "      <td>https://youtube.com/watch?v=mGARjRBJRX8&amp;featur...</td>\n",
       "      <td></td>\n",
       "    </tr>\n",
       "  </tbody>\n",
       "</table>\n",
       "<p>642 rows × 2 columns</p>\n",
       "</div>"
      ],
      "text/plain": [
       "                                                  link  \\\n",
       "0    http://jhr.uwpress.org/content/early/2022/10/0...   \n",
       "1    http://www.exeter.ac.uk/news/research/title_93...   \n",
       "2    https://9to5mac.com/2022/10/25/apple-watch-blo...   \n",
       "3    https://9to5mac.com/2022/10/27/apple-cant-make...   \n",
       "4    https://aacrjournals.org/clincancerres/article...   \n",
       "..                                                 ...   \n",
       "637        https://www.youtube.com/watch?v=mQ1ln7zxpA4   \n",
       "638  https://www.zdnet.com/article/criminals-are-us...   \n",
       "639  https://www.zdnet.com/article/nasa-develops-a-...   \n",
       "640  https://www.zdnet.com/article/this-nasa-space-...   \n",
       "641  https://youtube.com/watch?v=mGARjRBJRX8&featur...   \n",
       "\n",
       "                                              abstract  \n",
       "0    We study how ambient lead exposure impacts lea...  \n",
       "1    Positive childhood experiences of blue spaces ...  \n",
       "2    A new validation study published this month pu...  \n",
       "3    Apple’s fiscal Q4 earnings are out and while t...  \n",
       "4    Combustible tobacco use has reached historic l...  \n",
       "..                                                 ...  \n",
       "637                                                     \n",
       "638  By PopTika -- ShutterstockSatellite navigation...  \n",
       "639  Image: NASA/Michael GiuntoPrevious technologie...  \n",
       "640  Image: Getty Images/Jung GettyFully charging a...  \n",
       "641                                                     \n",
       "\n",
       "[642 rows x 2 columns]"
      ]
     },
     "execution_count": 103,
     "metadata": {},
     "output_type": "execute_result"
    }
   ],
   "source": [
    "#SEARCH FOR ARTICLE LINKS\n",
    "abstracts_df"
   ]
  },
  {
   "cell_type": "code",
   "execution_count": 104,
   "metadata": {},
   "outputs": [
    {
     "data": {
      "text/plain": [
       "['www.sciencedirect.com',\n",
       " 'thehill.com',\n",
       " 'newsroom.unsw.edu.au',\n",
       " 'techcrunch.com',\n",
       " 'www.newsweek.com',\n",
       " 'www.sciencedirect.com',\n",
       " 'www.sciencedirect.com',\n",
       " 'techcrunch.com',\n",
       " 'thehill.com',\n",
       " 'www.sciencedirect.com',\n",
       " 'apnews.com',\n",
       " 'apnews.com',\n",
       " 'www.cnbc.com',\n",
       " 'www.sciencedirect.com',\n",
       " 'www.lightreading.com',\n",
       " 'www.wsj.com',\n",
       " 'techcrunch.com',\n",
       " 'www.abc.net.au',\n",
       " 'eandt.theiet.org',\n",
       " 'techcrunch.com',\n",
       " 'onlinelibrary.wiley.com',\n",
       " 'thehill.com',\n",
       " 'www.uq.edu.au',\n",
       " 'cosmosmagazine.com',\n",
       " 'www.techdirt.com',\n",
       " 'jamanetwork.com',\n",
       " 'www.sciencedirect.com',\n",
       " 'academic.oup.com',\n",
       " 'techcrunch.com',\n",
       " 'academic.oup.com',\n",
       " 'www.techpowerup.com',\n",
       " 'jamanetwork.com',\n",
       " 'techcrunch.com',\n",
       " 'onlinelibrary.wiley.com',\n",
       " 'jamanetwork.com',\n",
       " 'agupubs.onlinelibrary.wiley.com',\n",
       " 'edition.cnn.com',\n",
       " 'www.smithsonianmag.com',\n",
       " 'www.sciencedirect.com',\n",
       " 'edition.cnn.com',\n",
       " 'www.techdirt.com',\n",
       " 'techcrunch.com',\n",
       " 'cleantechnica.com',\n",
       " 'techcrunch.com',\n",
       " 'www.wsj.com',\n",
       " 'www.technologynetworks.com',\n",
       " 'techcrunch.com',\n",
       " 'www.msn.com',\n",
       " 'fortune.com',\n",
       " 'journals.sagepub.com',\n",
       " 'techcrunch.com',\n",
       " 'journals.sagepub.com',\n",
       " 'decrypt.co',\n",
       " 'www.eurekalert.org',\n",
       " 'www.foodbusinessnews.net',\n",
       " 'www.science.org',\n",
       " 'jamanetwork.com',\n",
       " 'journals.sagepub.com',\n",
       " 'eand.co',\n",
       " 'techcrunch.com',\n",
       " 'www.science.org',\n",
       " 'techcrunch.com',\n",
       " 'www.science.org',\n",
       " 'arstechnica.com',\n",
       " 'www.sciencedirect.com']"
      ]
     },
     "execution_count": 104,
     "metadata": {},
     "output_type": "execute_result"
    }
   ],
   "source": [
    "#try to scrape abstracts from other sources too\n"
   ]
  },
  {
   "cell_type": "code",
   "execution_count": null,
   "metadata": {},
   "outputs": [],
   "source": []
  },
  {
   "cell_type": "code",
   "execution_count": 31,
   "metadata": {},
   "outputs": [],
   "source": [
    "#TODO EXTRACT ABSTRACTS FROM ARTICLES"
   ]
  },
  {
   "cell_type": "code",
   "execution_count": null,
   "metadata": {},
   "outputs": [],
   "source": []
  },
  {
   "cell_type": "code",
   "execution_count": null,
   "metadata": {},
   "outputs": [],
   "source": []
  },
  {
   "cell_type": "code",
   "execution_count": null,
   "metadata": {},
   "outputs": [],
   "source": []
  },
  {
   "cell_type": "code",
   "execution_count": null,
   "metadata": {},
   "outputs": [],
   "source": []
  },
  {
   "cell_type": "code",
   "execution_count": null,
   "metadata": {},
   "outputs": [],
   "source": []
  },
  {
   "cell_type": "code",
   "execution_count": null,
   "metadata": {},
   "outputs": [],
   "source": []
  },
  {
   "cell_type": "code",
   "execution_count": 51,
   "metadata": {},
   "outputs": [],
   "source": [
    "df_abstracts = pd.DataFrame([abstracts]).T"
   ]
  },
  {
   "cell_type": "code",
   "execution_count": 52,
   "metadata": {},
   "outputs": [],
   "source": [
    "#save abstracts to csv\n",
    "abst_save_path = r\"C:\\Users\\Ravit\\Documents\\rnd\\horizon_scanning_lab\\articles\\analyze_Articles\\final_results\\raw_abstracts_before_filtering.csv\"\n",
    "df_abstracts.to_csv(abst_save_path)"
   ]
  },
  {
   "cell_type": "code",
   "execution_count": 53,
   "metadata": {},
   "outputs": [],
   "source": [
    "def plot_ranks(d):\n",
    "    y_rank = d['rank']\n",
    "    x_index = list(np.arange(len(y_rank)))\n",
    "    fig = px.line(x=x_index, y=y_rank)\n",
    "    fig.show()\n",
    "    "
   ]
  },
  {
   "cell_type": "code",
   "execution_count": 59,
   "metadata": {},
   "outputs": [],
   "source": [
    "abst_list = df_abstracts[0].to_list()"
   ]
  },
  {
   "cell_type": "code",
   "execution_count": 83,
   "metadata": {},
   "outputs": [],
   "source": [
    "#remove space and tabs\n",
    "abst_list = [abs.replace('\\n','').replace('\\t', '').replace('/', ' ') for abs in abst_list]"
   ]
  },
  {
   "cell_type": "code",
   "execution_count": 85,
   "metadata": {},
   "outputs": [
    {
     "data": {
      "text/plain": [
       "'In July, an HIV-positive man became the first volunteer in a clinical trial aimed at using Crispr gene editing to snip the AIDS-causing virus out of his cells. For an hour, he was hooked up to an IV bag that pumped the experimental treatment directly into his bloodstream. The one-time infusion is designed to carry the gene-editing tools to the man’s infected cells to clear the virus.Later this month, the volunteer will stop taking the antiretroviral drugs he’s been on to keep the virus at undetectable levels. Then, investigators will wait 12 weeks to see if the virus rebounds. If not, they’ll consider the experiment a success. “What we’re trying to do is return the cell to a near-normal state,” says Daniel Dornbusch, CEO of Excision BioTherapeutics, the San Francisco-based biotech company that’s running the trial.The HIV virus attacks immune cells in the body called CD4 cells and hijacks their machinery to make copies of itself. But some HIV-infected cells can go dormant—sometimes for years—and not actively produce new virus copies. These so-called reservoirs are a major barrier to curing HIV.Advertisement“HIV is a tough foe to fight because it’s able to insert itself into our own DNA, and it’s also able to become silent and reactivate at different points in a person’s life,” says Jonathan Li, a physician at Brigham and Women’s Hospital and HIV researcher at Harvard University who’s not involved with the Crispr trial. Figuring out how to target these reservoirs—and doing it without harming vital CD4 cells—has proven challenging, Li says.While antiretroviral drugs can halt viral replication and clear the virus from the blood, they can’t reach these reservoirs, so people have to take medication every day for the rest of their lives. But Excision BioTherapeutics is hoping that Crispr will remove HIV for good.Crispr is being used in several other studies to treat a handful of conditions that arise from genetic mutations. In those cases, scientists are using Crispr to edit peoples’ own cells. But for the HIV trial, Excision researchers are turning the gene-editing tool against the virus. The Crispr infusion contains gene-editing molecules that target two regions in the HIV genome important for viral replication. The virus can only reproduce if it’s fully intact, so Crispr disrupts that process by cutting out chunks of the genome.In 2019, researchers at Temple University and the University of Nebraska found that using Crispr to delete those regions eliminated HIV from the genomes of rats and mice. A year later, the Temple group also showed that the approach safely removed viral DNA from macaques with SIV, the monkey version of HIV.'"
      ]
     },
     "execution_count": 85,
     "metadata": {},
     "output_type": "execute_result"
    }
   ],
   "source": [
    "abst_list[2]"
   ]
  },
  {
   "cell_type": "code",
   "execution_count": 68,
   "metadata": {},
   "outputs": [],
   "source": [
    "rank_dict = analyze_text_textrank(doc = nlp(abst_list[4]))"
   ]
  },
  {
   "cell_type": "code",
   "execution_count": 69,
   "metadata": {},
   "outputs": [
    {
     "data": {
      "text/plain": [
       "{'text': ['many plant ailments',\n",
       "  'plants',\n",
       "  'new antibiotic compounds',\n",
       "  'other antibiotic compounds',\n",
       "  'fungal disease',\n",
       "  'Dickeya solani',\n",
       "  'new compounds',\n",
       "  'Candida albicans',\n",
       "  'dangerous infections',\n",
       "  'Dr. Rita Monson',\n",
       "  'Candida fungi',\n",
       "  'Rita Monson',\n",
       "  'potatoes',\n",
       "  'Antibiotic resistance',\n",
       "  'solanimycin',\n",
       "  'disease',\n",
       "  'existing antibiotics',\n",
       "  'Most therapeutic antibiotics',\n",
       "  'Candida',\n",
       "  'detail',\n",
       "  'Monson',\n",
       "  'years',\n",
       "  'plant and animal models',\n",
       "  'plant-based microorganisms',\n",
       "  'fungal competitors',\n",
       "  'yeast',\n",
       "  'Computer illustration',\n",
       "  'human and plant health',\n",
       "  'Dickeya',\n",
       "  'Exciting new research',\n",
       "  'Getty Images',\n",
       "  'C. albicans',\n",
       "  'soil microbes',\n",
       "  'clinical settings',\n",
       "  'genes',\n",
       "  'Cambridge',\n",
       "  'a new antifungal antibiotic',\n",
       "  'control',\n",
       "  'Antiobiotic resistance',\n",
       "  'chemists',\n",
       "  'genitals',\n",
       "  'both plants',\n",
       "  'science stories',\n",
       "  'A',\n",
       "  'agriculture',\n",
       "  'The bacteria',\n",
       "  'a bacteria',\n",
       "  'the bacteria',\n",
       "  'millions',\n",
       "  'the bacterium’s genome',\n",
       "  'millions of years',\n",
       "  'Solanimycin',\n",
       "  'Liudmyla Liudmyla/Getty Images',\n",
       "  'Liudmyla Liudmyla',\n",
       "  'a common organism',\n",
       "  'an acidic background',\n",
       "  'science',\n",
       "  'the molecular structure',\n",
       "  'a potato',\n",
       "  'Europe',\n",
       "  'colleagues',\n",
       "  'weekly',\n",
       "  'another antibiotic',\n",
       "  'the study’s authors',\n",
       "  'Cosmos Catch-up',\n",
       "  'the compound',\n",
       "  '15 years',\n",
       "  'once-controlled diseases',\n",
       "  'an effective fungicide',\n",
       "  'the more antibiotic resistance',\n",
       "  'the background',\n",
       "  'a weekly Cosmos Catch-up',\n",
       "  ': Kateryna Koc/Science Photo/Library/Getty Images',\n",
       "  'the University of Cambridge',\n",
       "  'Koc/Science Photo/Library/Getty Images\\n\\n',\n",
       "  'daily',\n",
       "  'the microbial populations',\n",
       "  'the discovery',\n",
       "  'this discovery',\n",
       "  'the genes',\n",
       "  'an arms race',\n",
       "  'Blackleg',\n",
       "  'Credit',\n",
       "  'the University',\n",
       "  'the body',\n",
       "  'a microbiologist',\n",
       "  'the potential',\n",
       "  'over 15 years',\n",
       "  'your inbox',\n",
       "  'both humans',\n",
       "  'the researchers',\n",
       "  'the mouth',\n",
       "  'the search',\n",
       "  'a daily dose',\n",
       "  'the symptoms',\n",
       "  'a worry',\n",
       "  'an antifungal',\n",
       "  'an update',\n",
       "  'It',\n",
       "  'We',\n",
       "  'it',\n",
       "  'itself',\n",
       "  'one',\n",
       "  'that',\n",
       "  'they',\n",
       "  'this',\n",
       "  'us',\n",
       "  'we',\n",
       "  'which',\n",
       "  'you'],\n",
       " 'rank': [0.08815466764321941,\n",
       "  0.08461558573679458,\n",
       "  0.0792427631985435,\n",
       "  0.07671692329736621,\n",
       "  0.0714324010960817,\n",
       "  0.07090715524083989,\n",
       "  0.06995470709134798,\n",
       "  0.06853160840239562,\n",
       "  0.06841467145039055,\n",
       "  0.06801716345714309,\n",
       "  0.06641053535675498,\n",
       "  0.06466611747670105,\n",
       "  0.06424347217055458,\n",
       "  0.06275981009285997,\n",
       "  0.06134993418259115,\n",
       "  0.0610356692550669,\n",
       "  0.06012020251741957,\n",
       "  0.05713609260020676,\n",
       "  0.05667885869468384,\n",
       "  0.056021170414558966,\n",
       "  0.055662522898848946,\n",
       "  0.055550902997334575,\n",
       "  0.05407529619664094,\n",
       "  0.0540081210446064,\n",
       "  0.053486474910850304,\n",
       "  0.053276429022146625,\n",
       "  0.05097091135245706,\n",
       "  0.050778466722845424,\n",
       "  0.049589363022085074,\n",
       "  0.04953372986352239,\n",
       "  0.04917382099823009,\n",
       "  0.046625916718276796,\n",
       "  0.04376764562148234,\n",
       "  0.042562910342178004,\n",
       "  0.04251155543325956,\n",
       "  0.04224946438044278,\n",
       "  0.04223324543257087,\n",
       "  0.04220342004218518,\n",
       "  0.04151058509948484,\n",
       "  0.03968789039855627,\n",
       "  0.03949921830128358,\n",
       "  0.039082264962220975,\n",
       "  0.0383633683098184,\n",
       "  0.037813834463396236,\n",
       "  0.034636022296231826,\n",
       "  0.033230136840125116,\n",
       "  0.033230136840125116,\n",
       "  0.033230136840125116,\n",
       "  0.03303439477874955,\n",
       "  0.03253641092032079,\n",
       "  0.03231553056278649,\n",
       "  0.03217156032705741,\n",
       "  0.03162444588247181,\n",
       "  0.03155358985179327,\n",
       "  0.03150792593534991,\n",
       "  0.031292287180620174,\n",
       "  0.030729819911796883,\n",
       "  0.02989792474335127,\n",
       "  0.029672788761076735,\n",
       "  0.02867006261520109,\n",
       "  0.028520809085208383,\n",
       "  0.02734099781173395,\n",
       "  0.02731525553319919,\n",
       "  0.026967734007088223,\n",
       "  0.02678411124109891,\n",
       "  0.026327076078869263,\n",
       "  0.025657863039390324,\n",
       "  0.02554948688863328,\n",
       "  0.024838294595073432,\n",
       "  0.024156262167601663,\n",
       "  0.022962833169215074,\n",
       "  0.022797727550013518,\n",
       "  0.022404341218925886,\n",
       "  0.021561934118298574,\n",
       "  0.021415939134532273,\n",
       "  0.02121505317351881,\n",
       "  0.02118441245428914,\n",
       "  0.020203003490640133,\n",
       "  0.020203003490640133,\n",
       "  0.019635246378449683,\n",
       "  0.0195649639147961,\n",
       "  0.01935360760897994,\n",
       "  0.01935360760897994,\n",
       "  0.019296680200855176,\n",
       "  0.018961288100713663,\n",
       "  0.018949865730895812,\n",
       "  0.01885885203548747,\n",
       "  0.018632339297030537,\n",
       "  0.018522712353702352,\n",
       "  0.018313747962108034,\n",
       "  0.018023428820576958,\n",
       "  0.017656386655321783,\n",
       "  0.016829762819684357,\n",
       "  0.01602878250301151,\n",
       "  0.015075090764570113,\n",
       "  0.01294870247992215,\n",
       "  0.010126624590343804,\n",
       "  0.009798813328482649,\n",
       "  0.0,\n",
       "  0.0,\n",
       "  0.0,\n",
       "  0.0,\n",
       "  0.0,\n",
       "  0.0,\n",
       "  0.0,\n",
       "  0.0,\n",
       "  0.0,\n",
       "  0.0,\n",
       "  0.0,\n",
       "  0.0],\n",
       " 'count': [1,\n",
       "  1,\n",
       "  1,\n",
       "  1,\n",
       "  1,\n",
       "  2,\n",
       "  1,\n",
       "  1,\n",
       "  1,\n",
       "  1,\n",
       "  1,\n",
       "  1,\n",
       "  2,\n",
       "  1,\n",
       "  3,\n",
       "  1,\n",
       "  1,\n",
       "  1,\n",
       "  2,\n",
       "  1,\n",
       "  4,\n",
       "  1,\n",
       "  1,\n",
       "  1,\n",
       "  1,\n",
       "  1,\n",
       "  1,\n",
       "  1,\n",
       "  2,\n",
       "  1,\n",
       "  1,\n",
       "  1,\n",
       "  1,\n",
       "  1,\n",
       "  1,\n",
       "  1,\n",
       "  1,\n",
       "  1,\n",
       "  1,\n",
       "  1,\n",
       "  1,\n",
       "  1,\n",
       "  1,\n",
       "  2,\n",
       "  1,\n",
       "  1,\n",
       "  1,\n",
       "  3,\n",
       "  1,\n",
       "  1,\n",
       "  1,\n",
       "  2,\n",
       "  1,\n",
       "  1,\n",
       "  1,\n",
       "  1,\n",
       "  1,\n",
       "  1,\n",
       "  2,\n",
       "  1,\n",
       "  1,\n",
       "  1,\n",
       "  1,\n",
       "  1,\n",
       "  1,\n",
       "  1,\n",
       "  1,\n",
       "  1,\n",
       "  1,\n",
       "  1,\n",
       "  1,\n",
       "  1,\n",
       "  1,\n",
       "  1,\n",
       "  1,\n",
       "  1,\n",
       "  1,\n",
       "  1,\n",
       "  1,\n",
       "  1,\n",
       "  1,\n",
       "  1,\n",
       "  1,\n",
       "  1,\n",
       "  1,\n",
       "  1,\n",
       "  1,\n",
       "  1,\n",
       "  1,\n",
       "  1,\n",
       "  1,\n",
       "  1,\n",
       "  1,\n",
       "  1,\n",
       "  1,\n",
       "  1,\n",
       "  1,\n",
       "  1,\n",
       "  1,\n",
       "  1,\n",
       "  3,\n",
       "  1,\n",
       "  1,\n",
       "  2,\n",
       "  3,\n",
       "  2,\n",
       "  1,\n",
       "  3,\n",
       "  2,\n",
       "  2]}"
      ]
     },
     "execution_count": 69,
     "metadata": {},
     "output_type": "execute_result"
    }
   ],
   "source": [
    "rank_dict"
   ]
  },
  {
   "cell_type": "markdown",
   "metadata": {},
   "source": [
    "Elbow plot for rank scores"
   ]
  },
  {
   "cell_type": "code",
   "execution_count": 70,
   "metadata": {},
   "outputs": [
    {
     "data": {
      "application/vnd.plotly.v1+json": {
       "config": {
        "plotlyServerURL": "https://plot.ly"
       },
       "data": [
        {
         "hovertemplate": "x=%{x}<br>y=%{y}<extra></extra>",
         "legendgroup": "",
         "line": {
          "color": "#636efa",
          "dash": "solid"
         },
         "marker": {
          "symbol": "circle"
         },
         "mode": "lines",
         "name": "",
         "orientation": "v",
         "showlegend": false,
         "type": "scatter",
         "x": [
          0,
          1,
          2,
          3,
          4,
          5,
          6,
          7,
          8,
          9,
          10,
          11,
          12,
          13,
          14,
          15,
          16,
          17,
          18,
          19,
          20,
          21,
          22,
          23,
          24,
          25,
          26,
          27,
          28,
          29,
          30,
          31,
          32,
          33,
          34,
          35,
          36,
          37,
          38,
          39,
          40,
          41,
          42,
          43,
          44,
          45,
          46,
          47,
          48,
          49,
          50,
          51,
          52,
          53,
          54,
          55,
          56,
          57,
          58,
          59,
          60,
          61,
          62,
          63,
          64,
          65,
          66,
          67,
          68,
          69,
          70,
          71,
          72,
          73,
          74,
          75,
          76,
          77,
          78,
          79,
          80,
          81,
          82,
          83,
          84,
          85,
          86,
          87,
          88,
          89,
          90,
          91,
          92,
          93,
          94,
          95,
          96,
          97,
          98,
          99,
          100,
          101,
          102,
          103,
          104,
          105,
          106,
          107,
          108,
          109
         ],
         "xaxis": "x",
         "y": [
          0.08815466764321941,
          0.08461558573679458,
          0.0792427631985435,
          0.07671692329736621,
          0.0714324010960817,
          0.07090715524083989,
          0.06995470709134798,
          0.06853160840239562,
          0.06841467145039055,
          0.06801716345714309,
          0.06641053535675498,
          0.06466611747670105,
          0.06424347217055458,
          0.06275981009285997,
          0.06134993418259115,
          0.0610356692550669,
          0.06012020251741957,
          0.05713609260020676,
          0.05667885869468384,
          0.056021170414558966,
          0.055662522898848946,
          0.055550902997334575,
          0.05407529619664094,
          0.0540081210446064,
          0.053486474910850304,
          0.053276429022146625,
          0.05097091135245706,
          0.050778466722845424,
          0.049589363022085074,
          0.04953372986352239,
          0.04917382099823009,
          0.046625916718276796,
          0.04376764562148234,
          0.042562910342178004,
          0.04251155543325956,
          0.04224946438044278,
          0.04223324543257087,
          0.04220342004218518,
          0.04151058509948484,
          0.03968789039855627,
          0.03949921830128358,
          0.039082264962220975,
          0.0383633683098184,
          0.037813834463396236,
          0.034636022296231826,
          0.033230136840125116,
          0.033230136840125116,
          0.033230136840125116,
          0.03303439477874955,
          0.03253641092032079,
          0.03231553056278649,
          0.03217156032705741,
          0.03162444588247181,
          0.03155358985179327,
          0.03150792593534991,
          0.031292287180620174,
          0.030729819911796883,
          0.02989792474335127,
          0.029672788761076735,
          0.02867006261520109,
          0.028520809085208383,
          0.02734099781173395,
          0.02731525553319919,
          0.026967734007088223,
          0.02678411124109891,
          0.026327076078869263,
          0.025657863039390324,
          0.02554948688863328,
          0.024838294595073432,
          0.024156262167601663,
          0.022962833169215074,
          0.022797727550013518,
          0.022404341218925886,
          0.021561934118298574,
          0.021415939134532273,
          0.02121505317351881,
          0.02118441245428914,
          0.020203003490640133,
          0.020203003490640133,
          0.019635246378449683,
          0.0195649639147961,
          0.01935360760897994,
          0.01935360760897994,
          0.019296680200855176,
          0.018961288100713663,
          0.018949865730895812,
          0.01885885203548747,
          0.018632339297030537,
          0.018522712353702352,
          0.018313747962108034,
          0.018023428820576958,
          0.017656386655321783,
          0.016829762819684357,
          0.01602878250301151,
          0.015075090764570113,
          0.01294870247992215,
          0.010126624590343804,
          0.009798813328482649,
          0,
          0,
          0,
          0,
          0,
          0,
          0,
          0,
          0,
          0,
          0,
          0
         ],
         "yaxis": "y"
        }
       ],
       "layout": {
        "legend": {
         "tracegroupgap": 0
        },
        "margin": {
         "t": 60
        },
        "template": {
         "data": {
          "bar": [
           {
            "error_x": {
             "color": "#2a3f5f"
            },
            "error_y": {
             "color": "#2a3f5f"
            },
            "marker": {
             "line": {
              "color": "#E5ECF6",
              "width": 0.5
             },
             "pattern": {
              "fillmode": "overlay",
              "size": 10,
              "solidity": 0.2
             }
            },
            "type": "bar"
           }
          ],
          "barpolar": [
           {
            "marker": {
             "line": {
              "color": "#E5ECF6",
              "width": 0.5
             },
             "pattern": {
              "fillmode": "overlay",
              "size": 10,
              "solidity": 0.2
             }
            },
            "type": "barpolar"
           }
          ],
          "carpet": [
           {
            "aaxis": {
             "endlinecolor": "#2a3f5f",
             "gridcolor": "white",
             "linecolor": "white",
             "minorgridcolor": "white",
             "startlinecolor": "#2a3f5f"
            },
            "baxis": {
             "endlinecolor": "#2a3f5f",
             "gridcolor": "white",
             "linecolor": "white",
             "minorgridcolor": "white",
             "startlinecolor": "#2a3f5f"
            },
            "type": "carpet"
           }
          ],
          "choropleth": [
           {
            "colorbar": {
             "outlinewidth": 0,
             "ticks": ""
            },
            "type": "choropleth"
           }
          ],
          "contour": [
           {
            "colorbar": {
             "outlinewidth": 0,
             "ticks": ""
            },
            "colorscale": [
             [
              0,
              "#0d0887"
             ],
             [
              0.1111111111111111,
              "#46039f"
             ],
             [
              0.2222222222222222,
              "#7201a8"
             ],
             [
              0.3333333333333333,
              "#9c179e"
             ],
             [
              0.4444444444444444,
              "#bd3786"
             ],
             [
              0.5555555555555556,
              "#d8576b"
             ],
             [
              0.6666666666666666,
              "#ed7953"
             ],
             [
              0.7777777777777778,
              "#fb9f3a"
             ],
             [
              0.8888888888888888,
              "#fdca26"
             ],
             [
              1,
              "#f0f921"
             ]
            ],
            "type": "contour"
           }
          ],
          "contourcarpet": [
           {
            "colorbar": {
             "outlinewidth": 0,
             "ticks": ""
            },
            "type": "contourcarpet"
           }
          ],
          "heatmap": [
           {
            "colorbar": {
             "outlinewidth": 0,
             "ticks": ""
            },
            "colorscale": [
             [
              0,
              "#0d0887"
             ],
             [
              0.1111111111111111,
              "#46039f"
             ],
             [
              0.2222222222222222,
              "#7201a8"
             ],
             [
              0.3333333333333333,
              "#9c179e"
             ],
             [
              0.4444444444444444,
              "#bd3786"
             ],
             [
              0.5555555555555556,
              "#d8576b"
             ],
             [
              0.6666666666666666,
              "#ed7953"
             ],
             [
              0.7777777777777778,
              "#fb9f3a"
             ],
             [
              0.8888888888888888,
              "#fdca26"
             ],
             [
              1,
              "#f0f921"
             ]
            ],
            "type": "heatmap"
           }
          ],
          "heatmapgl": [
           {
            "colorbar": {
             "outlinewidth": 0,
             "ticks": ""
            },
            "colorscale": [
             [
              0,
              "#0d0887"
             ],
             [
              0.1111111111111111,
              "#46039f"
             ],
             [
              0.2222222222222222,
              "#7201a8"
             ],
             [
              0.3333333333333333,
              "#9c179e"
             ],
             [
              0.4444444444444444,
              "#bd3786"
             ],
             [
              0.5555555555555556,
              "#d8576b"
             ],
             [
              0.6666666666666666,
              "#ed7953"
             ],
             [
              0.7777777777777778,
              "#fb9f3a"
             ],
             [
              0.8888888888888888,
              "#fdca26"
             ],
             [
              1,
              "#f0f921"
             ]
            ],
            "type": "heatmapgl"
           }
          ],
          "histogram": [
           {
            "marker": {
             "pattern": {
              "fillmode": "overlay",
              "size": 10,
              "solidity": 0.2
             }
            },
            "type": "histogram"
           }
          ],
          "histogram2d": [
           {
            "colorbar": {
             "outlinewidth": 0,
             "ticks": ""
            },
            "colorscale": [
             [
              0,
              "#0d0887"
             ],
             [
              0.1111111111111111,
              "#46039f"
             ],
             [
              0.2222222222222222,
              "#7201a8"
             ],
             [
              0.3333333333333333,
              "#9c179e"
             ],
             [
              0.4444444444444444,
              "#bd3786"
             ],
             [
              0.5555555555555556,
              "#d8576b"
             ],
             [
              0.6666666666666666,
              "#ed7953"
             ],
             [
              0.7777777777777778,
              "#fb9f3a"
             ],
             [
              0.8888888888888888,
              "#fdca26"
             ],
             [
              1,
              "#f0f921"
             ]
            ],
            "type": "histogram2d"
           }
          ],
          "histogram2dcontour": [
           {
            "colorbar": {
             "outlinewidth": 0,
             "ticks": ""
            },
            "colorscale": [
             [
              0,
              "#0d0887"
             ],
             [
              0.1111111111111111,
              "#46039f"
             ],
             [
              0.2222222222222222,
              "#7201a8"
             ],
             [
              0.3333333333333333,
              "#9c179e"
             ],
             [
              0.4444444444444444,
              "#bd3786"
             ],
             [
              0.5555555555555556,
              "#d8576b"
             ],
             [
              0.6666666666666666,
              "#ed7953"
             ],
             [
              0.7777777777777778,
              "#fb9f3a"
             ],
             [
              0.8888888888888888,
              "#fdca26"
             ],
             [
              1,
              "#f0f921"
             ]
            ],
            "type": "histogram2dcontour"
           }
          ],
          "mesh3d": [
           {
            "colorbar": {
             "outlinewidth": 0,
             "ticks": ""
            },
            "type": "mesh3d"
           }
          ],
          "parcoords": [
           {
            "line": {
             "colorbar": {
              "outlinewidth": 0,
              "ticks": ""
             }
            },
            "type": "parcoords"
           }
          ],
          "pie": [
           {
            "automargin": true,
            "type": "pie"
           }
          ],
          "scatter": [
           {
            "fillpattern": {
             "fillmode": "overlay",
             "size": 10,
             "solidity": 0.2
            },
            "type": "scatter"
           }
          ],
          "scatter3d": [
           {
            "line": {
             "colorbar": {
              "outlinewidth": 0,
              "ticks": ""
             }
            },
            "marker": {
             "colorbar": {
              "outlinewidth": 0,
              "ticks": ""
             }
            },
            "type": "scatter3d"
           }
          ],
          "scattercarpet": [
           {
            "marker": {
             "colorbar": {
              "outlinewidth": 0,
              "ticks": ""
             }
            },
            "type": "scattercarpet"
           }
          ],
          "scattergeo": [
           {
            "marker": {
             "colorbar": {
              "outlinewidth": 0,
              "ticks": ""
             }
            },
            "type": "scattergeo"
           }
          ],
          "scattergl": [
           {
            "marker": {
             "colorbar": {
              "outlinewidth": 0,
              "ticks": ""
             }
            },
            "type": "scattergl"
           }
          ],
          "scattermapbox": [
           {
            "marker": {
             "colorbar": {
              "outlinewidth": 0,
              "ticks": ""
             }
            },
            "type": "scattermapbox"
           }
          ],
          "scatterpolar": [
           {
            "marker": {
             "colorbar": {
              "outlinewidth": 0,
              "ticks": ""
             }
            },
            "type": "scatterpolar"
           }
          ],
          "scatterpolargl": [
           {
            "marker": {
             "colorbar": {
              "outlinewidth": 0,
              "ticks": ""
             }
            },
            "type": "scatterpolargl"
           }
          ],
          "scatterternary": [
           {
            "marker": {
             "colorbar": {
              "outlinewidth": 0,
              "ticks": ""
             }
            },
            "type": "scatterternary"
           }
          ],
          "surface": [
           {
            "colorbar": {
             "outlinewidth": 0,
             "ticks": ""
            },
            "colorscale": [
             [
              0,
              "#0d0887"
             ],
             [
              0.1111111111111111,
              "#46039f"
             ],
             [
              0.2222222222222222,
              "#7201a8"
             ],
             [
              0.3333333333333333,
              "#9c179e"
             ],
             [
              0.4444444444444444,
              "#bd3786"
             ],
             [
              0.5555555555555556,
              "#d8576b"
             ],
             [
              0.6666666666666666,
              "#ed7953"
             ],
             [
              0.7777777777777778,
              "#fb9f3a"
             ],
             [
              0.8888888888888888,
              "#fdca26"
             ],
             [
              1,
              "#f0f921"
             ]
            ],
            "type": "surface"
           }
          ],
          "table": [
           {
            "cells": {
             "fill": {
              "color": "#EBF0F8"
             },
             "line": {
              "color": "white"
             }
            },
            "header": {
             "fill": {
              "color": "#C8D4E3"
             },
             "line": {
              "color": "white"
             }
            },
            "type": "table"
           }
          ]
         },
         "layout": {
          "annotationdefaults": {
           "arrowcolor": "#2a3f5f",
           "arrowhead": 0,
           "arrowwidth": 1
          },
          "autotypenumbers": "strict",
          "coloraxis": {
           "colorbar": {
            "outlinewidth": 0,
            "ticks": ""
           }
          },
          "colorscale": {
           "diverging": [
            [
             0,
             "#8e0152"
            ],
            [
             0.1,
             "#c51b7d"
            ],
            [
             0.2,
             "#de77ae"
            ],
            [
             0.3,
             "#f1b6da"
            ],
            [
             0.4,
             "#fde0ef"
            ],
            [
             0.5,
             "#f7f7f7"
            ],
            [
             0.6,
             "#e6f5d0"
            ],
            [
             0.7,
             "#b8e186"
            ],
            [
             0.8,
             "#7fbc41"
            ],
            [
             0.9,
             "#4d9221"
            ],
            [
             1,
             "#276419"
            ]
           ],
           "sequential": [
            [
             0,
             "#0d0887"
            ],
            [
             0.1111111111111111,
             "#46039f"
            ],
            [
             0.2222222222222222,
             "#7201a8"
            ],
            [
             0.3333333333333333,
             "#9c179e"
            ],
            [
             0.4444444444444444,
             "#bd3786"
            ],
            [
             0.5555555555555556,
             "#d8576b"
            ],
            [
             0.6666666666666666,
             "#ed7953"
            ],
            [
             0.7777777777777778,
             "#fb9f3a"
            ],
            [
             0.8888888888888888,
             "#fdca26"
            ],
            [
             1,
             "#f0f921"
            ]
           ],
           "sequentialminus": [
            [
             0,
             "#0d0887"
            ],
            [
             0.1111111111111111,
             "#46039f"
            ],
            [
             0.2222222222222222,
             "#7201a8"
            ],
            [
             0.3333333333333333,
             "#9c179e"
            ],
            [
             0.4444444444444444,
             "#bd3786"
            ],
            [
             0.5555555555555556,
             "#d8576b"
            ],
            [
             0.6666666666666666,
             "#ed7953"
            ],
            [
             0.7777777777777778,
             "#fb9f3a"
            ],
            [
             0.8888888888888888,
             "#fdca26"
            ],
            [
             1,
             "#f0f921"
            ]
           ]
          },
          "colorway": [
           "#636efa",
           "#EF553B",
           "#00cc96",
           "#ab63fa",
           "#FFA15A",
           "#19d3f3",
           "#FF6692",
           "#B6E880",
           "#FF97FF",
           "#FECB52"
          ],
          "font": {
           "color": "#2a3f5f"
          },
          "geo": {
           "bgcolor": "white",
           "lakecolor": "white",
           "landcolor": "#E5ECF6",
           "showlakes": true,
           "showland": true,
           "subunitcolor": "white"
          },
          "hoverlabel": {
           "align": "left"
          },
          "hovermode": "closest",
          "mapbox": {
           "style": "light"
          },
          "paper_bgcolor": "white",
          "plot_bgcolor": "#E5ECF6",
          "polar": {
           "angularaxis": {
            "gridcolor": "white",
            "linecolor": "white",
            "ticks": ""
           },
           "bgcolor": "#E5ECF6",
           "radialaxis": {
            "gridcolor": "white",
            "linecolor": "white",
            "ticks": ""
           }
          },
          "scene": {
           "xaxis": {
            "backgroundcolor": "#E5ECF6",
            "gridcolor": "white",
            "gridwidth": 2,
            "linecolor": "white",
            "showbackground": true,
            "ticks": "",
            "zerolinecolor": "white"
           },
           "yaxis": {
            "backgroundcolor": "#E5ECF6",
            "gridcolor": "white",
            "gridwidth": 2,
            "linecolor": "white",
            "showbackground": true,
            "ticks": "",
            "zerolinecolor": "white"
           },
           "zaxis": {
            "backgroundcolor": "#E5ECF6",
            "gridcolor": "white",
            "gridwidth": 2,
            "linecolor": "white",
            "showbackground": true,
            "ticks": "",
            "zerolinecolor": "white"
           }
          },
          "shapedefaults": {
           "line": {
            "color": "#2a3f5f"
           }
          },
          "ternary": {
           "aaxis": {
            "gridcolor": "white",
            "linecolor": "white",
            "ticks": ""
           },
           "baxis": {
            "gridcolor": "white",
            "linecolor": "white",
            "ticks": ""
           },
           "bgcolor": "#E5ECF6",
           "caxis": {
            "gridcolor": "white",
            "linecolor": "white",
            "ticks": ""
           }
          },
          "title": {
           "x": 0.05
          },
          "xaxis": {
           "automargin": true,
           "gridcolor": "white",
           "linecolor": "white",
           "ticks": "",
           "title": {
            "standoff": 15
           },
           "zerolinecolor": "white",
           "zerolinewidth": 2
          },
          "yaxis": {
           "automargin": true,
           "gridcolor": "white",
           "linecolor": "white",
           "ticks": "",
           "title": {
            "standoff": 15
           },
           "zerolinecolor": "white",
           "zerolinewidth": 2
          }
         }
        },
        "xaxis": {
         "anchor": "y",
         "domain": [
          0,
          1
         ],
         "title": {
          "text": "x"
         }
        },
        "yaxis": {
         "anchor": "x",
         "domain": [
          0,
          1
         ],
         "title": {
          "text": "y"
         }
        }
       }
      }
     },
     "metadata": {},
     "output_type": "display_data"
    }
   ],
   "source": [
    "plot_ranks(rank_dict)"
   ]
  },
  {
   "cell_type": "code",
   "execution_count": 26,
   "metadata": {},
   "outputs": [],
   "source": [
    "threshold_rank = 0.05"
   ]
  },
  {
   "cell_type": "code",
   "execution_count": 27,
   "metadata": {},
   "outputs": [],
   "source": [
    "#ANALYZE TITLES WITH TEXTRANK\n",
    "\n",
    "cols_title_df = ['article_keywords', 'title_keywords', 'count']\n",
    "title_df = pd.DataFrame([], columns=cols_title_df)\n",
    "\n",
    "\n",
    "for url, title in zip(urls, titles):\n",
    "     title_doc = nlp(title)\n",
    "     title_dict = analyze_text_textrank(title_doc, threshold_rank)\n",
    "\n",
    "     temp_title_df = pd.DataFrame.from_dict(title_dict)\n",
    "     temp_title_df.columns = cols_title_df\n",
    "     temp_title_df['article_link'] = [url]*len(temp_title_df)\n",
    "     title_df = pd.concat([title_df, temp_title_df])"
   ]
  },
  {
   "cell_type": "code",
   "execution_count": 28,
   "metadata": {},
   "outputs": [
    {
     "data": {
      "text/html": [
       "<div>\n",
       "<style scoped>\n",
       "    .dataframe tbody tr th:only-of-type {\n",
       "        vertical-align: middle;\n",
       "    }\n",
       "\n",
       "    .dataframe tbody tr th {\n",
       "        vertical-align: top;\n",
       "    }\n",
       "\n",
       "    .dataframe thead th {\n",
       "        text-align: right;\n",
       "    }\n",
       "</style>\n",
       "<table border=\"1\" class=\"dataframe\">\n",
       "  <thead>\n",
       "    <tr style=\"text-align: right;\">\n",
       "      <th></th>\n",
       "      <th>article_keywords</th>\n",
       "      <th>title_keywords</th>\n",
       "      <th>count</th>\n",
       "      <th>article_link</th>\n",
       "    </tr>\n",
       "  </thead>\n",
       "  <tbody>\n",
       "    <tr>\n",
       "      <th>0</th>\n",
       "      <td>flying drones</td>\n",
       "      <td>0.349876</td>\n",
       "      <td>1</td>\n",
       "      <td>https://www.globalconstructionreview.com/scien...</td>\n",
       "    </tr>\n",
       "    <tr>\n",
       "      <th>1</th>\n",
       "      <td>swarms</td>\n",
       "      <td>0.198159</td>\n",
       "      <td>1</td>\n",
       "      <td>https://www.globalconstructionreview.com/scien...</td>\n",
       "    </tr>\n",
       "    <tr>\n",
       "      <th>2</th>\n",
       "      <td>structures</td>\n",
       "      <td>0.174922</td>\n",
       "      <td>1</td>\n",
       "      <td>https://www.globalconstructionreview.com/scien...</td>\n",
       "    </tr>\n",
       "    <tr>\n",
       "      <th>3</th>\n",
       "      <td>Scientists</td>\n",
       "      <td>0.136302</td>\n",
       "      <td>1</td>\n",
       "      <td>https://www.globalconstructionreview.com/scien...</td>\n",
       "    </tr>\n",
       "    <tr>\n",
       "      <th>0</th>\n",
       "      <td>Programmable Matter</td>\n",
       "      <td>0.349876</td>\n",
       "      <td>1</td>\n",
       "      <td>https://spectrum.ieee.org/4d-printing-microscale</td>\n",
       "    </tr>\n",
       "    <tr>\n",
       "      <th>...</th>\n",
       "      <td>...</td>\n",
       "      <td>...</td>\n",
       "      <td>...</td>\n",
       "      <td>...</td>\n",
       "    </tr>\n",
       "    <tr>\n",
       "      <th>0</th>\n",
       "      <td>Better Produce</td>\n",
       "      <td>0.290647</td>\n",
       "      <td>1</td>\n",
       "      <td>https://singularityhub.com/2022/10/26/from-pit...</td>\n",
       "    </tr>\n",
       "    <tr>\n",
       "      <th>1</th>\n",
       "      <td>Softer Kale</td>\n",
       "      <td>0.171403</td>\n",
       "      <td>2</td>\n",
       "      <td>https://singularityhub.com/2022/10/26/from-pit...</td>\n",
       "    </tr>\n",
       "    <tr>\n",
       "      <th>2</th>\n",
       "      <td>CRISPR</td>\n",
       "      <td>0.164192</td>\n",
       "      <td>1</td>\n",
       "      <td>https://singularityhub.com/2022/10/26/from-pit...</td>\n",
       "    </tr>\n",
       "    <tr>\n",
       "      <th>3</th>\n",
       "      <td>Pitless Cherries</td>\n",
       "      <td>0.133561</td>\n",
       "      <td>2</td>\n",
       "      <td>https://singularityhub.com/2022/10/26/from-pit...</td>\n",
       "    </tr>\n",
       "    <tr>\n",
       "      <th>4</th>\n",
       "      <td>This Startup</td>\n",
       "      <td>0.067487</td>\n",
       "      <td>1</td>\n",
       "      <td>https://singularityhub.com/2022/10/26/from-pit...</td>\n",
       "    </tr>\n",
       "  </tbody>\n",
       "</table>\n",
       "<p>2456 rows × 4 columns</p>\n",
       "</div>"
      ],
      "text/plain": [
       "       article_keywords  title_keywords count  \\\n",
       "0         flying drones        0.349876     1   \n",
       "1                swarms        0.198159     1   \n",
       "2            structures        0.174922     1   \n",
       "3            Scientists        0.136302     1   \n",
       "0   Programmable Matter        0.349876     1   \n",
       "..                  ...             ...   ...   \n",
       "0        Better Produce        0.290647     1   \n",
       "1           Softer Kale        0.171403     2   \n",
       "2                CRISPR        0.164192     1   \n",
       "3      Pitless Cherries        0.133561     2   \n",
       "4          This Startup        0.067487     1   \n",
       "\n",
       "                                         article_link  \n",
       "0   https://www.globalconstructionreview.com/scien...  \n",
       "1   https://www.globalconstructionreview.com/scien...  \n",
       "2   https://www.globalconstructionreview.com/scien...  \n",
       "3   https://www.globalconstructionreview.com/scien...  \n",
       "0    https://spectrum.ieee.org/4d-printing-microscale  \n",
       "..                                                ...  \n",
       "0   https://singularityhub.com/2022/10/26/from-pit...  \n",
       "1   https://singularityhub.com/2022/10/26/from-pit...  \n",
       "2   https://singularityhub.com/2022/10/26/from-pit...  \n",
       "3   https://singularityhub.com/2022/10/26/from-pit...  \n",
       "4   https://singularityhub.com/2022/10/26/from-pit...  \n",
       "\n",
       "[2456 rows x 4 columns]"
      ]
     },
     "execution_count": 28,
     "metadata": {},
     "output_type": "execute_result"
    }
   ],
   "source": [
    "title_df"
   ]
  },
  {
   "cell_type": "code",
   "execution_count": 29,
   "metadata": {},
   "outputs": [],
   "source": [
    "out_title_df = create_df_with_bag_of_words_per_link(title_df[['article_keywords', 'article_link']]).to_frame()"
   ]
  },
  {
   "cell_type": "code",
   "execution_count": 30,
   "metadata": {},
   "outputs": [
    {
     "ename": "PermissionError",
     "evalue": "[Errno 13] Permission denied: 'C:\\\\Users\\\\Ravit\\\\Documents\\\\rnd\\\\horizon_scanning_lab\\\\articles\\\\analyze_Articles\\\\final_results\\\\titles_textrank.csv'",
     "output_type": "error",
     "traceback": [
      "\u001b[1;31m---------------------------------------------------------------------------\u001b[0m",
      "\u001b[1;31mPermissionError\u001b[0m                           Traceback (most recent call last)",
      "\u001b[1;32m~\\AppData\\Local\\Temp\\ipykernel_9580\\2729502777.py\u001b[0m in \u001b[0;36m<module>\u001b[1;34m\u001b[0m\n\u001b[1;32m----> 1\u001b[1;33m \u001b[0mout_title_df\u001b[0m\u001b[1;33m.\u001b[0m\u001b[0mto_csv\u001b[0m\u001b[1;33m(\u001b[0m\u001b[1;34mr\"C:\\Users\\Ravit\\Documents\\rnd\\horizon_scanning_lab\\articles\\analyze_Articles\\final_results\\titles_textrank.csv\"\u001b[0m\u001b[1;33m)\u001b[0m\u001b[1;33m\u001b[0m\u001b[1;33m\u001b[0m\u001b[0m\n\u001b[0m",
      "\u001b[1;32mc:\\ProgramData\\Anaconda3\\lib\\site-packages\\pandas\\util\\_decorators.py\u001b[0m in \u001b[0;36mwrapper\u001b[1;34m(*args, **kwargs)\u001b[0m\n\u001b[0;32m    209\u001b[0m                 \u001b[1;32melse\u001b[0m\u001b[1;33m:\u001b[0m\u001b[1;33m\u001b[0m\u001b[1;33m\u001b[0m\u001b[0m\n\u001b[0;32m    210\u001b[0m                     \u001b[0mkwargs\u001b[0m\u001b[1;33m[\u001b[0m\u001b[0mnew_arg_name\u001b[0m\u001b[1;33m]\u001b[0m \u001b[1;33m=\u001b[0m \u001b[0mnew_arg_value\u001b[0m\u001b[1;33m\u001b[0m\u001b[1;33m\u001b[0m\u001b[0m\n\u001b[1;32m--> 211\u001b[1;33m             \u001b[1;32mreturn\u001b[0m \u001b[0mfunc\u001b[0m\u001b[1;33m(\u001b[0m\u001b[1;33m*\u001b[0m\u001b[0margs\u001b[0m\u001b[1;33m,\u001b[0m \u001b[1;33m**\u001b[0m\u001b[0mkwargs\u001b[0m\u001b[1;33m)\u001b[0m\u001b[1;33m\u001b[0m\u001b[1;33m\u001b[0m\u001b[0m\n\u001b[0m\u001b[0;32m    212\u001b[0m \u001b[1;33m\u001b[0m\u001b[0m\n\u001b[0;32m    213\u001b[0m         \u001b[1;32mreturn\u001b[0m \u001b[0mcast\u001b[0m\u001b[1;33m(\u001b[0m\u001b[0mF\u001b[0m\u001b[1;33m,\u001b[0m \u001b[0mwrapper\u001b[0m\u001b[1;33m)\u001b[0m\u001b[1;33m\u001b[0m\u001b[1;33m\u001b[0m\u001b[0m\n",
      "\u001b[1;32mc:\\ProgramData\\Anaconda3\\lib\\site-packages\\pandas\\core\\generic.py\u001b[0m in \u001b[0;36mto_csv\u001b[1;34m(self, path_or_buf, sep, na_rep, float_format, columns, header, index, index_label, mode, encoding, compression, quoting, quotechar, lineterminator, chunksize, date_format, doublequote, escapechar, decimal, errors, storage_options)\u001b[0m\n\u001b[0;32m   3718\u001b[0m         )\n\u001b[0;32m   3719\u001b[0m \u001b[1;33m\u001b[0m\u001b[0m\n\u001b[1;32m-> 3720\u001b[1;33m         return DataFrameRenderer(formatter).to_csv(\n\u001b[0m\u001b[0;32m   3721\u001b[0m             \u001b[0mpath_or_buf\u001b[0m\u001b[1;33m,\u001b[0m\u001b[1;33m\u001b[0m\u001b[1;33m\u001b[0m\u001b[0m\n\u001b[0;32m   3722\u001b[0m             \u001b[0mlineterminator\u001b[0m\u001b[1;33m=\u001b[0m\u001b[0mlineterminator\u001b[0m\u001b[1;33m,\u001b[0m\u001b[1;33m\u001b[0m\u001b[1;33m\u001b[0m\u001b[0m\n",
      "\u001b[1;32mc:\\ProgramData\\Anaconda3\\lib\\site-packages\\pandas\\util\\_decorators.py\u001b[0m in \u001b[0;36mwrapper\u001b[1;34m(*args, **kwargs)\u001b[0m\n\u001b[0;32m    209\u001b[0m                 \u001b[1;32melse\u001b[0m\u001b[1;33m:\u001b[0m\u001b[1;33m\u001b[0m\u001b[1;33m\u001b[0m\u001b[0m\n\u001b[0;32m    210\u001b[0m                     \u001b[0mkwargs\u001b[0m\u001b[1;33m[\u001b[0m\u001b[0mnew_arg_name\u001b[0m\u001b[1;33m]\u001b[0m \u001b[1;33m=\u001b[0m \u001b[0mnew_arg_value\u001b[0m\u001b[1;33m\u001b[0m\u001b[1;33m\u001b[0m\u001b[0m\n\u001b[1;32m--> 211\u001b[1;33m             \u001b[1;32mreturn\u001b[0m \u001b[0mfunc\u001b[0m\u001b[1;33m(\u001b[0m\u001b[1;33m*\u001b[0m\u001b[0margs\u001b[0m\u001b[1;33m,\u001b[0m \u001b[1;33m**\u001b[0m\u001b[0mkwargs\u001b[0m\u001b[1;33m)\u001b[0m\u001b[1;33m\u001b[0m\u001b[1;33m\u001b[0m\u001b[0m\n\u001b[0m\u001b[0;32m    212\u001b[0m \u001b[1;33m\u001b[0m\u001b[0m\n\u001b[0;32m    213\u001b[0m         \u001b[1;32mreturn\u001b[0m \u001b[0mcast\u001b[0m\u001b[1;33m(\u001b[0m\u001b[0mF\u001b[0m\u001b[1;33m,\u001b[0m \u001b[0mwrapper\u001b[0m\u001b[1;33m)\u001b[0m\u001b[1;33m\u001b[0m\u001b[1;33m\u001b[0m\u001b[0m\n",
      "\u001b[1;32mc:\\ProgramData\\Anaconda3\\lib\\site-packages\\pandas\\io\\formats\\format.py\u001b[0m in \u001b[0;36mto_csv\u001b[1;34m(self, path_or_buf, encoding, sep, columns, index_label, mode, compression, quoting, quotechar, lineterminator, chunksize, date_format, doublequote, escapechar, errors, storage_options)\u001b[0m\n\u001b[0;32m   1187\u001b[0m             \u001b[0mformatter\u001b[0m\u001b[1;33m=\u001b[0m\u001b[0mself\u001b[0m\u001b[1;33m.\u001b[0m\u001b[0mfmt\u001b[0m\u001b[1;33m,\u001b[0m\u001b[1;33m\u001b[0m\u001b[1;33m\u001b[0m\u001b[0m\n\u001b[0;32m   1188\u001b[0m         )\n\u001b[1;32m-> 1189\u001b[1;33m         \u001b[0mcsv_formatter\u001b[0m\u001b[1;33m.\u001b[0m\u001b[0msave\u001b[0m\u001b[1;33m(\u001b[0m\u001b[1;33m)\u001b[0m\u001b[1;33m\u001b[0m\u001b[1;33m\u001b[0m\u001b[0m\n\u001b[0m\u001b[0;32m   1190\u001b[0m \u001b[1;33m\u001b[0m\u001b[0m\n\u001b[0;32m   1191\u001b[0m         \u001b[1;32mif\u001b[0m \u001b[0mcreated_buffer\u001b[0m\u001b[1;33m:\u001b[0m\u001b[1;33m\u001b[0m\u001b[1;33m\u001b[0m\u001b[0m\n",
      "\u001b[1;32mc:\\ProgramData\\Anaconda3\\lib\\site-packages\\pandas\\io\\formats\\csvs.py\u001b[0m in \u001b[0;36msave\u001b[1;34m(self)\u001b[0m\n\u001b[0;32m    239\u001b[0m         \"\"\"\n\u001b[0;32m    240\u001b[0m         \u001b[1;31m# apply compression and byte/text conversion\u001b[0m\u001b[1;33m\u001b[0m\u001b[1;33m\u001b[0m\u001b[0m\n\u001b[1;32m--> 241\u001b[1;33m         with get_handle(\n\u001b[0m\u001b[0;32m    242\u001b[0m             \u001b[0mself\u001b[0m\u001b[1;33m.\u001b[0m\u001b[0mfilepath_or_buffer\u001b[0m\u001b[1;33m,\u001b[0m\u001b[1;33m\u001b[0m\u001b[1;33m\u001b[0m\u001b[0m\n\u001b[0;32m    243\u001b[0m             \u001b[0mself\u001b[0m\u001b[1;33m.\u001b[0m\u001b[0mmode\u001b[0m\u001b[1;33m,\u001b[0m\u001b[1;33m\u001b[0m\u001b[1;33m\u001b[0m\u001b[0m\n",
      "\u001b[1;32mc:\\ProgramData\\Anaconda3\\lib\\site-packages\\pandas\\io\\common.py\u001b[0m in \u001b[0;36mget_handle\u001b[1;34m(path_or_buf, mode, encoding, compression, memory_map, is_text, errors, storage_options)\u001b[0m\n\u001b[0;32m    854\u001b[0m         \u001b[1;32mif\u001b[0m \u001b[0mioargs\u001b[0m\u001b[1;33m.\u001b[0m\u001b[0mencoding\u001b[0m \u001b[1;32mand\u001b[0m \u001b[1;34m\"b\"\u001b[0m \u001b[1;32mnot\u001b[0m \u001b[1;32min\u001b[0m \u001b[0mioargs\u001b[0m\u001b[1;33m.\u001b[0m\u001b[0mmode\u001b[0m\u001b[1;33m:\u001b[0m\u001b[1;33m\u001b[0m\u001b[1;33m\u001b[0m\u001b[0m\n\u001b[0;32m    855\u001b[0m             \u001b[1;31m# Encoding\u001b[0m\u001b[1;33m\u001b[0m\u001b[1;33m\u001b[0m\u001b[0m\n\u001b[1;32m--> 856\u001b[1;33m             handle = open(\n\u001b[0m\u001b[0;32m    857\u001b[0m                 \u001b[0mhandle\u001b[0m\u001b[1;33m,\u001b[0m\u001b[1;33m\u001b[0m\u001b[1;33m\u001b[0m\u001b[0m\n\u001b[0;32m    858\u001b[0m                 \u001b[0mioargs\u001b[0m\u001b[1;33m.\u001b[0m\u001b[0mmode\u001b[0m\u001b[1;33m,\u001b[0m\u001b[1;33m\u001b[0m\u001b[1;33m\u001b[0m\u001b[0m\n",
      "\u001b[1;31mPermissionError\u001b[0m: [Errno 13] Permission denied: 'C:\\\\Users\\\\Ravit\\\\Documents\\\\rnd\\\\horizon_scanning_lab\\\\articles\\\\analyze_Articles\\\\final_results\\\\titles_textrank.csv'"
     ]
    }
   ],
   "source": [
    "out_title_df.to_csv(r\"C:\\Users\\Ravit\\Documents\\rnd\\horizon_scanning_lab\\articles\\analyze_Articles\\final_results\\titles_textrank.csv\")"
   ]
  },
  {
   "cell_type": "code",
   "execution_count": 32,
   "metadata": {},
   "outputs": [
    {
     "data": {
      "text/plain": [
       "'The catastrophic threat of thawing permafrost hangs over us all'"
      ]
     },
     "execution_count": 32,
     "metadata": {},
     "output_type": "execute_result"
    }
   ],
   "source": []
  },
  {
   "cell_type": "code",
   "execution_count": 42,
   "metadata": {},
   "outputs": [],
   "source": [
    "#This titles are added manually due to imprpoer scrapping\n",
    "sub_titles = ['New approach to ‘cosmic magnet’ manufacturing could reduce reliance on rare earths in low-carbon technologies', 'Russian University Vows to Build 7nm Chipmaking Tools', 'New Form Of Cotton Can Grab Nearly Three And A Half Times Its Own Weight Of Water Out Of Thin Air']\n",
    "sub_urls = ['https://www.cam.ac.uk/research/news/new-approach-to-cosmic-magnet-manufacturing-could-reduce-reliance-on-rare-earths-in-low-carbon', 'https://www.tomshardware.com/news/lithograhy-tool-russia-7nm-2028', 'https://techcrunch.com/2013/01/22/new-form-of-cotton-can-grab-nearly-three-and-a-half-times-its-own-weight-of-water-out-of-thin-air/']\n",
    "\n",
    "cols_title_df = ['article_keywords', 'title_keywords', 'count']\n",
    "sub_title_df = pd.DataFrame([], columns=cols_title_df)\n",
    "\n",
    "\n",
    "for url, title in zip(sub_urls, sub_titles):\n",
    "     title_doc = nlp(title)\n",
    "     title_dict = analyze_text_textrank(title_doc, threshold_rank)\n",
    "\n",
    "     temp_title_df = pd.DataFrame.from_dict(title_dict)\n",
    "     temp_title_df.columns = cols_title_df\n",
    "     temp_title_df['article_link'] = [url]*len(temp_title_df)\n",
    "     sub_title_df = pd.concat([sub_title_df, temp_title_df])"
   ]
  },
  {
   "cell_type": "code",
   "execution_count": 41,
   "metadata": {},
   "outputs": [
    {
     "data": {
      "text/plain": [
       "['Thin Air Water New Form Cotton Its Own Weight And A Half Times',\n",
       " 'rare earths low-carbon technologies reliance New approach cosmic magnet’ manufacturing',\n",
       " 'Chipmaking Tools Russian University Vows 7nm']"
      ]
     },
     "execution_count": 41,
     "metadata": {},
     "output_type": "execute_result"
    }
   ],
   "source": [
    "#The rows were added manually to the csv after saving\n",
    "create_df_with_bag_of_words_per_link(sub_title_df).to_frame()['article_keywords'].to_list()"
   ]
  },
  {
   "cell_type": "code",
   "execution_count": 21,
   "metadata": {},
   "outputs": [
    {
     "data": {
      "text/plain": [
       "'\\nproblematic_urls = []\\n\\ncols_raw_texts = [\\'abstract\\', \\'title\\', \\'articlae_link\\']\\nraw_txt_df = pd.DataFrame([], columns=cols_raw_texts)\\n\\ncols_title_df = [\\'article_keywords\\', \\'title_keywords\\', \\'count\\']\\ntitle_df = pd.DataFrame([], columns=cols_title_df)\\n\\ncols_text_df = [\\'sentence\\', \\'sentence_rank\\', \\'count\\']\\ntext_df = pd.DataFrame([], columns=cols_text_df)\\n\\n\\nfor url in urls:\\n     try:\\n          text, title = get_article_text_and_title(url)\\n          temp_raw_df = pd.DataFrame([text, title, url], columns=cols_raw_texts)\\n          raw_txt_df = pd.concat([raw_txt_df, temp_raw_df])\\n     except:\\n          print(\"unable to extract url for \", url)\\n          problematic_urls.append(url)\\n          continue\\n   #  text_doc = nlp(text)\\n    # title_doc = nlp(title)\\n     #text_dict = analyze_text_textrank(text_doc, threshold_rank)\\n     #title_dict = analyze_text_textrank(title_doc, threshold_rank)\\n\\n    # temp_text_df = pd.DataFrame.from_dict(text_dict)\\n     #temp_text_df.columns = cols_text_df\\n    # temp_text_df[\\'article_link\\'] = [url]*len(temp_text_df)\\n    # text_df = pd.concat([text_df, temp_text_df])\\n \\n     #temp_title_df = pd.DataFrame.from_dict(title_dict)\\n     #temp_title_df.columns = cols_title_df\\n     #temp_title_df[\\'article_link\\'] = [url]*len(temp_title_df)\\n     #title_df = pd.concat([title_df, temp_title_df])'"
      ]
     },
     "execution_count": 21,
     "metadata": {},
     "output_type": "execute_result"
    }
   ],
   "source": [
    "#TODO FIGURE OUT WHY SCRAPPING ABSTRACTS IS NOT WORKING ANYMORE\n",
    "'''\n",
    "problematic_urls = []\n",
    "\n",
    "cols_raw_texts = ['abstract', 'title', 'articlae_link']\n",
    "raw_txt_df = pd.DataFrame([], columns=cols_raw_texts)\n",
    "\n",
    "cols_title_df = ['article_keywords', 'title_keywords', 'count']\n",
    "title_df = pd.DataFrame([], columns=cols_title_df)\n",
    "\n",
    "cols_text_df = ['sentence', 'sentence_rank', 'count']\n",
    "text_df = pd.DataFrame([], columns=cols_text_df)\n",
    "\n",
    "\n",
    "for url in urls:\n",
    "     try:\n",
    "          text, title = get_article_text_and_title(url)\n",
    "          temp_raw_df = pd.DataFrame([text, title, url], columns=cols_raw_texts)\n",
    "          raw_txt_df = pd.concat([raw_txt_df, temp_raw_df])\n",
    "     except:\n",
    "          print(\"unable to extract url for \", url)\n",
    "          problematic_urls.append(url)\n",
    "          continue\n",
    "   #  text_doc = nlp(text)\n",
    "    # title_doc = nlp(title)\n",
    "     #text_dict = analyze_text_textrank(text_doc, threshold_rank)\n",
    "     #title_dict = analyze_text_textrank(title_doc, threshold_rank)\n",
    "\n",
    "    # temp_text_df = pd.DataFrame.from_dict(text_dict)\n",
    "     #temp_text_df.columns = cols_text_df\n",
    "    # temp_text_df['article_link'] = [url]*len(temp_text_df)\n",
    "    # text_df = pd.concat([text_df, temp_text_df])\n",
    " \n",
    "     #temp_title_df = pd.DataFrame.from_dict(title_dict)\n",
    "     #temp_title_df.columns = cols_title_df\n",
    "     #temp_title_df['article_link'] = [url]*len(temp_title_df)\n",
    "     #title_df = pd.concat([title_df, temp_title_df])'''"
   ]
  },
  {
   "cell_type": "code",
   "execution_count": null,
   "metadata": {},
   "outputs": [],
   "source": [
    "#title_df.to_csv(r\"C:\\Users\\Ravit\\Documents\\rnd\\horizon_scanning_lab\\articles\\analyze_Articles\\reddit_articles_analysis\\reddit_titles_textrank.csv\")\n",
    "#text_df.to_csv(r\"C:\\Users\\Ravit\\Documents\\rnd\\horizon_scanning_lab\\articles\\analyze_Articles\\reddit_articles_analysis\\reddit_texts_textrank.csv\")\n",
    "#\n",
    "#with open(r\"C:\\Users\\Ravit\\Documents\\rnd\\horizon_scanning_lab\\articles\\analyze_Articles\\reddit_articles_analysis\\reddit_problematic_articles.txt\", 'w') as f:\n",
    " #   f.write(str(problematic_urls))"
   ]
  },
  {
   "cell_type": "code",
   "execution_count": null,
   "metadata": {},
   "outputs": [],
   "source": [
    "#crunch_title_df.to_csv(r\"C:\\Users\\Ravit\\Documents\\rnd\\horizon_scanning_lab\\articles\\analyze_Articles\\crunch_articles_analysis\\crunch_titles_textrank.csv\")\n",
    "#crunch_text_df.to_csv(r\"C:\\Users\\Ravit\\Documents\\rnd\\horizon_scanning_lab\\articles\\analyze_Articles\\crunch_articles_analysis\\crunch_texts_textrank.csv\")\n",
    "\n",
    "#with open(r\"C:\\Users\\Ravit\\Documents\\rnd\\horizon_scanning_lab\\articles\\analyze_Articles\\crunch_articles_analysis\\crunch_problematic_articles.txt\", 'w') as f:\n",
    " #   f.write(str(crunch_problematic_urls))"
   ]
  },
  {
   "cell_type": "code",
   "execution_count": null,
   "metadata": {},
   "outputs": [],
   "source": []
  }
 ],
 "metadata": {
  "kernelspec": {
   "display_name": "Python 3.9.12 ('base')",
   "language": "python",
   "name": "python3"
  },
  "language_info": {
   "codemirror_mode": {
    "name": "ipython",
    "version": 3
   },
   "file_extension": ".py",
   "mimetype": "text/x-python",
   "name": "python",
   "nbconvert_exporter": "python",
   "pygments_lexer": "ipython3",
   "version": "3.9.13"
  },
  "orig_nbformat": 4,
  "vscode": {
   "interpreter": {
    "hash": "ad2bdc8ecc057115af97d19610ffacc2b4e99fae6737bb82f5d7fb13d2f2c186"
   }
  }
 },
 "nbformat": 4,
 "nbformat_minor": 2
}
