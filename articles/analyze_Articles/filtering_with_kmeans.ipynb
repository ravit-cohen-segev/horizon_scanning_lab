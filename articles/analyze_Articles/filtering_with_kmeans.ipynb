{
 "cells": [
  {
   "cell_type": "code",
   "execution_count": 215,
   "metadata": {},
   "outputs": [],
   "source": [
    "from sklearn.cluster import KMeans\n",
    "from yellowbrick.cluster import KElbowVisualizer\n",
    "from sklearn.feature_extraction.text import CountVectorizer\n",
    "from sklearn.metrics import pairwise_distances_argmin_min\n",
    "from sklearn.decomposition import TruncatedSVD\n",
    "\n",
    "import plotly.express as px\n",
    "import numpy as np\n",
    "import pandas as pd\n",
    "import os"
   ]
  },
  {
   "cell_type": "code",
   "execution_count": 216,
   "metadata": {},
   "outputs": [],
   "source": [
    "def create_df_with_bag_of_words_per_link(df):\n",
    "    \"takes a df with 2 columns, 'article_link' and a text column either called 'sentence' or 'keywords'\"\n",
    "    \"and returns a df with bag of words for each link\"\n",
    "    text_col = df.columns.drop('article_link')[0]\n",
    "    return df.groupby('article_link')[text_col].unique().str.join(' ')"
   ]
  },
  {
   "cell_type": "code",
   "execution_count": 217,
   "metadata": {},
   "outputs": [],
   "source": [
    "reddit_path = r\"C:\\Users\\Ravit\\Documents\\rnd\\horizon_scanning_lab\\articles\\analyze_Articles\\reddit_articles_analysis\\final_results\"\n",
    "reddit_titles_path = os.path.join(reddit_path, \"titles_textrank_final.csv\")\n",
    "\n",
    "crunch_path = r\"C:\\Users\\Ravit\\Documents\\rnd\\horizon_scanning_lab\\articles\\analyze_Articles\\crunch_articles_analysis\"\n",
    "crunch_titles_path = os.path.join(crunch_path, \"crunch_titles_textrank.csv\")\n"
   ]
  },
  {
   "cell_type": "markdown",
   "metadata": {},
   "source": [
    "1. Collect all sentences and key words from titles and texts, and agg as bag of words for each link."
   ]
  },
  {
   "cell_type": "code",
   "execution_count": 218,
   "metadata": {},
   "outputs": [],
   "source": [
    "df_red_titles = pd.read_csv(reddit_titles_path)\n",
    "red_titles= df_red_titles[[ 'article_keywords', 'article_link']]"
   ]
  },
  {
   "cell_type": "code",
   "execution_count": 219,
   "metadata": {},
   "outputs": [],
   "source": [
    "df_crunch_titles = pd.read_csv(crunch_titles_path)\n",
    "crunch_titles= df_crunch_titles[[ 'article_keywords', 'article_link']]"
   ]
  },
  {
   "cell_type": "code",
   "execution_count": 220,
   "metadata": {},
   "outputs": [],
   "source": [
    "all_titles = pd.concat([red_titles, crunch_titles], axis=0)"
   ]
  },
  {
   "cell_type": "code",
   "execution_count": 221,
   "metadata": {},
   "outputs": [
    {
     "data": {
      "text/html": [
       "<div>\n",
       "<style scoped>\n",
       "    .dataframe tbody tr th:only-of-type {\n",
       "        vertical-align: middle;\n",
       "    }\n",
       "\n",
       "    .dataframe tbody tr th {\n",
       "        vertical-align: top;\n",
       "    }\n",
       "\n",
       "    .dataframe thead th {\n",
       "        text-align: right;\n",
       "    }\n",
       "</style>\n",
       "<table border=\"1\" class=\"dataframe\">\n",
       "  <thead>\n",
       "    <tr style=\"text-align: right;\">\n",
       "      <th></th>\n",
       "      <th>article_keywords</th>\n",
       "      <th>article_link</th>\n",
       "    </tr>\n",
       "  </thead>\n",
       "  <tbody>\n",
       "    <tr>\n",
       "      <th>0</th>\n",
       "      <td>flying drones</td>\n",
       "      <td>https://www.globalconstructionreview.com/scien...</td>\n",
       "    </tr>\n",
       "    <tr>\n",
       "      <th>1</th>\n",
       "      <td>swarms</td>\n",
       "      <td>https://www.globalconstructionreview.com/scien...</td>\n",
       "    </tr>\n",
       "    <tr>\n",
       "      <th>2</th>\n",
       "      <td>structures</td>\n",
       "      <td>https://www.globalconstructionreview.com/scien...</td>\n",
       "    </tr>\n",
       "    <tr>\n",
       "      <th>3</th>\n",
       "      <td>Scientists</td>\n",
       "      <td>https://www.globalconstructionreview.com/scien...</td>\n",
       "    </tr>\n",
       "    <tr>\n",
       "      <th>4</th>\n",
       "      <td>Programmable Matter</td>\n",
       "      <td>https://spectrum.ieee.org/4d-printing-microscale</td>\n",
       "    </tr>\n",
       "    <tr>\n",
       "      <th>...</th>\n",
       "      <td>...</td>\n",
       "      <td>...</td>\n",
       "    </tr>\n",
       "    <tr>\n",
       "      <th>722</th>\n",
       "      <td>the speed</td>\n",
       "      <td>https://techcrunch.com/2016/08/23/logikcull-ra...</td>\n",
       "    </tr>\n",
       "    <tr>\n",
       "      <th>723</th>\n",
       "      <td>a thousand interns</td>\n",
       "      <td>https://techcrunch.com/2016/08/23/logikcull-ra...</td>\n",
       "    </tr>\n",
       "    <tr>\n",
       "      <th>724</th>\n",
       "      <td>state court records</td>\n",
       "      <td>https://techcrunch.com/2016/07/19/legalist-is-...</td>\n",
       "    </tr>\n",
       "    <tr>\n",
       "      <th>725</th>\n",
       "      <td>lawyers</td>\n",
       "      <td>https://techcrunch.com/2016/07/19/legalist-is-...</td>\n",
       "    </tr>\n",
       "    <tr>\n",
       "      <th>726</th>\n",
       "      <td>Legalist</td>\n",
       "      <td>https://techcrunch.com/2016/07/19/legalist-is-...</td>\n",
       "    </tr>\n",
       "  </tbody>\n",
       "</table>\n",
       "<p>3292 rows × 2 columns</p>\n",
       "</div>"
      ],
      "text/plain": [
       "        article_keywords                                       article_link\n",
       "0          flying drones  https://www.globalconstructionreview.com/scien...\n",
       "1                 swarms  https://www.globalconstructionreview.com/scien...\n",
       "2             structures  https://www.globalconstructionreview.com/scien...\n",
       "3             Scientists  https://www.globalconstructionreview.com/scien...\n",
       "4    Programmable Matter   https://spectrum.ieee.org/4d-printing-microscale\n",
       "..                   ...                                                ...\n",
       "722            the speed  https://techcrunch.com/2016/08/23/logikcull-ra...\n",
       "723   a thousand interns  https://techcrunch.com/2016/08/23/logikcull-ra...\n",
       "724  state court records  https://techcrunch.com/2016/07/19/legalist-is-...\n",
       "725              lawyers  https://techcrunch.com/2016/07/19/legalist-is-...\n",
       "726             Legalist  https://techcrunch.com/2016/07/19/legalist-is-...\n",
       "\n",
       "[3292 rows x 2 columns]"
      ]
     },
     "execution_count": 221,
     "metadata": {},
     "output_type": "execute_result"
    }
   ],
   "source": [
    "all_titles"
   ]
  },
  {
   "cell_type": "code",
   "execution_count": 222,
   "metadata": {},
   "outputs": [],
   "source": [
    "titles_bag_of_words = create_df_with_bag_of_words_per_link(all_titles).to_frame()"
   ]
  },
  {
   "cell_type": "code",
   "execution_count": 223,
   "metadata": {},
   "outputs": [
    {
     "data": {
      "text/html": [
       "<div>\n",
       "<style scoped>\n",
       "    .dataframe tbody tr th:only-of-type {\n",
       "        vertical-align: middle;\n",
       "    }\n",
       "\n",
       "    .dataframe tbody tr th {\n",
       "        vertical-align: top;\n",
       "    }\n",
       "\n",
       "    .dataframe thead th {\n",
       "        text-align: right;\n",
       "    }\n",
       "</style>\n",
       "<table border=\"1\" class=\"dataframe\">\n",
       "  <thead>\n",
       "    <tr style=\"text-align: right;\">\n",
       "      <th></th>\n",
       "      <th>article_keywords</th>\n",
       "    </tr>\n",
       "    <tr>\n",
       "      <th>article_link</th>\n",
       "      <th></th>\n",
       "    </tr>\n",
       "  </thead>\n",
       "  <tbody>\n",
       "    <tr>\n",
       "      <th>http://jhr.uwpress.org/content/early/2022/10/03/jhr.0222-12169R2.abstract</th>\n",
       "      <td>Cumulative Lead Exposure Reduces Academic Achi...</td>\n",
       "    </tr>\n",
       "    <tr>\n",
       "      <th>http://perspectivesinmedicine.cshlp.org/content/early/2022/09/12/cshperspect.a041202.abstract</th>\n",
       "      <td>Healthy Longevity International Gains</td>\n",
       "    </tr>\n",
       "    <tr>\n",
       "      <th>http://www.exeter.ac.uk/news/research/title_932902_en.html</th>\n",
       "      <td>better adult blue spaces Positive childhood ex...</td>\n",
       "    </tr>\n",
       "    <tr>\n",
       "      <th>https://9to5mac.com/2022/10/25/apple-watch-blood-oxygen-study/</th>\n",
       "      <td>Apple Watch blood oxygen sensor Apple Watch ‘m...</td>\n",
       "    </tr>\n",
       "    <tr>\n",
       "      <th>https://9to5mac.com/2022/10/27/apple-cant-make-enough-iphone-14-pros/</th>\n",
       "      <td>demand enough iPhone 14 Pros Apple Tim Cook iP...</td>\n",
       "    </tr>\n",
       "    <tr>\n",
       "      <th>...</th>\n",
       "      <td>...</td>\n",
       "    </tr>\n",
       "    <tr>\n",
       "      <th>https://www.zdnet.com/article/criminals-are-using-gps-jammers-to-hijack-trucks-and-down-drones/</th>\n",
       "      <td>drones trucks GPS jammers</td>\n",
       "    </tr>\n",
       "    <tr>\n",
       "      <th>https://www.zdnet.com/article/linus-torvalds-rust-will-go-into-linux-6-1/</th>\n",
       "      <td>Linux Linus Torvalds Rust Linus Torvalds: Linu...</td>\n",
       "    </tr>\n",
       "    <tr>\n",
       "      <th>https://www.zdnet.com/article/nasa-develops-a-tiny-high-powered-laser-to-find-water-on-the-moon/</th>\n",
       "      <td>water the Moon NASA NASAs new tiny, high-power...</td>\n",
       "    </tr>\n",
       "    <tr>\n",
       "      <th>https://www.zdnet.com/article/this-nasa-space-tech-could-make-your-ev-charge-faster-too/</th>\n",
       "      <td>EV This NASA space tech NASA</td>\n",
       "    </tr>\n",
       "    <tr>\n",
       "      <th>https://youtube.com/watch?v=mGARjRBJRX8&amp;feature=share</th>\n",
       "      <td>Video Cards</td>\n",
       "    </tr>\n",
       "  </tbody>\n",
       "</table>\n",
       "<p>864 rows × 1 columns</p>\n",
       "</div>"
      ],
      "text/plain": [
       "                                                                                     article_keywords\n",
       "article_link                                                                                         \n",
       "http://jhr.uwpress.org/content/early/2022/10/03...  Cumulative Lead Exposure Reduces Academic Achi...\n",
       "http://perspectivesinmedicine.cshlp.org/content...              Healthy Longevity International Gains\n",
       "http://www.exeter.ac.uk/news/research/title_932...  better adult blue spaces Positive childhood ex...\n",
       "https://9to5mac.com/2022/10/25/apple-watch-bloo...  Apple Watch blood oxygen sensor Apple Watch ‘m...\n",
       "https://9to5mac.com/2022/10/27/apple-cant-make-...  demand enough iPhone 14 Pros Apple Tim Cook iP...\n",
       "...                                                                                               ...\n",
       "https://www.zdnet.com/article/criminals-are-usi...                          drones trucks GPS jammers\n",
       "https://www.zdnet.com/article/linus-torvalds-ru...  Linux Linus Torvalds Rust Linus Torvalds: Linu...\n",
       "https://www.zdnet.com/article/nasa-develops-a-t...  water the Moon NASA NASAs new tiny, high-power...\n",
       "https://www.zdnet.com/article/this-nasa-space-t...                       EV This NASA space tech NASA\n",
       "https://youtube.com/watch?v=mGARjRBJRX8&feature...                                        Video Cards\n",
       "\n",
       "[864 rows x 1 columns]"
      ]
     },
     "execution_count": 223,
     "metadata": {},
     "output_type": "execute_result"
    }
   ],
   "source": [
    "titles_bag_of_words"
   ]
  },
  {
   "cell_type": "code",
   "execution_count": 224,
   "metadata": {},
   "outputs": [],
   "source": [
    "titles_bag_of_words = titles_bag_of_words.reset_index()"
   ]
  },
  {
   "cell_type": "code",
   "execution_count": 225,
   "metadata": {},
   "outputs": [],
   "source": [
    "titles_bag_of_words.columns = ['article_link', 'article_keywords']"
   ]
  },
  {
   "cell_type": "code",
   "execution_count": 226,
   "metadata": {},
   "outputs": [
    {
     "data": {
      "text/html": [
       "<div>\n",
       "<style scoped>\n",
       "    .dataframe tbody tr th:only-of-type {\n",
       "        vertical-align: middle;\n",
       "    }\n",
       "\n",
       "    .dataframe tbody tr th {\n",
       "        vertical-align: top;\n",
       "    }\n",
       "\n",
       "    .dataframe thead th {\n",
       "        text-align: right;\n",
       "    }\n",
       "</style>\n",
       "<table border=\"1\" class=\"dataframe\">\n",
       "  <thead>\n",
       "    <tr style=\"text-align: right;\">\n",
       "      <th></th>\n",
       "      <th>article_link</th>\n",
       "      <th>article_keywords</th>\n",
       "    </tr>\n",
       "  </thead>\n",
       "  <tbody>\n",
       "    <tr>\n",
       "      <th>0</th>\n",
       "      <td>http://jhr.uwpress.org/content/early/2022/10/0...</td>\n",
       "      <td>Cumulative Lead Exposure Reduces Academic Achi...</td>\n",
       "    </tr>\n",
       "    <tr>\n",
       "      <th>1</th>\n",
       "      <td>http://perspectivesinmedicine.cshlp.org/conten...</td>\n",
       "      <td>Healthy Longevity International Gains</td>\n",
       "    </tr>\n",
       "    <tr>\n",
       "      <th>2</th>\n",
       "      <td>http://www.exeter.ac.uk/news/research/title_93...</td>\n",
       "      <td>better adult blue spaces Positive childhood ex...</td>\n",
       "    </tr>\n",
       "    <tr>\n",
       "      <th>3</th>\n",
       "      <td>https://9to5mac.com/2022/10/25/apple-watch-blo...</td>\n",
       "      <td>Apple Watch blood oxygen sensor Apple Watch ‘m...</td>\n",
       "    </tr>\n",
       "    <tr>\n",
       "      <th>4</th>\n",
       "      <td>https://9to5mac.com/2022/10/27/apple-cant-make...</td>\n",
       "      <td>demand enough iPhone 14 Pros Apple Tim Cook iP...</td>\n",
       "    </tr>\n",
       "    <tr>\n",
       "      <th>...</th>\n",
       "      <td>...</td>\n",
       "      <td>...</td>\n",
       "    </tr>\n",
       "    <tr>\n",
       "      <th>859</th>\n",
       "      <td>https://www.zdnet.com/article/criminals-are-us...</td>\n",
       "      <td>drones trucks GPS jammers</td>\n",
       "    </tr>\n",
       "    <tr>\n",
       "      <th>860</th>\n",
       "      <td>https://www.zdnet.com/article/linus-torvalds-r...</td>\n",
       "      <td>Linux Linus Torvalds Rust Linus Torvalds: Linu...</td>\n",
       "    </tr>\n",
       "    <tr>\n",
       "      <th>861</th>\n",
       "      <td>https://www.zdnet.com/article/nasa-develops-a-...</td>\n",
       "      <td>water the Moon NASA NASAs new tiny, high-power...</td>\n",
       "    </tr>\n",
       "    <tr>\n",
       "      <th>862</th>\n",
       "      <td>https://www.zdnet.com/article/this-nasa-space-...</td>\n",
       "      <td>EV This NASA space tech NASA</td>\n",
       "    </tr>\n",
       "    <tr>\n",
       "      <th>863</th>\n",
       "      <td>https://youtube.com/watch?v=mGARjRBJRX8&amp;featur...</td>\n",
       "      <td>Video Cards</td>\n",
       "    </tr>\n",
       "  </tbody>\n",
       "</table>\n",
       "<p>864 rows × 2 columns</p>\n",
       "</div>"
      ],
      "text/plain": [
       "                                          article_link  \\\n",
       "0    http://jhr.uwpress.org/content/early/2022/10/0...   \n",
       "1    http://perspectivesinmedicine.cshlp.org/conten...   \n",
       "2    http://www.exeter.ac.uk/news/research/title_93...   \n",
       "3    https://9to5mac.com/2022/10/25/apple-watch-blo...   \n",
       "4    https://9to5mac.com/2022/10/27/apple-cant-make...   \n",
       "..                                                 ...   \n",
       "859  https://www.zdnet.com/article/criminals-are-us...   \n",
       "860  https://www.zdnet.com/article/linus-torvalds-r...   \n",
       "861  https://www.zdnet.com/article/nasa-develops-a-...   \n",
       "862  https://www.zdnet.com/article/this-nasa-space-...   \n",
       "863  https://youtube.com/watch?v=mGARjRBJRX8&featur...   \n",
       "\n",
       "                                      article_keywords  \n",
       "0    Cumulative Lead Exposure Reduces Academic Achi...  \n",
       "1                Healthy Longevity International Gains  \n",
       "2    better adult blue spaces Positive childhood ex...  \n",
       "3    Apple Watch blood oxygen sensor Apple Watch ‘m...  \n",
       "4    demand enough iPhone 14 Pros Apple Tim Cook iP...  \n",
       "..                                                 ...  \n",
       "859                          drones trucks GPS jammers  \n",
       "860  Linux Linus Torvalds Rust Linus Torvalds: Linu...  \n",
       "861  water the Moon NASA NASAs new tiny, high-power...  \n",
       "862                       EV This NASA space tech NASA  \n",
       "863                                        Video Cards  \n",
       "\n",
       "[864 rows x 2 columns]"
      ]
     },
     "execution_count": 226,
     "metadata": {},
     "output_type": "execute_result"
    }
   ],
   "source": [
    "titles_bag_of_words"
   ]
  },
  {
   "cell_type": "markdown",
   "metadata": {},
   "source": [
    "2. Vectorize bag of words"
   ]
  },
  {
   "cell_type": "code",
   "execution_count": 227,
   "metadata": {},
   "outputs": [],
   "source": [
    "title_vectorizer = CountVectorizer()\n"
   ]
  },
  {
   "cell_type": "code",
   "execution_count": 228,
   "metadata": {},
   "outputs": [],
   "source": [
    "X_titles = title_vectorizer.fit_transform(titles_bag_of_words['article_keywords'].to_list())"
   ]
  },
  {
   "cell_type": "code",
   "execution_count": 229,
   "metadata": {},
   "outputs": [],
   "source": [
    "X_titles = X_titles.toarray()"
   ]
  },
  {
   "cell_type": "markdown",
   "metadata": {},
   "source": [
    "3. Cluster with KMeans"
   ]
  },
  {
   "cell_type": "code",
   "execution_count": 230,
   "metadata": {},
   "outputs": [],
   "source": [
    "np.random.seed(42)"
   ]
  },
  {
   "cell_type": "code",
   "execution_count": 231,
   "metadata": {},
   "outputs": [],
   "source": [
    "#reduce dimensionality to 2. This will help visualize the data later. TruncatedSVD handles sparse data better than PCA\n",
    "\n",
    "svd = TruncatedSVD(n_components=2, random_state = 0)\n",
    "X = svd.fit_transform(X_titles)"
   ]
  },
  {
   "cell_type": "code",
   "execution_count": 232,
   "metadata": {},
   "outputs": [
    {
     "data": {
      "text/plain": [
       "(864, 2)"
      ]
     },
     "execution_count": 232,
     "metadata": {},
     "output_type": "execute_result"
    }
   ],
   "source": [
    "X.shape"
   ]
  },
  {
   "cell_type": "code",
   "execution_count": 233,
   "metadata": {},
   "outputs": [
    {
     "name": "stderr",
     "output_type": "stream",
     "text": [
      "c:\\ProgramData\\Anaconda3\\lib\\site-packages\\sklearn\\cluster\\_kmeans.py:1334: UserWarning:\n",
      "\n",
      "KMeans is known to have a memory leak on Windows with MKL, when there are less chunks than available threads. You can avoid it by setting the environment variable OMP_NUM_THREADS=4.\n",
      "\n",
      "c:\\ProgramData\\Anaconda3\\lib\\site-packages\\sklearn\\cluster\\_kmeans.py:1334: UserWarning:\n",
      "\n",
      "KMeans is known to have a memory leak on Windows with MKL, when there are less chunks than available threads. You can avoid it by setting the environment variable OMP_NUM_THREADS=4.\n",
      "\n",
      "c:\\ProgramData\\Anaconda3\\lib\\site-packages\\sklearn\\cluster\\_kmeans.py:1334: UserWarning:\n",
      "\n",
      "KMeans is known to have a memory leak on Windows with MKL, when there are less chunks than available threads. You can avoid it by setting the environment variable OMP_NUM_THREADS=4.\n",
      "\n",
      "c:\\ProgramData\\Anaconda3\\lib\\site-packages\\sklearn\\cluster\\_kmeans.py:1334: UserWarning:\n",
      "\n",
      "KMeans is known to have a memory leak on Windows with MKL, when there are less chunks than available threads. You can avoid it by setting the environment variable OMP_NUM_THREADS=4.\n",
      "\n",
      "c:\\ProgramData\\Anaconda3\\lib\\site-packages\\sklearn\\cluster\\_kmeans.py:1334: UserWarning:\n",
      "\n",
      "KMeans is known to have a memory leak on Windows with MKL, when there are less chunks than available threads. You can avoid it by setting the environment variable OMP_NUM_THREADS=4.\n",
      "\n",
      "c:\\ProgramData\\Anaconda3\\lib\\site-packages\\sklearn\\cluster\\_kmeans.py:1334: UserWarning:\n",
      "\n",
      "KMeans is known to have a memory leak on Windows with MKL, when there are less chunks than available threads. You can avoid it by setting the environment variable OMP_NUM_THREADS=4.\n",
      "\n",
      "c:\\ProgramData\\Anaconda3\\lib\\site-packages\\sklearn\\cluster\\_kmeans.py:1334: UserWarning:\n",
      "\n",
      "KMeans is known to have a memory leak on Windows with MKL, when there are less chunks than available threads. You can avoid it by setting the environment variable OMP_NUM_THREADS=4.\n",
      "\n",
      "c:\\ProgramData\\Anaconda3\\lib\\site-packages\\sklearn\\cluster\\_kmeans.py:1334: UserWarning:\n",
      "\n",
      "KMeans is known to have a memory leak on Windows with MKL, when there are less chunks than available threads. You can avoid it by setting the environment variable OMP_NUM_THREADS=4.\n",
      "\n"
     ]
    },
    {
     "data": {
      "image/png": "[encoded data removed]",
      "text/plain": [
       "<Figure size 800x550 with 2 Axes>"
      ]
     },
     "metadata": {},
     "output_type": "display_data"
    },
    {
     "data": {
      "text/plain": [
       "<AxesSubplot: title={'center': 'Distortion Score Elbow for KMeans Clustering'}, xlabel='k', ylabel='distortion score'>"
      ]
     },
     "execution_count": 233,
     "metadata": {},
     "output_type": "execute_result"
    }
   ],
   "source": [
    "km = KMeans()\n",
    "title_visualizer = KElbowVisualizer(km, k=(2,10), random_state=0)\n",
    "\n",
    "title_visualizer.fit(X)\n",
    "title_visualizer.show() "
   ]
  },
  {
   "cell_type": "code",
   "execution_count": 234,
   "metadata": {},
   "outputs": [
    {
     "name": "stderr",
     "output_type": "stream",
     "text": [
      "c:\\ProgramData\\Anaconda3\\lib\\site-packages\\sklearn\\cluster\\_kmeans.py:1334: UserWarning:\n",
      "\n",
      "KMeans is known to have a memory leak on Windows with MKL, when there are less chunks than available threads. You can avoid it by setting the environment variable OMP_NUM_THREADS=4.\n",
      "\n"
     ]
    }
   ],
   "source": [
    "titles_kmeans = KMeans(5, random_state=42).fit(X)"
   ]
  },
  {
   "cell_type": "code",
   "execution_count": 235,
   "metadata": {},
   "outputs": [
    {
     "data": {
      "text/plain": [
       "array([0, 0, 0, 0, 0, 1, 0, 0, 0, 4, 0, 0, 0, 0, 2, 0, 0, 4, 0, 0, 0, 2,\n",
       "       0, 4, 0, 0, 0, 2, 0, 0, 2, 0, 0, 1, 0, 0, 0, 0, 0, 0, 0, 0, 0, 0,\n",
       "       4, 0, 3, 0, 0, 0, 0, 0, 0, 0, 0, 0, 0, 2, 0, 0, 2, 0, 0, 0, 0, 0,\n",
       "       4, 4, 1, 2, 1, 0, 0, 0, 0, 2, 0, 2, 0, 2, 2, 0, 2, 2, 0, 4, 2, 0,\n",
       "       0, 0, 0, 0, 0, 0, 0, 0, 2, 0, 0, 0, 0, 0, 0, 3, 0, 0, 0, 2, 2, 0,\n",
       "       0, 0, 0, 0, 4, 0, 0, 2, 0, 0, 0, 0, 2, 3, 0, 0, 4, 4, 4, 2, 0, 0,\n",
       "       1, 0, 0, 2, 0, 0, 0, 4, 2, 0, 0, 0, 0, 0, 0, 2, 2, 0, 2, 0, 0, 2,\n",
       "       2, 2, 0, 0, 0, 0, 0, 0, 0, 0, 0, 0, 2, 0, 1, 0, 0, 0, 1, 0, 0, 0,\n",
       "       0, 0, 2, 2, 0, 0, 0, 0, 0, 0, 0, 0, 0, 0, 0, 2, 0, 0, 0, 0, 3, 2,\n",
       "       0, 0, 0, 0, 0, 0, 1, 0, 0, 0, 0, 0, 1, 0, 0, 3, 0, 0, 2, 0, 2, 0,\n",
       "       0, 0, 0, 2, 0, 0, 2, 1, 0, 0, 0, 0, 0, 0, 2, 0, 0, 0, 0, 0, 2, 2,\n",
       "       0, 2, 0, 0, 0, 0, 2, 0, 2, 0, 0, 0, 0, 0, 0, 0, 1, 0, 2, 0, 0, 0,\n",
       "       0, 0, 0, 0, 0, 2, 3, 0, 2, 0, 0, 0, 2, 0, 0, 3, 0, 0, 0, 0, 0, 2,\n",
       "       2, 0, 0, 0, 0, 0, 0, 0, 0, 0, 0, 0, 0, 0, 0, 4, 0, 0, 0, 0, 0, 2,\n",
       "       0, 0, 0, 0, 0, 0, 0, 4, 0, 0, 0, 0, 0, 0, 0, 0, 0, 2, 2, 0, 0, 1,\n",
       "       0, 0, 0, 0, 0, 0, 0, 1, 0, 0, 0, 0, 0, 0, 2, 2, 0, 2, 0, 0, 0, 2,\n",
       "       0, 0, 0, 0, 2, 0, 0, 0, 0, 0, 0, 0, 0, 0, 0, 0, 0, 0, 0, 0, 0, 0,\n",
       "       0, 0, 0, 0, 0, 0, 1, 0, 0, 0, 0, 1, 0, 0, 0, 0, 1, 0, 0, 0, 2, 0,\n",
       "       0, 0, 0, 0, 0, 0, 2, 1, 2, 0, 0, 0, 0, 0, 0, 0, 0, 0, 0, 0, 2, 0,\n",
       "       0, 0, 0, 0, 0, 0, 0, 0, 0, 2, 0, 2, 0, 0, 2, 4, 2, 2, 0, 0, 0, 0,\n",
       "       2, 1, 0, 0, 0, 2, 0, 0, 0, 0, 0, 0, 0, 0, 1, 0, 0, 3, 2, 0, 2, 0,\n",
       "       0, 2, 0, 0, 0, 0, 0, 0, 0, 0, 0, 0, 0, 0, 0, 0, 0, 0, 0, 0, 0, 0,\n",
       "       2, 0, 0, 2, 3, 2, 2, 0, 1, 0, 0, 0, 0, 0, 2, 0, 0, 1, 2, 0, 0, 0,\n",
       "       1, 0, 0, 0, 0, 0, 2, 0, 0, 3, 3, 0, 0, 0, 0, 0, 2, 0, 0, 2, 0, 2,\n",
       "       0, 0, 0, 0, 0, 1, 0, 0, 0, 0, 2, 0, 2, 0, 0, 2, 0, 2, 0, 4, 0, 2,\n",
       "       0, 0, 0, 0, 2, 0, 1, 0, 0, 0, 0, 0, 0, 0, 0, 4, 0, 0, 0, 0, 4, 0,\n",
       "       0, 0, 0, 0, 0, 0, 0, 0, 0, 4, 4, 0, 0, 0, 0, 0, 0, 0, 0, 0, 0, 0,\n",
       "       0, 0, 0, 0, 3, 0, 0, 0, 2, 2, 0, 0, 2, 2, 2, 1, 0, 0, 0, 0, 1, 0,\n",
       "       0, 0, 0, 0, 2, 0, 0, 0, 0, 0, 0, 0, 0, 0, 0, 0, 2, 0, 0, 0, 2, 2,\n",
       "       2, 0, 2, 3, 0, 0, 2, 0, 3, 0, 0, 2, 0, 0, 0, 0, 0, 0, 0, 0, 0, 2,\n",
       "       2, 0, 0, 2, 0, 1, 2, 0, 0, 0, 0, 0, 0, 2, 0, 0, 1, 2, 2, 0, 0, 2,\n",
       "       0, 2, 0, 2, 0, 0, 0, 0, 0, 2, 2, 2, 0, 0, 2, 0, 2, 0, 0, 0, 1, 0,\n",
       "       0, 0, 0, 0, 0, 0, 0, 0, 0, 0, 3, 0, 3, 3, 0, 0, 0, 0, 0, 1, 2, 0,\n",
       "       0, 2, 1, 0, 1, 0, 2, 0, 0, 0, 0, 0, 0, 0, 0, 0, 0, 0, 0, 0, 0, 0,\n",
       "       0, 0, 4, 0, 1, 0, 2, 4, 0, 0, 2, 0, 0, 2, 0, 2, 0, 2, 1, 0, 0, 2,\n",
       "       0, 2, 0, 0, 0, 1, 0, 0, 0, 0, 0, 0, 2, 0, 2, 0, 3, 3, 0, 1, 0, 0,\n",
       "       0, 0, 0, 2, 0, 2, 0, 3, 0, 0, 0, 0, 0, 0, 0, 3, 0, 0, 0, 0, 2, 0,\n",
       "       0, 0, 0, 0, 3, 2, 0, 0, 2, 0, 0, 0, 0, 0, 2, 3, 0, 2, 0, 0, 1, 1,\n",
       "       2, 0, 0, 0, 2, 0, 1, 2, 0, 2, 4, 0, 0, 0, 0, 2, 0, 0, 0, 0, 0, 2,\n",
       "       0, 0, 0, 2, 0, 0])"
      ]
     },
     "execution_count": 235,
     "metadata": {},
     "output_type": "execute_result"
    }
   ],
   "source": [
    "titles_kmeans.labels_"
   ]
  },
  {
   "cell_type": "code",
   "execution_count": 236,
   "metadata": {},
   "outputs": [],
   "source": [
    "titles_bag_of_words['cluster_label'] = list(titles_kmeans.labels_)"
   ]
  },
  {
   "cell_type": "code",
   "execution_count": 237,
   "metadata": {},
   "outputs": [
    {
     "data": {
      "text/plain": [
       "638"
      ]
     },
     "execution_count": 237,
     "metadata": {},
     "output_type": "execute_result"
    }
   ],
   "source": [
    "len(titles_bag_of_words[titles_bag_of_words['cluster_label']==0]['article_link'].unique())"
   ]
  },
  {
   "cell_type": "code",
   "execution_count": 238,
   "metadata": {},
   "outputs": [],
   "source": [
    "X=pd.DataFrame(X, columns=['X', 'Y'])\n",
    "\n"
   ]
  },
  {
   "cell_type": "code",
   "execution_count": 239,
   "metadata": {},
   "outputs": [
    {
     "data": {
      "text/plain": [
       "(864, 2)"
      ]
     },
     "execution_count": 239,
     "metadata": {},
     "output_type": "execute_result"
    }
   ],
   "source": [
    "X.shape"
   ]
  },
  {
   "cell_type": "code",
   "execution_count": 240,
   "metadata": {},
   "outputs": [],
   "source": [
    "X['cluster_label'] = titles_bag_of_words['cluster_label'].to_list()"
   ]
  },
  {
   "cell_type": "code",
   "execution_count": 241,
   "metadata": {},
   "outputs": [],
   "source": [
    "X['index'] = X.index"
   ]
  },
  {
   "cell_type": "code",
   "execution_count": 242,
   "metadata": {},
   "outputs": [
    {
     "data": {
      "text/html": [
       "<div>\n",
       "<style scoped>\n",
       "    .dataframe tbody tr th:only-of-type {\n",
       "        vertical-align: middle;\n",
       "    }\n",
       "\n",
       "    .dataframe tbody tr th {\n",
       "        vertical-align: top;\n",
       "    }\n",
       "\n",
       "    .dataframe thead th {\n",
       "        text-align: right;\n",
       "    }\n",
       "</style>\n",
       "<table border=\"1\" class=\"dataframe\">\n",
       "  <thead>\n",
       "    <tr style=\"text-align: right;\">\n",
       "      <th></th>\n",
       "      <th>X</th>\n",
       "      <th>Y</th>\n",
       "      <th>cluster_label</th>\n",
       "      <th>index</th>\n",
       "    </tr>\n",
       "  </thead>\n",
       "  <tbody>\n",
       "    <tr>\n",
       "      <th>0</th>\n",
       "      <td>6.021480e-04</td>\n",
       "      <td>-0.000588</td>\n",
       "      <td>0</td>\n",
       "      <td>0</td>\n",
       "    </tr>\n",
       "    <tr>\n",
       "      <th>1</th>\n",
       "      <td>5.780027e-03</td>\n",
       "      <td>-0.002093</td>\n",
       "      <td>0</td>\n",
       "      <td>1</td>\n",
       "    </tr>\n",
       "    <tr>\n",
       "      <th>2</th>\n",
       "      <td>8.249128e-04</td>\n",
       "      <td>-0.001473</td>\n",
       "      <td>0</td>\n",
       "      <td>2</td>\n",
       "    </tr>\n",
       "    <tr>\n",
       "      <th>3</th>\n",
       "      <td>1.083799e-01</td>\n",
       "      <td>-0.057603</td>\n",
       "      <td>0</td>\n",
       "      <td>3</td>\n",
       "    </tr>\n",
       "    <tr>\n",
       "      <th>4</th>\n",
       "      <td>4.006878e-02</td>\n",
       "      <td>0.032171</td>\n",
       "      <td>0</td>\n",
       "      <td>4</td>\n",
       "    </tr>\n",
       "    <tr>\n",
       "      <th>...</th>\n",
       "      <td>...</td>\n",
       "      <td>...</td>\n",
       "      <td>...</td>\n",
       "      <td>...</td>\n",
       "    </tr>\n",
       "    <tr>\n",
       "      <th>859</th>\n",
       "      <td>6.143816e-03</td>\n",
       "      <td>0.007076</td>\n",
       "      <td>0</td>\n",
       "      <td>859</td>\n",
       "    </tr>\n",
       "    <tr>\n",
       "      <th>860</th>\n",
       "      <td>-3.179954e-08</td>\n",
       "      <td>-0.000005</td>\n",
       "      <td>0</td>\n",
       "      <td>860</td>\n",
       "    </tr>\n",
       "    <tr>\n",
       "      <th>861</th>\n",
       "      <td>1.119331e+00</td>\n",
       "      <td>0.067981</td>\n",
       "      <td>2</td>\n",
       "      <td>861</td>\n",
       "    </tr>\n",
       "    <tr>\n",
       "      <th>862</th>\n",
       "      <td>1.326226e-01</td>\n",
       "      <td>0.142674</td>\n",
       "      <td>0</td>\n",
       "      <td>862</td>\n",
       "    </tr>\n",
       "    <tr>\n",
       "      <th>863</th>\n",
       "      <td>6.112893e-03</td>\n",
       "      <td>0.000281</td>\n",
       "      <td>0</td>\n",
       "      <td>863</td>\n",
       "    </tr>\n",
       "  </tbody>\n",
       "</table>\n",
       "<p>864 rows × 4 columns</p>\n",
       "</div>"
      ],
      "text/plain": [
       "                X         Y  cluster_label  index\n",
       "0    6.021480e-04 -0.000588              0      0\n",
       "1    5.780027e-03 -0.002093              0      1\n",
       "2    8.249128e-04 -0.001473              0      2\n",
       "3    1.083799e-01 -0.057603              0      3\n",
       "4    4.006878e-02  0.032171              0      4\n",
       "..            ...       ...            ...    ...\n",
       "859  6.143816e-03  0.007076              0    859\n",
       "860 -3.179954e-08 -0.000005              0    860\n",
       "861  1.119331e+00  0.067981              2    861\n",
       "862  1.326226e-01  0.142674              0    862\n",
       "863  6.112893e-03  0.000281              0    863\n",
       "\n",
       "[864 rows x 4 columns]"
      ]
     },
     "execution_count": 242,
     "metadata": {},
     "output_type": "execute_result"
    }
   ],
   "source": [
    "X"
   ]
  },
  {
   "cell_type": "code",
   "execution_count": 243,
   "metadata": {},
   "outputs": [
    {
     "data": {
      "application/vnd.plotly.v1+json": {
       "config": {
        "plotlyServerURL": "https://plot.ly"
       },
       "data": [
        {
         "customdata": [
          [
           0
          ],
          [
           1
          ],
          [
           2
          ],
          [
           3
          ],
          [
           4
          ],
          [
           5
          ],
          [
           6
          ],
          [
           7
          ],
          [
           8
          ],
          [
           9
          ],
          [
           10
          ],
          [
           11
          ],
          [
           12
          ],
          [
           13
          ],
          [
           14
          ],
          [
           15
          ],
          [
           16
          ],
          [
           17
          ],
          [
           18
          ],
          [
           19
          ],
          [
           20
          ],
          [
           21
          ],
          [
           22
          ],
          [
           23
          ],
          [
           24
          ],
          [
           25
          ],
          [
           26
          ],
          [
           27
          ],
          [
           28
          ],
          [
           29
          ],
          [
           30
          ],
          [
           31
          ],
          [
           32
          ],
          [
           33
          ],
          [
           34
          ],
          [
           35
          ],
          [
           36
          ],
          [
           37
          ],
          [
           38
          ],
          [
           39
          ],
          [
           40
          ],
          [
           41
          ],
          [
           42
          ],
          [
           43
          ],
          [
           44
          ],
          [
           45
          ],
          [
           46
          ],
          [
           47
          ],
          [
           48
          ],
          [
           49
          ],
          [
           50
          ],
          [
           51
          ],
          [
           52
          ],
          [
           53
          ],
          [
           54
          ],
          [
           55
          ],
          [
           56
          ],
          [
           57
          ],
          [
           58
          ],
          [
           59
          ],
          [
           60
          ],
          [
           61
          ],
          [
           62
          ],
          [
           63
          ],
          [
           64
          ],
          [
           65
          ],
          [
           66
          ],
          [
           67
          ],
          [
           68
          ],
          [
           69
          ],
          [
           70
          ],
          [
           71
          ],
          [
           72
          ],
          [
           73
          ],
          [
           74
          ],
          [
           75
          ],
          [
           76
          ],
          [
           77
          ],
          [
           78
          ],
          [
           79
          ],
          [
           80
          ],
          [
           81
          ],
          [
           82
          ],
          [
           83
          ],
          [
           84
          ],
          [
           85
          ],
          [
           86
          ],
          [
           87
          ],
          [
           88
          ],
          [
           89
          ],
          [
           90
          ],
          [
           91
          ],
          [
           92
          ],
          [
           93
          ],
          [
           94
          ],
          [
           95
          ],
          [
           96
          ],
          [
           97
          ],
          [
           98
          ],
          [
           99
          ],
          [
           100
          ],
          [
           101
          ],
          [
           102
          ],
          [
           103
          ],
          [
           104
          ],
          [
           105
          ],
          [
           106
          ],
          [
           107
          ],
          [
           108
          ],
          [
           109
          ],
          [
           110
          ],
          [
           111
          ],
          [
           112
          ],
          [
           113
          ],
          [
           114
          ],
          [
           115
          ],
          [
           116
          ],
          [
           117
          ],
          [
           118
          ],
          [
           119
          ],
          [
           120
          ],
          [
           121
          ],
          [
           122
          ],
          [
           123
          ],
          [
           124
          ],
          [
           125
          ],
          [
           126
          ],
          [
           127
          ],
          [
           128
          ],
          [
           129
          ],
          [
           130
          ],
          [
           131
          ],
          [
           132
          ],
          [
           133
          ],
          [
           134
          ],
          [
           135
          ],
          [
           136
          ],
          [
           137
          ],
          [
           138
          ],
          [
           139
          ],
          [
           140
          ],
          [
           141
          ],
          [
           142
          ],
          [
           143
          ],
          [
           144
          ],
          [
           145
          ],
          [
           146
          ],
          [
           147
          ],
          [
           148
          ],
          [
           149
          ],
          [
           150
          ],
          [
           151
          ],
          [
           152
          ],
          [
           153
          ],
          [
           154
          ],
          [
           155
          ],
          [
           156
          ],
          [
           157
          ],
          [
           158
          ],
          [
           159
          ],
          [
           160
          ],
          [
           161
          ],
          [
           162
          ],
          [
           163
          ],
          [
           164
          ],
          [
           165
          ],
          [
           166
          ],
          [
           167
          ],
          [
           168
          ],
          [
           169
          ],
          [
           170
          ],
          [
           171
          ],
          [
           172
          ],
          [
           173
          ],
          [
           174
          ],
          [
           175
          ],
          [
           176
          ],
          [
           177
          ],
          [
           178
          ],
          [
           179
          ],
          [
           180
          ],
          [
           181
          ],
          [
           182
          ],
          [
           183
          ],
          [
           184
          ],
          [
           185
          ],
          [
           186
          ],
          [
           187
          ],
          [
           188
          ],
          [
           189
          ],
          [
           190
          ],
          [
           191
          ],
          [
           192
          ],
          [
           193
          ],
          [
           194
          ],
          [
           195
          ],
          [
           196
          ],
          [
           197
          ],
          [
           198
          ],
          [
           199
          ],
          [
           200
          ],
          [
           201
          ],
          [
           202
          ],
          [
           203
          ],
          [
           204
          ],
          [
           205
          ],
          [
           206
          ],
          [
           207
          ],
          [
           208
          ],
          [
           209
          ],
          [
           210
          ],
          [
           211
          ],
          [
           212
          ],
          [
           213
          ],
          [
           214
          ],
          [
           215
          ],
          [
           216
          ],
          [
           217
          ],
          [
           218
          ],
          [
           219
          ],
          [
           220
          ],
          [
           221
          ],
          [
           222
          ],
          [
           223
          ],
          [
           224
          ],
          [
           225
          ],
          [
           226
          ],
          [
           227
          ],
          [
           228
          ],
          [
           229
          ],
          [
           230
          ],
          [
           231
          ],
          [
           232
          ],
          [
           233
          ],
          [
           234
          ],
          [
           235
          ],
          [
           236
          ],
          [
           237
          ],
          [
           238
          ],
          [
           239
          ],
          [
           240
          ],
          [
           241
          ],
          [
           242
          ],
          [
           243
          ],
          [
           244
          ],
          [
           245
          ],
          [
           246
          ],
          [
           247
          ],
          [
           248
          ],
          [
           249
          ],
          [
           250
          ],
          [
           251
          ],
          [
           252
          ],
          [
           253
          ],
          [
           254
          ],
          [
           255
          ],
          [
           256
          ],
          [
           257
          ],
          [
           258
          ],
          [
           259
          ],
          [
           260
          ],
          [
           261
          ],
          [
           262
          ],
          [
           263
          ],
          [
           264
          ],
          [
           265
          ],
          [
           266
          ],
          [
           267
          ],
          [
           268
          ],
          [
           269
          ],
          [
           270
          ],
          [
           271
          ],
          [
           272
          ],
          [
           273
          ],
          [
           274
          ],
          [
           275
          ],
          [
           276
          ],
          [
           277
          ],
          [
           278
          ],
          [
           279
          ],
          [
           280
          ],
          [
           281
          ],
          [
           282
          ],
          [
           283
          ],
          [
           284
          ],
          [
           285
          ],
          [
           286
          ],
          [
           287
          ],
          [
           288
          ],
          [
           289
          ],
          [
           290
          ],
          [
           291
          ],
          [
           292
          ],
          [
           293
          ],
          [
           294
          ],
          [
           295
          ],
          [
           296
          ],
          [
           297
          ],
          [
           298
          ],
          [
           299
          ],
          [
           300
          ],
          [
           301
          ],
          [
           302
          ],
          [
           303
          ],
          [
           304
          ],
          [
           305
          ],
          [
           306
          ],
          [
           307
          ],
          [
           308
          ],
          [
           309
          ],
          [
           310
          ],
          [
           311
          ],
          [
           312
          ],
          [
           313
          ],
          [
           314
          ],
          [
           315
          ],
          [
           316
          ],
          [
           317
          ],
          [
           318
          ],
          [
           319
          ],
          [
           320
          ],
          [
           321
          ],
          [
           322
          ],
          [
           323
          ],
          [
           324
          ],
          [
           325
          ],
          [
           326
          ],
          [
           327
          ],
          [
           328
          ],
          [
           329
          ],
          [
           330
          ],
          [
           331
          ],
          [
           332
          ],
          [
           333
          ],
          [
           334
          ],
          [
           335
          ],
          [
           336
          ],
          [
           337
          ],
          [
           338
          ],
          [
           339
          ],
          [
           340
          ],
          [
           341
          ],
          [
           342
          ],
          [
           343
          ],
          [
           344
          ],
          [
           345
          ],
          [
           346
          ],
          [
           347
          ],
          [
           348
          ],
          [
           349
          ],
          [
           350
          ],
          [
           351
          ],
          [
           352
          ],
          [
           353
          ],
          [
           354
          ],
          [
           355
          ],
          [
           356
          ],
          [
           357
          ],
          [
           358
          ],
          [
           359
          ],
          [
           360
          ],
          [
           361
          ],
          [
           362
          ],
          [
           363
          ],
          [
           364
          ],
          [
           365
          ],
          [
           366
          ],
          [
           367
          ],
          [
           368
          ],
          [
           369
          ],
          [
           370
          ],
          [
           371
          ],
          [
           372
          ],
          [
           373
          ],
          [
           374
          ],
          [
           375
          ],
          [
           376
          ],
          [
           377
          ],
          [
           378
          ],
          [
           379
          ],
          [
           380
          ],
          [
           381
          ],
          [
           382
          ],
          [
           383
          ],
          [
           384
          ],
          [
           385
          ],
          [
           386
          ],
          [
           387
          ],
          [
           388
          ],
          [
           389
          ],
          [
           390
          ],
          [
           391
          ],
          [
           392
          ],
          [
           393
          ],
          [
           394
          ],
          [
           395
          ],
          [
           396
          ],
          [
           397
          ],
          [
           398
          ],
          [
           399
          ],
          [
           400
          ],
          [
           401
          ],
          [
           402
          ],
          [
           403
          ],
          [
           404
          ],
          [
           405
          ],
          [
           406
          ],
          [
           407
          ],
          [
           408
          ],
          [
           409
          ],
          [
           410
          ],
          [
           411
          ],
          [
           412
          ],
          [
           413
          ],
          [
           414
          ],
          [
           415
          ],
          [
           416
          ],
          [
           417
          ],
          [
           418
          ],
          [
           419
          ],
          [
           420
          ],
          [
           421
          ],
          [
           422
          ],
          [
           423
          ],
          [
           424
          ],
          [
           425
          ],
          [
           426
          ],
          [
           427
          ],
          [
           428
          ],
          [
           429
          ],
          [
           430
          ],
          [
           431
          ],
          [
           432
          ],
          [
           433
          ],
          [
           434
          ],
          [
           435
          ],
          [
           436
          ],
          [
           437
          ],
          [
           438
          ],
          [
           439
          ],
          [
           440
          ],
          [
           441
          ],
          [
           442
          ],
          [
           443
          ],
          [
           444
          ],
          [
           445
          ],
          [
           446
          ],
          [
           447
          ],
          [
           448
          ],
          [
           449
          ],
          [
           450
          ],
          [
           451
          ],
          [
           452
          ],
          [
           453
          ],
          [
           454
          ],
          [
           455
          ],
          [
           456
          ],
          [
           457
          ],
          [
           458
          ],
          [
           459
          ],
          [
           460
          ],
          [
           461
          ],
          [
           462
          ],
          [
           463
          ],
          [
           464
          ],
          [
           465
          ],
          [
           466
          ],
          [
           467
          ],
          [
           468
          ],
          [
           469
          ],
          [
           470
          ],
          [
           471
          ],
          [
           472
          ],
          [
           473
          ],
          [
           474
          ],
          [
           475
          ],
          [
           476
          ],
          [
           477
          ],
          [
           478
          ],
          [
           479
          ],
          [
           480
          ],
          [
           481
          ],
          [
           482
          ],
          [
           483
          ],
          [
           484
          ],
          [
           485
          ],
          [
           486
          ],
          [
           487
          ],
          [
           488
          ],
          [
           489
          ],
          [
           490
          ],
          [
           491
          ],
          [
           492
          ],
          [
           493
          ],
          [
           494
          ],
          [
           495
          ],
          [
           496
          ],
          [
           497
          ],
          [
           498
          ],
          [
           499
          ],
          [
           500
          ],
          [
           501
          ],
          [
           502
          ],
          [
           503
          ],
          [
           504
          ],
          [
           505
          ],
          [
           506
          ],
          [
           507
          ],
          [
           508
          ],
          [
           509
          ],
          [
           510
          ],
          [
           511
          ],
          [
           512
          ],
          [
           513
          ],
          [
           514
          ],
          [
           515
          ],
          [
           516
          ],
          [
           517
          ],
          [
           518
          ],
          [
           519
          ],
          [
           520
          ],
          [
           521
          ],
          [
           522
          ],
          [
           523
          ],
          [
           524
          ],
          [
           525
          ],
          [
           526
          ],
          [
           527
          ],
          [
           528
          ],
          [
           529
          ],
          [
           530
          ],
          [
           531
          ],
          [
           532
          ],
          [
           533
          ],
          [
           534
          ],
          [
           535
          ],
          [
           536
          ],
          [
           537
          ],
          [
           538
          ],
          [
           539
          ],
          [
           540
          ],
          [
           541
          ],
          [
           542
          ],
          [
           543
          ],
          [
           544
          ],
          [
           545
          ],
          [
           546
          ],
          [
           547
          ],
          [
           548
          ],
          [
           549
          ],
          [
           550
          ],
          [
           551
          ],
          [
           552
          ],
          [
           553
          ],
          [
           554
          ],
          [
           555
          ],
          [
           556
          ],
          [
           557
          ],
          [
           558
          ],
          [
           559
          ],
          [
           560
          ],
          [
           561
          ],
          [
           562
          ],
          [
           563
          ],
          [
           564
          ],
          [
           565
          ],
          [
           566
          ],
          [
           567
          ],
          [
           568
          ],
          [
           569
          ],
          [
           570
          ],
          [
           571
          ],
          [
           572
          ],
          [
           573
          ],
          [
           574
          ],
          [
           575
          ],
          [
           576
          ],
          [
           577
          ],
          [
           578
          ],
          [
           579
          ],
          [
           580
          ],
          [
           581
          ],
          [
           582
          ],
          [
           583
          ],
          [
           584
          ],
          [
           585
          ],
          [
           586
          ],
          [
           587
          ],
          [
           588
          ],
          [
           589
          ],
          [
           590
          ],
          [
           591
          ],
          [
           592
          ],
          [
           593
          ],
          [
           594
          ],
          [
           595
          ],
          [
           596
          ],
          [
           597
          ],
          [
           598
          ],
          [
           599
          ],
          [
           600
          ],
          [
           601
          ],
          [
           602
          ],
          [
           603
          ],
          [
           604
          ],
          [
           605
          ],
          [
           606
          ],
          [
           607
          ],
          [
           608
          ],
          [
           609
          ],
          [
           610
          ],
          [
           611
          ],
          [
           612
          ],
          [
           613
          ],
          [
           614
          ],
          [
           615
          ],
          [
           616
          ],
          [
           617
          ],
          [
           618
          ],
          [
           619
          ],
          [
           620
          ],
          [
           621
          ],
          [
           622
          ],
          [
           623
          ],
          [
           624
          ],
          [
           625
          ],
          [
           626
          ],
          [
           627
          ],
          [
           628
          ],
          [
           629
          ],
          [
           630
          ],
          [
           631
          ],
          [
           632
          ],
          [
           633
          ],
          [
           634
          ],
          [
           635
          ],
          [
           636
          ],
          [
           637
          ],
          [
           638
          ],
          [
           639
          ],
          [
           640
          ],
          [
           641
          ],
          [
           642
          ],
          [
           643
          ],
          [
           644
          ],
          [
           645
          ],
          [
           646
          ],
          [
           647
          ],
          [
           648
          ],
          [
           649
          ],
          [
           650
          ],
          [
           651
          ],
          [
           652
          ],
          [
           653
          ],
          [
           654
          ],
          [
           655
          ],
          [
           656
          ],
          [
           657
          ],
          [
           658
          ],
          [
           659
          ],
          [
           660
          ],
          [
           661
          ],
          [
           662
          ],
          [
           663
          ],
          [
           664
          ],
          [
           665
          ],
          [
           666
          ],
          [
           667
          ],
          [
           668
          ],
          [
           669
          ],
          [
           670
          ],
          [
           671
          ],
          [
           672
          ],
          [
           673
          ],
          [
           674
          ],
          [
           675
          ],
          [
           676
          ],
          [
           677
          ],
          [
           678
          ],
          [
           679
          ],
          [
           680
          ],
          [
           681
          ],
          [
           682
          ],
          [
           683
          ],
          [
           684
          ],
          [
           685
          ],
          [
           686
          ],
          [
           687
          ],
          [
           688
          ],
          [
           689
          ],
          [
           690
          ],
          [
           691
          ],
          [
           692
          ],
          [
           693
          ],
          [
           694
          ],
          [
           695
          ],
          [
           696
          ],
          [
           697
          ],
          [
           698
          ],
          [
           699
          ],
          [
           700
          ],
          [
           701
          ],
          [
           702
          ],
          [
           703
          ],
          [
           704
          ],
          [
           705
          ],
          [
           706
          ],
          [
           707
          ],
          [
           708
          ],
          [
           709
          ],
          [
           710
          ],
          [
           711
          ],
          [
           712
          ],
          [
           713
          ],
          [
           714
          ],
          [
           715
          ],
          [
           716
          ],
          [
           717
          ],
          [
           718
          ],
          [
           719
          ],
          [
           720
          ],
          [
           721
          ],
          [
           722
          ],
          [
           723
          ],
          [
           724
          ],
          [
           725
          ],
          [
           726
          ],
          [
           727
          ],
          [
           728
          ],
          [
           729
          ],
          [
           730
          ],
          [
           731
          ],
          [
           732
          ],
          [
           733
          ],
          [
           734
          ],
          [
           735
          ],
          [
           736
          ],
          [
           737
          ],
          [
           738
          ],
          [
           739
          ],
          [
           740
          ],
          [
           741
          ],
          [
           742
          ],
          [
           743
          ],
          [
           744
          ],
          [
           745
          ],
          [
           746
          ],
          [
           747
          ],
          [
           748
          ],
          [
           749
          ],
          [
           750
          ],
          [
           751
          ],
          [
           752
          ],
          [
           753
          ],
          [
           754
          ],
          [
           755
          ],
          [
           756
          ],
          [
           757
          ],
          [
           758
          ],
          [
           759
          ],
          [
           760
          ],
          [
           761
          ],
          [
           762
          ],
          [
           763
          ],
          [
           764
          ],
          [
           765
          ],
          [
           766
          ],
          [
           767
          ],
          [
           768
          ],
          [
           769
          ],
          [
           770
          ],
          [
           771
          ],
          [
           772
          ],
          [
           773
          ],
          [
           774
          ],
          [
           775
          ],
          [
           776
          ],
          [
           777
          ],
          [
           778
          ],
          [
           779
          ],
          [
           780
          ],
          [
           781
          ],
          [
           782
          ],
          [
           783
          ],
          [
           784
          ],
          [
           785
          ],
          [
           786
          ],
          [
           787
          ],
          [
           788
          ],
          [
           789
          ],
          [
           790
          ],
          [
           791
          ],
          [
           792
          ],
          [
           793
          ],
          [
           794
          ],
          [
           795
          ],
          [
           796
          ],
          [
           797
          ],
          [
           798
          ],
          [
           799
          ],
          [
           800
          ],
          [
           801
          ],
          [
           802
          ],
          [
           803
          ],
          [
           804
          ],
          [
           805
          ],
          [
           806
          ],
          [
           807
          ],
          [
           808
          ],
          [
           809
          ],
          [
           810
          ],
          [
           811
          ],
          [
           812
          ],
          [
           813
          ],
          [
           814
          ],
          [
           815
          ],
          [
           816
          ],
          [
           817
          ],
          [
           818
          ],
          [
           819
          ],
          [
           820
          ],
          [
           821
          ],
          [
           822
          ],
          [
           823
          ],
          [
           824
          ],
          [
           825
          ],
          [
           826
          ],
          [
           827
          ],
          [
           828
          ],
          [
           829
          ],
          [
           830
          ],
          [
           831
          ],
          [
           832
          ],
          [
           833
          ],
          [
           834
          ],
          [
           835
          ],
          [
           836
          ],
          [
           837
          ],
          [
           838
          ],
          [
           839
          ],
          [
           840
          ],
          [
           841
          ],
          [
           842
          ],
          [
           843
          ],
          [
           844
          ],
          [
           845
          ],
          [
           846
          ],
          [
           847
          ],
          [
           848
          ],
          [
           849
          ],
          [
           850
          ],
          [
           851
          ],
          [
           852
          ],
          [
           853
          ],
          [
           854
          ],
          [
           855
          ],
          [
           856
          ],
          [
           857
          ],
          [
           858
          ],
          [
           859
          ],
          [
           860
          ],
          [
           861
          ],
          [
           862
          ],
          [
           863
          ]
         ],
         "hovertemplate": "X=%{x}<br>Y=%{y}<br>index=%{customdata[0]}<br>cluster_label=%{marker.color}<extra></extra>",
         "legendgroup": "",
         "marker": {
          "color": [
           0,
           0,
           0,
           0,
           0,
           1,
           0,
           0,
           0,
           4,
           0,
           0,
           0,
           0,
           2,
           0,
           0,
           4,
           0,
           0,
           0,
           2,
           0,
           4,
           0,
           0,
           0,
           2,
           0,
           0,
           2,
           0,
           0,
           1,
           0,
           0,
           0,
           0,
           0,
           0,
           0,
           0,
           0,
           0,
           4,
           0,
           3,
           0,
           0,
           0,
           0,
           0,
           0,
           0,
           0,
           0,
           0,
           2,
           0,
           0,
           2,
           0,
           0,
           0,
           0,
           0,
           4,
           4,
           1,
           2,
           1,
           0,
           0,
           0,
           0,
           2,
           0,
           2,
           0,
           2,
           2,
           0,
           2,
           2,
           0,
           4,
           2,
           0,
           0,
           0,
           0,
           0,
           0,
           0,
           0,
           0,
           2,
           0,
           0,
           0,
           0,
           0,
           0,
           3,
           0,
           0,
           0,
           2,
           2,
           0,
           0,
           0,
           0,
           0,
           4,
           0,
           0,
           2,
           0,
           0,
           0,
           0,
           2,
           3,
           0,
           0,
           4,
           4,
           4,
           2,
           0,
           0,
           1,
           0,
           0,
           2,
           0,
           0,
           0,
           4,
           2,
           0,
           0,
           0,
           0,
           0,
           0,
           2,
           2,
           0,
           2,
           0,
           0,
           2,
           2,
           2,
           0,
           0,
           0,
           0,
           0,
           0,
           0,
           0,
           0,
           0,
           2,
           0,
           1,
           0,
           0,
           0,
           1,
           0,
           0,
           0,
           0,
           0,
           2,
           2,
           0,
           0,
           0,
           0,
           0,
           0,
           0,
           0,
           0,
           0,
           0,
           2,
           0,
           0,
           0,
           0,
           3,
           2,
           0,
           0,
           0,
           0,
           0,
           0,
           1,
           0,
           0,
           0,
           0,
           0,
           1,
           0,
           0,
           3,
           0,
           0,
           2,
           0,
           2,
           0,
           0,
           0,
           0,
           2,
           0,
           0,
           2,
           1,
           0,
           0,
           0,
           0,
           0,
           0,
           2,
           0,
           0,
           0,
           0,
           0,
           2,
           2,
           0,
           2,
           0,
           0,
           0,
           0,
           2,
           0,
           2,
           0,
           0,
           0,
           0,
           0,
           0,
           0,
           1,
           0,
           2,
           0,
           0,
           0,
           0,
           0,
           0,
           0,
           0,
           2,
           3,
           0,
           2,
           0,
           0,
           0,
           2,
           0,
           0,
           3,
           0,
           0,
           0,
           0,
           0,
           2,
           2,
           0,
           0,
           0,
           0,
           0,
           0,
           0,
           0,
           0,
           0,
           0,
           0,
           0,
           0,
           4,
           0,
           0,
           0,
           0,
           0,
           2,
           0,
           0,
           0,
           0,
           0,
           0,
           0,
           4,
           0,
           0,
           0,
           0,
           0,
           0,
           0,
           0,
           0,
           2,
           2,
           0,
           0,
           1,
           0,
           0,
           0,
           0,
           0,
           0,
           0,
           1,
           0,
           0,
           0,
           0,
           0,
           0,
           2,
           2,
           0,
           2,
           0,
           0,
           0,
           2,
           0,
           0,
           0,
           0,
           2,
           0,
           0,
           0,
           0,
           0,
           0,
           0,
           0,
           0,
           0,
           0,
           0,
           0,
           0,
           0,
           0,
           0,
           0,
           0,
           0,
           0,
           0,
           0,
           1,
           0,
           0,
           0,
           0,
           1,
           0,
           0,
           0,
           0,
           1,
           0,
           0,
           0,
           2,
           0,
           0,
           0,
           0,
           0,
           0,
           0,
           2,
           1,
           2,
           0,
           0,
           0,
           0,
           0,
           0,
           0,
           0,
           0,
           0,
           0,
           2,
           0,
           0,
           0,
           0,
           0,
           0,
           0,
           0,
           0,
           0,
           2,
           0,
           2,
           0,
           0,
           2,
           4,
           2,
           2,
           0,
           0,
           0,
           0,
           2,
           1,
           0,
           0,
           0,
           2,
           0,
           0,
           0,
           0,
           0,
           0,
           0,
           0,
           1,
           0,
           0,
           3,
           2,
           0,
           2,
           0,
           0,
           2,
           0,
           0,
           0,
           0,
           0,
           0,
           0,
           0,
           0,
           0,
           0,
           0,
           0,
           0,
           0,
           0,
           0,
           0,
           0,
           0,
           2,
           0,
           0,
           2,
           3,
           2,
           2,
           0,
           1,
           0,
           0,
           0,
           0,
           0,
           2,
           0,
           0,
           1,
           2,
           0,
           0,
           0,
           1,
           0,
           0,
           0,
           0,
           0,
           2,
           0,
           0,
           3,
           3,
           0,
           0,
           0,
           0,
           0,
           2,
           0,
           0,
           2,
           0,
           2,
           0,
           0,
           0,
           0,
           0,
           1,
           0,
           0,
           0,
           0,
           2,
           0,
           2,
           0,
           0,
           2,
           0,
           2,
           0,
           4,
           0,
           2,
           0,
           0,
           0,
           0,
           2,
           0,
           1,
           0,
           0,
           0,
           0,
           0,
           0,
           0,
           0,
           4,
           0,
           0,
           0,
           0,
           4,
           0,
           0,
           0,
           0,
           0,
           0,
           0,
           0,
           0,
           0,
           4,
           4,
           0,
           0,
           0,
           0,
           0,
           0,
           0,
           0,
           0,
           0,
           0,
           0,
           0,
           0,
           0,
           3,
           0,
           0,
           0,
           2,
           2,
           0,
           0,
           2,
           2,
           2,
           1,
           0,
           0,
           0,
           0,
           1,
           0,
           0,
           0,
           0,
           0,
           2,
           0,
           0,
           0,
           0,
           0,
           0,
           0,
           0,
           0,
           0,
           0,
           2,
           0,
           0,
           0,
           2,
           2,
           2,
           0,
           2,
           3,
           0,
           0,
           2,
           0,
           3,
           0,
           0,
           2,
           0,
           0,
           0,
           0,
           0,
           0,
           0,
           0,
           0,
           2,
           2,
           0,
           0,
           2,
           0,
           1,
           2,
           0,
           0,
           0,
           0,
           0,
           0,
           2,
           0,
           0,
           1,
           2,
           2,
           0,
           0,
           2,
           0,
           2,
           0,
           2,
           0,
           0,
           0,
           0,
           0,
           2,
           2,
           2,
           0,
           0,
           2,
           0,
           2,
           0,
           0,
           0,
           1,
           0,
           0,
           0,
           0,
           0,
           0,
           0,
           0,
           0,
           0,
           0,
           3,
           0,
           3,
           3,
           0,
           0,
           0,
           0,
           0,
           1,
           2,
           0,
           0,
           2,
           1,
           0,
           1,
           0,
           2,
           0,
           0,
           0,
           0,
           0,
           0,
           0,
           0,
           0,
           0,
           0,
           0,
           0,
           0,
           0,
           0,
           0,
           4,
           0,
           1,
           0,
           2,
           4,
           0,
           0,
           2,
           0,
           0,
           2,
           0,
           2,
           0,
           2,
           1,
           0,
           0,
           2,
           0,
           2,
           0,
           0,
           0,
           1,
           0,
           0,
           0,
           0,
           0,
           0,
           2,
           0,
           2,
           0,
           3,
           3,
           0,
           1,
           0,
           0,
           0,
           0,
           0,
           2,
           0,
           2,
           0,
           3,
           0,
           0,
           0,
           0,
           0,
           0,
           0,
           3,
           0,
           0,
           0,
           0,
           2,
           0,
           0,
           0,
           0,
           0,
           3,
           2,
           0,
           0,
           2,
           0,
           0,
           0,
           0,
           0,
           2,
           3,
           0,
           2,
           0,
           0,
           1,
           1,
           2,
           0,
           0,
           0,
           2,
           0,
           1,
           2,
           0,
           2,
           4,
           0,
           0,
           0,
           0,
           2,
           0,
           0,
           0,
           0,
           0,
           2,
           0,
           0,
           0,
           2,
           0,
           0
          ],
          "coloraxis": "coloraxis",
          "symbol": "circle"
         },
         "mode": "markers",
         "name": "",
         "orientation": "v",
         "showlegend": false,
         "type": "scatter",
         "x": [
          0.0006021479655262707,
          0.0057800268668449055,
          0.0008249128371404129,
          0.10837986038272285,
          0.04006877705517623,
          4.52353830932285,
          0.07519333563493694,
          0.08576607732238281,
          0.005652285383483525,
          0.21451580693794894,
          0.012153476201231167,
          0.1337715121142316,
          0.021207994446212526,
          0.06753994730191297,
          1.0469741104655412,
          0.005385857279560926,
          0.01728470530166213,
          0.21731705735651002,
          0.08164027875609284,
          0.034160136371351464,
          0.021417869662813407,
          1.0469741104655412,
          0.029645032415804386,
          1.1719027520285148,
          0.017088010096026455,
          0.10069560771906837,
          0.000549886422853713,
          0.9872750044345487,
          0.002205709024347983,
          0.001195075386943345,
          0.9878953528803631,
          0.0068294905610259285,
          0.031205152017314025,
          1.979927418903572,
          0.10699708251540652,
          0.0002485670675285796,
          0.033231074741152805,
          0.01858023525635779,
          0.023112859205808172,
          0.02237870498710051,
          0.01402343085763185,
          0.03059431402563743,
          0.08918785591733765,
          0.022578125006327394,
          0.19821362474006582,
          0.10613340338942123,
          1.2471151893250703,
          0.016073080878382627,
          0.02228947087240558,
          3.683275772498931e-15,
          0.027499645273321476,
          0.0035071556647741637,
          0.011033501306939471,
          0.05524550624614513,
          0.00024313921090659418,
          3.555558536378375e-15,
          4.4571549563482794e-15,
          0.968279883938886,
          0.06069979345479563,
          0.0025435700857848265,
          1.0132220700725914,
          0.030364764567416793,
          3.2654503757553234e-11,
          0.048318974443391574,
          0.0637749492411528,
          0.07287815117147652,
          0.24028410372519868,
          0.20556212362561932,
          2.1770280919637153,
          0.9722968692341534,
          3.2830835682528425,
          0.046777915510371956,
          0.04811304856979116,
          0.011843741859716619,
          0.0009794551665337295,
          1.0031086208344833,
          4.750396345799988e-15,
          0.9889852666796993,
          0.009425687260794758,
          0.9801249271299061,
          0.9822835870892783,
          0.04471469178311423,
          1.0406882658303527,
          0.9991795039993308,
          0.04287378196359227,
          0.23227703332785277,
          0.9723805073001547,
          0.029309892097477832,
          0.1071735958737649,
          0.09319256625712169,
          0.03032136121946108,
          0.18584151744437113,
          0.00731051207074193,
          0.09660837216723378,
          0.00531756533502135,
          0.1038024133914469,
          0.997393993363615,
          0.01567332206890625,
          0.05134007803674161,
          0.015712067689542714,
          0.058507919649070594,
          0.011145910800315401,
          0.11129189216686008,
          0.297122248908845,
          0.030055776553279838,
          0.035055052733257784,
          5.3819966839895325e-9,
          1.0163458549840476,
          0.9649768524924972,
          0.07268967625384253,
          0.03879659915390135,
          0.039900769081507644,
          0.16993348944400355,
          0.11795383532412729,
          0.22610583816496085,
          0.06650797153337193,
          0.10655046137490465,
          0.9870095679355054,
          0.019089419608054624,
          0.03553491631698871,
          0.046397705967980936,
          0.039327496174793634,
          1.0275277917246812,
          0.34211524097644674,
          0.01106833222610907,
          0.04238079323006048,
          1.246196933095007,
          0.3943086598511756,
          1.1604373806822612,
          1.2309220435981072,
          0.09019208558397987,
          0.025181413305684842,
          2.227969055510723,
          0.008451245216659208,
          0.005976112486221594,
          0.9880436739777072,
          0.005387531173296883,
          -7.485650007005772e-9,
          0.04808845779090367,
          1.1769677817474318,
          0.9911387513034707,
          0.03778258826307923,
          0.005963483248020757,
          0.04188253844625453,
          0.025974951835574526,
          0.024372621906050884,
          0.09935608539957815,
          0.9987532918392019,
          0.9640182650826944,
          0.0030253600995155,
          0.9740257468068786,
          0.01098641305752475,
          0.02600651633004624,
          0.9819673391195155,
          1.002699771358373,
          1.0125352502658067,
          0.024785220516024692,
          0.025480860877632395,
          0.00011776483844910856,
          0.05055355244274016,
          0.015323118317478854,
          0.011094556990218047,
          0.01633361773749976,
          0.0007421698663827404,
          0.07645331358890145,
          0.00872472107845513,
          1.0164176012748403,
          0.054549871500990756,
          1.9654542542909919,
          0.004711713841425855,
          0.03526325834117002,
          0.012802237533759886,
          2.9706365257902334,
          0.02824838493269569,
          0.002971083648790475,
          0.005436328749653148,
          0.02453618896811372,
          0.01795949441899673,
          0.9643148493830926,
          1.1280815457427673,
          0.020865291250912923,
          0.15113940771686693,
          0.037619746308381864,
          0.03414808357452478,
          0.037210278045303684,
          0.04818169946061251,
          3.3165358573255535e-8,
          0.03780778767430011,
          0.019406193750597156,
          0.084340492203747,
          0.08658515518883458,
          0.9988489261690139,
          0.01229404791720248,
          0.11943667512228885,
          0.0457742845451477,
          0.025091066290897225,
          1.250728340327073,
          1.0424636707480652,
          0.007495011240894703,
          0.04605566964594502,
          0.02335274199020382,
          0.01997881600127144,
          0.04847474606138402,
          0.012186673295030492,
          1.9496431979613458,
          0.16620949346684227,
          0.006453135498955529,
          0.002155354775843939,
          0.011726430667698193,
          0.015218951857326954,
          1.9449220105134841,
          0.00030297233959020284,
          0.013407949297058857,
          1.2244946993520671,
          0.04133415876170522,
          0.12289649132783048,
          0.9742069842091944,
          0.004709901075242959,
          0.9957753249376694,
          0.16917351610758158,
          0.0005480911960638149,
          0.0816198467066678,
          0.007402007487496908,
          1.0449216418331924,
          0.030828729006752282,
          0.011191210616392592,
          0.9742520501816653,
          1.9223930430350673,
          0.12829080805859552,
          0.01140682848922294,
          0.04355385057124685,
          0.014769965505658126,
          0.006814286614021191,
          0.013825882465351994,
          1.0714945138771936,
          0.010928931225640278,
          0.000037636765510398204,
          0.0016831173156606064,
          0.13376065817213412,
          0.002287765199640011,
          1.0483758231339506,
          1.0444909446538566,
          0.01913211805680941,
          0.9764059984978982,
          0.04024612827127136,
          0.009657226453537886,
          0.053574337449892144,
          0.0061294465878100985,
          1.002954617322097,
          0.14129841003608112,
          0.9613269881691795,
          0.005551200770937952,
          0.02906490307668567,
          0.0005145512183154971,
          0.1282138256613129,
          0.0027053860894274986,
          0.02345857171838546,
          0.015131098939900164,
          1.9624201907064829,
          0.00008963337643810282,
          0.9884364493250648,
          0.003428936895109209,
          0.00005625116984346776,
          0.00047179058970663127,
          0.06870795423619233,
          0.01872439818695333,
          0.003952434624230944,
          0.034660676695907576,
          0.022019073660803065,
          1.0789044572936928,
          0.27794179889053044,
          0.02092666896353853,
          1.1030711230523464,
          0.047178643601199194,
          0.009472925645378192,
          0.09079683277085239,
          1.136375120983917,
          0.11471311787503262,
          0.01447812445514204,
          1.269491553492181,
          0.004711337230742102,
          0.0027624264087796353,
          0.11539120118484503,
          0.05808634896388518,
          0.03081572460183734,
          1.2898296530769155,
          1.036922058180443,
          0.011488862508905798,
          0.01504839654568318,
          0.009654978552604939,
          0.012041594620288181,
          0.06153671241140933,
          0.000980441999895239,
          0.0012898583383391608,
          0.09131520183170473,
          0.09608001793367416,
          0.04868820484352794,
          0.004107878623489076,
          0.010142165443614171,
          0.01794041645680264,
          0.11411593230406027,
          1.2264023843847216,
          0.040383365189109566,
          0.012331169572960429,
          0.005337207804105046,
          0.013681561585050782,
          0.028645194661222634,
          0.996986839004443,
          0.0069102111422076834,
          0.013096629151361148,
          0.020906508243003885,
          0.00879102625634259,
          0.06271278626257533,
          0.029354781705236956,
          0.06855097261708401,
          1.1787355585084673,
          0.003262459386252921,
          0.0589797805220699,
          0.1748616808737476,
          0.042790451837353,
          0.000010511765029575022,
          0.006291424066354655,
          0.0273490100184076,
          0.023412587573627484,
          0.00013945775693168658,
          0.9635596534167729,
          0.9963498833853632,
          0.02918142176359664,
          0.000005893948056137724,
          1.9603751203619297,
          0.05314445445677464,
          0.022390570083200504,
          0.0013720712520823059,
          0.005058831512810101,
          0.043875191366113855,
          0.005272828877684476,
          0.008512784743617692,
          2.0706130236184106,
          0.03743688759461137,
          0.01469697162057589,
          0.029479660372349968,
          0.010677572627346307,
          0.006533288243912836,
          0.008880173145946243,
          0.9639382872928787,
          0.9738045178969773,
          0.0064717821380953664,
          0.9807955950425084,
          0.0731794810748055,
          0.0553842824991224,
          0.06238589845306085,
          0.9751513263784836,
          0.03960298012840219,
          0.051177966258001,
          0.03388506932889771,
          0.05670099309236862,
          0.9733376497777546,
          0.000223497534737444,
          0.013122879685450787,
          0.03858270461472605,
          0.04036885000169012,
          0.023125460834960525,
          0.0386036355106997,
          0.008061549570924382,
          0.006142676537686701,
          0.05721037362700217,
          0.01659468671217965,
          0.010110143548900746,
          0.010803747802545442,
          -1.4720266812767984e-9,
          0.03624932796031095,
          0.020914385163948928,
          0.012255982794748242,
          0.02052459800480965,
          0.09205611513903805,
          0.07663722182450239,
          0.004038230445329141,
          0.008350014391674317,
          0.021795538439224563,
          0.0027577536314879153,
          1.9222523088785863,
          0.0008100283830469472,
          0.017555171098850297,
          0.039315473437827944,
          0.04188930229209302,
          1.964447240189197,
          0.03436703337606389,
          0.01787866825434908,
          2.5867836762965895e-14,
          0.07500290067969494,
          1.94857406874912,
          0.006111206838202747,
          0.014193584308623762,
          0.010673308486046649,
          0.9887598593340302,
          -2.849689686279798e-12,
          0.01931071432917658,
          0.0027224380828493834,
          0.0030200802554792134,
          0.008102162192161014,
          0.01431594141049156,
          0.06954341293936647,
          0.9840244209048365,
          1.965406481942333,
          1.0214557456946634,
          0.02085009499802511,
          0.01380813074467515,
          0.05689578291907328,
          0.03824487927369451,
          0.07168967303519216,
          0.039562740535957465,
          0.015612069751488858,
          0.06716797711128493,
          0.00013372971979974844,
          0.00959624771728717,
          0.05713765308492706,
          1.0363776412029333,
          0.015872979015942215,
          0.015138887226125193,
          0.05992204976203218,
          0.0057285408473093736,
          0.0030050871709950237,
          0.004753488566361226,
          0.033929682488490216,
          0.1233135767934403,
          0.012805104009898196,
          0.008770574862882007,
          0.9763560604534105,
          0.0003503946864878274,
          0.9901589093182723,
          0.04648003483272567,
          0.0028075665009485882,
          1.0469741104655412,
          1.181883362131216,
          1.1620456465773386,
          0.9965617843734094,
          0.01446554137685339,
          0.12772029323148446,
          0.04611633621958669,
          0.008569242068951351,
          1.0650144447786245,
          4.104226850406547,
          0.06406189313847668,
          0.0462062235680909,
          0.10672904188282813,
          1.0074369030516972,
          0.04226628565091774,
          0.06431402569965873,
          0.0630274151663244,
          0.04647862403205566,
          0.067700045791695,
          0.016881807678475576,
          0.005541957379610239,
          -6.952923689981547e-13,
          1.9967656551787094,
          0.03050484639920862,
          0.04846658995491325,
          0.2957190068086225,
          1.1765469167514033,
          0.046437431515247735,
          0.993316439609525,
          0.006370756815544932,
          0.0096854047967917,
          0.9941544930033169,
          0.04740987077387383,
          0.03672827406714174,
          0.039009932390201764,
          0.022815039852056587,
          0.02305557891828463,
          0.030863568113910514,
          0.02305557891828463,
          0.005402861570870485,
          0.0475161876130404,
          0.0014947150988251405,
          0.01659305180480949,
          0.01659305180480949,
          0.01659305180480949,
          0.01659305180480949,
          0.01659305180480949,
          0.01659305180480949,
          0.01659305180480949,
          0.01659305180480949,
          0.01659305180480949,
          0.028518950658761574,
          1.0332469943124432,
          0.1233106776737787,
          0.02315904921902185,
          1.0256543173523072,
          1.3264576097839005,
          1.0071319165952823,
          1.06995552290921,
          0.030070395388305977,
          2.0411459202814024,
          0.010591265784552132,
          0.0003034003691535534,
          0.05348480214950906,
          0.04946699384891268,
          0.07123210679721492,
          1.0106695238455825,
          0.09719462310090629,
          0.08231947845707366,
          2.01623707347835,
          0.9664830227339913,
          0.014070712135347658,
          0.05159096420609634,
          0.0873843527198319,
          1.9870751016750638,
          0.014056002610307193,
          0.04057357432553764,
          0.045719775062574866,
          0.031128246587901635,
          0.04815627882787624,
          0.9842580536922696,
          0.019543780149240388,
          0.03586690778616822,
          1.3457896963068192,
          1.284427026918707,
          0.1733370900947638,
          0.05838971157504776,
          0.019884664655139342,
          0.018984311584526594,
          0.027619451040032418,
          1.0472064416429296,
          0.03378123834141501,
          0.018035825799960617,
          0.9820302026189387,
          0.1809634314617224,
          0.9825579260245307,
          0.04712376715065428,
          0.055878248159332795,
          0.024814083090969507,
          0.05264628263461531,
          0.03716790160953161,
          1.9719389329509078,
          0.04835917863066396,
          0.01949424231597296,
          0.0004058075290900698,
          0.007235793661433351,
          1.023942173003525,
          0.06055502044107838,
          1.0350967935001845,
          0.06609711860397424,
          0.031514211657879626,
          1.0036708325747525,
          0.0033993748310014007,
          1.0293199665284403,
          0.05083848936324869,
          1.2122692592530233,
          0.018212530638870544,
          1.0065869297360661,
          0.08403940298620156,
          0.07285778298802295,
          0.00008699157113361132,
          0.0907515131886157,
          0.983844738125735,
          0.0031253830822878894,
          1.985097249775702,
          0.1276753582368617,
          0.01558066556117835,
          0.03981080444700325,
          0.00030979980202677066,
          0.027472058604513284,
          0.00941698250775328,
          0.08206237335168567,
          0.1589379049396304,
          0.24421564097856108,
          0.012766740249456773,
          0.006416670123739494,
          0.000039154303811851705,
          0.022190987311742284,
          0.1982463898179241,
          0.04657546924967319,
          0.014542916710906746,
          0.002290300223141659,
          0.014019441071647537,
          0.04895900277878445,
          0.00021736179957531496,
          0.035613683154616424,
          0.048311590624887484,
          0.07713963085463278,
          0.04362525157257877,
          1.1757933494718398,
          1.1869858105118365,
          0.023013784080498558,
          0.0033080907787413887,
          0.026614094143047745,
          0.001053021865496169,
          0.0031766710393423374,
          0.06693815618857446,
          0.03300097692265626,
          0.04514349168741787,
          0.038971651812740885,
          0.007156279288972552,
          1.136701942067565e-12,
          1.136701942067565e-12,
          1.136701942067565e-12,
          0.011470684288622194,
          0.05767109703933155,
          0.29902527838984444,
          0.02512787714729731,
          0.04008656783137057,
          0.058141379528229536,
          1.0046039916111806,
          1.072034064831678,
          0.01639392192946207,
          0.04521567992979671,
          1.0494013315222372,
          1.049950373800259,
          1.0118808077391126,
          3.1341944718205528,
          0.0026230297205777045,
          0.0486865687371394,
          0.03822343811528138,
          0.04556141566045789,
          2.023831919675563,
          0.06491144931127844,
          0.07631394479601064,
          0.11401098344226235,
          0.0038949712832251405,
          0.015209282457163801,
          1.0399635324916463,
          0.027229360056534237,
          0.0900131044866864,
          0.1266417393391718,
          0.014936999017915979,
          0.045846674787486226,
          0.009563901149837682,
          0.01776831867169118,
          0.02315904921902185,
          0.05730874655868328,
          0.006943582283190468,
          0.12360875762596846,
          1.0199601744097322,
          0.09786170096679261,
          0.10812556672497425,
          0.003028931475011288,
          0.9979827143921143,
          1.2020362386487926,
          0.9686868247753138,
          0.0030951725995562113,
          0.9918997925977048,
          2.2017409011607754,
          0.019659640876957395,
          0.046125689905634405,
          1.0874385112508238,
          0.04838679878952391,
          1.2440768721741422,
          0.033387647507554845,
          0.00011901108561194391,
          0.9965918607991144,
          0.061491681324500995,
          0.1361566288671445,
          0.00010047347150020636,
          0.12368190417593125,
          0.06879313002813463,
          0.006512274137678773,
          0.004484883551065429,
          0.027929361186478565,
          0.020059635881291987,
          1.0488789074767666,
          0.9676483493732434,
          0.0009899395486451898,
          0.05988050377194214,
          0.9565911713542943,
          0.03156742732881555,
          2.053987819668331,
          0.9717513391695582,
          0.017007472398215782,
          0.03814368708892268,
          0.007516872780492952,
          0.07396907248400701,
          0.0714437857838787,
          0.14381082296359224,
          0.9839347417884419,
          0.1303146500353905,
          0.06933181147125572,
          1.9791383862837433,
          0.9833651327951095,
          1.0148528928937977,
          0.0410296761204866,
          0.03233371610211466,
          1.0102703496211856,
          0.07417209166382714,
          0.9933111999528376,
          0.002653984451860055,
          0.9776000019264731,
          0.049982148550442876,
          0.0053436441271319255,
          0.03926430043350511,
          0.005119649136589937,
          0.0483452936405849,
          1.0480059698215145,
          1.1049451274456588,
          1.166775382955248,
          0.07380752416492245,
          0.05773083817003377,
          1.0881522289184775,
          0.1159608033010366,
          1.0159711880462008,
          0.057325141298481604,
          0.050658797009013004,
          0.08279307929374718,
          2.0280497740611745,
          0.0360102017333755,
          0.0029457588342063075,
          0.06418646873298088,
          0.0145063019145165,
          0.11720306377405557,
          0.14986387892214179,
          0.004743787295369027,
          0.04834855202024383,
          0.08854747434422665,
          0.02921325173102396,
          0.11138953312227004,
          0.3037588114364727,
          0.0005540191892339256,
          0.3191760225710415,
          0.30231836511612015,
          0.04137648511195614,
          0.015644593093909455,
          0.0038590544558543154,
          0.03239873691405046,
          0.004851849085042377,
          1.9891942128447575,
          1.0048951814144964,
          0.009265811967168126,
          0.03634291618614327,
          0.9913768057174889,
          2.0828879044169635,
          0.0033820435723187184,
          1.9840322669879737,
          0.01490427712022494,
          0.9975417616098986,
          0.08074551946135071,
          0.08685074474557047,
          0.016720186104597478,
          0.006958079309553883,
          0.10587939690495721,
          0.10832076371812352,
          0.02903150288112534,
          0.007557916698558486,
          0.07921655387692678,
          0.05047537941646142,
          0.16859788377423002,
          0.025138161855018153,
          0.00034653629631646696,
          0.013336615161780883,
          0.0031409093955233718,
          0.03617730609410652,
          0.0335201927958367,
          0.318697641950764,
          0.03700713810675559,
          2.028043973272837,
          0.0029349670515632633,
          0.9724217276400856,
          1.1579361454746795,
          0.03862169703689208,
          0.006731392529891299,
          1.1001645674234972,
          0.02487503794299465,
          0.023689289539928243,
          0.998133869984592,
          0.03564499781088246,
          0.9711778447593974,
          0.002670568575251046,
          0.9832729396885043,
          2.0060854579826155,
          0.05457280690325516,
          0.01054245984667209,
          0.9635437337024011,
          0.027869344885057514,
          1.0668430858534095,
          0.008113524232258995,
          0.14420214869848919,
          0.06046295750800164,
          1.924852522903224,
          0.10709402146986931,
          0.037647730551883786,
          0.048060068709175466,
          0.10198870241236561,
          0.0334043368443981,
          0.04609241813003122,
          0.997141239857622,
          0.00016147751707476924,
          1.0653249028345753,
          0.22153924577428347,
          0.28246245324752484,
          1.2146156797708372,
          0.01661726260913262,
          1.970418975891803,
          0.06300538698083294,
          0.000614799818621239,
          0.008696593220101788,
          0.0017511427643336027,
          0.012232775239176295,
          1.0605971566624113,
          0.011328033698291542,
          0.9868617474214942,
          0.010624323814239198,
          1.3395628579628596,
          0.06434429061263501,
          0.0026601679201110192,
          0.06271052373016088,
          0.01879623215643739,
          0.0009277736938664152,
          0.05500016899382579,
          0.020720255750433673,
          1.2586920903700698,
          0.012954181721930429,
          0.14750765926202075,
          0.04850000715956476,
          0.01499768376864776,
          0.9915480422285486,
          0.08877527067564651,
          0.005893669820458311,
          0.13663369628969932,
          0.004270635183411594,
          0.02300844981578246,
          1.2917448352694063,
          1.0051157141470608,
          0.024360566479208205,
          0.04622413337377741,
          0.9811293980281155,
          0.01547798055090369,
          1.4469218435000544e-7,
          0.04785278736331099,
          0.08116940427148825,
          0.006014379511969857,
          1.264215806774934,
          1.3211483539013305,
          0.007277667515441939,
          0.9796424304653635,
          0.0943514262975428,
          0.027690691131819187,
          1.9570511698701074,
          1.9439229852899185,
          0.9931700900844819,
          0.09610041687468035,
          0.1287436374634665,
          0.019421859657118,
          0.9561453488075146,
          0.04998140678691332,
          1.9354381443959812,
          0.966892856506707,
          0.034105423375632514,
          1.0031987273223686,
          0.32153216681586083,
          0.03933350271263699,
          0.13030091675722788,
          0.063528845011406,
          0.04846658995491325,
          1.0502144636420603,
          0.04857078855124858,
          0.023357072157301404,
          0.02827114415131345,
          0.002658968004853398,
          0.033212753420796305,
          0.9641086881273669,
          0.08762639587500722,
          0.006143815949560887,
          -3.1799543268261585e-8,
          1.119331239565327,
          0.13262263518553172,
          0.0061128930414591
         ],
         "xaxis": "x",
         "y": [
          -0.0005881180675155406,
          -0.0020930010070935273,
          -0.0014726214534276584,
          -0.057602878397656605,
          0.03217071442982153,
          -0.5494242542437944,
          -0.08969104142607173,
          -0.07188764522328425,
          0.0006188352070582,
          -1.3480128789670367,
          0.01420936568872739,
          -0.7386073794355641,
          -0.00013288778810064577,
          -0.03378157567520919,
          -0.009784612568343572,
          -0.0010275241250262271,
          0.06872423031229442,
          -1.2446840579475837,
          -0.08617580520699215,
          0.016049347357211228,
          0.013135809153521713,
          -0.009784612568343572,
          -0.0021740360619858117,
          -1.2778681236623861,
          0.07609085699522186,
          -0.04232906319052914,
          0.008512407268065575,
          -0.03314955660246092,
          0.004016316417059931,
          -0.0011555029259427325,
          0.05280747316501573,
          0.01319813813869185,
          0.05475865082449428,
          -0.03996566717552217,
          -0.6661581797908191,
          0.00013852916277398098,
          -0.009574915332684956,
          -0.00044728702219976784,
          0.0020007844865676597,
          -0.0018702944267327687,
          0.007085876119920981,
          0.04708683639549442,
          0.0043974286699298435,
          -0.015817767452758154,
          -1.2996269014069268,
          -0.6341818070685312,
          1.5317513733577846,
          -0.05345180678178307,
          -0.007549210052350221,
          -1.0285888886252079e-12,
          -0.007290288268474858,
          -0.00020246279505354512,
          -0.007604933255705769,
          0.03709639215175555,
          0.0003967586059605955,
          1.6380260378130905e-12,
          1.798361955721514e-12,
          -0.05540665064278556,
          0.0007781231337276011,
          -0.00027925295872660615,
          -0.0654962351592244,
          0.01825570964306091,
          -2.917645096997929e-8,
          0.12334391224704713,
          0.034386278885018565,
          -0.006799167092323526,
          -1.3451363570248953,
          -1.2897756319002796,
          -1.3860146535200284,
          -0.030447369759800332,
          1.4526469843567615,
          0.007393495290091687,
          0.058728909501784415,
          -0.028594612343201674,
          0.015078570950510189,
          -0.04477488992586601,
          1.046286958705705e-12,
          -0.04810355549979743,
          -0.06815114421840723,
          -0.03326391094758728,
          0.006467731466984813,
          0.057907084605176136,
          -0.03399727186243501,
          -0.03887719657169973,
          0.001629390680657887,
          -1.2495424454973179,
          -0.03272475296697759,
          -0.004274476256133001,
          -0.1423714146557565,
          -0.027188096408813034,
          0.011014241204526518,
          0.010475406280116811,
          -0.0018756211675379445,
          0.005705677438346541,
          0.0012850346041250805,
          0.0028274451568223225,
          -0.015598221282432628,
          -0.012991734682326362,
          -0.07333804927419935,
          0.04905907419270694,
          0.041425672784077244,
          -0.0013683732431758508,
          -0.054794071896124036,
          1.5810319938123172,
          -0.02318407330987255,
          -0.030742651335275064,
          0.0000015169899942539906,
          -0.05971663952744381,
          -0.016413886584956502,
          -0.043062624462753336,
          -0.00658456952163709,
          0.056426186179074383,
          0.0810927695430343,
          0.0655412637328799,
          -1.4035591704230572,
          0.13177713386281728,
          -0.055113090766811194,
          -0.0528025302408244,
          0.028343255540631745,
          -0.0035174403349146448,
          0.029569434441438065,
          -0.01822786498884697,
          -0.05613322764395609,
          1.584710362554618,
          0.014402715949559846,
          -0.05649788585252064,
          -1.4666831791274224,
          -1.0913704253011314,
          -1.3057804110918354,
          -0.4343269048291012,
          -0.13700798815501802,
          -0.04551836586225372,
          -0.30461291756431275,
          0.0012047527693574663,
          -0.0034575117927551783,
          -0.03329206732714923,
          -0.0016875804648032178,
          -0.0000011674313481965149,
          -0.07051755947750094,
          -1.297933941979896,
          -0.020989253293525943,
          0.02802975713624288,
          -0.0007185596711874352,
          0.01213356668124661,
          -0.03259854825056272,
          -0.047611184564839815,
          -0.022593472517321453,
          0.020852777104315597,
          -0.0375237320746138,
          -0.0019369565405390186,
          -0.032999509944621135,
          0.0002799153100241833,
          -0.004132741828497746,
          -0.034394715226081986,
          -0.06639419649565201,
          -0.09620690536693882,
          -0.004917536411520471,
          -0.037873724178395296,
          -0.000059602411224486364,
          0.061653293469265576,
          -0.007025051390349936,
          -0.04919299086225282,
          0.007961652948502752,
          -0.001874227357884053,
          -0.07666513170280627,
          -0.016739423724211156,
          -0.03529884233874146,
          -0.084813164523154,
          -0.06872615884673737,
          0.006728969481761424,
          -0.031128794582511304,
          -0.02128756257415049,
          -0.10264851209755728,
          0.0556978144305905,
          -0.0002018203923217289,
          -0.0010370040303987775,
          -0.025137234444001268,
          -0.004300492228788608,
          -0.029671238441024022,
          -0.2130362248772673,
          -0.011003796307814437,
          -0.01999600928834515,
          0.01965106898267418,
          -0.005693010287352427,
          -0.013223180402212317,
          -0.023551054394426923,
          0.000009348113509904276,
          0.010919302307839497,
          -0.012967357172979836,
          -0.02382218291900394,
          -0.017166843005592118,
          -0.019109966428669363,
          -0.006862343818579157,
          0.045347876521181385,
          0.07239276572569321,
          -0.004127052293298223,
          1.5409724322255343,
          -0.040737348696746854,
          0.02649820961277656,
          0.05486896940143477,
          0.003791387328037696,
          0.059253986998596506,
          -0.02951495924186029,
          0.00401613790676845,
          -0.08072176399112474,
          -0.004803077419559203,
          0.003975620628406849,
          0.02023070043873126,
          -0.0014545065777384766,
          -0.006614269302213584,
          -0.048932759568761676,
          -0.0002509167144112937,
          0.0009967764140410879,
          1.4960706573806226,
          -0.005158921550781324,
          -0.04533897746049619,
          -0.03243097899180618,
          -0.038847204367364385,
          -0.058373751679401065,
          0.04636476926264643,
          0.008506768986055752,
          -0.011109610506116658,
          0.021560908875344155,
          -0.0424864671558655,
          -0.029621128670262904,
          -0.013943809444376983,
          -0.031130532626978742,
          -0.06171077115776989,
          -0.03597883884411873,
          -0.014407461499570194,
          -0.000831916683871636,
          0.017163240571167502,
          -0.01649039908265499,
          0.014764424486132842,
          -0.12078195870246872,
          0.0036125635856688134,
          0.00016671066220752572,
          0.03306727806149681,
          -0.02191617877627497,
          0.020651546980248642,
          -0.06620151935316458,
          -0.01528469579324963,
          0.017475635472861815,
          -0.03306331227563978,
          -0.003843305103060737,
          -0.000464919364171816,
          -0.04328071726100586,
          -0.002430363217166281,
          -0.043759531239545825,
          0.8157620606394621,
          -0.03135784052972981,
          0.03842152193969004,
          0.05153272388921771,
          0.0006863546337270257,
          -0.019435492289617974,
          0.007603951633289174,
          -0.01703181895621742,
          0.03241814829052238,
          0.0026763087837626057,
          0.0000976657296793554,
          0.019592759138275562,
          -0.011580365836889763,
          -0.00024817987957645357,
          0.00036088428496679155,
          0.003140303208819759,
          -0.026170902507965953,
          0.00032448877041478904,
          -0.013569184698779851,
          -0.025786057161133483,
          -0.04066198457758659,
          1.6803513284577685,
          0.03140089981923032,
          0.009266537096162231,
          0.05489965103055026,
          -0.016999979127964915,
          0.11632292545235717,
          0.12752701476048256,
          0.20611183138861677,
          -0.0023397106946838725,
          1.5733269284103577,
          0.019733699482558206,
          -0.001254707866391913,
          0.02772314222022634,
          -0.025626735922397503,
          -0.018053342367524275,
          -0.060995666444507275,
          -0.019743741772998986,
          -0.005763706703175881,
          -0.0026413880562660185,
          0.011417337337564264,
          0.00023523462227960877,
          0.022760001741992855,
          0.0004574201894922108,
          -0.0025349834613456394,
          0.06124714178257445,
          0.060221144165218114,
          0.14318733712588808,
          -0.0015101935845069274,
          0.013902502827102613,
          0.05544389575751009,
          0.07572466874454693,
          -1.2637734488728956,
          0.029515685220545283,
          -0.016654569768302322,
          -0.0005463205739290731,
          -0.016173577887398916,
          -0.018232377281556758,
          0.018454491902160076,
          -0.015355103380391337,
          -0.009738441740749526,
          0.06520533275630253,
          -0.003956224937825293,
          -0.05737337728590216,
          0.012984634684651868,
          0.009868148040327412,
          -1.350106770418401,
          0.019424064963242612,
          0.0300769566025289,
          -0.03286269251177195,
          -0.020196289536755584,
          -0.000010862604746822484,
          0.00026117538018005854,
          -0.04450851947887607,
          -0.005804531250261922,
          -0.0008216257721842057,
          -0.031156621730450383,
          -0.04920682970680966,
          -0.006481114458040228,
          -0.00013872456772973097,
          -0.029463161801576324,
          -0.030449274678765147,
          0.03639445410207651,
          -0.0026346853351092983,
          -0.00041684571168620335,
          0.1116123638400167,
          -0.00029775738039266117,
          -0.002363896415955091,
          -0.0747162598789509,
          0.04579211955273346,
          0.03049393683513861,
          -0.008572181518704102,
          -0.0010560846732774038,
          -0.002687443453613682,
          -0.01354830057395602,
          -0.03117436817173815,
          0.0058862708634833194,
          -0.013711160571162177,
          -0.04625229810796248,
          0.003372782333645119,
          0.01694083633673738,
          0.05570957600198949,
          -0.033770768230271746,
          -0.0024554342903022686,
          -0.013263367656328313,
          0.050386003134016394,
          0.0021407462405314756,
          -0.04295405620816849,
          -0.0005043889807244639,
          -0.0014124535784627178,
          -0.029044327938604682,
          0.040163214400118705,
          -0.0015069480671238656,
          -0.10133509673694722,
          -0.0009427277097664379,
          0.01726251402722168,
          0.0016673357279347635,
          0.006402855094911292,
          -0.009112828305146254,
          -0.06152905778833661,
          -0.0000010060229004991917,
          -0.04178831199359748,
          -0.0030750623662001704,
          -0.025259353696431987,
          0.012243467033797036,
          -0.09531694943037705,
          0.0028560850288967578,
          -0.014972720306797102,
          -0.001595730783285816,
          -0.0008812353138384707,
          -0.00037256477451045006,
          -0.06232189976818436,
          0.01622308730836184,
          0.016793620910095605,
          -0.004476250754722843,
          -0.0554511297212399,
          -0.06713078146292153,
          -0.002149822753340642,
          -0.005626757339883504,
          2.640790883172866e-10,
          0.013367240149447556,
          -0.017611850395676046,
          -0.024454905072783677,
          -0.0014125492967131167,
          -0.027645843445602225,
          -0.06145683361867962,
          1.0808403300303064e-9,
          -0.0027959255281053215,
          -0.0003458014101614306,
          0.0007547202132237944,
          0.0005383950742728048,
          0.0004969355735211039,
          -0.015573544653520599,
          -0.03457904737757649,
          -0.06682778513791861,
          0.0023595015783619,
          -0.014431540262287407,
          -0.01646430862426996,
          0.001397081242097357,
          -0.01625227636602489,
          -0.004954368144423902,
          0.010974907806374938,
          0.033408701461445305,
          0.00207499470829169,
          0.00007265121899958598,
          0.016393851837576988,
          0.002237882733783343,
          0.1466002087626714,
          0.039476588109944435,
          0.014083447942481092,
          0.002443853628119738,
          -0.0010990074328032164,
          -0.000517040633206645,
          -0.012967950182753988,
          0.011985773213733585,
          0.008945787707562857,
          -0.00578317089634602,
          -0.01768977916121569,
          -0.03305685295050445,
          -0.00003876815059496429,
          -0.03320868553960106,
          0.029304963727646932,
          -0.00021202294004091455,
          -0.009784612568343572,
          -1.3443575048831347,
          0.011336162920090282,
          -0.03391687865189452,
          0.010265521589893235,
          -0.08711545993725152,
          -0.06216479243825112,
          -0.014854424732082247,
          -0.17424773817606837,
          -0.1631714373038679,
          -0.11568789639997823,
          -0.07332896446095655,
          -0.015876594742108265,
          -0.038845995317695906,
          0.0721233736301969,
          -0.061530166806520355,
          0.011535577418284603,
          -0.07145395676788975,
          -0.01839152485961309,
          -0.03338137338868811,
          -0.0008648361039128824,
          -5.3187274792852465e-11,
          -0.09396021499823236,
          -0.05581457552702712,
          -0.0102064179531658,
          1.582984877044456,
          -0.2112979634106471,
          -0.030774346810202764,
          -0.037428803095696205,
          0.0003423183206409901,
          -0.017792920698953926,
          -0.012677069157468019,
          -0.004085270084077893,
          -0.020187764107197012,
          0.06335296197893285,
          -0.020066095295653646,
          -0.03877398568029022,
          0.014061482118932888,
          -0.03877398568029022,
          -0.0013263996346724067,
          0.03365418924586321,
          -0.0036235208629286494,
          0.06318819862768589,
          0.06318819862768589,
          0.06318819862768589,
          0.06318819862768589,
          0.06318819862768589,
          0.06318819862768589,
          0.06318819862768589,
          0.06318819862768589,
          0.06318819862768589,
          0.015836854539920696,
          -0.028420584706630996,
          0.08966389964270546,
          -0.013195683391431852,
          -0.026112362965153964,
          1.7297265671835342,
          -0.027265193856252482,
          0.0740684451983687,
          0.014059148935371794,
          -0.12629569686596942,
          -0.003688229073369757,
          0.00034753783145354184,
          0.007840423699009766,
          0.0389763907467928,
          -0.0582348537989398,
          -0.014699278675473014,
          -0.00717140244808113,
          -0.07062955013261732,
          -0.0908794239433214,
          -0.03192647002040767,
          0.024880508824063303,
          -0.002563741898918762,
          -0.07297910473199029,
          -0.013310778778352787,
          0.0022467115666905285,
          0.04049272051659748,
          0.04785859703742408,
          0.010900460560174977,
          0.07664372063551202,
          -0.029531055441958203,
          -0.038581046879920027,
          0.05368215434844823,
          1.462860670625442,
          1.6096557385110843,
          -0.020714595427849057,
          0.03485033175604273,
          0.01692069134886858,
          0.051793533697376604,
          0.025468041094621304,
          -0.011093656394517603,
          0.0470992311242341,
          -0.01854642918843133,
          -0.03227470446262212,
          0.27722889530368316,
          -0.030480352473682117,
          0.1794265291502999,
          0.15531643211478827,
          0.011809033237293442,
          -0.07201666769105532,
          -0.016103484029800424,
          -0.0860794702763183,
          -0.05540685988629018,
          -0.01629601849256557,
          -0.0005485466238725712,
          0.0013357835324094938,
          -0.011682158621851457,
          0.021620262616427625,
          0.0290043320764102,
          -0.09319293504925114,
          0.016288298958395918,
          -0.041678650890381724,
          -0.013505356309204805,
          -0.0036787712116018167,
          -0.001997163560260069,
          -1.4016010743136795,
          0.06489326599132028,
          0.03827306429886523,
          0.20318930244569205,
          -0.027226414335592062,
          0.00008543448308881443,
          -0.020681227089200456,
          -0.032348646357274066,
          -0.0019265891429205552,
          -0.0305468530290831,
          0.11729094965098202,
          -0.02843732993280941,
          -0.07699428486686688,
          -0.0006534929867941242,
          -0.061830016073772094,
          -0.019394776490593926,
          -0.010227212924365084,
          -0.10645041158392354,
          -1.494017280615948,
          -0.008274159056346654,
          -0.006356021623982486,
          -0.0006732104588569994,
          -0.014440404230387211,
          -1.2862505937917896,
          -0.045260380133823025,
          -0.006252440405713148,
          -0.01447340745991971,
          -0.009938303311795932,
          -0.08435083446161051,
          0.00025873814240130185,
          -0.007390228544190747,
          0.025582820680603212,
          -0.010185883321308428,
          0.06687626909525117,
          -1.3151617932259596,
          -1.3324993929952207,
          -0.03446960717767976,
          -0.0018682243658801364,
          -0.0035489746765373304,
          0.006277977380116705,
          0.0011495465254255193,
          -0.08753719419290582,
          0.0006379175392760561,
          -0.020728566205862966,
          -0.006579179793657476,
          0.03191617226533534,
          -6.067547756716302e-10,
          -6.067547756716302e-10,
          -6.067547756716302e-10,
          0.0030341197570000374,
          -0.00046155472203377433,
          1.655835857165876,
          -0.0041183174090478475,
          -0.02949942502147512,
          -0.06815749738811898,
          0.018864435010338486,
          -0.04589273973966742,
          0.07331040748946183,
          -0.08866691426895984,
          0.0015534360196336056,
          -0.038415258806519414,
          0.04804508169018454,
          -0.08506136222485591,
          -0.0005354573925923163,
          0.04388863269798956,
          -0.037251894379596626,
          0.004806258086987078,
          -0.046434648096007336,
          -0.03706910113530544,
          0.10273890501686406,
          -0.037694870311113154,
          0.0029906366210003107,
          -0.024140639404045195,
          0.05327312899722488,
          -0.0010376426171407457,
          0.008017879274647827,
          -0.17531054064486126,
          -0.017027126344721574,
          0.048257040103279,
          -0.020407529907625455,
          -0.0009810520533870956,
          -0.013195683391431852,
          0.022580313462063878,
          -0.0018170255314412154,
          0.14992542867755076,
          -0.043145722776171576,
          -0.04384056814549342,
          0.005575692193514086,
          -0.0017295776374840238,
          -0.020583553797988874,
          -0.682363282741441,
          -0.032812186749357014,
          -0.0023820645158833522,
          -0.024649205408099065,
          1.4625061198501552,
          0.06537879846282332,
          -0.0730351541097867,
          0.008564770515339187,
          -0.01735547025234342,
          1.5210527566915535,
          -0.0031516334807657536,
          -0.00005895466541261761,
          -0.035655276256580104,
          -0.0015365684475680595,
          0.7680975992224439,
          0.00018065022733032638,
          -0.008320656959225558,
          -0.045575825200092866,
          -0.0036579671667335504,
          -0.0005912135139085684,
          -0.0014233209368976515,
          0.06458548047473663,
          -0.03176158202014674,
          -0.03149293318805055,
          -0.012777941502351819,
          0.012781640930256653,
          -0.030717093355264524,
          0.03443266622072774,
          -0.06752847189148314,
          -0.03335497106619983,
          0.03899925326238239,
          0.04564534928673618,
          -0.04096621100234237,
          0.07752554286759587,
          0.04748843119067153,
          0.06837501539782065,
          -0.03367053395887095,
          -0.08176091153550212,
          -0.06380122455933392,
          -0.04930022849360184,
          -0.059011713878531144,
          -0.035523181262721436,
          -0.009098553466459207,
          0.030821380969281047,
          -0.015331370968702346,
          -0.06247543026439053,
          -0.056062305726824635,
          -0.0011649582020238926,
          -0.035561384934074514,
          -0.07924003798905879,
          -0.0010280769678756145,
          -0.024402606778917865,
          -0.0024137159042889045,
          -0.07210607137809157,
          -0.020380114831453217,
          -0.11847316179868012,
          -0.1489285853089106,
          -0.07600932214875786,
          -0.08908672019621264,
          -0.07804731483647608,
          -0.04377189753062609,
          -0.11534612499340013,
          -0.08447949064695665,
          -0.07699593489150597,
          -0.09911740823383997,
          -0.1484863121766328,
          -0.05362937057448238,
          -0.0019092973346889227,
          -0.03928630973303338,
          -0.019212418368729146,
          0.0020265591558609186,
          -0.09386041648656514,
          -0.0026667035471828904,
          -0.0208886166858597,
          -0.04444220982038913,
          -0.036464082148215865,
          -0.13419668166545798,
          1.5161897732071539,
          -0.006835014655712022,
          1.709765997419041,
          1.6973886465021317,
          -0.06440156359569116,
          0.006681144662156557,
          -0.00022653939991753279,
          -0.016005516624781627,
          -0.011469664899478735,
          -0.04737497098582767,
          -0.02899663341163031,
          -0.02775658168013717,
          -0.02015797922953699,
          -0.017025982178791543,
          0.11504558021813047,
          0.0001712380066765894,
          -0.018164398520688147,
          -0.007584791123274869,
          -0.0639447184002133,
          0.1367644206594521,
          0.026628801151028433,
          0.06504628968036456,
          -0.021331341139079932,
          0.283949990361144,
          -0.02511272499554022,
          0.01354922466892196,
          0.003622527445793798,
          0.10776643138343184,
          0.017678984474816962,
          0.2064039721237996,
          -0.013318078505973831,
          0.00028438584109088906,
          0.0002026822808269997,
          -0.003411386374158367,
          0.022524214917207432,
          -0.01321980169254641,
          -1.2811250780193744,
          -0.011813394910069658,
          -0.08142297858053346,
          -0.000841771694025435,
          -0.04770263355595356,
          -1.2932278907176538,
          0.01900657122941704,
          0.008106265139830529,
          -0.009193567025671503,
          -0.02945385835887652,
          -0.002000893525245847,
          -0.03178755034249971,
          0.050844223698483924,
          -0.03644196815514942,
          -0.0006424854946813712,
          -0.02301852594349847,
          -0.025933430290084034,
          -0.0114617928297918,
          0.0037700383174000024,
          -0.031127339589324718,
          -0.029086058384522977,
          -0.03014872680463503,
          0.001510737456801902,
          -0.715909814366654,
          0.06944796441955706,
          -0.06137131198322377,
          0.00526604637164023,
          -0.012681496007198053,
          0.0431195711974677,
          0.07401082840562881,
          -0.005754792457540957,
          -0.006409819853839665,
          -0.03505548706968328,
          0.0010234484338934912,
          -0.029908326577500758,
          -0.1418596306990057,
          1.5366617895788635,
          0.8278838641868527,
          0.06619033733837339,
          -0.08023283096621295,
          0.014654376203829277,
          -0.012500812371387874,
          -0.01382233893549305,
          -0.001281085773776894,
          -0.015863459059835206,
          -0.02715192812351811,
          -0.019756105684569182,
          -0.014841468852959429,
          -0.001604230287330628,
          1.4532074214087944,
          0.0066481513804950015,
          -0.0010211643404274837,
          0.10358922484500106,
          -0.0010646412383545287,
          0.0023218344756295627,
          0.13620204506529426,
          0.06870349361738304,
          1.4781911903333265,
          -0.004260744250195863,
          0.7426632162496262,
          0.0008480888642496976,
          0.016134257293032514,
          -0.03515781586042165,
          -0.011465112659712087,
          -0.0011538373850728443,
          0.7559993046395564,
          -0.0013879530760821906,
          0.012804205792305002,
          1.6309643636495674,
          -0.08195245755321243,
          0.023635737529421295,
          -0.04895937339352549,
          -0.03260555636225911,
          0.012228725457846644,
          0.00009992634263891829,
          -0.025669691439743507,
          -0.06693304224184782,
          -0.003543076201403031,
          -0.10432315131779618,
          1.8778621198722514,
          0.021203108036209183,
          -0.03461088460004997,
          -0.024976863628083268,
          -0.015500803008554267,
          -0.010786944355584596,
          -0.04868999491385048,
          -0.03470689926283121,
          -0.03598994367606918,
          0.734662492147802,
          0.07139370112490773,
          -0.030223951436443075,
          0.03395779650151846,
          -0.06372132619907465,
          -0.04628045718325979,
          -0.0020985195656384125,
          -0.058312155038445605,
          -1.3125908942263749,
          0.005041368317026762,
          -0.010844874580711204,
          -0.09932012611291541,
          -0.0102064179531658,
          0.049110801069328344,
          -0.0077307057653509,
          -0.041798323383762714,
          0.039930449806554136,
          -0.000872571005674767,
          0.013718424610135203,
          -0.03086669251988042,
          -0.009872858931235094,
          0.007076038829302901,
          -0.000005004639879990265,
          0.06798100924965969,
          0.14267366978764406,
          0.0002812676650880687
         ],
         "yaxis": "y"
        }
       ],
       "layout": {
        "coloraxis": {
         "colorbar": {
          "title": {
           "text": "cluster_label"
          }
         },
         "colorscale": [
          [
           0,
           "#0d0887"
          ],
          [
           0.1111111111111111,
           "#46039f"
          ],
          [
           0.2222222222222222,
           "#7201a8"
          ],
          [
           0.3333333333333333,
           "#9c179e"
          ],
          [
           0.4444444444444444,
           "#bd3786"
          ],
          [
           0.5555555555555556,
           "#d8576b"
          ],
          [
           0.6666666666666666,
           "#ed7953"
          ],
          [
           0.7777777777777778,
           "#fb9f3a"
          ],
          [
           0.8888888888888888,
           "#fdca26"
          ],
          [
           1,
           "#f0f921"
          ]
         ]
        },
        "legend": {
         "tracegroupgap": 0
        },
        "margin": {
         "t": 60
        },
        "template": {
         "data": {
          "bar": [
           {
            "error_x": {
             "color": "#2a3f5f"
            },
            "error_y": {
             "color": "#2a3f5f"
            },
            "marker": {
             "line": {
              "color": "#E5ECF6",
              "width": 0.5
             },
             "pattern": {
              "fillmode": "overlay",
              "size": 10,
              "solidity": 0.2
             }
            },
            "type": "bar"
           }
          ],
          "barpolar": [
           {
            "marker": {
             "line": {
              "color": "#E5ECF6",
              "width": 0.5
             },
             "pattern": {
              "fillmode": "overlay",
              "size": 10,
              "solidity": 0.2
             }
            },
            "type": "barpolar"
           }
          ],
          "carpet": [
           {
            "aaxis": {
             "endlinecolor": "#2a3f5f",
             "gridcolor": "white",
             "linecolor": "white",
             "minorgridcolor": "white",
             "startlinecolor": "#2a3f5f"
            },
            "baxis": {
             "endlinecolor": "#2a3f5f",
             "gridcolor": "white",
             "linecolor": "white",
             "minorgridcolor": "white",
             "startlinecolor": "#2a3f5f"
            },
            "type": "carpet"
           }
          ],
          "choropleth": [
           {
            "colorbar": {
             "outlinewidth": 0,
             "ticks": ""
            },
            "type": "choropleth"
           }
          ],
          "contour": [
           {
            "colorbar": {
             "outlinewidth": 0,
             "ticks": ""
            },
            "colorscale": [
             [
              0,
              "#0d0887"
             ],
             [
              0.1111111111111111,
              "#46039f"
             ],
             [
              0.2222222222222222,
              "#7201a8"
             ],
             [
              0.3333333333333333,
              "#9c179e"
             ],
             [
              0.4444444444444444,
              "#bd3786"
             ],
             [
              0.5555555555555556,
              "#d8576b"
             ],
             [
              0.6666666666666666,
              "#ed7953"
             ],
             [
              0.7777777777777778,
              "#fb9f3a"
             ],
             [
              0.8888888888888888,
              "#fdca26"
             ],
             [
              1,
              "#f0f921"
             ]
            ],
            "type": "contour"
           }
          ],
          "contourcarpet": [
           {
            "colorbar": {
             "outlinewidth": 0,
             "ticks": ""
            },
            "type": "contourcarpet"
           }
          ],
          "heatmap": [
           {
            "colorbar": {
             "outlinewidth": 0,
             "ticks": ""
            },
            "colorscale": [
             [
              0,
              "#0d0887"
             ],
             [
              0.1111111111111111,
              "#46039f"
             ],
             [
              0.2222222222222222,
              "#7201a8"
             ],
             [
              0.3333333333333333,
              "#9c179e"
             ],
             [
              0.4444444444444444,
              "#bd3786"
             ],
             [
              0.5555555555555556,
              "#d8576b"
             ],
             [
              0.6666666666666666,
              "#ed7953"
             ],
             [
              0.7777777777777778,
              "#fb9f3a"
             ],
             [
              0.8888888888888888,
              "#fdca26"
             ],
             [
              1,
              "#f0f921"
             ]
            ],
            "type": "heatmap"
           }
          ],
          "heatmapgl": [
           {
            "colorbar": {
             "outlinewidth": 0,
             "ticks": ""
            },
            "colorscale": [
             [
              0,
              "#0d0887"
             ],
             [
              0.1111111111111111,
              "#46039f"
             ],
             [
              0.2222222222222222,
              "#7201a8"
             ],
             [
              0.3333333333333333,
              "#9c179e"
             ],
             [
              0.4444444444444444,
              "#bd3786"
             ],
             [
              0.5555555555555556,
              "#d8576b"
             ],
             [
              0.6666666666666666,
              "#ed7953"
             ],
             [
              0.7777777777777778,
              "#fb9f3a"
             ],
             [
              0.8888888888888888,
              "#fdca26"
             ],
             [
              1,
              "#f0f921"
             ]
            ],
            "type": "heatmapgl"
           }
          ],
          "histogram": [
           {
            "marker": {
             "pattern": {
              "fillmode": "overlay",
              "size": 10,
              "solidity": 0.2
             }
            },
            "type": "histogram"
           }
          ],
          "histogram2d": [
           {
            "colorbar": {
             "outlinewidth": 0,
             "ticks": ""
            },
            "colorscale": [
             [
              0,
              "#0d0887"
             ],
             [
              0.1111111111111111,
              "#46039f"
             ],
             [
              0.2222222222222222,
              "#7201a8"
             ],
             [
              0.3333333333333333,
              "#9c179e"
             ],
             [
              0.4444444444444444,
              "#bd3786"
             ],
             [
              0.5555555555555556,
              "#d8576b"
             ],
             [
              0.6666666666666666,
              "#ed7953"
             ],
             [
              0.7777777777777778,
              "#fb9f3a"
             ],
             [
              0.8888888888888888,
              "#fdca26"
             ],
             [
              1,
              "#f0f921"
             ]
            ],
            "type": "histogram2d"
           }
          ],
          "histogram2dcontour": [
           {
            "colorbar": {
             "outlinewidth": 0,
             "ticks": ""
            },
            "colorscale": [
             [
              0,
              "#0d0887"
             ],
             [
              0.1111111111111111,
              "#46039f"
             ],
             [
              0.2222222222222222,
              "#7201a8"
             ],
             [
              0.3333333333333333,
              "#9c179e"
             ],
             [
              0.4444444444444444,
              "#bd3786"
             ],
             [
              0.5555555555555556,
              "#d8576b"
             ],
             [
              0.6666666666666666,
              "#ed7953"
             ],
             [
              0.7777777777777778,
              "#fb9f3a"
             ],
             [
              0.8888888888888888,
              "#fdca26"
             ],
             [
              1,
              "#f0f921"
             ]
            ],
            "type": "histogram2dcontour"
           }
          ],
          "mesh3d": [
           {
            "colorbar": {
             "outlinewidth": 0,
             "ticks": ""
            },
            "type": "mesh3d"
           }
          ],
          "parcoords": [
           {
            "line": {
             "colorbar": {
              "outlinewidth": 0,
              "ticks": ""
             }
            },
            "type": "parcoords"
           }
          ],
          "pie": [
           {
            "automargin": true,
            "type": "pie"
           }
          ],
          "scatter": [
           {
            "fillpattern": {
             "fillmode": "overlay",
             "size": 10,
             "solidity": 0.2
            },
            "type": "scatter"
           }
          ],
          "scatter3d": [
           {
            "line": {
             "colorbar": {
              "outlinewidth": 0,
              "ticks": ""
             }
            },
            "marker": {
             "colorbar": {
              "outlinewidth": 0,
              "ticks": ""
             }
            },
            "type": "scatter3d"
           }
          ],
          "scattercarpet": [
           {
            "marker": {
             "colorbar": {
              "outlinewidth": 0,
              "ticks": ""
             }
            },
            "type": "scattercarpet"
           }
          ],
          "scattergeo": [
           {
            "marker": {
             "colorbar": {
              "outlinewidth": 0,
              "ticks": ""
             }
            },
            "type": "scattergeo"
           }
          ],
          "scattergl": [
           {
            "marker": {
             "colorbar": {
              "outlinewidth": 0,
              "ticks": ""
             }
            },
            "type": "scattergl"
           }
          ],
          "scattermapbox": [
           {
            "marker": {
             "colorbar": {
              "outlinewidth": 0,
              "ticks": ""
             }
            },
            "type": "scattermapbox"
           }
          ],
          "scatterpolar": [
           {
            "marker": {
             "colorbar": {
              "outlinewidth": 0,
              "ticks": ""
             }
            },
            "type": "scatterpolar"
           }
          ],
          "scatterpolargl": [
           {
            "marker": {
             "colorbar": {
              "outlinewidth": 0,
              "ticks": ""
             }
            },
            "type": "scatterpolargl"
           }
          ],
          "scatterternary": [
           {
            "marker": {
             "colorbar": {
              "outlinewidth": 0,
              "ticks": ""
             }
            },
            "type": "scatterternary"
           }
          ],
          "surface": [
           {
            "colorbar": {
             "outlinewidth": 0,
             "ticks": ""
            },
            "colorscale": [
             [
              0,
              "#0d0887"
             ],
             [
              0.1111111111111111,
              "#46039f"
             ],
             [
              0.2222222222222222,
              "#7201a8"
             ],
             [
              0.3333333333333333,
              "#9c179e"
             ],
             [
              0.4444444444444444,
              "#bd3786"
             ],
             [
              0.5555555555555556,
              "#d8576b"
             ],
             [
              0.6666666666666666,
              "#ed7953"
             ],
             [
              0.7777777777777778,
              "#fb9f3a"
             ],
             [
              0.8888888888888888,
              "#fdca26"
             ],
             [
              1,
              "#f0f921"
             ]
            ],
            "type": "surface"
           }
          ],
          "table": [
           {
            "cells": {
             "fill": {
              "color": "#EBF0F8"
             },
             "line": {
              "color": "white"
             }
            },
            "header": {
             "fill": {
              "color": "#C8D4E3"
             },
             "line": {
              "color": "white"
             }
            },
            "type": "table"
           }
          ]
         },
         "layout": {
          "annotationdefaults": {
           "arrowcolor": "#2a3f5f",
           "arrowhead": 0,
           "arrowwidth": 1
          },
          "autotypenumbers": "strict",
          "coloraxis": {
           "colorbar": {
            "outlinewidth": 0,
            "ticks": ""
           }
          },
          "colorscale": {
           "diverging": [
            [
             0,
             "#8e0152"
            ],
            [
             0.1,
             "#c51b7d"
            ],
            [
             0.2,
             "#de77ae"
            ],
            [
             0.3,
             "#f1b6da"
            ],
            [
             0.4,
             "#fde0ef"
            ],
            [
             0.5,
             "#f7f7f7"
            ],
            [
             0.6,
             "#e6f5d0"
            ],
            [
             0.7,
             "#b8e186"
            ],
            [
             0.8,
             "#7fbc41"
            ],
            [
             0.9,
             "#4d9221"
            ],
            [
             1,
             "#276419"
            ]
           ],
           "sequential": [
            [
             0,
             "#0d0887"
            ],
            [
             0.1111111111111111,
             "#46039f"
            ],
            [
             0.2222222222222222,
             "#7201a8"
            ],
            [
             0.3333333333333333,
             "#9c179e"
            ],
            [
             0.4444444444444444,
             "#bd3786"
            ],
            [
             0.5555555555555556,
             "#d8576b"
            ],
            [
             0.6666666666666666,
             "#ed7953"
            ],
            [
             0.7777777777777778,
             "#fb9f3a"
            ],
            [
             0.8888888888888888,
             "#fdca26"
            ],
            [
             1,
             "#f0f921"
            ]
           ],
           "sequentialminus": [
            [
             0,
             "#0d0887"
            ],
            [
             0.1111111111111111,
             "#46039f"
            ],
            [
             0.2222222222222222,
             "#7201a8"
            ],
            [
             0.3333333333333333,
             "#9c179e"
            ],
            [
             0.4444444444444444,
             "#bd3786"
            ],
            [
             0.5555555555555556,
             "#d8576b"
            ],
            [
             0.6666666666666666,
             "#ed7953"
            ],
            [
             0.7777777777777778,
             "#fb9f3a"
            ],
            [
             0.8888888888888888,
             "#fdca26"
            ],
            [
             1,
             "#f0f921"
            ]
           ]
          },
          "colorway": [
           "#636efa",
           "#EF553B",
           "#00cc96",
           "#ab63fa",
           "#FFA15A",
           "#19d3f3",
           "#FF6692",
           "#B6E880",
           "#FF97FF",
           "#FECB52"
          ],
          "font": {
           "color": "#2a3f5f"
          },
          "geo": {
           "bgcolor": "white",
           "lakecolor": "white",
           "landcolor": "#E5ECF6",
           "showlakes": true,
           "showland": true,
           "subunitcolor": "white"
          },
          "hoverlabel": {
           "align": "left"
          },
          "hovermode": "closest",
          "mapbox": {
           "style": "light"
          },
          "paper_bgcolor": "white",
          "plot_bgcolor": "#E5ECF6",
          "polar": {
           "angularaxis": {
            "gridcolor": "white",
            "linecolor": "white",
            "ticks": ""
           },
           "bgcolor": "#E5ECF6",
           "radialaxis": {
            "gridcolor": "white",
            "linecolor": "white",
            "ticks": ""
           }
          },
          "scene": {
           "xaxis": {
            "backgroundcolor": "#E5ECF6",
            "gridcolor": "white",
            "gridwidth": 2,
            "linecolor": "white",
            "showbackground": true,
            "ticks": "",
            "zerolinecolor": "white"
           },
           "yaxis": {
            "backgroundcolor": "#E5ECF6",
            "gridcolor": "white",
            "gridwidth": 2,
            "linecolor": "white",
            "showbackground": true,
            "ticks": "",
            "zerolinecolor": "white"
           },
           "zaxis": {
            "backgroundcolor": "#E5ECF6",
            "gridcolor": "white",
            "gridwidth": 2,
            "linecolor": "white",
            "showbackground": true,
            "ticks": "",
            "zerolinecolor": "white"
           }
          },
          "shapedefaults": {
           "line": {
            "color": "#2a3f5f"
           }
          },
          "ternary": {
           "aaxis": {
            "gridcolor": "white",
            "linecolor": "white",
            "ticks": ""
           },
           "baxis": {
            "gridcolor": "white",
            "linecolor": "white",
            "ticks": ""
           },
           "bgcolor": "#E5ECF6",
           "caxis": {
            "gridcolor": "white",
            "linecolor": "white",
            "ticks": ""
           }
          },
          "title": {
           "x": 0.05
          },
          "xaxis": {
           "automargin": true,
           "gridcolor": "white",
           "linecolor": "white",
           "ticks": "",
           "title": {
            "standoff": 15
           },
           "zerolinecolor": "white",
           "zerolinewidth": 2
          },
          "yaxis": {
           "automargin": true,
           "gridcolor": "white",
           "linecolor": "white",
           "ticks": "",
           "title": {
            "standoff": 15
           },
           "zerolinecolor": "white",
           "zerolinewidth": 2
          }
         }
        },
        "xaxis": {
         "anchor": "y",
         "domain": [
          0,
          1
         ],
         "title": {
          "text": "X"
         }
        },
        "yaxis": {
         "anchor": "x",
         "domain": [
          0,
          1
         ],
         "title": {
          "text": "Y"
         }
        }
       }
      }
     },
     "metadata": {},
     "output_type": "display_data"
    }
   ],
   "source": [
    "px.scatter(X, x='X', y='Y' , color='cluster_label', hover_data=['index'])"
   ]
  },
  {
   "cell_type": "code",
   "execution_count": 244,
   "metadata": {},
   "outputs": [],
   "source": [
    "#purple outliers to check\n",
    "#728, 132, 68, 172, 609, 70, 441, 5\n"
   ]
  },
  {
   "cell_type": "code",
   "execution_count": 245,
   "metadata": {},
   "outputs": [
    {
     "data": {
      "text/plain": [
       "'https://edition.cnn.com/2022/10/29/world/emperor-penguins-threatened-species-climate-scn/index.html'"
      ]
     },
     "execution_count": 245,
     "metadata": {},
     "output_type": "execute_result"
    }
   ],
   "source": [
    "all_titles.iloc[728]['article_link']\n"
   ]
  },
  {
   "cell_type": "code",
   "execution_count": 246,
   "metadata": {},
   "outputs": [
    {
     "data": {
      "text/plain": [
       "'https://metro.co.uk/2022/10/13/our-patients-arent-dead-look-inside-the-us-cryogenic-freezing-lab-17556468'"
      ]
     },
     "execution_count": 246,
     "metadata": {},
     "output_type": "execute_result"
    }
   ],
   "source": [
    "all_titles.iloc[132]['article_link']"
   ]
  },
  {
   "cell_type": "code",
   "execution_count": 247,
   "metadata": {},
   "outputs": [
    {
     "data": {
      "text/plain": [
       "'https://futurism.com/scientists-discovered-secret-ingredient-life'"
      ]
     },
     "execution_count": 247,
     "metadata": {},
     "output_type": "execute_result"
    }
   ],
   "source": [
    "all_titles.iloc[68]['article_link']"
   ]
  },
  {
   "cell_type": "code",
   "execution_count": 248,
   "metadata": {},
   "outputs": [
    {
     "data": {
      "text/plain": [
       "'https://www.technologyreview.com/2022/09/12/1059266/us-trial-cancer-blood-tests-early-detection/'"
      ]
     },
     "execution_count": 248,
     "metadata": {},
     "output_type": "execute_result"
    }
   ],
   "source": [
    "#This article my be importact for an emerging tech in cancer research\n",
    "all_titles.iloc[172]['article_link']"
   ]
  },
  {
   "cell_type": "code",
   "execution_count": 249,
   "metadata": {},
   "outputs": [
    {
     "data": {
      "text/plain": [
       "'https://www.cnn.com/videos/tv/2022/09/28/the-lead-senator-marco-rubio-live.cnn'"
      ]
     },
     "execution_count": 249,
     "metadata": {},
     "output_type": "execute_result"
    }
   ],
   "source": [
    "all_titles.iloc[609]['article_link']"
   ]
  },
  {
   "cell_type": "code",
   "execution_count": 250,
   "metadata": {},
   "outputs": [
    {
     "data": {
      "text/plain": [
       "'https://arstechnica.com/science/2022/10/a-bold-effort-to-cure-hiv-using-crispr/'"
      ]
     },
     "execution_count": 250,
     "metadata": {},
     "output_type": "execute_result"
    }
   ],
   "source": [
    "#HIV studies\n",
    "all_titles.iloc[70]['article_link']"
   ]
  },
  {
   "cell_type": "code",
   "execution_count": 251,
   "metadata": {},
   "outputs": [
    {
     "data": {
      "text/plain": [
       "'https://www.nationalgeographic.co.uk/science-and-technology/2022/10/many-scientists-see-fusion-as-the-future-of-energy-and-theyre-betting-big'"
      ]
     },
     "execution_count": 251,
     "metadata": {},
     "output_type": "execute_result"
    }
   ],
   "source": [
    "#nuclear fusion\n",
    "all_titles.iloc[441]['article_link']"
   ]
  },
  {
   "cell_type": "code",
   "execution_count": 252,
   "metadata": {},
   "outputs": [
    {
     "data": {
      "text/plain": [
       "'https://spectrum.ieee.org/4d-printing-microscale'"
      ]
     },
     "execution_count": 252,
     "metadata": {},
     "output_type": "execute_result"
    }
   ],
   "source": [
    "#4D printing\n",
    "all_titles.iloc[5]['article_link']"
   ]
  },
  {
   "cell_type": "code",
   "execution_count": 253,
   "metadata": {},
   "outputs": [],
   "source": []
  },
  {
   "cell_type": "code",
   "execution_count": null,
   "metadata": {},
   "outputs": [],
   "source": [
    "#orange outliers to check \n",
    "#641, 787"
   ]
  },
  {
   "cell_type": "code",
   "execution_count": 255,
   "metadata": {},
   "outputs": [
    {
     "data": {
      "text/plain": [
       "'https://www.euronews.com/green/2022/10/11/major-milestone-for-greek-energy-as-renewables-power-100-of-electricity-demand'"
      ]
     },
     "execution_count": 255,
     "metadata": {},
     "output_type": "execute_result"
    }
   ],
   "source": [
    "#energy\n",
    "all_titles.iloc[641]['article_link']"
   ]
  },
  {
   "cell_type": "code",
   "execution_count": 256,
   "metadata": {},
   "outputs": [
    {
     "data": {
      "text/plain": [
       "'https://www.wired.com/story/drought-destroying-ancient-ruins/'"
      ]
     },
     "execution_count": 256,
     "metadata": {},
     "output_type": "execute_result"
    }
   ],
   "source": [
    "all_titles.iloc[787]['article_link']"
   ]
  },
  {
   "cell_type": "code",
   "execution_count": null,
   "metadata": {},
   "outputs": [],
   "source": []
  },
  {
   "cell_type": "code",
   "execution_count": null,
   "metadata": {},
   "outputs": [],
   "source": [
    "#remove\n",
    "idx_to_remove = [728, 132, 68, 609, 787]"
   ]
  },
  {
   "cell_type": "code",
   "execution_count": 257,
   "metadata": {},
   "outputs": [],
   "source": [
    "X_copy = X.copy()"
   ]
  },
  {
   "cell_type": "code",
   "execution_count": 258,
   "metadata": {},
   "outputs": [],
   "source": [
    "X_copy.drop(idx_to_remove, axis=0, inplace=True)"
   ]
  },
  {
   "cell_type": "code",
   "execution_count": 259,
   "metadata": {},
   "outputs": [
    {
     "data": {
      "application/vnd.plotly.v1+json": {
       "config": {
        "plotlyServerURL": "https://plot.ly"
       },
       "data": [
        {
         "customdata": [
          [
           0
          ],
          [
           1
          ],
          [
           2
          ],
          [
           3
          ],
          [
           4
          ],
          [
           5
          ],
          [
           6
          ],
          [
           7
          ],
          [
           8
          ],
          [
           9
          ],
          [
           10
          ],
          [
           11
          ],
          [
           12
          ],
          [
           13
          ],
          [
           14
          ],
          [
           15
          ],
          [
           16
          ],
          [
           17
          ],
          [
           18
          ],
          [
           19
          ],
          [
           20
          ],
          [
           21
          ],
          [
           22
          ],
          [
           23
          ],
          [
           24
          ],
          [
           25
          ],
          [
           26
          ],
          [
           27
          ],
          [
           28
          ],
          [
           29
          ],
          [
           30
          ],
          [
           31
          ],
          [
           32
          ],
          [
           33
          ],
          [
           34
          ],
          [
           35
          ],
          [
           36
          ],
          [
           37
          ],
          [
           38
          ],
          [
           39
          ],
          [
           40
          ],
          [
           41
          ],
          [
           42
          ],
          [
           43
          ],
          [
           44
          ],
          [
           45
          ],
          [
           46
          ],
          [
           47
          ],
          [
           48
          ],
          [
           49
          ],
          [
           50
          ],
          [
           51
          ],
          [
           52
          ],
          [
           53
          ],
          [
           54
          ],
          [
           55
          ],
          [
           56
          ],
          [
           57
          ],
          [
           58
          ],
          [
           59
          ],
          [
           60
          ],
          [
           61
          ],
          [
           62
          ],
          [
           63
          ],
          [
           64
          ],
          [
           65
          ],
          [
           66
          ],
          [
           67
          ],
          [
           69
          ],
          [
           70
          ],
          [
           71
          ],
          [
           72
          ],
          [
           73
          ],
          [
           74
          ],
          [
           75
          ],
          [
           76
          ],
          [
           77
          ],
          [
           78
          ],
          [
           79
          ],
          [
           80
          ],
          [
           81
          ],
          [
           82
          ],
          [
           83
          ],
          [
           84
          ],
          [
           85
          ],
          [
           86
          ],
          [
           87
          ],
          [
           88
          ],
          [
           89
          ],
          [
           90
          ],
          [
           91
          ],
          [
           92
          ],
          [
           93
          ],
          [
           94
          ],
          [
           95
          ],
          [
           96
          ],
          [
           97
          ],
          [
           98
          ],
          [
           99
          ],
          [
           100
          ],
          [
           101
          ],
          [
           102
          ],
          [
           103
          ],
          [
           104
          ],
          [
           105
          ],
          [
           106
          ],
          [
           107
          ],
          [
           108
          ],
          [
           109
          ],
          [
           110
          ],
          [
           111
          ],
          [
           112
          ],
          [
           113
          ],
          [
           114
          ],
          [
           115
          ],
          [
           116
          ],
          [
           117
          ],
          [
           118
          ],
          [
           119
          ],
          [
           120
          ],
          [
           121
          ],
          [
           122
          ],
          [
           123
          ],
          [
           124
          ],
          [
           125
          ],
          [
           126
          ],
          [
           127
          ],
          [
           128
          ],
          [
           129
          ],
          [
           130
          ],
          [
           131
          ],
          [
           133
          ],
          [
           134
          ],
          [
           135
          ],
          [
           136
          ],
          [
           137
          ],
          [
           138
          ],
          [
           139
          ],
          [
           140
          ],
          [
           141
          ],
          [
           142
          ],
          [
           143
          ],
          [
           144
          ],
          [
           145
          ],
          [
           146
          ],
          [
           147
          ],
          [
           148
          ],
          [
           149
          ],
          [
           150
          ],
          [
           151
          ],
          [
           152
          ],
          [
           153
          ],
          [
           154
          ],
          [
           155
          ],
          [
           156
          ],
          [
           157
          ],
          [
           158
          ],
          [
           159
          ],
          [
           160
          ],
          [
           161
          ],
          [
           162
          ],
          [
           163
          ],
          [
           164
          ],
          [
           165
          ],
          [
           166
          ],
          [
           167
          ],
          [
           168
          ],
          [
           169
          ],
          [
           170
          ],
          [
           171
          ],
          [
           172
          ],
          [
           173
          ],
          [
           174
          ],
          [
           175
          ],
          [
           176
          ],
          [
           177
          ],
          [
           178
          ],
          [
           179
          ],
          [
           180
          ],
          [
           181
          ],
          [
           182
          ],
          [
           183
          ],
          [
           184
          ],
          [
           185
          ],
          [
           186
          ],
          [
           187
          ],
          [
           188
          ],
          [
           189
          ],
          [
           190
          ],
          [
           191
          ],
          [
           192
          ],
          [
           193
          ],
          [
           194
          ],
          [
           195
          ],
          [
           196
          ],
          [
           197
          ],
          [
           198
          ],
          [
           199
          ],
          [
           200
          ],
          [
           201
          ],
          [
           202
          ],
          [
           203
          ],
          [
           204
          ],
          [
           205
          ],
          [
           206
          ],
          [
           207
          ],
          [
           208
          ],
          [
           209
          ],
          [
           210
          ],
          [
           211
          ],
          [
           212
          ],
          [
           213
          ],
          [
           214
          ],
          [
           215
          ],
          [
           216
          ],
          [
           217
          ],
          [
           218
          ],
          [
           219
          ],
          [
           220
          ],
          [
           221
          ],
          [
           222
          ],
          [
           223
          ],
          [
           224
          ],
          [
           225
          ],
          [
           226
          ],
          [
           227
          ],
          [
           228
          ],
          [
           229
          ],
          [
           230
          ],
          [
           231
          ],
          [
           232
          ],
          [
           233
          ],
          [
           234
          ],
          [
           235
          ],
          [
           236
          ],
          [
           237
          ],
          [
           238
          ],
          [
           239
          ],
          [
           240
          ],
          [
           241
          ],
          [
           242
          ],
          [
           243
          ],
          [
           244
          ],
          [
           245
          ],
          [
           246
          ],
          [
           247
          ],
          [
           248
          ],
          [
           249
          ],
          [
           250
          ],
          [
           251
          ],
          [
           252
          ],
          [
           253
          ],
          [
           254
          ],
          [
           255
          ],
          [
           256
          ],
          [
           257
          ],
          [
           258
          ],
          [
           259
          ],
          [
           260
          ],
          [
           261
          ],
          [
           262
          ],
          [
           263
          ],
          [
           264
          ],
          [
           265
          ],
          [
           266
          ],
          [
           267
          ],
          [
           268
          ],
          [
           269
          ],
          [
           270
          ],
          [
           271
          ],
          [
           272
          ],
          [
           273
          ],
          [
           274
          ],
          [
           275
          ],
          [
           276
          ],
          [
           277
          ],
          [
           278
          ],
          [
           279
          ],
          [
           280
          ],
          [
           281
          ],
          [
           282
          ],
          [
           283
          ],
          [
           284
          ],
          [
           285
          ],
          [
           286
          ],
          [
           287
          ],
          [
           288
          ],
          [
           289
          ],
          [
           290
          ],
          [
           291
          ],
          [
           292
          ],
          [
           293
          ],
          [
           294
          ],
          [
           295
          ],
          [
           296
          ],
          [
           297
          ],
          [
           298
          ],
          [
           299
          ],
          [
           300
          ],
          [
           301
          ],
          [
           302
          ],
          [
           303
          ],
          [
           304
          ],
          [
           305
          ],
          [
           306
          ],
          [
           307
          ],
          [
           308
          ],
          [
           309
          ],
          [
           310
          ],
          [
           311
          ],
          [
           312
          ],
          [
           313
          ],
          [
           314
          ],
          [
           315
          ],
          [
           316
          ],
          [
           317
          ],
          [
           318
          ],
          [
           319
          ],
          [
           320
          ],
          [
           321
          ],
          [
           322
          ],
          [
           323
          ],
          [
           324
          ],
          [
           325
          ],
          [
           326
          ],
          [
           327
          ],
          [
           328
          ],
          [
           329
          ],
          [
           330
          ],
          [
           331
          ],
          [
           332
          ],
          [
           333
          ],
          [
           334
          ],
          [
           335
          ],
          [
           336
          ],
          [
           337
          ],
          [
           338
          ],
          [
           339
          ],
          [
           340
          ],
          [
           341
          ],
          [
           342
          ],
          [
           343
          ],
          [
           344
          ],
          [
           345
          ],
          [
           346
          ],
          [
           347
          ],
          [
           348
          ],
          [
           349
          ],
          [
           350
          ],
          [
           351
          ],
          [
           352
          ],
          [
           353
          ],
          [
           354
          ],
          [
           355
          ],
          [
           356
          ],
          [
           357
          ],
          [
           358
          ],
          [
           359
          ],
          [
           360
          ],
          [
           361
          ],
          [
           362
          ],
          [
           363
          ],
          [
           364
          ],
          [
           365
          ],
          [
           366
          ],
          [
           367
          ],
          [
           368
          ],
          [
           369
          ],
          [
           370
          ],
          [
           371
          ],
          [
           372
          ],
          [
           373
          ],
          [
           374
          ],
          [
           375
          ],
          [
           376
          ],
          [
           377
          ],
          [
           378
          ],
          [
           379
          ],
          [
           380
          ],
          [
           381
          ],
          [
           382
          ],
          [
           383
          ],
          [
           384
          ],
          [
           385
          ],
          [
           386
          ],
          [
           387
          ],
          [
           388
          ],
          [
           389
          ],
          [
           390
          ],
          [
           391
          ],
          [
           392
          ],
          [
           393
          ],
          [
           394
          ],
          [
           395
          ],
          [
           396
          ],
          [
           397
          ],
          [
           398
          ],
          [
           399
          ],
          [
           400
          ],
          [
           401
          ],
          [
           402
          ],
          [
           403
          ],
          [
           404
          ],
          [
           405
          ],
          [
           406
          ],
          [
           407
          ],
          [
           408
          ],
          [
           409
          ],
          [
           410
          ],
          [
           411
          ],
          [
           412
          ],
          [
           413
          ],
          [
           414
          ],
          [
           415
          ],
          [
           416
          ],
          [
           417
          ],
          [
           418
          ],
          [
           419
          ],
          [
           420
          ],
          [
           421
          ],
          [
           422
          ],
          [
           423
          ],
          [
           424
          ],
          [
           425
          ],
          [
           426
          ],
          [
           427
          ],
          [
           428
          ],
          [
           429
          ],
          [
           430
          ],
          [
           431
          ],
          [
           432
          ],
          [
           433
          ],
          [
           434
          ],
          [
           435
          ],
          [
           436
          ],
          [
           437
          ],
          [
           438
          ],
          [
           439
          ],
          [
           440
          ],
          [
           441
          ],
          [
           442
          ],
          [
           443
          ],
          [
           444
          ],
          [
           445
          ],
          [
           446
          ],
          [
           447
          ],
          [
           448
          ],
          [
           449
          ],
          [
           450
          ],
          [
           451
          ],
          [
           452
          ],
          [
           453
          ],
          [
           454
          ],
          [
           455
          ],
          [
           456
          ],
          [
           457
          ],
          [
           458
          ],
          [
           459
          ],
          [
           460
          ],
          [
           461
          ],
          [
           462
          ],
          [
           463
          ],
          [
           464
          ],
          [
           465
          ],
          [
           466
          ],
          [
           467
          ],
          [
           468
          ],
          [
           469
          ],
          [
           470
          ],
          [
           471
          ],
          [
           472
          ],
          [
           473
          ],
          [
           474
          ],
          [
           475
          ],
          [
           476
          ],
          [
           477
          ],
          [
           478
          ],
          [
           479
          ],
          [
           480
          ],
          [
           481
          ],
          [
           482
          ],
          [
           483
          ],
          [
           484
          ],
          [
           485
          ],
          [
           486
          ],
          [
           487
          ],
          [
           488
          ],
          [
           489
          ],
          [
           490
          ],
          [
           491
          ],
          [
           492
          ],
          [
           493
          ],
          [
           494
          ],
          [
           495
          ],
          [
           496
          ],
          [
           497
          ],
          [
           498
          ],
          [
           499
          ],
          [
           500
          ],
          [
           501
          ],
          [
           502
          ],
          [
           503
          ],
          [
           504
          ],
          [
           505
          ],
          [
           506
          ],
          [
           507
          ],
          [
           508
          ],
          [
           509
          ],
          [
           510
          ],
          [
           511
          ],
          [
           512
          ],
          [
           513
          ],
          [
           514
          ],
          [
           515
          ],
          [
           516
          ],
          [
           517
          ],
          [
           518
          ],
          [
           519
          ],
          [
           520
          ],
          [
           521
          ],
          [
           522
          ],
          [
           523
          ],
          [
           524
          ],
          [
           525
          ],
          [
           526
          ],
          [
           527
          ],
          [
           528
          ],
          [
           529
          ],
          [
           530
          ],
          [
           531
          ],
          [
           532
          ],
          [
           533
          ],
          [
           534
          ],
          [
           535
          ],
          [
           536
          ],
          [
           537
          ],
          [
           538
          ],
          [
           539
          ],
          [
           540
          ],
          [
           541
          ],
          [
           542
          ],
          [
           543
          ],
          [
           544
          ],
          [
           545
          ],
          [
           546
          ],
          [
           547
          ],
          [
           548
          ],
          [
           549
          ],
          [
           550
          ],
          [
           551
          ],
          [
           552
          ],
          [
           553
          ],
          [
           554
          ],
          [
           555
          ],
          [
           556
          ],
          [
           557
          ],
          [
           558
          ],
          [
           559
          ],
          [
           560
          ],
          [
           561
          ],
          [
           562
          ],
          [
           563
          ],
          [
           564
          ],
          [
           565
          ],
          [
           566
          ],
          [
           567
          ],
          [
           568
          ],
          [
           569
          ],
          [
           570
          ],
          [
           571
          ],
          [
           572
          ],
          [
           573
          ],
          [
           574
          ],
          [
           575
          ],
          [
           576
          ],
          [
           577
          ],
          [
           578
          ],
          [
           579
          ],
          [
           580
          ],
          [
           581
          ],
          [
           582
          ],
          [
           583
          ],
          [
           584
          ],
          [
           585
          ],
          [
           586
          ],
          [
           587
          ],
          [
           588
          ],
          [
           589
          ],
          [
           590
          ],
          [
           591
          ],
          [
           592
          ],
          [
           593
          ],
          [
           594
          ],
          [
           595
          ],
          [
           596
          ],
          [
           597
          ],
          [
           598
          ],
          [
           599
          ],
          [
           600
          ],
          [
           601
          ],
          [
           602
          ],
          [
           603
          ],
          [
           604
          ],
          [
           605
          ],
          [
           606
          ],
          [
           607
          ],
          [
           608
          ],
          [
           610
          ],
          [
           611
          ],
          [
           612
          ],
          [
           613
          ],
          [
           614
          ],
          [
           615
          ],
          [
           616
          ],
          [
           617
          ],
          [
           618
          ],
          [
           619
          ],
          [
           620
          ],
          [
           621
          ],
          [
           622
          ],
          [
           623
          ],
          [
           624
          ],
          [
           625
          ],
          [
           626
          ],
          [
           627
          ],
          [
           628
          ],
          [
           629
          ],
          [
           630
          ],
          [
           631
          ],
          [
           632
          ],
          [
           633
          ],
          [
           634
          ],
          [
           635
          ],
          [
           636
          ],
          [
           637
          ],
          [
           638
          ],
          [
           639
          ],
          [
           640
          ],
          [
           641
          ],
          [
           642
          ],
          [
           643
          ],
          [
           644
          ],
          [
           645
          ],
          [
           646
          ],
          [
           647
          ],
          [
           648
          ],
          [
           649
          ],
          [
           650
          ],
          [
           651
          ],
          [
           652
          ],
          [
           653
          ],
          [
           654
          ],
          [
           655
          ],
          [
           656
          ],
          [
           657
          ],
          [
           658
          ],
          [
           659
          ],
          [
           660
          ],
          [
           661
          ],
          [
           662
          ],
          [
           663
          ],
          [
           664
          ],
          [
           665
          ],
          [
           666
          ],
          [
           667
          ],
          [
           668
          ],
          [
           669
          ],
          [
           670
          ],
          [
           671
          ],
          [
           672
          ],
          [
           673
          ],
          [
           674
          ],
          [
           675
          ],
          [
           676
          ],
          [
           677
          ],
          [
           678
          ],
          [
           679
          ],
          [
           680
          ],
          [
           681
          ],
          [
           682
          ],
          [
           683
          ],
          [
           684
          ],
          [
           685
          ],
          [
           686
          ],
          [
           687
          ],
          [
           688
          ],
          [
           689
          ],
          [
           690
          ],
          [
           691
          ],
          [
           692
          ],
          [
           693
          ],
          [
           694
          ],
          [
           695
          ],
          [
           696
          ],
          [
           697
          ],
          [
           698
          ],
          [
           699
          ],
          [
           700
          ],
          [
           701
          ],
          [
           702
          ],
          [
           703
          ],
          [
           704
          ],
          [
           705
          ],
          [
           706
          ],
          [
           707
          ],
          [
           708
          ],
          [
           709
          ],
          [
           710
          ],
          [
           711
          ],
          [
           712
          ],
          [
           713
          ],
          [
           714
          ],
          [
           715
          ],
          [
           716
          ],
          [
           717
          ],
          [
           718
          ],
          [
           719
          ],
          [
           720
          ],
          [
           721
          ],
          [
           722
          ],
          [
           723
          ],
          [
           724
          ],
          [
           725
          ],
          [
           726
          ],
          [
           727
          ],
          [
           729
          ],
          [
           730
          ],
          [
           731
          ],
          [
           732
          ],
          [
           733
          ],
          [
           734
          ],
          [
           735
          ],
          [
           736
          ],
          [
           737
          ],
          [
           738
          ],
          [
           739
          ],
          [
           740
          ],
          [
           741
          ],
          [
           742
          ],
          [
           743
          ],
          [
           744
          ],
          [
           745
          ],
          [
           746
          ],
          [
           747
          ],
          [
           748
          ],
          [
           749
          ],
          [
           750
          ],
          [
           751
          ],
          [
           752
          ],
          [
           753
          ],
          [
           754
          ],
          [
           755
          ],
          [
           756
          ],
          [
           757
          ],
          [
           758
          ],
          [
           759
          ],
          [
           760
          ],
          [
           761
          ],
          [
           762
          ],
          [
           763
          ],
          [
           764
          ],
          [
           765
          ],
          [
           766
          ],
          [
           767
          ],
          [
           768
          ],
          [
           769
          ],
          [
           770
          ],
          [
           771
          ],
          [
           772
          ],
          [
           773
          ],
          [
           774
          ],
          [
           775
          ],
          [
           776
          ],
          [
           777
          ],
          [
           778
          ],
          [
           779
          ],
          [
           780
          ],
          [
           781
          ],
          [
           782
          ],
          [
           783
          ],
          [
           784
          ],
          [
           785
          ],
          [
           786
          ],
          [
           787
          ],
          [
           788
          ],
          [
           789
          ],
          [
           790
          ],
          [
           791
          ],
          [
           792
          ],
          [
           793
          ],
          [
           794
          ],
          [
           795
          ],
          [
           796
          ],
          [
           797
          ],
          [
           798
          ],
          [
           799
          ],
          [
           800
          ],
          [
           801
          ],
          [
           802
          ],
          [
           803
          ],
          [
           804
          ],
          [
           805
          ],
          [
           806
          ],
          [
           807
          ],
          [
           808
          ],
          [
           809
          ],
          [
           810
          ],
          [
           811
          ],
          [
           812
          ],
          [
           813
          ],
          [
           814
          ],
          [
           815
          ],
          [
           816
          ],
          [
           817
          ],
          [
           818
          ],
          [
           819
          ],
          [
           820
          ],
          [
           821
          ],
          [
           822
          ],
          [
           823
          ],
          [
           824
          ],
          [
           825
          ],
          [
           826
          ],
          [
           827
          ],
          [
           828
          ],
          [
           829
          ],
          [
           830
          ],
          [
           831
          ],
          [
           832
          ],
          [
           833
          ],
          [
           834
          ],
          [
           835
          ],
          [
           836
          ],
          [
           837
          ],
          [
           838
          ],
          [
           839
          ],
          [
           840
          ],
          [
           841
          ],
          [
           842
          ],
          [
           843
          ],
          [
           844
          ],
          [
           845
          ],
          [
           846
          ],
          [
           847
          ],
          [
           848
          ],
          [
           849
          ],
          [
           850
          ],
          [
           851
          ],
          [
           852
          ],
          [
           853
          ],
          [
           854
          ],
          [
           855
          ],
          [
           856
          ],
          [
           857
          ],
          [
           858
          ],
          [
           859
          ],
          [
           860
          ],
          [
           861
          ],
          [
           862
          ],
          [
           863
          ]
         ],
         "hovertemplate": "X=%{x}<br>Y=%{y}<br>index=%{customdata[0]}<br>cluster_label=%{marker.color}<extra></extra>",
         "legendgroup": "",
         "marker": {
          "color": [
           0,
           0,
           0,
           0,
           0,
           1,
           0,
           0,
           0,
           4,
           0,
           0,
           0,
           0,
           2,
           0,
           0,
           4,
           0,
           0,
           0,
           2,
           0,
           4,
           0,
           0,
           0,
           2,
           0,
           0,
           2,
           0,
           0,
           1,
           0,
           0,
           0,
           0,
           0,
           0,
           0,
           0,
           0,
           0,
           4,
           0,
           3,
           0,
           0,
           0,
           0,
           0,
           0,
           0,
           0,
           0,
           0,
           2,
           0,
           0,
           2,
           0,
           0,
           0,
           0,
           0,
           4,
           4,
           2,
           1,
           0,
           0,
           0,
           0,
           2,
           0,
           2,
           0,
           2,
           2,
           0,
           2,
           2,
           0,
           4,
           2,
           0,
           0,
           0,
           0,
           0,
           0,
           0,
           0,
           0,
           2,
           0,
           0,
           0,
           0,
           0,
           0,
           3,
           0,
           0,
           0,
           2,
           2,
           0,
           0,
           0,
           0,
           0,
           4,
           0,
           0,
           2,
           0,
           0,
           0,
           0,
           2,
           3,
           0,
           0,
           4,
           4,
           4,
           2,
           0,
           0,
           0,
           0,
           2,
           0,
           0,
           0,
           4,
           2,
           0,
           0,
           0,
           0,
           0,
           0,
           2,
           2,
           0,
           2,
           0,
           0,
           2,
           2,
           2,
           0,
           0,
           0,
           0,
           0,
           0,
           0,
           0,
           0,
           0,
           2,
           0,
           1,
           0,
           0,
           0,
           1,
           0,
           0,
           0,
           0,
           0,
           2,
           2,
           0,
           0,
           0,
           0,
           0,
           0,
           0,
           0,
           0,
           0,
           0,
           2,
           0,
           0,
           0,
           0,
           3,
           2,
           0,
           0,
           0,
           0,
           0,
           0,
           1,
           0,
           0,
           0,
           0,
           0,
           1,
           0,
           0,
           3,
           0,
           0,
           2,
           0,
           2,
           0,
           0,
           0,
           0,
           2,
           0,
           0,
           2,
           1,
           0,
           0,
           0,
           0,
           0,
           0,
           2,
           0,
           0,
           0,
           0,
           0,
           2,
           2,
           0,
           2,
           0,
           0,
           0,
           0,
           2,
           0,
           2,
           0,
           0,
           0,
           0,
           0,
           0,
           0,
           1,
           0,
           2,
           0,
           0,
           0,
           0,
           0,
           0,
           0,
           0,
           2,
           3,
           0,
           2,
           0,
           0,
           0,
           2,
           0,
           0,
           3,
           0,
           0,
           0,
           0,
           0,
           2,
           2,
           0,
           0,
           0,
           0,
           0,
           0,
           0,
           0,
           0,
           0,
           0,
           0,
           0,
           0,
           4,
           0,
           0,
           0,
           0,
           0,
           2,
           0,
           0,
           0,
           0,
           0,
           0,
           0,
           4,
           0,
           0,
           0,
           0,
           0,
           0,
           0,
           0,
           0,
           2,
           2,
           0,
           0,
           1,
           0,
           0,
           0,
           0,
           0,
           0,
           0,
           1,
           0,
           0,
           0,
           0,
           0,
           0,
           2,
           2,
           0,
           2,
           0,
           0,
           0,
           2,
           0,
           0,
           0,
           0,
           2,
           0,
           0,
           0,
           0,
           0,
           0,
           0,
           0,
           0,
           0,
           0,
           0,
           0,
           0,
           0,
           0,
           0,
           0,
           0,
           0,
           0,
           0,
           0,
           1,
           0,
           0,
           0,
           0,
           1,
           0,
           0,
           0,
           0,
           1,
           0,
           0,
           0,
           2,
           0,
           0,
           0,
           0,
           0,
           0,
           0,
           2,
           1,
           2,
           0,
           0,
           0,
           0,
           0,
           0,
           0,
           0,
           0,
           0,
           0,
           2,
           0,
           0,
           0,
           0,
           0,
           0,
           0,
           0,
           0,
           0,
           2,
           0,
           2,
           0,
           0,
           2,
           4,
           2,
           2,
           0,
           0,
           0,
           0,
           2,
           1,
           0,
           0,
           0,
           2,
           0,
           0,
           0,
           0,
           0,
           0,
           0,
           0,
           1,
           0,
           0,
           3,
           2,
           0,
           2,
           0,
           0,
           2,
           0,
           0,
           0,
           0,
           0,
           0,
           0,
           0,
           0,
           0,
           0,
           0,
           0,
           0,
           0,
           0,
           0,
           0,
           0,
           0,
           2,
           0,
           0,
           2,
           3,
           2,
           2,
           0,
           1,
           0,
           0,
           0,
           0,
           0,
           2,
           0,
           0,
           1,
           2,
           0,
           0,
           0,
           1,
           0,
           0,
           0,
           0,
           0,
           2,
           0,
           0,
           3,
           3,
           0,
           0,
           0,
           0,
           0,
           2,
           0,
           0,
           2,
           0,
           2,
           0,
           0,
           0,
           0,
           0,
           1,
           0,
           0,
           0,
           0,
           2,
           0,
           2,
           0,
           0,
           2,
           0,
           2,
           0,
           4,
           0,
           2,
           0,
           0,
           0,
           0,
           2,
           0,
           1,
           0,
           0,
           0,
           0,
           0,
           0,
           0,
           0,
           4,
           0,
           0,
           0,
           0,
           4,
           0,
           0,
           0,
           0,
           0,
           0,
           0,
           0,
           0,
           0,
           4,
           4,
           0,
           0,
           0,
           0,
           0,
           0,
           0,
           0,
           0,
           0,
           0,
           0,
           0,
           0,
           0,
           3,
           0,
           0,
           0,
           2,
           2,
           0,
           0,
           2,
           2,
           2,
           0,
           0,
           0,
           0,
           1,
           0,
           0,
           0,
           0,
           0,
           2,
           0,
           0,
           0,
           0,
           0,
           0,
           0,
           0,
           0,
           0,
           0,
           2,
           0,
           0,
           0,
           2,
           2,
           2,
           0,
           2,
           3,
           0,
           0,
           2,
           0,
           3,
           0,
           0,
           2,
           0,
           0,
           0,
           0,
           0,
           0,
           0,
           0,
           0,
           2,
           2,
           0,
           0,
           2,
           0,
           1,
           2,
           0,
           0,
           0,
           0,
           0,
           0,
           2,
           0,
           0,
           1,
           2,
           2,
           0,
           0,
           2,
           0,
           2,
           0,
           2,
           0,
           0,
           0,
           0,
           0,
           2,
           2,
           2,
           0,
           0,
           2,
           0,
           2,
           0,
           0,
           0,
           1,
           0,
           0,
           0,
           0,
           0,
           0,
           0,
           0,
           0,
           0,
           0,
           3,
           0,
           3,
           3,
           0,
           0,
           0,
           0,
           0,
           1,
           2,
           0,
           0,
           2,
           0,
           1,
           0,
           2,
           0,
           0,
           0,
           0,
           0,
           0,
           0,
           0,
           0,
           0,
           0,
           0,
           0,
           0,
           0,
           0,
           0,
           4,
           0,
           1,
           0,
           2,
           4,
           0,
           0,
           2,
           0,
           0,
           2,
           0,
           2,
           0,
           2,
           1,
           0,
           0,
           2,
           0,
           2,
           0,
           0,
           0,
           1,
           0,
           0,
           0,
           0,
           0,
           0,
           2,
           0,
           2,
           0,
           3,
           3,
           0,
           1,
           0,
           0,
           0,
           0,
           0,
           2,
           0,
           2,
           0,
           3,
           0,
           0,
           0,
           0,
           0,
           0,
           0,
           3,
           0,
           0,
           0,
           0,
           2,
           0,
           0,
           0,
           0,
           0,
           3,
           2,
           0,
           0,
           2,
           0,
           0,
           0,
           0,
           0,
           2,
           3,
           0,
           2,
           0,
           0,
           1,
           1,
           2,
           0,
           0,
           0,
           2,
           0,
           1,
           2,
           0,
           2,
           4,
           0,
           0,
           0,
           0,
           2,
           0,
           0,
           0,
           0,
           0,
           2,
           0,
           0,
           0,
           2,
           0,
           0
          ],
          "coloraxis": "coloraxis",
          "symbol": "circle"
         },
         "mode": "markers",
         "name": "",
         "orientation": "v",
         "showlegend": false,
         "type": "scatter",
         "x": [
          0.0006021479655262707,
          0.0057800268668449055,
          0.0008249128371404129,
          0.10837986038272285,
          0.04006877705517623,
          4.52353830932285,
          0.07519333563493694,
          0.08576607732238281,
          0.005652285383483525,
          0.21451580693794894,
          0.012153476201231167,
          0.1337715121142316,
          0.021207994446212526,
          0.06753994730191297,
          1.0469741104655412,
          0.005385857279560926,
          0.01728470530166213,
          0.21731705735651002,
          0.08164027875609284,
          0.034160136371351464,
          0.021417869662813407,
          1.0469741104655412,
          0.029645032415804386,
          1.1719027520285148,
          0.017088010096026455,
          0.10069560771906837,
          0.000549886422853713,
          0.9872750044345487,
          0.002205709024347983,
          0.001195075386943345,
          0.9878953528803631,
          0.0068294905610259285,
          0.031205152017314025,
          1.979927418903572,
          0.10699708251540652,
          0.0002485670675285796,
          0.033231074741152805,
          0.01858023525635779,
          0.023112859205808172,
          0.02237870498710051,
          0.01402343085763185,
          0.03059431402563743,
          0.08918785591733765,
          0.022578125006327394,
          0.19821362474006582,
          0.10613340338942123,
          1.2471151893250703,
          0.016073080878382627,
          0.02228947087240558,
          3.683275772498931e-15,
          0.027499645273321476,
          0.0035071556647741637,
          0.011033501306939471,
          0.05524550624614513,
          0.00024313921090659418,
          3.555558536378375e-15,
          4.4571549563482794e-15,
          0.968279883938886,
          0.06069979345479563,
          0.0025435700857848265,
          1.0132220700725914,
          0.030364764567416793,
          3.2654503757553234e-11,
          0.048318974443391574,
          0.0637749492411528,
          0.07287815117147652,
          0.24028410372519868,
          0.20556212362561932,
          0.9722968692341534,
          3.2830835682528425,
          0.046777915510371956,
          0.04811304856979116,
          0.011843741859716619,
          0.0009794551665337295,
          1.0031086208344833,
          4.750396345799988e-15,
          0.9889852666796993,
          0.009425687260794758,
          0.9801249271299061,
          0.9822835870892783,
          0.04471469178311423,
          1.0406882658303527,
          0.9991795039993308,
          0.04287378196359227,
          0.23227703332785277,
          0.9723805073001547,
          0.029309892097477832,
          0.1071735958737649,
          0.09319256625712169,
          0.03032136121946108,
          0.18584151744437113,
          0.00731051207074193,
          0.09660837216723378,
          0.00531756533502135,
          0.1038024133914469,
          0.997393993363615,
          0.01567332206890625,
          0.05134007803674161,
          0.015712067689542714,
          0.058507919649070594,
          0.011145910800315401,
          0.11129189216686008,
          0.297122248908845,
          0.030055776553279838,
          0.035055052733257784,
          5.3819966839895325e-9,
          1.0163458549840476,
          0.9649768524924972,
          0.07268967625384253,
          0.03879659915390135,
          0.039900769081507644,
          0.16993348944400355,
          0.11795383532412729,
          0.22610583816496085,
          0.06650797153337193,
          0.10655046137490465,
          0.9870095679355054,
          0.019089419608054624,
          0.03553491631698871,
          0.046397705967980936,
          0.039327496174793634,
          1.0275277917246812,
          0.34211524097644674,
          0.01106833222610907,
          0.04238079323006048,
          1.246196933095007,
          0.3943086598511756,
          1.1604373806822612,
          1.2309220435981072,
          0.09019208558397987,
          0.025181413305684842,
          0.008451245216659208,
          0.005976112486221594,
          0.9880436739777072,
          0.005387531173296883,
          -7.485650007005772e-9,
          0.04808845779090367,
          1.1769677817474318,
          0.9911387513034707,
          0.03778258826307923,
          0.005963483248020757,
          0.04188253844625453,
          0.025974951835574526,
          0.024372621906050884,
          0.09935608539957815,
          0.9987532918392019,
          0.9640182650826944,
          0.0030253600995155,
          0.9740257468068786,
          0.01098641305752475,
          0.02600651633004624,
          0.9819673391195155,
          1.002699771358373,
          1.0125352502658067,
          0.024785220516024692,
          0.025480860877632395,
          0.00011776483844910856,
          0.05055355244274016,
          0.015323118317478854,
          0.011094556990218047,
          0.01633361773749976,
          0.0007421698663827404,
          0.07645331358890145,
          0.00872472107845513,
          1.0164176012748403,
          0.054549871500990756,
          1.9654542542909919,
          0.004711713841425855,
          0.03526325834117002,
          0.012802237533759886,
          2.9706365257902334,
          0.02824838493269569,
          0.002971083648790475,
          0.005436328749653148,
          0.02453618896811372,
          0.01795949441899673,
          0.9643148493830926,
          1.1280815457427673,
          0.020865291250912923,
          0.15113940771686693,
          0.037619746308381864,
          0.03414808357452478,
          0.037210278045303684,
          0.04818169946061251,
          3.3165358573255535e-8,
          0.03780778767430011,
          0.019406193750597156,
          0.084340492203747,
          0.08658515518883458,
          0.9988489261690139,
          0.01229404791720248,
          0.11943667512228885,
          0.0457742845451477,
          0.025091066290897225,
          1.250728340327073,
          1.0424636707480652,
          0.007495011240894703,
          0.04605566964594502,
          0.02335274199020382,
          0.01997881600127144,
          0.04847474606138402,
          0.012186673295030492,
          1.9496431979613458,
          0.16620949346684227,
          0.006453135498955529,
          0.002155354775843939,
          0.011726430667698193,
          0.015218951857326954,
          1.9449220105134841,
          0.00030297233959020284,
          0.013407949297058857,
          1.2244946993520671,
          0.04133415876170522,
          0.12289649132783048,
          0.9742069842091944,
          0.004709901075242959,
          0.9957753249376694,
          0.16917351610758158,
          0.0005480911960638149,
          0.0816198467066678,
          0.007402007487496908,
          1.0449216418331924,
          0.030828729006752282,
          0.011191210616392592,
          0.9742520501816653,
          1.9223930430350673,
          0.12829080805859552,
          0.01140682848922294,
          0.04355385057124685,
          0.014769965505658126,
          0.006814286614021191,
          0.013825882465351994,
          1.0714945138771936,
          0.010928931225640278,
          0.000037636765510398204,
          0.0016831173156606064,
          0.13376065817213412,
          0.002287765199640011,
          1.0483758231339506,
          1.0444909446538566,
          0.01913211805680941,
          0.9764059984978982,
          0.04024612827127136,
          0.009657226453537886,
          0.053574337449892144,
          0.0061294465878100985,
          1.002954617322097,
          0.14129841003608112,
          0.9613269881691795,
          0.005551200770937952,
          0.02906490307668567,
          0.0005145512183154971,
          0.1282138256613129,
          0.0027053860894274986,
          0.02345857171838546,
          0.015131098939900164,
          1.9624201907064829,
          0.00008963337643810282,
          0.9884364493250648,
          0.003428936895109209,
          0.00005625116984346776,
          0.00047179058970663127,
          0.06870795423619233,
          0.01872439818695333,
          0.003952434624230944,
          0.034660676695907576,
          0.022019073660803065,
          1.0789044572936928,
          0.27794179889053044,
          0.02092666896353853,
          1.1030711230523464,
          0.047178643601199194,
          0.009472925645378192,
          0.09079683277085239,
          1.136375120983917,
          0.11471311787503262,
          0.01447812445514204,
          1.269491553492181,
          0.004711337230742102,
          0.0027624264087796353,
          0.11539120118484503,
          0.05808634896388518,
          0.03081572460183734,
          1.2898296530769155,
          1.036922058180443,
          0.011488862508905798,
          0.01504839654568318,
          0.009654978552604939,
          0.012041594620288181,
          0.06153671241140933,
          0.000980441999895239,
          0.0012898583383391608,
          0.09131520183170473,
          0.09608001793367416,
          0.04868820484352794,
          0.004107878623489076,
          0.010142165443614171,
          0.01794041645680264,
          0.11411593230406027,
          1.2264023843847216,
          0.040383365189109566,
          0.012331169572960429,
          0.005337207804105046,
          0.013681561585050782,
          0.028645194661222634,
          0.996986839004443,
          0.0069102111422076834,
          0.013096629151361148,
          0.020906508243003885,
          0.00879102625634259,
          0.06271278626257533,
          0.029354781705236956,
          0.06855097261708401,
          1.1787355585084673,
          0.003262459386252921,
          0.0589797805220699,
          0.1748616808737476,
          0.042790451837353,
          0.000010511765029575022,
          0.006291424066354655,
          0.0273490100184076,
          0.023412587573627484,
          0.00013945775693168658,
          0.9635596534167729,
          0.9963498833853632,
          0.02918142176359664,
          0.000005893948056137724,
          1.9603751203619297,
          0.05314445445677464,
          0.022390570083200504,
          0.0013720712520823059,
          0.005058831512810101,
          0.043875191366113855,
          0.005272828877684476,
          0.008512784743617692,
          2.0706130236184106,
          0.03743688759461137,
          0.01469697162057589,
          0.029479660372349968,
          0.010677572627346307,
          0.006533288243912836,
          0.008880173145946243,
          0.9639382872928787,
          0.9738045178969773,
          0.0064717821380953664,
          0.9807955950425084,
          0.0731794810748055,
          0.0553842824991224,
          0.06238589845306085,
          0.9751513263784836,
          0.03960298012840219,
          0.051177966258001,
          0.03388506932889771,
          0.05670099309236862,
          0.9733376497777546,
          0.000223497534737444,
          0.013122879685450787,
          0.03858270461472605,
          0.04036885000169012,
          0.023125460834960525,
          0.0386036355106997,
          0.008061549570924382,
          0.006142676537686701,
          0.05721037362700217,
          0.01659468671217965,
          0.010110143548900746,
          0.010803747802545442,
          -1.4720266812767984e-9,
          0.03624932796031095,
          0.020914385163948928,
          0.012255982794748242,
          0.02052459800480965,
          0.09205611513903805,
          0.07663722182450239,
          0.004038230445329141,
          0.008350014391674317,
          0.021795538439224563,
          0.0027577536314879153,
          1.9222523088785863,
          0.0008100283830469472,
          0.017555171098850297,
          0.039315473437827944,
          0.04188930229209302,
          1.964447240189197,
          0.03436703337606389,
          0.01787866825434908,
          2.5867836762965895e-14,
          0.07500290067969494,
          1.94857406874912,
          0.006111206838202747,
          0.014193584308623762,
          0.010673308486046649,
          0.9887598593340302,
          -2.849689686279798e-12,
          0.01931071432917658,
          0.0027224380828493834,
          0.0030200802554792134,
          0.008102162192161014,
          0.01431594141049156,
          0.06954341293936647,
          0.9840244209048365,
          1.965406481942333,
          1.0214557456946634,
          0.02085009499802511,
          0.01380813074467515,
          0.05689578291907328,
          0.03824487927369451,
          0.07168967303519216,
          0.039562740535957465,
          0.015612069751488858,
          0.06716797711128493,
          0.00013372971979974844,
          0.00959624771728717,
          0.05713765308492706,
          1.0363776412029333,
          0.015872979015942215,
          0.015138887226125193,
          0.05992204976203218,
          0.0057285408473093736,
          0.0030050871709950237,
          0.004753488566361226,
          0.033929682488490216,
          0.1233135767934403,
          0.012805104009898196,
          0.008770574862882007,
          0.9763560604534105,
          0.0003503946864878274,
          0.9901589093182723,
          0.04648003483272567,
          0.0028075665009485882,
          1.0469741104655412,
          1.181883362131216,
          1.1620456465773386,
          0.9965617843734094,
          0.01446554137685339,
          0.12772029323148446,
          0.04611633621958669,
          0.008569242068951351,
          1.0650144447786245,
          4.104226850406547,
          0.06406189313847668,
          0.0462062235680909,
          0.10672904188282813,
          1.0074369030516972,
          0.04226628565091774,
          0.06431402569965873,
          0.0630274151663244,
          0.04647862403205566,
          0.067700045791695,
          0.016881807678475576,
          0.005541957379610239,
          -6.952923689981547e-13,
          1.9967656551787094,
          0.03050484639920862,
          0.04846658995491325,
          0.2957190068086225,
          1.1765469167514033,
          0.046437431515247735,
          0.993316439609525,
          0.006370756815544932,
          0.0096854047967917,
          0.9941544930033169,
          0.04740987077387383,
          0.03672827406714174,
          0.039009932390201764,
          0.022815039852056587,
          0.02305557891828463,
          0.030863568113910514,
          0.02305557891828463,
          0.005402861570870485,
          0.0475161876130404,
          0.0014947150988251405,
          0.01659305180480949,
          0.01659305180480949,
          0.01659305180480949,
          0.01659305180480949,
          0.01659305180480949,
          0.01659305180480949,
          0.01659305180480949,
          0.01659305180480949,
          0.01659305180480949,
          0.028518950658761574,
          1.0332469943124432,
          0.1233106776737787,
          0.02315904921902185,
          1.0256543173523072,
          1.3264576097839005,
          1.0071319165952823,
          1.06995552290921,
          0.030070395388305977,
          2.0411459202814024,
          0.010591265784552132,
          0.0003034003691535534,
          0.05348480214950906,
          0.04946699384891268,
          0.07123210679721492,
          1.0106695238455825,
          0.09719462310090629,
          0.08231947845707366,
          2.01623707347835,
          0.9664830227339913,
          0.014070712135347658,
          0.05159096420609634,
          0.0873843527198319,
          1.9870751016750638,
          0.014056002610307193,
          0.04057357432553764,
          0.045719775062574866,
          0.031128246587901635,
          0.04815627882787624,
          0.9842580536922696,
          0.019543780149240388,
          0.03586690778616822,
          1.3457896963068192,
          1.284427026918707,
          0.1733370900947638,
          0.05838971157504776,
          0.019884664655139342,
          0.018984311584526594,
          0.027619451040032418,
          1.0472064416429296,
          0.03378123834141501,
          0.018035825799960617,
          0.9820302026189387,
          0.1809634314617224,
          0.9825579260245307,
          0.04712376715065428,
          0.055878248159332795,
          0.024814083090969507,
          0.05264628263461531,
          0.03716790160953161,
          1.9719389329509078,
          0.04835917863066396,
          0.01949424231597296,
          0.0004058075290900698,
          0.007235793661433351,
          1.023942173003525,
          0.06055502044107838,
          1.0350967935001845,
          0.06609711860397424,
          0.031514211657879626,
          1.0036708325747525,
          0.0033993748310014007,
          1.0293199665284403,
          0.05083848936324869,
          1.2122692592530233,
          0.018212530638870544,
          1.0065869297360661,
          0.08403940298620156,
          0.07285778298802295,
          0.00008699157113361132,
          0.0907515131886157,
          0.983844738125735,
          0.0031253830822878894,
          1.985097249775702,
          0.1276753582368617,
          0.01558066556117835,
          0.03981080444700325,
          0.00030979980202677066,
          0.027472058604513284,
          0.00941698250775328,
          0.08206237335168567,
          0.1589379049396304,
          0.24421564097856108,
          0.012766740249456773,
          0.006416670123739494,
          0.000039154303811851705,
          0.022190987311742284,
          0.1982463898179241,
          0.04657546924967319,
          0.014542916710906746,
          0.002290300223141659,
          0.014019441071647537,
          0.04895900277878445,
          0.00021736179957531496,
          0.035613683154616424,
          0.048311590624887484,
          0.07713963085463278,
          0.04362525157257877,
          1.1757933494718398,
          1.1869858105118365,
          0.023013784080498558,
          0.0033080907787413887,
          0.026614094143047745,
          0.001053021865496169,
          0.0031766710393423374,
          0.06693815618857446,
          0.03300097692265626,
          0.04514349168741787,
          0.038971651812740885,
          0.007156279288972552,
          1.136701942067565e-12,
          1.136701942067565e-12,
          1.136701942067565e-12,
          0.011470684288622194,
          0.05767109703933155,
          0.29902527838984444,
          0.02512787714729731,
          0.04008656783137057,
          0.058141379528229536,
          1.0046039916111806,
          1.072034064831678,
          0.01639392192946207,
          0.04521567992979671,
          1.0494013315222372,
          1.049950373800259,
          1.0118808077391126,
          0.0026230297205777045,
          0.0486865687371394,
          0.03822343811528138,
          0.04556141566045789,
          2.023831919675563,
          0.06491144931127844,
          0.07631394479601064,
          0.11401098344226235,
          0.0038949712832251405,
          0.015209282457163801,
          1.0399635324916463,
          0.027229360056534237,
          0.0900131044866864,
          0.1266417393391718,
          0.014936999017915979,
          0.045846674787486226,
          0.009563901149837682,
          0.01776831867169118,
          0.02315904921902185,
          0.05730874655868328,
          0.006943582283190468,
          0.12360875762596846,
          1.0199601744097322,
          0.09786170096679261,
          0.10812556672497425,
          0.003028931475011288,
          0.9979827143921143,
          1.2020362386487926,
          0.9686868247753138,
          0.0030951725995562113,
          0.9918997925977048,
          2.2017409011607754,
          0.019659640876957395,
          0.046125689905634405,
          1.0874385112508238,
          0.04838679878952391,
          1.2440768721741422,
          0.033387647507554845,
          0.00011901108561194391,
          0.9965918607991144,
          0.061491681324500995,
          0.1361566288671445,
          0.00010047347150020636,
          0.12368190417593125,
          0.06879313002813463,
          0.006512274137678773,
          0.004484883551065429,
          0.027929361186478565,
          0.020059635881291987,
          1.0488789074767666,
          0.9676483493732434,
          0.0009899395486451898,
          0.05988050377194214,
          0.9565911713542943,
          0.03156742732881555,
          2.053987819668331,
          0.9717513391695582,
          0.017007472398215782,
          0.03814368708892268,
          0.007516872780492952,
          0.07396907248400701,
          0.0714437857838787,
          0.14381082296359224,
          0.9839347417884419,
          0.1303146500353905,
          0.06933181147125572,
          1.9791383862837433,
          0.9833651327951095,
          1.0148528928937977,
          0.0410296761204866,
          0.03233371610211466,
          1.0102703496211856,
          0.07417209166382714,
          0.9933111999528376,
          0.002653984451860055,
          0.9776000019264731,
          0.049982148550442876,
          0.0053436441271319255,
          0.03926430043350511,
          0.005119649136589937,
          0.0483452936405849,
          1.0480059698215145,
          1.1049451274456588,
          1.166775382955248,
          0.07380752416492245,
          0.05773083817003377,
          1.0881522289184775,
          0.1159608033010366,
          1.0159711880462008,
          0.057325141298481604,
          0.050658797009013004,
          0.08279307929374718,
          2.0280497740611745,
          0.0360102017333755,
          0.0029457588342063075,
          0.06418646873298088,
          0.0145063019145165,
          0.11720306377405557,
          0.14986387892214179,
          0.004743787295369027,
          0.04834855202024383,
          0.08854747434422665,
          0.02921325173102396,
          0.11138953312227004,
          0.3037588114364727,
          0.0005540191892339256,
          0.3191760225710415,
          0.30231836511612015,
          0.04137648511195614,
          0.015644593093909455,
          0.0038590544558543154,
          0.03239873691405046,
          0.004851849085042377,
          1.9891942128447575,
          1.0048951814144964,
          0.009265811967168126,
          0.03634291618614327,
          0.9913768057174889,
          0.0033820435723187184,
          1.9840322669879737,
          0.01490427712022494,
          0.9975417616098986,
          0.08074551946135071,
          0.08685074474557047,
          0.016720186104597478,
          0.006958079309553883,
          0.10587939690495721,
          0.10832076371812352,
          0.02903150288112534,
          0.007557916698558486,
          0.07921655387692678,
          0.05047537941646142,
          0.16859788377423002,
          0.025138161855018153,
          0.00034653629631646696,
          0.013336615161780883,
          0.0031409093955233718,
          0.03617730609410652,
          0.0335201927958367,
          0.318697641950764,
          0.03700713810675559,
          2.028043973272837,
          0.0029349670515632633,
          0.9724217276400856,
          1.1579361454746795,
          0.03862169703689208,
          0.006731392529891299,
          1.1001645674234972,
          0.02487503794299465,
          0.023689289539928243,
          0.998133869984592,
          0.03564499781088246,
          0.9711778447593974,
          0.002670568575251046,
          0.9832729396885043,
          2.0060854579826155,
          0.05457280690325516,
          0.01054245984667209,
          0.9635437337024011,
          0.027869344885057514,
          1.0668430858534095,
          0.008113524232258995,
          0.14420214869848919,
          0.06046295750800164,
          1.924852522903224,
          0.10709402146986931,
          0.037647730551883786,
          0.048060068709175466,
          0.10198870241236561,
          0.0334043368443981,
          0.04609241813003122,
          0.997141239857622,
          0.00016147751707476924,
          1.0653249028345753,
          0.22153924577428347,
          0.28246245324752484,
          1.2146156797708372,
          0.01661726260913262,
          1.970418975891803,
          0.06300538698083294,
          0.000614799818621239,
          0.008696593220101788,
          0.0017511427643336027,
          0.012232775239176295,
          1.0605971566624113,
          0.011328033698291542,
          0.9868617474214942,
          0.010624323814239198,
          1.3395628579628596,
          0.06434429061263501,
          0.0026601679201110192,
          0.06271052373016088,
          0.01879623215643739,
          0.0009277736938664152,
          0.05500016899382579,
          0.020720255750433673,
          1.2586920903700698,
          0.012954181721930429,
          0.14750765926202075,
          0.04850000715956476,
          0.01499768376864776,
          0.9915480422285486,
          0.08877527067564651,
          0.005893669820458311,
          0.13663369628969932,
          0.004270635183411594,
          0.02300844981578246,
          1.2917448352694063,
          1.0051157141470608,
          0.024360566479208205,
          0.04622413337377741,
          0.9811293980281155,
          0.01547798055090369,
          1.4469218435000544e-7,
          0.04785278736331099,
          0.08116940427148825,
          0.006014379511969857,
          1.264215806774934,
          1.3211483539013305,
          0.007277667515441939,
          0.9796424304653635,
          0.0943514262975428,
          0.027690691131819187,
          1.9570511698701074,
          1.9439229852899185,
          0.9931700900844819,
          0.09610041687468035,
          0.1287436374634665,
          0.019421859657118,
          0.9561453488075146,
          0.04998140678691332,
          1.9354381443959812,
          0.966892856506707,
          0.034105423375632514,
          1.0031987273223686,
          0.32153216681586083,
          0.03933350271263699,
          0.13030091675722788,
          0.063528845011406,
          0.04846658995491325,
          1.0502144636420603,
          0.04857078855124858,
          0.023357072157301404,
          0.02827114415131345,
          0.002658968004853398,
          0.033212753420796305,
          0.9641086881273669,
          0.08762639587500722,
          0.006143815949560887,
          -3.1799543268261585e-8,
          1.119331239565327,
          0.13262263518553172,
          0.0061128930414591
         ],
         "xaxis": "x",
         "y": [
          -0.0005881180675155406,
          -0.0020930010070935273,
          -0.0014726214534276584,
          -0.057602878397656605,
          0.03217071442982153,
          -0.5494242542437944,
          -0.08969104142607173,
          -0.07188764522328425,
          0.0006188352070582,
          -1.3480128789670367,
          0.01420936568872739,
          -0.7386073794355641,
          -0.00013288778810064577,
          -0.03378157567520919,
          -0.009784612568343572,
          -0.0010275241250262271,
          0.06872423031229442,
          -1.2446840579475837,
          -0.08617580520699215,
          0.016049347357211228,
          0.013135809153521713,
          -0.009784612568343572,
          -0.0021740360619858117,
          -1.2778681236623861,
          0.07609085699522186,
          -0.04232906319052914,
          0.008512407268065575,
          -0.03314955660246092,
          0.004016316417059931,
          -0.0011555029259427325,
          0.05280747316501573,
          0.01319813813869185,
          0.05475865082449428,
          -0.03996566717552217,
          -0.6661581797908191,
          0.00013852916277398098,
          -0.009574915332684956,
          -0.00044728702219976784,
          0.0020007844865676597,
          -0.0018702944267327687,
          0.007085876119920981,
          0.04708683639549442,
          0.0043974286699298435,
          -0.015817767452758154,
          -1.2996269014069268,
          -0.6341818070685312,
          1.5317513733577846,
          -0.05345180678178307,
          -0.007549210052350221,
          -1.0285888886252079e-12,
          -0.007290288268474858,
          -0.00020246279505354512,
          -0.007604933255705769,
          0.03709639215175555,
          0.0003967586059605955,
          1.6380260378130905e-12,
          1.798361955721514e-12,
          -0.05540665064278556,
          0.0007781231337276011,
          -0.00027925295872660615,
          -0.0654962351592244,
          0.01825570964306091,
          -2.917645096997929e-8,
          0.12334391224704713,
          0.034386278885018565,
          -0.006799167092323526,
          -1.3451363570248953,
          -1.2897756319002796,
          -0.030447369759800332,
          1.4526469843567615,
          0.007393495290091687,
          0.058728909501784415,
          -0.028594612343201674,
          0.015078570950510189,
          -0.04477488992586601,
          1.046286958705705e-12,
          -0.04810355549979743,
          -0.06815114421840723,
          -0.03326391094758728,
          0.006467731466984813,
          0.057907084605176136,
          -0.03399727186243501,
          -0.03887719657169973,
          0.001629390680657887,
          -1.2495424454973179,
          -0.03272475296697759,
          -0.004274476256133001,
          -0.1423714146557565,
          -0.027188096408813034,
          0.011014241204526518,
          0.010475406280116811,
          -0.0018756211675379445,
          0.005705677438346541,
          0.0012850346041250805,
          0.0028274451568223225,
          -0.015598221282432628,
          -0.012991734682326362,
          -0.07333804927419935,
          0.04905907419270694,
          0.041425672784077244,
          -0.0013683732431758508,
          -0.054794071896124036,
          1.5810319938123172,
          -0.02318407330987255,
          -0.030742651335275064,
          0.0000015169899942539906,
          -0.05971663952744381,
          -0.016413886584956502,
          -0.043062624462753336,
          -0.00658456952163709,
          0.056426186179074383,
          0.0810927695430343,
          0.0655412637328799,
          -1.4035591704230572,
          0.13177713386281728,
          -0.055113090766811194,
          -0.0528025302408244,
          0.028343255540631745,
          -0.0035174403349146448,
          0.029569434441438065,
          -0.01822786498884697,
          -0.05613322764395609,
          1.584710362554618,
          0.014402715949559846,
          -0.05649788585252064,
          -1.4666831791274224,
          -1.0913704253011314,
          -1.3057804110918354,
          -0.4343269048291012,
          -0.13700798815501802,
          -0.04551836586225372,
          0.0012047527693574663,
          -0.0034575117927551783,
          -0.03329206732714923,
          -0.0016875804648032178,
          -0.0000011674313481965149,
          -0.07051755947750094,
          -1.297933941979896,
          -0.020989253293525943,
          0.02802975713624288,
          -0.0007185596711874352,
          0.01213356668124661,
          -0.03259854825056272,
          -0.047611184564839815,
          -0.022593472517321453,
          0.020852777104315597,
          -0.0375237320746138,
          -0.0019369565405390186,
          -0.032999509944621135,
          0.0002799153100241833,
          -0.004132741828497746,
          -0.034394715226081986,
          -0.06639419649565201,
          -0.09620690536693882,
          -0.004917536411520471,
          -0.037873724178395296,
          -0.000059602411224486364,
          0.061653293469265576,
          -0.007025051390349936,
          -0.04919299086225282,
          0.007961652948502752,
          -0.001874227357884053,
          -0.07666513170280627,
          -0.016739423724211156,
          -0.03529884233874146,
          -0.084813164523154,
          -0.06872615884673737,
          0.006728969481761424,
          -0.031128794582511304,
          -0.02128756257415049,
          -0.10264851209755728,
          0.0556978144305905,
          -0.0002018203923217289,
          -0.0010370040303987775,
          -0.025137234444001268,
          -0.004300492228788608,
          -0.029671238441024022,
          -0.2130362248772673,
          -0.011003796307814437,
          -0.01999600928834515,
          0.01965106898267418,
          -0.005693010287352427,
          -0.013223180402212317,
          -0.023551054394426923,
          0.000009348113509904276,
          0.010919302307839497,
          -0.012967357172979836,
          -0.02382218291900394,
          -0.017166843005592118,
          -0.019109966428669363,
          -0.006862343818579157,
          0.045347876521181385,
          0.07239276572569321,
          -0.004127052293298223,
          1.5409724322255343,
          -0.040737348696746854,
          0.02649820961277656,
          0.05486896940143477,
          0.003791387328037696,
          0.059253986998596506,
          -0.02951495924186029,
          0.00401613790676845,
          -0.08072176399112474,
          -0.004803077419559203,
          0.003975620628406849,
          0.02023070043873126,
          -0.0014545065777384766,
          -0.006614269302213584,
          -0.048932759568761676,
          -0.0002509167144112937,
          0.0009967764140410879,
          1.4960706573806226,
          -0.005158921550781324,
          -0.04533897746049619,
          -0.03243097899180618,
          -0.038847204367364385,
          -0.058373751679401065,
          0.04636476926264643,
          0.008506768986055752,
          -0.011109610506116658,
          0.021560908875344155,
          -0.0424864671558655,
          -0.029621128670262904,
          -0.013943809444376983,
          -0.031130532626978742,
          -0.06171077115776989,
          -0.03597883884411873,
          -0.014407461499570194,
          -0.000831916683871636,
          0.017163240571167502,
          -0.01649039908265499,
          0.014764424486132842,
          -0.12078195870246872,
          0.0036125635856688134,
          0.00016671066220752572,
          0.03306727806149681,
          -0.02191617877627497,
          0.020651546980248642,
          -0.06620151935316458,
          -0.01528469579324963,
          0.017475635472861815,
          -0.03306331227563978,
          -0.003843305103060737,
          -0.000464919364171816,
          -0.04328071726100586,
          -0.002430363217166281,
          -0.043759531239545825,
          0.8157620606394621,
          -0.03135784052972981,
          0.03842152193969004,
          0.05153272388921771,
          0.0006863546337270257,
          -0.019435492289617974,
          0.007603951633289174,
          -0.01703181895621742,
          0.03241814829052238,
          0.0026763087837626057,
          0.0000976657296793554,
          0.019592759138275562,
          -0.011580365836889763,
          -0.00024817987957645357,
          0.00036088428496679155,
          0.003140303208819759,
          -0.026170902507965953,
          0.00032448877041478904,
          -0.013569184698779851,
          -0.025786057161133483,
          -0.04066198457758659,
          1.6803513284577685,
          0.03140089981923032,
          0.009266537096162231,
          0.05489965103055026,
          -0.016999979127964915,
          0.11632292545235717,
          0.12752701476048256,
          0.20611183138861677,
          -0.0023397106946838725,
          1.5733269284103577,
          0.019733699482558206,
          -0.001254707866391913,
          0.02772314222022634,
          -0.025626735922397503,
          -0.018053342367524275,
          -0.060995666444507275,
          -0.019743741772998986,
          -0.005763706703175881,
          -0.0026413880562660185,
          0.011417337337564264,
          0.00023523462227960877,
          0.022760001741992855,
          0.0004574201894922108,
          -0.0025349834613456394,
          0.06124714178257445,
          0.060221144165218114,
          0.14318733712588808,
          -0.0015101935845069274,
          0.013902502827102613,
          0.05544389575751009,
          0.07572466874454693,
          -1.2637734488728956,
          0.029515685220545283,
          -0.016654569768302322,
          -0.0005463205739290731,
          -0.016173577887398916,
          -0.018232377281556758,
          0.018454491902160076,
          -0.015355103380391337,
          -0.009738441740749526,
          0.06520533275630253,
          -0.003956224937825293,
          -0.05737337728590216,
          0.012984634684651868,
          0.009868148040327412,
          -1.350106770418401,
          0.019424064963242612,
          0.0300769566025289,
          -0.03286269251177195,
          -0.020196289536755584,
          -0.000010862604746822484,
          0.00026117538018005854,
          -0.04450851947887607,
          -0.005804531250261922,
          -0.0008216257721842057,
          -0.031156621730450383,
          -0.04920682970680966,
          -0.006481114458040228,
          -0.00013872456772973097,
          -0.029463161801576324,
          -0.030449274678765147,
          0.03639445410207651,
          -0.0026346853351092983,
          -0.00041684571168620335,
          0.1116123638400167,
          -0.00029775738039266117,
          -0.002363896415955091,
          -0.0747162598789509,
          0.04579211955273346,
          0.03049393683513861,
          -0.008572181518704102,
          -0.0010560846732774038,
          -0.002687443453613682,
          -0.01354830057395602,
          -0.03117436817173815,
          0.0058862708634833194,
          -0.013711160571162177,
          -0.04625229810796248,
          0.003372782333645119,
          0.01694083633673738,
          0.05570957600198949,
          -0.033770768230271746,
          -0.0024554342903022686,
          -0.013263367656328313,
          0.050386003134016394,
          0.0021407462405314756,
          -0.04295405620816849,
          -0.0005043889807244639,
          -0.0014124535784627178,
          -0.029044327938604682,
          0.040163214400118705,
          -0.0015069480671238656,
          -0.10133509673694722,
          -0.0009427277097664379,
          0.01726251402722168,
          0.0016673357279347635,
          0.006402855094911292,
          -0.009112828305146254,
          -0.06152905778833661,
          -0.0000010060229004991917,
          -0.04178831199359748,
          -0.0030750623662001704,
          -0.025259353696431987,
          0.012243467033797036,
          -0.09531694943037705,
          0.0028560850288967578,
          -0.014972720306797102,
          -0.001595730783285816,
          -0.0008812353138384707,
          -0.00037256477451045006,
          -0.06232189976818436,
          0.01622308730836184,
          0.016793620910095605,
          -0.004476250754722843,
          -0.0554511297212399,
          -0.06713078146292153,
          -0.002149822753340642,
          -0.005626757339883504,
          2.640790883172866e-10,
          0.013367240149447556,
          -0.017611850395676046,
          -0.024454905072783677,
          -0.0014125492967131167,
          -0.027645843445602225,
          -0.06145683361867962,
          1.0808403300303064e-9,
          -0.0027959255281053215,
          -0.0003458014101614306,
          0.0007547202132237944,
          0.0005383950742728048,
          0.0004969355735211039,
          -0.015573544653520599,
          -0.03457904737757649,
          -0.06682778513791861,
          0.0023595015783619,
          -0.014431540262287407,
          -0.01646430862426996,
          0.001397081242097357,
          -0.01625227636602489,
          -0.004954368144423902,
          0.010974907806374938,
          0.033408701461445305,
          0.00207499470829169,
          0.00007265121899958598,
          0.016393851837576988,
          0.002237882733783343,
          0.1466002087626714,
          0.039476588109944435,
          0.014083447942481092,
          0.002443853628119738,
          -0.0010990074328032164,
          -0.000517040633206645,
          -0.012967950182753988,
          0.011985773213733585,
          0.008945787707562857,
          -0.00578317089634602,
          -0.01768977916121569,
          -0.03305685295050445,
          -0.00003876815059496429,
          -0.03320868553960106,
          0.029304963727646932,
          -0.00021202294004091455,
          -0.009784612568343572,
          -1.3443575048831347,
          0.011336162920090282,
          -0.03391687865189452,
          0.010265521589893235,
          -0.08711545993725152,
          -0.06216479243825112,
          -0.014854424732082247,
          -0.17424773817606837,
          -0.1631714373038679,
          -0.11568789639997823,
          -0.07332896446095655,
          -0.015876594742108265,
          -0.038845995317695906,
          0.0721233736301969,
          -0.061530166806520355,
          0.011535577418284603,
          -0.07145395676788975,
          -0.01839152485961309,
          -0.03338137338868811,
          -0.0008648361039128824,
          -5.3187274792852465e-11,
          -0.09396021499823236,
          -0.05581457552702712,
          -0.0102064179531658,
          1.582984877044456,
          -0.2112979634106471,
          -0.030774346810202764,
          -0.037428803095696205,
          0.0003423183206409901,
          -0.017792920698953926,
          -0.012677069157468019,
          -0.004085270084077893,
          -0.020187764107197012,
          0.06335296197893285,
          -0.020066095295653646,
          -0.03877398568029022,
          0.014061482118932888,
          -0.03877398568029022,
          -0.0013263996346724067,
          0.03365418924586321,
          -0.0036235208629286494,
          0.06318819862768589,
          0.06318819862768589,
          0.06318819862768589,
          0.06318819862768589,
          0.06318819862768589,
          0.06318819862768589,
          0.06318819862768589,
          0.06318819862768589,
          0.06318819862768589,
          0.015836854539920696,
          -0.028420584706630996,
          0.08966389964270546,
          -0.013195683391431852,
          -0.026112362965153964,
          1.7297265671835342,
          -0.027265193856252482,
          0.0740684451983687,
          0.014059148935371794,
          -0.12629569686596942,
          -0.003688229073369757,
          0.00034753783145354184,
          0.007840423699009766,
          0.0389763907467928,
          -0.0582348537989398,
          -0.014699278675473014,
          -0.00717140244808113,
          -0.07062955013261732,
          -0.0908794239433214,
          -0.03192647002040767,
          0.024880508824063303,
          -0.002563741898918762,
          -0.07297910473199029,
          -0.013310778778352787,
          0.0022467115666905285,
          0.04049272051659748,
          0.04785859703742408,
          0.010900460560174977,
          0.07664372063551202,
          -0.029531055441958203,
          -0.038581046879920027,
          0.05368215434844823,
          1.462860670625442,
          1.6096557385110843,
          -0.020714595427849057,
          0.03485033175604273,
          0.01692069134886858,
          0.051793533697376604,
          0.025468041094621304,
          -0.011093656394517603,
          0.0470992311242341,
          -0.01854642918843133,
          -0.03227470446262212,
          0.27722889530368316,
          -0.030480352473682117,
          0.1794265291502999,
          0.15531643211478827,
          0.011809033237293442,
          -0.07201666769105532,
          -0.016103484029800424,
          -0.0860794702763183,
          -0.05540685988629018,
          -0.01629601849256557,
          -0.0005485466238725712,
          0.0013357835324094938,
          -0.011682158621851457,
          0.021620262616427625,
          0.0290043320764102,
          -0.09319293504925114,
          0.016288298958395918,
          -0.041678650890381724,
          -0.013505356309204805,
          -0.0036787712116018167,
          -0.001997163560260069,
          -1.4016010743136795,
          0.06489326599132028,
          0.03827306429886523,
          0.20318930244569205,
          -0.027226414335592062,
          0.00008543448308881443,
          -0.020681227089200456,
          -0.032348646357274066,
          -0.0019265891429205552,
          -0.0305468530290831,
          0.11729094965098202,
          -0.02843732993280941,
          -0.07699428486686688,
          -0.0006534929867941242,
          -0.061830016073772094,
          -0.019394776490593926,
          -0.010227212924365084,
          -0.10645041158392354,
          -1.494017280615948,
          -0.008274159056346654,
          -0.006356021623982486,
          -0.0006732104588569994,
          -0.014440404230387211,
          -1.2862505937917896,
          -0.045260380133823025,
          -0.006252440405713148,
          -0.01447340745991971,
          -0.009938303311795932,
          -0.08435083446161051,
          0.00025873814240130185,
          -0.007390228544190747,
          0.025582820680603212,
          -0.010185883321308428,
          0.06687626909525117,
          -1.3151617932259596,
          -1.3324993929952207,
          -0.03446960717767976,
          -0.0018682243658801364,
          -0.0035489746765373304,
          0.006277977380116705,
          0.0011495465254255193,
          -0.08753719419290582,
          0.0006379175392760561,
          -0.020728566205862966,
          -0.006579179793657476,
          0.03191617226533534,
          -6.067547756716302e-10,
          -6.067547756716302e-10,
          -6.067547756716302e-10,
          0.0030341197570000374,
          -0.00046155472203377433,
          1.655835857165876,
          -0.0041183174090478475,
          -0.02949942502147512,
          -0.06815749738811898,
          0.018864435010338486,
          -0.04589273973966742,
          0.07331040748946183,
          -0.08866691426895984,
          0.0015534360196336056,
          -0.038415258806519414,
          0.04804508169018454,
          -0.0005354573925923163,
          0.04388863269798956,
          -0.037251894379596626,
          0.004806258086987078,
          -0.046434648096007336,
          -0.03706910113530544,
          0.10273890501686406,
          -0.037694870311113154,
          0.0029906366210003107,
          -0.024140639404045195,
          0.05327312899722488,
          -0.0010376426171407457,
          0.008017879274647827,
          -0.17531054064486126,
          -0.017027126344721574,
          0.048257040103279,
          -0.020407529907625455,
          -0.0009810520533870956,
          -0.013195683391431852,
          0.022580313462063878,
          -0.0018170255314412154,
          0.14992542867755076,
          -0.043145722776171576,
          -0.04384056814549342,
          0.005575692193514086,
          -0.0017295776374840238,
          -0.020583553797988874,
          -0.682363282741441,
          -0.032812186749357014,
          -0.0023820645158833522,
          -0.024649205408099065,
          1.4625061198501552,
          0.06537879846282332,
          -0.0730351541097867,
          0.008564770515339187,
          -0.01735547025234342,
          1.5210527566915535,
          -0.0031516334807657536,
          -0.00005895466541261761,
          -0.035655276256580104,
          -0.0015365684475680595,
          0.7680975992224439,
          0.00018065022733032638,
          -0.008320656959225558,
          -0.045575825200092866,
          -0.0036579671667335504,
          -0.0005912135139085684,
          -0.0014233209368976515,
          0.06458548047473663,
          -0.03176158202014674,
          -0.03149293318805055,
          -0.012777941502351819,
          0.012781640930256653,
          -0.030717093355264524,
          0.03443266622072774,
          -0.06752847189148314,
          -0.03335497106619983,
          0.03899925326238239,
          0.04564534928673618,
          -0.04096621100234237,
          0.07752554286759587,
          0.04748843119067153,
          0.06837501539782065,
          -0.03367053395887095,
          -0.08176091153550212,
          -0.06380122455933392,
          -0.04930022849360184,
          -0.059011713878531144,
          -0.035523181262721436,
          -0.009098553466459207,
          0.030821380969281047,
          -0.015331370968702346,
          -0.06247543026439053,
          -0.056062305726824635,
          -0.0011649582020238926,
          -0.035561384934074514,
          -0.07924003798905879,
          -0.0010280769678756145,
          -0.024402606778917865,
          -0.0024137159042889045,
          -0.07210607137809157,
          -0.020380114831453217,
          -0.11847316179868012,
          -0.1489285853089106,
          -0.07600932214875786,
          -0.08908672019621264,
          -0.07804731483647608,
          -0.04377189753062609,
          -0.11534612499340013,
          -0.08447949064695665,
          -0.07699593489150597,
          -0.09911740823383997,
          -0.1484863121766328,
          -0.05362937057448238,
          -0.0019092973346889227,
          -0.03928630973303338,
          -0.019212418368729146,
          0.0020265591558609186,
          -0.09386041648656514,
          -0.0026667035471828904,
          -0.0208886166858597,
          -0.04444220982038913,
          -0.036464082148215865,
          -0.13419668166545798,
          1.5161897732071539,
          -0.006835014655712022,
          1.709765997419041,
          1.6973886465021317,
          -0.06440156359569116,
          0.006681144662156557,
          -0.00022653939991753279,
          -0.016005516624781627,
          -0.011469664899478735,
          -0.04737497098582767,
          -0.02899663341163031,
          -0.02775658168013717,
          -0.02015797922953699,
          -0.017025982178791543,
          0.0001712380066765894,
          -0.018164398520688147,
          -0.007584791123274869,
          -0.0639447184002133,
          0.1367644206594521,
          0.026628801151028433,
          0.06504628968036456,
          -0.021331341139079932,
          0.283949990361144,
          -0.02511272499554022,
          0.01354922466892196,
          0.003622527445793798,
          0.10776643138343184,
          0.017678984474816962,
          0.2064039721237996,
          -0.013318078505973831,
          0.00028438584109088906,
          0.0002026822808269997,
          -0.003411386374158367,
          0.022524214917207432,
          -0.01321980169254641,
          -1.2811250780193744,
          -0.011813394910069658,
          -0.08142297858053346,
          -0.000841771694025435,
          -0.04770263355595356,
          -1.2932278907176538,
          0.01900657122941704,
          0.008106265139830529,
          -0.009193567025671503,
          -0.02945385835887652,
          -0.002000893525245847,
          -0.03178755034249971,
          0.050844223698483924,
          -0.03644196815514942,
          -0.0006424854946813712,
          -0.02301852594349847,
          -0.025933430290084034,
          -0.0114617928297918,
          0.0037700383174000024,
          -0.031127339589324718,
          -0.029086058384522977,
          -0.03014872680463503,
          0.001510737456801902,
          -0.715909814366654,
          0.06944796441955706,
          -0.06137131198322377,
          0.00526604637164023,
          -0.012681496007198053,
          0.0431195711974677,
          0.07401082840562881,
          -0.005754792457540957,
          -0.006409819853839665,
          -0.03505548706968328,
          0.0010234484338934912,
          -0.029908326577500758,
          -0.1418596306990057,
          1.5366617895788635,
          0.8278838641868527,
          0.06619033733837339,
          -0.08023283096621295,
          0.014654376203829277,
          -0.012500812371387874,
          -0.01382233893549305,
          -0.001281085773776894,
          -0.015863459059835206,
          -0.02715192812351811,
          -0.019756105684569182,
          -0.014841468852959429,
          -0.001604230287330628,
          1.4532074214087944,
          0.0066481513804950015,
          -0.0010211643404274837,
          0.10358922484500106,
          -0.0010646412383545287,
          0.0023218344756295627,
          0.13620204506529426,
          0.06870349361738304,
          1.4781911903333265,
          -0.004260744250195863,
          0.7426632162496262,
          0.0008480888642496976,
          0.016134257293032514,
          -0.03515781586042165,
          -0.011465112659712087,
          -0.0011538373850728443,
          0.7559993046395564,
          -0.0013879530760821906,
          0.012804205792305002,
          1.6309643636495674,
          -0.08195245755321243,
          0.023635737529421295,
          -0.04895937339352549,
          -0.03260555636225911,
          0.012228725457846644,
          0.00009992634263891829,
          -0.025669691439743507,
          -0.06693304224184782,
          -0.003543076201403031,
          -0.10432315131779618,
          1.8778621198722514,
          0.021203108036209183,
          -0.03461088460004997,
          -0.024976863628083268,
          -0.015500803008554267,
          -0.010786944355584596,
          -0.04868999491385048,
          -0.03470689926283121,
          -0.03598994367606918,
          0.734662492147802,
          0.07139370112490773,
          -0.030223951436443075,
          0.03395779650151846,
          -0.06372132619907465,
          -0.04628045718325979,
          -0.0020985195656384125,
          -0.058312155038445605,
          -1.3125908942263749,
          0.005041368317026762,
          -0.010844874580711204,
          -0.09932012611291541,
          -0.0102064179531658,
          0.049110801069328344,
          -0.0077307057653509,
          -0.041798323383762714,
          0.039930449806554136,
          -0.000872571005674767,
          0.013718424610135203,
          -0.03086669251988042,
          -0.009872858931235094,
          0.007076038829302901,
          -0.000005004639879990265,
          0.06798100924965969,
          0.14267366978764406,
          0.0002812676650880687
         ],
         "yaxis": "y"
        }
       ],
       "layout": {
        "coloraxis": {
         "colorbar": {
          "title": {
           "text": "cluster_label"
          }
         },
         "colorscale": [
          [
           0,
           "#0d0887"
          ],
          [
           0.1111111111111111,
           "#46039f"
          ],
          [
           0.2222222222222222,
           "#7201a8"
          ],
          [
           0.3333333333333333,
           "#9c179e"
          ],
          [
           0.4444444444444444,
           "#bd3786"
          ],
          [
           0.5555555555555556,
           "#d8576b"
          ],
          [
           0.6666666666666666,
           "#ed7953"
          ],
          [
           0.7777777777777778,
           "#fb9f3a"
          ],
          [
           0.8888888888888888,
           "#fdca26"
          ],
          [
           1,
           "#f0f921"
          ]
         ]
        },
        "legend": {
         "tracegroupgap": 0
        },
        "margin": {
         "t": 60
        },
        "template": {
         "data": {
          "bar": [
           {
            "error_x": {
             "color": "#2a3f5f"
            },
            "error_y": {
             "color": "#2a3f5f"
            },
            "marker": {
             "line": {
              "color": "#E5ECF6",
              "width": 0.5
             },
             "pattern": {
              "fillmode": "overlay",
              "size": 10,
              "solidity": 0.2
             }
            },
            "type": "bar"
           }
          ],
          "barpolar": [
           {
            "marker": {
             "line": {
              "color": "#E5ECF6",
              "width": 0.5
             },
             "pattern": {
              "fillmode": "overlay",
              "size": 10,
              "solidity": 0.2
             }
            },
            "type": "barpolar"
           }
          ],
          "carpet": [
           {
            "aaxis": {
             "endlinecolor": "#2a3f5f",
             "gridcolor": "white",
             "linecolor": "white",
             "minorgridcolor": "white",
             "startlinecolor": "#2a3f5f"
            },
            "baxis": {
             "endlinecolor": "#2a3f5f",
             "gridcolor": "white",
             "linecolor": "white",
             "minorgridcolor": "white",
             "startlinecolor": "#2a3f5f"
            },
            "type": "carpet"
           }
          ],
          "choropleth": [
           {
            "colorbar": {
             "outlinewidth": 0,
             "ticks": ""
            },
            "type": "choropleth"
           }
          ],
          "contour": [
           {
            "colorbar": {
             "outlinewidth": 0,
             "ticks": ""
            },
            "colorscale": [
             [
              0,
              "#0d0887"
             ],
             [
              0.1111111111111111,
              "#46039f"
             ],
             [
              0.2222222222222222,
              "#7201a8"
             ],
             [
              0.3333333333333333,
              "#9c179e"
             ],
             [
              0.4444444444444444,
              "#bd3786"
             ],
             [
              0.5555555555555556,
              "#d8576b"
             ],
             [
              0.6666666666666666,
              "#ed7953"
             ],
             [
              0.7777777777777778,
              "#fb9f3a"
             ],
             [
              0.8888888888888888,
              "#fdca26"
             ],
             [
              1,
              "#f0f921"
             ]
            ],
            "type": "contour"
           }
          ],
          "contourcarpet": [
           {
            "colorbar": {
             "outlinewidth": 0,
             "ticks": ""
            },
            "type": "contourcarpet"
           }
          ],
          "heatmap": [
           {
            "colorbar": {
             "outlinewidth": 0,
             "ticks": ""
            },
            "colorscale": [
             [
              0,
              "#0d0887"
             ],
             [
              0.1111111111111111,
              "#46039f"
             ],
             [
              0.2222222222222222,
              "#7201a8"
             ],
             [
              0.3333333333333333,
              "#9c179e"
             ],
             [
              0.4444444444444444,
              "#bd3786"
             ],
             [
              0.5555555555555556,
              "#d8576b"
             ],
             [
              0.6666666666666666,
              "#ed7953"
             ],
             [
              0.7777777777777778,
              "#fb9f3a"
             ],
             [
              0.8888888888888888,
              "#fdca26"
             ],
             [
              1,
              "#f0f921"
             ]
            ],
            "type": "heatmap"
           }
          ],
          "heatmapgl": [
           {
            "colorbar": {
             "outlinewidth": 0,
             "ticks": ""
            },
            "colorscale": [
             [
              0,
              "#0d0887"
             ],
             [
              0.1111111111111111,
              "#46039f"
             ],
             [
              0.2222222222222222,
              "#7201a8"
             ],
             [
              0.3333333333333333,
              "#9c179e"
             ],
             [
              0.4444444444444444,
              "#bd3786"
             ],
             [
              0.5555555555555556,
              "#d8576b"
             ],
             [
              0.6666666666666666,
              "#ed7953"
             ],
             [
              0.7777777777777778,
              "#fb9f3a"
             ],
             [
              0.8888888888888888,
              "#fdca26"
             ],
             [
              1,
              "#f0f921"
             ]
            ],
            "type": "heatmapgl"
           }
          ],
          "histogram": [
           {
            "marker": {
             "pattern": {
              "fillmode": "overlay",
              "size": 10,
              "solidity": 0.2
             }
            },
            "type": "histogram"
           }
          ],
          "histogram2d": [
           {
            "colorbar": {
             "outlinewidth": 0,
             "ticks": ""
            },
            "colorscale": [
             [
              0,
              "#0d0887"
             ],
             [
              0.1111111111111111,
              "#46039f"
             ],
             [
              0.2222222222222222,
              "#7201a8"
             ],
             [
              0.3333333333333333,
              "#9c179e"
             ],
             [
              0.4444444444444444,
              "#bd3786"
             ],
             [
              0.5555555555555556,
              "#d8576b"
             ],
             [
              0.6666666666666666,
              "#ed7953"
             ],
             [
              0.7777777777777778,
              "#fb9f3a"
             ],
             [
              0.8888888888888888,
              "#fdca26"
             ],
             [
              1,
              "#f0f921"
             ]
            ],
            "type": "histogram2d"
           }
          ],
          "histogram2dcontour": [
           {
            "colorbar": {
             "outlinewidth": 0,
             "ticks": ""
            },
            "colorscale": [
             [
              0,
              "#0d0887"
             ],
             [
              0.1111111111111111,
              "#46039f"
             ],
             [
              0.2222222222222222,
              "#7201a8"
             ],
             [
              0.3333333333333333,
              "#9c179e"
             ],
             [
              0.4444444444444444,
              "#bd3786"
             ],
             [
              0.5555555555555556,
              "#d8576b"
             ],
             [
              0.6666666666666666,
              "#ed7953"
             ],
             [
              0.7777777777777778,
              "#fb9f3a"
             ],
             [
              0.8888888888888888,
              "#fdca26"
             ],
             [
              1,
              "#f0f921"
             ]
            ],
            "type": "histogram2dcontour"
           }
          ],
          "mesh3d": [
           {
            "colorbar": {
             "outlinewidth": 0,
             "ticks": ""
            },
            "type": "mesh3d"
           }
          ],
          "parcoords": [
           {
            "line": {
             "colorbar": {
              "outlinewidth": 0,
              "ticks": ""
             }
            },
            "type": "parcoords"
           }
          ],
          "pie": [
           {
            "automargin": true,
            "type": "pie"
           }
          ],
          "scatter": [
           {
            "fillpattern": {
             "fillmode": "overlay",
             "size": 10,
             "solidity": 0.2
            },
            "type": "scatter"
           }
          ],
          "scatter3d": [
           {
            "line": {
             "colorbar": {
              "outlinewidth": 0,
              "ticks": ""
             }
            },
            "marker": {
             "colorbar": {
              "outlinewidth": 0,
              "ticks": ""
             }
            },
            "type": "scatter3d"
           }
          ],
          "scattercarpet": [
           {
            "marker": {
             "colorbar": {
              "outlinewidth": 0,
              "ticks": ""
             }
            },
            "type": "scattercarpet"
           }
          ],
          "scattergeo": [
           {
            "marker": {
             "colorbar": {
              "outlinewidth": 0,
              "ticks": ""
             }
            },
            "type": "scattergeo"
           }
          ],
          "scattergl": [
           {
            "marker": {
             "colorbar": {
              "outlinewidth": 0,
              "ticks": ""
             }
            },
            "type": "scattergl"
           }
          ],
          "scattermapbox": [
           {
            "marker": {
             "colorbar": {
              "outlinewidth": 0,
              "ticks": ""
             }
            },
            "type": "scattermapbox"
           }
          ],
          "scatterpolar": [
           {
            "marker": {
             "colorbar": {
              "outlinewidth": 0,
              "ticks": ""
             }
            },
            "type": "scatterpolar"
           }
          ],
          "scatterpolargl": [
           {
            "marker": {
             "colorbar": {
              "outlinewidth": 0,
              "ticks": ""
             }
            },
            "type": "scatterpolargl"
           }
          ],
          "scatterternary": [
           {
            "marker": {
             "colorbar": {
              "outlinewidth": 0,
              "ticks": ""
             }
            },
            "type": "scatterternary"
           }
          ],
          "surface": [
           {
            "colorbar": {
             "outlinewidth": 0,
             "ticks": ""
            },
            "colorscale": [
             [
              0,
              "#0d0887"
             ],
             [
              0.1111111111111111,
              "#46039f"
             ],
             [
              0.2222222222222222,
              "#7201a8"
             ],
             [
              0.3333333333333333,
              "#9c179e"
             ],
             [
              0.4444444444444444,
              "#bd3786"
             ],
             [
              0.5555555555555556,
              "#d8576b"
             ],
             [
              0.6666666666666666,
              "#ed7953"
             ],
             [
              0.7777777777777778,
              "#fb9f3a"
             ],
             [
              0.8888888888888888,
              "#fdca26"
             ],
             [
              1,
              "#f0f921"
             ]
            ],
            "type": "surface"
           }
          ],
          "table": [
           {
            "cells": {
             "fill": {
              "color": "#EBF0F8"
             },
             "line": {
              "color": "white"
             }
            },
            "header": {
             "fill": {
              "color": "#C8D4E3"
             },
             "line": {
              "color": "white"
             }
            },
            "type": "table"
           }
          ]
         },
         "layout": {
          "annotationdefaults": {
           "arrowcolor": "#2a3f5f",
           "arrowhead": 0,
           "arrowwidth": 1
          },
          "autotypenumbers": "strict",
          "coloraxis": {
           "colorbar": {
            "outlinewidth": 0,
            "ticks": ""
           }
          },
          "colorscale": {
           "diverging": [
            [
             0,
             "#8e0152"
            ],
            [
             0.1,
             "#c51b7d"
            ],
            [
             0.2,
             "#de77ae"
            ],
            [
             0.3,
             "#f1b6da"
            ],
            [
             0.4,
             "#fde0ef"
            ],
            [
             0.5,
             "#f7f7f7"
            ],
            [
             0.6,
             "#e6f5d0"
            ],
            [
             0.7,
             "#b8e186"
            ],
            [
             0.8,
             "#7fbc41"
            ],
            [
             0.9,
             "#4d9221"
            ],
            [
             1,
             "#276419"
            ]
           ],
           "sequential": [
            [
             0,
             "#0d0887"
            ],
            [
             0.1111111111111111,
             "#46039f"
            ],
            [
             0.2222222222222222,
             "#7201a8"
            ],
            [
             0.3333333333333333,
             "#9c179e"
            ],
            [
             0.4444444444444444,
             "#bd3786"
            ],
            [
             0.5555555555555556,
             "#d8576b"
            ],
            [
             0.6666666666666666,
             "#ed7953"
            ],
            [
             0.7777777777777778,
             "#fb9f3a"
            ],
            [
             0.8888888888888888,
             "#fdca26"
            ],
            [
             1,
             "#f0f921"
            ]
           ],
           "sequentialminus": [
            [
             0,
             "#0d0887"
            ],
            [
             0.1111111111111111,
             "#46039f"
            ],
            [
             0.2222222222222222,
             "#7201a8"
            ],
            [
             0.3333333333333333,
             "#9c179e"
            ],
            [
             0.4444444444444444,
             "#bd3786"
            ],
            [
             0.5555555555555556,
             "#d8576b"
            ],
            [
             0.6666666666666666,
             "#ed7953"
            ],
            [
             0.7777777777777778,
             "#fb9f3a"
            ],
            [
             0.8888888888888888,
             "#fdca26"
            ],
            [
             1,
             "#f0f921"
            ]
           ]
          },
          "colorway": [
           "#636efa",
           "#EF553B",
           "#00cc96",
           "#ab63fa",
           "#FFA15A",
           "#19d3f3",
           "#FF6692",
           "#B6E880",
           "#FF97FF",
           "#FECB52"
          ],
          "font": {
           "color": "#2a3f5f"
          },
          "geo": {
           "bgcolor": "white",
           "lakecolor": "white",
           "landcolor": "#E5ECF6",
           "showlakes": true,
           "showland": true,
           "subunitcolor": "white"
          },
          "hoverlabel": {
           "align": "left"
          },
          "hovermode": "closest",
          "mapbox": {
           "style": "light"
          },
          "paper_bgcolor": "white",
          "plot_bgcolor": "#E5ECF6",
          "polar": {
           "angularaxis": {
            "gridcolor": "white",
            "linecolor": "white",
            "ticks": ""
           },
           "bgcolor": "#E5ECF6",
           "radialaxis": {
            "gridcolor": "white",
            "linecolor": "white",
            "ticks": ""
           }
          },
          "scene": {
           "xaxis": {
            "backgroundcolor": "#E5ECF6",
            "gridcolor": "white",
            "gridwidth": 2,
            "linecolor": "white",
            "showbackground": true,
            "ticks": "",
            "zerolinecolor": "white"
           },
           "yaxis": {
            "backgroundcolor": "#E5ECF6",
            "gridcolor": "white",
            "gridwidth": 2,
            "linecolor": "white",
            "showbackground": true,
            "ticks": "",
            "zerolinecolor": "white"
           },
           "zaxis": {
            "backgroundcolor": "#E5ECF6",
            "gridcolor": "white",
            "gridwidth": 2,
            "linecolor": "white",
            "showbackground": true,
            "ticks": "",
            "zerolinecolor": "white"
           }
          },
          "shapedefaults": {
           "line": {
            "color": "#2a3f5f"
           }
          },
          "ternary": {
           "aaxis": {
            "gridcolor": "white",
            "linecolor": "white",
            "ticks": ""
           },
           "baxis": {
            "gridcolor": "white",
            "linecolor": "white",
            "ticks": ""
           },
           "bgcolor": "#E5ECF6",
           "caxis": {
            "gridcolor": "white",
            "linecolor": "white",
            "ticks": ""
           }
          },
          "title": {
           "x": 0.05
          },
          "xaxis": {
           "automargin": true,
           "gridcolor": "white",
           "linecolor": "white",
           "ticks": "",
           "title": {
            "standoff": 15
           },
           "zerolinecolor": "white",
           "zerolinewidth": 2
          },
          "yaxis": {
           "automargin": true,
           "gridcolor": "white",
           "linecolor": "white",
           "ticks": "",
           "title": {
            "standoff": 15
           },
           "zerolinecolor": "white",
           "zerolinewidth": 2
          }
         }
        },
        "xaxis": {
         "anchor": "y",
         "domain": [
          0,
          1
         ],
         "title": {
          "text": "X"
         }
        },
        "yaxis": {
         "anchor": "x",
         "domain": [
          0,
          1
         ],
         "title": {
          "text": "Y"
         }
        }
       }
      }
     },
     "metadata": {},
     "output_type": "display_data"
    }
   ],
   "source": [
    "px.scatter(X_copy, x='X', y='Y' , color='cluster_label', hover_data=['index'])"
   ]
  },
  {
   "cell_type": "code",
   "execution_count": 266,
   "metadata": {},
   "outputs": [
    {
     "data": {
      "text/html": [
       "<div>\n",
       "<style scoped>\n",
       "    .dataframe tbody tr th:only-of-type {\n",
       "        vertical-align: middle;\n",
       "    }\n",
       "\n",
       "    .dataframe tbody tr th {\n",
       "        vertical-align: top;\n",
       "    }\n",
       "\n",
       "    .dataframe thead th {\n",
       "        text-align: right;\n",
       "    }\n",
       "</style>\n",
       "<table border=\"1\" class=\"dataframe\">\n",
       "  <thead>\n",
       "    <tr style=\"text-align: right;\">\n",
       "      <th></th>\n",
       "      <th>article_link</th>\n",
       "      <th>article_keywords</th>\n",
       "      <th>cluster_label</th>\n",
       "    </tr>\n",
       "  </thead>\n",
       "  <tbody>\n",
       "    <tr>\n",
       "      <th>9</th>\n",
       "      <td>https://about.bgov.com/news/no-kill-burgers-us...</td>\n",
       "      <td>US Firms Eye Green Light Lab-Grown Meat US No-...</td>\n",
       "      <td>4</td>\n",
       "    </tr>\n",
       "    <tr>\n",
       "      <th>17</th>\n",
       "      <td>https://apnews.com/article/science-business-de...</td>\n",
       "      <td>renewables US GM All US facilities</td>\n",
       "      <td>4</td>\n",
       "    </tr>\n",
       "    <tr>\n",
       "      <th>23</th>\n",
       "      <td>https://arstechnica.com/cars/2022/09/how-elect...</td>\n",
       "      <td>US electric cars the US power</td>\n",
       "      <td>4</td>\n",
       "    </tr>\n",
       "    <tr>\n",
       "      <th>44</th>\n",
       "      <td>https://arstechnica.com/tech-policy/2022/11/us...</td>\n",
       "      <td>apartment price-setting software antitrust rev...</td>\n",
       "      <td>4</td>\n",
       "    </tr>\n",
       "    <tr>\n",
       "      <th>66</th>\n",
       "      <td>https://edition.cnn.com/2022/11/01/health/drin...</td>\n",
       "      <td>excessive drinking study US adults US 5 deaths</td>\n",
       "      <td>4</td>\n",
       "    </tr>\n",
       "    <tr>\n",
       "      <th>67</th>\n",
       "      <td>https://electrek.co/2022/08/26/in-a-us-first-c...</td>\n",
       "      <td>canals solar-panel canopies California US a US</td>\n",
       "      <td>4</td>\n",
       "    </tr>\n",
       "    <tr>\n",
       "      <th>85</th>\n",
       "      <td>https://futurism.com/the-byte/us-military-soci...</td>\n",
       "      <td>US Military Annoyed Twitter Its PSYOP Bots Fac...</td>\n",
       "      <td>4</td>\n",
       "    </tr>\n",
       "    <tr>\n",
       "      <th>114</th>\n",
       "      <td>https://interestingengineering.com/innovation/...</td>\n",
       "      <td>US military US own record Lockheed Martin 300-...</td>\n",
       "      <td>4</td>\n",
       "    </tr>\n",
       "    <tr>\n",
       "      <th>126</th>\n",
       "      <td>https://jamanetwork.com/journals/jama/article-...</td>\n",
       "      <td>Jackson Women’s Health Organization Decision O...</td>\n",
       "      <td>4</td>\n",
       "    </tr>\n",
       "    <tr>\n",
       "      <th>127</th>\n",
       "      <td>https://jamanetwork.com/journals/jama/fullarti...</td>\n",
       "      <td>Frontline Workers US Essential and Frontline W...</td>\n",
       "      <td>4</td>\n",
       "    </tr>\n",
       "    <tr>\n",
       "      <th>128</th>\n",
       "      <td>https://jamanetwork.com/journals/jamanetworkop...</td>\n",
       "      <td>US Suicide Methods Adolescents Temporal Trends...</td>\n",
       "      <td>4</td>\n",
       "    </tr>\n",
       "    <tr>\n",
       "      <th>139</th>\n",
       "      <td>https://metro.co.uk/2022/10/13/our-patients-ar...</td>\n",
       "      <td>US the US cryogenic freezing Our patients</td>\n",
       "      <td>4</td>\n",
       "    </tr>\n",
       "    <tr>\n",
       "      <th>301</th>\n",
       "      <td>https://techcrunch.com/2020/12/21/the-us-wants...</td>\n",
       "      <td>space tech startups US a piece The US</td>\n",
       "      <td>4</td>\n",
       "    </tr>\n",
       "    <tr>\n",
       "      <th>315</th>\n",
       "      <td>https://techcrunch.com/2021/10/17/dispute-reso...</td>\n",
       "      <td>US Dispute resolution platform Immediation the...</td>\n",
       "      <td>4</td>\n",
       "    </tr>\n",
       "    <tr>\n",
       "      <th>433</th>\n",
       "      <td>https://thehill.com/policy/energy-environment/...</td>\n",
       "      <td>US water quality massive impact US case Suprem...</td>\n",
       "      <td>4</td>\n",
       "    </tr>\n",
       "    <tr>\n",
       "      <th>547</th>\n",
       "      <td>https://www.engadget.com/gm-defense-ultium-pro...</td>\n",
       "      <td>US an Ultium battery pack prototype the US mil...</td>\n",
       "      <td>4</td>\n",
       "    </tr>\n",
       "    <tr>\n",
       "      <th>565</th>\n",
       "      <td>https://www.eurekalert.org/news-releases/968532</td>\n",
       "      <td>monthly Child Tax Credits Child Tax Credits US...</td>\n",
       "      <td>4</td>\n",
       "    </tr>\n",
       "    <tr>\n",
       "      <th>570</th>\n",
       "      <td>https://www.eurekalert.org/news-releases/969469</td>\n",
       "      <td>underserved populations US bike share three US...</td>\n",
       "      <td>4</td>\n",
       "    </tr>\n",
       "    <tr>\n",
       "      <th>581</th>\n",
       "      <td>https://www.euronews.com/next/2022/10/06/amazo...</td>\n",
       "      <td>US drone deliveries parts Wing unit the US Alp...</td>\n",
       "      <td>4</td>\n",
       "    </tr>\n",
       "    <tr>\n",
       "      <th>582</th>\n",
       "      <td>https://www.euronews.com/next/2022/10/14/insid...</td>\n",
       "      <td>US the US facility almost 100 pets 199 legally...</td>\n",
       "      <td>4</td>\n",
       "    </tr>\n",
       "    <tr>\n",
       "      <th>750</th>\n",
       "      <td>https://www.technologynetworks.com/cancer-rese...</td>\n",
       "      <td>US Cancer Deaths US Decline New Report</td>\n",
       "      <td>4</td>\n",
       "    </tr>\n",
       "    <tr>\n",
       "      <th>755</th>\n",
       "      <td>https://www.technologyreview.com/2022/09/12/10...</td>\n",
       "      <td>cancers blood tests US a trial The US</td>\n",
       "      <td>4</td>\n",
       "    </tr>\n",
       "    <tr>\n",
       "      <th>846</th>\n",
       "      <td>https://www.world-nuclear-news.org/Articles/Ap...</td>\n",
       "      <td>New Nuclear US molten salt research reactor US...</td>\n",
       "      <td>4</td>\n",
       "    </tr>\n",
       "  </tbody>\n",
       "</table>\n",
       "</div>"
      ],
      "text/plain": [
       "                                          article_link  \\\n",
       "9    https://about.bgov.com/news/no-kill-burgers-us...   \n",
       "17   https://apnews.com/article/science-business-de...   \n",
       "23   https://arstechnica.com/cars/2022/09/how-elect...   \n",
       "44   https://arstechnica.com/tech-policy/2022/11/us...   \n",
       "66   https://edition.cnn.com/2022/11/01/health/drin...   \n",
       "67   https://electrek.co/2022/08/26/in-a-us-first-c...   \n",
       "85   https://futurism.com/the-byte/us-military-soci...   \n",
       "114  https://interestingengineering.com/innovation/...   \n",
       "126  https://jamanetwork.com/journals/jama/article-...   \n",
       "127  https://jamanetwork.com/journals/jama/fullarti...   \n",
       "128  https://jamanetwork.com/journals/jamanetworkop...   \n",
       "139  https://metro.co.uk/2022/10/13/our-patients-ar...   \n",
       "301  https://techcrunch.com/2020/12/21/the-us-wants...   \n",
       "315  https://techcrunch.com/2021/10/17/dispute-reso...   \n",
       "433  https://thehill.com/policy/energy-environment/...   \n",
       "547  https://www.engadget.com/gm-defense-ultium-pro...   \n",
       "565    https://www.eurekalert.org/news-releases/968532   \n",
       "570    https://www.eurekalert.org/news-releases/969469   \n",
       "581  https://www.euronews.com/next/2022/10/06/amazo...   \n",
       "582  https://www.euronews.com/next/2022/10/14/insid...   \n",
       "750  https://www.technologynetworks.com/cancer-rese...   \n",
       "755  https://www.technologyreview.com/2022/09/12/10...   \n",
       "846  https://www.world-nuclear-news.org/Articles/Ap...   \n",
       "\n",
       "                                      article_keywords  cluster_label  \n",
       "9    US Firms Eye Green Light Lab-Grown Meat US No-...              4  \n",
       "17                  renewables US GM All US facilities              4  \n",
       "23                       US electric cars the US power              4  \n",
       "44   apartment price-setting software antitrust rev...              4  \n",
       "66      excessive drinking study US adults US 5 deaths              4  \n",
       "67      canals solar-panel canopies California US a US              4  \n",
       "85   US Military Annoyed Twitter Its PSYOP Bots Fac...              4  \n",
       "114  US military US own record Lockheed Martin 300-...              4  \n",
       "126  Jackson Women’s Health Organization Decision O...              4  \n",
       "127  Frontline Workers US Essential and Frontline W...              4  \n",
       "128  US Suicide Methods Adolescents Temporal Trends...              4  \n",
       "139          US the US cryogenic freezing Our patients              4  \n",
       "301              space tech startups US a piece The US              4  \n",
       "315  US Dispute resolution platform Immediation the...              4  \n",
       "433  US water quality massive impact US case Suprem...              4  \n",
       "547  US an Ultium battery pack prototype the US mil...              4  \n",
       "565  monthly Child Tax Credits Child Tax Credits US...              4  \n",
       "570  underserved populations US bike share three US...              4  \n",
       "581  US drone deliveries parts Wing unit the US Alp...              4  \n",
       "582  US the US facility almost 100 pets 199 legally...              4  \n",
       "750             US Cancer Deaths US Decline New Report              4  \n",
       "755              cancers blood tests US a trial The US              4  \n",
       "846  New Nuclear US molten salt research reactor US...              4  "
      ]
     },
     "execution_count": 266,
     "metadata": {},
     "output_type": "execute_result"
    }
   ],
   "source": [
    "titles_bag_of_words.iloc[X_copy[X_copy['cluster_label'] == 4]['index']]"
   ]
  },
  {
   "cell_type": "code",
   "execution_count": 267,
   "metadata": {},
   "outputs": [],
   "source": [
    "#rest of questions will be removed manually"
   ]
  },
  {
   "cell_type": "code",
   "execution_count": 270,
   "metadata": {},
   "outputs": [],
   "source": [
    "titles_bag_of_words.to_csv(r\"C:\\Users\\Ravit\\Documents\\rnd\\horizon_scanning_lab\\articles\\analyze_Articles\\for_cleaning_articles_reddit_and_crunch\\questions_to_remove_manually.csv\")"
   ]
  },
  {
   "cell_type": "code",
   "execution_count": null,
   "metadata": {},
   "outputs": [],
   "source": []
  }
 ],
 "metadata": {
  "kernelspec": {
   "display_name": "Python 3.9.13 ('base')",
   "language": "python",
   "name": "python3"
  },
  "language_info": {
   "codemirror_mode": {
    "name": "ipython",
    "version": 3
   },
   "file_extension": ".py",
   "mimetype": "text/x-python",
   "name": "python",
   "nbconvert_exporter": "python",
   "pygments_lexer": "ipython3",
   "version": "3.9.13"
  },
  "orig_nbformat": 4,
  "vscode": {
   "interpreter": {
    "hash": "ad2bdc8ecc057115af97d19610ffacc2b4e99fae6737bb82f5d7fb13d2f2c186"
   }
  }
 },
 "nbformat": 4,
 "nbformat_minor": 2
}
