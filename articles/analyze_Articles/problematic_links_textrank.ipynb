{
 "cells": [
  {
   "cell_type": "code",
   "execution_count": 56,
   "metadata": {},
   "outputs": [],
   "source": [
    "import requests\n",
    "import os\n",
    "import pandas as pd\n",
    "import spacy\n",
    "import plotly.express as px\n",
    "import numpy as np\n",
    "import pytextrank\n",
    "from bs4 import BeautifulSoup"
   ]
  },
  {
   "cell_type": "code",
   "execution_count": 6,
   "metadata": {},
   "outputs": [],
   "source": [
    "prob_df = pd.read_csv(r\"C:\\Users\\Ravit\\Documents\\rnd\\horizon_scanning_lab\\articles\\analyze_Articles\\reddit_articles_analysis\\reddit_problematic_articles.txt\", sep=\" \")"
   ]
  },
  {
   "cell_type": "code",
   "execution_count": 8,
   "metadata": {},
   "outputs": [],
   "source": [
    "prob_df = prob_df.T"
   ]
  },
  {
   "cell_type": "code",
   "execution_count": 16,
   "metadata": {},
   "outputs": [],
   "source": [
    "prob_urls = prob_df.index.to_list()"
   ]
  },
  {
   "cell_type": "code",
   "execution_count": 47,
   "metadata": {},
   "outputs": [],
   "source": [
    "for i, url in enumerate(prob_urls):\n",
    "    prob_urls[i] = url.split('\"')[0].strip(',').strip('[').strip(']').replace(\"'\",\"\")"
   ]
  },
  {
   "cell_type": "code",
   "execution_count": 51,
   "metadata": {},
   "outputs": [],
   "source": [
    "headers = {'User-Agent': 'Mozilla/5.0 (Macintosh; Intel Mac OS X 10_11_5) AppleWebKit/537.36 (KHTML, like Gecko) Chrome/50.0.2661.102 Safari/537.36'}"
   ]
  },
  {
   "cell_type": "code",
   "execution_count": 66,
   "metadata": {},
   "outputs": [],
   "source": [
    "#get websites. This is to learn what parsing tags are required to extract text\n",
    "\n",
    "websites = []\n",
    "for url in prob_urls:\n",
    "    websites.append(url.split('/')[2])"
   ]
  },
  {
   "cell_type": "code",
   "execution_count": 238,
   "metadata": {},
   "outputs": [],
   "source": [
    "websites = list(set(websites))"
   ]
  },
  {
   "cell_type": "code",
   "execution_count": 239,
   "metadata": {},
   "outputs": [
    {
     "data": {
      "text/plain": [
       "Counter({'siliconangle.com': 1,\n",
       "         'www.thegamer.com': 1,\n",
       "         'www.science.org': 1,\n",
       "         'www.wsj.com': 1,\n",
       "         'www.tandfonline.com': 1,\n",
       "         'www.abc.net.au': 1,\n",
       "         'apnews.com': 1,\n",
       "         'onlinelibrary.wiley.com': 1,\n",
       "         'www.sciencedirect.com': 1,\n",
       "         'www.autoevolution.com': 1,\n",
       "         'www.pnas.org': 1,\n",
       "         'www.techdirt.com': 1,\n",
       "         'www.newsweek.com': 1,\n",
       "         'agupubs.onlinelibrary.wiley.com': 1,\n",
       "         'www.tomshardware.com': 1,\n",
       "         'thehill.com': 1,\n",
       "         'doi.org': 1,\n",
       "         'journals.sagepub.com': 1,\n",
       "         'www.uq.edu.au': 1,\n",
       "         'www.fiercebiotech.com': 1,\n",
       "         'www.lightreading.com': 1,\n",
       "         'academic.oup.com': 1})"
      ]
     },
     "execution_count": 239,
     "metadata": {},
     "output_type": "execute_result"
    }
   ],
   "source": [
    "from collections import Counter\n",
    "\n",
    "Counter(websites)"
   ]
  },
  {
   "cell_type": "markdown",
   "metadata": {},
   "source": [
    "Find parsers\n"
   ]
  },
  {
   "cell_type": "markdown",
   "metadata": {},
   "source": [
    "'siliconangle.com'\n",
    "title = soup.find('h3', {'class': 'sa-post-title'}).text\n",
    "body = soup.find('div', {'class': 'single-post-content'}).find_all('p')\n",
    "text = \"\".join([p.find_next(text=True).strip() for p in body])\n",
    "\n",
    "\n",
    "'www.newsweek.com' \n",
    "title =  soup.find('h1', {'class':'title'}).text\n",
    "body = soup.find('div', {'class':'article-body v_text'}).find_all('p')\n",
    "text = \"\".join([p.find_next(text=True).strip() for p in body])\n",
    "\n",
    "'www.thegamer.com'\n",
    "title = soup.find('h1', {'class':'heading_title'}).text\n",
    "body = soup.find('section', {'id':'article-body'}).find_all('p')\n",
    "text = \"\".join([p.find_next(text=True).strip() for p in body])\n",
    "\n",
    "'apnews.com'\n",
    "title = soup.find('h1', {\"class\":\"Component-heading-0-2-16\"}).text\n",
    "body = soup.find('div', {\"class\":\"Article\"}).find_all('p')\n",
    "text = \"\".join([p.find_next(text=True).strip() for p in body])\n",
    "\n",
    "'www.techdirt.com'\n",
    "#didn't succeed\n",
    "\n",
    "'agupubs.onlinelibrary.wiley.com'\n",
    "#didn't succeed\n",
    "\n",
    "'www.uq.edu.au'\n",
    "title = soup.find('h1', {'id':\"page-title\"}).text\n",
    "body = soup.find('div', {'id':\"content\"}).find_all('p')\n",
    "text = \"\".join([p.find_next(text=True).strip() for p in body])\n",
    "\n",
    "'www.fiercebiotech.com'\n",
    "#didn't succeed\n",
    "\n",
    "academic.oup.com\n",
    "#didn't succeed\n",
    "\n",
    "www.science.org\n",
    "#didn't succeed\n",
    "\n",
    "www.wsj.com\n",
    "title = soup.find('h1', {\"class\":\"css-1lvqw7f-StyledHeadline e1ipbpvp0\"}).text\n",
    "text = soup.find('section', {'class':'css-az2xkl-Container-Container e1d75se20'}).text\n",
    "\n",
    "ww.tandfonline.com\n",
    "title = soup.find(\"span\", {\"class\":\"NLM_article-title hlFld-title\"}).text\n",
    "text = soup.find(\"div\", {\"class\":\"abstractSection abstractInFull\"}).text\n",
    "\n",
    "www.abc.net.au\n",
    "title = soup.find(\"h1\", {\"class\":\"_1EAJU hMmqO WL4Yr n-Wqw _18EFj _2ZOIT _3HiTE x9R1x pDrMR hmFfs _390V1\"}).text\n",
    "body = soup.find(\"div\", {\"class\":\"_3P3cP _3sFAh\"}).find_all('p')\n",
    "text = \"\".join([p.find_next(text=True).strip() for p in body])\n",
    "\n",
    "onlinelibrary.wiley.com\n",
    "#didn't succeed\n",
    "\n",
    "'www.sciencedirect.com'\n",
    "#didn't succeed\n",
    "\n",
    "www.autoevolution.com\n",
    "#didn't succeed\n",
    "\n",
    "www.pnas.org\n",
    "#didn't succeed\n",
    "\n",
    "www.tomshardware.com\n",
    "title=soup.find(\"title\").text\n",
    "body = soup.find(\"div\",{\"id\":\"article-body\"})\n",
    "text = \"\".join([p.find_next(text=True).strip() for p in body])\n",
    "\n",
    "thehill.com\n",
    "title=soup.find(\"title\").text\n",
    "body = soup.find(\"div\", {\"class\":\"article__text | body-copy | flow\"}).find_all('p')\n",
    "text = \"\".join([p.find_next(text=True).strip() for p in body])\n",
    "\n",
    "\n",
    "\n",
    "journals.sagepub.com\n",
    "#not working\n",
    "\n",
    "www.lightreading.com\n",
    "#not working\n"
   ]
  },
  {
   "cell_type": "code",
   "execution_count": 245,
   "metadata": {},
   "outputs": [],
   "source": [
    "#websites that work with requests\n",
    "request_webs = ['siliconangle.com', 'www.newsweek.com', 'www.thegamer.com',  'apnews.com', 'www.uq.edu.au', 'www.wsj.com', \n",
    "'www.tandfonline.com', 'www.abc.net.au', 'www.tomshardware.com', 'thehill.com']\n",
    "\n",
    "#websites that don't\n",
    "no_requests_webs = ['www.techdirt.com', 'agupubs.onlinelibrary.wiley.com', 'www.fiercebiotech.com', 'academic.oup.com', 'www.science.org', 'onlinelibrary.wiley.com', 'www.sciencedirect.com', 'www.autoevolution.com', 'www.pnas.org', 'journals.sagepub.com', 'www.lightreading.com']\n",
    "\n",
    "#doi.org => link not extracted properly\n",
    "#remove from list\n",
    "prob_urls.remove('https://doi.org/10.1016/j.humov.2022.103016')"
   ]
  },
  {
   "cell_type": "code",
   "execution_count": null,
   "metadata": {},
   "outputs": [],
   "source": [
    "\n",
    "for url in prob_urls:\n",
    "    web = url.split('/')[2] \n",
    "    if web in request_webs:\n",
    "        result = requests.get(url)\n",
    "        soup = BeautifulSoup(result.text)\n",
    "\n",
    "        if web == 'siliconangle.com':\n",
    "            title = soup.find('h3', {'class': 'sa-post-title'}).text\n",
    "            body = soup.find('div', {'class': 'single-post-content'}).find_all('p')\n",
    "            text = \"\".join([p.find_next(text=True).strip() for p in body])\n",
    "\n",
    "        if web=='www.newsweek.com':\n",
    "            title =  soup.find('h1', {'class':'title'}).text\n",
    "            body = soup.find('div', {'class':'article-body v_text'}).find_all('p')\n",
    "            text = \"\".join([p.find_next(text=True).strip() for p in body])\n",
    "            \n",
    "        if web=='www.thegamer.com':\n",
    "            title = soup.find('h1', {'class':'heading_title'}).text\n",
    "            body = soup.find('section', {'id':'article-body'}).find_all('p')\n",
    "            text = \"\".join([p.find_next(text=True).strip() for p in body])\n",
    "            \n",
    "        if web=='apnews.com':\n",
    "            title = soup.find('h1', {\"class\":\"Component-heading-0-2-16\"}).text\n",
    "            body = soup.find('div', {\"class\":\"Article\"}).find_all('p')\n",
    "            text = \"\".join([p.find_next(text=True).strip() for p in body])\n",
    "            \n",
    "        if web=='www.uq.edu.au':\n",
    "            title = soup.find('h1', {'id':\"page-title\"}).text\n",
    "            body = soup.find('div', {'id':\"content\"}).find_all('p')\n",
    "            text = \"\".join([p.find_next(text=True).strip() for p in body])\n",
    "            \n",
    "        if web=='www.wsj.com':\n",
    "            title = soup.find('h1', {\"class\":\"css-1lvqw7f-StyledHeadline e1ipbpvp0\"}).text\n",
    "            text = soup.find('section', {'class':'css-az2xkl-Container-Container e1d75se20'}).text\n",
    "            \n",
    "        if web=='www.tandfonline.com':\n",
    "            title = soup.find(\"span\", {\"class\":\"NLM_article-title hlFld-title\"}).text\n",
    "            text = soup.find(\"div\", {\"class\":\"abstractSection abstractInFull\"}).text\n",
    "            \n",
    "        if web=='www.abc.net.au':\n",
    "            title = soup.find(\"h1\", {\"class\":\"_1EAJU hMmqO WL4Yr n-Wqw _18EFj _2ZOIT _3HiTE x9R1x pDrMR hmFfs _390V1\"}).text\n",
    "            body = soup.find(\"div\", {\"class\":\"_3P3cP _3sFAh\"}).find_all('p')\n",
    "            text = \"\".join([p.find_next(text=True).strip() for p in body])\n",
    "            \n",
    "        if web=='www.tomshardware.com':\n",
    "            title=soup.find(\"title\").text\n",
    "            body = soup.find(\"div\",{\"id\":\"article-body\"})\n",
    "            text = \"\".join([p.find_next(text=True).strip() for p in body])\n",
    "        \n",
    "        if web == 'thehill.com':\n",
    "            title=soup.find(\"title\").text\n",
    "            body = soup.find(\"div\", {\"class\":\"article__text | body-copy | flow\"}).find_all('p')\n",
    "            text = \"\".join([p.find_next(text=True).strip() for p in body])\n",
    "\n",
    "        \n"
   ]
  },
  {
   "cell_type": "code",
   "execution_count": 235,
   "metadata": {},
   "outputs": [],
   "source": [
    "result = requests.get('https://www.lightreading.com/security/the-cloud-and-5g-security-apocalypse-is-only-matter-of-time/d/d-id/781259', headers=headers)"
   ]
  },
  {
   "cell_type": "code",
   "execution_count": 236,
   "metadata": {},
   "outputs": [],
   "source": [
    "soup = BeautifulSoup(result.text)"
   ]
  },
  {
   "cell_type": "code",
   "execution_count": 237,
   "metadata": {},
   "outputs": [
    {
     "data": {
      "text/plain": [
       "<!DOCTYPE html>\n",
       "<html lang=\"en-US\">\n",
       "<head>\n",
       "<title>Just a moment...</title>\n",
       "<meta content=\"text/html; charset=utf-8\" http-equiv=\"Content-Type\"/>\n",
       "<meta content=\"IE=Edge\" http-equiv=\"X-UA-Compatible\"/>\n",
       "<meta content=\"noindex,nofollow\" name=\"robots\"/>\n",
       "<meta content=\"width=device-width,initial-scale=1\" name=\"viewport\"/>\n",
       "<link href=\"/cdn-cgi/styles/challenges.css\" rel=\"stylesheet\"/>\n",
       "</head>\n",
       "<body class=\"no-js\">\n",
       "<div class=\"main-wrapper\" role=\"main\">\n",
       "<div class=\"main-content\">\n",
       "<h1 class=\"zone-name-title h1\">\n",
       "<img class=\"heading-favicon\" onerror=\"this.onerror=null;this.parentNode.removeChild(this)\" src=\"/favicon.ico\"/>\n",
       "            www.lightreading.com\n",
       "        </h1>\n",
       "<h2 class=\"h2\" id=\"challenge-running\">\n",
       "            Checking if the site connection is secure\n",
       "        </h2>\n",
       "<noscript>\n",
       "<div id=\"challenge-error-title\">\n",
       "<div class=\"h2\">\n",
       "<span class=\"icon-wrapper\">\n",
       "<div class=\"heading-icon warning-icon\"></div>\n",
       "</span>\n",
       "<span id=\"challenge-error-text\">\n",
       "                        Enable JavaScript and cookies to continue\n",
       "                    </span>\n",
       "</div>\n",
       "</div>\n",
       "</noscript>\n",
       "<div id=\"trk_jschal_js\" style=\"display:none;background-image:url('/cdn-cgi/images/trace/managed/nojs/transparent.gif?ray=76798fb88a948e4b')\"></div>\n",
       "<div class=\"core-msg spacer\" id=\"challenge-body-text\">\n",
       "            www.lightreading.com needs to review the security of your connection before proceeding.\n",
       "        </div>\n",
       "<form action=\"/security/the-cloud-and-5g-security-apocalypse-is-only-matter-of-time/d/d-id/781259?__cf_chl_f_tk=BuB0GJe7qtdzvGHagNrI_cKZ_NPkeot5V4ZERqJaFnA-1668028501-0-gaNycGzNB6U\" enctype=\"application/x-www-form-urlencoded\" id=\"challenge-form\" method=\"POST\">\n",
       "<input name=\"md\" type=\"hidden\" value=\"uzv6QBq.BnJoQpHpIFPl8iGQs5KbJPeVqazcHp6FP1k-1668028501-0-AT4SqzX3eW4Xbv7bOQvkqRVW3KIbSCM1mavUs2uWBS1ybxggEyLjpigq_yu-K1V_dgEkRjIjqp45f0JNx9UvqyG58kqjqvEHfrZ9r-bPZTB25mhXD94GQXsXCbpZBVLGJqGhSEuOrKtxdgoeBlPJdzhnr7lSkvwb5KQ8ctU88XhJzR3c0qlJYNAU-FJLkuXwGPQxEjAcCy0OLoTfJv20nbpT0E5mwW6-R7gfYYQlvme5HZxT_hhggdcrbZq8CTuYWeCFZHfJ6Nm0IAuYzoxJZfCmIiWVY0HZvXPemUZlCDuRsfpYg5at_yo6rcooRcbsl2JGAa5iQ8u2aRyZ0mArcMtOcMY8q8aG_YKIgKEDVuLnxiEazIbNQ60FKc5pUJcVwwLcxWy-7eavMpK0iSpVvALSNaw-iWX362FHyrbrzNnv5xULoHFsklHMtgAnY65APh-z3_hhjy4TiKa9ETkdRXb_1SUvkHxJc9ynohR8ShvKy8SFor-sJWYmZN1GrNAQE5NUR33-ekkABsrh8nG0EMmbeHWXF4HX1vzGPtP-nHmf1xlzxGfwwLxxk5bzbyyLC5bRxs-BQg2ky8ZaE_n4SMHKQ60N_rwxjbGb71nMbHUUgexMEMqvMSF5KEJYjo6jnLE3c-UwQI74VOlSUmosIreNoxsbZCRp1b_tWPaq-tb4lIbeIDJel88gktPFKJ1KkWDBgbcyppwgDLFUlXFOXJp23vlWhKxMHs6Z6gpag3mftOS657kYVCPGqzWyhUZlax1Jojod-WBY84yd-VS9GaUlqDXfB6UmizpetIBAzAHZyBvgA7Djb5CREyZhedgvzhkAl4YTFKw1W1CuCzaqt9Z56anzMzZITim1Onyyb8R_wBXj2LnWyUl0jpvJzU5t1QHMGw6EOt4UksRvV6D_QjkvRB_fv2taDN_WfTjv8ec-\"/>\n",
       "<input name=\"r\" type=\"hidden\" value=\"VyEwNrpu81sakgEW4HCtFRH0Oc10tqizLbO3087QVzs-1668028501-0-Aby/U30xVMKzQJrlMjdH+Rq8xZUxfH49EOsRol35rshnggz1aoC+eYGiC8ybecTmnFUji+o/YAFBf3iSkM1eWf9u4rEzO+4DP2UF+VqCfp0/Xikij9eZE8DMpn75ppbTKpGzY2RlLvEjwtNt33gc2YLPOtWcZygJM28ufisrmkI2jJ/VgCD0zPe1KVsayAaZfCuj77uS0Qr30yewmGvYuN0ZBNZ/IZ7xHNP6DWtYg6fB4gutUFNmLbA3XAJnzgpEMc/JvV30fN9cn1jc58ocY6UpyQDOiMyZlJITGQ98Npr9Ox6wWIuvTBVH3Scex05ZK8jgMQjFXEqZGsopgb8sYNCPaRZWJFuhuuFd2RHiutbaHsVhvqTsRqCjzdm20vKt36mhv0wjuU6ePS+ZDRP8YiqJ+RDHt6NMcvv5m12eeou6ukYT7/eFbONjaJ60jWdG+cYpCEuvfVQ/RErZUjX47eOujH4V3Sh+SGXGgAz1rUFqMsP/gl82mrdVxEjDdct2pvia59oaDRX3dxCCJtiZLK7n06YnhzxVo+/gl+Rgjtprmbce8x7fRARI2cEY0DWqK91fyCLtCSObVd+ioPqFfaGpN/wH3F0PB1W8pGlx/ErBixkq3T4tBErBN123c8c3lrWSDZ2bHFkIK9BKUVj8MEpU7454r2KoTkqQKeR9ZSorTjN4GJDJa/JdYTA54ZjPRFKMLaTw3EIGuE6+zqYSCFrLUop1fVCOjUwLZorWtGhbCn7y3LoZXUBBjxxdIPW2TrnwBAQbwLsgc5ZnkFcZPdy9SMlrKXgn9FCZOLbA7gJwrlRYYg4vQmdVZkPnlXkFKVXshCQYUQqAe5nUm76VLeUjOSiv+D6PF7U7WvYm0R4PXEI4THU0CdXvTp5BvmfZW4T3/xmh35PQ80Co+GFmsmSytdSwwFDHwjiKB612Hln9xjDoJO7B67fL7xTeIAlZ4ZauhzCl8iPeTts3+Dwbse2RPRV74u7bpH789hmaymZ2tcAXdoJkg5nZ9hxY9sbFhb7W7xfrXMGqUPd6cklN7wmOS0sqMdzDxmcZ0eMh6PZpN3gz63LsKB04pF0liOZ4qp1BxXjquFdfV/Olq4olv16pqbE+UI3YVX6VaXeZdBbnErVv+fg9K8FpBIFzF3L+ET3HTPVC2vj1kO6bD38pruI5P1WcOLP4B/54iOENH4/BYvQr5sYIbQv4usfj8We9zjz6ktkPFWUvRIK4wJIO4UxqvQPF9dcmAeY3pAu6PdGSXZPIYUxTh9nkPS/Nvdo93l8ChHfBq71P9nuBYrItAe0/wF3dXf8cyktGl8Svj2Z1ugpqabx0yGSE6NaMd/W/CJiU0BTRz4ObTw8/4Y4r30hjfjBRHqqU2l0IU7LPhEdZuE5Z4xSE3YygkdA68Al6diEApHV/z/8dwS4FCv90NWzx3O9pETc9lktf8K/FStuIKfnG/lWys1g0hmGJm1OrC6bFOBB1jn6ILEiuVWnbXFXxzIw7C0CoBZdmimVPNdc5SqjYhqfB58JxFEmVKvBunT08N/PHTLTU5JaX27zPCyd50glDNYRCWDJ9ojfhy+onzWm0qi6S2XGNNfoYsGQnccJ/vsTF8eu8YE9/EqWK3Ua6dqzvB2N4o2+v8fh1jIxxPBYcKQTEmROFXdgjZGAloQIlmKvoUqfINqNZtS94YBn4xsOFhO0Oj9DBfPgwa5MiiEu9lBeslHs9cegnrDVx/fRBzXmCdZdOYyq9Jg4sqrQMqovWjiP1plw5HpBiHjSyV/5Rd2Fw6sSb9CoGVo4cywCcisGFh2gfAZ0YTeYPU5G3Q6HlzuzCi4Z4DRJ85uRwhcCeLcA1ybTjbEepj5CS2b27mGRtuK0oolbsRmFn9fvPjyCCWXIkUKRyDZme70Cq\"/>\n",
       "</form>\n",
       "</div>\n",
       "</div>\n",
       "<script>\n",
       "    (function(){\n",
       "        window._cf_chl_opt={\n",
       "            cvId: '2',\n",
       "            cType: 'managed',\n",
       "            cNounce: '15163',\n",
       "            cRay: '76798fb88a948e4b',\n",
       "            cHash: 'cca675384b6b5f5',\n",
       "            cUPMDTk: \"\\/security\\/the-cloud-and-5g-security-apocalypse-is-only-matter-of-time\\/d\\/d-id\\/781259?__cf_chl_tk=BuB0GJe7qtdzvGHagNrI_cKZ_NPkeot5V4ZERqJaFnA-1668028501-0-gaNycGzNB6U\",\n",
       "            cFPWv: 'b',\n",
       "            cTTimeMs: '1000',\n",
       "            cTplV: 4,\n",
       "            cTplB: 'cf',\n",
       "            cRq: {\n",
       "                ru: 'aHR0cHM6Ly93d3cubGlnaHRyZWFkaW5nLmNvbS9zZWN1cml0eS90aGUtY2xvdWQtYW5kLTVnLXNlY3VyaXR5LWFwb2NhbHlwc2UtaXMtb25seS1tYXR0ZXItb2YtdGltZS9kL2QtaWQvNzgxMjU5',\n",
       "                ra: 'TW96aWxsYS81LjAgKE1hY2ludG9zaDsgSW50ZWwgTWFjIE9TIFggMTBfMTFfNSkgQXBwbGVXZWJLaXQvNTM3LjM2IChLSFRNTCwgbGlrZSBHZWNrbykgQ2hyb21lLzUwLjAuMjY2MS4xMDIgU2FmYXJpLzUzNy4zNg==',\n",
       "                rm: 'R0VU',\n",
       "                d: 'CsrgdFhQ/tpLNtU1pxqySmUuMCagh6N6Wvxg8oSHh6PAsot2TLNafMFi+GPl0DOW3D8pgetvkinyAJLOMFsZC30Vi+xVu45huvO9adeBNJip3SWhF1j0qPyLv4/Izrv4ZqkdZej2ifirVg0NKNnINv6dCN4Y7CmE4l5pH4ZBqIr+JmUdqMZOk+JuVM/0LcBCfg53Iq2ieDx0cYAD9F4bpIhwo3Nxhyxh0YuaepHxrp9xYMC4DopecBRbYuJzK9cOqaD2orZYE7PhRajREdCLk5CJvfU6gJBSVK6WSLn2A3vo9UqZVMTnLY5YsHllc/JXq3yzvSAUXmRrKQYqIaMo45GT1wmITqo4QNODoHWCvb4fi0Zn3JiWV1Ytj58lDcbL7WxAch777iYKwUHGB7/Iv8AUR/fRbKMekV54p57e5bERrYlX3bPdIRn5pAQ3U21op3Uqn7RDVE7yDZH1iv+tmjMd2kYJc6G0PwV0i+Hhn+hcwyAPxXZqFi46+14FdZKp4icJiR4AfyHihaMNJcjykuLruSG923/vJPwmaJDq+qTnoIGfzY0RyKQZKkYbvDjLNM8D6yAhWpkTNWzD/WkGaIQmMDe9MBqmiNBuvA0CQvRa9Mi+fDw9nk2Ya0lLsmpj959bO9/iwhZPFPp+Ds0D+K22NHoSOCUPE1HfpjmXA043RYMskeonXX0RJHUFF6+q',\n",
       "                t: 'MTY2ODAyODUwMS44NTQwMDA=',\n",
       "                m: 'ApaZcq2Db40+DoUGNSRfDtJv8q1PgalMWnu6TsBSNMs=',\n",
       "                i1: 'N0VagfllK5/1NE6LnaAcRA==',\n",
       "                i2: 'wxBRgbued7un6Jsq62JNiQ==',\n",
       "                zh: 'qHXlPnks1J312YbJPZTpGBJRhjpDmsUqOp6XYO9l1dY=',\n",
       "                uh: 'MJnL4yXqlDXgoEFDXJrrYdndq9vyeF7u7u/p5sDi8wY=',\n",
       "                hh: 'mV2o9l5v6BMu/6v7WPAlnWBhmZqR9ZsT2LoS4yjss3k=',\n",
       "            }\n",
       "        };\n",
       "        var trkjs = document.createElement('img');\n",
       "        trkjs.setAttribute('src', '/cdn-cgi/images/trace/managed/js/transparent.gif?ray=76798fb88a948e4b');\n",
       "        trkjs.setAttribute('style', 'display: none');\n",
       "        document.body.appendChild(trkjs);\n",
       "        var cpo = document.createElement('script');\n",
       "        cpo.src = '/cdn-cgi/challenge-platform/h/b/orchestrate/managed/v1?ray=76798fb88a948e4b';\n",
       "        window._cf_chl_opt.cOgUHash = location.hash === '' && location.href.indexOf('#') !== -1 ? '#' : location.hash;\n",
       "        window._cf_chl_opt.cOgUQuery = location.search === '' && location.href.slice(0, -window._cf_chl_opt.cOgUHash.length).indexOf('?') !== -1 ? '?' : location.search;\n",
       "        if (window.history && window.history.replaceState) {\n",
       "            var ogU = location.pathname + window._cf_chl_opt.cOgUQuery + window._cf_chl_opt.cOgUHash;\n",
       "            history.replaceState(null, null, \"\\/security\\/the-cloud-and-5g-security-apocalypse-is-only-matter-of-time\\/d\\/d-id\\/781259?__cf_chl_rt_tk=BuB0GJe7qtdzvGHagNrI_cKZ_NPkeot5V4ZERqJaFnA-1668028501-0-gaNycGzNB6U\" + window._cf_chl_opt.cOgUHash);\n",
       "            cpo.onload = function() {\n",
       "                history.replaceState(null, null, ogU);\n",
       "            };\n",
       "        }\n",
       "        document.getElementsByTagName('head')[0].appendChild(cpo);\n",
       "    }());\n",
       "</script>\n",
       "<div class=\"footer\" role=\"contentinfo\">\n",
       "<div class=\"footer-inner\">\n",
       "<div class=\"clearfix diagnostic-wrapper\">\n",
       "<div class=\"ray-id\">Ray ID: <code>76798fb88a948e4b</code></div>\n",
       "</div>\n",
       "<div class=\"text-center\">Performance &amp; security by <a href=\"https://www.cloudflare.com?utm_source=challenge&amp;utm_campaign=m\" rel=\"noopener noreferrer\" target=\"_blank\">Cloudflare</a></div>\n",
       "</div>\n",
       "</div>\n",
       "</body>\n",
       "</html>"
      ]
     },
     "execution_count": 237,
     "metadata": {},
     "output_type": "execute_result"
    }
   ],
   "source": [
    "soup"
   ]
  },
  {
   "cell_type": "code",
   "execution_count": 230,
   "metadata": {},
   "outputs": [
    {
     "data": {
      "text/plain": [
       "[<p>NASA has suggested an experimental cooling system it is funding could ultimately allow electric vehicle users to charge their cars within five minutes.</p>,\n",
       " <p>The agency said a team led by a Purdue University professor has developed the “subcooled flow boiling” technology for experimentation, with the hope it can control future systems’ temperatures in space.</p>,\n",
       " <p>“A team sponsored by NASA’s Biological and Physical Sciences Division is developing a new technology that will not only achieve orders-of-magnitude improvement in heat transfer to enable these systems to maintain proper temperatures in space, but will also enable significant reductions in size and weight of the hardware,” NASA <a href=\"https://science.nasa.gov/technology/technology-highlights/cooling-technique-developed-for-space-use-makes-charging-electric-cars-on-earth-quicker-and-easier\">said in a blog post last week</a>. </p>,\n",
       " <p>“What’s more, this same technology may make owning an electric-powered car here on Earth easier and more feasible,” the post continued.</p>,\n",
       " <p>NASA indicated achieving such a feat of charging electric vehicles within five minutes would require chargers to provide current at 1,400 amperes, far higher than currently available technology.</p>,\n",
       " <p>Most chargers currently available support currents less than 150 amperes, while some of the most advanced chargers on the market deliver currents up to 520 amperes, the post noted.</p>,\n",
       " <p>But NASA said Purdue University’s developmental cable can provide currents of up to 2,400 amperes by removing heat through the new technology, which would deliver charging at 4.6 times the rate of the fastest charger currently available.</p>,\n",
       " <p>“Application of this new technology resulted in unprecedented reduction of the time required to charge a vehicle and may remove one of the key barriers to worldwide adoption of electric vehicles,” NASA wrote.</p>,\n",
       " <p>President Biden has emphasized a shift to electric vehicles as a significant component of his climate initiatives, but the proposals have been met with criticism among some in the GOP, who have <a href=\"https://thehill.com/driving-into-the-future/3513613-democrats-walk-tightrope-in-push-for-electric-vehicles/\">portrayed the plans as elitist and boons for the rich</a>.</p>,\n",
       " <p>Questions have also been raised about whether the U.S. electrical grid could even handle a hard shift toward electric vehicles. </p>,\n",
       " <p>The Inflation Reduction Act, a party-line reconciliation package passed over the summer, includes billions in funding for electric vehicle tax credits and other financial incentives.</p>,\n",
       " <p>It also includes a $7.5 billion investment to build a network of charging stations across the U.S.</p>,\n",
       " <p>“The great American road trip is going to be fully electrified,” Biden <a href=\"https://thehill.com/policy/energy-environment/3643005-biden-touts-funds-for-ev-charging-network-in-35-states-will-be-as-easy-to-find-as-gas-stations/\">said in Detroit last month</a>. “Whether you’re driving coast to coast along I-10 or on I-75 here in Michigan, charging stations will be up and easy to find as gas stations are now.”</p>]"
      ]
     },
     "execution_count": 230,
     "metadata": {},
     "output_type": "execute_result"
    }
   ],
   "source": [
    "soup.find(\"div\", {\"class\":\"article__text | body-copy | flow\"}).find_all('p')"
   ]
  },
  {
   "cell_type": "code",
   "execution_count": 231,
   "metadata": {},
   "outputs": [
    {
     "data": {
      "text/plain": [
       "'NASA has suggested an experimental cooling system it is funding could ultimately allow electric vehicle users to charge their cars within five minutes.The agency said a team led by a Purdue University professor has developed the “subcooled flow boiling” technology for experimentation, with the hope it can control future systems’ temperatures in space.“A team sponsored by NASA’s Biological and Physical Sciences Division is developing a new technology that will not only achieve orders-of-magnitude improvement in heat transfer to enable these systems to maintain proper temperatures in space, but will also enable significant reductions in size and weight of the hardware,” NASA“What’s more, this same technology may make owning an electric-powered car here on Earth easier and more feasible,” the post continued.NASA indicated achieving such a feat of charging electric vehicles within five minutes would require chargers to provide current at 1,400 amperes, far higher than currently available technology.Most chargers currently available support currents less than 150 amperes, while some of the most advanced chargers on the market deliver currents up to 520 amperes, the post noted.But NASA said Purdue University’s developmental cable can provide currents of up to 2,400 amperes by removing heat through the new technology, which would deliver charging at 4.6 times the rate of the fastest charger currently available.“Application of this new technology resulted in unprecedented reduction of the time required to charge a vehicle and may remove one of the key barriers to worldwide adoption of electric vehicles,” NASA wrote.President Biden has emphasized a shift to electric vehicles as a significant component of his climate initiatives, but the proposals have been met with criticism among some in the GOP, who haveQuestions have also been raised about whether the U.S. electrical grid could even handle a hard shift toward electric vehicles.The Inflation Reduction Act, a party-line reconciliation package passed over the summer, includes billions in funding for electric vehicle tax credits and other financial incentives.It also includes a $7.5 billion investment to build a network of charging stations across the U.S.“The great American road trip is going to be fully electrified,” Biden'"
      ]
     },
     "execution_count": 231,
     "metadata": {},
     "output_type": "execute_result"
    }
   ],
   "source": [
    "body = soup.find(\"div\", {\"class\":\"article__text | body-copy | flow\"}).find_all('p')\n",
    "text = \"\".join([p.find_next(text=True).strip() for p in body])\n",
    "text"
   ]
  },
  {
   "cell_type": "code",
   "execution_count": 166,
   "metadata": {},
   "outputs": [
    {
     "data": {
      "text/plain": [
       "'Research from The University of Queensland has found no link between community water fluoridation and adverse effects on children’s brain development.Professor Loc Do“We found emotional and behavioural development, and functions such as memory and self-control, were at least equivalent to those who had no exposure to fluoridated water,” Professor Do said.“In other words, there was no difference in child development and function related to fluoridated water.“This finding shows that consuming water with fluoride at levels used for public supplies in Australia is safe and it supports continuing and expanding fluoridation programs.”Currently, approximately 90 per cent of the Australian population has access to fluoridated water, although in Queensland it is 71 per cent.Many regional Queensland areas and Aboriginal and Torres Strait Islander communities are not covered by a fluoridation program.“A small but vocal group of people sometimes claims that water fluoridation can have adverse neurodevelopment effects, especially in young children,” Professor Do said.“This concern can impact community and public health support for the practice, but our research provides reassurance that it is safe and supports its expansion into more communities.“This is an important message because fluoride is extremely effective in preventing tooth decay and its use in water and toothpaste is credited with significant improvements in child dental health in Australia.”Dental caries (also known as tooth decay or dental cavities) is the most common chronic childhood disease worldwide causing pain and infection and can lead to tooth extraction.The UQ study followed up child participants of Australia’s National Child Oral Health study 2012-2014 when they were aged 12 to 17 years.It measured their emotional and behavioural development using a Strengths and Difficulties Questionnaire and executive brain function using the Behaviour Rating Inventory of Executive Function - both instruments widely used in population health surveys.The study was funded by a National Health and Medical Research Council Project grant, and it is a collaboration between The University of Queensland, University of Adelaide and University of Western Australia in Australia, along with the University of Bristol in the UK.The study is published in theMedia: Professor Loc Do,'"
      ]
     },
     "execution_count": 166,
     "metadata": {},
     "output_type": "execute_result"
    }
   ],
   "source": [
    "\"\".join([p.find_next(text=True).strip() for p in body])"
   ]
  },
  {
   "cell_type": "code",
   "execution_count": 146,
   "metadata": {},
   "outputs": [],
   "source": [
    "soup.find('h1', {\"class\":\"posttitle\"})"
   ]
  },
  {
   "cell_type": "code",
   "execution_count": 139,
   "metadata": {},
   "outputs": [
    {
     "data": {
      "text/plain": [
       "[<p class=\"Component-root-0-2-46 p Component-p-0-2-37\">WASHINGTON (AP) — Nearly 400 school districts spanning all 50 states and Washington, D.C., along with several tribes and U.S. territories, are receiving roughly $1 billion in grants to purchase about 2,500 “clean” school buses under a new federal program.</p>,\n",
       " <p class=\"Component-root-0-2-46 p Component-p-0-2-37\">The Biden administration is making the grants available as part of a wider effort to accelerate <a class=\"paragraph-link\" href=\"/article/technology-california-clean-air-act-vehicle-emissions-standards-eebb48c13e24835f2c5b9cb56796182a\">the transition to zero-emission vehicles</a><!-- --> and reduce air pollution near schools and communities. </p>,\n",
       " <p class=\"Component-root-0-2-46 p Component-p-0-2-37\">Vice President <a class=\"paragraph-link\" href=\"/hub/kamala-harris\">Kamala Harris</a><!-- --> and <a class=\"paragraph-link\" href=\"/hub/us-environmental-protection-agency\">Environmental Protection Agency</a><!-- --> Administrator Michael Regan announced the grant awards Wednesday in Seattle. The new, mostly <a class=\"paragraph-link\" href=\"/hub/electric-vehicles\">electric</a><!-- --> school buses will reduce <a class=\"paragraph-link\" href=\"/hub/emissions-reduction\">greenhouse gas emissions</a><!-- -->, save money and better protect children’s health, they said.</p>,\n",
       " <p class=\"Component-root-0-2-46 p Component-p-0-2-37\">As many as 25 million children ride yellow buses each school day, and they will have a healthier future with a cleaner fleet, Harris said. </p>,\n",
       " <p class=\"Component-root-0-2-46 p Component-p-0-2-37\">“We are witnessing around our country and around the world the effects of extreme climate,” she said. “What we’re announcing today is a step forward in our nation’s commitment to reduce greenhouse gases, to invest in our economy ... to invest in building the skills of America’s workforce. All with the goal of not only saving our children, but for them, saving our planet.″</p>,\n",
       " <p class=\"Component-root-0-2-46 p Component-p-0-2-37\">Only about 1% of the nation’s 480,000 school buses were electric as of last year, but the push to abandon traditional diesel buses has gained momentum in recent years. Money for the new purchases is available under the federal Clean School Bus Program, which includes $5 billion from <a class=\"paragraph-link\" href=\"/article/joe-biden-congress-infrastructure-bill-signing-b5b8cca843133de060778f049861b144\">the bipartisan infrastructure law</a><!-- --> President Joe Biden signed last year.</p>,\n",
       " <p class=\"Component-root-0-2-46 p Component-p-0-2-37\">The clean bus program “is accelerating our nation’s transition to electric and low-emission school buses while ensuring a brighter, healthier future for our children,” Regan said.</p>,\n",
       " <p class=\"Component-root-0-2-46 p Component-p-0-2-37\">The EPA initially made $500 million available for clean buses in May but increased that to $965 million last month, responding to what officials called overwhelming demand for electric buses. An additional $1 billion is set to be awarded in the budget year that began Oct. 1.</p>,\n",
       " <p class=\"Component-root-0-2-46 p Component-p-0-2-37\">The EPA said it received about 2,000 applications requesting nearly $4 billion for more than 12,000 buses, mostly electric. Some 389 applications worth $913 million were accepted to support purchase of 2,463 buses, 95% of which will be electric, the EPA said. The remaining buses will run on compressed natural gas or propane. </p>,\n",
       " <p class=\"Component-root-0-2-46 p Component-p-0-2-37\">School districts identified as priority areas serving low-income, rural or tribal students make up 99% of the projects that were selected, the White House said. More applications are under review, and the EPA plans to select more winners to reach the full $965 million in coming weeks.</p>,\n",
       " <p class=\"Component-root-0-2-46 p Component-p-0-2-37\">Districts set to receive money range from Wrangell, Alaska, to Anniston, Alabama, and Teton County, Wyoming, to Wirt County, West Virginia. Besides the District of Columbia, big cities that won grants for clean school buses include New York, Dallas, Houston, Atlanta and Los Angeles.</p>,\n",
       " <p class=\"Component-root-0-2-46 p Component-p-0-2-37\">White House adviser Mitch Landrieu said he expects many buses to be delivered by the start of the next school year, with the remainder likely to be in service by the end of 2023. The billion dollars being spent this year — along with an additional $4 billon expected over the next four years — should “supercharge” a domestic manufacturing boom for electric school buses, said Landrieu, a former New Orleans mayor tapped by Biden to oversee spending in the massive infrastructure law.</p>,\n",
       " <p class=\"Component-root-0-2-46 p Component-p-0-2-37\">“These buses will be made in America — real jobs with real wages,″ Landrieu said in an interview. “We are going to ramp up manufacturing in this country.″</p>,\n",
       " <p class=\"Component-root-0-2-46 p Component-p-0-2-37\">Environmental and public health groups hailed the announcement, which comes after years of advocacy to replace diesel-powered buses with cleaner alternatives. </p>,\n",
       " <p class=\"Component-root-0-2-46 p Component-p-0-2-37\">“It doesn’t make sense to send our kids to school on buses that create brain-harming, lung-harming, cancer-causing, climate-harming pollution,″ said Molly Rauch, public health policy director for Moms Clean Air Force, an environmental group. “Our kids, our bus drivers and our communities deserve better.″</p>]"
      ]
     },
     "execution_count": 139,
     "metadata": {},
     "output_type": "execute_result"
    }
   ],
   "source": [
    "soup.find('div', {\"class\":\"Article\"}).find_all('p')"
   ]
  },
  {
   "cell_type": "code",
   "execution_count": 70,
   "metadata": {},
   "outputs": [
    {
     "data": {
      "text/plain": [
       "['https://www.newsweek.com/baby-alpaca-learns-walk-again-prosthetic-leg-adorable-clip-1749410?',\n",
       " 'https://academic.oup.com/humupd/article/28/4/457/6555833?login=false',\n",
       " 'https://www.fiercebiotech.com/research/ut-austin-scientists-design-safer-cas9-improved-crispr-gene-editing-accuracy',\n",
       " 'https://www.wsj.com/articles/metas-facebook-says-its-new-vr-headset-could-replace-workers-pcs-11665521118?st=w9xk0vs5je9lyo1&reflink=share_mobilewebshare',\n",
       " 'https://www.sciencedirect.com/science/article/pii/S1877050922012777',\n",
       " 'https://www.lightreading.com/security/the-cloud-and-5g-security-apocalypse-is-only-matter-of-time/d/d-id/781259',\n",
       " 'https://www.abc.net.au/news/science/2022-10-26/extreme-miyake-radiation-events-tree-rings-solar-storms/101563738',\n",
       " 'https://onlinelibrary.wiley.com/doi/full/10.1002/smj.3459',\n",
       " 'https://www.wsj.com/articles/solar-rollout-rouses-resistance-in-europes-countryside-11665234001',\n",
       " 'https://www.autoevolution.com/news/harvard-engineers-invent-a-solid-state-battery-that-never-dies-it-s-a-game-changer-198518.html',\n",
       " 'https://www.science.org/doi/10.1126/sciadv.abq0135',\n",
       " 'https://www.pnas.org/doi/10.1073/pnas.2210525119',\n",
       " 'https://www.science.org/doi/10.1126/sciadv.add3726',\n",
       " 'https://thehill.com/policy/energy-environment/3669504-supreme-court-to-hear-case-that-could-have-massive-impact-on-us-water-quality/',\n",
       " 'https://www.wsj.com/articles/methane-emissions-from-oil-and-gas-wells-are-much-higher-than-thought-study-shows-11664474402?mod=hp_lead_pos6',\n",
       " 'https://www.sciencedirect.com/science/article/abs/pii/S0025326X22007627?via%3Dihub',\n",
       " 'https://agupubs.onlinelibrary.wiley.com/doi/abs/10.1029/2022JD036761',\n",
       " 'https://www.sciencedirect.com/science/article/pii/S0269749122011022?via%3Dihub',\n",
       " 'https://www.science.org/doi/10.1126/sciadv.abq6974',\n",
       " 'https://www.sciencedirect.com/science/article/pii/S0091743522003140',\n",
       " 'https://academic.oup.com/eurheartj/advance-article/doi/10.1093/eurheartj/ehac613/6770665?login=false',\n",
       " 'https://www.sciencedirect.com/science/article/abs/pii/S0925492722001172',\n",
       " 'https://www.sciencedirect.com/science/article/pii/S0306460322002908',\n",
       " 'https://doi.org/10.1016/j.humov.2022.103016',\n",
       " 'https://onlinelibrary.wiley.com/doi/full/10.1111/obr.13462',\n",
       " 'https://www.uq.edu.au/news/article/2022/09/research-shows-water-fluoridation-safe-children',\n",
       " 'https://www.sciencedirect.com/science/article/abs/pii/S0149763422003967',\n",
       " 'https://www.sciencedirect.com/science/article/abs/pii/S0379073822002687',\n",
       " 'https://onlinelibrary.wiley.com/doi/epdf/10.1111/add.15911?%2F%3Futm_source=google&utm_medium=cpc&utm_campaign=Campaign_Sciad_R3MR425_Hybrid_NursingDentistry',\n",
       " 'https://www.sciencedirect.com/science/article/pii/S0091743522003115',\n",
       " 'https://www.tomshardware.com/news/lithograhy-tool-russia-7nm-2028',\n",
       " 'https://www.tomshardware.com/news/1200w-power-requirement-rtx-4090',\n",
       " 'https://academic.oup.com/zoolinnean/advance-article-abstract/doi/10.1093/zoolinnean/zlac089/6768673',\n",
       " 'https://www.techdirt.com/2022/10/26/signal-says-it-will-exit-india-rather-than-compromise-its-encryption/',\n",
       " 'https://journals.sagepub.com/doi/10.1177/09567976221118541',\n",
       " 'https://www.tandfonline.com/doi/abs/10.1080/02699931.2022.2128064?journalCode=pcem20',\n",
       " 'https://journals.sagepub.com/doi/10.1177/09567976221112936',\n",
       " 'https://siliconangle.com/2022/10/05/intel-hits-major-milestone-moves-toward-mass-production-quantum-computer-chips/',\n",
       " 'https://www.wsj.com/articles/chinas-factories-accelerate-robotics-push-as-workforce-shrinks-11663493405',\n",
       " 'https://www.thegamer.com/discord-bans-68000-servers-55-million-accounts/',\n",
       " 'https://www.techdirt.com/2022/10/19/yes-buyout-of-parler-looks-very-much-like-a-failed-company-taking-advantage-of-troubled-rich-guy/',\n",
       " 'https://journals.sagepub.com/doi/10.1177/00197939221129261',\n",
       " 'https://www.tandfonline.com/doi/abs/10.1080/03057240.2022.2109606?journalCode=cjme20',\n",
       " 'https://www.sciencedirect.com/science/article/abs/pii/S009265662200126X',\n",
       " 'https://academic.oup.com/nsr/advance-article/doi/10.1093/nsr/nwac200/6712344?login=false',\n",
       " 'https://thehill.com/policy/energy-environment/3685583-nasa-suggests-new-space-cooling-technology-could-charge-electric-cars-in-5-minutes/',\n",
       " 'https://thehill.com/opinion/technology/3647216-china-has-returned-helium-3-from-the-moon-opening-door-to-future-technology/',\n",
       " 'https://apnews.com/article/business-kamala-harris-seattle-washington-pollution-16405c66d405103374d6f78db6ed2a04',\n",
       " 'https://apnews.com/article/technology-germany-europe-berlin-climate-and-environment-75afb2820d22c3d53b136b2ab2841767']"
      ]
     },
     "execution_count": 70,
     "metadata": {},
     "output_type": "execute_result"
    }
   ],
   "source": [
    "prob_urls"
   ]
  },
  {
   "cell_type": "code",
   "execution_count": null,
   "metadata": {},
   "outputs": [],
   "source": []
  },
  {
   "cell_type": "markdown",
   "metadata": {},
   "source": []
  }
 ],
 "metadata": {
  "kernelspec": {
   "display_name": "Python 3.9.12 ('base')",
   "language": "python",
   "name": "python3"
  },
  "language_info": {
   "codemirror_mode": {
    "name": "ipython",
    "version": 3
   },
   "file_extension": ".py",
   "mimetype": "text/x-python",
   "name": "python",
   "nbconvert_exporter": "python",
   "pygments_lexer": "ipython3",
   "version": "3.9.13"
  },
  "orig_nbformat": 4,
  "vscode": {
   "interpreter": {
    "hash": "ad2bdc8ecc057115af97d19610ffacc2b4e99fae6737bb82f5d7fb13d2f2c186"
   }
  }
 },
 "nbformat": 4,
 "nbformat_minor": 2
}
