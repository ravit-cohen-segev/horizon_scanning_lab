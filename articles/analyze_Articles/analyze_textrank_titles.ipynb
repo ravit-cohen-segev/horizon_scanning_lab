{
 "cells": [
  {
   "cell_type": "code",
   "execution_count": 122,
   "metadata": {},
   "outputs": [],
   "source": [
    "import pandas as pd\n",
    "from newspaper import Article\n",
    "import spacy\n",
    "import plotly.express as px\n",
    "import numpy as np\n",
    "import pytextrank"
   ]
  },
  {
   "cell_type": "code",
   "execution_count": 123,
   "metadata": {},
   "outputs": [
    {
     "data": {
      "text/plain": [
       "<pytextrank.base.BaseTextRankFactory at 0x259d8a8cdf0>"
      ]
     },
     "execution_count": 123,
     "metadata": {},
     "output_type": "execute_result"
    }
   ],
   "source": [
    "# load a spaCy model, depending on language, scale, etc.\n",
    "nlp = spacy.load(\"en_core_web_sm\")\n",
    "\n",
    "# add PyTextRank to the spaCy pipeline\n",
    "nlp.add_pipe(\"textrank\")\n"
   ]
  },
  {
   "cell_type": "code",
   "execution_count": 124,
   "metadata": {},
   "outputs": [],
   "source": [
    "def analyze_text_textrank(doc, rank_threshold):\n",
    "    # examine the top-ranked phrases in the document\n",
    "    rank_d = {\"text\":[], \"rank\":[], \"count\":[]}\n",
    "\n",
    "    for phrase in doc._.phrases:\n",
    "        if phrase.rank >= rank_threshold:\n",
    "            rank_d['text'].append(phrase.text)\n",
    "            rank_d['rank'].append(phrase.rank)\n",
    "            rank_d['count'].append(phrase.count)\n",
    "    \n",
    "    return rank_d "
   ]
  },
  {
   "cell_type": "markdown",
   "metadata": {},
   "source": [
    "1. Run an Example"
   ]
  },
  {
   "cell_type": "code",
   "execution_count": 125,
   "metadata": {},
   "outputs": [],
   "source": [
    "path = r\"C:\\Users\\Ravit\\Documents\\rnd\\horizon_scanning_lab\\articles\\analyze_Articles\\final_results\\bertopic\\abtracts_bertopic_clusters.csv\""
   ]
  },
  {
   "cell_type": "code",
   "execution_count": 126,
   "metadata": {},
   "outputs": [],
   "source": [
    "df  = pd.read_csv(path)"
   ]
  },
  {
   "cell_type": "code",
   "execution_count": 127,
   "metadata": {},
   "outputs": [
    {
     "data": {
      "text/plain": [
       "Index(['Unnamed: 0', 'Topic', 'label', 'link', 'abstract', 'titles'], dtype='object')"
      ]
     },
     "execution_count": 127,
     "metadata": {},
     "output_type": "execute_result"
    }
   ],
   "source": [
    "df.columns"
   ]
  },
  {
   "cell_type": "code",
   "execution_count": 128,
   "metadata": {},
   "outputs": [],
   "source": [
    "df.drop(['Unnamed: 0'], axis=1, inplace=True)"
   ]
  },
  {
   "cell_type": "code",
   "execution_count": 129,
   "metadata": {},
   "outputs": [
    {
     "data": {
      "text/html": [
       "<div>\n",
       "<style scoped>\n",
       "    .dataframe tbody tr th:only-of-type {\n",
       "        vertical-align: middle;\n",
       "    }\n",
       "\n",
       "    .dataframe tbody tr th {\n",
       "        vertical-align: top;\n",
       "    }\n",
       "\n",
       "    .dataframe thead th {\n",
       "        text-align: right;\n",
       "    }\n",
       "</style>\n",
       "<table border=\"1\" class=\"dataframe\">\n",
       "  <thead>\n",
       "    <tr style=\"text-align: right;\">\n",
       "      <th></th>\n",
       "      <th>Topic</th>\n",
       "      <th>label</th>\n",
       "      <th>link</th>\n",
       "      <th>abstract</th>\n",
       "      <th>titles</th>\n",
       "    </tr>\n",
       "  </thead>\n",
       "  <tbody>\n",
       "    <tr>\n",
       "      <th>0</th>\n",
       "      <td>-1</td>\n",
       "      <td>-1_new_said_study_people</td>\n",
       "      <td>http://jhr.uwpress.org/content/early/2022/10/0...</td>\n",
       "      <td>We study how ambient lead exposure impacts lea...</td>\n",
       "      <td>A Thousand Cuts: Cumulative Lead Exposure Redu...</td>\n",
       "    </tr>\n",
       "    <tr>\n",
       "      <th>1</th>\n",
       "      <td>-1</td>\n",
       "      <td>-1_new_said_study_people</td>\n",
       "      <td>https://www.eurekalert.org/news-releases/967553</td>\n",
       "      <td>RIVERSIDE, Calif. -- Thirdhand smoke, or THS, ...</td>\n",
       "      <td>Thirdhand smoke can trigger skin diseases</td>\n",
       "    </tr>\n",
       "    <tr>\n",
       "      <th>2</th>\n",
       "      <td>-1</td>\n",
       "      <td>-1_new_said_study_people</td>\n",
       "      <td>https://www.eurekalert.org/news-releases/965575</td>\n",
       "      <td>Deep Longevity bridges the gap between the con...</td>\n",
       "      <td>Being lonely and unhappy accelerates aging mor...</td>\n",
       "    </tr>\n",
       "    <tr>\n",
       "      <th>3</th>\n",
       "      <td>-1</td>\n",
       "      <td>-1_new_said_study_people</td>\n",
       "      <td>https://www.eurekalert.org/news-releases/958880</td>\n",
       "      <td>By subjecting a quantum computer’s qubits to q...</td>\n",
       "      <td>Strange new phase of matter created in quantum...</td>\n",
       "    </tr>\n",
       "    <tr>\n",
       "      <th>4</th>\n",
       "      <td>-1</td>\n",
       "      <td>-1_new_said_study_people</td>\n",
       "      <td>https://www.engadget.com/zipline-drone-deliver...</td>\n",
       "      <td>Zipline has teamed up with a healthcare provid...</td>\n",
       "      <td>Zipline drones will deliver medicine to commun...</td>\n",
       "    </tr>\n",
       "    <tr>\n",
       "      <th>...</th>\n",
       "      <td>...</td>\n",
       "      <td>...</td>\n",
       "      <td>...</td>\n",
       "      <td>...</td>\n",
       "      <td>...</td>\n",
       "    </tr>\n",
       "    <tr>\n",
       "      <th>586</th>\n",
       "      <td>12</td>\n",
       "      <td>12_women_health_pill_cycles</td>\n",
       "      <td>https://techcrunch.com/2019/09/29/badass-mille...</td>\n",
       "      <td>Across the political, social and economic stag...</td>\n",
       "      <td>Badass millennial women are supercharging star...</td>\n",
       "    </tr>\n",
       "    <tr>\n",
       "      <th>587</th>\n",
       "      <td>12</td>\n",
       "      <td>12_women_health_pill_cycles</td>\n",
       "      <td>https://techcrunch.com/2020/08/28/femtech-pois...</td>\n",
       "      <td>The market for female-focused health products ...</td>\n",
       "      <td>Femtech poised for growth beyond fertility</td>\n",
       "    </tr>\n",
       "    <tr>\n",
       "      <th>588</th>\n",
       "      <td>12</td>\n",
       "      <td>12_women_health_pill_cycles</td>\n",
       "      <td>https://techcrunch.com/2020/02/09/hannah-seal-...</td>\n",
       "      <td>Index Fund’s portfolio is driving long-overdue...</td>\n",
       "      <td>Index Fundâs portfolio is driving long-overd...</td>\n",
       "    </tr>\n",
       "    <tr>\n",
       "      <th>589</th>\n",
       "      <td>12</td>\n",
       "      <td>12_women_health_pill_cycles</td>\n",
       "      <td>https://techcrunch.com/2021/05/25/acuitymd-rai...</td>\n",
       "      <td>In a world defined by tons of noise and little...</td>\n",
       "      <td>AcuityMD raises $7M to better track the evolvi...</td>\n",
       "    </tr>\n",
       "    <tr>\n",
       "      <th>590</th>\n",
       "      <td>12</td>\n",
       "      <td>12_women_health_pill_cycles</td>\n",
       "      <td>https://techcrunch.com/2017/03/21/the-mednet-l...</td>\n",
       "      <td>A New York City startup called The Mednet toda...</td>\n",
       "      <td>The Mednet launches its âQuora for cancer,â...</td>\n",
       "    </tr>\n",
       "  </tbody>\n",
       "</table>\n",
       "<p>591 rows × 5 columns</p>\n",
       "</div>"
      ],
      "text/plain": [
       "     Topic                        label  \\\n",
       "0       -1     -1_new_said_study_people   \n",
       "1       -1     -1_new_said_study_people   \n",
       "2       -1     -1_new_said_study_people   \n",
       "3       -1     -1_new_said_study_people   \n",
       "4       -1     -1_new_said_study_people   \n",
       "..     ...                          ...   \n",
       "586     12  12_women_health_pill_cycles   \n",
       "587     12  12_women_health_pill_cycles   \n",
       "588     12  12_women_health_pill_cycles   \n",
       "589     12  12_women_health_pill_cycles   \n",
       "590     12  12_women_health_pill_cycles   \n",
       "\n",
       "                                                  link  \\\n",
       "0    http://jhr.uwpress.org/content/early/2022/10/0...   \n",
       "1      https://www.eurekalert.org/news-releases/967553   \n",
       "2      https://www.eurekalert.org/news-releases/965575   \n",
       "3      https://www.eurekalert.org/news-releases/958880   \n",
       "4    https://www.engadget.com/zipline-drone-deliver...   \n",
       "..                                                 ...   \n",
       "586  https://techcrunch.com/2019/09/29/badass-mille...   \n",
       "587  https://techcrunch.com/2020/08/28/femtech-pois...   \n",
       "588  https://techcrunch.com/2020/02/09/hannah-seal-...   \n",
       "589  https://techcrunch.com/2021/05/25/acuitymd-rai...   \n",
       "590  https://techcrunch.com/2017/03/21/the-mednet-l...   \n",
       "\n",
       "                                              abstract  \\\n",
       "0    We study how ambient lead exposure impacts lea...   \n",
       "1    RIVERSIDE, Calif. -- Thirdhand smoke, or THS, ...   \n",
       "2    Deep Longevity bridges the gap between the con...   \n",
       "3    By subjecting a quantum computer’s qubits to q...   \n",
       "4    Zipline has teamed up with a healthcare provid...   \n",
       "..                                                 ...   \n",
       "586  Across the political, social and economic stag...   \n",
       "587  The market for female-focused health products ...   \n",
       "588  Index Fund’s portfolio is driving long-overdue...   \n",
       "589  In a world defined by tons of noise and little...   \n",
       "590  A New York City startup called The Mednet toda...   \n",
       "\n",
       "                                                titles  \n",
       "0    A Thousand Cuts: Cumulative Lead Exposure Redu...  \n",
       "1            Thirdhand smoke can trigger skin diseases  \n",
       "2    Being lonely and unhappy accelerates aging mor...  \n",
       "3    Strange new phase of matter created in quantum...  \n",
       "4    Zipline drones will deliver medicine to commun...  \n",
       "..                                                 ...  \n",
       "586  Badass millennial women are supercharging star...  \n",
       "587         Femtech poised for growth beyond fertility  \n",
       "588  Index Fundâs portfolio is driving long-overd...  \n",
       "589  AcuityMD raises $7M to better track the evolvi...  \n",
       "590  The Mednet launches its âQuora for cancer,â...  \n",
       "\n",
       "[591 rows x 5 columns]"
      ]
     },
     "execution_count": 129,
     "metadata": {},
     "output_type": "execute_result"
    }
   ],
   "source": [
    "df"
   ]
  },
  {
   "cell_type": "markdown",
   "metadata": {},
   "source": [
    "Titles"
   ]
  },
  {
   "cell_type": "code",
   "execution_count": 130,
   "metadata": {},
   "outputs": [],
   "source": [
    "titles_list = df['titles'].to_list()"
   ]
  },
  {
   "cell_type": "code",
   "execution_count": 131,
   "metadata": {},
   "outputs": [],
   "source": [
    "def plot_ranks(d):\n",
    "    y_rank = d['rank']\n",
    "    x_index = list(np.arange(len(y_rank)))\n",
    "    fig = px.line(x=x_index, y=y_rank)\n",
    "    fig.show()\n",
    "    "
   ]
  },
  {
   "cell_type": "code",
   "execution_count": 132,
   "metadata": {},
   "outputs": [
    {
     "data": {
      "text/plain": [
       "['A Thousand Cuts: Cumulative Lead Exposure Reduces Academic Achievement',\n",
       " 'Thirdhand smoke can trigger skin diseases',\n",
       " 'Being lonely and unhappy accelerates aging more than smoking',\n",
       " 'Strange new phase of matter created in quantum computer acts like it has two time dimensions',\n",
       " 'Zipline drones will deliver medicine to communities in Utah',\n",
       " 'T-Mobile will start charging a $35 fee on all new activations and upgrades',\n",
       " 'Scientists may have found an affordable way to destroy forever chemicals',\n",
       " 'Global emissions targets spell growth for CO2 tech sector',\n",
       " 'The end of Appleâ\\x80\\x99s affair with China',\n",
       " 'Nvidia says falling GPU prices are â\\x80\\x98a story of the pastâ\\x80\\x99',\n",
       " 'Columbia Study Finds Mass School Shootings Not Caused by Mental Illness',\n",
       " \"NASA's Webb Space Telescope Is So Good, We Might Need Improved Planetary Models\",\n",
       " \"Chipotle Mexican Grill will test robotic tortilla chip maker 'Chippy' in California restaurant\",\n",
       " \"Feds commit $50 million to for-profit nuclear fusion companies, chasing the 'holy grail' of clean energy\",\n",
       " 'China is testing a magnet-powered floating car that goes up to 143 miles per hourâ\\x80\\x94take a look',\n",
       " 'Scientists warn South Florida coastal cities will be affected by sea level rise',\n",
       " 'Conservative state policies generally associated with higher mortality',\n",
       " 'The hidden homeownership welfare state: an international long-term perspective on the tax treatment of homeowners',\n",
       " 'Short bursts of vigorous activity linked with increased longevity',\n",
       " 'Bats protect young trees from insect damage, with three times fewer bugs',\n",
       " 'Video game graphics are a ticking time bomb â\\x80\\x94 the industry needs to focus on art over tech',\n",
       " 'U.S. plans new limits on tech sent to Chinese firms',\n",
       " 'NASA announces its unidentified aerial phenomena research team to examine mysterious sightings',\n",
       " 'Record-breaking transparent solar panels pave way for electricity-generating windows',\n",
       " 'New drivers for the GeForce RTX 4090 also eliminate the DX12 bottleneck of the GeForce 3000 series â\\x80\\x93 so our launch test is right',\n",
       " 'EVGA pulls the plug with a loud bang, but it has been stewing for a long time | Editorial',\n",
       " 'The horror has a face â\\x80\\x93 NVIDIAâ\\x80\\x99s hot 12VHPWR adapter for the GeForce RTX 4090 with a built-in breaking point',\n",
       " 'The future of 8K TVs is in danger because the EU new consumption limits are too low.',\n",
       " 'â\\x80\\x98It was wonderfulâ\\x80\\x99: Eviationâ\\x80\\x99s Alice electric airplane wins praise after its first flight test',\n",
       " 'You may actually pay more with an Amazon discount',\n",
       " 'Airbus climbs past Boeing in single-aisle market share',\n",
       " 'Robotic surgery is a game changer for minimally invasive surgery',\n",
       " 'Neanderthals, humans co-existed in Europe for over 2,000 years: study',\n",
       " 'Reducing childhood poverty could cut criminal convictions by almost a quarter, study shows',\n",
       " 'TikTok perpetuates toxic diet culture among  teens and young adults',\n",
       " 'Factors influencing bike share among underserved populations: evidence from three US cities',\n",
       " 'Flatworm-inspired medical adhesives stop blood loss',\n",
       " \"The Great People Shortage is coming â\\x80\\x94 and it's going to cause global economic chaos\",\n",
       " 'Noctua unveils thermal paste guard for AMD AM5 Ryzen 7000 processors',\n",
       " 'UAE aims to convert oil wealth into tech prowess',\n",
       " 'Bill Gatesâ\\x80\\x99 Breakthrough Energy backs Terabaseâ\\x80\\x99s robot-built solar farms',\n",
       " 'Luminar to invest in Geely-affiliated Ecarx, eyes China market',\n",
       " 'United Arab Emirates launches $820M fund to boost domestic space economy',\n",
       " 'XFuel hopes to sail past biofuelsâ\\x80\\x99 troubled past with modular reactor design',\n",
       " 'Energize Ventures raises $330M to fund energy, mobility and climate resiliency technology',\n",
       " 'Zeitâ\\x80\\x99s early warning wearable for sleep strokes could save hours and lives',\n",
       " 'BrainQ raises $40M to transform stroke patient rehabilitation with its home therapy device',\n",
       " 'Astra hires longtime Apple veteran Benjamin Lyon as chief engineer',\n",
       " 'The US wants startups to get a piece of the $16 billion spent on space tech',\n",
       " 'Onit acquires legal startup McCarthyFinch to inject AI into legal workflows',\n",
       " 'Union Square Ventures leads legal tech startup Juroâ\\x80\\x99s $5M Series A',\n",
       " 'Elon Musk says building the first sustainable city on Mars will take 1,000 Starships and 20 years',\n",
       " 'Cambridge Uni graphene spin-out bags $16M to get its first product to market',\n",
       " 'DARPA wants smart bandages for wounded warriors',\n",
       " 'How this founder is SaaS-ifying air-quality tracking',\n",
       " 'Climate change: UN warns key warming threshold slipping from sight',\n",
       " 'Why Twitter anons are sending crypto to celebrities',\n",
       " 'One startupâ\\x80\\x99s solution to the carbon-offsetting mess: Downgrade the â\\x80\\x98middle-menâ\\x80\\x99 resellers',\n",
       " 'Media coverage of hurricanes reinforces images of people of color as victims, study finds',\n",
       " 'Study: â\\x80\\x9cCBD Might be Beneficial in Alleviating UVB-Induced Skin Damage in Humansâ\\x80\\x9d',\n",
       " 'The CIA Just Invested in Woolly Mammoth Resurrection Technology',\n",
       " 'Clear window coating could cool buildings without using energy',\n",
       " 'Laser attack blinds autonomous vehicles, deleting pedestrians and confusing cars',\n",
       " 'Laid off? Climate tech is looking for talent and founders',\n",
       " 'How to land investors who fund game-changing companies',\n",
       " 'GenZeroâ\\x80\\x99s Frederick Teo on â\\x80\\x98limitlessâ\\x80\\x99 opportunities in climate tech',\n",
       " 'Top climate tech deals net nearly $4B in Q3, outpacing other industries',\n",
       " 'Carbon accounting platform acquired by Sage as climate tech heats up',\n",
       " 'Earthmover to bring petascale data tools to climate tech with $1.7M pre-seed',\n",
       " 'Form Energyâ\\x80\\x99s iron-air battery on pace for 2024 launch with $450M Series E',\n",
       " '7 investors discuss how agtech can solve agricultureâ\\x80\\x99s biggest problems',\n",
       " 'LatAmâ\\x80\\x99s Gen-t is working to enrich biotech with Brazilian genomic data',\n",
       " 'Climate tech is a hot investment in 2022 â\\x80\\x94 next five years could be even hotter',\n",
       " 'Getting power from poop, with Levidianâ\\x80\\x99s Loop',\n",
       " \"Many scientists see fusion as the future of energy â\\x80\\x93 and they're betting big.\",\n",
       " 'Scientists are using AI to dream up revolutionary new proteins',\n",
       " 'Association of step counts over time with the risk of chronic disease in the',\n",
       " 'Russian University Vows to Build 7nm Chipmaking Tools',\n",
       " 'Intel Confirms Alder Lake BIOS Source Code Leak, New Details Emerge',\n",
       " 'Cloned cannabis cells with 12 times more potency are grown in Israeli bioreactor',\n",
       " 'Inside one of the worldâ\\x80\\x99s first human composting facilities',\n",
       " 'USB kills off SuperSpeed branding as it tries to simplify its ubiquitous connector',\n",
       " 'Tumblr will now allow nudity but not explicit sex',\n",
       " \"Microsoft boss Nadella's compensation pack swells 10% to $55m\",\n",
       " \"Rent-calculating software biz accused of colluding with 'cartel' of landlords\",\n",
       " 'How Google uses mirrors to dynamically reconfigure its networks',\n",
       " 'Linking interdisciplinary and multiscale approaches to improve healthspanâ\\x80\\x94a new UK model for collaborative research networks in ageing biology and clinical translation',\n",
       " 'Continuation of gender-affirming hormones in transgender people starting puberty suppression in adolescence: a cohort study in the Netherlands',\n",
       " 'Megalopolis: how coastal west Africa will shape the coming century',\n",
       " 'â\\x80\\x98Woman who can smell Parkinsonâ\\x80\\x99sâ\\x80\\x99 helps scientists develop test',\n",
       " 'Next pandemic may come from melting glaciers, new data shows',\n",
       " 'Leading the whey: the synthetic milk startups shaking up the dairy industry',\n",
       " 'Four terminal perovskite-silicon PV tandem devices hit 30% efficiency',\n",
       " 'Toxic â\\x80\\x98forever chemicalsâ\\x80\\x99 detected in commonly used insecticides in US, study finds',\n",
       " \"Could refusing to return to office mean a layoff? Job market's shifting tide may change the rules.\",\n",
       " 'This Startup Is Selling Tech to Make Call Center Workers Sound Like White Americans',\n",
       " 'Researchers Discover Substitutes For Rare Earth Materials In Magnets',\n",
       " 'Zap Energy nets $160M Series C to advance its lightning-in-a-bottle fusion tech',\n",
       " 'Climate change closing daily temperature gap; clouds may be to blame',\n",
       " 'Legl, a SaaS for law firm workflows, tops up with $18M',\n",
       " 'Baby Alpaca Learns to Walk Again Thanks to Prosthetic Leg in Adorable Clip',\n",
       " 'To raise a fund, this agtech outfit built a content company first (now it has $60 million to put to work)',\n",
       " 'GPS jammers are being used to hijack trucks and down drones: How to stop them',\n",
       " 'Application submitted for US',\n",
       " 'Climate Change Is Burying Archaeological Sites Under Tons of Sand',\n",
       " \"Lawsuit claims Google knew its â\\x80\\x98Incognito modeâ\\x80\\x99 doesn't protect usersâ\\x80\\x99 privacy\",\n",
       " 'Study finds climate change is bringing more intense rains to U.S.',\n",
       " 'In high-poverty L.A. neighborhoods, the poor pay more for internet service that delivers less',\n",
       " 'Workers at Combined Starbucks and Amazon Store File for Union Election',\n",
       " 'A Scientist Just Mathematically Proved That Alien Life In the Universe Is Likely to Exist',\n",
       " 'The Pacific Ocean Is Shrinking and Will Form a New Supercontinent, Scientists Say',\n",
       " 'After 80% population drop in 4 years, Alaska cancels snow crab season in unprecedented move',\n",
       " 'No one in physics dares say so, but the race to invent new particles is pointless',\n",
       " 'Tech firms becoming â\\x80\\x98too big to governâ\\x80\\x99, says Uber whistleblower',\n",
       " 'The catastrophic threat of thawing permafrost hangs over us all',\n",
       " \"We've run the numbers and Nvidia's RTX 4080 cards don't add up\",\n",
       " \"A single chip has managed to transfer the entire internet's traffic in a single second\",\n",
       " \"85% of the world's population will live in the grip of stringent austerity measures by next year\",\n",
       " 'Remote digital platform working is great, if you live in a city - Oxford study',\n",
       " 'Nvidia releases new benchmarks for its RTX 4080 graphics cards',\n",
       " 'In the Battle With Robots, Human Workers Are Winning',\n",
       " 'One Florida community built to weather hurricanes endured Ian with barely a scratch',\n",
       " 'Hair straightening chemicals associated with higher uterine cancer risk',\n",
       " 'Hair follicles grown in the lab in a step towards hair loss treatment',\n",
       " 'Two atomic clocks have been quantum entangled for the first time',\n",
       " 'The World is Running Out of Helium, Worrying Doctors',\n",
       " 'Sexual assault-related ER visits increased more than tenfold since 2006, study finds',\n",
       " 'Move over, diesel: Ohio gets â\\x80\\x98first of its kindâ\\x80\\x99 renewable gas station',\n",
       " 'Influence of the first-mover advantage on the gender disparities in physics citations',\n",
       " 'Alzheimerâ\\x80\\x99s disease large-scale gene expression portrait identifies exercise as the top theoretical treatment',\n",
       " 'Facebook Caused Poor Mental Health From the Beginning',\n",
       " 'New study identifies an increasing disinterest in fatherhood among childless men in the United States',\n",
       " 'New study suggests Trumpâ\\x80\\x99s 2020 election conspiracy theories undermined GOP turnout in the 2021 Georgia runoffs',\n",
       " 'Pornography is not to blame for erectile dysfunction, according to new research',\n",
       " 'Some 5G users think the technology has been overhyped, fail to notice speedÂ\\xa0improvements',\n",
       " \"SpaceX's Starlink internet service reaches Antarctica\",\n",
       " \"NASA investigating glitch on James Webb Space Telescope's ultracold camera\",\n",
       " \"Methane 'super-emitters' on Earth spotted by space station experiment\",\n",
       " 'What New Tech Is Revealing About Squishy, Prehistoric Cephalopods',\n",
       " 'Redditors show equal interest in female and male politicians, but not the same respect',\n",
       " 'Avoiding extinction: Some Asian animals found thriving near humans',\n",
       " 'The Pentagon is working on a radio wave weapon that stops a speeding car in its tracks',\n",
       " 'A Supersmeller Can Detect the Scent of Parkinsonâ\\x80\\x99s, Leading to an Experimental Test for the Illness',\n",
       " 'The James Webb Space Telescope spied the earliest born stars yet seen',\n",
       " 'Tiny Robots Have Successfully Cleared Pneumonia From The Lungs of Mice',\n",
       " \"Ukraine isn't the world's only nuclear flashpoint: Taiwan crisis is getting ugly\",\n",
       " \"Uber whistleblower says current business model 'absolutely' unsustainable\",\n",
       " 'Women are more critical of female toplessness than men, which may be explained by objectification theory',\n",
       " 'Trump votersâ\\x80\\x99 conspiracy beliefs about the Democratic party increased after the 2020 election, according to a five-wave study',\n",
       " 'Severe COVID-19 may increase the risk for schizophrenia',\n",
       " 'Some seabirds survive typhoons by flying into them',\n",
       " 'I want to hear your pitch in Oman this Thursday',\n",
       " 'Company that makes rent-setting software for landlords sued for collusion',\n",
       " 'Signatures of alien technology could be how humanity first finds extraterrestrial life',\n",
       " 'Worldâ\\x80\\x99s largest carbon removal facility could suck up 5 million metric tonnes of CO2 yearly',\n",
       " 'Engineers created a safe micro-nuclear reactor that fits in the back of a truck',\n",
       " 'Artificial Muscles Woven Into Smart Textiles Could Make Clothing Hyperfunctional',\n",
       " 'New chip transmits a record breaking 1.84 petabits of data per second',\n",
       " 'Spherical Tokamak for Energy Production',\n",
       " \"UK's new badass binocs combo infrared, GPS to target baddies three miles away\",\n",
       " 'Rubber tracks for military vechicles',\n",
       " 'Roads in the UK are so congested that they are making us less healthy and more lonely',\n",
       " 'Increased Risk for Stillbirth Passed Down Through Fathers, Male Relatives',\n",
       " 'Systematic test of maglev running in tube successful',\n",
       " 'Facebook Segments Ads by Race and Age Based on Photos Whether Advertisers Want It or Not, Study Says',\n",
       " 'Scientists Claim to Have Discovered the \"Secret Ingredient for Building Life\"',\n",
       " \"The JWST's Data Is So Incredible That Even Those Who Built It Are Questioning Previous Science\",\n",
       " 'VR on the battlefield, to the couch and back again â\\x80\\x94 sort of',\n",
       " 'Military veterans provide a new competitive advantage for tech companies',\n",
       " 'The second largest electric school bus fleet in the US just crossed 500,000 service miles',\n",
       " 'Poland builds a solar-powered bike path that glows a ghostly blue',\n",
       " 'Nuclear fusion reactor in Korea reaches 100 million degrees Celsius',\n",
       " 'US senator seeks antitrust review of apartment price-setting software',\n",
       " \"Scientists outlined one of the main problems if we ever find alien life, it's our politicians\",\n",
       " 'Quantum Breakthrough: Researchers Demonstrate Full Control of a Three-Qubit System',\n",
       " 'Scientists hit their creative peak early in their careers',\n",
       " 'Noctua confirms AM5 heatsink compatibility and announces free-of-charge upgrades for low-profile coolers and older heatsink models',\n",
       " 'Humble leaders can help make groups more effective',\n",
       " 'Considering COVID a hoax is â\\x80\\x98gatewayâ\\x80\\x99 to belief in conspiracy theories',\n",
       " 'Researchers use infrared light to wirelessly transmit power over 30 meters',\n",
       " 'Scientists discover exotic quantum state at room temperature',\n",
       " 'Republican Party lost core supporters after the attack on Capitol',\n",
       " 'Primary school kids to be fed insects as an eco-friendly â\\x80\\x98alternative proteinâ\\x80\\x99',\n",
       " 'Walking or body weight squat \"activity snacks\" increase dietary amino acid utilization for myofibrillar protein synthesis during prolonged sitting',\n",
       " 'Dictatorships use sporting events as a smokescreen for political repression',\n",
       " \"Record-breaking chip can transmit entire internet's traffic per second\",\n",
       " 'The future of religion in Britain: a rise in Islam as Christianity declines. And then thereâ\\x80\\x99s magic â\\x80¦',\n",
       " 'â\\x80\\x98Our patients arenâ\\x80\\x99t deadâ\\x80\\x99: Inside the cryogenic freezing facility with 199 humans on ice',\n",
       " 'Do political protests mobilize voters? Evidence from the Black Lives Matter protests',\n",
       " 'Sex Differences in Mental Health Problems and Psychiatric Hospitalization in Autistic Young Adults',\n",
       " 'New Compound Discovered That Destroys the MRSA Superbug',\n",
       " 'Scientists discover exotic quantum state at room temperature',\n",
       " 'James Webb Telescope captures its first images of an exoplanet',\n",
       " 'Comcast wants Internet users to pay more because customer growth has stalled',\n",
       " 'Why it is more difficult to be poor in some states than others',\n",
       " 'Rural areas to get $759M in grants for high-speed internet',\n",
       " 'UK politicians demand probe into Liz Truss phone hack claim',\n",
       " 'More kids to ride in â\\x80\\x98cleanâ\\x80\\x99 school buses, mostly electric',\n",
       " 'Myth, busted: Formation of Namibiaâ\\x80\\x99s fairy circles isnâ\\x80\\x99t due to termites',\n",
       " 'Pantone wants $15/month for the privilege of using its colors in Photoshop',\n",
       " 'Trumpâ\\x80\\x99s new national security adviser is a futurist with warnings about technology',\n",
       " 'Stadia controllers could become e-waste unless Google issues Bluetooth update',\n",
       " 'Open Bionics partners with NHS for a feasibility study to bring bionic hands to the U.K. health system',\n",
       " 'Electric vehicles could be charged within 5 minutes thanks to tech developed by NASA for use in space',\n",
       " 'Rooftop wind system delivers 150% the energy of solar per dollar',\n",
       " 'Solar power world record broken with â\\x80\\x98miracle materialâ\\x80\\x99',\n",
       " 'New solar capacity 10 times cheaper than gas, says Rystad',\n",
       " 'Ford locks in solar energy deal with DTE Energy',\n",
       " 'Cooling down solar modules by increasing space between panel rows',\n",
       " 'Undersea power cable to connect Egypt to Europe via Greece',\n",
       " 'Australia can slash emissions 81 pct by 2030 using six existing technologies, report says',\n",
       " 'Researchers develop a cobalt-free cathode for lithium-ion batteries',\n",
       " 'Australiaâ\\x80\\x99s huge new nickel mine will host worldâ\\x80\\x99s biggest renewable micro-grid',\n",
       " 'Battery tech breakthrough paves way for mass adoption of affordable electric car',\n",
       " 'Renewable-energy development in a net-zero world',\n",
       " 'Mercedesâ\\x80\\x99 F1 team cut its freight emissions by 89% with biofuel switch',\n",
       " 'Worldâ\\x80\\x99s 1st bulker powered by wind sails into Port of Newcastle',\n",
       " 'US installs record solar capacity as prices keep falling',\n",
       " 'How electric cars could rescue the US power grid',\n",
       " 'China to break its own record: Worldâ\\x80\\x99s new largest wind farm could power 13 million homes',\n",
       " 'Want a Tesla Solar Roof? You may need to shell out for a Powerwall first',\n",
       " 'Solar eliminates nearly all grid demand as its powers South Australia during day',\n",
       " 'Enverus acquires solar planning solution RatedPower',\n",
       " 'Fires from exploding e-bike batteries multiply in NYC â\\x80\\x94 sometimes fatally',\n",
       " 'Study: Cancer-causing gas leaking from CA stoves, pipes',\n",
       " 'The pathway to 90% clean electricity is mostly clear. The last 10%, not so much',\n",
       " 'New system retrofits diesel engines to run on 90% hydrogen',\n",
       " 'Cheaper electric vehicles coming despite high battery costs',\n",
       " 'Australia backs plan for intercontinental power grid',\n",
       " 'Communication-less scheme streamlines microgrid setup, simplifies recovery',\n",
       " 'Chinaâ\\x80\\x99s solar cell production capacity may reach 600 GW by year-end',\n",
       " 'Germany to massively expand electric car charging network',\n",
       " 'Online-only home solar seller bags $23M, pledging â\\x80\\x98dramatically lower pricesâ\\x80\\x99',\n",
       " 'Sencrop predicts weather conditions at a microclimate level for farmers',\n",
       " 'Worldâ\\x80\\x99s biggest flow battery opens in China',\n",
       " 'Major milestone for Greek energy as renewables power 100% of electricity demand',\n",
       " \"Scientists dream up a massive floating solar farm in space - here's how it would work\",\n",
       " 'GM will make an Ultium battery pack prototype for the US military',\n",
       " 'In a US first, California will pilot solar-panel canopies over canals',\n",
       " 'Could offshore wind sites host edible seaweed farms? The Swedes think so',\n",
       " 'Renewables met 100% of the rise in global electricity demand in the first half of 2022',\n",
       " 'A turbine prototype just broke a 24-hour wind power world record',\n",
       " 'Global polysilicon capacities may nearly double by end of 2023 to 536 GW',\n",
       " 'This 100% solar community endured Hurricane Ian with no loss of power and minimal damage',\n",
       " 'Miners are cutting CO2 emissions in half by switching to electric vehicles for extracting critical minerals',\n",
       " 'Gridtential thinks the OG renewable battery chemistry is ripe for disruption',\n",
       " 'Nasa invents â\\x80\\x98incredibleâ\\x80\\x99 battery for electric planes',\n",
       " 'EV sales to hit all-time high in 2022, IEA says, but more work needed to put world on net-zero path',\n",
       " 'Solar will become 10 times cheaper than gas in Europe â\\x80\\x93 study',\n",
       " 'Sono Motors reveals final design of its solar-charging Sion EV',\n",
       " 'This NASA space tech could make your EV charge faster, too',\n",
       " 'NASA suggests new space cooling technology could charge electric cars in 5 minutes',\n",
       " 'Plastic recycling a \"failed concept,\" study says, with only 5% recycled in U.S. last year as production rises',\n",
       " 'Rodney Brooks and Clara Vu will discuss human-robot interaction at TC Sessions: Robotics 2022',\n",
       " 'Terrifying video shows Chinese robot attack dog with machine gun dropped by drone',\n",
       " '\"The robot is doing the job\": Robots help pick strawberries in California amid drought, labor shortage',\n",
       " \"Smart buoy 'hears' the sea to protect whales against ship collisions\",\n",
       " 'White House Releases Blueprint for Artificial Intelligence Bill of Rights',\n",
       " 'Scientists can now build structures with swarms of flying drones',\n",
       " 'DARPA design shifts round wheels to triangular tracks in a moving vehicle',\n",
       " 'Tiny particles work together to do big things',\n",
       " 'A swarm of tiny robots could soon brush and floss your teeth for you',\n",
       " 'Amazon and Alphabet unit Wing begin drone deliveries in parts of the US',\n",
       " 'Exclusive: Boston Dynamics pledges not to weaponize its robots',\n",
       " 'Scientists discover material that can be made like a plastic but conducts like a metal',\n",
       " 'EV/AV Report: Loblaws deploys completely driverless trucks in Toronto; Magna takes its slice of the autonomous pizza',\n",
       " 'How John Deere plans to build a world of fully autonomous farming by 2030',\n",
       " 'The race to stop weaponized robots',\n",
       " 'New material design stores energy like an eagle',\n",
       " 'How Steve Sasson Invented the Digital Camera',\n",
       " 'Rats with backpacks could help rescue earthquake survivors',\n",
       " 'This Japanese start-up has designed a high-speed motorcycle that can fly for 40 minutes',\n",
       " 'BENDLAY 3D Is A Bendable Printing Filament That You Can Use To Make Clear, Flexible Straps And Bands',\n",
       " 'CMU demonstrates nanoscale technology that causes plants to absorb nutrients with nearly 100% efficiency',\n",
       " 'Robots are making French fries faster, better than humans',\n",
       " 'Tentacle robot can gently grasp fragile objects',\n",
       " 'Human Composting Now Legal in California',\n",
       " 'UKâ\\x80\\x99s Magical Mushroom Company uses mycelium to replace plastic packaging',\n",
       " 'New Stretchy Electronics Will Help Us Stay Healthy And Safe',\n",
       " 'A 1990s relic, floppy disks get second life at California warehouse',\n",
       " \"Meet Japan's cyborg cockroach, coming to disaster area near you\",\n",
       " \"Scientists Wire Chip to Cockroaches' Nervous System, Allow Them to Be Remote Controlled\",\n",
       " 'Sequoia-backed recycling robot maker AMP Robotics gets its largest purchase order',\n",
       " 'Top robot companies pledge not to add weapons to their tech to avoid harm risk',\n",
       " 'Genomaticaâ\\x80\\x99s expanded Aquafil partnership brings biomaterials to more consumer goods',\n",
       " 'Avenger Laser weapon knocks UAV out of the air',\n",
       " 'Tesla CEO Elon Musk unveils prototype humanoid Optimus robot',\n",
       " 'Replacing plastic with plant pulp for sustainable packaging attracts a billionaire backer',\n",
       " 'Engineers discover new process for synthetic material growth, enabling soft robots that grow like plants',\n",
       " 'Worldâ\\x80\\x99s first floating pod homes launched in Panama starting at $295,000',\n",
       " 'Recycling robotics company AMP Robotics could raise up to $70M',\n",
       " \"Worm's saliva found to break down plastic in major pollution breakthrough\",\n",
       " 'Recycling plastic is practically impossible â\\x80\\x94 and the problem is getting worse',\n",
       " 'Some leading robot makers are pledging not to weaponize them',\n",
       " 'This new farming robot uses lasers to kill 200,000 weeds per hour',\n",
       " 'Ocean plastic â\\x80\\x98vacuumsâ\\x80\\x99 are sucking up marine life along with trash',\n",
       " 'A swarm of tiny robots could soon brush and floss your teeth for you',\n",
       " 'How a fleet of robots could help solve the Great Lakes plastic pollution problem',\n",
       " 'This startup 3D prints tiny homes from recyclable plastics',\n",
       " 'Snap shares plunge nearly 30%, closing at lowest since early 2019',\n",
       " 'Meta documents show main metaverse is losing users and falling short of goals, report says',\n",
       " 'Online age-verification system could create â\\x80\\x98honeypotâ\\x80\\x99 of personal data and pornography-viewing habits, privacy groups warn',\n",
       " 'Elon Musk now in charge of Twitter, CEO and CFO have left, sources say',\n",
       " 'Windows 11 runs on fewer than 1 in 6 PCs',\n",
       " 'Mark Zuckerberg has a $10 billion plan to make it impossible for remote workers to hide from their bosses',\n",
       " \"Facebook used to be a Big Tech giant â\\x80\\x94 now Meta isn't even in the top 20 most valuable U.S. companies\",\n",
       " 'Almost 30% of People Redo or Refine Google Searches, Study Says',\n",
       " 'Twitter reportedly limits employee access to content moderation tools as midterm election nears',\n",
       " 'Appleâ\\x80\\x99s first unionized workers say the company is withholding new benefits',\n",
       " 'Facebook and TikTok are approving ads with â\\x80\\x98blatantâ\\x80\\x99 misinformation about voting in midterms, researchers say',\n",
       " 'Metaâ\\x80\\x99s value plunges more than $65 billion amid falling sales, rising costs',\n",
       " 'WhatsApp down: Chat app hit by second huge outage in the space of a few days',\n",
       " 'Tim Cook says Apple canâ\\x80\\x99t yet make enough iPhone 14 Pros to meet demand',\n",
       " 'â\\x80\\x98We risk another crisisâ\\x80\\x99: TikTok in danger of being major vector of election misinformation',\n",
       " 'Microsoft will keep Call of Duty on Sony platforms \"as long as there\\'s a PlayStation out there to shipÂ\\xa0to\"',\n",
       " 'Snap, Meta shares pop after FCC commissioner says U.S. should ban TikTok',\n",
       " 'Facebookâ\\x80\\x99s Monopoly Is Imploding Before Our Eyes',\n",
       " 'FCC advances plan to require blocking of spam texts from bogus numbers',\n",
       " 'Meta\\'s value has plunged by $700 billion. Wall Street calls it a \"train wreck.\"',\n",
       " 'Chief Twit, Elon Musk, signals interest in reviving Vine',\n",
       " \"Police Are Using DNA to Generate 3D Images of Suspects They've Never Seen\",\n",
       " 'Metaâ\\x80\\x99s Profit Slides by More Than 50 Percent as Challenges Mount',\n",
       " 'Facebook workers are reportedly under duress as Meta stock craters',\n",
       " 'Goodbye binge-watching: Netflix, others, bringing back ad breaks in coming weeks',\n",
       " 'Since becoming Meta, Facebookâ\\x80\\x99s parent company has lost US$650 billion in market value',\n",
       " 'Google is shutting down Stadia',\n",
       " \"Meta and TikTok busted for 'actively pushing' 'Stop the Steal 2.0' on eve of Brazil's presidential election\",\n",
       " 'Europe Prepares to Rewrite the Rules of the Internet',\n",
       " 'Alphabet is ramping up scrutiny of all its projects and cutting hiring in half as it tries to curb costs',\n",
       " 'India fines Google yet again, orders to allow third-party payments',\n",
       " \"Twitter will not reinstate banned users without 'clear process,' Musk says\",\n",
       " 'Mark Zuckerberg showed his full avatar, which now has legs, in real-time for the first time after Meta was slammed for poor graphics',\n",
       " 'Facebook probably has your phone number, even if you never shared it. Now it has a secret tool to let you delete it.',\n",
       " \"Meta is mad about Apple's latest policy change, accusing the company of trying to 'grow their own business while undercutting others'\",\n",
       " 'Justice Department charges 2 Chinese intel officers with trying to obstruct probe into Huawei',\n",
       " \"Mark Zuckerberg should dial down the metaverse crap and make Facebook 'Facebook' again\",\n",
       " 'An ex-TikTok moderator, who was paid $10 a day and had to scroll through child abuse and gun violence, was required to keep her webcam on all night, report says',\n",
       " \"Snapchat's disappearing message function helped teenagers obtain fentanyl with deadly consequences, lawsuit argues\",\n",
       " \"Pressure mounts for regulators to investigate TikTok over potential 'Big Brother-type surveillance' after reports of plans to track Americans' locations\",\n",
       " 'Instagram â\\x80\\x98downâ\\x80\\x99 as users report mysterious outage suspending accounts for no apparent reason',\n",
       " \"OnlyFans CEO calls the site 'truly the safest and most inclusive social-media platform' after claims that child-abuse images originated on it\",\n",
       " \"Most Metaverse users don't even make it a month, WSJ reports\",\n",
       " 'MIT engineers develop sensors for face masks that help gauge fit',\n",
       " 'MIT engineers develop stickers that can see inside the body',\n",
       " 'Study finds Apple Watch blood oxygen sensor is as reliable as â\\x80\\x98medical-grade deviceâ\\x80\\x99',\n",
       " 'Engineers light the way to bionics of the future',\n",
       " 'Face recognition technology for pigs could improve welfare on farms',\n",
       " 'First 3D quantum accelerometer could let ships navigate without GPS',\n",
       " 'This Wearable Ultrasound Sticker Can Continuously Image Organs for 48 Hours',\n",
       " 'Our brains use quantum computation',\n",
       " 'Amazon Braket launches Aquila, the first neutral-atom quantum processor from QuEra Computing',\n",
       " 'AI tool can scan your retina and predict your risk of heart disease â\\x80\\x98in 60 seconds or lessâ\\x80\\x99',\n",
       " 'Study Reveals How Genetics Impacts Susceptibility to Developing PTSD Following Trauma Exposure',\n",
       " 'The Pentagonâ\\x80\\x99s Push to Program Soldiersâ\\x80\\x99 Brains',\n",
       " \"Inside the US facility where 199 'legally dead' humans and almost 100 pets await being revived\",\n",
       " 'Scientists Found a Way to Predict Your Death by How You Walk',\n",
       " 'Human brain cells transplanted into baby ratsâ\\x80\\x99 brains grow and form connections',\n",
       " 'Lab-grown brain cells play video game Pong',\n",
       " 'Abbott tells CES itâ\\x80\\x99s getting into consumer biowearables',\n",
       " 'Mawi launches a patch to track your heart health faster and in real time',\n",
       " 'Scopio aims to turn hematology into remote work with $50M C round',\n",
       " 'Labby wants to make milk healthier and cows happier with better sensors',\n",
       " 'How sweet is your blood? Scanbo gives an answer without poking holes in you',\n",
       " 'New window into brainâ\\x80\\x99s computational function',\n",
       " 'â\\x80\\x98Ghost heartâ\\x80\\x99: Built from the scaffolding of a pig and the patientâ\\x80\\x99s cells, this cardiac breakthrough may soon be ready for transplant into humans',\n",
       " 'Lab-grown brain cells play video game Pong',\n",
       " 'New research suggests our brains use quantum computation',\n",
       " 'Sensor breakthrough brings us closer to blood glucose monitoring on wearables',\n",
       " 'Sensor-studded suit helps track recovery of stroke patients',\n",
       " 'This â\\x80\\x98artificial irisâ\\x80\\x99 is like a pair of programmable shades in contact lens form',\n",
       " 'Augmented reality treatment reduces phantom pain in missing limbs',\n",
       " 'Touch Surgery brings surgery training to augmented reality',\n",
       " 'Watch Elon Muskâ\\x80\\x99s Neuralink brain control interface startup presentation live',\n",
       " \"The cutting-edge cellular therapies aiming to ease America's organ shortage\",\n",
       " 'Consumers get another digital home health offering as Tyto Care and Best Buy launch TytoHome',\n",
       " 'Local doctor implants one of the first wireless, dual chamber pacemakers',\n",
       " 'Homeland Security warns of critical flaws in Medtronic defibrillators',\n",
       " 'This Implant Turns Brain Waves Into Words',\n",
       " 'COVID raises risk of long-term brain injury, large U.S. study finds',\n",
       " 'New study finds that monkeypox virus can spread widely within specialist hospital isolation rooms',\n",
       " 'Personal lubricant made from cow mucus may protect against HIV',\n",
       " \"Major breakthrough in cancer research: Papers reveal 'dark matter' that contributes to disease's growth\",\n",
       " 'Worldâ\\x80\\x99s first stem cell treatment for spina bifida delivered during fetal surgery',\n",
       " 'Effect of Colonoscopy Screening on Risks of Colorectal Cancer and Related Death',\n",
       " 'Moderna teams up with Merck for personalized vaccine against skin cancer',\n",
       " 'A Cancer-Fighting Version of Herpes Shows Promise in Early Human Trial',\n",
       " 'New Omicron subvariant largely evades neutralizing antibodies',\n",
       " 'Gut-dwelling bacterium singled out as the possible cause of colorectal cancer',\n",
       " 'Transient cell-in-cell formation underlies tumor relapse and resistance to immunotherapy',\n",
       " 'New Report Shows Decline in US Cancer Deaths Continues',\n",
       " 'The US is launching a trial for blood tests that promise to catch cancers earlier',\n",
       " 'Vaccines to treat cancer possible by 2030, say BioNTech founders',\n",
       " 'Telemedicine company Syounika Online snags top prize at TechCrunch Tokyo',\n",
       " 'A bold effort to cure HIVâ\\x80\\x94using Crispr',\n",
       " 'Pitching accuracy rates of over 99% for multiple cancer screens, Thrive launches with $110 million',\n",
       " 'Forget the Great Resignation, the real crisis in the workplace is grief',\n",
       " 'COVID-19 Vaccine Uptake and Factors Affecting Hesitancy Among US Nurses, Marchâ\\x80\\x93June 2021',\n",
       " \"Nearly half of COVID survivors haven't fully recovered 6 months later: Study\",\n",
       " 'If you had COVID, several of your organs could be aging 3-4 years faster: Study',\n",
       " 'Evidence suggests pandemic came from nature, not a lab, panel says',\n",
       " 'People return to offices, productivity plunges',\n",
       " 'India develops its first cervical cancer vaccine',\n",
       " 'Myocarditis seven times more likely with COVID-19 than vaccines',\n",
       " 'Low dose lithium supplementation promotes adipose tissue browning and sarco(endo)plasmic reticulum Ca',\n",
       " 'Scientists use mRNA technology to create a potent flu vaccine that could last for years',\n",
       " 'Scientific Integrity Requires Publishing Rebuttals and Retracting Problematic Papers',\n",
       " 'Cambridge cancer breakthrough may prompt rethink of metastasis',\n",
       " 'Merck pays Moderna $250m for personalized cancer vaccine',\n",
       " 'Breakthrough drug could save hundreds of thousands of childrenâ\\x80\\x99s lives',\n",
       " 'Survey finds more than 40% of Americans misled others about having COVID-19 and use of precautions',\n",
       " 'UCLA Fielding School of Public Health-led research demonstrates the importance of influenza vaccination globally',\n",
       " 'Political ideology of U.S. elected officials linked with COVID-19 health outcomes',\n",
       " 'Radioactive implant wipes tumors in unprecedented pre-clinical success',\n",
       " 'Bedtime procrastination helps explain the link between anxiety and sleep problems',\n",
       " 'In the brains of procrastinators',\n",
       " 'Dark personalities perceive pro-environmental behaviors as more costly and less beneficial',\n",
       " 'Economic scarcity can invigorate racial stereotypes and even alter our mental representations of Black individuals',\n",
       " 'Expressing gratitude when doing stressful work reduces teammatesâ\\x80\\x99 stress and leads to more efficient cardiovascular responses',\n",
       " 'Feeling low? Take a walk down memory lane. Study says nostalgia improves psychological well-being',\n",
       " 'Having more time to oneself is the top reported benefit of being single, study finds',\n",
       " 'Feeling chirpy: Being around birds is linked to lasting mental health benefits',\n",
       " 'After Stroke in an Infantâ\\x80\\x99s Brain, Right Side of Brain Compensates for Loss of Language in Left Side',\n",
       " 'People with insecure attachment styles tend to have strong emotional bonds with pets, study finds',\n",
       " 'Pilots tend to have less emotional intelligence than the average person, new research suggests',\n",
       " 'Study finds brain changes associated with ADHD remission',\n",
       " 'Study finds twelvefold higher mortality risk among psychopathic female offenders',\n",
       " 'Unique therapy that alters memory processes could reduce psychological disturbances following romantic betrayal',\n",
       " 'Victims of childhood abuse are biologically older than their peers in midlife, study indicates',\n",
       " 'Mothers who spend more time on social media sites about motherhood experience higher stress hormone levels, study finds',\n",
       " 'New study links suffering from long-lasting severe depression to reduction in brain volume',\n",
       " 'Pedestrians give panhandler more than twice as much money when he wears a suit versus jeans, experiment finds',\n",
       " \"How the mother's mood influences her baby's ability to speak\",\n",
       " 'Early self-regulation boosts childrenâ\\x80\\x99s educational success',\n",
       " 'Hereâ\\x80\\x99s how the brain works when we choose to help someone in danger',\n",
       " 'People systematically underestimate how positively recipients will respond to social support, study finds',\n",
       " 'Study on cognitive control in children with ADHD finds abnormal neural connectivity patterns in multiple brain regions',\n",
       " 'Kids who play video games score higher on brain function tests',\n",
       " 'Video gaming may be associated with better cognitive performance in children',\n",
       " 'Research shows water fluoridation is safe for children',\n",
       " 'Birdsongs alleviate anxiety and paranoia in healthy participants',\n",
       " 'Effects of exploring a novel environment on memory across the lifespan',\n",
       " 'In stressful jobs, depression risk rises with hours worked, study in new doctors finds',\n",
       " 'Researchers Reduce Nightmare Frequency by Altering Dreamersâ\\x80\\x99 Emotions',\n",
       " 'Dyslexia linked to 42 genetic variants in biggest study of its kind',\n",
       " 'Could psychedelic drugs have a role in the treatment of schizophrenia? Rationale and strategy for safe implementation',\n",
       " 'Legal Marijuana Access Tied To Lower Risk Of Lung Injuries From Contaminated Vapes, Study Indicates',\n",
       " 'Positive childhood experiences of blue spaces linked to better adult well-being',\n",
       " 'Micro 4D Printing Builds on Programmable Matter',\n",
       " '5 takeaways from Coinbaseâ\\x80\\x99s disappointing Q2 results',\n",
       " 'Even decacorns have their challenges',\n",
       " 'Shield AI raises $165M at a $2.3B valuation to fuel development of its military autonomous flying systems',\n",
       " 'TechCrunch+ roundup: Bridge round bingo, SaaS sales smarts, tracking monthly expenses',\n",
       " 'Why Felix Williams, who started a VC firm at 19, believes his youth gives him an advantage as an investor',\n",
       " 'Passkeysâ\\x80\\x94Microsoft, Apple, and Googleâ\\x80\\x99s password killerâ\\x80\\x94are',\n",
       " 'â\\x80\\x98Selling Sunsetâ\\x80\\x99 star Christine Quinnâ\\x80\\x99s brokerage debuts new crypto credit scoring platform',\n",
       " 'How fintech startups are navigating the extension-round rush',\n",
       " 'Bitmain co-founder welcomes crypto regulation to restore market confidence',\n",
       " '5 reasons why Ukraineâ\\x80\\x99s fintech sector is growing despite war',\n",
       " 'All eyes are on the next liquidity event when it comes to space startups',\n",
       " 'SEC spears â\\x80\\x98Crypto Crusadersâ\\x80\\x99 over alleged pyramid scheme',\n",
       " 'Unshackled Ventures has $20M to invest exclusively in immigrant founders',\n",
       " 'An action plan for founders fundraising in fintechâ\\x80\\x99s choppy waters',\n",
       " 'Meet the judges for the Minneapolis TechCrunch Live pitch-off',\n",
       " 'Systemiq secures $70 million to fund early-stage climate tech founders',\n",
       " 'Is the glass half-empty or half-full in the seed market?',\n",
       " 'â\\x80\\x98Historicâ\\x80\\x99 moment for crypto as Ethereum Merge finally completed',\n",
       " 'Fintech app Portabl raises $2.5M to help consumers securely store financial data',\n",
       " 'To reach fintechâ\\x80\\x99s next level, infrastructure providers must address these pain points',\n",
       " 'Solid banks $63M for easier deployment of embedded fintech products',\n",
       " 'Data centers arenâ\\x80\\x99t prepared for the climate crisis',\n",
       " 'Identity verification company Youverify extends seed funding to $2.5M as it expands across Africa',\n",
       " 'A conversation with Andreessen Horowitzâ\\x80\\x99s fintech leads',\n",
       " 'Investing platform raises $11M to offer climate investing from a different angle to ESG ratings',\n",
       " 'Convective Capitalâ\\x80\\x99s $35 million answer to the increasing threat of wildfires',\n",
       " 'Sardine raises $51.5M led by a16z to sniff out fishy fintech transactions',\n",
       " 'Sectors where New Zealand startups are poised to win',\n",
       " 'Treasury recommends exploring creation of a digital dollar',\n",
       " 'From â\\x80\\x98literally zeroâ\\x80\\x99 experience to $100M, this VC is raising his second climate tech seed fund',\n",
       " 'OK, donâ\\x80\\x99t fear: The long shots are still getting venture funding',\n",
       " 'Crop One, Emirate open â\\x80\\x98worldâ\\x80\\x99s largest vertical farmâ\\x80\\x99 in Dubai',\n",
       " 'Vertical farming founder is reimagining agriculture from the ground up',\n",
       " 'Observed electric charge of insect swarms and their contribution to atmospheric electricity',\n",
       " 'AgBiome lands $116M for safer crop protection technology',\n",
       " 'New antibiotic hiding in diseased potatoes thwarts fungal infections in plants and humans',\n",
       " 'â\\x80\\x98A growing machineâ\\x80\\x99: Scotland looks to vertical farming to boost tree stocks',\n",
       " 'Beyond Meat is rolling out its steak substitute in grocery stores',\n",
       " 'A new, genetically modified purple tomato may hit the grocery market stands',\n",
       " 'Phytoform plants $5.7M into climate-resistant crop technology',\n",
       " 'After scrapping Monsanto deal, Deere agrees to buy precision farming startup Blue River for $305M',\n",
       " \"Scientists Created 'Living' Synthetic Cells by Harvesting Bacteria For Parts\",\n",
       " 'Ghanaian agtech Farmerline to use new funding to strengthen its infrastructure, help farmers create wealth',\n",
       " 'The VC-backed chicken thatâ\\x80\\x99s changing the way farmers breed and feed their livestock',\n",
       " 'From Pitless Cherries to Softer Kale, This Startup Is Using CRISPR to Make Better Produce',\n",
       " 'SupPlant is an Internet of Trees solution dramatically reducing irrigation needs for thirsty crops',\n",
       " 'AgriWebbâ\\x80\\x99s software seeks to boost yields, lower environmental impacts for farmers and ranchers',\n",
       " 'If itâ\\x80\\x99s agtech, itâ\\x80\\x99s climate change: How the crisis is shaping investorsâ\\x80\\x99 strategies',\n",
       " 'FlyFeed flies in the face of the global food crisis',\n",
       " 'Japanâ\\x80\\x99s e-commerce leader Rakuten gets into agriculture tech',\n",
       " 'Verdant aims to be the (robotic) king of carrot weeders',\n",
       " 'VCs have growing appetite for â\\x80\\x98AgriFoodâ\\x80\\x99',\n",
       " 'Solar Foods wants to replace industrial animal farming with a high-tech protein harvest',\n",
       " 'Source makes greenhouses smarter to secure the future of food supply',\n",
       " 'Scientists discover a new way to provide plants the nutrients they need to thrive',\n",
       " 'NUS scientists develop novel technique to grow meat in the lab using magnetic field',\n",
       " 'Survey: IBD Patients Report Fewer ER Visits Following Initiation of Medical Cannabis',\n",
       " 'Electronic Nicotine Delivery Systems: An Updated Policy Statement from the American Association for Cancer Research and the American Society of Clinical Oncology',\n",
       " 'Pain relief without side effects and addiction',\n",
       " 'Reduced-nicotine cigarettes result in less smoking in anxious, depressed smokers',\n",
       " 'Uber Eats threatens to suspend customerâ\\x80\\x99s account for ordering alcohol too often',\n",
       " 'US food insufficiency spiked by 25% after monthly Child Tax Credits expired',\n",
       " '1 in 5 deaths of US adults 20 to 49 is from excessive drinking, study shows',\n",
       " 'Study: Plant-Based Diets Improve Maternal-Fetal Outcomes in CKD Pregnancies',\n",
       " 'Is the world ready for extremely effective weight-loss drugs?',\n",
       " 'Ultra-processed food consumption linked to adverse mental health symptoms',\n",
       " 'Cannabis use does not increase actual creativity but does increase how creative you think you are, study finds',\n",
       " 'New window into brainâ\\x80\\x99s computational function',\n",
       " 'Heavy-load exercise in older adults activates vasculogenesis and has a stronger impact on muscle gene expression than in young adults',\n",
       " 'How genetics influences our body weight beyond the genes',\n",
       " 'Snacking on almonds boosts gut health',\n",
       " 'Individuals experiencing food insecurity likely to binge eat when food is available',\n",
       " 'Germany to legalize cannabis use for recreational purposes',\n",
       " 'Time-restricted eating with or without low-carbohydrate diet reduces visceral fat and improves metabolic syndrome: A randomized trial',\n",
       " 'Study: Legalizing Marijuana Has No Impact on the Perceived Risk of Marijuana Use Among Children',\n",
       " 'Legal Marijuana Access Tied To Lower Risk Of Lung Injuries From Contaminated Vapes, Study Indicates',\n",
       " 'Study: Healthy Plant-Based Diets â\\x80\\x9cSignificantly Increase Sperm Density and Motilityâ\\x80\\x9d',\n",
       " 'Insulin modulates emotional behavior through a serotonin-dependent mechanism',\n",
       " 'Menopause: Low fat, plant-based diet may improve hot flash symptoms by 88%',\n",
       " 'Dietary Fats and Cardio-Metabolic Outcomes in a Cohort of Italian Adults',\n",
       " 'China seeks new partners for lunar and deep space exploration',\n",
       " 'NASA Administrator Jim Bridenstine explains how startups can help with Artemis Moon missions',\n",
       " \"NASA's DART spacecraft hits target asteroid in first planetary defense test\",\n",
       " 'NASAâ\\x80\\x99s new Artemis spacesuits make it easier for astronauts of all sizes to move on the Moon',\n",
       " 'NASA calls for input on Moon spacesuits and plans to source them commercially in future',\n",
       " 'Amazon may have to turn to SpaceX for help launching its Starlink rival service',\n",
       " \"NASA's new tiny, high-powered laser could find water on the Moon\",\n",
       " 'NASA successfully tests robot balloon meant to one day explore Venus',\n",
       " 'NASA successfully smacked its DART spacecraft into an asteroid',\n",
       " 'China has returned helium-3 from the moon, opening door to future technology',\n",
       " 'Relativity Space signs the satellite transportation company Momentus as a new customer',\n",
       " 'Accelerating the future of space technology',\n",
       " \"Asteroid's path altered in NASA's first test of planetary defense system\",\n",
       " 'Itâ\\x80\\x99s been two years since researchers made a stunning announcement.',\n",
       " \"DART asteroid-smashing mission 'on track for an impact' Monday, NASA says\",\n",
       " 'NASA moves next Artemis I rocket launch attempt to September 3rd',\n",
       " 'Starlink signals can be reverse-engineered to work like GPSâ\\x80\\x94whether SpaceX likes it or not',\n",
       " 'NASAâ\\x80\\x99s Artemis I mega moon rocket prepares for prelaunch test',\n",
       " 'Japanese lunar company ispace aims to launch first cargo mission to the moon next month',\n",
       " 'NASA fixed the glitch that caused Voyager 1 to send back jumbled data',\n",
       " 'Hereâ\\x80\\x99s how Manchin and Schumerâ\\x80\\x99s surprise 725-page bill could boost climate tech',\n",
       " 'Fears of climate tech underinvestment are probably overblown',\n",
       " 'Supreme Court to hear case that could have massive impact on US water quality',\n",
       " \"UN chief Antonio Guterres urges rich countries to impose tax on fossil fuel firms 'feasting' on windfall profits\",\n",
       " 'Animal populations shrank an average of 69% over the last half-century, a report says',\n",
       " 'Winners, losers abound as Inflation Reduction Act becomes law',\n",
       " 'Oil and gas didnâ\\x80\\x99t benefit from investor largesse in recent years â\\x80\\x94 but renewables did',\n",
       " 'How to stop rolling the dice on the destruction of human civilization',\n",
       " 'The Climate Economy Is About to Explode',\n",
       " 'World close to â\\x80\\x98irreversibleâ\\x80\\x99 climate breakdown, warn major studies',\n",
       " 'That big climate bill might actually make a difference',\n",
       " 'New Zealand plans to tax emissions from livestock burps and dung',\n",
       " 'This startup hopes to get us to net zero via its platform to construct wooden buildings',\n",
       " 'Carmakersâ\\x80\\x99 global emissions 50% higher than reported',\n",
       " 'The shrinking ozone hole shows that the world can actually solve an environmental crisis',\n",
       " 'Logikcull raises $10M to let lawyers analyze documents at the speed of a thousand interns',\n",
       " 'Priori raises $6.3M to help large companies hire outside legal help',\n",
       " 'Zero Systems gets $12M Series A to bring automation to professional services',\n",
       " 'Leeway is a contract workflow service for your legal team',\n",
       " 'Klarity uses AI to strip drudgery from contract review',\n",
       " 'Twitch co-founder Justin Kan unveils tech platform for law firms',\n",
       " 'Atrium lays off lawyers, explains pivot to legal tech',\n",
       " 'Ironclad raises $50M Series C round for its digital contracting platform',\n",
       " 'Legalist is making it easier for lawyers to find state court records',\n",
       " 'Legl gets $7M to help law firms upgrade to digital workflows',\n",
       " 'Legal tech startups bringing law, order to fragmented industry',\n",
       " 'Dispute resolution platform Immediation raises $3.6M AUD to expand in the US',\n",
       " 'Cognitiv+ is using AI for contract analysis and tracking',\n",
       " 'McCarthyFinch AI services platform automates tedious legal tasks',\n",
       " 'HelpSelf uses simple AI to help those in legal trouble',\n",
       " 'Clue now advises women on what to do if they forgot to take their contraceptive pill',\n",
       " \"Cognoa's AI platform for autism diagnosis gets first FDA stamp\",\n",
       " 'Blossom Capitalâ\\x80\\x99s Louise Samet talks hormone tracking and femtech bets',\n",
       " 'Contraception app Natural Cyclesâ\\x80\\x99 Facebook ad banned for being misleading',\n",
       " 'Vibrant raises $7.5M for a drug-free mechanical pill to treat constipation',\n",
       " 'Birth control app Nurx now delivers to the â\\x80\\x98contraceptive desertsâ\\x80\\x99 of Texas',\n",
       " 'What top VCs look for in womenâ\\x80\\x99s fertility startups',\n",
       " 'YouTube Is Making It Easier to Tell the Difference Between Real Doctors and Quacks',\n",
       " 'Badass millennial women are supercharging startup investments',\n",
       " 'Femtech poised for growth beyond fertility',\n",
       " 'Index Fundâ\\x80\\x99s portfolio is driving long-overdue innovation in femcare',\n",
       " 'AcuityMD raises $7M to better track the evolving world of medical hardware',\n",
       " 'The Mednet launches its â\\x80\\x98Quora for cancer,â\\x80\\x99 an online medical knowledge base']"
      ]
     },
     "execution_count": 132,
     "metadata": {},
     "output_type": "execute_result"
    }
   ],
   "source": [
    "titles_list"
   ]
  },
  {
   "cell_type": "code",
   "execution_count": 135,
   "metadata": {},
   "outputs": [],
   "source": [
    "rank_dict = analyze_text_textrank(doc = nlp(titles_list[3]), rank_threshold=0)"
   ]
  },
  {
   "cell_type": "markdown",
   "metadata": {},
   "source": [
    "Elbow plot for rank scores"
   ]
  },
  {
   "cell_type": "code",
   "execution_count": 136,
   "metadata": {},
   "outputs": [
    {
     "data": {
      "application/vnd.plotly.v1+json": {
       "config": {
        "plotlyServerURL": "https://plot.ly"
       },
       "data": [
        {
         "hovertemplate": "x=%{x}<br>y=%{y}<extra></extra>",
         "legendgroup": "",
         "line": {
          "color": "#636efa",
          "dash": "solid"
         },
         "marker": {
          "symbol": "circle"
         },
         "mode": "lines",
         "name": "",
         "orientation": "v",
         "showlegend": false,
         "type": "scatter",
         "x": [
          0,
          1,
          2,
          3,
          4,
          5
         ],
         "xaxis": "x",
         "y": [
          0.19879140223445313,
          0.1500421213156909,
          0.1482269527771381,
          0.1270518287966563,
          0,
          0
         ],
         "yaxis": "y"
        }
       ],
       "layout": {
        "legend": {
         "tracegroupgap": 0
        },
        "margin": {
         "t": 60
        },
        "template": {
         "data": {
          "bar": [
           {
            "error_x": {
             "color": "#2a3f5f"
            },
            "error_y": {
             "color": "#2a3f5f"
            },
            "marker": {
             "line": {
              "color": "#E5ECF6",
              "width": 0.5
             },
             "pattern": {
              "fillmode": "overlay",
              "size": 10,
              "solidity": 0.2
             }
            },
            "type": "bar"
           }
          ],
          "barpolar": [
           {
            "marker": {
             "line": {
              "color": "#E5ECF6",
              "width": 0.5
             },
             "pattern": {
              "fillmode": "overlay",
              "size": 10,
              "solidity": 0.2
             }
            },
            "type": "barpolar"
           }
          ],
          "carpet": [
           {
            "aaxis": {
             "endlinecolor": "#2a3f5f",
             "gridcolor": "white",
             "linecolor": "white",
             "minorgridcolor": "white",
             "startlinecolor": "#2a3f5f"
            },
            "baxis": {
             "endlinecolor": "#2a3f5f",
             "gridcolor": "white",
             "linecolor": "white",
             "minorgridcolor": "white",
             "startlinecolor": "#2a3f5f"
            },
            "type": "carpet"
           }
          ],
          "choropleth": [
           {
            "colorbar": {
             "outlinewidth": 0,
             "ticks": ""
            },
            "type": "choropleth"
           }
          ],
          "contour": [
           {
            "colorbar": {
             "outlinewidth": 0,
             "ticks": ""
            },
            "colorscale": [
             [
              0,
              "#0d0887"
             ],
             [
              0.1111111111111111,
              "#46039f"
             ],
             [
              0.2222222222222222,
              "#7201a8"
             ],
             [
              0.3333333333333333,
              "#9c179e"
             ],
             [
              0.4444444444444444,
              "#bd3786"
             ],
             [
              0.5555555555555556,
              "#d8576b"
             ],
             [
              0.6666666666666666,
              "#ed7953"
             ],
             [
              0.7777777777777778,
              "#fb9f3a"
             ],
             [
              0.8888888888888888,
              "#fdca26"
             ],
             [
              1,
              "#f0f921"
             ]
            ],
            "type": "contour"
           }
          ],
          "contourcarpet": [
           {
            "colorbar": {
             "outlinewidth": 0,
             "ticks": ""
            },
            "type": "contourcarpet"
           }
          ],
          "heatmap": [
           {
            "colorbar": {
             "outlinewidth": 0,
             "ticks": ""
            },
            "colorscale": [
             [
              0,
              "#0d0887"
             ],
             [
              0.1111111111111111,
              "#46039f"
             ],
             [
              0.2222222222222222,
              "#7201a8"
             ],
             [
              0.3333333333333333,
              "#9c179e"
             ],
             [
              0.4444444444444444,
              "#bd3786"
             ],
             [
              0.5555555555555556,
              "#d8576b"
             ],
             [
              0.6666666666666666,
              "#ed7953"
             ],
             [
              0.7777777777777778,
              "#fb9f3a"
             ],
             [
              0.8888888888888888,
              "#fdca26"
             ],
             [
              1,
              "#f0f921"
             ]
            ],
            "type": "heatmap"
           }
          ],
          "heatmapgl": [
           {
            "colorbar": {
             "outlinewidth": 0,
             "ticks": ""
            },
            "colorscale": [
             [
              0,
              "#0d0887"
             ],
             [
              0.1111111111111111,
              "#46039f"
             ],
             [
              0.2222222222222222,
              "#7201a8"
             ],
             [
              0.3333333333333333,
              "#9c179e"
             ],
             [
              0.4444444444444444,
              "#bd3786"
             ],
             [
              0.5555555555555556,
              "#d8576b"
             ],
             [
              0.6666666666666666,
              "#ed7953"
             ],
             [
              0.7777777777777778,
              "#fb9f3a"
             ],
             [
              0.8888888888888888,
              "#fdca26"
             ],
             [
              1,
              "#f0f921"
             ]
            ],
            "type": "heatmapgl"
           }
          ],
          "histogram": [
           {
            "marker": {
             "pattern": {
              "fillmode": "overlay",
              "size": 10,
              "solidity": 0.2
             }
            },
            "type": "histogram"
           }
          ],
          "histogram2d": [
           {
            "colorbar": {
             "outlinewidth": 0,
             "ticks": ""
            },
            "colorscale": [
             [
              0,
              "#0d0887"
             ],
             [
              0.1111111111111111,
              "#46039f"
             ],
             [
              0.2222222222222222,
              "#7201a8"
             ],
             [
              0.3333333333333333,
              "#9c179e"
             ],
             [
              0.4444444444444444,
              "#bd3786"
             ],
             [
              0.5555555555555556,
              "#d8576b"
             ],
             [
              0.6666666666666666,
              "#ed7953"
             ],
             [
              0.7777777777777778,
              "#fb9f3a"
             ],
             [
              0.8888888888888888,
              "#fdca26"
             ],
             [
              1,
              "#f0f921"
             ]
            ],
            "type": "histogram2d"
           }
          ],
          "histogram2dcontour": [
           {
            "colorbar": {
             "outlinewidth": 0,
             "ticks": ""
            },
            "colorscale": [
             [
              0,
              "#0d0887"
             ],
             [
              0.1111111111111111,
              "#46039f"
             ],
             [
              0.2222222222222222,
              "#7201a8"
             ],
             [
              0.3333333333333333,
              "#9c179e"
             ],
             [
              0.4444444444444444,
              "#bd3786"
             ],
             [
              0.5555555555555556,
              "#d8576b"
             ],
             [
              0.6666666666666666,
              "#ed7953"
             ],
             [
              0.7777777777777778,
              "#fb9f3a"
             ],
             [
              0.8888888888888888,
              "#fdca26"
             ],
             [
              1,
              "#f0f921"
             ]
            ],
            "type": "histogram2dcontour"
           }
          ],
          "mesh3d": [
           {
            "colorbar": {
             "outlinewidth": 0,
             "ticks": ""
            },
            "type": "mesh3d"
           }
          ],
          "parcoords": [
           {
            "line": {
             "colorbar": {
              "outlinewidth": 0,
              "ticks": ""
             }
            },
            "type": "parcoords"
           }
          ],
          "pie": [
           {
            "automargin": true,
            "type": "pie"
           }
          ],
          "scatter": [
           {
            "fillpattern": {
             "fillmode": "overlay",
             "size": 10,
             "solidity": 0.2
            },
            "type": "scatter"
           }
          ],
          "scatter3d": [
           {
            "line": {
             "colorbar": {
              "outlinewidth": 0,
              "ticks": ""
             }
            },
            "marker": {
             "colorbar": {
              "outlinewidth": 0,
              "ticks": ""
             }
            },
            "type": "scatter3d"
           }
          ],
          "scattercarpet": [
           {
            "marker": {
             "colorbar": {
              "outlinewidth": 0,
              "ticks": ""
             }
            },
            "type": "scattercarpet"
           }
          ],
          "scattergeo": [
           {
            "marker": {
             "colorbar": {
              "outlinewidth": 0,
              "ticks": ""
             }
            },
            "type": "scattergeo"
           }
          ],
          "scattergl": [
           {
            "marker": {
             "colorbar": {
              "outlinewidth": 0,
              "ticks": ""
             }
            },
            "type": "scattergl"
           }
          ],
          "scattermapbox": [
           {
            "marker": {
             "colorbar": {
              "outlinewidth": 0,
              "ticks": ""
             }
            },
            "type": "scattermapbox"
           }
          ],
          "scatterpolar": [
           {
            "marker": {
             "colorbar": {
              "outlinewidth": 0,
              "ticks": ""
             }
            },
            "type": "scatterpolar"
           }
          ],
          "scatterpolargl": [
           {
            "marker": {
             "colorbar": {
              "outlinewidth": 0,
              "ticks": ""
             }
            },
            "type": "scatterpolargl"
           }
          ],
          "scatterternary": [
           {
            "marker": {
             "colorbar": {
              "outlinewidth": 0,
              "ticks": ""
             }
            },
            "type": "scatterternary"
           }
          ],
          "surface": [
           {
            "colorbar": {
             "outlinewidth": 0,
             "ticks": ""
            },
            "colorscale": [
             [
              0,
              "#0d0887"
             ],
             [
              0.1111111111111111,
              "#46039f"
             ],
             [
              0.2222222222222222,
              "#7201a8"
             ],
             [
              0.3333333333333333,
              "#9c179e"
             ],
             [
              0.4444444444444444,
              "#bd3786"
             ],
             [
              0.5555555555555556,
              "#d8576b"
             ],
             [
              0.6666666666666666,
              "#ed7953"
             ],
             [
              0.7777777777777778,
              "#fb9f3a"
             ],
             [
              0.8888888888888888,
              "#fdca26"
             ],
             [
              1,
              "#f0f921"
             ]
            ],
            "type": "surface"
           }
          ],
          "table": [
           {
            "cells": {
             "fill": {
              "color": "#EBF0F8"
             },
             "line": {
              "color": "white"
             }
            },
            "header": {
             "fill": {
              "color": "#C8D4E3"
             },
             "line": {
              "color": "white"
             }
            },
            "type": "table"
           }
          ]
         },
         "layout": {
          "annotationdefaults": {
           "arrowcolor": "#2a3f5f",
           "arrowhead": 0,
           "arrowwidth": 1
          },
          "autotypenumbers": "strict",
          "coloraxis": {
           "colorbar": {
            "outlinewidth": 0,
            "ticks": ""
           }
          },
          "colorscale": {
           "diverging": [
            [
             0,
             "#8e0152"
            ],
            [
             0.1,
             "#c51b7d"
            ],
            [
             0.2,
             "#de77ae"
            ],
            [
             0.3,
             "#f1b6da"
            ],
            [
             0.4,
             "#fde0ef"
            ],
            [
             0.5,
             "#f7f7f7"
            ],
            [
             0.6,
             "#e6f5d0"
            ],
            [
             0.7,
             "#b8e186"
            ],
            [
             0.8,
             "#7fbc41"
            ],
            [
             0.9,
             "#4d9221"
            ],
            [
             1,
             "#276419"
            ]
           ],
           "sequential": [
            [
             0,
             "#0d0887"
            ],
            [
             0.1111111111111111,
             "#46039f"
            ],
            [
             0.2222222222222222,
             "#7201a8"
            ],
            [
             0.3333333333333333,
             "#9c179e"
            ],
            [
             0.4444444444444444,
             "#bd3786"
            ],
            [
             0.5555555555555556,
             "#d8576b"
            ],
            [
             0.6666666666666666,
             "#ed7953"
            ],
            [
             0.7777777777777778,
             "#fb9f3a"
            ],
            [
             0.8888888888888888,
             "#fdca26"
            ],
            [
             1,
             "#f0f921"
            ]
           ],
           "sequentialminus": [
            [
             0,
             "#0d0887"
            ],
            [
             0.1111111111111111,
             "#46039f"
            ],
            [
             0.2222222222222222,
             "#7201a8"
            ],
            [
             0.3333333333333333,
             "#9c179e"
            ],
            [
             0.4444444444444444,
             "#bd3786"
            ],
            [
             0.5555555555555556,
             "#d8576b"
            ],
            [
             0.6666666666666666,
             "#ed7953"
            ],
            [
             0.7777777777777778,
             "#fb9f3a"
            ],
            [
             0.8888888888888888,
             "#fdca26"
            ],
            [
             1,
             "#f0f921"
            ]
           ]
          },
          "colorway": [
           "#636efa",
           "#EF553B",
           "#00cc96",
           "#ab63fa",
           "#FFA15A",
           "#19d3f3",
           "#FF6692",
           "#B6E880",
           "#FF97FF",
           "#FECB52"
          ],
          "font": {
           "color": "#2a3f5f"
          },
          "geo": {
           "bgcolor": "white",
           "lakecolor": "white",
           "landcolor": "#E5ECF6",
           "showlakes": true,
           "showland": true,
           "subunitcolor": "white"
          },
          "hoverlabel": {
           "align": "left"
          },
          "hovermode": "closest",
          "mapbox": {
           "style": "light"
          },
          "paper_bgcolor": "white",
          "plot_bgcolor": "#E5ECF6",
          "polar": {
           "angularaxis": {
            "gridcolor": "white",
            "linecolor": "white",
            "ticks": ""
           },
           "bgcolor": "#E5ECF6",
           "radialaxis": {
            "gridcolor": "white",
            "linecolor": "white",
            "ticks": ""
           }
          },
          "scene": {
           "xaxis": {
            "backgroundcolor": "#E5ECF6",
            "gridcolor": "white",
            "gridwidth": 2,
            "linecolor": "white",
            "showbackground": true,
            "ticks": "",
            "zerolinecolor": "white"
           },
           "yaxis": {
            "backgroundcolor": "#E5ECF6",
            "gridcolor": "white",
            "gridwidth": 2,
            "linecolor": "white",
            "showbackground": true,
            "ticks": "",
            "zerolinecolor": "white"
           },
           "zaxis": {
            "backgroundcolor": "#E5ECF6",
            "gridcolor": "white",
            "gridwidth": 2,
            "linecolor": "white",
            "showbackground": true,
            "ticks": "",
            "zerolinecolor": "white"
           }
          },
          "shapedefaults": {
           "line": {
            "color": "#2a3f5f"
           }
          },
          "ternary": {
           "aaxis": {
            "gridcolor": "white",
            "linecolor": "white",
            "ticks": ""
           },
           "baxis": {
            "gridcolor": "white",
            "linecolor": "white",
            "ticks": ""
           },
           "bgcolor": "#E5ECF6",
           "caxis": {
            "gridcolor": "white",
            "linecolor": "white",
            "ticks": ""
           }
          },
          "title": {
           "x": 0.05
          },
          "xaxis": {
           "automargin": true,
           "gridcolor": "white",
           "linecolor": "white",
           "ticks": "",
           "title": {
            "standoff": 15
           },
           "zerolinecolor": "white",
           "zerolinewidth": 2
          },
          "yaxis": {
           "automargin": true,
           "gridcolor": "white",
           "linecolor": "white",
           "ticks": "",
           "title": {
            "standoff": 15
           },
           "zerolinecolor": "white",
           "zerolinewidth": 2
          }
         }
        },
        "xaxis": {
         "anchor": "y",
         "domain": [
          0,
          1
         ],
         "title": {
          "text": "x"
         }
        },
        "yaxis": {
         "anchor": "x",
         "domain": [
          0,
          1
         ],
         "title": {
          "text": "y"
         }
        }
       }
      }
     },
     "metadata": {},
     "output_type": "display_data"
    }
   ],
   "source": [
    "plot_ranks(rank_dict)"
   ]
  },
  {
   "cell_type": "code",
   "execution_count": 137,
   "metadata": {},
   "outputs": [],
   "source": [
    "threshold_rank = 0.05"
   ]
  },
  {
   "cell_type": "code",
   "execution_count": 138,
   "metadata": {},
   "outputs": [],
   "source": [
    "#ANALYZE TITLES WITH TEXTRANK\n",
    "\n",
    "cols_title_df = ['article_keywords', 'title_keywords', 'count']\n",
    "title_rank_words = []\n",
    "\n",
    "\n",
    "for title in titles_list:\n",
    "     title_doc = nlp(title)\n",
    "     title_dict = analyze_text_textrank(title_doc, threshold_rank)\n",
    "     title_ranked = \" \".join(title_dict['text'])\n",
    "     title_rank_words.append(title_ranked)\n"
   ]
  },
  {
   "cell_type": "code",
   "execution_count": 139,
   "metadata": {},
   "outputs": [],
   "source": [
    "df['title_textrank'] = title_rank_words"
   ]
  },
  {
   "cell_type": "code",
   "execution_count": 140,
   "metadata": {},
   "outputs": [
    {
     "data": {
      "text/html": [
       "<div>\n",
       "<style scoped>\n",
       "    .dataframe tbody tr th:only-of-type {\n",
       "        vertical-align: middle;\n",
       "    }\n",
       "\n",
       "    .dataframe tbody tr th {\n",
       "        vertical-align: top;\n",
       "    }\n",
       "\n",
       "    .dataframe thead th {\n",
       "        text-align: right;\n",
       "    }\n",
       "</style>\n",
       "<table border=\"1\" class=\"dataframe\">\n",
       "  <thead>\n",
       "    <tr style=\"text-align: right;\">\n",
       "      <th></th>\n",
       "      <th>Topic</th>\n",
       "      <th>label</th>\n",
       "      <th>link</th>\n",
       "      <th>abstract</th>\n",
       "      <th>titles</th>\n",
       "      <th>title_textrank</th>\n",
       "    </tr>\n",
       "  </thead>\n",
       "  <tbody>\n",
       "    <tr>\n",
       "      <th>0</th>\n",
       "      <td>-1</td>\n",
       "      <td>-1_new_said_study_people</td>\n",
       "      <td>http://jhr.uwpress.org/content/early/2022/10/0...</td>\n",
       "      <td>We study how ambient lead exposure impacts lea...</td>\n",
       "      <td>A Thousand Cuts: Cumulative Lead Exposure Redu...</td>\n",
       "      <td>Cumulative Lead Exposure Reduces Academic Achi...</td>\n",
       "    </tr>\n",
       "    <tr>\n",
       "      <th>1</th>\n",
       "      <td>-1</td>\n",
       "      <td>-1_new_said_study_people</td>\n",
       "      <td>https://www.eurekalert.org/news-releases/967553</td>\n",
       "      <td>RIVERSIDE, Calif. -- Thirdhand smoke, or THS, ...</td>\n",
       "      <td>Thirdhand smoke can trigger skin diseases</td>\n",
       "      <td>skin diseases Thirdhand smoke Thirdhand</td>\n",
       "    </tr>\n",
       "    <tr>\n",
       "      <th>2</th>\n",
       "      <td>-1</td>\n",
       "      <td>-1_new_said_study_people</td>\n",
       "      <td>https://www.eurekalert.org/news-releases/965575</td>\n",
       "      <td>Deep Longevity bridges the gap between the con...</td>\n",
       "      <td>Being lonely and unhappy accelerates aging mor...</td>\n",
       "      <td>Being lonely and unhappy accelerates</td>\n",
       "    </tr>\n",
       "    <tr>\n",
       "      <th>3</th>\n",
       "      <td>-1</td>\n",
       "      <td>-1_new_said_study_people</td>\n",
       "      <td>https://www.eurekalert.org/news-releases/958880</td>\n",
       "      <td>By subjecting a quantum computer’s qubits to q...</td>\n",
       "      <td>Strange new phase of matter created in quantum...</td>\n",
       "      <td>quantum computer Strange new phase two time di...</td>\n",
       "    </tr>\n",
       "    <tr>\n",
       "      <th>4</th>\n",
       "      <td>-1</td>\n",
       "      <td>-1_new_said_study_people</td>\n",
       "      <td>https://www.engadget.com/zipline-drone-deliver...</td>\n",
       "      <td>Zipline has teamed up with a healthcare provid...</td>\n",
       "      <td>Zipline drones will deliver medicine to commun...</td>\n",
       "      <td>Utah communities medicine Zipline drones Zipline</td>\n",
       "    </tr>\n",
       "    <tr>\n",
       "      <th>...</th>\n",
       "      <td>...</td>\n",
       "      <td>...</td>\n",
       "      <td>...</td>\n",
       "      <td>...</td>\n",
       "      <td>...</td>\n",
       "      <td>...</td>\n",
       "    </tr>\n",
       "    <tr>\n",
       "      <th>586</th>\n",
       "      <td>12</td>\n",
       "      <td>12_women_health_pill_cycles</td>\n",
       "      <td>https://techcrunch.com/2019/09/29/badass-mille...</td>\n",
       "      <td>Across the political, social and economic stag...</td>\n",
       "      <td>Badass millennial women are supercharging star...</td>\n",
       "      <td>startup investments Badass millennial women</td>\n",
       "    </tr>\n",
       "    <tr>\n",
       "      <th>587</th>\n",
       "      <td>12</td>\n",
       "      <td>12_women_health_pill_cycles</td>\n",
       "      <td>https://techcrunch.com/2020/08/28/femtech-pois...</td>\n",
       "      <td>The market for female-focused health products ...</td>\n",
       "      <td>Femtech poised for growth beyond fertility</td>\n",
       "      <td>fertility growth Femtech</td>\n",
       "    </tr>\n",
       "    <tr>\n",
       "      <th>588</th>\n",
       "      <td>12</td>\n",
       "      <td>12_women_health_pill_cycles</td>\n",
       "      <td>https://techcrunch.com/2020/02/09/hannah-seal-...</td>\n",
       "      <td>Index Fund’s portfolio is driving long-overdue...</td>\n",
       "      <td>Index Fundâs portfolio is driving long-overd...</td>\n",
       "      <td>femcare Index Fundâs portfolio Fundâs long...</td>\n",
       "    </tr>\n",
       "    <tr>\n",
       "      <th>589</th>\n",
       "      <td>12</td>\n",
       "      <td>12_women_health_pill_cycles</td>\n",
       "      <td>https://techcrunch.com/2021/05/25/acuitymd-rai...</td>\n",
       "      <td>In a world defined by tons of noise and little...</td>\n",
       "      <td>AcuityMD raises $7M to better track the evolvi...</td>\n",
       "      <td>medical hardware the evolving world AcuityMD</td>\n",
       "    </tr>\n",
       "    <tr>\n",
       "      <th>590</th>\n",
       "      <td>12</td>\n",
       "      <td>12_women_health_pill_cycles</td>\n",
       "      <td>https://techcrunch.com/2017/03/21/the-mednet-l...</td>\n",
       "      <td>A New York City startup called The Mednet toda...</td>\n",
       "      <td>The Mednet launches its âQuora for cancer,â...</td>\n",
       "      <td>an online medical knowledge base â cancer it...</td>\n",
       "    </tr>\n",
       "  </tbody>\n",
       "</table>\n",
       "<p>591 rows × 6 columns</p>\n",
       "</div>"
      ],
      "text/plain": [
       "     Topic                        label  \\\n",
       "0       -1     -1_new_said_study_people   \n",
       "1       -1     -1_new_said_study_people   \n",
       "2       -1     -1_new_said_study_people   \n",
       "3       -1     -1_new_said_study_people   \n",
       "4       -1     -1_new_said_study_people   \n",
       "..     ...                          ...   \n",
       "586     12  12_women_health_pill_cycles   \n",
       "587     12  12_women_health_pill_cycles   \n",
       "588     12  12_women_health_pill_cycles   \n",
       "589     12  12_women_health_pill_cycles   \n",
       "590     12  12_women_health_pill_cycles   \n",
       "\n",
       "                                                  link  \\\n",
       "0    http://jhr.uwpress.org/content/early/2022/10/0...   \n",
       "1      https://www.eurekalert.org/news-releases/967553   \n",
       "2      https://www.eurekalert.org/news-releases/965575   \n",
       "3      https://www.eurekalert.org/news-releases/958880   \n",
       "4    https://www.engadget.com/zipline-drone-deliver...   \n",
       "..                                                 ...   \n",
       "586  https://techcrunch.com/2019/09/29/badass-mille...   \n",
       "587  https://techcrunch.com/2020/08/28/femtech-pois...   \n",
       "588  https://techcrunch.com/2020/02/09/hannah-seal-...   \n",
       "589  https://techcrunch.com/2021/05/25/acuitymd-rai...   \n",
       "590  https://techcrunch.com/2017/03/21/the-mednet-l...   \n",
       "\n",
       "                                              abstract  \\\n",
       "0    We study how ambient lead exposure impacts lea...   \n",
       "1    RIVERSIDE, Calif. -- Thirdhand smoke, or THS, ...   \n",
       "2    Deep Longevity bridges the gap between the con...   \n",
       "3    By subjecting a quantum computer’s qubits to q...   \n",
       "4    Zipline has teamed up with a healthcare provid...   \n",
       "..                                                 ...   \n",
       "586  Across the political, social and economic stag...   \n",
       "587  The market for female-focused health products ...   \n",
       "588  Index Fund’s portfolio is driving long-overdue...   \n",
       "589  In a world defined by tons of noise and little...   \n",
       "590  A New York City startup called The Mednet toda...   \n",
       "\n",
       "                                                titles  \\\n",
       "0    A Thousand Cuts: Cumulative Lead Exposure Redu...   \n",
       "1            Thirdhand smoke can trigger skin diseases   \n",
       "2    Being lonely and unhappy accelerates aging mor...   \n",
       "3    Strange new phase of matter created in quantum...   \n",
       "4    Zipline drones will deliver medicine to commun...   \n",
       "..                                                 ...   \n",
       "586  Badass millennial women are supercharging star...   \n",
       "587         Femtech poised for growth beyond fertility   \n",
       "588  Index Fundâs portfolio is driving long-overd...   \n",
       "589  AcuityMD raises $7M to better track the evolvi...   \n",
       "590  The Mednet launches its âQuora for cancer,â...   \n",
       "\n",
       "                                        title_textrank  \n",
       "0    Cumulative Lead Exposure Reduces Academic Achi...  \n",
       "1              skin diseases Thirdhand smoke Thirdhand  \n",
       "2                 Being lonely and unhappy accelerates  \n",
       "3    quantum computer Strange new phase two time di...  \n",
       "4     Utah communities medicine Zipline drones Zipline  \n",
       "..                                                 ...  \n",
       "586        startup investments Badass millennial women  \n",
       "587                           fertility growth Femtech  \n",
       "588  femcare Index Fundâs portfolio Fundâs long...  \n",
       "589       medical hardware the evolving world AcuityMD  \n",
       "590  an online medical knowledge base â cancer it...  \n",
       "\n",
       "[591 rows x 6 columns]"
      ]
     },
     "execution_count": 140,
     "metadata": {},
     "output_type": "execute_result"
    }
   ],
   "source": [
    "df"
   ]
  },
  {
   "cell_type": "code",
   "execution_count": null,
   "metadata": {},
   "outputs": [],
   "source": []
  },
  {
   "cell_type": "markdown",
   "metadata": {},
   "source": [
    "Abstracts"
   ]
  },
  {
   "cell_type": "code",
   "execution_count": 141,
   "metadata": {},
   "outputs": [],
   "source": [
    "abstracts_list = df['abstract'].to_list()"
   ]
  },
  {
   "cell_type": "code",
   "execution_count": 142,
   "metadata": {},
   "outputs": [],
   "source": [
    "rank_dict = analyze_text_textrank(nlp(abstracts_list[3]), 0.07)"
   ]
  },
  {
   "cell_type": "code",
   "execution_count": 143,
   "metadata": {},
   "outputs": [
    {
     "data": {
      "application/vnd.plotly.v1+json": {
       "config": {
        "plotlyServerURL": "https://plot.ly"
       },
       "data": [
        {
         "hovertemplate": "x=%{x}<br>y=%{y}<extra></extra>",
         "legendgroup": "",
         "line": {
          "color": "#636efa",
          "dash": "solid"
         },
         "marker": {
          "symbol": "circle"
         },
         "mode": "lines",
         "name": "",
         "orientation": "v",
         "showlegend": false,
         "type": "scatter",
         "x": [
          0,
          1,
          2,
          3,
          4,
          5
         ],
         "xaxis": "x",
         "y": [
          0.09042261760793147,
          0.07949688172909525,
          0.07241865721878285,
          0.0705823070853677,
          0.07042836183202153,
          0.07040061391645157
         ],
         "yaxis": "y"
        }
       ],
       "layout": {
        "legend": {
         "tracegroupgap": 0
        },
        "margin": {
         "t": 60
        },
        "template": {
         "data": {
          "bar": [
           {
            "error_x": {
             "color": "#2a3f5f"
            },
            "error_y": {
             "color": "#2a3f5f"
            },
            "marker": {
             "line": {
              "color": "#E5ECF6",
              "width": 0.5
             },
             "pattern": {
              "fillmode": "overlay",
              "size": 10,
              "solidity": 0.2
             }
            },
            "type": "bar"
           }
          ],
          "barpolar": [
           {
            "marker": {
             "line": {
              "color": "#E5ECF6",
              "width": 0.5
             },
             "pattern": {
              "fillmode": "overlay",
              "size": 10,
              "solidity": 0.2
             }
            },
            "type": "barpolar"
           }
          ],
          "carpet": [
           {
            "aaxis": {
             "endlinecolor": "#2a3f5f",
             "gridcolor": "white",
             "linecolor": "white",
             "minorgridcolor": "white",
             "startlinecolor": "#2a3f5f"
            },
            "baxis": {
             "endlinecolor": "#2a3f5f",
             "gridcolor": "white",
             "linecolor": "white",
             "minorgridcolor": "white",
             "startlinecolor": "#2a3f5f"
            },
            "type": "carpet"
           }
          ],
          "choropleth": [
           {
            "colorbar": {
             "outlinewidth": 0,
             "ticks": ""
            },
            "type": "choropleth"
           }
          ],
          "contour": [
           {
            "colorbar": {
             "outlinewidth": 0,
             "ticks": ""
            },
            "colorscale": [
             [
              0,
              "#0d0887"
             ],
             [
              0.1111111111111111,
              "#46039f"
             ],
             [
              0.2222222222222222,
              "#7201a8"
             ],
             [
              0.3333333333333333,
              "#9c179e"
             ],
             [
              0.4444444444444444,
              "#bd3786"
             ],
             [
              0.5555555555555556,
              "#d8576b"
             ],
             [
              0.6666666666666666,
              "#ed7953"
             ],
             [
              0.7777777777777778,
              "#fb9f3a"
             ],
             [
              0.8888888888888888,
              "#fdca26"
             ],
             [
              1,
              "#f0f921"
             ]
            ],
            "type": "contour"
           }
          ],
          "contourcarpet": [
           {
            "colorbar": {
             "outlinewidth": 0,
             "ticks": ""
            },
            "type": "contourcarpet"
           }
          ],
          "heatmap": [
           {
            "colorbar": {
             "outlinewidth": 0,
             "ticks": ""
            },
            "colorscale": [
             [
              0,
              "#0d0887"
             ],
             [
              0.1111111111111111,
              "#46039f"
             ],
             [
              0.2222222222222222,
              "#7201a8"
             ],
             [
              0.3333333333333333,
              "#9c179e"
             ],
             [
              0.4444444444444444,
              "#bd3786"
             ],
             [
              0.5555555555555556,
              "#d8576b"
             ],
             [
              0.6666666666666666,
              "#ed7953"
             ],
             [
              0.7777777777777778,
              "#fb9f3a"
             ],
             [
              0.8888888888888888,
              "#fdca26"
             ],
             [
              1,
              "#f0f921"
             ]
            ],
            "type": "heatmap"
           }
          ],
          "heatmapgl": [
           {
            "colorbar": {
             "outlinewidth": 0,
             "ticks": ""
            },
            "colorscale": [
             [
              0,
              "#0d0887"
             ],
             [
              0.1111111111111111,
              "#46039f"
             ],
             [
              0.2222222222222222,
              "#7201a8"
             ],
             [
              0.3333333333333333,
              "#9c179e"
             ],
             [
              0.4444444444444444,
              "#bd3786"
             ],
             [
              0.5555555555555556,
              "#d8576b"
             ],
             [
              0.6666666666666666,
              "#ed7953"
             ],
             [
              0.7777777777777778,
              "#fb9f3a"
             ],
             [
              0.8888888888888888,
              "#fdca26"
             ],
             [
              1,
              "#f0f921"
             ]
            ],
            "type": "heatmapgl"
           }
          ],
          "histogram": [
           {
            "marker": {
             "pattern": {
              "fillmode": "overlay",
              "size": 10,
              "solidity": 0.2
             }
            },
            "type": "histogram"
           }
          ],
          "histogram2d": [
           {
            "colorbar": {
             "outlinewidth": 0,
             "ticks": ""
            },
            "colorscale": [
             [
              0,
              "#0d0887"
             ],
             [
              0.1111111111111111,
              "#46039f"
             ],
             [
              0.2222222222222222,
              "#7201a8"
             ],
             [
              0.3333333333333333,
              "#9c179e"
             ],
             [
              0.4444444444444444,
              "#bd3786"
             ],
             [
              0.5555555555555556,
              "#d8576b"
             ],
             [
              0.6666666666666666,
              "#ed7953"
             ],
             [
              0.7777777777777778,
              "#fb9f3a"
             ],
             [
              0.8888888888888888,
              "#fdca26"
             ],
             [
              1,
              "#f0f921"
             ]
            ],
            "type": "histogram2d"
           }
          ],
          "histogram2dcontour": [
           {
            "colorbar": {
             "outlinewidth": 0,
             "ticks": ""
            },
            "colorscale": [
             [
              0,
              "#0d0887"
             ],
             [
              0.1111111111111111,
              "#46039f"
             ],
             [
              0.2222222222222222,
              "#7201a8"
             ],
             [
              0.3333333333333333,
              "#9c179e"
             ],
             [
              0.4444444444444444,
              "#bd3786"
             ],
             [
              0.5555555555555556,
              "#d8576b"
             ],
             [
              0.6666666666666666,
              "#ed7953"
             ],
             [
              0.7777777777777778,
              "#fb9f3a"
             ],
             [
              0.8888888888888888,
              "#fdca26"
             ],
             [
              1,
              "#f0f921"
             ]
            ],
            "type": "histogram2dcontour"
           }
          ],
          "mesh3d": [
           {
            "colorbar": {
             "outlinewidth": 0,
             "ticks": ""
            },
            "type": "mesh3d"
           }
          ],
          "parcoords": [
           {
            "line": {
             "colorbar": {
              "outlinewidth": 0,
              "ticks": ""
             }
            },
            "type": "parcoords"
           }
          ],
          "pie": [
           {
            "automargin": true,
            "type": "pie"
           }
          ],
          "scatter": [
           {
            "fillpattern": {
             "fillmode": "overlay",
             "size": 10,
             "solidity": 0.2
            },
            "type": "scatter"
           }
          ],
          "scatter3d": [
           {
            "line": {
             "colorbar": {
              "outlinewidth": 0,
              "ticks": ""
             }
            },
            "marker": {
             "colorbar": {
              "outlinewidth": 0,
              "ticks": ""
             }
            },
            "type": "scatter3d"
           }
          ],
          "scattercarpet": [
           {
            "marker": {
             "colorbar": {
              "outlinewidth": 0,
              "ticks": ""
             }
            },
            "type": "scattercarpet"
           }
          ],
          "scattergeo": [
           {
            "marker": {
             "colorbar": {
              "outlinewidth": 0,
              "ticks": ""
             }
            },
            "type": "scattergeo"
           }
          ],
          "scattergl": [
           {
            "marker": {
             "colorbar": {
              "outlinewidth": 0,
              "ticks": ""
             }
            },
            "type": "scattergl"
           }
          ],
          "scattermapbox": [
           {
            "marker": {
             "colorbar": {
              "outlinewidth": 0,
              "ticks": ""
             }
            },
            "type": "scattermapbox"
           }
          ],
          "scatterpolar": [
           {
            "marker": {
             "colorbar": {
              "outlinewidth": 0,
              "ticks": ""
             }
            },
            "type": "scatterpolar"
           }
          ],
          "scatterpolargl": [
           {
            "marker": {
             "colorbar": {
              "outlinewidth": 0,
              "ticks": ""
             }
            },
            "type": "scatterpolargl"
           }
          ],
          "scatterternary": [
           {
            "marker": {
             "colorbar": {
              "outlinewidth": 0,
              "ticks": ""
             }
            },
            "type": "scatterternary"
           }
          ],
          "surface": [
           {
            "colorbar": {
             "outlinewidth": 0,
             "ticks": ""
            },
            "colorscale": [
             [
              0,
              "#0d0887"
             ],
             [
              0.1111111111111111,
              "#46039f"
             ],
             [
              0.2222222222222222,
              "#7201a8"
             ],
             [
              0.3333333333333333,
              "#9c179e"
             ],
             [
              0.4444444444444444,
              "#bd3786"
             ],
             [
              0.5555555555555556,
              "#d8576b"
             ],
             [
              0.6666666666666666,
              "#ed7953"
             ],
             [
              0.7777777777777778,
              "#fb9f3a"
             ],
             [
              0.8888888888888888,
              "#fdca26"
             ],
             [
              1,
              "#f0f921"
             ]
            ],
            "type": "surface"
           }
          ],
          "table": [
           {
            "cells": {
             "fill": {
              "color": "#EBF0F8"
             },
             "line": {
              "color": "white"
             }
            },
            "header": {
             "fill": {
              "color": "#C8D4E3"
             },
             "line": {
              "color": "white"
             }
            },
            "type": "table"
           }
          ]
         },
         "layout": {
          "annotationdefaults": {
           "arrowcolor": "#2a3f5f",
           "arrowhead": 0,
           "arrowwidth": 1
          },
          "autotypenumbers": "strict",
          "coloraxis": {
           "colorbar": {
            "outlinewidth": 0,
            "ticks": ""
           }
          },
          "colorscale": {
           "diverging": [
            [
             0,
             "#8e0152"
            ],
            [
             0.1,
             "#c51b7d"
            ],
            [
             0.2,
             "#de77ae"
            ],
            [
             0.3,
             "#f1b6da"
            ],
            [
             0.4,
             "#fde0ef"
            ],
            [
             0.5,
             "#f7f7f7"
            ],
            [
             0.6,
             "#e6f5d0"
            ],
            [
             0.7,
             "#b8e186"
            ],
            [
             0.8,
             "#7fbc41"
            ],
            [
             0.9,
             "#4d9221"
            ],
            [
             1,
             "#276419"
            ]
           ],
           "sequential": [
            [
             0,
             "#0d0887"
            ],
            [
             0.1111111111111111,
             "#46039f"
            ],
            [
             0.2222222222222222,
             "#7201a8"
            ],
            [
             0.3333333333333333,
             "#9c179e"
            ],
            [
             0.4444444444444444,
             "#bd3786"
            ],
            [
             0.5555555555555556,
             "#d8576b"
            ],
            [
             0.6666666666666666,
             "#ed7953"
            ],
            [
             0.7777777777777778,
             "#fb9f3a"
            ],
            [
             0.8888888888888888,
             "#fdca26"
            ],
            [
             1,
             "#f0f921"
            ]
           ],
           "sequentialminus": [
            [
             0,
             "#0d0887"
            ],
            [
             0.1111111111111111,
             "#46039f"
            ],
            [
             0.2222222222222222,
             "#7201a8"
            ],
            [
             0.3333333333333333,
             "#9c179e"
            ],
            [
             0.4444444444444444,
             "#bd3786"
            ],
            [
             0.5555555555555556,
             "#d8576b"
            ],
            [
             0.6666666666666666,
             "#ed7953"
            ],
            [
             0.7777777777777778,
             "#fb9f3a"
            ],
            [
             0.8888888888888888,
             "#fdca26"
            ],
            [
             1,
             "#f0f921"
            ]
           ]
          },
          "colorway": [
           "#636efa",
           "#EF553B",
           "#00cc96",
           "#ab63fa",
           "#FFA15A",
           "#19d3f3",
           "#FF6692",
           "#B6E880",
           "#FF97FF",
           "#FECB52"
          ],
          "font": {
           "color": "#2a3f5f"
          },
          "geo": {
           "bgcolor": "white",
           "lakecolor": "white",
           "landcolor": "#E5ECF6",
           "showlakes": true,
           "showland": true,
           "subunitcolor": "white"
          },
          "hoverlabel": {
           "align": "left"
          },
          "hovermode": "closest",
          "mapbox": {
           "style": "light"
          },
          "paper_bgcolor": "white",
          "plot_bgcolor": "#E5ECF6",
          "polar": {
           "angularaxis": {
            "gridcolor": "white",
            "linecolor": "white",
            "ticks": ""
           },
           "bgcolor": "#E5ECF6",
           "radialaxis": {
            "gridcolor": "white",
            "linecolor": "white",
            "ticks": ""
           }
          },
          "scene": {
           "xaxis": {
            "backgroundcolor": "#E5ECF6",
            "gridcolor": "white",
            "gridwidth": 2,
            "linecolor": "white",
            "showbackground": true,
            "ticks": "",
            "zerolinecolor": "white"
           },
           "yaxis": {
            "backgroundcolor": "#E5ECF6",
            "gridcolor": "white",
            "gridwidth": 2,
            "linecolor": "white",
            "showbackground": true,
            "ticks": "",
            "zerolinecolor": "white"
           },
           "zaxis": {
            "backgroundcolor": "#E5ECF6",
            "gridcolor": "white",
            "gridwidth": 2,
            "linecolor": "white",
            "showbackground": true,
            "ticks": "",
            "zerolinecolor": "white"
           }
          },
          "shapedefaults": {
           "line": {
            "color": "#2a3f5f"
           }
          },
          "ternary": {
           "aaxis": {
            "gridcolor": "white",
            "linecolor": "white",
            "ticks": ""
           },
           "baxis": {
            "gridcolor": "white",
            "linecolor": "white",
            "ticks": ""
           },
           "bgcolor": "#E5ECF6",
           "caxis": {
            "gridcolor": "white",
            "linecolor": "white",
            "ticks": ""
           }
          },
          "title": {
           "x": 0.05
          },
          "xaxis": {
           "automargin": true,
           "gridcolor": "white",
           "linecolor": "white",
           "ticks": "",
           "title": {
            "standoff": 15
           },
           "zerolinecolor": "white",
           "zerolinewidth": 2
          },
          "yaxis": {
           "automargin": true,
           "gridcolor": "white",
           "linecolor": "white",
           "ticks": "",
           "title": {
            "standoff": 15
           },
           "zerolinecolor": "white",
           "zerolinewidth": 2
          }
         }
        },
        "xaxis": {
         "anchor": "y",
         "domain": [
          0,
          1
         ],
         "title": {
          "text": "x"
         }
        },
        "yaxis": {
         "anchor": "x",
         "domain": [
          0,
          1
         ],
         "title": {
          "text": "y"
         }
        }
       }
      }
     },
     "metadata": {},
     "output_type": "display_data"
    }
   ],
   "source": [
    "plot_ranks(rank_dict)"
   ]
  },
  {
   "cell_type": "code",
   "execution_count": 144,
   "metadata": {},
   "outputs": [
    {
     "data": {
      "text/plain": [
       "['quantum computers',\n",
       " 'quantum information',\n",
       " 'study lead author Philipp Dumitrescu',\n",
       " 'laser pulses',\n",
       " 'quantum mechanics']"
      ]
     },
     "execution_count": 144,
     "metadata": {},
     "output_type": "execute_result"
    }
   ],
   "source": [
    "rank_dict['text'][:5]"
   ]
  },
  {
   "cell_type": "code",
   "execution_count": 145,
   "metadata": {},
   "outputs": [],
   "source": [
    "#ANALYZE ABSTRACTS WITH TEXTRANK\n",
    "threshold_rank = 0.05\n",
    "\n",
    "abstract_rank_words = []\n",
    "\n",
    "\n",
    "for abstract in abstracts_list:\n",
    "     abstract_doc = nlp(abstract)\n",
    "     abstract_dict = analyze_text_textrank(abstract_doc, threshold_rank)\n",
    "     abstract_ranked = \" \".join(abstract_dict['text'][:5])\n",
    "     abstract_rank_words.append(abstract_ranked)\n"
   ]
  },
  {
   "cell_type": "code",
   "execution_count": 146,
   "metadata": {},
   "outputs": [
    {
     "data": {
      "text/plain": [
       "['academic performance exposure unleaded fuel present value terms class size',\n",
       " 'THS exposure THS exposures acute THS exposure skin diseases inflammatory skin disease',\n",
       " 'psychological aging vulnerable mental health health conditions health outcomes aging',\n",
       " 'quantum computers quantum information study lead author Philipp Dumitrescu laser pulses quantum mechanics',\n",
       " 'drone deliveries commercial drone deliveries Zipline deliveries Salt Lake Valley drones',\n",
       " 'constant activation charges new activations Device Connection Charge customers all new postpaid activations',\n",
       " 'PFAS molecules non-stick Teflon pans dental floss breaking news alerts PFAS',\n",
       " 'carbon capture firms carbon emissions carbon technology firms carbon tech carbon capture',\n",
       " 'Chinese firms Chinese companies China Chinese manufacturers Chinese consumers',\n",
       " 'high GPU prices price points GPU prices price RTX',\n",
       " 'mass school shootings mass school shootings risks future mass school shootings mass shootings mass murder',\n",
       " 'JWST light data light data opacity models data us?\"The data',\n",
       " 'food waste California Chipotle restaurants loyalty QR codes Buffalo Wild Wings',\n",
       " 'fusion energy private sector nuclear fusion companies private fusion companies Nuclear fusion private sector fusion industry',\n",
       " 'passenger vehicles Chinese state news agency Xinhua modified passenger cars government transportation authorities road tests',\n",
       " 'greenhouse gases gas ice melting downtown Miami Antarctica',\n",
       " 'U.S. state policies adults ages higher mortality Changing state policies U.S. state policy contexts',\n",
       " 'homeownership tax attractiveness Capital gains tax capital gains tax housing taxation policies tax deduction',\n",
       " 'cardiovascular disease incident cardiovascular disease developing cardiovascular disease vigorous activity Vigorous physical activity',\n",
       " 'work bats Bats bats bat declines bat predation',\n",
       " 'games older games video games modern games AAA games',\n",
       " 'American technology advanced semiconductor technology technologies several people Chinese companies',\n",
       " 'future UAP studies unclassified data known natural phenomena commercial data future data',\n",
       " 'traditional solar cells cosensitized solar cells ambient light harvesting light transparent solar panels',\n",
       " 'fewer cards graphics cards GeForce the old GeForce cards more gaming performance',\n",
       " 'EVGA products last year years graphics cards EVGA',\n",
       " 'single cases NVIDIA such damage incoming wire Standard compliant power supply cables',\n",
       " 'LCD TVs OLED TVs TVs TV makers many TV models',\n",
       " 'flight tests Moses Lake Alice airplane Test pilot Steve Crane test pilot Steve Crane',\n",
       " 'price comparisons prices truthful price comparisons price histories discount claims',\n",
       " 'new orders Boeing market share huge market share last month',\n",
       " 'Robotic surgery robotic surgery robotic general surgery open surgery surgery',\n",
       " 'modern humans Humans humans years Neanderthals',\n",
       " 'childhood poverty monetary poverty extreme monetary poverty criminal conviction criminal convictions',\n",
       " 'weight loss TikTok UVM health weight loss nutrition content weight',\n",
       " 'bike share bike share use bike share stations bike share ambassadors personal safety',\n",
       " 'McGill students students senior author Professor Jianyu Li Mechanical Engineering Professor Jianyu Li',\n",
       " 'slowing population growth population decline current population levels fewer working people working people',\n",
       " 'thermal paste excess thermal paste new AM5 editions NA NA-TPG1 thermal paste guard',\n",
       " 'other countries many countries most countries U.S. VC investment investment',\n",
       " 'heavy solar panels solar network developer Okra solar farms solar startup Terabase Energy solar energy startups',\n",
       " 'consumer vehicles Arm China smart vehicles China Sequoia Capital China',\n",
       " 'major programs synthetic aperture radar technology the entire satellite program the Sirb satellite constellation a remote sensing satellite constellation',\n",
       " 'aviation fuels fossil fuels replacement fuels fuel shipping',\n",
       " 'digital solutions software New York-based critical infrastructure safety AI company Urbint Energize Ventures Fast Radius and solar software company Aurora Solar',\n",
       " 'strokes stroke rehabilitation company BrainQ Vardoulis Orestis Vardoulis many people',\n",
       " 'stroke recovery healthy brains normal brain activity non-healthy brains Strokes',\n",
       " 'Astra’s rocket aspiring space technology companies commercial rockets rocket industry methods rockets',\n",
       " 'space technologies space technology new space programs new technologies Space',\n",
       " 'Battlefield Nick Whitehouse last week Whitehouse acquisition talks',\n",
       " 'Juro contracts pdf contracts contracts contract management contract management services',\n",
       " 'Starship flight crewed Mars mission Mars Starship Starships',\n",
       " 'next generation electronics UK based graphene startup graphene higher efficiency renewable energy generation strategic volume device production partners',\n",
       " 'healing processes heart rate necessary cell types other systems new treatments',\n",
       " 'accurate air quality data Aclima state governments air Davida Herzl',\n",
       " 'clean energy investments today new policies EU Korea',\n",
       " 'crypto stolen crypto crypto analysis senior crypto reporter Anita Ramaswamy largest crypto exchange',\n",
       " 'carbon credits carbon removal carbon offset sellers carbon removal technologies carbon offsets',\n",
       " 'White people white people Such images such images such disasters',\n",
       " 'HaCaT cells HaCaT human keratinocyte cells murine skin tissue abnormal skin proliferation CBD treatment',\n",
       " 'genetic material genetic engineering advanced genetic sequencing genetic scissors DNA sequence',\n",
       " 'conventional windows visible light energy consumption global energy consumption outer space',\n",
       " 'lidar data lidar sensors moving pedestrians genuine data vehicles',\n",
       " 'public tech companies climate tech larger companies tech space the climate tech companies',\n",
       " 'market such long timelines hard tech problems advanced batteries Engine',\n",
       " 'carbon markets technology solutions innovative decarbonization solutions carbon removal technologies carbon capture capabilities',\n",
       " 'top deals Top climate tech investments CB Insights fleet-charging startup TeraWatt eight top startups',\n",
       " 'carbon emission factors other carbon accounting players Sage’s core values carbon climate tech',\n",
       " 'climate data climate data increase data infrastructure data tools climate tech companies',\n",
       " 'battery companies many battery tech companies startups transition cheap power commercialization',\n",
       " 'agtech VC deals agtech deals traditional agtech investors agtech VC funding agtech startups',\n",
       " 'diversity greater medical advancements genomic data medical technology medical centers',\n",
       " 'Climate tech climate tech year last year year over year',\n",
       " 'carbon Levidian CEO John Hartley hydrogen Loop interesting use cases',\n",
       " 'more energy energy nuclear fusion burning fossil fuels nuclear power stations',\n",
       " 'protein design novel protein sequences other proteins novel proteins proteins',\n",
       " 'Activity data activity data Step count step counts physical activity data',\n",
       " 'DUV tools modern lithography scanner tools less advanced tools fab tools',\n",
       " 'security vulnerabilities security researchers privileged code code Lenovo Feature Tag Test Information',\n",
       " 'plant material medical cannabis huge bioreactors cannabis regular cannabis',\n",
       " 'human bodies Return Home Return Home founder New companies recycling facilities',\n",
       " 'USB products USB devices different USB versions USB USB printer',\n",
       " 'content sexual themes mature subject matter Tumblr Community Label',\n",
       " 'fiscal year Mr Nadella median unadjusted pay stats Computing event Satya Nadella',\n",
       " 'market prices price apartments rental prices rent control prices',\n",
       " 'network elements network capacity heterogeneous network elements years networks',\n",
       " 'ageing research healthy life expectancy ageing research capacity life course life expectancy',\n",
       " 'hormone treatment gender dysphoria gender-affirming hormone treatment GnRHa treatment medical treatment',\n",
       " '',\n",
       " 'Parkinson’s tests people Parkinson other diseases faster diagnosis',\n",
       " 'viruses ancient viruses unknown viruses known viruses frozen viruses',\n",
       " 'milk proteins Synthetic milk synthetic milk synthetic proteins milk powder',\n",
       " 'solar cell heterojunction solar cell single junction solar cells different bottom cells infrared light',\n",
       " 'pesticide products PFAS compounds PFAS Toxic PFAS chemicals prominent PFAS',\n",
       " 'job openings many job candidates Workers workers U.S. job openings',\n",
       " 'call center workers call center work workers call centers white American voices',\n",
       " 'rare earth magnets rare earth materials rare earth elements high performance magnets permanent magnets',\n",
       " 'fusion power Chevron Technology Ventures hot plasma fusion Valor Equity Partners',\n",
       " 'Climate change climate change Agriculture National Institute climate projections most climate models',\n",
       " 'better client experience Law firms law firms client lifecycle management clients',\n",
       " 'Cinco many other baby alpacas Barnett Alpacas recognized alpaca shows',\n",
       " 'several companies companies company coffee company Atomo Leclerc',\n",
       " 'GPS devices cheap GPS jamming devices GPS jamming GPS signals GPS',\n",
       " 'research reactor US molten salt reactor design US molten salt research reactor19 reactor a molten salt research reactor',\n",
       " 'sand movement sand Moving sands Gird Castle Gird',\n",
       " 'Google users Private browsing modes private browsing modes private mode Incognito mode',\n",
       " 'higher daily precipitation intensities daily rainfall trends rainfall intensity average daily rainfall precipitation intensity',\n",
       " 'slower internet service internet services slower service Digital Equity Los Angeles offered rates',\n",
       " 'other Starbucks locations Starbucks Times Square Starbucks Workers United New York City',\n",
       " 'alien life extraterrestrial life life ancient life intelligent life',\n",
       " 'new supercontinent Pacific Ocean year years extroversion assembly',\n",
       " 'Snow crab populations snow crab harvest snow crab Bering Sea snow crab overall snow crab abundance',\n",
       " 'particle physics new particles Particle physicists particle physicists inventing particles',\n",
       " 'big tech whistleblowers big tech major tech firms damaging social media content outside parties',\n",
       " 'permafrost carbon feedback northern permafrost permafrost research permafrost emissions permafrost',\n",
       " 'RTX Ada Lovelace new tab the new RTX GPU AD104',\n",
       " 'new tab CMOS chips optical systems chip high speeds',\n",
       " 'developing countries social protection Countries social protection programs COVID-19 recovery funds',\n",
       " 'remote platform work remote work rural areasIncorporate remote platform work remote platform workers AustraliaMost remote platform workers',\n",
       " 'RTX Nvidia Nvidia Author Nvidias RTX 40 series graphics cards DLSS',\n",
       " 'Radiologists radiologists truck drivers human experts certain kind',\n",
       " 'Babcock Ranch residents surrounding communities Babcock Ranch Communities coastal storm',\n",
       " 'uterine cancer higher uterine cancer riskNIH study uterine cancer incidence cancer cancers',\n",
       " 'hair follicles hair follicle organoids hair follicle growth Yokohama National UniversityMature hair follicles hair loss',\n",
       " 'more preciselyAtomic clocks Atomic clocks quantum entangled atomic clocks Such entangled clocks National Physical Laboratory',\n",
       " 'Medicine Baltimore private markets ultra-cold liquid helium helium a much scarcer supply',\n",
       " 'Sexual assault sexual assault sexual assaults sexual assault victims sexual assault survivors',\n",
       " 'RNG stations RNG processing tanks gas station RNG greenhouse gas emissions',\n",
       " 'women authors more citations Citation centrality woman pairs men authors',\n",
       " 'AD genes reversed AD genes dysregulated AD genes other AD genes GWAS AD genes',\n",
       " 'mental health problems mental health poor mental health poorer mental health worse mental health',\n",
       " 'childless men family planning family formation family family researchers',\n",
       " 'election conspiracy theories election fraud widespread election fraud Trump’s election fraud claims election results',\n",
       " 'sexual satisfaction sexual dysfunction erectile dysfunction erectile functioning relationship satisfaction',\n",
       " 'G advocates G mobile networks older networks more applications',\n",
       " 'Starlink Version Starlink broadband SpaceX founder Starlink SpaceX',\n",
       " 'MRS observations science observations observations scheduling observations NASA officials',\n",
       " 'methane emissions methane leaks methane methane stream Tuesday afternoon',\n",
       " 'ammonoid shells Fossils fossils Such fossils ammonoid species',\n",
       " 'male politicians Female politicians female politicians politicians less respectFemale politicians',\n",
       " 'larger species large Asian species other large animals larger forests nearby humans',\n",
       " 'vehicular attacks violent vehicular attacks Radio Frequency Vehicle Stopper Radio Frequency Vehicle Stoppers lethal violence',\n",
       " 'Parkinson suspected Parkinson skin swabs people diseases',\n",
       " 'Globular clusters globular clusters more globular clusters such clusters first year',\n",
       " 'UC San Diego San Diego algae cells white blood cell mice',\n",
       " 'Taiwan China U.S. policy U.S. allies U.S. forces',\n",
       " 'gig economy companies benefits funds new laws Uber Files Uber',\n",
       " 'public female toplessness topless women public toplessness female toplessness women',\n",
       " 'conspiracy beliefs Outgroup conspiracy beliefs fewer conspiracy beliefs more conspiracy beliefs Such conspiracy beliefs',\n",
       " 'increased schizophrenia risk hospitalized COVID-19 cases Severe COVID-19 severe COVID-19 schizophrenia',\n",
       " 'strong storms stronger storms storms GPS trackers bird behavior',\n",
       " 'November 9th Oman questions Disrupt Berlin Thursday',\n",
       " 'San Diego San Francisco Mid-America Apartment Communities competitive levels Everett',\n",
       " 'radio telescopes current radio telescope radio waves radios radio transmissions',\n",
       " 'carbon storage carbon removal credits Class VI injection wells Class VI wells DAC',\n",
       " 'Molten salt reactors molten salt molten salts solid fuel rods fuel rods',\n",
       " 'Privacy Policy cookies the best user experience IEEE websites our Privacy Policy',\n",
       " 'New Scientist dummy data data separate channels data transfer rates',\n",
       " 'net electricity net energy fusion Energy ProductionSTEP its own fuel',\n",
       " 'GPS Earth Thermal Imaging computer Range Finder',\n",
       " 'rubber tracks steel plated tracks less fuel fuel consumption tracked military vechicles',\n",
       " 'road traffic busy roads road traffic volumes roads local communities',\n",
       " 'Visitors U Health Patients U Health Patients & Visitors All U',\n",
       " 'internal pipelines North China China Aerospace Science air resistance tests',\n",
       " 'more ads ad ads Black people people',\n",
       " 'water droplets life small water droplet surfaces pure water water',\n",
       " 'Galaxies galaxies earlier times early times James Webb Space Telescope',\n",
       " 'military VR VR headsets VR military applications military training',\n",
       " 'Military veterans military veterans Tech companies tech companies veterans',\n",
       " 'Electric school buses electric school buses electric buses VirginiaThe first electric school bus traditional school buses',\n",
       " 'bike paths future tech path multiple colors deepest Poland',\n",
       " 'Nuclear fusion nuclear fusion commercial fusion reactors plasma edge instabilities fast ions',\n",
       " 'pricing software other software apartment pricing software aggregated market data',\n",
       " 'initial alien contact other nations harness alien technology nations alien life',\n",
       " 'Quantum error correction quantum error correction quantum technology practical quantum computers Error correction',\n",
       " 'biomedical scientists other scientists Economic Research Scientists scientists',\n",
       " 'Noctua CPU cooler models socket AM5 AM4 mounting upgrade kits AM5 mounting hardware',\n",
       " 'teacher groups Ohio State study co-author Roger Goddard teacher selection Teachers',\n",
       " 'conspiracy theory beliefs conspiracy theories conspiracy theory research additional conspiracy theories conspiracy theorists',\n",
       " 'optical power power electrical power power cables power cords',\n",
       " 'topological materials experimental quantum topological materials other topological materials topological magnetic materials topological insulator',\n",
       " 'Peter Thisted Dinesen associate professor Frederik Hjorth professor assistant professor party loyalty',\n",
       " 'alternative proteins food production wider global issues foods part',\n",
       " 'your system administrator contact info@ncbi.nlm.nih.gov other researchers attack utilities http://www.ncbi.nlm.nih.gov/books/NBK25497/',\n",
       " 'international sporting events major sporting events Adam Scharpf autocratic regimes dictatorships',\n",
       " 'optical chip many frequencies second optical fiber different frequencies',\n",
       " 'religion real religion pagan group many young people',\n",
       " 'other family members specific patients members people patient',\n",
       " 'voter registration voter registrations voter registration data political protests local political protests',\n",
       " 'Autistic female individuals autistic female individuals autistic individuals autistic male individuals Autistic young female individuals',\n",
       " 'serious infection serious infections S. aureus infection infections',\n",
       " 'other new applications outThe new metasurface new ways Science paper entangled photons',\n",
       " 'planet years mid-infrared light planets short infrared wavelengths light',\n",
       " 'many new broadband customers residential broadband ARPU broadband revenue residential broadband units new customers',\n",
       " 'poverty risks poverty levels Poverty rates poverty rates poverty',\n",
       " 'https://apnews.com/hub/2022-midterm-elections North Carolina internet access North Carolina Gov. Roy Cooper high school students',\n",
       " 'U.K. foreign minister Liz Truss foreign officials government officials prime minister',\n",
       " 'electric school buses clean school buses electric buses clean buses buses',\n",
       " 'fairy circles new fairy circles Namibian fairy circles termite termites',\n",
       " 'Pantone colors colors different colors reference colors most colors',\n",
       " 'future war war military technologies military technology H.R. McMaster',\n",
       " 'Stadia controllers Steam Controllers controllers Stadia Wireless Stadia',\n",
       " 'Open Bionics hands bionic hands Open Bionics lower limbs one?”Open Bionics',\n",
       " 'other electric vehicle chargers electric vehicles electric car electric cars NASA technology',\n",
       " 'distributed rooftop wind energy reliable wind energy rooftop wind energy capture potential wind energy wind',\n",
       " 'silicon solar cells solar cell energy production energy security fossil fuel dependency',\n",
       " 'gas prices skyrocketing gas prices Rystad Energy Rystad forecasts Russian gas exports',\n",
       " 'renewable energy new solar energy capacity clean energy F-150 Lightning orders new orders',\n",
       " 'solar module cooling convective solar module cooling different row spacings PV plant configuration row spacing',\n",
       " 'SE Europe clean energy Europe neighboring European countries Copelouzos Group',\n",
       " 'existing technologies efficiency technologies other renewable technologies clean technology emissions',\n",
       " 'other battery materials battery materials batteries existing batteries cathodes',\n",
       " 'lowest emission operations spilled energy Australian mining company Oz Minerals low carbon lowest emissions copper and nickel mining projects',\n",
       " 'electric vehicle batteries battery temperature electric vehicle battery design Batteries batteries',\n",
       " 'wind turbines Supply chain pressures wind turbine generators wind onshore wind farms',\n",
       " 'normal fossil fuel diesel Belgian Grand Prix carbon dioxide emissions team principal less carbon emissions—44,091 kg',\n",
       " 'wind propulsion Wind Challenger Sydney Tokuda Shuichi GHG emissions intensity GHG emissions',\n",
       " 'solar plants solar energy new capacity last year solar power',\n",
       " 'battery power electrical grids grid electricity grids EV batteries',\n",
       " 'offshore wind strong wind turbines wind energy the new Chinese wind farm project Guangdong province officials',\n",
       " 'last year quarter Electrek Solar Roof installations scheduling',\n",
       " 'operational demand state electricity demand demand advanced battery inverters November last year',\n",
       " 'energy projects solar power projects solar power plants new projects photovoltaic plants',\n",
       " 'e-bike batteries used batteries -scooter battery new batteries lithium ion batteries',\n",
       " 'benzene exposure benzene enough benzene gas levels other gases',\n",
       " 'senior energy researcher nuclear power researchers hydrogen Colorado',\n",
       " 'diesel engines hydrogen engines existing diesel engines hydrogen fuel diesel injection timing',\n",
       " 'more affordable electric vehicles U.S. EV electric vehicles U.S. EV sales price',\n",
       " 'Singapore Prime Minister Lee Hsien Loong tropical Singapore Lee Hsien Loong Singapore solar power',\n",
       " 'grid frequency power systems system frequency future energy systems microgrid controllers',\n",
       " 'GW module production MT external supply dependencies external supply constraints',\n",
       " 'electric cars electric charging points charging points charging stations combustion cars',\n",
       " 'volume discounts equipment prices price Project Solar system design',\n",
       " 'crop risks agronomic risks multiple forecasting models Weather forecasting General Manager Martin Ducroquet',\n",
       " 'Battery power module Flow batteries flow batteries vanadium flow batteries battery technology',\n",
       " 'clean energy Renewable energy energy think tank Ember installed renewable energy capacity power capacity',\n",
       " 'scalable clean energy solutions clean energy power giant floating solar panels energy crises',\n",
       " 'fossil fuel use operational environments use tactical military vehicles GM Defense',\n",
       " 'California Southern California Solar panels solar panels solar panel canopies',\n",
       " 'offshore wind farms wind farm energy output farms personalized solar estimates the first US offshore wind farm',\n",
       " 'fossil fuel electricity generation global electricity demand % electricity demand +0.1%',\n",
       " 'offshore wind turbine geared turbines personalized solar estimates Gamesa’s huge wind turbine a single wind turbine',\n",
       " 'module capacity module capacity expansions cell production capacity production capacities Wafer capacity',\n",
       " 'Babcock Ranch September storms Babcock residents stronger storms storm water',\n",
       " 'electric vehicles battery electric vehicles more electric vehicles several battery electric vehicles Normet electric mining equipment',\n",
       " 'battery material battery materials ’ Wirtz Manufacturing lead-acid batteries',\n",
       " 'new battery batteries battery research lithium-ion batteries more energy',\n",
       " 'electric vehicle sales Getty ImagesElectric vehicle sales total light duty vehicle sales global sales Sales',\n",
       " 'new solar PV capacity new clean energy generation capacity gas generation new solar PV facilities new capacity',\n",
       " 'other companies production solar panels November last year next year',\n",
       " 'electric vehicles amps EV sales today EVs',\n",
       " 'electric vehicles electric vehicle users electric vehicle tax credits significant reductions other financial incentives',\n",
       " 'plastic types mixed plastic waste recycled plastic consumer plastic waste industry criticsRecycling plastic',\n",
       " 'industrial robots Such robots Robots robots mobile robots',\n",
       " 'combat robot dogs robots enemy lines human soldiers automatic weapons',\n",
       " 'higher skill development CBS News robots higher wages traditional methods',\n",
       " 'Whales whales ocean currents undersea ecosystems other criteria',\n",
       " 'civil rights automated systems rights Black people AI solutions',\n",
       " 'research leader Prof. Mirko Kovac Mirko Kovac buildings tandem the future',\n",
       " 'combat vehicles real time window display screens diverse terrains softer ground',\n",
       " 'new bubbles tiny gas bubbles particle particles tiny things',\n",
       " 'self robots robot morphologies Science Robotics Hod Lipson',\n",
       " 'Several drone delivery services Drone deliveries road congestion electric drones drone',\n",
       " 'advanced mobile robots such robots Robots robots Open Robotics',\n",
       " 'material materials thisConductive materials organic materials electricity',\n",
       " 'autonomous delivery trucks autonomous pizza delivery robots autonomous vehicle company Gatnik Magna International Magna New Mobility',\n",
       " 'autonomous Deere tractors existing tractors tractors full autonomy Deere',\n",
       " 'consumer robots robots robot manufacturers armed robot robot makers',\n",
       " 'objects more energy better durability time times',\n",
       " 'digital cameras digital photography digital camera imaging sensors cameras XL movie cameras',\n",
       " 'Mine detection rats rats giant African pouched rats Donna Kean Kean',\n",
       " 'airport neighbourhood unmanned aerial vehicles cars drone',\n",
       " 'other mechanical parts other, stiffer parts odd printing filaments filament synthetic rubber',\n",
       " 'plant food plant disease plant plants potential crop yield',\n",
       " 'other foods Miso Chief Executive Mike Bell robots Flippy frozen French fries',\n",
       " 'complex objects objects MIT.The gripper’s strength robotics grippers complex feedback loops',\n",
       " 'human body mulch bodies body E ach body California residents',\n",
       " 'Magical Mushroom Company traditional packaging many others sustainable packaging startups packaging',\n",
       " 'organic materials high pressure other vehicles traditional electronics electronics',\n",
       " 'floppy disks disks \"Floppy disks Richard Nixon U.S. presidential debate.[1/4 John F. Kennedy',\n",
       " 'cyborg insects solar cells cyborg cockroaches Mark HeinrichOur Standards Japanese research giant Riken',\n",
       " 'cyborg insects time Cyborg Cockroaches cyborg cockroaches Madagascar cockroaches',\n",
       " 'numerous materials recovery facilities raw material processing raw materials recyclable materials packaging types',\n",
       " 'Unitree Robotics Open Robotics Clearpath Robotics such robots Agility Robotics',\n",
       " 'Genomatica CEO Genomatica certain brand partners more companies greenhouse gas emissions',\n",
       " 'Advanced Tactical Laser sir those cute little Hercules transports Hercules first',\n",
       " 'Tesla Optimus robot breakdown last year next year Tesla CEO Elon Musk capable robots',\n",
       " 'new sustainable packaging materials plant waste only sustainable packaging commodity based plastics molded packaging',\n",
       " 'solid material new material material scientists synthetic material material',\n",
       " 'patio gardens open ocean conditions next year water pressure summer next year',\n",
       " 'AMP Robotics AMP Robotic’s Sequoia Capital Canada Fibers the recycling robotics technology developer',\n",
       " 'wax worms several years plastic pollution plastic plastic waste',\n",
       " 'Recycling plastic New plastic used plastic Plastic plastic',\n",
       " 'advanced robots robots autonomous weapons systems Patricia De Melo Moreira autonomous weapons',\n",
       " 'mechanical weeding hand weeding new technology weed management costs Carbon Robotics CEO',\n",
       " 'marine litter other marine cleaning devices marine life marine organisms marine debris',\n",
       " 'Koo Penn Engineering Penn Engineering TodayRevolutionizing Community Oral Health and Pediatric Dentistry Orthodontics',\n",
       " 'floating waste proper waste disposal waste larger waste Great Lakes',\n",
       " 'sustainable homes most 3D home builders homes exact production processes Los Angeles',\n",
       " 'social media companies Bernstein analyst Mark Shmulik market perform night Mark Shmulik',\n",
       " 'user numbers internal company documents most users users Horizon Worlds',\n",
       " 'age verification ages digital security risks online pornography cyber security issues',\n",
       " 'Twitter Twitter CEO Parag Agrawal San Francisco finance chief Ned Segal sources',\n",
       " 'Windows XP Windows plain old Windows uncertain economic times time',\n",
       " 'camera productivity paranoia last year human workers productivity',\n",
       " 'market cap Meta education Facebook revenue',\n",
       " 'Google Search Google Google Keyword online search market share related searches',\n",
       " 'content moderation automated content moderation tools certain content moderation Twitter employees Bloomberg News',\n",
       " 'Apple withholding benefits withheld benefits withholding benefits benefits Apple stores',\n",
       " 'election content election misinformation elections major elections recent election cycles',\n",
       " 'last quarter stronger revenue growth business messaging many years Big Tech stocks',\n",
       " 'other Meta apps independent outage monitor Down Detector Down Detector WhatsApp app',\n",
       " 'Q4 iPhone revenue iPhone supply Q4 iPhone YoY iPhone revenue rates:“The foreign exchange headwinds',\n",
       " 'election misinformation election misinformation measures more misinformation election content misinformation',\n",
       " 'Duty games Call Duty Activision Blizzard COD publisher Activision Blizzard',\n",
       " 'TikTok Republican Commissioner Brendan Carr U.S. social media companies Meta shares Federal Communications',\n",
       " 'Facebook core Facebook acquisitions Facebook companies years',\n",
       " 'unwanted text messages illegal text messages spoofed text messages 2022.\"Unwanted text messages Scam texts',\n",
       " 'earlier years years many years Meta shares Facebook parent Meta Platforms',\n",
       " 'Vine New Twitter owner Elon Musk video videos social video behemoth TikTok',\n",
       " 'DNA profiles DNA databases DNA composite profiles DNA DNA phenotyping',\n",
       " 'digital advertising social networking highest priority more attention costs',\n",
       " 'year the next year Facebook workers Meta funding Meta Quest',\n",
       " 'Netflix ads shows films attractive new films ads',\n",
       " 'Meta’s market value Meta’s market cap Meta’s stock crash companies crisis',\n",
       " 'Stadia Pro Stadia’s technology Stadia streaming games Stadia’s approach',\n",
       " 'election disinformation Meta Meta co Brazilian election misinformation ads social media giants Meta',\n",
       " 'Big Tech companies tech companies tech platforms Gerard de Graaf de Graaf',\n",
       " 'advertising spending back spending employee travel course corrections slowing growth',\n",
       " 'app developers other apps app apps app store',\n",
       " 'former U.S. President Donald Trump last year Twitter Donald Trump Elon Musk',\n",
       " 'virtual reality headsets Zuckerberg Meta CEO Mark Zuckerberg Privacy PolicyMark Zuckerberg Mark Zuckerberg',\n",
       " 'contact information personal contact information phone number parent firm Meta Meta',\n",
       " 'social media apps other apps app apps iOS app developers',\n",
       " 'Chinese intelligence agents Guochun He China intelligence officers Huawei cases',\n",
       " 'Meta other things Facebook Facebook apps other ways',\n",
       " 'worked night shifts Investigative Journalism future employment prospects Loading Something human faces',\n",
       " 'drug dealers fentanyl further details Snapchat marketing emails',\n",
       " 'US user data user location data US users user privacy U.S. users',\n",
       " 'Instagram users confused users your Instagram account Twitter',\n",
       " 'OnlyFans watermarks OnlyFans other sites BBC Newsnight BBC',\n",
       " 'Users users user complaints few other users Most users',\n",
       " 'face masks mask fit mask masks surgical masks',\n",
       " 'internal organs higher resolution images various internal organs ultrasound imaging live images',\n",
       " 'reduced blood oxygen saturation blood oxygen measurements Apple Watch Series peripheral blood oxygen saturation SpO',\n",
       " 'optrode technology conventional electrodes conventional wire electrodes neural signals nerve impulses',\n",
       " 'unique facial features facial recognition technology meat processing individualised food veterinary care',\n",
       " 'non-quantum versions more accurate accelerometers unavailableA quantum accelerometer quantum effects Accelerometers',\n",
       " 'major blood vessels changing sizes ultrasound images today’s ultrasound imaging technology wearable ultrasound technologies major blood vessels',\n",
       " 'known quantum systems brain processes Quantum brain processes Brain water quantum processes',\n",
       " 'other quantum systems qubit states quantum computing quantum phenomena quantum',\n",
       " 'eye disease eye scans eye blood tests high blood pressure',\n",
       " 'stem cells brain cells induced pluripotent stem cells stem cell models pluripotent stem cell models',\n",
       " 'DARPA programs DARPA’s work DARPA officials DARPA researchers DARPA',\n",
       " 'New York University Grossman School cryonics naive Dr Arthur Caplan Professor Alcor Life Extension Foundation damage',\n",
       " 'sensor data cheap phones last year less data minutes',\n",
       " 'rat brain cells brain cells brain circuits brains specific brain regions',\n",
       " 'activity no activity real time so many more research areas a comprehensive way',\n",
       " 'consumer wearables consumer biowearables glucose CGM hardware non-medical purposes',\n",
       " 'Mawi Heart Patch other patches Mawi monitoring time amazing results',\n",
       " 'blood cells blood cells types peripheral blood smears blood diseases Aurum Ventures',\n",
       " 'Animal health animal health Animal genetics companies cow cows',\n",
       " 'blood pressure measurements blood pressure non-invasive blood glucose blood pressure metrics non-invasive blood glucose monitoring',\n",
       " 'human neocortical pyramidal neurons human neurons human brain cells Merrett Pye +61 human layer',\n",
       " 'heart cells heart stem cells ventricle heart cells atrial heart cells right ventricle heart cells',\n",
       " 'activity no activity real time so many more research areas a comprehensive way',\n",
       " 'known quantum systems brain processes \"Quantum brain processes brain water quantum processes',\n",
       " 'blood glucose level measurement noninvasive blood glucose analysis Blood glucose monitoring blood glucose monitoring blood sugar levels',\n",
       " 'other relevant metrics other rehabilitation regimens structured clinical measurements other projects other forms',\n",
       " 'tiny photovoltaic cells light dark areas enough energy smart lenses',\n",
       " 'Phantom limb pain phantom pain pain pain medication whose phantom limb pain',\n",
       " 'safer surgery surgeries surgical procedures class surgical procedures specific surgical procedures',\n",
       " 'other potential existential threats brain interfaces brain control interfaces Musk other words',\n",
       " 'liver cells functioning liver cells such liver cells culturable liver cells healthy liver cells',\n",
       " 'South Dakota North Dakota Minnesota other new strategic markets Tyto Care',\n",
       " 'dual chamber wireless pacemaker Dual chamber pacemakers Wireless pacemaker patients wireless pacemaker wireless pacemakers',\n",
       " 'medical devices medical device makers smart medical devices proper device performance Most modern devices',\n",
       " 'powerful machine learning models decoding brain signals San Francisco brain-computer interface technology today',\n",
       " 'hospitalized patients U.S. veterans COVID medical records brain health',\n",
       " 'monkeypox virus virus isolation infectious virus virus virus DNA',\n",
       " 'cow salivary glands Getty ImagesA lubricant healthy human cells human epithelial cells anti-viral properties',\n",
       " 'cancer cells cancer cell characteristics bowel cancers cancer cancers',\n",
       " 'stem cells clinical grade stem cells mesenchymal stem cells fetal surgery cells',\n",
       " 'colorectal cancer related death underwent screening the invited group colonoscopy',\n",
       " 'tumor cells T cells T cell attack cells healthy cells',\n",
       " 'cancer cells certain cancer cells advanced cancers cancer other treatments',\n",
       " 'Omicron variants Omicron infections Ben Murrell variants neutralizing antibodies',\n",
       " 'colorectal cancer most colorectal cancer cases human cells human DNA cancer',\n",
       " 'tumor cells tumor cell formation tumor reactive T cells T cell T cells',\n",
       " 'Breast cancer death rates Cancer incidence ratesOverall incidence rates cancer incidence cancer deaths pancreatic cancer',\n",
       " 'cancer screening studies cancer screening cancer prevention cancer healthy tests',\n",
       " 'cancer vaccines mRNA cancer vaccines several cancer vaccines Covid vaccine Covid vaccines',\n",
       " 'face insurance companies Syounika Online future growth Parents',\n",
       " 'new virus copies CD4 cells immune cells vital CD4 cells Crispr gene editing',\n",
       " 'cancer patients multiple cancers cancer cancers multiple cancer types',\n",
       " 'personal grief grief pandemic grief profound grief grief experts',\n",
       " 'vaccine hesitancy COVID-19 vaccine uptake vaccine home health setting specific concerns',\n",
       " 'Long COVID symptoms long COVID months difficulty breathing symptoms lingering symptoms',\n",
       " 'long COVID Dr. Al Aly long COVID research long COVID symptoms COVID',\n",
       " 'Columbia University economist Jeffrey Sachs animal farms wild animals different possible origins Columbia University',\n",
       " 'remote work work offices productivity fall more time',\n",
       " 'HPV vaccines Cervical cancer cervical cancer cervical cancers Reuters partner ANI',\n",
       " 'Johnson COVID-19 vaccination various COVID-19 vaccines COVID-19 infection mRNA COVID-19 vaccination',\n",
       " 'LiCl treatment LiCl treatment enhanced respiration LiCl supplementation LiCl SERCA energy expenditure',\n",
       " 'Flu vaccines conserved influenza proteins vaccines different influenza strains “The vaccines',\n",
       " 'scientific journals scientific data presumed trustful scientific journals scientific literature scientific disinformation',\n",
       " 'healthy kidney cells healthy cells pancreatic cells cells cell membranes',\n",
       " 'cancer vaccines personalized cancer vaccine personalized cancer vaccines cancer cells COVID-19 vaccines',\n",
       " 'multiple doses vaccine booster shots clinical malaria Oxford’s malaria vaccine',\n",
       " 'COVID-19 status other public health measures Salt Lake City Health Care System U Health VA Salt Lake City Health Care System',\n",
       " 'influenza illness influenza vaccination seasonal influenza vaccination influenza vaccine influenza vaccines',\n",
       " 'political party power COVID-19 health outcomes political power political metrics COVID-19 mortality rates',\n",
       " 'cancer tumors cancer treatment Pancreatic cancer pancreatic cancer tumor cells',\n",
       " 'more sleep problems more bedtime procrastination sleep problems Bedtime procrastination bedtime procrastination',\n",
       " 'Paris Brain Institute rewards effort efforts Inserm researcher',\n",
       " 'Pro-environmental Behavior pro-environmental behaviors pro-environmental attitudes dark personality traits light personality traits',\n",
       " 'perceived scarcity Economic scarcity economic scarcity Black faces scarcity',\n",
       " 'cardiovascular responses expressed gratitude other tasks cardiovascular stress responses individual performance task',\n",
       " 'increasing authenticity authenticity valuable life advice Study study',\n",
       " 'single people people most people study author Menelaos Apostolou other cultural contexts',\n",
       " 'mental health mental health benefits mental health conditions mental wellbeing College London',\n",
       " 'brain plasticity healthy brains brain injury Georgetown University Medical Center Tagged brain',\n",
       " 'interpersonal attachment interpersonal attachment styles emotional attachment mental health burden mental health',\n",
       " 'military pilots pilot training pilots American pilots Trait emotional intelligence',\n",
       " 'ADHD remission ADHD symptoms Brain changes brain changes reduced ADHD symptoms',\n",
       " 'Jari Tiihonen high psychopathy higher mortality mortality risk low psychopathy',\n",
       " 'Adjustment disorder adjustment disorder adjustment disorders certain anxiety disorders Alain Brunet',\n",
       " 'childhood abuse childhood age childhood trauma childhood experience childhood',\n",
       " 'social comparison social comparisons healthier social comparison social comparison practices upward social comparisons',\n",
       " 'depressive episodes brain regions lifetime depressive episodes recurrent depressive episodes depressive disorder',\n",
       " 'high social status low social status social status high social class low social class',\n",
       " 'different speech sounds speech further language development delayed language development early language development',\n",
       " 'Johannes Gutenberg University Mainz young children children primary school teaching short training unitsAn international team',\n",
       " 'Karolinska Institutet more detail defence system defence systems Clinical Neuroscience',\n",
       " 'Social support social Support social support support Withholding support',\n",
       " 'ADHD children brain connectivity pattern functional brain connectivity abnormal brain connectivity brain regions',\n",
       " 'Video games video games video gamers existing games games',\n",
       " 'video game video games more brain activity video gaming behavior brain activity',\n",
       " 'community water fluoridation water fluoridation fluoridated water child dental health child development',\n",
       " 'post-hoc test effect sizes intermediate effect size small effects missing digit span interaction effects type',\n",
       " 'landmark tasks included participants Participants participants shallow encoding task',\n",
       " 'work hours long work hours depression symptoms work weeks rangeThe more hours',\n",
       " 'expectation effects regular nightmares such regular nightmares Nightmares nightmares',\n",
       " 'dyslexia complex traits dyslexia’s potential genetic associations Yale University Michelle Luciano',\n",
       " 'et al schizophrenia patients Schizophrenia schizophrenia chronic schizophrenia',\n",
       " 'stroke hemorrhagic stroke More Years Years years',\n",
       " 'more blue space experiences blue spaces more childhood blue space experiences better mental health adult mental health',\n",
       " 'outlook dot com 3E69 C4A7 EC91 611B 5C12 edd dot gent 611B 5C12 India',\n",
       " 'pre-market trading prior profitability targets markets U.S. crypto exchange Coinbase today',\n",
       " 'new funding real estate investing apps global fintech funding activity fintech news real estate',\n",
       " 'Shield AI defense technology companies Shield AI’s pilot Shield AI’s SVB Capital',\n",
       " 'monthly startup expenses San Francisco Bay Area startups SaaS startups Ukrainian tech startups fintech companies',\n",
       " 'portfolio companies post-investment portfolio company guidance most companies companies huge problems',\n",
       " 'device device makers retiring passwords password passwords',\n",
       " 'RealOpen CMO Quinn crypto transactions RealOpen’s sellers Dumontet',\n",
       " 'Infinity Ventures new rounds Avid Ventures fintech venture investors extension rounds',\n",
       " 'other crypto projects rising crypto prices other industry players other creditors stringent leverage requirements',\n",
       " 'fintech companies tech companies technology companies valuable companies companies',\n",
       " 'space startups space companies venture capital investments space technology development space businesses',\n",
       " 'SEC new investors retail investors many investors federal securities laws',\n",
       " 'aspiring immigrant founders Plutoshift founder Prateek Joshi AppDynamics years founder founders',\n",
       " 'proven founders founders many early founders fintech Money',\n",
       " 'Siebel Scholar Arjay Miller Scholar fintech companies local Minneapolis startups local startups',\n",
       " 'former Unilever CEO Paul Polman shipping data firm Nautilus Labs fossil fuels former Goldman executive Irena Spazzapan Paul Polman',\n",
       " 'seed deals various startup sectors deals sense good news',\n",
       " 'decentralised infrastructure Ethereum blockchain firm Quant whitepaper release crypto history',\n",
       " 'existing financial apps consumer data financial services essential financial services financial institutions',\n",
       " 'fintech companies fintech specific fintech pain points non-financial services companies Infrastructure providers',\n",
       " 'fintech products product market fit cryptocurrency products companies early customers',\n",
       " 'Silicon Valley Dow Jones MarketWatch San Francisco social networking cloud computing',\n",
       " 'based identity verification company more KYC products new automated compliance products identity verification compliance checks issues',\n",
       " 'Digital credit fintech fintech startups fintech stocks fintech news fintech',\n",
       " 'year companies Net Purpose founder Investing platform 22% year',\n",
       " 'wildfire solutions fire tech companies increasing wildfires Wildfires wildfire',\n",
       " 'fraud platforms crypto startup Ranjan Soups Ranjan customers',\n",
       " 'deep tech startups numerous other deep tech companies seed deep tech startups New Zealand Deep tech',\n",
       " 'ADVERTISEMENTCentral bank digital currencies other digital assets digital assets existing digital money financial markets',\n",
       " 'Climate tech founding partner Rokas Peciulaitis fossil fuel companies tech investor Contrarian Ventures tech',\n",
       " 'good news tater tots European edtech episodes many industries?After',\n",
       " 'Emirates Crop One Emirates Crop vertical farms Emirates Flight Crop One',\n",
       " 'urban spaces Bowery Farming founder CEO Irving Fain Irving Fain Bowery Farming',\n",
       " 'insect swarms swarm electric fields relative pixel density data',\n",
       " 'new products products sequence microbes diverse microbes Scott Uknes',\n",
       " 'many plant ailments plants new antibiotic compounds other antibiotic compounds fungal disease',\n",
       " 'FLS’s tree seed resource manager new trees trees outside parties Alder seedlings',\n",
       " 'other local grocers its market value grocery stores reported U.S. grocery sales the chief growth officer role',\n",
       " 'purple tomatoes delicious purple tomatoes tomatoes normal tomatoes regular tomatoes',\n",
       " 'genome editing technologies plant genomes fewer crop losses crop varieties food producers',\n",
       " 'Blue River’s technology Blue River’s Blue River Other Blue River machines Blue River Technology',\n",
       " 'gene expression synthetic cell technology ribozyme activity enzyme catalysis synthetic biology',\n",
       " 'Whole Planet Foundation Greater Impact Foundation Mulago Foundation farmers partner agribusinesses',\n",
       " 'broiler chicken chickens large farms Cooks Venture grains',\n",
       " 'PairWise kale PairWise greens fruit trees PairWise products mustard greens',\n",
       " 'various weather patterns consideration weather patterns extreme weather events plants irrigation events',\n",
       " 'animal management chief executive officer farm management chief revenue officer Justin Webb',\n",
       " 'climate change Indian food security food security biological crop protection solutions food waste',\n",
       " 'human food insect proteins food insecurity healthy food food',\n",
       " 'new farmers new services organic farmers new products Farmers',\n",
       " 'next year farmers vertical farming applications data collection more data',\n",
       " 'AgriFood companies AgriFood investing venture capital Venture investors AgriFood',\n",
       " 'food production sustainable food production food products energy production costs food supplies',\n",
       " 'Astanor ventures historical crop yield data greater crop yields more crops food production',\n",
       " 'plant diseases plant antibiotics plants growing global food supply needs ground water',\n",
       " 'animal cells cell growth animal products fed animal serum other animal products',\n",
       " 'inflammatory bowel disease fewer emergency room visits cannabis use Clinical Gastroenterology emergency room visits',\n",
       " 'Combustible tobacco use combustible tobacco use tobacco use tobacco users combustible tobacco products',\n",
       " 'opioid receptors non-opioid pain relief pain relief known opioid receptors non-opioid pain medication',\n",
       " 'reduced nicotine content cigarettes nicotine content reduced nicotine absorption nicotine nicotine addiction',\n",
       " 'alcohol delivery maximum alcohol alcohol consumption responsible alcohol consumption alcohol',\n",
       " 'child health child health equity food insufficiency greater food insufficiency public health',\n",
       " 'excessive alcohol use alcohol consumption alcohol alcohol poisoning healthier alcohol choices',\n",
       " 'CKD pregnancies CKD patients CKD stage CKD unrestricted diets',\n",
       " 'Weight loss drugs Safer weight loss drugs weight loss surgery weight loss weight',\n",
       " 'mental health symptoms adverse mental health symptoms mental health mental health outcomes worse mental health outcomes',\n",
       " 'many creative ideas increased creativity Creativity creativity actual creativity',\n",
       " 'dementia risk vascular dementia Alzheimer’s disease studies dementia',\n",
       " 'muscle biopsies thigh muscle biopsies muscle biopsy donors state selecting muscle biopsies thigh muscle',\n",
       " 'pathological low body weight microRNA-7 microRNA-7.Like genes gene variants genes protein form',\n",
       " 'gut microbes typical unhealthy snacks whole almonds specific types human health',\n",
       " 'food assistance food assistance programs food security food increased food security',\n",
       " 'cannabis stores cannabis cannabis imports German cannabis firm SynBiotic Germany',\n",
       " 'reduced body weight body weight reduction body weight significant body weight changes mild body weight reduction',\n",
       " 'cannabis risk state RCLs trait impulsivity religiosity cannabis use',\n",
       " 'state cannabis policies state policies state cannabis such states states',\n",
       " 'sperm motility sperm volume deficiency total sperm motility sperm density sperm concentration',\n",
       " 'et al brain insulin resistance brain homeostasis brain brain alters',\n",
       " 'hot flash symptoms reduced severe hot flashes Hot flashes hot flashes severe hot flashes',\n",
       " 'higher intake total fat intake food intake pro-inflammatory effects SFA intake',\n",
       " 'Russia Luna missions lunar missions orbiting mission mission China',\n",
       " 'Blue Moon Moon private space companies younger space companies commercial companies entrepreneurs',\n",
       " 'asteroids asteroid moonlet Dimorphos many more asteroids several NASA missions NASA scientists',\n",
       " 'American astronauts Advanced Space Suit Engineer Moon space greater range',\n",
       " 'spacesuit production external industry sources spacesuits industry partners future Mars exploration',\n",
       " 'New Glenn Dave Limp low Earth orbit European firm Arianespace Limp',\n",
       " 'water sources water water emit photons Moon NASA',\n",
       " 'Venus flight service provider NASA Jet Propulsion Laboratory space platforms',\n",
       " 'Didymos Near Earth Objects defensive satellites true planet-killer asteroids planetary defense',\n",
       " 'fusion energy fusion Helium-3 fusion energy climate change',\n",
       " 'company company co deep space orbits low Earth orbit space equipment',\n",
       " 'smaller satellites enabling satellites other novel technology space propulsion satellites',\n",
       " 'Smaller asteroids NASA scientists asteroid many more asteroids NASA',\n",
       " 'Venus NASA phosphine enough intrigue interest',\n",
       " 'DART asteroid mission DART mission systems engineer DART team members asteroid Didymos DART',\n",
       " 'Earth bad weather the next Artemis I rocket launch attempt October 11th Space Launch System',\n",
       " 'satellites multiple satellites Humphreys synchronization sequences repeating signals',\n",
       " 'prior launch attempts launch day launch Artemis mission manager NASA officials',\n",
       " 'next year Florida Japanese lunar exploration company ispace U.S. companies next month',\n",
       " 'jumbled data interstellar space safe mode Deep Space Network AACS',\n",
       " 'climate legislation other climate programs major climate legislation climate policy most catastrophic outcomes',\n",
       " 'solar power years direct air capture other climate tech climate tech investments',\n",
       " 'regulated waters other regulated waters interstate waters water resources continuous surface water connections',\n",
       " 'fossil fuel companies account fossil fuel companies fossil fuel emissions high energy costs Mr Guterres',\n",
       " 'biodiversity loss biodiversity Animal populations animal populations wildlife populations',\n",
       " 'Inflation Reduction Act Breakthrough Energy Ventures climate negotiations law climate tech',\n",
       " 'recent years renewable companies companies fossil fuels President Joe Biden',\n",
       " 'existential risk existential risks nuclear risk existential security risks',\n",
       " 'climate change total climate spending IRA managing climate change future climate regulation',\n",
       " 'climate action climate impacts climate change climate tipping points severe climate impacts',\n",
       " 'climate change global climate agreements U.S. carbon emissions carried interest next year',\n",
       " 'agriculture emissions agricultural emissions greenhouse gas emissions Primary Sector Climate Action Partnership New Zealand',\n",
       " 'building system building buildings sustainable materials CO',\n",
       " 'car companies Oil companies oil companies carbon intensive carmakers indirect emissions',\n",
       " 'more ozone ozone much ozone more ozone depletion ozone depletion',\n",
       " 'old scanned documents documents recent years 3x year email databases',\n",
       " 'outside legal counsel outside counsel lawyers vetted lawyers former general counsel',\n",
       " 'client management system adjacent systems systems time management different different backgrounds',\n",
       " 'archival service signature Leeway customers several business angels multiple negotiation steps',\n",
       " 'contract reviews contract language contracts contract reviewing vendor agreements',\n",
       " 'law firms Notable Labs traditional law firms most law firms startups',\n",
       " 'lawyer services Atrium’s lawyers Atrium clients professional service providers Atrium Kan',\n",
       " 'Sequoia Capital existing investors Emergence Capital legal documents Workflow Designer',\n",
       " 'state court records court cases flagged cases case cases',\n",
       " 'Law firms law firms digital client experiences business processes better client experience',\n",
       " 'legal disputes legal technology legal tech legal tech startups Co-founder Rich Lee',\n",
       " 'party rooms New Zealand government agencies New Zealand legal client floors European markets',\n",
       " 'contract analysis Contracts contracts flagging compliance risks legal risks',\n",
       " 'legal document review company president Richard DeFrancisco law firms document tagging documents',\n",
       " 'legal tools doc automation tools simple legal procedures employment law legal aid',\n",
       " 'pill founder Ida Tin Ida Tin Tin Young women',\n",
       " 'better autism outcomes full FDA clearance machine learning models more data Parents',\n",
       " 'founders building products Blossom Capital partner Louise Samet products founders Blossom Capital',\n",
       " 'Natural Cycles Natural Cycles users Natural Cycles Nordic AB Natural Cycles Nordic AB Sweden birth control methods',\n",
       " 'Ben-Tsur Lior Ben-Tsur company building chronic constipation insurance companies',\n",
       " 'birth control delivery services other birth control delivery apps birth control birth control coverage birth',\n",
       " 'Social Impact Capital fertility apps promising women’s health tech companies Fertility fertility',\n",
       " 'YouTube health features health information helpful health content YouTube Health Source YouTube Health Sources',\n",
       " 'Women women more women body positivity Fur addresses body hair',\n",
       " 'health issues reproductive health health technology holistic health heart health',\n",
       " 'product expectations perfumed products leading product strategy products period care',\n",
       " 'medical device data medical devices individual medical devices medical device management device manufacturers',\n",
       " 'prostate cancer patients Mednet experts other cancer researchers Cancer experts']"
      ]
     },
     "execution_count": 146,
     "metadata": {},
     "output_type": "execute_result"
    }
   ],
   "source": [
    "abstract_rank_words"
   ]
  },
  {
   "cell_type": "code",
   "execution_count": 147,
   "metadata": {},
   "outputs": [],
   "source": [
    "df['abstract_textrank'] = abstract_rank_words"
   ]
  },
  {
   "cell_type": "code",
   "execution_count": 148,
   "metadata": {},
   "outputs": [],
   "source": [
    "df.to_csv(r\"C:\\Users\\Ravit\\Documents\\rnd\\horizon_scanning_lab\\articles\\analyze_Articles\\final_results\\bertopic\\article_bertopic_titles_textrank_final.csv\")"
   ]
  },
  {
   "cell_type": "code",
   "execution_count": null,
   "metadata": {},
   "outputs": [],
   "source": []
  }
 ],
 "metadata": {
  "kernelspec": {
   "display_name": "Python 3.9.12 ('base')",
   "language": "python",
   "name": "python3"
  },
  "language_info": {
   "codemirror_mode": {
    "name": "ipython",
    "version": 3
   },
   "file_extension": ".py",
   "mimetype": "text/x-python",
   "name": "python",
   "nbconvert_exporter": "python",
   "pygments_lexer": "ipython3",
   "version": "3.9.13"
  },
  "orig_nbformat": 4,
  "vscode": {
   "interpreter": {
    "hash": "ad2bdc8ecc057115af97d19610ffacc2b4e99fae6737bb82f5d7fb13d2f2c186"
   }
  }
 },
 "nbformat": 4,
 "nbformat_minor": 2
}
