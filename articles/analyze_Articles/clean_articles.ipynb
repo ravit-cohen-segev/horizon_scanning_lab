{
 "cells": [
  {
   "cell_type": "code",
   "execution_count": 1,
   "metadata": {},
   "outputs": [],
   "source": [
    "import pandas as pd \n",
    "import os"
   ]
  },
  {
   "cell_type": "code",
   "execution_count": 2,
   "metadata": {},
   "outputs": [],
   "source": [
    "reddit_path = r\"C:\\Users\\Ravit\\Documents\\rnd\\horizon_scanning_lab\\articles\\analyze_Articles\\reddit_articles_analysis\\final_results\"\n",
    "reddit_titles_path = os.path.join(reddit_path, \"titles_textrank_final.csv\")\n",
    "reddit_texts_path = os.path.join(reddit_path, \"texts_textrank_final.csv\")"
   ]
  },
  {
   "cell_type": "code",
   "execution_count": 3,
   "metadata": {},
   "outputs": [],
   "source": [
    "#manually clean urls that are not contibuting to the ET project\n",
    "reddit_titles = pd.read_csv(reddit_titles_path) "
   ]
  },
  {
   "cell_type": "code",
   "execution_count": 6,
   "metadata": {},
   "outputs": [],
   "source": [
    "reddit_links = list(set(reddit_titles['article_link'].to_list()))"
   ]
  },
  {
   "cell_type": "code",
   "execution_count": 9,
   "metadata": {},
   "outputs": [
    {
     "data": {
      "text/plain": [
       "['https://www.vox.com/recode/2022/10/13/23402334/weaponized-robots-boston-dynamics-drones',\n",
       " 'https://www.aan.com/PressRoom/Home/PressRelease/5025',\n",
       " 'https://www.theregister.com/2022/11/02/windows_11_statcounter/',\n",
       " 'https://futurism.com/garth-illingworth-james-webb',\n",
       " 'https://www.pv-magazine.com/2022/10/27/new-solar-capacity-10-times-cheaper-than-gas-says-rystad/',\n",
       " 'https://www.macrumors.com/2022/10/24/eu-gives-final-approval-to-usb-c-law/',\n",
       " 'https://arstechnica.com/information-technology/2022/09/better-than-jpeg-researcher-discovers-that-stable-diffusion-can-compress-images/',\n",
       " 'https://pv-magazine-usa.com/2022/10/13/global-polysilicon-capacities-may-nearly-double-by-end-of-2023-to-536-gw/',\n",
       " 'https://www.theguardian.com/world/2022/oct/27/megalopolis-how-coastal-west-africa-will-shape-the-coming-century?CMP=longread_email',\n",
       " 'https://www.heinz.cmu.edu/media/2022/October/air-pollution-levels-declined-when-u.s.-embassies-installed-monitors-abroad-and-tweeted-readings']"
      ]
     },
     "execution_count": 9,
     "metadata": {},
     "output_type": "execute_result"
    }
   ],
   "source": [
    "reddit_links[:10]"
   ]
  },
  {
   "cell_type": "code",
   "execution_count": null,
   "metadata": {},
   "outputs": [],
   "source": [
    "reddit_links_to_remove = ['https://www.aan.com/PressRoom/Home/PressRelease/5025', 'https://www.theregister.com/2022/11/02/windows_11_statcounter/', 'https://futurism.com/garth-illingworth-james-webb',\n",
    "'https://www.macrumors.com/2022/10/24/eu-gives-final-approval-to-usb-c-law/', 'https://arstechnica.com/information-technology/2022/09/better-than-jpeg-researcher-discovers-that-stable-diffusion-can-compress-images/', ]"
   ]
  }
 ],
 "metadata": {
  "kernelspec": {
   "display_name": "Python 3.9.13 ('base')",
   "language": "python",
   "name": "python3"
  },
  "language_info": {
   "codemirror_mode": {
    "name": "ipython",
    "version": 3
   },
   "file_extension": ".py",
   "mimetype": "text/x-python",
   "name": "python",
   "nbconvert_exporter": "python",
   "pygments_lexer": "ipython3",
   "version": "3.9.13"
  },
  "orig_nbformat": 4,
  "vscode": {
   "interpreter": {
    "hash": "ad2bdc8ecc057115af97d19610ffacc2b4e99fae6737bb82f5d7fb13d2f2c186"
   }
  }
 },
 "nbformat": 4,
 "nbformat_minor": 2
}
