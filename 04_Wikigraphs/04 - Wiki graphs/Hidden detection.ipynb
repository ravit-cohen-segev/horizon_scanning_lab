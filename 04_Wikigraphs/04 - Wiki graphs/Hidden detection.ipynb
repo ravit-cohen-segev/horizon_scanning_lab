{
 "cells": [
  {
   "cell_type": "code",
   "execution_count": 1,
   "id": "dbd83add",
   "metadata": {},
   "outputs": [],
   "source": [
    "import pywikibot as pw\n",
    "site = pw.Site('en', 'wikipedia')"
   ]
  },
  {
   "cell_type": "code",
   "execution_count": 4,
   "id": "e5106380",
   "metadata": {},
   "outputs": [],
   "source": [
    "def check_hidden(name):\n",
    "    p=pw.Category(site, name.replace(\" \",\"_\"))\n",
    "    if 'hidden' not in p.categoryinfo:\n",
    "        return False\n",
    "    else:\n",
    "        return True"
   ]
  },
  {
   "cell_type": "code",
   "execution_count": 5,
   "id": "280b77f2",
   "metadata": {},
   "outputs": [
    {
     "data": {
      "text/plain": [
       "False"
      ]
     },
     "execution_count": 5,
     "metadata": {},
     "output_type": "execute_result"
    }
   ],
   "source": [
    "name=\"3D printing\"\n",
    "check_hidden(name)"
   ]
  },
  {
   "cell_type": "code",
   "execution_count": 6,
   "id": "bfcc3b06",
   "metadata": {},
   "outputs": [
    {
     "data": {
      "text/plain": [
       "True"
      ]
     },
     "execution_count": 6,
     "metadata": {},
     "output_type": "execute_result"
    }
   ],
   "source": [
    "name=\"Commons_category_link_is_on_Wikidata\"\n",
    "check_hidden(name)"
   ]
  }
 ],
 "metadata": {
  "kernelspec": {
   "display_name": "Python 3 (ipykernel)",
   "language": "python",
   "name": "python3"
  },
  "language_info": {
   "codemirror_mode": {
    "name": "ipython",
    "version": 3
   },
   "file_extension": ".py",
   "mimetype": "text/x-python",
   "name": "python",
   "nbconvert_exporter": "python",
   "pygments_lexer": "ipython3",
   "version": "3.9.1"
  }
 },
 "nbformat": 4,
 "nbformat_minor": 5
}
