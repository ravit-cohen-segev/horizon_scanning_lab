{
 "cells": [
  {
   "cell_type": "code",
   "execution_count": 10,
   "id": "c20e4b7e",
   "metadata": {},
   "outputs": [],
   "source": [
    "#wiki dump - convert a wikipedia dump to csv - kwnlp_sql_parser not working need to replace or updated\n",
    "#For now the conversion of sql in the gz to csv is done manually\n",
    "import pandas as pd\n",
    "from kwnlp_sql_parser import WikipediaSqlDump\n",
    "import os"
   ]
  },
  {
   "cell_type": "code",
   "execution_count": 11,
   "id": "fe644e48",
   "metadata": {},
   "outputs": [],
   "source": [
    "#sql.gz file is downloaded directly from wikidumps\n",
    "file_path = r\"C:\\Users\\Ravit\\Documents\\horizon_scanning_lab\\04_Wikigraphs\\04 - Wiki graphs\\examples\"\n",
    "file_save = \"enwiki-20220601-categorylinks.sql.gz\"\n",
    "save_path = os.path.join(file_path, file_save)\n",
    "wsd = WikipediaSqlDump(save_path)\n",
    "wsd.to_csv(save_path)"
   ]
  },
  {
   "cell_type": "code",
   "execution_count": null,
   "id": "4c49e575",
   "metadata": {},
   "outputs": [],
   "source": []
  }
 ],
 "metadata": {
  "kernelspec": {
   "display_name": "Python 3.10.5 ('jupyterlab-debugger')",
   "language": "python",
   "name": "python3"
  },
  "language_info": {
   "codemirror_mode": {
    "name": "ipython",
    "version": 3
   },
   "file_extension": ".py",
   "mimetype": "text/x-python",
   "name": "python",
   "nbconvert_exporter": "python",
   "pygments_lexer": "ipython3",
   "version": "3.10.5"
  },
  "vscode": {
   "interpreter": {
    "hash": "ef928fb0309b56f37ec287262cf8882471308b50f129b556134aa20b67adca13"
   }
  }
 },
 "nbformat": 4,
 "nbformat_minor": 5
}
