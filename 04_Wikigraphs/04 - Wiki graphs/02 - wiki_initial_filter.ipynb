{
 "cells": [
  {
   "cell_type": "code",
   "execution_count": 12,
   "id": "56368b95",
   "metadata": {},
   "outputs": [],
   "source": [
    "import pandas as pd\n",
    "import sys\n",
    "import tqdm\n",
    "from IPython.display import clear_output"
   ]
  },
  {
   "cell_type": "code",
   "execution_count": null,
   "id": "156910a0",
   "metadata": {},
   "outputs": [
    {
     "name": "stdout",
     "output_type": "stream",
     "text": [
      "137 (44521, 7)\n"
     ]
    }
   ],
   "source": [
    "filename=\"enwiki-20211031-categorylinks.csv\"\n",
    "chunksize = 10 ** 6\n",
    "i=0\n",
    "lst=[]\n",
    "with pd.read_csv(filename, chunksize=chunksize) as reader:\n",
    "    for chunk in reader:\n",
    "        dff=chunk[chunk[\"cl_type\"]==\"subcat\"] # keep only categories, other options: file,page\n",
    "        clear_output(wait=True)\n",
    "        print(i,dff.shape)\n",
    "        i+=1\n",
    "        if dff.shape[0]>0:\n",
    "            lst.append(dff.copy)"
   ]
  },
  {
   "cell_type": "code",
   "execution_count": null,
   "id": "8c3c8845",
   "metadata": {},
   "outputs": [],
   "source": []
  }
 ],
 "metadata": {
  "kernelspec": {
   "display_name": "Python 3 (ipykernel)",
   "language": "python",
   "name": "python3"
  },
  "language_info": {
   "codemirror_mode": {
    "name": "ipython",
    "version": 3
   },
   "file_extension": ".py",
   "mimetype": "text/x-python",
   "name": "python",
   "nbconvert_exporter": "python",
   "pygments_lexer": "ipython3",
   "version": "3.9.1"
  }
 },
 "nbformat": 4,
 "nbformat_minor": 5
}
